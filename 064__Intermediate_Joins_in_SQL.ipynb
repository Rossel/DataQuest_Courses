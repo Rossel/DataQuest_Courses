{
  "nbformat": 4,
  "nbformat_minor": 0,
  "metadata": {
    "colab": {
      "name": "064__Intermediate_Joins_in_SQL",
      "provenance": [],
      "authorship_tag": "ABX9TyOvjzg8vXQKse61Iw3GkqP2",
      "include_colab_link": true
    },
    "kernelspec": {
      "name": "python3",
      "display_name": "Python 3"
    }
  },
  "cells": [
    {
      "cell_type": "markdown",
      "metadata": {
        "id": "view-in-github",
        "colab_type": "text"
      },
      "source": [
        "<a href=\"https://colab.research.google.com/github/Rossel/DataQuest_Courses/blob/master/064__Intermediate_Joins_in_SQL.ipynb\" target=\"_parent\"><img src=\"https://colab.research.google.com/assets/colab-badge.svg\" alt=\"Open In Colab\"/></a>"
      ]
    },
    {
      "cell_type": "markdown",
      "metadata": {
        "id": "_btM0gtu3sDF",
        "colab_type": "text"
      },
      "source": [
        "# COURSE 2/5: SQL FOR DATA ANALYSIS\n"
      ]
    },
    {
      "cell_type": "markdown",
      "metadata": {
        "id": "THaX315BT2wD",
        "colab_type": "text"
      },
      "source": [
        "# MISSION 2: Intermediate Joins in SQL"
      ]
    },
    {
      "cell_type": "markdown",
      "metadata": {
        "id": "qZmKsqF9oZFP",
        "colab_type": "text"
      },
      "source": [
        "*Learn how to join data from more complex databases and write more complex queries.*\n",
        "\n",
        "In this mission, we will learn how to work with databases with more than two tables, including how to:\n",
        "\n",
        "- write queries that join 3 or more tables\n",
        "- combine multiple joins with subqueries\n",
        "- create recursive joins\n",
        "- use `LIKE` to incorporate partial matches\n",
        "- generate conditional columns using `CASE`"
      ]
    },
    {
      "cell_type": "markdown",
      "metadata": {
        "id": "886yX6SKKIOr",
        "colab_type": "text"
      },
      "source": [
        "## 1. Working With Larger Databases"
      ]
    },
    {
      "cell_type": "markdown",
      "metadata": {
        "id": "eWZ3KidYKIcO",
        "colab_type": "text"
      },
      "source": [
        "In the previous mission we learned how to use joins to combine data from two tables within a database. In reality, most databases have more than 2 tables, so we'll need strategies to be able to write queries to combine data from 3 or more tables.\n",
        "\n",
        "In this mission we'll learn some new techniques to work with the sort of databases that most businesses will use. We'll be working with a modified version of a database called [Chinook](https://github.com/lerocha/chinook-database). The Chinook database contains information about a fictional digital music shop - kind of like a mini-iTunes store.\n",
        "\n",
        "The Chinook database contains information about the artists, songs, and albums from the music shop, as well as information on the shop's employees, customers, and the customers purchases. This information is contained in eleven tables. Like with our Factbook database, a schema diagram will help us understand the available columns and the structure of the data. Here's a schema diagram for the Chinook database:\n",
        "\n",
        "![alt text](https://s3.amazonaws.com/dq-content/189/chinook-schema.svg)\n",
        "\n",
        "Looking at all those tables can be overwhelming at first, but generally speaking we will only need to think about the specific tables that have the data we require and their connections. Before we look at some specific tables, let's take a moment to understand the different parts of the schema diagram.\n",
        "\n",
        "Tables names are shown in bold, with the columns in each table listed below.\n",
        "Each table has one or more columns with shading, which indicates those columns are a primary key. We'll learn more about primary keys in a later mission, but for now all you need to know is that each row's primary key must be unique.\n",
        "Relationships between tables are shown using lines between the tables. The lines indicate which columns are related. You may notice that at least one 'end' of the relationship will be a primary key.\n"
      ]
    },
    {
      "cell_type": "code",
      "metadata": {
        "id": "_LBr2rk1T0xR",
        "colab_type": "code",
        "colab": {}
      },
      "source": [
        "# Import functions from Google modules into Colaboratory\n",
        "!pip install -U -q PyDrive\n",
        "from pydrive.auth import GoogleAuth\n",
        "from pydrive.drive import GoogleDrive\n",
        "from google.colab import auth\n",
        "from oauth2client.client import GoogleCredentials\n",
        "\n",
        "# Authenticate and create the PyDrive client\n",
        "auth.authenticate_user()\n",
        "gauth = GoogleAuth()\n",
        "gauth.credentials = GoogleCredentials.get_application_default()\n",
        "drive = GoogleDrive(gauth)"
      ],
      "execution_count": 1,
      "outputs": []
    },
    {
      "cell_type": "code",
      "metadata": {
        "id": "pzy0-ZtPScNy",
        "colab_type": "code",
        "colab": {}
      },
      "source": [
        "# Insert file id from Google Drive shareable link:\n",
        "# https://drive.google.com/file/d/1edlG-tOLPxLEWP19dBmBp_NxRmc7GAcx/view?usp=sharing\n",
        "id = '1edlG-tOLPxLEWP19dBmBp_NxRmc7GAcx'"
      ],
      "execution_count": 2,
      "outputs": []
    },
    {
      "cell_type": "code",
      "metadata": {
        "id": "mspPJ_6QT1mi",
        "colab_type": "code",
        "colab": {}
      },
      "source": [
        "# Download the dataset\n",
        "downloaded = drive.CreateFile({'id':id}) \n",
        "downloaded.GetContentFile('chinook.db')"
      ],
      "execution_count": 3,
      "outputs": []
    },
    {
      "cell_type": "code",
      "metadata": {
        "id": "vBAHoQ3QO4cb",
        "colab_type": "code",
        "colab": {}
      },
      "source": [
        "# Import SQLite3 and pandas library\n",
        "import sqlite3\n",
        "import pandas as pd"
      ],
      "execution_count": 4,
      "outputs": []
    },
    {
      "cell_type": "code",
      "metadata": {
        "id": "hJXj6T_naCHQ",
        "colab_type": "code",
        "colab": {}
      },
      "source": [
        "# Connect the notebook to the database file\n",
        "%%capture\n",
        "%load_ext sql\n",
        "%sql sqlite:///chinook.db"
      ],
      "execution_count": 5,
      "outputs": []
    },
    {
      "cell_type": "markdown",
      "metadata": {
        "id": "9wybAzJxMmRb",
        "colab_type": "text"
      },
      "source": [
        "As you work through this mission, you may need to refer back to the schema diagram. This is normal, so don't be bothered when that happens. It can also be helpful to write a simple query to check the column names and some example data from any of the tables, for instance:"
      ]
    },
    {
      "cell_type": "code",
      "metadata": {
        "id": "jMf5BYsJKXaE",
        "colab_type": "code",
        "colab": {
          "base_uri": "https://localhost:8080/",
          "height": 179
        },
        "outputId": "670f5d37-db27-4f93-a841-ab40c218063a"
      },
      "source": [
        "%%sql\n",
        "\n",
        "  SELECT * \n",
        "  FROM album\n",
        "  LIMIT 5"
      ],
      "execution_count": 6,
      "outputs": [
        {
          "output_type": "stream",
          "text": [
            " * sqlite:///chinook.db\n",
            "Done.\n"
          ],
          "name": "stdout"
        },
        {
          "output_type": "execute_result",
          "data": {
            "text/html": [
              "<table>\n",
              "    <tr>\n",
              "        <th>album_id</th>\n",
              "        <th>title</th>\n",
              "        <th>artist_id</th>\n",
              "    </tr>\n",
              "    <tr>\n",
              "        <td>1</td>\n",
              "        <td>For Those About To Rock We Salute You</td>\n",
              "        <td>1</td>\n",
              "    </tr>\n",
              "    <tr>\n",
              "        <td>2</td>\n",
              "        <td>Balls to the Wall</td>\n",
              "        <td>2</td>\n",
              "    </tr>\n",
              "    <tr>\n",
              "        <td>3</td>\n",
              "        <td>Restless and Wild</td>\n",
              "        <td>2</td>\n",
              "    </tr>\n",
              "    <tr>\n",
              "        <td>4</td>\n",
              "        <td>Let There Be Rock</td>\n",
              "        <td>1</td>\n",
              "    </tr>\n",
              "    <tr>\n",
              "        <td>5</td>\n",
              "        <td>Big Ones</td>\n",
              "        <td>3</td>\n",
              "    </tr>\n",
              "</table>"
            ],
            "text/plain": [
              "[(1, 'For Those About To Rock We Salute You', 1),\n",
              " (2, 'Balls to the Wall', 2),\n",
              " (3, 'Restless and Wild', 2),\n",
              " (4, 'Let There Be Rock', 1),\n",
              " (5, 'Big Ones', 3)]"
            ]
          },
          "metadata": {
            "tags": []
          },
          "execution_count": 6
        }
      ]
    },
    {
      "cell_type": "markdown",
      "metadata": {
        "id": "h30gpP1SKIfD",
        "colab_type": "text"
      },
      "source": [
        "## 2. Joining Three Tables"
      ]
    },
    {
      "cell_type": "markdown",
      "metadata": {
        "id": "1YeEb1l4KIhf",
        "colab_type": "text"
      },
      "source": [
        "Our first task is to gather some information on a specific purchase. For one single purchase (`invoice_id`) we want to know, for each track purchased:\n",
        "\n",
        "- The id of the track.\n",
        "- The name of the track.\n",
        "- The name of media type of the track.\n",
        "- The price that the customer paid for the track.\n",
        "- The quantity of the track that was purchased.\n",
        "\n",
        "To gather this information, we will need to write a query that joins 3 tables: `invoice_line`, `track`, and `media_type`. To make this easier, a schema diagram of just these three tables is below:\n",
        "\n",
        "![alt text](https://s3.amazonaws.com/dq-content/189/schema_il_t_mt.svg)\n",
        "\n",
        "If you didn't explore these 3 tables in the previous screen, take a moment now to explore them:\n",
        "\n",
        "- For each of `invoice_line`, `track`, and `media_type`:\n",
        "  - Write a simple query to view the first few rows of each of these tables.\n",
        "  - Look at the result of the query to become familiar with the columns and what sort of data we are working with.\n",
        "\n",
        "Now that you're familiar with the data, we can look at the syntax for joining data from more than 2 tables.\n",
        "```\n",
        "SELECT [column_names] FROM [table_name_one]\n",
        "[join_type] JOIN [table_name_two] ON [join_constraint]\n",
        "[join_type] JOIN [table_name_three] ON [join_constraint];\n",
        "```\n",
        "Joining multiple tables is as simple as adding an extra `JOIN` clause. The SQL engine interprets joins in order, so the first join will be executed, and then the second join will be executed against the result of the first join. Because of this, we can first build our query in steps:\n",
        "\n",
        "- with 0 joins.\n",
        "- with 1 join.\n",
        "- with 2 joins.\n",
        "\n",
        "We will use the `invoice_line` table in our `FROM` clause, since it contains 3 of the 5 columns we want in our final query. You don't have to follow this pattern but if you're not sure, it's a good place to start. Since our task involves looking for information about a specific `invoice_id`, let's choose an `invoice_id` value of `3`. Selecting all lines from `invoice_line` with an `invoice_id` is straightforward:\n"
      ]
    },
    {
      "cell_type": "code",
      "metadata": {
        "id": "oATAk-VvO3yl",
        "colab_type": "code",
        "colab": {
          "base_uri": "https://localhost:8080/",
          "height": 116
        },
        "outputId": "3033b88b-1ccf-4da1-e341-da6e79b4a077"
      },
      "source": [
        "%%sql\n",
        "\n",
        "SELECT * FROM invoice_line\n",
        "WHERE invoice_id = 3;"
      ],
      "execution_count": 7,
      "outputs": [
        {
          "output_type": "stream",
          "text": [
            " * sqlite:///chinook.db\n",
            "Done.\n"
          ],
          "name": "stdout"
        },
        {
          "output_type": "execute_result",
          "data": {
            "text/html": [
              "<table>\n",
              "    <tr>\n",
              "        <th>invoice_line_id</th>\n",
              "        <th>invoice_id</th>\n",
              "        <th>track_id</th>\n",
              "        <th>unit_price</th>\n",
              "        <th>quantity</th>\n",
              "    </tr>\n",
              "    <tr>\n",
              "        <td>27</td>\n",
              "        <td>3</td>\n",
              "        <td>2516</td>\n",
              "        <td>0.99</td>\n",
              "        <td>1</td>\n",
              "    </tr>\n",
              "    <tr>\n",
              "        <td>28</td>\n",
              "        <td>3</td>\n",
              "        <td>2646</td>\n",
              "        <td>0.99</td>\n",
              "        <td>1</td>\n",
              "    </tr>\n",
              "</table>"
            ],
            "text/plain": [
              "[(27, 3, 2516, 0.99, 1), (28, 3, 2646, 0.99, 1)]"
            ]
          },
          "metadata": {
            "tags": []
          },
          "execution_count": 7
        }
      ]
    },
    {
      "cell_type": "markdown",
      "metadata": {
        "id": "ZIvazXqlO8n5",
        "colab_type": "text"
      },
      "source": [
        "Now we can use an inner join to add the data from the `track` table."
      ]
    },
    {
      "cell_type": "code",
      "metadata": {
        "id": "zmDR7D4kO-n3",
        "colab_type": "code",
        "colab": {
          "base_uri": "https://localhost:8080/",
          "height": 255
        },
        "outputId": "ee58cd23-6731-43fa-e23e-208d83b99fe4"
      },
      "source": [
        "%%sql\n",
        "\n",
        "SELECT * FROM invoice_line il\n",
        "INNER JOIN track t ON t.track_id = il.track_id\n",
        "WHERE invoice_id = 3;"
      ],
      "execution_count": 8,
      "outputs": [
        {
          "output_type": "stream",
          "text": [
            " * sqlite:///chinook.db\n",
            "Done.\n"
          ],
          "name": "stdout"
        },
        {
          "output_type": "execute_result",
          "data": {
            "text/html": [
              "<table>\n",
              "    <tr>\n",
              "        <th>invoice_line_id</th>\n",
              "        <th>invoice_id</th>\n",
              "        <th>track_id</th>\n",
              "        <th>unit_price</th>\n",
              "        <th>quantity</th>\n",
              "        <th>track_id_1</th>\n",
              "        <th>name</th>\n",
              "        <th>album_id</th>\n",
              "        <th>media_type_id</th>\n",
              "        <th>genre_id</th>\n",
              "        <th>composer</th>\n",
              "        <th>milliseconds</th>\n",
              "        <th>bytes</th>\n",
              "        <th>unit_price_1</th>\n",
              "    </tr>\n",
              "    <tr>\n",
              "        <td>27</td>\n",
              "        <td>3</td>\n",
              "        <td>2516</td>\n",
              "        <td>0.99</td>\n",
              "        <td>1</td>\n",
              "        <td>2516</td>\n",
              "        <td>Black Hole Sun</td>\n",
              "        <td>203</td>\n",
              "        <td>1</td>\n",
              "        <td>1</td>\n",
              "        <td>Soundgarden</td>\n",
              "        <td>320365</td>\n",
              "        <td>10425229</td>\n",
              "        <td>0.99</td>\n",
              "    </tr>\n",
              "    <tr>\n",
              "        <td>28</td>\n",
              "        <td>3</td>\n",
              "        <td>2646</td>\n",
              "        <td>0.99</td>\n",
              "        <td>1</td>\n",
              "        <td>2646</td>\n",
              "        <td>I Looked At You</td>\n",
              "        <td>214</td>\n",
              "        <td>1</td>\n",
              "        <td>1</td>\n",
              "        <td>Robby Krieger, Ray Manzarek, John Densmore, Jim Morrison</td>\n",
              "        <td>142080</td>\n",
              "        <td>4663988</td>\n",
              "        <td>0.99</td>\n",
              "    </tr>\n",
              "</table>"
            ],
            "text/plain": [
              "[(27, 3, 2516, 0.99, 1, 2516, 'Black Hole Sun', 203, 1, 1, 'Soundgarden', 320365, 10425229, 0.99),\n",
              " (28, 3, 2646, 0.99, 1, 2646, 'I Looked At You', 214, 1, 1, 'Robby Krieger, Ray Manzarek, John Densmore, Jim Morrison', 142080, 4663988, 0.99)]"
            ]
          },
          "metadata": {
            "tags": []
          },
          "execution_count": 8
        }
      ]
    },
    {
      "cell_type": "markdown",
      "metadata": {
        "id": "rs2aJABYPCzm",
        "colab_type": "text"
      },
      "source": [
        "![alt text](https://s3.amazonaws.com/dq-content/189/multiple_joins_step1.svg)\n",
        "Next, we add our second join to add the data from the `media_type` table."
      ]
    },
    {
      "cell_type": "code",
      "metadata": {
        "id": "tEByXsfNPG2_",
        "colab_type": "code",
        "colab": {
          "base_uri": "https://localhost:8080/",
          "height": 255
        },
        "outputId": "a43c7263-859a-4113-e233-0eeff65b9574"
      },
      "source": [
        "%%sql\n",
        "\n",
        "SELECT * FROM invoice_line il\n",
        "INNER JOIN track t ON t.track_id = il.track_id\n",
        "INNER JOIN media_type mt ON mt.media_type_id = t.media_type_id\n",
        "WHERE invoice_id = 3;"
      ],
      "execution_count": 9,
      "outputs": [
        {
          "output_type": "stream",
          "text": [
            " * sqlite:///chinook.db\n",
            "Done.\n"
          ],
          "name": "stdout"
        },
        {
          "output_type": "execute_result",
          "data": {
            "text/html": [
              "<table>\n",
              "    <tr>\n",
              "        <th>invoice_line_id</th>\n",
              "        <th>invoice_id</th>\n",
              "        <th>track_id</th>\n",
              "        <th>unit_price</th>\n",
              "        <th>quantity</th>\n",
              "        <th>track_id_1</th>\n",
              "        <th>name</th>\n",
              "        <th>album_id</th>\n",
              "        <th>media_type_id</th>\n",
              "        <th>genre_id</th>\n",
              "        <th>composer</th>\n",
              "        <th>milliseconds</th>\n",
              "        <th>bytes</th>\n",
              "        <th>unit_price_1</th>\n",
              "        <th>media_type_id_1</th>\n",
              "        <th>name_1</th>\n",
              "    </tr>\n",
              "    <tr>\n",
              "        <td>27</td>\n",
              "        <td>3</td>\n",
              "        <td>2516</td>\n",
              "        <td>0.99</td>\n",
              "        <td>1</td>\n",
              "        <td>2516</td>\n",
              "        <td>Black Hole Sun</td>\n",
              "        <td>203</td>\n",
              "        <td>1</td>\n",
              "        <td>1</td>\n",
              "        <td>Soundgarden</td>\n",
              "        <td>320365</td>\n",
              "        <td>10425229</td>\n",
              "        <td>0.99</td>\n",
              "        <td>1</td>\n",
              "        <td>MPEG audio file</td>\n",
              "    </tr>\n",
              "    <tr>\n",
              "        <td>28</td>\n",
              "        <td>3</td>\n",
              "        <td>2646</td>\n",
              "        <td>0.99</td>\n",
              "        <td>1</td>\n",
              "        <td>2646</td>\n",
              "        <td>I Looked At You</td>\n",
              "        <td>214</td>\n",
              "        <td>1</td>\n",
              "        <td>1</td>\n",
              "        <td>Robby Krieger, Ray Manzarek, John Densmore, Jim Morrison</td>\n",
              "        <td>142080</td>\n",
              "        <td>4663988</td>\n",
              "        <td>0.99</td>\n",
              "        <td>1</td>\n",
              "        <td>MPEG audio file</td>\n",
              "    </tr>\n",
              "</table>"
            ],
            "text/plain": [
              "[(27, 3, 2516, 0.99, 1, 2516, 'Black Hole Sun', 203, 1, 1, 'Soundgarden', 320365, 10425229, 0.99, 1, 'MPEG audio file'),\n",
              " (28, 3, 2646, 0.99, 1, 2646, 'I Looked At You', 214, 1, 1, 'Robby Krieger, Ray Manzarek, John Densmore, Jim Morrison', 142080, 4663988, 0.99, 1, 'MPEG audio file')]"
            ]
          },
          "metadata": {
            "tags": []
          },
          "execution_count": 9
        }
      ]
    },
    {
      "cell_type": "markdown",
      "metadata": {
        "id": "yI7l5Dq7PLrh",
        "colab_type": "text"
      },
      "source": [
        "![alt text](https://s3.amazonaws.com/dq-content/189/multiple_joins_step2.svg)\n",
        "The last step is to alter the `SELECT` clause to include only the columns we require - let's do that now with a different order.\n",
        "\n",
        "\n",
        "**Instructions:**\n",
        "\n",
        "Write a query that gathers data about the invoice with an `invoice_id` of 4. Include the following columns in order:\n",
        "- The id of the track, `track_id`.\n",
        "- The name of the track, `track_name`.\n",
        "- The name of media type of the track, `track_type`.\n",
        "- The price that the customer paid for the track, `unit_price`.\n",
        "- The quantity of the track that was purchased, `quantity`."
      ]
    },
    {
      "cell_type": "code",
      "metadata": {
        "id": "0uwuQu9JPdrE",
        "colab_type": "code",
        "colab": {
          "base_uri": "https://localhost:8080/",
          "height": 242
        },
        "outputId": "b7575e33-6577-4e71-94cf-ca135ecfdf95"
      },
      "source": [
        "%%sql\n",
        "SELECT\n",
        "    il.track_id,\n",
        "    t.name track_name,\n",
        "    mt.name track_type,\n",
        "    il.unit_price,\n",
        "    il.quantity\n",
        "  FROM invoice_line il\n",
        " INNER JOIN track t ON t.track_id = il.track_id\n",
        " INNER JOIN media_type mt ON mt.media_type_id = t.media_type_id\n",
        " WHERE il.invoice_id = 4;"
      ],
      "execution_count": 10,
      "outputs": [
        {
          "output_type": "stream",
          "text": [
            " * sqlite:///chinook.db\n",
            "Done.\n"
          ],
          "name": "stdout"
        },
        {
          "output_type": "execute_result",
          "data": {
            "text/html": [
              "<table>\n",
              "    <tr>\n",
              "        <th>track_id</th>\n",
              "        <th>track_name</th>\n",
              "        <th>track_type</th>\n",
              "        <th>unit_price</th>\n",
              "        <th>quantity</th>\n",
              "    </tr>\n",
              "    <tr>\n",
              "        <td>3448</td>\n",
              "        <td>Lamentations of Jeremiah, First Set \\ Incipit Lamentatio</td>\n",
              "        <td>Protected AAC audio file</td>\n",
              "        <td>0.99</td>\n",
              "        <td>1</td>\n",
              "    </tr>\n",
              "    <tr>\n",
              "        <td>2560</td>\n",
              "        <td>Violent Pornography</td>\n",
              "        <td>MPEG audio file</td>\n",
              "        <td>0.99</td>\n",
              "        <td>1</td>\n",
              "    </tr>\n",
              "    <tr>\n",
              "        <td>3336</td>\n",
              "        <td>War Pigs</td>\n",
              "        <td>Purchased AAC audio file</td>\n",
              "        <td>0.99</td>\n",
              "        <td>1</td>\n",
              "    </tr>\n",
              "    <tr>\n",
              "        <td>829</td>\n",
              "        <td>Let&#x27;s Get Rocked</td>\n",
              "        <td>MPEG audio file</td>\n",
              "        <td>0.99</td>\n",
              "        <td>1</td>\n",
              "    </tr>\n",
              "    <tr>\n",
              "        <td>1872</td>\n",
              "        <td>Attitude</td>\n",
              "        <td>MPEG audio file</td>\n",
              "        <td>0.99</td>\n",
              "        <td>1</td>\n",
              "    </tr>\n",
              "    <tr>\n",
              "        <td>748</td>\n",
              "        <td>Dealer</td>\n",
              "        <td>MPEG audio file</td>\n",
              "        <td>0.99</td>\n",
              "        <td>1</td>\n",
              "    </tr>\n",
              "    <tr>\n",
              "        <td>1778</td>\n",
              "        <td>You&#x27;re What&#x27;s Happening (In The World Today)</td>\n",
              "        <td>MPEG audio file</td>\n",
              "        <td>0.99</td>\n",
              "        <td>1</td>\n",
              "    </tr>\n",
              "    <tr>\n",
              "        <td>2514</td>\n",
              "        <td>Spoonman</td>\n",
              "        <td>MPEG audio file</td>\n",
              "        <td>0.99</td>\n",
              "        <td>1</td>\n",
              "    </tr>\n",
              "</table>"
            ],
            "text/plain": [
              "[(3448, 'Lamentations of Jeremiah, First Set \\\\ Incipit Lamentatio', 'Protected AAC audio file', 0.99, 1),\n",
              " (2560, 'Violent Pornography', 'MPEG audio file', 0.99, 1),\n",
              " (3336, 'War Pigs', 'Purchased AAC audio file', 0.99, 1),\n",
              " (829, \"Let's Get Rocked\", 'MPEG audio file', 0.99, 1),\n",
              " (1872, 'Attitude', 'MPEG audio file', 0.99, 1),\n",
              " (748, 'Dealer', 'MPEG audio file', 0.99, 1),\n",
              " (1778, \"You're What's Happening (In The World Today)\", 'MPEG audio file', 0.99, 1),\n",
              " (2514, 'Spoonman', 'MPEG audio file', 0.99, 1)]"
            ]
          },
          "metadata": {
            "tags": []
          },
          "execution_count": 10
        }
      ]
    },
    {
      "cell_type": "markdown",
      "metadata": {
        "id": "E-ZGBMiHKIj4",
        "colab_type": "text"
      },
      "source": [
        "## 3. Joining More Than Three Tables"
      ]
    },
    {
      "cell_type": "markdown",
      "metadata": {
        "id": "cbsBCzPRKImb",
        "colab_type": "text"
      },
      "source": [
        "Let's extend the query we wrote in the previous screen by adding the artist for each track. If you examine the schema, you'll notice that the data for the artist's name is not directly connected to the `track` table.\n",
        "\n",
        "![alt text](https://s3.amazonaws.com/dq-content/189/schema_t_al_ar.svg)\n",
        "\n",
        "In this case, we will need to join two new tables to our existing query:\n",
        "\n",
        "- `artist`, which contains the artist name data that we need\n",
        "- `album`, which has a column common to each of the `artist` and `track` tables which allows us to join those two tables.\n",
        "\n",
        "Our select clause won't actually use any of the columns from the `album` table. This is quite common when writing more complex queries because it will let you join to another table.\n",
        "\n",
        "The query from the previous screen is included here:"
      ]
    },
    {
      "cell_type": "code",
      "metadata": {
        "id": "mP7bHXd_P0BO",
        "colab_type": "code",
        "colab": {
          "base_uri": "https://localhost:8080/",
          "height": 242
        },
        "outputId": "c1623a51-c42e-47d8-b2f8-3d1a0b5b9179"
      },
      "source": [
        "%%sql\n",
        "\n",
        "SELECT\n",
        "    il.track_id,\n",
        "    t.name track_name,\n",
        "    mt.name track_type,\n",
        "    il.unit_price,\n",
        "    il.quantity\n",
        "FROM invoice_line il\n",
        "INNER JOIN track t ON t.track_id = il.track_id\n",
        "INNER JOIN media_type mt ON mt.media_type_id = t.media_type_id\n",
        "WHERE il.invoice_id = 4;"
      ],
      "execution_count": 11,
      "outputs": [
        {
          "output_type": "stream",
          "text": [
            " * sqlite:///chinook.db\n",
            "Done.\n"
          ],
          "name": "stdout"
        },
        {
          "output_type": "execute_result",
          "data": {
            "text/html": [
              "<table>\n",
              "    <tr>\n",
              "        <th>track_id</th>\n",
              "        <th>track_name</th>\n",
              "        <th>track_type</th>\n",
              "        <th>unit_price</th>\n",
              "        <th>quantity</th>\n",
              "    </tr>\n",
              "    <tr>\n",
              "        <td>3448</td>\n",
              "        <td>Lamentations of Jeremiah, First Set \\ Incipit Lamentatio</td>\n",
              "        <td>Protected AAC audio file</td>\n",
              "        <td>0.99</td>\n",
              "        <td>1</td>\n",
              "    </tr>\n",
              "    <tr>\n",
              "        <td>2560</td>\n",
              "        <td>Violent Pornography</td>\n",
              "        <td>MPEG audio file</td>\n",
              "        <td>0.99</td>\n",
              "        <td>1</td>\n",
              "    </tr>\n",
              "    <tr>\n",
              "        <td>3336</td>\n",
              "        <td>War Pigs</td>\n",
              "        <td>Purchased AAC audio file</td>\n",
              "        <td>0.99</td>\n",
              "        <td>1</td>\n",
              "    </tr>\n",
              "    <tr>\n",
              "        <td>829</td>\n",
              "        <td>Let&#x27;s Get Rocked</td>\n",
              "        <td>MPEG audio file</td>\n",
              "        <td>0.99</td>\n",
              "        <td>1</td>\n",
              "    </tr>\n",
              "    <tr>\n",
              "        <td>1872</td>\n",
              "        <td>Attitude</td>\n",
              "        <td>MPEG audio file</td>\n",
              "        <td>0.99</td>\n",
              "        <td>1</td>\n",
              "    </tr>\n",
              "    <tr>\n",
              "        <td>748</td>\n",
              "        <td>Dealer</td>\n",
              "        <td>MPEG audio file</td>\n",
              "        <td>0.99</td>\n",
              "        <td>1</td>\n",
              "    </tr>\n",
              "    <tr>\n",
              "        <td>1778</td>\n",
              "        <td>You&#x27;re What&#x27;s Happening (In The World Today)</td>\n",
              "        <td>MPEG audio file</td>\n",
              "        <td>0.99</td>\n",
              "        <td>1</td>\n",
              "    </tr>\n",
              "    <tr>\n",
              "        <td>2514</td>\n",
              "        <td>Spoonman</td>\n",
              "        <td>MPEG audio file</td>\n",
              "        <td>0.99</td>\n",
              "        <td>1</td>\n",
              "    </tr>\n",
              "</table>"
            ],
            "text/plain": [
              "[(3448, 'Lamentations of Jeremiah, First Set \\\\ Incipit Lamentatio', 'Protected AAC audio file', 0.99, 1),\n",
              " (2560, 'Violent Pornography', 'MPEG audio file', 0.99, 1),\n",
              " (3336, 'War Pigs', 'Purchased AAC audio file', 0.99, 1),\n",
              " (829, \"Let's Get Rocked\", 'MPEG audio file', 0.99, 1),\n",
              " (1872, 'Attitude', 'MPEG audio file', 0.99, 1),\n",
              " (748, 'Dealer', 'MPEG audio file', 0.99, 1),\n",
              " (1778, \"You're What's Happening (In The World Today)\", 'MPEG audio file', 0.99, 1),\n",
              " (2514, 'Spoonman', 'MPEG audio file', 0.99, 1)]"
            ]
          },
          "metadata": {
            "tags": []
          },
          "execution_count": 11
        }
      ]
    },
    {
      "cell_type": "markdown",
      "metadata": {
        "id": "YcE2DuUMP6tO",
        "colab_type": "text"
      },
      "source": [
        "**Instructions:**\n",
        "\n",
        "Add a column containing the artists name to the query from the previous screen.\n",
        "- The column should be called `artist_name`\n",
        "- The column should be placed between `track_name` and `track_type`"
      ]
    },
    {
      "cell_type": "code",
      "metadata": {
        "id": "E_1jsRxzQBo-",
        "colab_type": "code",
        "colab": {
          "base_uri": "https://localhost:8080/",
          "height": 310
        },
        "outputId": "af85d68b-a1fb-4b46-a764-f0c83c7ad1e9"
      },
      "source": [
        "%%sql\n",
        "\n",
        "SELECT\n",
        "    il.track_id,\n",
        "    t.name track_name,\n",
        "    ar.name artist_name,\n",
        "    mt.name track_type,\n",
        "    il.unit_price,\n",
        "    il.quantity\n",
        "  FROM invoice_line il\n",
        " INNER JOIN track t ON t.track_id = il.track_id\n",
        " INNER JOIN media_type mt ON mt.media_type_id = t.media_type_id\n",
        " INNER JOIN album al ON al.album_id = t.album_id\n",
        " INNER JOIN artist ar on ar.artist_id = al.artist_id\n",
        " WHERE il.invoice_id = 4;"
      ],
      "execution_count": 12,
      "outputs": [
        {
          "output_type": "stream",
          "text": [
            " * sqlite:///chinook.db\n",
            "Done.\n"
          ],
          "name": "stdout"
        },
        {
          "output_type": "execute_result",
          "data": {
            "text/html": [
              "<table>\n",
              "    <tr>\n",
              "        <th>track_id</th>\n",
              "        <th>track_name</th>\n",
              "        <th>artist_name</th>\n",
              "        <th>track_type</th>\n",
              "        <th>unit_price</th>\n",
              "        <th>quantity</th>\n",
              "    </tr>\n",
              "    <tr>\n",
              "        <td>3448</td>\n",
              "        <td>Lamentations of Jeremiah, First Set \\ Incipit Lamentatio</td>\n",
              "        <td>The King&#x27;s Singers</td>\n",
              "        <td>Protected AAC audio file</td>\n",
              "        <td>0.99</td>\n",
              "        <td>1</td>\n",
              "    </tr>\n",
              "    <tr>\n",
              "        <td>2560</td>\n",
              "        <td>Violent Pornography</td>\n",
              "        <td>System Of A Down</td>\n",
              "        <td>MPEG audio file</td>\n",
              "        <td>0.99</td>\n",
              "        <td>1</td>\n",
              "    </tr>\n",
              "    <tr>\n",
              "        <td>3336</td>\n",
              "        <td>War Pigs</td>\n",
              "        <td>Cake</td>\n",
              "        <td>Purchased AAC audio file</td>\n",
              "        <td>0.99</td>\n",
              "        <td>1</td>\n",
              "    </tr>\n",
              "    <tr>\n",
              "        <td>829</td>\n",
              "        <td>Let&#x27;s Get Rocked</td>\n",
              "        <td>Def Leppard</td>\n",
              "        <td>MPEG audio file</td>\n",
              "        <td>0.99</td>\n",
              "        <td>1</td>\n",
              "    </tr>\n",
              "    <tr>\n",
              "        <td>1872</td>\n",
              "        <td>Attitude</td>\n",
              "        <td>Metallica</td>\n",
              "        <td>MPEG audio file</td>\n",
              "        <td>0.99</td>\n",
              "        <td>1</td>\n",
              "    </tr>\n",
              "    <tr>\n",
              "        <td>748</td>\n",
              "        <td>Dealer</td>\n",
              "        <td>Deep Purple</td>\n",
              "        <td>MPEG audio file</td>\n",
              "        <td>0.99</td>\n",
              "        <td>1</td>\n",
              "    </tr>\n",
              "    <tr>\n",
              "        <td>1778</td>\n",
              "        <td>You&#x27;re What&#x27;s Happening (In The World Today)</td>\n",
              "        <td>Marvin Gaye</td>\n",
              "        <td>MPEG audio file</td>\n",
              "        <td>0.99</td>\n",
              "        <td>1</td>\n",
              "    </tr>\n",
              "    <tr>\n",
              "        <td>2514</td>\n",
              "        <td>Spoonman</td>\n",
              "        <td>Soundgarden</td>\n",
              "        <td>MPEG audio file</td>\n",
              "        <td>0.99</td>\n",
              "        <td>1</td>\n",
              "    </tr>\n",
              "</table>"
            ],
            "text/plain": [
              "[(3448, 'Lamentations of Jeremiah, First Set \\\\ Incipit Lamentatio', \"The King's Singers\", 'Protected AAC audio file', 0.99, 1),\n",
              " (2560, 'Violent Pornography', 'System Of A Down', 'MPEG audio file', 0.99, 1),\n",
              " (3336, 'War Pigs', 'Cake', 'Purchased AAC audio file', 0.99, 1),\n",
              " (829, \"Let's Get Rocked\", 'Def Leppard', 'MPEG audio file', 0.99, 1),\n",
              " (1872, 'Attitude', 'Metallica', 'MPEG audio file', 0.99, 1),\n",
              " (748, 'Dealer', 'Deep Purple', 'MPEG audio file', 0.99, 1),\n",
              " (1778, \"You're What's Happening (In The World Today)\", 'Marvin Gaye', 'MPEG audio file', 0.99, 1),\n",
              " (2514, 'Spoonman', 'Soundgarden', 'MPEG audio file', 0.99, 1)]"
            ]
          },
          "metadata": {
            "tags": []
          },
          "execution_count": 12
        }
      ]
    },
    {
      "cell_type": "markdown",
      "metadata": {
        "id": "U0P4uwqZKIpl",
        "colab_type": "text"
      },
      "source": [
        "## 4. Combining Multiple Joins with Subqueries"
      ]
    },
    {
      "cell_type": "markdown",
      "metadata": {
        "id": "ZF6t-i2EKIsm",
        "colab_type": "text"
      },
      "source": [
        "Because the `invoice_line` table contains each individual song from each customer purchase, it contains information about which songs are purchased the most. We can use the table to find out which artists are purchased the most. Specifically, what we want to produce is a query that lists the top 10 artists, calculated by the number of times a track by that artist has been purchased.\n",
        "\n",
        "We'll need to use a `GROUP BY` clause to get the number of tracks purchased from each artist, but before we do we'll have to join a few tables. As we start thinking about how we will write this query, we can look at the database schema from the first screen of this mission and think about what tables we will need to include.\n",
        "\n",
        "Writing our query would be a lot easier if we had one table that contained both the `track.track_id` and the `artist.name` columns. We can write a subquery that creates this table for us, and then use that subquery to calculate our answer. This means our process will be:\n",
        "\n",
        "- Write a subquery that produces a table with `track.track_id` and `artist.name`,\n",
        "- Join that subquery to the `invoice_line` table,\n",
        "- Use a `GROUP BY` statement to calculate the number of times each artist has had a track purchased, and find the top 10.\n",
        "\n",
        "We can write our subquery by joining `album` to `track` and then `artist` to `album`, just like we did in the previous screen. We'll add an `ORDER BY` and `LIMIT` to our query so we're only looking at manageable sample of the data, but we'll remove it when we move to the next step.\n",
        "\n"
      ]
    },
    {
      "cell_type": "code",
      "metadata": {
        "id": "6cTrspBZQZ0M",
        "colab_type": "code",
        "colab": {
          "base_uri": "https://localhost:8080/",
          "height": 179
        },
        "outputId": "47b95003-e8ee-4720-f1b5-92b9bf5a5f22"
      },
      "source": [
        "%%sql\n",
        "\n",
        "SELECT\n",
        "    t.track_id,\n",
        "    ar.name artist_name\n",
        "FROM track t\n",
        "INNER JOIN album al ON al.album_id = t.album_id\n",
        "INNER JOIN artist ar ON ar.artist_id = al.artist_id\n",
        "ORDER BY 1 LIMIT 5;"
      ],
      "execution_count": 13,
      "outputs": [
        {
          "output_type": "stream",
          "text": [
            " * sqlite:///chinook.db\n",
            "Done.\n"
          ],
          "name": "stdout"
        },
        {
          "output_type": "execute_result",
          "data": {
            "text/html": [
              "<table>\n",
              "    <tr>\n",
              "        <th>track_id</th>\n",
              "        <th>artist_name</th>\n",
              "    </tr>\n",
              "    <tr>\n",
              "        <td>1</td>\n",
              "        <td>AC/DC</td>\n",
              "    </tr>\n",
              "    <tr>\n",
              "        <td>2</td>\n",
              "        <td>Accept</td>\n",
              "    </tr>\n",
              "    <tr>\n",
              "        <td>3</td>\n",
              "        <td>Accept</td>\n",
              "    </tr>\n",
              "    <tr>\n",
              "        <td>4</td>\n",
              "        <td>Accept</td>\n",
              "    </tr>\n",
              "    <tr>\n",
              "        <td>5</td>\n",
              "        <td>Accept</td>\n",
              "    </tr>\n",
              "</table>"
            ],
            "text/plain": [
              "[(1, 'AC/DC'), (2, 'Accept'), (3, 'Accept'), (4, 'Accept'), (5, 'Accept')]"
            ]
          },
          "metadata": {
            "tags": []
          },
          "execution_count": 13
        }
      ]
    },
    {
      "cell_type": "markdown",
      "metadata": {
        "id": "MgEtIkXrQd5j",
        "colab_type": "text"
      },
      "source": [
        "Next, we need to join this subquery to our `invoice_line` table. We'll give our subquery an alias `ta` for 'track artist' to make it easier to refer to. Again, we'll add an `ORDER BY` and `LIMIT` statement to this step so our output is more manageable.\n",
        "\n"
      ]
    },
    {
      "cell_type": "code",
      "metadata": {
        "id": "RomUEWmfQcVt",
        "colab_type": "code",
        "colab": {
          "base_uri": "https://localhost:8080/",
          "height": 179
        },
        "outputId": "34c5bc29-4cf9-4e3e-ee95-3b73af67edc2"
      },
      "source": [
        "%%sql\n",
        "\n",
        "SELECT\n",
        "    il.invoice_line_id,\n",
        "    il.track_id,\n",
        "    ta.artist_name\n",
        "FROM invoice_line il\n",
        "INNER JOIN (\n",
        "            SELECT\n",
        "                t.track_id,\n",
        "                ar.name artist_name\n",
        "            FROM track t\n",
        "            INNER JOIN album al ON al.album_id = t.album_id\n",
        "            INNER JOIN artist ar ON ar.artist_id = al.artist_id\n",
        "           ) ta\n",
        "           ON ta.track_id = il.track_id\n",
        "ORDER BY 1 LIMIT 5;"
      ],
      "execution_count": 14,
      "outputs": [
        {
          "output_type": "stream",
          "text": [
            " * sqlite:///chinook.db\n",
            "Done.\n"
          ],
          "name": "stdout"
        },
        {
          "output_type": "execute_result",
          "data": {
            "text/html": [
              "<table>\n",
              "    <tr>\n",
              "        <th>invoice_line_id</th>\n",
              "        <th>track_id</th>\n",
              "        <th>artist_name</th>\n",
              "    </tr>\n",
              "    <tr>\n",
              "        <td>1</td>\n",
              "        <td>1158</td>\n",
              "        <td>Guns N&#x27; Roses</td>\n",
              "    </tr>\n",
              "    <tr>\n",
              "        <td>2</td>\n",
              "        <td>1159</td>\n",
              "        <td>Guns N&#x27; Roses</td>\n",
              "    </tr>\n",
              "    <tr>\n",
              "        <td>3</td>\n",
              "        <td>1160</td>\n",
              "        <td>Guns N&#x27; Roses</td>\n",
              "    </tr>\n",
              "    <tr>\n",
              "        <td>4</td>\n",
              "        <td>1161</td>\n",
              "        <td>Guns N&#x27; Roses</td>\n",
              "    </tr>\n",
              "    <tr>\n",
              "        <td>5</td>\n",
              "        <td>1162</td>\n",
              "        <td>Guns N&#x27; Roses</td>\n",
              "    </tr>\n",
              "</table>"
            ],
            "text/plain": [
              "[(1, 1158, \"Guns N' Roses\"),\n",
              " (2, 1159, \"Guns N' Roses\"),\n",
              " (3, 1160, \"Guns N' Roses\"),\n",
              " (4, 1161, \"Guns N' Roses\"),\n",
              " (5, 1162, \"Guns N' Roses\")]"
            ]
          },
          "metadata": {
            "tags": []
          },
          "execution_count": 14
        }
      ]
    },
    {
      "cell_type": "markdown",
      "metadata": {
        "id": "RZuNXjxlQoFw",
        "colab_type": "text"
      },
      "source": [
        "At first it might look like we've done something wrong, because the artist for all rows is Guns N' Roses, but that's because the very first order in our table is a customer who purchased an entire Guns N' Roses album! All that remains now is for us to add our `GROUP BY` clause, remove the extra columns and use `ORDER BY` and `LIMIT` clauses to select the 10 most popular artists.\n",
        "\n"
      ]
    },
    {
      "cell_type": "code",
      "metadata": {
        "id": "gYx93ZZMQy-K",
        "colab_type": "code",
        "colab": {
          "base_uri": "https://localhost:8080/",
          "height": 284
        },
        "outputId": "1c3a1df3-101a-4728-8c07-5f16d4307481"
      },
      "source": [
        "%%sql\n",
        "\n",
        "SELECT\n",
        "    ta.artist_name artist,\n",
        "    COUNT(*) tracks_purchased\n",
        "FROM invoice_line il\n",
        "INNER JOIN (\n",
        "            SELECT\n",
        "                t.track_id,\n",
        "                ar.name artist_name\n",
        "            FROM track t\n",
        "            INNER JOIN album al ON al.album_id = t.album_id\n",
        "            INNER JOIN artist ar ON ar.artist_id = al.artist_id\n",
        "           ) ta\n",
        "           ON ta.track_id = il.track_id\n",
        "GROUP BY 1\n",
        "ORDER BY 2 DESC LIMIT 10;"
      ],
      "execution_count": 15,
      "outputs": [
        {
          "output_type": "stream",
          "text": [
            " * sqlite:///chinook.db\n",
            "Done.\n"
          ],
          "name": "stdout"
        },
        {
          "output_type": "execute_result",
          "data": {
            "text/html": [
              "<table>\n",
              "    <tr>\n",
              "        <th>artist</th>\n",
              "        <th>tracks_purchased</th>\n",
              "    </tr>\n",
              "    <tr>\n",
              "        <td>Queen</td>\n",
              "        <td>192</td>\n",
              "    </tr>\n",
              "    <tr>\n",
              "        <td>Jimi Hendrix</td>\n",
              "        <td>187</td>\n",
              "    </tr>\n",
              "    <tr>\n",
              "        <td>Nirvana</td>\n",
              "        <td>130</td>\n",
              "    </tr>\n",
              "    <tr>\n",
              "        <td>Red Hot Chili Peppers</td>\n",
              "        <td>130</td>\n",
              "    </tr>\n",
              "    <tr>\n",
              "        <td>Pearl Jam</td>\n",
              "        <td>129</td>\n",
              "    </tr>\n",
              "    <tr>\n",
              "        <td>AC/DC</td>\n",
              "        <td>124</td>\n",
              "    </tr>\n",
              "    <tr>\n",
              "        <td>Guns N&#x27; Roses</td>\n",
              "        <td>124</td>\n",
              "    </tr>\n",
              "    <tr>\n",
              "        <td>Foo Fighters</td>\n",
              "        <td>121</td>\n",
              "    </tr>\n",
              "    <tr>\n",
              "        <td>The Rolling Stones</td>\n",
              "        <td>117</td>\n",
              "    </tr>\n",
              "    <tr>\n",
              "        <td>Metallica</td>\n",
              "        <td>106</td>\n",
              "    </tr>\n",
              "</table>"
            ],
            "text/plain": [
              "[('Queen', 192),\n",
              " ('Jimi Hendrix', 187),\n",
              " ('Nirvana', 130),\n",
              " ('Red Hot Chili Peppers', 130),\n",
              " ('Pearl Jam', 129),\n",
              " ('AC/DC', 124),\n",
              " (\"Guns N' Roses\", 124),\n",
              " ('Foo Fighters', 121),\n",
              " ('The Rolling Stones', 117),\n",
              " ('Metallica', 106)]"
            ]
          },
          "metadata": {
            "tags": []
          },
          "execution_count": 15
        }
      ]
    },
    {
      "cell_type": "markdown",
      "metadata": {
        "id": "q3xRt1P_Q31q",
        "colab_type": "text"
      },
      "source": [
        "You can use a similar technique to work out from which albums the most songs have been purchased.\n",
        "\n",
        "\n",
        "**Instructions:**\n",
        "\n",
        "Write a query that returns the top 5 albums, as calculated by the number of times a track from that album has been purchased. Your query should be sorted from most tracks purchased to least tracks purchased and return the following columns, in order:\n",
        "- `album`, the title of the album\n",
        "- `artist`, the artist who produced the album\n",
        "- `tracks_purchased` the total number of tracks purchased from that album"
      ]
    },
    {
      "cell_type": "code",
      "metadata": {
        "id": "fpE1eWeDRDnD",
        "colab_type": "code",
        "colab": {
          "base_uri": "https://localhost:8080/",
          "height": 179
        },
        "outputId": "149bdd1c-6394-41d8-d1ad-aa65cd821dfe"
      },
      "source": [
        "%%sql\n",
        "\n",
        "SELECT\n",
        "    ta.album_title album,\n",
        "    ta.artist_name artist,\n",
        "    COUNT(*) tracks_purchased\n",
        "  FROM invoice_line il\n",
        " INNER JOIN (\n",
        "            SELECT\n",
        "                t.track_id,\n",
        "                al.title album_title,\n",
        "                ar.name artist_name\n",
        "            FROM track t\n",
        "            INNER JOIN album al ON al.album_id = t.album_id\n",
        "            INNER JOIN artist ar ON ar.artist_id = al.artist_id\n",
        "           ) ta\n",
        "           ON ta.track_id = il.track_id\n",
        " GROUP BY 1, 2\n",
        " ORDER BY 3 DESC LIMIT 5;"
      ],
      "execution_count": 16,
      "outputs": [
        {
          "output_type": "stream",
          "text": [
            " * sqlite:///chinook.db\n",
            "Done.\n"
          ],
          "name": "stdout"
        },
        {
          "output_type": "execute_result",
          "data": {
            "text/html": [
              "<table>\n",
              "    <tr>\n",
              "        <th>album</th>\n",
              "        <th>artist</th>\n",
              "        <th>tracks_purchased</th>\n",
              "    </tr>\n",
              "    <tr>\n",
              "        <td>Are You Experienced?</td>\n",
              "        <td>Jimi Hendrix</td>\n",
              "        <td>187</td>\n",
              "    </tr>\n",
              "    <tr>\n",
              "        <td>Faceless</td>\n",
              "        <td>Godsmack</td>\n",
              "        <td>96</td>\n",
              "    </tr>\n",
              "    <tr>\n",
              "        <td>Mezmerize</td>\n",
              "        <td>System Of A Down</td>\n",
              "        <td>93</td>\n",
              "    </tr>\n",
              "    <tr>\n",
              "        <td>Get Born</td>\n",
              "        <td>JET</td>\n",
              "        <td>90</td>\n",
              "    </tr>\n",
              "    <tr>\n",
              "        <td>The Doors</td>\n",
              "        <td>The Doors</td>\n",
              "        <td>83</td>\n",
              "    </tr>\n",
              "</table>"
            ],
            "text/plain": [
              "[('Are You Experienced?', 'Jimi Hendrix', 187),\n",
              " ('Faceless', 'Godsmack', 96),\n",
              " ('Mezmerize', 'System Of A Down', 93),\n",
              " ('Get Born', 'JET', 90),\n",
              " ('The Doors', 'The Doors', 83)]"
            ]
          },
          "metadata": {
            "tags": []
          },
          "execution_count": 16
        }
      ]
    },
    {
      "cell_type": "markdown",
      "metadata": {
        "id": "0uvQ_n8TKIvM",
        "colab_type": "text"
      },
      "source": [
        "## 5. Recursive Joins"
      ]
    },
    {
      "cell_type": "markdown",
      "metadata": {
        "id": "Ft2zgNp7KIxo",
        "colab_type": "text"
      },
      "source": [
        "In some cases, there can be a relation between two columns within the same table. We can see that in our `employee` table, where there is a `reports_to` column that has a relation to the `employee_id` column within the same table.\n",
        "\n",
        "The `reports_to` column identifies each employee's supervisor. If we wanted to create a report of each employee and their supervisor's name, we would need some way of joining a table to itself. Doing this is called a **recursive join**.\n",
        "\n",
        "Technically, a recursive join will use one of the other standard joins— usually an `INNER JOIN` or `LEFT JOIN` since these are the most commonly used joins— and aliases to distinguish between the table on each side of the join. Here's a simple example of a recursive join in action:"
      ]
    },
    {
      "cell_type": "code",
      "metadata": {
        "id": "blFd4fPORk8Y",
        "colab_type": "code",
        "colab": {
          "base_uri": "https://localhost:8080/",
          "height": 158
        },
        "outputId": "dacbbf1f-6c95-44ad-a1f0-f3f4efca2458"
      },
      "source": [
        "%%sql\n",
        "\n",
        "SELECT\n",
        "    e1.employee_id,\n",
        "    e2.employee_id supervisor_id\n",
        "FROM employee e1\n",
        "INNER JOIN employee e2 on e1.reports_to = e2.employee_id\n",
        "LIMIT 4;"
      ],
      "execution_count": 17,
      "outputs": [
        {
          "output_type": "stream",
          "text": [
            " * sqlite:///chinook.db\n",
            "Done.\n"
          ],
          "name": "stdout"
        },
        {
          "output_type": "execute_result",
          "data": {
            "text/html": [
              "<table>\n",
              "    <tr>\n",
              "        <th>employee_id</th>\n",
              "        <th>supervisor_id</th>\n",
              "    </tr>\n",
              "    <tr>\n",
              "        <td>2</td>\n",
              "        <td>1</td>\n",
              "    </tr>\n",
              "    <tr>\n",
              "        <td>6</td>\n",
              "        <td>1</td>\n",
              "    </tr>\n",
              "    <tr>\n",
              "        <td>3</td>\n",
              "        <td>2</td>\n",
              "    </tr>\n",
              "    <tr>\n",
              "        <td>4</td>\n",
              "        <td>2</td>\n",
              "    </tr>\n",
              "</table>"
            ],
            "text/plain": [
              "[(2, 1), (6, 1), (3, 2), (4, 2)]"
            ]
          },
          "metadata": {
            "tags": []
          },
          "execution_count": 17
        }
      ]
    },
    {
      "cell_type": "markdown",
      "metadata": {
        "id": "GsuYwoZnRptw",
        "colab_type": "text"
      },
      "source": [
        "To make our report more meaningful, we'll need to add some extra columns. One thing that would be nice is being able to combine the `first_name` and `last_name` columns into a single column. We can do that using the **concatenate operator**: ||\n",
        "\n",
        "You can explore how the concatenate operator works by writing a simple query:\n",
        "\n"
      ]
    },
    {
      "cell_type": "code",
      "metadata": {
        "id": "e-XUY6iUR1eZ",
        "colab_type": "code",
        "colab": {
          "base_uri": "https://localhost:8080/",
          "height": 95
        },
        "outputId": "9a0b9b5c-e5ee-48a4-d140-61686441fd3b"
      },
      "source": [
        "%%sql \n",
        "\n",
        "SELECT (\"this\" || \"is\" || \"my\" || \"string\");"
      ],
      "execution_count": 18,
      "outputs": [
        {
          "output_type": "stream",
          "text": [
            " * sqlite:///chinook.db\n",
            "Done.\n"
          ],
          "name": "stdout"
        },
        {
          "output_type": "execute_result",
          "data": {
            "text/html": [
              "<table>\n",
              "    <tr>\n",
              "        <th>(&quot;this&quot; || &quot;is&quot; || &quot;my&quot; || &quot;string&quot;)</th>\n",
              "    </tr>\n",
              "    <tr>\n",
              "        <td>thisismystring</td>\n",
              "    </tr>\n",
              "</table>"
            ],
            "text/plain": [
              "[('thisismystring',)]"
            ]
          },
          "metadata": {
            "tags": []
          },
          "execution_count": 18
        }
      ]
    },
    {
      "cell_type": "markdown",
      "metadata": {
        "id": "_epUOLtyR55d",
        "colab_type": "text"
      },
      "source": [
        "Here are a few different examples of using concatenation, this time with columns from the `album` table:"
      ]
    },
    {
      "cell_type": "code",
      "metadata": {
        "id": "HYB9N9A3R7z-",
        "colab_type": "code",
        "colab": {
          "base_uri": "https://localhost:8080/",
          "height": 137
        },
        "outputId": "e3b8b7da-6876-4ee7-92df-4da7640cea8c"
      },
      "source": [
        "%%sql\n",
        "\n",
        "SELECT\n",
        "    album_id,\n",
        "    artist_id,\n",
        "    \"album id is\" || album_id col_1,\n",
        "    \"artist id is\" || artist_id col2,\n",
        "    album_id || artist_id col3\n",
        "FROM album LIMIT 3;"
      ],
      "execution_count": 19,
      "outputs": [
        {
          "output_type": "stream",
          "text": [
            " * sqlite:///chinook.db\n",
            "Done.\n"
          ],
          "name": "stdout"
        },
        {
          "output_type": "execute_result",
          "data": {
            "text/html": [
              "<table>\n",
              "    <tr>\n",
              "        <th>album_id</th>\n",
              "        <th>artist_id</th>\n",
              "        <th>col_1</th>\n",
              "        <th>col2</th>\n",
              "        <th>col3</th>\n",
              "    </tr>\n",
              "    <tr>\n",
              "        <td>1</td>\n",
              "        <td>1</td>\n",
              "        <td>album id is1</td>\n",
              "        <td>artist id is1</td>\n",
              "        <td>11</td>\n",
              "    </tr>\n",
              "    <tr>\n",
              "        <td>4</td>\n",
              "        <td>1</td>\n",
              "        <td>album id is4</td>\n",
              "        <td>artist id is1</td>\n",
              "        <td>41</td>\n",
              "    </tr>\n",
              "    <tr>\n",
              "        <td>2</td>\n",
              "        <td>2</td>\n",
              "        <td>album id is2</td>\n",
              "        <td>artist id is2</td>\n",
              "        <td>22</td>\n",
              "    </tr>\n",
              "</table>"
            ],
            "text/plain": [
              "[(1, 1, 'album id is1', 'artist id is1', '11'),\n",
              " (4, 1, 'album id is4', 'artist id is1', '41'),\n",
              " (2, 2, 'album id is2', 'artist id is2', '22')]"
            ]
          },
          "metadata": {
            "tags": []
          },
          "execution_count": 19
        }
      ]
    },
    {
      "cell_type": "markdown",
      "metadata": {
        "id": "rZMpLAxDSAoP",
        "colab_type": "text"
      },
      "source": [
        "You'll notice that the SQL engine will concatenate multiple columns, columns with a string, and that the SQL engine handles converting different types where needed.\n",
        "\n",
        "Let's use what we've learned about recursive joins and the concatenation operator to create a report about employees and their supervisors.\n",
        "\n",
        "\n",
        "**Instructions:**\n",
        "\n",
        "Write a query that returns information about each employee and their supervisor.\n",
        "- The report should include employees even if they do not report to another employee.\n",
        "- The report should be sorted alphabetically by the `employee_name` column.\n",
        "- Your query should return the following columns, in order:\n",
        "  - `employee_name` - containing the `first_name` and `last_name` columns separated by a space, eg `Luke Skywalker`\n",
        "  - `employee_title` - the title of that employee\n",
        "  - `supervisor_name` - the first and last name of the person the employee reports to, in the same format as `employee_name`\n",
        "  - `supervisor_title` - the title of the person the employee reports to"
      ]
    },
    {
      "cell_type": "code",
      "metadata": {
        "id": "MlP7orjQSVvT",
        "colab_type": "code",
        "colab": {
          "base_uri": "https://localhost:8080/",
          "height": 242
        },
        "outputId": "59e1a47e-9966-4d53-e49e-f6247498e3dd"
      },
      "source": [
        "%%sql\n",
        "\n",
        "SELECT\n",
        "    e1.first_name || \" \" || e1.last_name employee_name,\n",
        "    e1.title employee_title,\n",
        "    e2.first_name || \" \" || e2.last_name supervisor_name,\n",
        "    e2.title supervisor_title\n",
        "FROM employee e1\n",
        "LEFT JOIN employee e2 ON e1.reports_to = e2.employee_id\n",
        "ORDER BY 1;"
      ],
      "execution_count": 20,
      "outputs": [
        {
          "output_type": "stream",
          "text": [
            " * sqlite:///chinook.db\n",
            "Done.\n"
          ],
          "name": "stdout"
        },
        {
          "output_type": "execute_result",
          "data": {
            "text/html": [
              "<table>\n",
              "    <tr>\n",
              "        <th>employee_name</th>\n",
              "        <th>employee_title</th>\n",
              "        <th>supervisor_name</th>\n",
              "        <th>supervisor_title</th>\n",
              "    </tr>\n",
              "    <tr>\n",
              "        <td>Andrew Adams</td>\n",
              "        <td>General Manager</td>\n",
              "        <td>None</td>\n",
              "        <td>None</td>\n",
              "    </tr>\n",
              "    <tr>\n",
              "        <td>Jane Peacock</td>\n",
              "        <td>Sales Support Agent</td>\n",
              "        <td>Nancy Edwards</td>\n",
              "        <td>Sales Manager</td>\n",
              "    </tr>\n",
              "    <tr>\n",
              "        <td>Laura Callahan</td>\n",
              "        <td>IT Staff</td>\n",
              "        <td>Michael Mitchell</td>\n",
              "        <td>IT Manager</td>\n",
              "    </tr>\n",
              "    <tr>\n",
              "        <td>Margaret Park</td>\n",
              "        <td>Sales Support Agent</td>\n",
              "        <td>Nancy Edwards</td>\n",
              "        <td>Sales Manager</td>\n",
              "    </tr>\n",
              "    <tr>\n",
              "        <td>Michael Mitchell</td>\n",
              "        <td>IT Manager</td>\n",
              "        <td>Andrew Adams</td>\n",
              "        <td>General Manager</td>\n",
              "    </tr>\n",
              "    <tr>\n",
              "        <td>Nancy Edwards</td>\n",
              "        <td>Sales Manager</td>\n",
              "        <td>Andrew Adams</td>\n",
              "        <td>General Manager</td>\n",
              "    </tr>\n",
              "    <tr>\n",
              "        <td>Robert King</td>\n",
              "        <td>IT Staff</td>\n",
              "        <td>Michael Mitchell</td>\n",
              "        <td>IT Manager</td>\n",
              "    </tr>\n",
              "    <tr>\n",
              "        <td>Steve Johnson</td>\n",
              "        <td>Sales Support Agent</td>\n",
              "        <td>Nancy Edwards</td>\n",
              "        <td>Sales Manager</td>\n",
              "    </tr>\n",
              "</table>"
            ],
            "text/plain": [
              "[('Andrew Adams', 'General Manager', None, None),\n",
              " ('Jane Peacock', 'Sales Support Agent', 'Nancy Edwards', 'Sales Manager'),\n",
              " ('Laura Callahan', 'IT Staff', 'Michael Mitchell', 'IT Manager'),\n",
              " ('Margaret Park', 'Sales Support Agent', 'Nancy Edwards', 'Sales Manager'),\n",
              " ('Michael Mitchell', 'IT Manager', 'Andrew Adams', 'General Manager'),\n",
              " ('Nancy Edwards', 'Sales Manager', 'Andrew Adams', 'General Manager'),\n",
              " ('Robert King', 'IT Staff', 'Michael Mitchell', 'IT Manager'),\n",
              " ('Steve Johnson', 'Sales Support Agent', 'Nancy Edwards', 'Sales Manager')]"
            ]
          },
          "metadata": {
            "tags": []
          },
          "execution_count": 20
        }
      ]
    },
    {
      "cell_type": "markdown",
      "metadata": {
        "id": "jwJJ0YYtKI0I",
        "colab_type": "text"
      },
      "source": [
        "## 6. Pattern Matching Using Like"
      ]
    },
    {
      "cell_type": "markdown",
      "metadata": {
        "id": "vSxRBxWLKI27",
        "colab_type": "text"
      },
      "source": [
        "Let's say you're working as a sales support agent for Chinook, and you get back from lunch and see that one of your colleagues has left a phone message on your desk: \"Call Jen\". Writing a query to get this information out of the database might seem simple at first:"
      ]
    },
    {
      "cell_type": "code",
      "metadata": {
        "id": "aCpW3T6mSZw1",
        "colab_type": "code",
        "colab": {
          "base_uri": "https://localhost:8080/",
          "height": 74
        },
        "outputId": "7d53e90f-68ee-41be-9575-b8d20fc9da43"
      },
      "source": [
        "%%sql\n",
        "\n",
        "SELECT\n",
        "    first_name,\n",
        "    last_name,\n",
        "    phone\n",
        "FROM customer\n",
        "WHERE first_name = \"Jen\";"
      ],
      "execution_count": 21,
      "outputs": [
        {
          "output_type": "stream",
          "text": [
            " * sqlite:///chinook.db\n",
            "Done.\n"
          ],
          "name": "stdout"
        },
        {
          "output_type": "execute_result",
          "data": {
            "text/html": [
              "<table>\n",
              "    <tr>\n",
              "        <th>first_name</th>\n",
              "        <th>last_name</th>\n",
              "        <th>phone</th>\n",
              "    </tr>\n",
              "</table>"
            ],
            "text/plain": [
              "[]"
            ]
          },
          "metadata": {
            "tags": []
          },
          "execution_count": 21
        }
      ]
    },
    {
      "cell_type": "markdown",
      "metadata": {
        "id": "0GH_LmNlSg26",
        "colab_type": "text"
      },
      "source": [
        "No rows were returned by your query! Suddenly you realize— the name in the database might not be exactly \"Jen\", it might be Jenny, Jennifer, Jenna, or something else. Rather than having to keep trying different combinations, we can use the `LIKE` operator to find pattern matches. The syntax for `LIKE` is as follows:\n",
        "\n",
        "```\n",
        "WHERE [column_name] LIKE \"[pattern]\"\n",
        "```\n",
        "\n",
        "Your pattern should be the substring you want to match for, and one or more `%` characters:\n",
        "\n",
        "- `%Jen` - will match `Jen` at the end of a string, eg `Sarah-Jen`\n",
        "- `Jen%` - will match `Jen` at the start of a string, eg `Jenny`\n",
        "- `%Jen%` - will match `Jen` anywhere within the string, eg `Kris Jenner`\n",
        "\n",
        "We'll use the last pattern to give ourselves the best chance of a match:"
      ]
    },
    {
      "cell_type": "code",
      "metadata": {
        "id": "6frcs1oYS_GG",
        "colab_type": "code",
        "colab": {
          "base_uri": "https://localhost:8080/",
          "height": 95
        },
        "outputId": "4b9fcdea-9cdd-4055-a7e1-f7186c4d8146"
      },
      "source": [
        "%%sql\n",
        "\n",
        "SELECT\n",
        "    first_name,\n",
        "    last_name,\n",
        "    phone\n",
        "FROM customer\n",
        "WHERE first_name LIKE \"%Jen%\";"
      ],
      "execution_count": 22,
      "outputs": [
        {
          "output_type": "stream",
          "text": [
            " * sqlite:///chinook.db\n",
            "Done.\n"
          ],
          "name": "stdout"
        },
        {
          "output_type": "execute_result",
          "data": {
            "text/html": [
              "<table>\n",
              "    <tr>\n",
              "        <th>first_name</th>\n",
              "        <th>last_name</th>\n",
              "        <th>phone</th>\n",
              "    </tr>\n",
              "    <tr>\n",
              "        <td>Jennifer</td>\n",
              "        <td>Peterson</td>\n",
              "        <td>+1 (604) 688-2255</td>\n",
              "    </tr>\n",
              "</table>"
            ],
            "text/plain": [
              "[('Jennifer', 'Peterson', '+1 (604) 688-2255')]"
            ]
          },
          "metadata": {
            "tags": []
          },
          "execution_count": 22
        }
      ]
    },
    {
      "cell_type": "markdown",
      "metadata": {
        "id": "lrd8yaTdTDJa",
        "colab_type": "text"
      },
      "source": [
        "Perfect - we have found one match and have Jennifer's number so we can return her call.\n",
        "\n",
        "Keep in mind that in SQLite `LIKE` is case insensitive, so `LIKE \"%jen%\"` will match `Jen` and `JEN` and `JeN`. Other flavors of SQL may be case sensitive, so you may need to use the `LOWER()` [function](https://stackoverflow.com/questions/18853452/sql-select-like-insensitive-casing) to get a case insensitive match.\n",
        "\n",
        "Let's use `LIKE` to find a different customer from our database.\n",
        "\n",
        "\n",
        "**Instructions:**\n",
        "\n",
        "You have just returned from lunch to see another phone message on your desk: \"Call Belle.\"\n",
        "\n",
        "Write a query that finds the contact details of a customer with a `first_name` containing `Belle` from the database. Your query should include the following columns, in order:\n",
        "- `first_name`\n",
        "- `last_name`\n",
        "- `phone`"
      ]
    },
    {
      "cell_type": "code",
      "metadata": {
        "id": "e5uuiDsVTj1M",
        "colab_type": "code",
        "colab": {
          "base_uri": "https://localhost:8080/",
          "height": 95
        },
        "outputId": "5e32982f-3f5d-4bd3-f779-49bde921a667"
      },
      "source": [
        "%%sql\n",
        "\n",
        "SELECT\n",
        "    first_name,\n",
        "    last_name,\n",
        "    phone\n",
        "  FROM customer\n",
        " WHERE first_name LIKE \"%belle%\";"
      ],
      "execution_count": 23,
      "outputs": [
        {
          "output_type": "stream",
          "text": [
            " * sqlite:///chinook.db\n",
            "Done.\n"
          ],
          "name": "stdout"
        },
        {
          "output_type": "execute_result",
          "data": {
            "text/html": [
              "<table>\n",
              "    <tr>\n",
              "        <th>first_name</th>\n",
              "        <th>last_name</th>\n",
              "        <th>phone</th>\n",
              "    </tr>\n",
              "    <tr>\n",
              "        <td>Isabelle</td>\n",
              "        <td>Mercier</td>\n",
              "        <td>+33 03 80 73 66 99</td>\n",
              "    </tr>\n",
              "</table>"
            ],
            "text/plain": [
              "[('Isabelle', 'Mercier', '+33 03 80 73 66 99')]"
            ]
          },
          "metadata": {
            "tags": []
          },
          "execution_count": 23
        }
      ]
    },
    {
      "cell_type": "markdown",
      "metadata": {
        "id": "pzfjzO07KI5v",
        "colab_type": "text"
      },
      "source": [
        "## 7. Generating Columns With The Case Statement"
      ]
    },
    {
      "cell_type": "markdown",
      "metadata": {
        "id": "oIJqDRgnKI8l",
        "colab_type": "text"
      },
      "source": [
        "Sometimes, you'll want to add some sort of categorization to your query. Let's say we wanted to generate a report summarizing each customer's purchases. It might be nice to create a column that puts each customer into a category:\n",
        "\n",
        "- `small spender` - If the customer's total purchases are less than USD40.\n",
        "- `big spender` - If the customer's total purchases are greater than USD100.\n",
        "- `regular` - If the customer's total purchases are between USD40 and USD100 (inclusive).\n",
        "\n",
        "To achieve this, we'll need to use the case statement. The case statement acts like a series of if/then options for a new column. The syntax for `CASE` is:\n",
        "\n",
        "```\n",
        "CASE\n",
        "    WHEN [comparison_1] THEN [value_1]\n",
        "    WHEN [comparison_2] THEN [value_2]\n",
        "    ELSE [value_3]\n",
        "    END\n",
        "    AS [new_column_name]\n",
        "```\n",
        "\n",
        "There can be 1 or more `WHEN` lines, and the `ELSE` line is optional— without it, rows that don't match any `WHEN` will be assigned a null value. Let's start by looking at a simple example. The `media_type` table contains the name of five different media types:"
      ]
    },
    {
      "cell_type": "code",
      "metadata": {
        "id": "66d3l6j9T-dC",
        "colab_type": "code",
        "colab": {
          "base_uri": "https://localhost:8080/",
          "height": 179
        },
        "outputId": "ee20dc50-dd9c-42d6-ea91-9de9dcffac5b"
      },
      "source": [
        "%%sql\n",
        "\n",
        "SELECT * FROM media_type;"
      ],
      "execution_count": 24,
      "outputs": [
        {
          "output_type": "stream",
          "text": [
            " * sqlite:///chinook.db\n",
            "Done.\n"
          ],
          "name": "stdout"
        },
        {
          "output_type": "execute_result",
          "data": {
            "text/html": [
              "<table>\n",
              "    <tr>\n",
              "        <th>media_type_id</th>\n",
              "        <th>name</th>\n",
              "    </tr>\n",
              "    <tr>\n",
              "        <td>1</td>\n",
              "        <td>MPEG audio file</td>\n",
              "    </tr>\n",
              "    <tr>\n",
              "        <td>2</td>\n",
              "        <td>Protected AAC audio file</td>\n",
              "    </tr>\n",
              "    <tr>\n",
              "        <td>3</td>\n",
              "        <td>Protected MPEG-4 video file</td>\n",
              "    </tr>\n",
              "    <tr>\n",
              "        <td>4</td>\n",
              "        <td>Purchased AAC audio file</td>\n",
              "    </tr>\n",
              "    <tr>\n",
              "        <td>5</td>\n",
              "        <td>AAC audio file</td>\n",
              "    </tr>\n",
              "</table>"
            ],
            "text/plain": [
              "[(1, 'MPEG audio file'),\n",
              " (2, 'Protected AAC audio file'),\n",
              " (3, 'Protected MPEG-4 video file'),\n",
              " (4, 'Purchased AAC audio file'),\n",
              " (5, 'AAC audio file')]"
            ]
          },
          "metadata": {
            "tags": []
          },
          "execution_count": 24
        }
      ]
    },
    {
      "cell_type": "markdown",
      "metadata": {
        "id": "lO7QoquKKI_G",
        "colab_type": "text"
      },
      "source": [
        "Let's look at how we can use `CASE` to add a new column `protected`, which indicates whether each media type is protected.\n",
        "\n",
        "```\n",
        "SELECT\n",
        "    media_type_id,\n",
        "    name,\n",
        "    CASE\n",
        "        WHEN name LIKE '%Protected%' THEN 1\n",
        "        ELSE 0\n",
        "        END\n",
        "        AS protected\n",
        "FROM media_type;\n",
        "```\n",
        "media_type_id\t|name | protected\n",
        "--- | ---|---\n",
        "1|\tMPEG audio file\t|0\n",
        "2\t|Protected AAC audio file\t|1\n",
        "3|\tProtected MPEG-4 video file\t|1\n",
        "4\t|Purchased AAC audio file\t|0\n",
        "5\t|AAC audio file\t|0\n",
        "\n",
        "\n",
        "\n",
        "\n"
      ]
    },
    {
      "cell_type": "markdown",
      "metadata": {
        "id": "8mGtacRyUMEk",
        "colab_type": "text"
      },
      "source": [
        "In this example, our `CASE` statement has a single `WHEN` which looks for a partial match of the string `Protected` in the `name` column. Any rows with a match get a value of `1`; all other rows get `0`.\n",
        "\n",
        "Let's now put `CASE` into practice using our initial scenario, where we want to categorize customers by their purchase history.\n",
        "\n",
        "You'll need to know that you can't use aliases in the `WHEN` line, so when writing a `CASE` statement that deals with aggregate functions, you will need to include the aggregate function in each `WHEN` line.\n",
        "\n",
        "\n",
        "**Instructions:**\n",
        "\n",
        "Write a query that summarizes the purchases of each customer. For the purposes of this exercise, we do not have any two customers with the same name.\n",
        "- Your query should include the following columns, in order:\n",
        "\n",
        "  - `customer_name` - containing the `first_name` and `last_name` columns separated by a space, eg `Luke Skywalker`.\n",
        "  - `number_of_purchases`, counting the number of purchases made by each customer.\n",
        "  - `total_spent` - the total sum of money spent by each customer.\n",
        "  - `customer_category` - a column that categorizes the customer based on their total purchases. The column should contain the following values:\n",
        "    - `small spender` - If the customer's total purchases are less than $40.\n",
        "    - `big spender` - If the customer's total purchases are greater than $100.\n",
        "    - `regular` - If the customer's total purchases are between $40 and $100 (inclusive).\n",
        "- Order your results by the `customer_name` column.\n"
      ]
    },
    {
      "cell_type": "code",
      "metadata": {
        "id": "JlIrMY8xVi7E",
        "colab_type": "code",
        "colab": {
          "base_uri": "https://localhost:8080/",
          "height": 389
        },
        "outputId": "aac9b060-a401-4208-ada9-ad991abc1036"
      },
      "source": [
        "%%sql\n",
        "\n",
        "SELECT\n",
        "   c.first_name || \" \" || c.last_name customer_name,\n",
        "   COUNT(i.invoice_id) number_of_purchases,\n",
        "   SUM(i.total) total_spent,\n",
        "   CASE\n",
        "       WHEN sum(i.total) < 40 THEN 'small spender'\n",
        "       WHEN sum(i.total) > 100 THEN 'big spender'\n",
        "       ELSE 'regular'\n",
        "       END\n",
        "       AS customer_category\n",
        "  FROM invoice i\n",
        " INNER JOIN customer c ON i.customer_id = c.customer_id\n",
        " GROUP BY 1 \n",
        " ORDER BY 1\n",
        " LIMIT 15;"
      ],
      "execution_count": 30,
      "outputs": [
        {
          "output_type": "stream",
          "text": [
            " * sqlite:///chinook.db\n",
            "Done.\n"
          ],
          "name": "stdout"
        },
        {
          "output_type": "execute_result",
          "data": {
            "text/html": [
              "<table>\n",
              "    <tr>\n",
              "        <th>customer_name</th>\n",
              "        <th>number_of_purchases</th>\n",
              "        <th>total_spent</th>\n",
              "        <th>customer_category</th>\n",
              "    </tr>\n",
              "    <tr>\n",
              "        <td>Aaron Mitchell</td>\n",
              "        <td>8</td>\n",
              "        <td>70.28999999999999</td>\n",
              "        <td>regular</td>\n",
              "    </tr>\n",
              "    <tr>\n",
              "        <td>Alexandre Rocha</td>\n",
              "        <td>10</td>\n",
              "        <td>69.3</td>\n",
              "        <td>regular</td>\n",
              "    </tr>\n",
              "    <tr>\n",
              "        <td>Astrid Gruber</td>\n",
              "        <td>9</td>\n",
              "        <td>69.3</td>\n",
              "        <td>regular</td>\n",
              "    </tr>\n",
              "    <tr>\n",
              "        <td>Bjørn Hansen</td>\n",
              "        <td>9</td>\n",
              "        <td>72.27000000000001</td>\n",
              "        <td>regular</td>\n",
              "    </tr>\n",
              "    <tr>\n",
              "        <td>Camille Bernard</td>\n",
              "        <td>9</td>\n",
              "        <td>79.2</td>\n",
              "        <td>regular</td>\n",
              "    </tr>\n",
              "    <tr>\n",
              "        <td>Daan Peeters</td>\n",
              "        <td>7</td>\n",
              "        <td>60.38999999999999</td>\n",
              "        <td>regular</td>\n",
              "    </tr>\n",
              "    <tr>\n",
              "        <td>Dan Miller</td>\n",
              "        <td>12</td>\n",
              "        <td>95.03999999999999</td>\n",
              "        <td>regular</td>\n",
              "    </tr>\n",
              "    <tr>\n",
              "        <td>Diego Gutiérrez</td>\n",
              "        <td>5</td>\n",
              "        <td>39.6</td>\n",
              "        <td>small spender</td>\n",
              "    </tr>\n",
              "    <tr>\n",
              "        <td>Dominique Lefebvre</td>\n",
              "        <td>9</td>\n",
              "        <td>72.27</td>\n",
              "        <td>regular</td>\n",
              "    </tr>\n",
              "    <tr>\n",
              "        <td>Eduardo Martins</td>\n",
              "        <td>12</td>\n",
              "        <td>60.39</td>\n",
              "        <td>regular</td>\n",
              "    </tr>\n",
              "    <tr>\n",
              "        <td>Edward Francis</td>\n",
              "        <td>13</td>\n",
              "        <td>91.08</td>\n",
              "        <td>regular</td>\n",
              "    </tr>\n",
              "    <tr>\n",
              "        <td>Ellie Sullivan</td>\n",
              "        <td>12</td>\n",
              "        <td>75.24000000000001</td>\n",
              "        <td>regular</td>\n",
              "    </tr>\n",
              "    <tr>\n",
              "        <td>Emma Jones</td>\n",
              "        <td>8</td>\n",
              "        <td>68.31</td>\n",
              "        <td>regular</td>\n",
              "    </tr>\n",
              "    <tr>\n",
              "        <td>Enrique Muñoz</td>\n",
              "        <td>11</td>\n",
              "        <td>98.01</td>\n",
              "        <td>regular</td>\n",
              "    </tr>\n",
              "    <tr>\n",
              "        <td>Fernanda Ramos</td>\n",
              "        <td>15</td>\n",
              "        <td>106.91999999999999</td>\n",
              "        <td>big spender</td>\n",
              "    </tr>\n",
              "</table>"
            ],
            "text/plain": [
              "[('Aaron Mitchell', 8, 70.28999999999999, 'regular'),\n",
              " ('Alexandre Rocha', 10, 69.3, 'regular'),\n",
              " ('Astrid Gruber', 9, 69.3, 'regular'),\n",
              " ('Bjørn Hansen', 9, 72.27000000000001, 'regular'),\n",
              " ('Camille Bernard', 9, 79.2, 'regular'),\n",
              " ('Daan Peeters', 7, 60.38999999999999, 'regular'),\n",
              " ('Dan Miller', 12, 95.03999999999999, 'regular'),\n",
              " ('Diego Gutiérrez', 5, 39.6, 'small spender'),\n",
              " ('Dominique Lefebvre', 9, 72.27, 'regular'),\n",
              " ('Eduardo Martins', 12, 60.39, 'regular'),\n",
              " ('Edward Francis', 13, 91.08, 'regular'),\n",
              " ('Ellie Sullivan', 12, 75.24000000000001, 'regular'),\n",
              " ('Emma Jones', 8, 68.31, 'regular'),\n",
              " ('Enrique Muñoz', 11, 98.01, 'regular'),\n",
              " ('Fernanda Ramos', 15, 106.91999999999999, 'big spender')]"
            ]
          },
          "metadata": {
            "tags": []
          },
          "execution_count": 30
        }
      ]
    },
    {
      "cell_type": "markdown",
      "metadata": {
        "id": "c5K8m3NaKJBV",
        "colab_type": "text"
      },
      "source": [
        "## 8. Next Steps"
      ]
    },
    {
      "cell_type": "markdown",
      "metadata": {
        "id": "QSfyeRlOKJEb",
        "colab_type": "text"
      },
      "source": [
        "In this mission, we learned how to work with databases with more than two tables, including how to:\n",
        "\n",
        "- write queries that join 3 or more tables\n",
        "- combine multiple joins with subqueries\n",
        "- create recursive joins\n",
        "- use `LIKE` to incorporate partial matches\n",
        "- generate conditional columns using `CASE`\n",
        "\n",
        "In the next mission, we'll continue to work with the Chinook database while we learn how to:\n",
        "\n",
        "- write increasingly complex queries\n",
        "- construct and format queries that are easy to read\n",
        "- create temporary and permanent views using with and view\n",
        "- use set operations to combine rows\n",
        "\n",
        "\n",
        "\n",
        "---\n",
        "\n"
      ]
    }
  ]
}