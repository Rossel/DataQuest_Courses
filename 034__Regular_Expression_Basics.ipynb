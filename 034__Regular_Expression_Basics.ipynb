{
  "nbformat": 4,
  "nbformat_minor": 0,
  "metadata": {
    "colab": {
      "name": "034__Regular_Expression_Basics.ipynb",
      "provenance": [],
      "authorship_tag": "ABX9TyMt9yY4hiXYBr3k12PQ2a9G",
      "include_colab_link": true
    },
    "kernelspec": {
      "name": "python3",
      "display_name": "Python 3"
    }
  },
  "cells": [
    {
      "cell_type": "markdown",
      "metadata": {
        "id": "view-in-github",
        "colab_type": "text"
      },
      "source": [
        "<a href=\"https://colab.research.google.com/github/Rossel/DataQuest_Courses/blob/master/034__Regular_Expression_Basics.ipynb\" target=\"_parent\"><img src=\"https://colab.research.google.com/assets/colab-badge.svg\" alt=\"Open In Colab\"/></a>"
      ]
    },
    {
      "cell_type": "markdown",
      "metadata": {
        "id": "6PWQ-EVGT2s_"
      },
      "source": [
        "# COURSE 5/6: DATA CLEANING IN PYTHON: ADVANCED"
      ]
    },
    {
      "cell_type": "markdown",
      "metadata": {
        "id": "THaX315BT2wD"
      },
      "source": [
        "# MISSION 1: Regular Expression Basics"
      ]
    },
    {
      "cell_type": "markdown",
      "metadata": {
        "id": "bqvHISHhhbIr"
      },
      "source": [
        "Learn to perform data cleaning with regular expressions."
      ]
    },
    {
      "cell_type": "markdown",
      "metadata": {
        "id": "tQBrAPM9JEko"
      },
      "source": [
        "## 1. Introduction"
      ]
    },
    {
      "cell_type": "markdown",
      "metadata": {
        "id": "MccUxipEGucJ"
      },
      "source": [
        "In the previous course, we learned that regular expressions are a powerful way of building patterns to match text. In the first two missions of this Data Cleaning Advanced course, we're going to extend our knowledge about this extremely powerful tool that every data scientist should be familiar with.\n",
        "\n",
        "As powerful as regular expressions are, they can be difficult to learn at first and the syntax can look visually intimidating. As a result, a lot of students end up disliking regular expressions and try to avoid using them, instead opting to write more cumbersome code.\n",
        "\n",
        "![IMG](https://s3.amazonaws.com/dq-content/354/difficult_regex_v2.svg)"
      ]
    },
    {
      "cell_type": "markdown",
      "metadata": {
        "id": "rCX35jf-HZ1E"
      },
      "source": [
        "That said, learning (and loving!) regular expressions is something that is a worthwhile investment\n",
        "\n",
        "- Once you understand how they work, complex operations with string data can be written a lot quicker, which will save you time.\n",
        "- Regular expressions are often faster to execute than their manual equivalents.\n",
        "- Regular expressions are supported in almost every modern programming language, as well as other places like command line utilities and databases. Understanding regular expressions gives you a powerful tool that you can use wherever you work with data."
      ]
    },
    {
      "cell_type": "markdown",
      "metadata": {
        "id": "VzVPxrStHiqk"
      },
      "source": [
        "We could probably fill a whole Dataquest course with the intricacies of regular expressions, but instead we're going to give you a two-mission tour of the main components.\n",
        "\n",
        "One thing to keep in mind before we start: don't expect to remember all of the regular expression syntax. The most important thing is to understand the core principles, what is possible, and where to look up the details. This will mean you can quickly jog your memory whenever you need regular expressions.\n",
        "\n",
        "With that in mind, don't be put off if some things in these missions don't stick in your memory. As long as you are able to write and understand regular expressions with the help of documentation and/or other reference guides, you have all the skills you need to excel.\n",
        "\n"
      ]
    },
    {
      "cell_type": "markdown",
      "metadata": {
        "id": "-rEaBapnuPBC"
      },
      "source": [
        "We'll be learning regular expressions while performing analysis on a dataset of submissions to popular technology site [Hacker News](https://news.ycombinator.com/).\n",
        "\n",
        "![img](https://s3.amazonaws.com/dq-content/354/hacker_news.jpg)\n",
        "\n",
        "Hacker News is a site started by the startup incubator Y Combinator, where user-submitted stories (known as \"stories\") are voted and commented upon, similar to reddit. Hacker News is extremely popular in technology and startup circles; stories that make it to the top of Hacker News' listings can get hundreds of thousands of visitors.\n",
        "\n",
        "\n",
        "\n"
      ]
    },
    {
      "cell_type": "markdown",
      "metadata": {
        "id": "sBGGmrPXuYgV"
      },
      "source": [
        "The dataset we will be working with is based off [this CSV of Hacker News stories from September 2015 to September 2016](). The columns in the dataset are explained below:\n",
        "\n",
        "- `id`: The unique identifier from Hacker News for the story\n",
        "- `title`: The title of the story\n",
        "- `url`: The URL that the stories links to, if the story has a URL\n",
        "- `num_points`: The number of points the story acquired, calculated as the total number of upvotes minus the total number of downvotes\n",
        "- `num_comments`: The number of comments that were made on the story\n",
        "- `author`: The username of the person who submitted the story\n",
        "- `created_at`: The date and time at which the story was submitted\n"
      ]
    },
    {
      "cell_type": "markdown",
      "metadata": {
        "id": "tDxxZkuGuvZm"
      },
      "source": [
        "For teaching purposes, we have reduced the dataset from the almost 300,000 rows in its original form to approximately 20,000 rows by removing all submissions that did not receive any comments, and then randomly sampling from the remaining submissions. You can download the modified dataset using the dataset preview tool.\n",
        "\n",
        "Let's start by reading our Hacker News dataset into a pandas dataframe."
      ]
    },
    {
      "cell_type": "markdown",
      "metadata": {
        "id": "vR_huuJMuz9t"
      },
      "source": [
        "**Instructions:**\n",
        "\n",
        "1. Import the pandas library.\n",
        "2. Read the `hacker_news.csv` file into a pandas dataframe. Assign the result to `hn`.\n",
        "3. After you have completed the code exercise, use the variable inspector to familiarize yourself with the dataset."
      ]
    },
    {
      "cell_type": "code",
      "metadata": {
        "id": "N7FYmDTcu_DC"
      },
      "source": [
        ""
      ],
      "execution_count": null,
      "outputs": []
    },
    {
      "cell_type": "markdown",
      "metadata": {
        "id": "6LqVPqelvWve"
      },
      "source": [
        "## 2. The Regular Expression Module"
      ]
    },
    {
      "cell_type": "markdown",
      "metadata": {
        "id": "zeIQzbM_vYZY"
      },
      "source": [
        "When working with regular expressions, we use the term pattern to describe a regular expression that we've written. If the **pattern** is found within the string we're searching, we say that it has **matched**.\n",
        "\n",
        "As we previously learned, letters and numbers represent themselves in regular expressions. If we wanted to find the string `\"and\"` within another string, the regex pattern for that is simply `and`:\n",
        "\n",
        "![img](https://s3.amazonaws.com/dq-content/354/basic_match_1.svg)"
      ]
    },
    {
      "cell_type": "markdown",
      "metadata": {
        "id": "-Nxu5DIgv5VA"
      },
      "source": [
        "In the third example above, the pattern `and` does not match `Andrew` because even though `a` and `A` are the same letter, the two *characters* are unique.\n",
        "\n",
        "We previously used regular expressions with pandas, but Python also has a built-in module for regular expressions: The `re` [module](https://docs.python.org/3/library/re.html#module-re). This module contains a number of different functions and classes for working with regular expressions. One of the most useful functions from the `re` module is the `re.search()` [function](https://docs.python.org/3/library/re.html#re.search), which takes two required arguments:\n",
        "\n",
        "- The regex pattern\n",
        "- The string we want to search that pattern for\n"
      ]
    },
    {
      "cell_type": "code",
      "metadata": {
        "id": "Wz6_KNyzwQuc"
      },
      "source": [
        "import re\n",
        "\n",
        "m = re.search(\"and\", \"hand\")\n",
        "print(m)"
      ],
      "execution_count": null,
      "outputs": []
    },
    {
      "cell_type": "markdown",
      "metadata": {
        "id": "ZRhGTunNwUtG"
      },
      "source": [
        "```\n",
        "< _sre.SRE_Match object; span=(1, 4), match='and' >\n",
        "```\n",
        "The `re.search()` function will return a `Match` [object](https://docs.python.org/3/library/re.html#match-objects) if the pattern is found anywhere within the string. If the pattern is not found, `re.search()` returns `None`:"
      ]
    },
    {
      "cell_type": "code",
      "metadata": {
        "id": "LiDiYf7YwdtS"
      },
      "source": [
        "m = re.search(\"and\", \"antidote\")\n",
        "print(m)"
      ],
      "execution_count": null,
      "outputs": []
    },
    {
      "cell_type": "markdown",
      "metadata": {
        "id": "ef6E9eqDwoDJ"
      },
      "source": [
        "```\n",
        "None\n",
        "```\n",
        "\n",
        "We'll learn more about match objects later. For now, we can use the fact that the boolean value of a match object is `True` while `None` is `False` to easily check whether our regex matches each string in a list. We'll create a list of three simple strings to use while learning these concepts:"
      ]
    },
    {
      "cell_type": "code",
      "metadata": {
        "id": "p93qXjI3eO1q"
      },
      "source": [
        "string_list = [\"Julie's favorite color is Blue.\",\n",
        "               \"Keli's favorite color is Green.\",\n",
        "               \"Craig's favorite colors are blue and red.\"]\n",
        "\n",
        "pattern = \"Blue\"\n",
        "\n",
        "for s in string_list:\n",
        "    if re.search(pattern, s):\n",
        "        print(\"Match\")\n",
        "    else:\n",
        "        print(\"No Match\")"
      ],
      "execution_count": null,
      "outputs": []
    },
    {
      "cell_type": "markdown",
      "metadata": {
        "id": "S1oVRyJJeRkz"
      },
      "source": [
        "So far, we haven't done anything with regular expressions that we couldn't do using the `in` keyword. The power of regular expressions comes when we use one of the special character sequences.\n",
        "\n",
        "The first of these we'll learn is called a **set**. A set allows us to specify two or more characters that can match in a single character's position.\n",
        "\n"
      ]
    },
    {
      "cell_type": "markdown",
      "metadata": {
        "id": "_bSDhQhsebza"
      },
      "source": [
        "We define a set by placing the characters we want to match for in square brackets:\n",
        "\n",
        "![img](https://s3.amazonaws.com/dq-content/354/set_syntax_breakdown.svg)\n",
        "\n",
        "The regular expression above will match the strings `mend`, `send`, and `bend`.\n",
        "\n",
        "Let's look at how we can add sets to match more of our example strings from earlier:\n",
        "\n",
        "![img](https://s3.amazonaws.com/dq-content/354/basic_match_2.svg)\n"
      ]
    },
    {
      "cell_type": "markdown",
      "metadata": {
        "id": "9rtinQO4e3nk"
      },
      "source": [
        "Let's take another look at the list of strings we used earlier:\n",
        "\n"
      ]
    },
    {
      "cell_type": "code",
      "metadata": {
        "id": "DCZfYeEHe54T"
      },
      "source": [
        "string_list = [\"Julie's favorite color is Blue.\",\n",
        "               \"Keli's favorite color is Green.\",\n",
        "               \"Craig's favorite colors are blue and red.\"]"
      ],
      "execution_count": null,
      "outputs": []
    },
    {
      "cell_type": "markdown",
      "metadata": {
        "id": "dmyL-NNGe-PE"
      },
      "source": [
        "If you look closely, you'll notice the first string contains the substring `Blue` with a capital letter, where the third string contains the substring `blue` in all lowercase. We can use the set `[Bb]` for the first character so that we can match both variations, and then use that to count how many times `Blue` or `blue` occur in the list:\n",
        "\n"
      ]
    },
    {
      "cell_type": "code",
      "metadata": {
        "id": "PYBfmHBSfKlS"
      },
      "source": [
        "blue_mentions = 0\n",
        "pattern = \"[Bb]lue\"\n",
        "\n",
        "for s in string_list:\n",
        "    if re.search(pattern, s):\n",
        "        blue_mentions += 1\n",
        "\n",
        "print(blue_mentions)"
      ],
      "execution_count": null,
      "outputs": []
    },
    {
      "cell_type": "markdown",
      "metadata": {
        "id": "5qjxl8-EfLaJ"
      },
      "source": [
        "We're going to use this technique to find out how many times Python is mentioned in the title of stories in our Hacker News dataset. We'll use a set to check for both `Python` with a capital 'P' and `python` with a lowercase 'p'.\n",
        "\n"
      ]
    },
    {
      "cell_type": "markdown",
      "metadata": {
        "id": "cWF0Iv6EfQ7R"
      },
      "source": [
        "**Instructions:**\n",
        "\n",
        "We have provided code to import the `re` module and extract a **list**, `titles`, containing all the titles from our dataset.\n",
        "\n",
        "1. Initialize a variable `python_mentions` with the integer value `0`.\n",
        "2. Create a string — `pattern` — containing a regular expression pattern that uses a set to match `Python` or `python`.\n",
        "3. Use a loop to iterate over each item in the `titles` list, and for each item:\n",
        " - Use the `re.search()` function to check whether `pattern` matches the title.\n",
        " - If `re.search()` returns a match object, increment (add `1` to) the `python_mentions` variable."
      ]
    },
    {
      "cell_type": "code",
      "metadata": {
        "id": "5mXsM-Gkf0-B"
      },
      "source": [
        ""
      ],
      "execution_count": null,
      "outputs": []
    },
    {
      "cell_type": "markdown",
      "metadata": {
        "id": "7OcrslezvYn9"
      },
      "source": [
        "## 3. Counting Matches with pandas Methods"
      ]
    },
    {
      "cell_type": "markdown",
      "metadata": {
        "id": "MvvAeyhJvYxO"
      },
      "source": [
        ""
      ]
    },
    {
      "cell_type": "code",
      "metadata": {
        "id": "V4_BQWFOeUlo"
      },
      "source": [
        ""
      ],
      "execution_count": null,
      "outputs": []
    },
    {
      "cell_type": "markdown",
      "metadata": {
        "id": "hUWGaeaIvY2S"
      },
      "source": [
        "## 4. Using Regular Expressions to Select Data"
      ]
    },
    {
      "cell_type": "markdown",
      "metadata": {
        "id": "qdBxTpFgvY8B"
      },
      "source": [
        ""
      ]
    },
    {
      "cell_type": "markdown",
      "metadata": {
        "id": "3KBf0aiuvZBE"
      },
      "source": [
        "## 5. Quantifiers"
      ]
    },
    {
      "cell_type": "markdown",
      "metadata": {
        "id": "hPS9gidyvZGc"
      },
      "source": [
        ""
      ]
    },
    {
      "cell_type": "markdown",
      "metadata": {
        "id": "ehontc_jvZMb"
      },
      "source": [
        "## 6. Character Classes"
      ]
    },
    {
      "cell_type": "markdown",
      "metadata": {
        "id": "BHtCX5h-vZSW"
      },
      "source": [
        ""
      ]
    },
    {
      "cell_type": "markdown",
      "metadata": {
        "id": "pZNgdLe6vZYq"
      },
      "source": [
        "## 7. Accessing the Matching Text with Capture Groups"
      ]
    },
    {
      "cell_type": "markdown",
      "metadata": {
        "id": "hcqZ2wuvvZeI"
      },
      "source": [
        ""
      ]
    },
    {
      "cell_type": "markdown",
      "metadata": {
        "id": "LtTWdk6UvZkC"
      },
      "source": [
        "## 8. Negative Character Classes"
      ]
    },
    {
      "cell_type": "markdown",
      "metadata": {
        "id": "DB71p3oIvZq9"
      },
      "source": [
        ""
      ]
    },
    {
      "cell_type": "markdown",
      "metadata": {
        "id": "RoPZr8o5vZwt"
      },
      "source": [
        "## 9. Word Boundaries"
      ]
    },
    {
      "cell_type": "markdown",
      "metadata": {
        "id": "M41e6lwNvZ28"
      },
      "source": [
        ""
      ]
    },
    {
      "cell_type": "markdown",
      "metadata": {
        "id": "0p3MPI7pvZ8X"
      },
      "source": [
        "## 10. Matching at the Start and End of Strings"
      ]
    },
    {
      "cell_type": "markdown",
      "metadata": {
        "id": "nNJofC6avlj4"
      },
      "source": [
        ""
      ]
    },
    {
      "cell_type": "markdown",
      "metadata": {
        "id": "IvfIE5WbvluE"
      },
      "source": [
        "## 11. Challenge: Using Flags to Modify Regex Patterns"
      ]
    },
    {
      "cell_type": "markdown",
      "metadata": {
        "id": "Ye8rnyiXvmhl"
      },
      "source": [
        ""
      ]
    },
    {
      "cell_type": "markdown",
      "metadata": {
        "id": "bgQDEUlTvm0n"
      },
      "source": [
        "## 12. Next Steps"
      ]
    },
    {
      "cell_type": "markdown",
      "metadata": {
        "id": "9r5hpAtFvwHz"
      },
      "source": [
        ""
      ]
    }
  ]
}