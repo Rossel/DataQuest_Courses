{
  "nbformat": 4,
  "nbformat_minor": 0,
  "metadata": {
    "colab": {
      "name": "034__Regular_Expression_Basics.ipynb",
      "provenance": [],
      "authorship_tag": "ABX9TyP0CXmb/3jXntoT8GIP9YKD",
      "include_colab_link": true
    },
    "kernelspec": {
      "name": "python3",
      "display_name": "Python 3"
    }
  },
  "cells": [
    {
      "cell_type": "markdown",
      "metadata": {
        "id": "view-in-github",
        "colab_type": "text"
      },
      "source": [
        "<a href=\"https://colab.research.google.com/github/Rossel/DataQuest_Courses/blob/master/034__Regular_Expression_Basics.ipynb\" target=\"_parent\"><img src=\"https://colab.research.google.com/assets/colab-badge.svg\" alt=\"Open In Colab\"/></a>"
      ]
    },
    {
      "cell_type": "markdown",
      "metadata": {
        "id": "6PWQ-EVGT2s_"
      },
      "source": [
        "# COURSE 5/6: DATA CLEANING IN PYTHON: ADVANCED"
      ]
    },
    {
      "cell_type": "markdown",
      "metadata": {
        "id": "THaX315BT2wD"
      },
      "source": [
        "# MISSION 1: Regular Expression Basics"
      ]
    },
    {
      "cell_type": "markdown",
      "metadata": {
        "id": "bqvHISHhhbIr"
      },
      "source": [
        "Learn to perform data cleaning with regular expressions."
      ]
    },
    {
      "cell_type": "markdown",
      "metadata": {
        "id": "tQBrAPM9JEko"
      },
      "source": [
        "## 1. Introduction"
      ]
    },
    {
      "cell_type": "markdown",
      "metadata": {
        "id": "MccUxipEGucJ"
      },
      "source": [
        "In the previous course, we learned that regular expressions are a powerful way of building patterns to match text. In the first two missions of this Data Cleaning Advanced course, we're going to extend our knowledge about this extremely powerful tool that every data scientist should be familiar with.\n",
        "\n",
        "As powerful as regular expressions are, they can be difficult to learn at first and the syntax can look visually intimidating. As a result, a lot of students end up disliking regular expressions and try to avoid using them, instead opting to write more cumbersome code.\n",
        "\n",
        "![IMG](https://s3.amazonaws.com/dq-content/354/difficult_regex_v2.svg)"
      ]
    },
    {
      "cell_type": "markdown",
      "metadata": {
        "id": "rCX35jf-HZ1E"
      },
      "source": [
        "That said, learning (and loving!) regular expressions is something that is a worthwhile investment\n",
        "\n",
        "- Once you understand how they work, complex operations with string data can be written a lot quicker, which will save you time.\n",
        "- Regular expressions are often faster to execute than their manual equivalents.\n",
        "- Regular expressions are supported in almost every modern programming language, as well as other places like command line utilities and databases. Understanding regular expressions gives you a powerful tool that you can use wherever you work with data."
      ]
    },
    {
      "cell_type": "markdown",
      "metadata": {
        "id": "VzVPxrStHiqk"
      },
      "source": [
        "We could probably fill a whole Dataquest course with the intricacies of regular expressions, but instead we're going to give you a two-mission tour of the main components.\n",
        "\n",
        "One thing to keep in mind before we start: don't expect to remember all of the regular expression syntax. The most important thing is to understand the core principles, what is possible, and where to look up the details. This will mean you can quickly jog your memory whenever you need regular expressions.\n",
        "\n",
        "With that in mind, don't be put off if some things in these missions don't stick in your memory. As long as you are able to write and understand regular expressions with the help of documentation and/or other reference guides, you have all the skills you need to excel.\n",
        "\n"
      ]
    },
    {
      "cell_type": "markdown",
      "metadata": {
        "id": "-rEaBapnuPBC"
      },
      "source": [
        "We'll be learning regular expressions while performing analysis on a dataset of submissions to popular technology site [Hacker News](https://news.ycombinator.com/).\n",
        "\n",
        "![img](https://s3.amazonaws.com/dq-content/354/hacker_news.jpg)\n",
        "\n",
        "Hacker News is a site started by the startup incubator Y Combinator, where user-submitted stories (known as \"stories\") are voted and commented upon, similar to reddit. Hacker News is extremely popular in technology and startup circles; stories that make it to the top of Hacker News' listings can get hundreds of thousands of visitors.\n",
        "\n",
        "\n",
        "\n"
      ]
    },
    {
      "cell_type": "markdown",
      "metadata": {
        "id": "sBGGmrPXuYgV"
      },
      "source": [
        "The dataset we will be working with is based off [this CSV of Hacker News stories from September 2015 to September 2016](). The columns in the dataset are explained below:\n",
        "\n",
        "- `id`: The unique identifier from Hacker News for the story\n",
        "- `title`: The title of the story\n",
        "- `url`: The URL that the stories links to, if the story has a URL\n",
        "- `num_points`: The number of points the story acquired, calculated as the total number of upvotes minus the total number of downvotes\n",
        "- `num_comments`: The number of comments that were made on the story\n",
        "- `author`: The username of the person who submitted the story\n",
        "- `created_at`: The date and time at which the story was submitted\n"
      ]
    },
    {
      "cell_type": "markdown",
      "metadata": {
        "id": "tDxxZkuGuvZm"
      },
      "source": [
        "For teaching purposes, we have reduced the dataset from the almost 300,000 rows in its original form to approximately 20,000 rows by removing all submissions that did not receive any comments, and then randomly sampling from the remaining submissions. You can download the modified dataset using the dataset preview tool.\n",
        "\n",
        "Let's start by reading our Hacker News dataset into a pandas dataframe."
      ]
    },
    {
      "cell_type": "code",
      "metadata": {
        "id": "7zbhVrbR2n44"
      },
      "source": [
        "# Code to read csv file into Colaboratory:\n",
        "!pip install -U -q PyDrive\n",
        "from pydrive.auth import GoogleAuth\n",
        "from pydrive.drive import GoogleDrive\n",
        "from google.colab import auth\n",
        "from oauth2client.client import GoogleCredentials\n",
        "# Authenticate and create the PyDrive client.\n",
        "auth.authenticate_user()\n",
        "gauth = GoogleAuth()\n",
        "gauth.credentials = GoogleCredentials.get_application_default()\n",
        "drive = GoogleDrive(gauth)"
      ],
      "execution_count": null,
      "outputs": []
    },
    {
      "cell_type": "code",
      "metadata": {
        "id": "mQVsg_sh2o4j"
      },
      "source": [
        "# Once you have completed verification, go to the CSV file in Google Drive, right-click on it and select “Get shareable link”, and cut out the unique id in the link.\n",
        "# https://drive.google.com/file/d/1SgUoKVnxrer3-Yfvz4oBK0N9CzY6bJcu/view?usp=sharing\n",
        "id = \"1SgUoKVnxrer3-Yfvz4oBK0N9CzY6bJcu\""
      ],
      "execution_count": null,
      "outputs": []
    },
    {
      "cell_type": "code",
      "metadata": {
        "id": "qgFvCD-32wdh"
      },
      "source": [
        "# Download the dataset\n",
        "downloaded = drive.CreateFile({'id':id}) \n",
        "downloaded.GetContentFile('hacker_news.csv')"
      ],
      "execution_count": null,
      "outputs": []
    },
    {
      "cell_type": "code",
      "metadata": {
        "id": "JbX6uOxI1PGw"
      },
      "source": [
        "# import pandas library and read csv\n",
        "import pandas as pd\n",
        "hn = pd.read_csv(\"hacker_news.csv\")"
      ],
      "execution_count": null,
      "outputs": []
    },
    {
      "cell_type": "code",
      "metadata": {
        "colab": {
          "base_uri": "https://localhost:8080/"
        },
        "id": "UKG3TyFpg_dc",
        "outputId": "4ad9388c-86f7-488f-f2f2-f040515b334b"
      },
      "source": [
        "\n",
        "# Get dataframe info\n",
        "hn.info()"
      ],
      "execution_count": null,
      "outputs": [
        {
          "output_type": "stream",
          "text": [
            "<class 'pandas.core.frame.DataFrame'>\n",
            "RangeIndex: 20099 entries, 0 to 20098\n",
            "Data columns (total 7 columns):\n",
            " #   Column        Non-Null Count  Dtype \n",
            "---  ------        --------------  ----- \n",
            " 0   id            20099 non-null  int64 \n",
            " 1   title         20099 non-null  object\n",
            " 2   url           17659 non-null  object\n",
            " 3   num_points    20099 non-null  int64 \n",
            " 4   num_comments  20099 non-null  int64 \n",
            " 5   author        20099 non-null  object\n",
            " 6   created_at    20099 non-null  object\n",
            "dtypes: int64(3), object(4)\n",
            "memory usage: 1.1+ MB\n"
          ],
          "name": "stdout"
        }
      ]
    },
    {
      "cell_type": "code",
      "metadata": {
        "id": "-1QQYAgOAhhV",
        "colab": {
          "base_uri": "https://localhost:8080/"
        },
        "outputId": "6caae37b-7746-4971-f33a-495be5a369b8"
      },
      "source": [
        "# Print dataframe dimensions\n",
        "print(hn.shape)"
      ],
      "execution_count": null,
      "outputs": [
        {
          "output_type": "stream",
          "text": [
            "(20099, 7)\n"
          ],
          "name": "stdout"
        }
      ]
    },
    {
      "cell_type": "markdown",
      "metadata": {
        "id": "vR_huuJMuz9t"
      },
      "source": [
        "**Instructions:**\n",
        "\n",
        "1. Import the pandas library.\n",
        "2. Read the `hacker_news.csv` file into a pandas dataframe. Assign the result to `hn`.\n",
        "3. After you have completed the code exercise, use the variable inspector to familiarize yourself with the dataset."
      ]
    },
    {
      "cell_type": "code",
      "metadata": {
        "id": "N7FYmDTcu_DC"
      },
      "source": [
        ""
      ],
      "execution_count": null,
      "outputs": []
    },
    {
      "cell_type": "markdown",
      "metadata": {
        "id": "6LqVPqelvWve"
      },
      "source": [
        "## 2. The Regular Expression Module"
      ]
    },
    {
      "cell_type": "markdown",
      "metadata": {
        "id": "zeIQzbM_vYZY"
      },
      "source": [
        "When working with regular expressions, we use the term pattern to describe a regular expression that we've written. If the **pattern** is found within the string we're searching, we say that it has **matched**.\n",
        "\n",
        "As we previously learned, letters and numbers represent themselves in regular expressions. If we wanted to find the string `\"and\"` within another string, the regex pattern for that is simply `and`:\n",
        "\n",
        "![img](https://s3.amazonaws.com/dq-content/354/basic_match_1.svg)"
      ]
    },
    {
      "cell_type": "markdown",
      "metadata": {
        "id": "-Nxu5DIgv5VA"
      },
      "source": [
        "In the third example above, the pattern `and` does not match `Andrew` because even though `a` and `A` are the same letter, the two *characters* are unique.\n",
        "\n",
        "We previously used regular expressions with pandas, but Python also has a built-in module for regular expressions: The `re` [module](https://docs.python.org/3/library/re.html#module-re). This module contains a number of different functions and classes for working with regular expressions. One of the most useful functions from the `re` module is the `re.search()` [function](https://docs.python.org/3/library/re.html#re.search), which takes two required arguments:\n",
        "\n",
        "- The regex pattern\n",
        "- The string we want to search that pattern for\n"
      ]
    },
    {
      "cell_type": "code",
      "metadata": {
        "id": "Wz6_KNyzwQuc",
        "colab": {
          "base_uri": "https://localhost:8080/"
        },
        "outputId": "cd0c6c25-55e1-4e02-84cd-72d0f379ccd2"
      },
      "source": [
        "import re\n",
        "\n",
        "m = re.search(\"and\", \"hand\")\n",
        "print(m)"
      ],
      "execution_count": null,
      "outputs": [
        {
          "output_type": "stream",
          "text": [
            "<_sre.SRE_Match object; span=(1, 4), match='and'>\n"
          ],
          "name": "stdout"
        }
      ]
    },
    {
      "cell_type": "markdown",
      "metadata": {
        "id": "ZRhGTunNwUtG"
      },
      "source": [
        "```\n",
        "< _sre.SRE_Match object; span=(1, 4), match='and' >\n",
        "```\n",
        "The `re.search()` function will return a `Match` [object](https://docs.python.org/3/library/re.html#match-objects) if the pattern is found anywhere within the string. If the pattern is not found, `re.search()` returns `None`:"
      ]
    },
    {
      "cell_type": "code",
      "metadata": {
        "id": "LiDiYf7YwdtS",
        "colab": {
          "base_uri": "https://localhost:8080/"
        },
        "outputId": "84a1978c-0a55-442b-f4f0-88f7a7675cb3"
      },
      "source": [
        "m = re.search(\"and\", \"antidote\")\n",
        "print(m)"
      ],
      "execution_count": null,
      "outputs": [
        {
          "output_type": "stream",
          "text": [
            "None\n"
          ],
          "name": "stdout"
        }
      ]
    },
    {
      "cell_type": "markdown",
      "metadata": {
        "id": "ef6E9eqDwoDJ"
      },
      "source": [
        "We'll learn more about match objects later. For now, we can use the fact that the boolean value of a match object is `True` while `None` is `False` to easily check whether our regex matches each string in a list. We'll create a list of three simple strings to use while learning these concepts:"
      ]
    },
    {
      "cell_type": "code",
      "metadata": {
        "colab": {
          "base_uri": "https://localhost:8080/"
        },
        "id": "p93qXjI3eO1q",
        "outputId": "05266f4c-cab8-4e1d-b293-6b957e7df7f6"
      },
      "source": [
        "string_list = [\"Julie's favorite color is Blue.\",\n",
        "               \"Keli's favorite color is Green.\",\n",
        "               \"Craig's favorite colors are blue and red.\"]\n",
        "\n",
        "pattern = \"Blue\"\n",
        "\n",
        "for s in string_list:\n",
        "    if re.search(pattern, s):\n",
        "        print(\"Match\")\n",
        "    else:\n",
        "        print(\"No Match\")"
      ],
      "execution_count": null,
      "outputs": [
        {
          "output_type": "stream",
          "text": [
            "Match\n",
            "No Match\n",
            "No Match\n"
          ],
          "name": "stdout"
        }
      ]
    },
    {
      "cell_type": "markdown",
      "metadata": {
        "id": "S1oVRyJJeRkz"
      },
      "source": [
        "So far, we haven't done anything with regular expressions that we couldn't do using the `in` keyword. The power of regular expressions comes when we use one of the special character sequences.\n",
        "\n",
        "The first of these we'll learn is called a **set**. A set allows us to specify two or more characters that can match in a single character's position.\n",
        "\n"
      ]
    },
    {
      "cell_type": "markdown",
      "metadata": {
        "id": "_bSDhQhsebza"
      },
      "source": [
        "We define a set by placing the characters we want to match for in square brackets:\n",
        "\n",
        "![img](https://s3.amazonaws.com/dq-content/354/set_syntax_breakdown.svg)\n",
        "\n",
        "The regular expression above will match the strings `mend`, `send`, and `bend`.\n",
        "\n",
        "Let's look at how we can add sets to match more of our example strings from earlier:\n",
        "\n",
        "![img](https://s3.amazonaws.com/dq-content/354/basic_match_2.svg)\n"
      ]
    },
    {
      "cell_type": "markdown",
      "metadata": {
        "id": "9rtinQO4e3nk"
      },
      "source": [
        "Let's take another look at the list of strings we used earlier:\n",
        "\n"
      ]
    },
    {
      "cell_type": "code",
      "metadata": {
        "id": "DCZfYeEHe54T"
      },
      "source": [
        "string_list = [\"Julie's favorite color is Blue.\",\n",
        "               \"Keli's favorite color is Green.\",\n",
        "               \"Craig's favorite colors are blue and red.\"]"
      ],
      "execution_count": null,
      "outputs": []
    },
    {
      "cell_type": "markdown",
      "metadata": {
        "id": "dmyL-NNGe-PE"
      },
      "source": [
        "If you look closely, you'll notice the first string contains the substring `Blue` with a capital letter, where the third string contains the substring `blue` in all lowercase. We can use the set `[Bb]` for the first character so that we can match both variations, and then use that to count how many times `Blue` or `blue` occur in the list:\n",
        "\n"
      ]
    },
    {
      "cell_type": "code",
      "metadata": {
        "colab": {
          "base_uri": "https://localhost:8080/"
        },
        "id": "PYBfmHBSfKlS",
        "outputId": "1195f3ca-d63d-45a2-ba44-a7b3b6827727"
      },
      "source": [
        "blue_mentions = 0\n",
        "pattern = \"[Bb]lue\"\n",
        "\n",
        "for s in string_list:\n",
        "    if re.search(pattern, s):\n",
        "        blue_mentions += 1\n",
        "\n",
        "print(blue_mentions)"
      ],
      "execution_count": null,
      "outputs": [
        {
          "output_type": "stream",
          "text": [
            "2\n"
          ],
          "name": "stdout"
        }
      ]
    },
    {
      "cell_type": "markdown",
      "metadata": {
        "id": "5qjxl8-EfLaJ"
      },
      "source": [
        "We're going to use this technique to find out how many times Python is mentioned in the title of stories in our Hacker News dataset. We'll use a set to check for both `Python` with a capital 'P' and `python` with a lowercase 'p'.\n",
        "\n"
      ]
    },
    {
      "cell_type": "markdown",
      "metadata": {
        "id": "cWF0Iv6EfQ7R"
      },
      "source": [
        "**Instructions:**\n",
        "\n",
        "We have provided code to import the `re` module and extract a **list**, `titles`, containing all the titles from our dataset.\n",
        "\n",
        "1. Initialize a variable `python_mentions` with the integer value `0`.\n",
        "2. Create a string — `pattern` — containing a regular expression pattern that uses a set to match `Python` or `python`.\n",
        "3. Use a loop to iterate over each item in the `titles` list, and for each item:\n",
        " - Use the `re.search()` function to check whether `pattern` matches the title.\n",
        " - If `re.search()` returns a match object, increment (add `1` to) the `python_mentions` variable."
      ]
    },
    {
      "cell_type": "code",
      "metadata": {
        "id": "5mXsM-Gkf0-B"
      },
      "source": [
        ""
      ],
      "execution_count": null,
      "outputs": []
    },
    {
      "cell_type": "markdown",
      "metadata": {
        "id": "7OcrslezvYn9"
      },
      "source": [
        "## 3. Counting Matches with pandas Methods"
      ]
    },
    {
      "cell_type": "markdown",
      "metadata": {
        "id": "MvvAeyhJvYxO"
      },
      "source": [
        "We've learned that we should avoid using loops in pandas, and that vectorized methods are often faster and require less code.\n",
        "\n",
        "In the data cleaning course, we learned that the `Series.str.contains()` [method](http://pandas.pydata.org/pandas-docs/stable/reference/api/pandas.Series.str.contains.html) can be used to test whether a Series of strings match a particular regex pattern. Let's look at how we can replicate the example from the previous screen using pandas."
      ]
    },
    {
      "cell_type": "markdown",
      "metadata": {
        "id": "PwNe-1zdi6_m"
      },
      "source": [
        "We'll start by creating a pandas object containing our strings:"
      ]
    },
    {
      "cell_type": "code",
      "metadata": {
        "colab": {
          "base_uri": "https://localhost:8080/"
        },
        "id": "gSkD0UFMi73V",
        "outputId": "46f4af3f-3c2e-44fc-d627-4363449aa303"
      },
      "source": [
        "eg_list = [\"Julie's favorite color is green.\",\n",
        "           \"Keli's favorite color is Blue.\",\n",
        "           \"Craig's favorite colors are blue and red.\"]\n",
        "\n",
        "eg_series = pd.Series(eg_list)\n",
        "print(eg_series)"
      ],
      "execution_count": null,
      "outputs": [
        {
          "output_type": "stream",
          "text": [
            "0             Julie's favorite color is green.\n",
            "1               Keli's favorite color is Blue.\n",
            "2    Craig's favorite colors are blue and red.\n",
            "dtype: object\n"
          ],
          "name": "stdout"
        }
      ]
    },
    {
      "cell_type": "markdown",
      "metadata": {
        "id": "TCfxdeaai_sU"
      },
      "source": [
        "Next, we'll create our regex pattern, and use `Series.str.contains()` to compare to each value in our series:"
      ]
    },
    {
      "cell_type": "code",
      "metadata": {
        "id": "V4_BQWFOeUlo",
        "colab": {
          "base_uri": "https://localhost:8080/"
        },
        "outputId": "90e9888c-f8f1-440c-f5f7-8ef44f07fdc8"
      },
      "source": [
        "pattern = \"[Bb]lue\"\n",
        "\n",
        "pattern_contained = eg_series.str.contains(pattern)\n",
        "print(pattern_contained)"
      ],
      "execution_count": null,
      "outputs": [
        {
          "output_type": "stream",
          "text": [
            "0    False\n",
            "1     True\n",
            "2     True\n",
            "dtype: bool\n"
          ],
          "name": "stdout"
        }
      ]
    },
    {
      "cell_type": "markdown",
      "metadata": {
        "id": "Cj__P3qijJNu"
      },
      "source": [
        "The result is a boolean mask: a series of `True`/`False` values.\n",
        "\n",
        "One of the neat things about boolean masks is that you can use the `Series.sum()` [method]() to sum all the values in the boolean mask, with each `True` value counting as `1`, and each `False` as `0`. This means that we can easily count the number of values in the original series that matched our pattern:"
      ]
    },
    {
      "cell_type": "code",
      "metadata": {
        "colab": {
          "base_uri": "https://localhost:8080/"
        },
        "id": "M-1mFn3fjZBz",
        "outputId": "22b17b85-1a7a-4916-c30a-f35155aa44d7"
      },
      "source": [
        "pattern_count = pattern_contained.sum()\n",
        "print(pattern_count)"
      ],
      "execution_count": null,
      "outputs": [
        {
          "output_type": "stream",
          "text": [
            "2\n"
          ],
          "name": "stdout"
        }
      ]
    },
    {
      "cell_type": "markdown",
      "metadata": {
        "id": "v-knmCFrje08"
      },
      "source": [
        "If we wanted, we could use method chaining to do the whole operation on one line:"
      ]
    },
    {
      "cell_type": "code",
      "metadata": {
        "colab": {
          "base_uri": "https://localhost:8080/"
        },
        "id": "Jb7k_0NQjhrc",
        "outputId": "0b1f596d-9d91-4059-cc08-653532b0eccd"
      },
      "source": [
        "pattern_count = eg_series.str.contains(pattern).sum()\n",
        "print(pattern_count)"
      ],
      "execution_count": null,
      "outputs": [
        {
          "output_type": "stream",
          "text": [
            "2\n"
          ],
          "name": "stdout"
        }
      ]
    },
    {
      "cell_type": "markdown",
      "metadata": {
        "id": "8yYduYUnjieY"
      },
      "source": [
        "Let's use this technique to replicate the analysis we did in the previous screen."
      ]
    },
    {
      "cell_type": "markdown",
      "metadata": {
        "id": "6TT1ce2kjkvG"
      },
      "source": [
        "**Instructions:**\n",
        "\n",
        "We have provided the regex pattern from the solution to the previous screen.\n",
        "\n",
        "1. Assign the `title` column from the `hn` dataframe to the variable `titles`.\n",
        "2. Use `Series.str.contains()` and `Series.sum()` with the provided regex pattern to count how many Hacker News titles contain `Python` or `python`. Assign the result to `python_mentions`."
      ]
    },
    {
      "cell_type": "code",
      "metadata": {
        "id": "X2bFpriEj87M"
      },
      "source": [
        ""
      ],
      "execution_count": null,
      "outputs": []
    },
    {
      "cell_type": "markdown",
      "metadata": {
        "id": "hUWGaeaIvY2S"
      },
      "source": [
        "## 4. Using Regular Expressions to Select Data"
      ]
    },
    {
      "cell_type": "markdown",
      "metadata": {
        "id": "qdBxTpFgvY8B"
      },
      "source": [
        "On the previous two screens, we used regular expressions to count how many titles contain `Python` or `python`. What if we wanted to view those titles?\n",
        "\n",
        "In that case, we can use the boolean array returned by `Series.str.contains()` to select just those rows from our series. Let's look at that in action, starting by creating the boolean array."
      ]
    },
    {
      "cell_type": "code",
      "metadata": {
        "colab": {
          "base_uri": "https://localhost:8080/"
        },
        "id": "_O1REnS1kOoG",
        "outputId": "c52baa8e-c487-4d26-b43f-6187fa16b1e9"
      },
      "source": [
        "titles = hn['title']\n",
        "\n",
        "py_titles_bool = titles.str.contains(\"[Pp]ython\")\n",
        "print(py_titles_bool.head())"
      ],
      "execution_count": null,
      "outputs": [
        {
          "output_type": "stream",
          "text": [
            "0    False\n",
            "1    False\n",
            "2    False\n",
            "3    False\n",
            "4    False\n",
            "Name: title, dtype: bool\n"
          ],
          "name": "stdout"
        }
      ]
    },
    {
      "cell_type": "markdown",
      "metadata": {
        "id": "kKotkPgNkX2H"
      },
      "source": [
        "Then, we can use that boolean array to select just the matching rows:"
      ]
    },
    {
      "cell_type": "code",
      "metadata": {
        "colab": {
          "base_uri": "https://localhost:8080/"
        },
        "id": "7H_Z-GmgkZd-",
        "outputId": "864112a9-bd73-43ef-e529-d9aea3bdf9a6"
      },
      "source": [
        "py_titles = titles[py_titles_bool]\n",
        "print(py_titles.head())"
      ],
      "execution_count": null,
      "outputs": [
        {
          "output_type": "stream",
          "text": [
            "102                  From Python to Lua: Why We Switched\n",
            "103            Ubuntu 16.04 LTS to Ship Without Python 2\n",
            "144    Create a GUI Application Using Qt and Python i...\n",
            "196    How I Solved GCHQ's Xmas Card with Python and ...\n",
            "436    Unikernel Power Comes to Java, Node.js, Go, an...\n",
            "Name: title, dtype: object\n"
          ],
          "name": "stdout"
        }
      ]
    },
    {
      "cell_type": "markdown",
      "metadata": {
        "id": "DJU5AHC2kbo-"
      },
      "source": [
        "We can also do it in a streamlined, single line of code:"
      ]
    },
    {
      "cell_type": "code",
      "metadata": {
        "colab": {
          "base_uri": "https://localhost:8080/"
        },
        "id": "SJqI4WsVkcPT",
        "outputId": "d0dc6d67-2a32-43b1-84af-bfd4cf022a09"
      },
      "source": [
        "py_titles = titles[titles.str.contains(\"[Pp]ython\")]\n",
        "print(py_titles.head())"
      ],
      "execution_count": null,
      "outputs": [
        {
          "output_type": "stream",
          "text": [
            "102                  From Python to Lua: Why We Switched\n",
            "103            Ubuntu 16.04 LTS to Ship Without Python 2\n",
            "144    Create a GUI Application Using Qt and Python i...\n",
            "196    How I Solved GCHQ's Xmas Card with Python and ...\n",
            "436    Unikernel Power Comes to Java, Node.js, Go, an...\n",
            "Name: title, dtype: object\n"
          ],
          "name": "stdout"
        }
      ]
    },
    {
      "cell_type": "markdown",
      "metadata": {
        "id": "so8y_Dx9keH0"
      },
      "source": [
        "Let's use this technique to select all titles that mention the programming language Ruby, using a set to account for whether the word is capitalized or not."
      ]
    },
    {
      "cell_type": "markdown",
      "metadata": {
        "id": "QKiO4CHXkkXH"
      },
      "source": [
        "**Instructions:**\n",
        "\n",
        "Use `Series.str.contains()` to create a series of the values from `titles` that contain `Ruby` or `ruby`. Assign the result to `ruby_titles`."
      ]
    },
    {
      "cell_type": "code",
      "metadata": {
        "id": "pDraZS3kkqkl"
      },
      "source": [
        ""
      ],
      "execution_count": null,
      "outputs": []
    },
    {
      "cell_type": "markdown",
      "metadata": {
        "id": "3KBf0aiuvZBE"
      },
      "source": [
        "## 5. Quantifiers"
      ]
    },
    {
      "cell_type": "markdown",
      "metadata": {
        "id": "hPS9gidyvZGc"
      },
      "source": [
        "In the [data cleaning course](https://app.dataquest.io/course/python-datacleaning/), we learned that we could use braces (`{}`) to specify that a character repeats in our regular expression. For instance, if we wanted to write a pattern that matches the numbers in text from `1000` to `2999` we could write the regular expression below:\n",
        "![img](https://s3.amazonaws.com/dq-content/354/quantifier_example.svg)"
      ]
    },
    {
      "cell_type": "markdown",
      "metadata": {
        "id": "C2yCLYOyk9tH"
      },
      "source": [
        "The name for this type of regular expression syntax is called a quantifier. Quantifiers specify how many of the previous character our pattern requires, which can help us when we want to match substrings of specific lengths. As an example, we might want to match both `e-mail` and `email`. To do this, we would want to specify to match `-` either zero or one times.\n",
        "\n",
        "The specific type of quantifier we saw above is called a numeric quantifier. Here are the different types of numeric quantifiers we can use:\n",
        "\n",
        "![img](https://s3.amazonaws.com/dq-content/354/quantifiers_numeric.svg)"
      ]
    },
    {
      "cell_type": "markdown",
      "metadata": {
        "id": "wrz_02dhlKwj"
      },
      "source": [
        "You might notice that the last two examples above omit the first and last character as wildcards, in the same way that we can omit the first or last indicies when slicing lists.\n",
        "\n",
        "In addition to numeric quantifiers, there are single characters in regex that specify some common quantifiers that you're likely to use. A summary of them is below.\n",
        "\n",
        "![img](https://s3.amazonaws.com/dq-content/354/quantifiers_other.svg)\n",
        "\n",
        "On this screen, we're going to find how many titles in our dataset mention `email` or `e-mail`. To do this, we'll need to use `?`, the optional quantifier, to specify that the dash character `-` is optional in our regular expression."
      ]
    },
    {
      "cell_type": "markdown",
      "metadata": {
        "id": "xuTGBEn6lXpT"
      },
      "source": [
        "**Instructions:**\n",
        "\n",
        "1. Use a regular expression and `Series.str.contains()` to create a boolean mask that matches items from `titles` containing `email` or `e-mail`. Assign the result to `email_bool`.\n",
        "2. Use `email_bool` to count the number of titles that matched the regular expression. Assign the result to `email_count`.\n",
        "3. Use `email_bool` to select only the items from `titles` that matched the regular expression. Assign the result to `email_titles`."
      ]
    },
    {
      "cell_type": "code",
      "metadata": {
        "id": "0J1eBUf6o2L9"
      },
      "source": [
        ""
      ],
      "execution_count": null,
      "outputs": []
    },
    {
      "cell_type": "markdown",
      "metadata": {
        "id": "ehontc_jvZMb"
      },
      "source": [
        "## 6. Character Classes"
      ]
    },
    {
      "cell_type": "markdown",
      "metadata": {
        "id": "BHtCX5h-vZSW"
      },
      "source": [
        "So far, we've learned how to perform simple matches with sets, and how to use quantifiers to specify when a character should repeat a certain number of times. Let's continue by looking at a more complex example.\n",
        "\n",
        "Some stories submitted to Hacker News include a topic tag in brackets, like `[pdf]`. Here are a few examples of story titles with these tags:"
      ]
    },
    {
      "cell_type": "code",
      "metadata": {
        "id": "SmMjqVMKHVwT"
      },
      "source": [
        "[video] Google Self-Driving SUV Sideswipes Bus\n",
        "New Directions in Cryptography by Diffie and Hellman (1976) [pdf]\n",
        "Wallace and Gromit  The Great Train Chase (1993) [video]"
      ],
      "execution_count": null,
      "outputs": []
    },
    {
      "cell_type": "markdown",
      "metadata": {
        "id": "yO2qBJ5XHlLS"
      },
      "source": [
        "In this screen, our task is going to be to find how many titles in our dataset have tags.\n",
        "\n",
        "Our first inclination may be to create the regex `[pdf]`. Unfortunately, the brackets would be interpreted as a set, so our pattern would match the single characters `p`, `d`, or `f`."
      ]
    },
    {
      "cell_type": "markdown",
      "metadata": {
        "id": "cTYDd4RQHvOx"
      },
      "source": [
        "![img](https://s3.amazonaws.com/dq-content/354/without_escaped_character_syntax_breakdown.svg)"
      ]
    },
    {
      "cell_type": "markdown",
      "metadata": {
        "id": "_ZttqSr8zcJ6"
      },
      "source": [
        "To match the substring `\"[pdf]\"`, we can use backslashes to escape both the open and closing brackets: `\\[pdf\\]`.\n",
        "\n",
        "![img](https://s3.amazonaws.com/dq-content/354/escaped_character_syntax_breakdown.svg)\n",
        "\n",
        "The other critical part of our task of identifying how many titles have tags is knowing how to match the characters between the brackets (like `pdf` and `video`) without knowing ahead of time what the different topic tags will be.\n",
        "\n"
      ]
    },
    {
      "cell_type": "markdown",
      "metadata": {
        "id": "tENrlp7Hz5Z7"
      },
      "source": [
        "To match unknown characters using regular expressions, we use **character classes**. Character classes allow us to match certain groups of characters. We've actually seen two examples of character classes already:\n",
        "\n",
        "1. The set notation using brackets to match any of a number of characters.\n",
        "2. The range notation, which we used to match ranges of digits (like `[0-9]`).\n",
        "\n",
        "Let's look at a summary of syntax for some of the regex character classes:\n",
        "\n",
        "![img](https://s3.amazonaws.com/dq-content/354/character_classes_v2_1.svg)\n"
      ]
    },
    {
      "cell_type": "markdown",
      "metadata": {
        "id": "pTsCt8xv0L_q"
      },
      "source": [
        "There are two new things we can observe from this table:\n",
        "\n",
        "1. Ranges can be used for letters as well as numbers.\n",
        "2. Sets and ranges can be combined.\n",
        "\n",
        "Just like with quantifiers, there are some other common character classes which we'll use a lot.\n",
        "\n",
        "![img](https://s3.amazonaws.com/dq-content/354/character_classes_v2_2.svg)\n"
      ]
    },
    {
      "cell_type": "markdown",
      "metadata": {
        "id": "O1duEbPM1xTD"
      },
      "source": [
        "The one that we'll be using to match characters in tags is `\\w`, which represents any number or letter. Each character class represents a single character, so to match multiple characters (e.g. words like `video` and `pdf`), we'll need to combine them with quantifiers.\n",
        "\n",
        "In order to match word characters between our brackets, we can combine the word character class (`\\w`) with the 'one or more' quantifier (`+`), giving us a combined pattern of `\\w+`.\n",
        "\n",
        "This will match sequences like `pdf`, `video`, `Python`, and `2018` but won't match a sequence containing a space or punctuation character like `PHP-DEV` or `XKCD Flowchart`. If we wanted to match those tags as well, we could use `.+`; however, in this case, we're just interested in single-word tags without special characters.\n",
        "\n"
      ]
    },
    {
      "cell_type": "markdown",
      "metadata": {
        "id": "KT0jlff22Fx4"
      },
      "source": [
        "Let's quickly recap the concepts we learned in this screen:\n",
        "\n",
        "- We can use a backslash to escape characters that have special meaning in regular expressions (e.g. `\\` will match an open bracket character).\n",
        "- Character classes let us match certain groups of characters (e.g. `\\w` will match any word character).\n",
        "- Character classes can be combined with quantifiers when we want to match different numbers of characters.\n",
        "\n",
        "We'll use these concepts to count the number of titles that contain a tag."
      ]
    },
    {
      "cell_type": "markdown",
      "metadata": {
        "id": "pZNgdLe6vZYq"
      },
      "source": [
        "## 7. Accessing the Matching Text with Capture Groups"
      ]
    },
    {
      "cell_type": "markdown",
      "metadata": {
        "id": "hcqZ2wuvvZeI"
      },
      "source": [
        ""
      ]
    },
    {
      "cell_type": "markdown",
      "metadata": {
        "id": "LtTWdk6UvZkC"
      },
      "source": [
        "## 8. Negative Character Classes"
      ]
    },
    {
      "cell_type": "markdown",
      "metadata": {
        "id": "DB71p3oIvZq9"
      },
      "source": [
        ""
      ]
    },
    {
      "cell_type": "markdown",
      "metadata": {
        "id": "RoPZr8o5vZwt"
      },
      "source": [
        "## 9. Word Boundaries"
      ]
    },
    {
      "cell_type": "markdown",
      "metadata": {
        "id": "M41e6lwNvZ28"
      },
      "source": [
        ""
      ]
    },
    {
      "cell_type": "markdown",
      "metadata": {
        "id": "0p3MPI7pvZ8X"
      },
      "source": [
        "## 10. Matching at the Start and End of Strings"
      ]
    },
    {
      "cell_type": "markdown",
      "metadata": {
        "id": "nNJofC6avlj4"
      },
      "source": [
        ""
      ]
    },
    {
      "cell_type": "markdown",
      "metadata": {
        "id": "IvfIE5WbvluE"
      },
      "source": [
        "## 11. Challenge: Using Flags to Modify Regex Patterns"
      ]
    },
    {
      "cell_type": "markdown",
      "metadata": {
        "id": "Ye8rnyiXvmhl"
      },
      "source": [
        ""
      ]
    },
    {
      "cell_type": "markdown",
      "metadata": {
        "id": "bgQDEUlTvm0n"
      },
      "source": [
        "## 12. Next Steps"
      ]
    },
    {
      "cell_type": "markdown",
      "metadata": {
        "id": "9r5hpAtFvwHz"
      },
      "source": [
        ""
      ]
    }
  ]
}