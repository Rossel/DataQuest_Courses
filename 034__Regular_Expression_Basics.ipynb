{
  "nbformat": 4,
  "nbformat_minor": 0,
  "metadata": {
    "colab": {
      "name": "034__Regular_Expression_Basics.ipynb",
      "provenance": [],
      "authorship_tag": "ABX9TyMjCYsbVDPP0Soz7fa2ctF2",
      "include_colab_link": true
    },
    "kernelspec": {
      "name": "python3",
      "display_name": "Python 3"
    }
  },
  "cells": [
    {
      "cell_type": "markdown",
      "metadata": {
        "id": "view-in-github",
        "colab_type": "text"
      },
      "source": [
        "<a href=\"https://colab.research.google.com/github/Rossel/DataQuest_Courses/blob/master/034__Regular_Expression_Basics.ipynb\" target=\"_parent\"><img src=\"https://colab.research.google.com/assets/colab-badge.svg\" alt=\"Open In Colab\"/></a>"
      ]
    },
    {
      "cell_type": "markdown",
      "metadata": {
        "id": "6PWQ-EVGT2s_"
      },
      "source": [
        "# COURSE 5/6: DATA CLEANING IN PYTHON: ADVANCED"
      ]
    },
    {
      "cell_type": "markdown",
      "metadata": {
        "id": "THaX315BT2wD"
      },
      "source": [
        "# MISSION 1: Regular Expression Basics"
      ]
    },
    {
      "cell_type": "markdown",
      "metadata": {
        "id": "bqvHISHhhbIr"
      },
      "source": [
        "Learn to perform data cleaning with regular expressions."
      ]
    },
    {
      "cell_type": "markdown",
      "metadata": {
        "id": "tQBrAPM9JEko"
      },
      "source": [
        "## 1. Introduction"
      ]
    },
    {
      "cell_type": "markdown",
      "metadata": {
        "id": "MccUxipEGucJ"
      },
      "source": [
        "In the previous course, we learned that regular expressions are a powerful way of building patterns to match text. In the first two missions of this Data Cleaning Advanced course, we're going to extend our knowledge about this extremely powerful tool that every data scientist should be familiar with.\n",
        "\n",
        "As powerful as regular expressions are, they can be difficult to learn at first and the syntax can look visually intimidating. As a result, a lot of students end up disliking regular expressions and try to avoid using them, instead opting to write more cumbersome code.\n",
        "\n",
        "![IMG](https://s3.amazonaws.com/dq-content/354/difficult_regex_v2.svg)"
      ]
    },
    {
      "cell_type": "markdown",
      "metadata": {
        "id": "rCX35jf-HZ1E"
      },
      "source": [
        "That said, learning (and loving!) regular expressions is something that is a worthwhile investment\n",
        "\n",
        "- Once you understand how they work, complex operations with string data can be written a lot quicker, which will save you time.\n",
        "- Regular expressions are often faster to execute than their manual equivalents.\n",
        "- Regular expressions are supported in almost every modern programming language, as well as other places like command line utilities and databases. Understanding regular expressions gives you a powerful tool that you can use wherever you work with data."
      ]
    },
    {
      "cell_type": "markdown",
      "metadata": {
        "id": "VzVPxrStHiqk"
      },
      "source": [
        "We could probably fill a whole Dataquest course with the intricacies of regular expressions, but instead we're going to give you a two-mission tour of the main components.\n",
        "\n",
        "One thing to keep in mind before we start: don't expect to remember all of the regular expression syntax. The most important thing is to understand the core principles, what is possible, and where to look up the details. This will mean you can quickly jog your memory whenever you need regular expressions.\n",
        "\n",
        "With that in mind, don't be put off if some things in these missions don't stick in your memory. As long as you are able to write and understand regular expressions with the help of documentation and/or other reference guides, you have all the skills you need to excel.\n",
        "\n"
      ]
    },
    {
      "cell_type": "markdown",
      "metadata": {
        "id": "-rEaBapnuPBC"
      },
      "source": [
        "We'll be learning regular expressions while performing analysis on a dataset of submissions to popular technology site [Hacker News](https://news.ycombinator.com/).\n",
        "\n",
        "![img](https://s3.amazonaws.com/dq-content/354/hacker_news.jpg)\n",
        "\n",
        "Hacker News is a site started by the startup incubator Y Combinator, where user-submitted stories (known as \"stories\") are voted and commented upon, similar to reddit. Hacker News is extremely popular in technology and startup circles; stories that make it to the top of Hacker News' listings can get hundreds of thousands of visitors.\n",
        "\n",
        "\n",
        "\n"
      ]
    },
    {
      "cell_type": "markdown",
      "metadata": {
        "id": "sBGGmrPXuYgV"
      },
      "source": [
        "The dataset we will be working with is based off [this CSV of Hacker News stories from September 2015 to September 2016](). The columns in the dataset are explained below:\n",
        "\n",
        "- `id`: The unique identifier from Hacker News for the story\n",
        "- `title`: The title of the story\n",
        "- `url`: The URL that the stories links to, if the story has a URL\n",
        "- `num_points`: The number of points the story acquired, calculated as the total number of upvotes minus the total number of downvotes\n",
        "- `num_comments`: The number of comments that were made on the story\n",
        "- `author`: The username of the person who submitted the story\n",
        "- `created_at`: The date and time at which the story was submitted\n"
      ]
    },
    {
      "cell_type": "markdown",
      "metadata": {
        "id": "tDxxZkuGuvZm"
      },
      "source": [
        "For teaching purposes, we have reduced the dataset from the almost 300,000 rows in its original form to approximately 20,000 rows by removing all submissions that did not receive any comments, and then randomly sampling from the remaining submissions. You can download the modified dataset using the dataset preview tool.\n",
        "\n",
        "Let's start by reading our Hacker News dataset into a pandas dataframe."
      ]
    },
    {
      "cell_type": "code",
      "metadata": {
        "id": "7zbhVrbR2n44"
      },
      "source": [
        "# Code to read csv file into Colaboratory:\n",
        "!pip install -U -q PyDrive\n",
        "from pydrive.auth import GoogleAuth\n",
        "from pydrive.drive import GoogleDrive\n",
        "from google.colab import auth\n",
        "from oauth2client.client import GoogleCredentials\n",
        "# Authenticate and create the PyDrive client.\n",
        "auth.authenticate_user()\n",
        "gauth = GoogleAuth()\n",
        "gauth.credentials = GoogleCredentials.get_application_default()\n",
        "drive = GoogleDrive(gauth)"
      ],
      "execution_count": null,
      "outputs": []
    },
    {
      "cell_type": "code",
      "metadata": {
        "id": "mQVsg_sh2o4j"
      },
      "source": [
        "# Once you have completed verification, go to the CSV file in Google Drive, right-click on it and select “Get shareable link”, and cut out the unique id in the link.\n",
        "# https://drive.google.com/file/d/1SgUoKVnxrer3-Yfvz4oBK0N9CzY6bJcu/view?usp=sharing\n",
        "id = \"1SgUoKVnxrer3-Yfvz4oBK0N9CzY6bJcu\""
      ],
      "execution_count": null,
      "outputs": []
    },
    {
      "cell_type": "code",
      "metadata": {
        "id": "qgFvCD-32wdh"
      },
      "source": [
        "# Download the dataset\n",
        "downloaded = drive.CreateFile({'id':id}) \n",
        "downloaded.GetContentFile('hacker_news.csv')"
      ],
      "execution_count": null,
      "outputs": []
    },
    {
      "cell_type": "code",
      "metadata": {
        "id": "JbX6uOxI1PGw"
      },
      "source": [
        "# import pandas library and read csv\n",
        "import pandas as pd\n",
        "hn = pd.read_csv(\"hacker_news.csv\")"
      ],
      "execution_count": null,
      "outputs": []
    },
    {
      "cell_type": "code",
      "metadata": {
        "id": "UKG3TyFpg_dc",
        "colab": {
          "base_uri": "https://localhost:8080/"
        },
        "outputId": "7fbb69b4-c900-4bd8-a7e2-325968dabbe8"
      },
      "source": [
        "\n",
        "# Get dataframe info\n",
        "hn.info()"
      ],
      "execution_count": null,
      "outputs": [
        {
          "output_type": "stream",
          "text": [
            "<class 'pandas.core.frame.DataFrame'>\n",
            "RangeIndex: 20099 entries, 0 to 20098\n",
            "Data columns (total 7 columns):\n",
            " #   Column        Non-Null Count  Dtype \n",
            "---  ------        --------------  ----- \n",
            " 0   id            20099 non-null  int64 \n",
            " 1   title         20099 non-null  object\n",
            " 2   url           17659 non-null  object\n",
            " 3   num_points    20099 non-null  int64 \n",
            " 4   num_comments  20099 non-null  int64 \n",
            " 5   author        20099 non-null  object\n",
            " 6   created_at    20099 non-null  object\n",
            "dtypes: int64(3), object(4)\n",
            "memory usage: 1.1+ MB\n"
          ],
          "name": "stdout"
        }
      ]
    },
    {
      "cell_type": "code",
      "metadata": {
        "id": "-1QQYAgOAhhV",
        "colab": {
          "base_uri": "https://localhost:8080/"
        },
        "outputId": "615fbf70-0ad8-4b2b-d733-f62f05bbabf7"
      },
      "source": [
        "# Print dataframe dimensions\n",
        "print(hn.shape)"
      ],
      "execution_count": null,
      "outputs": [
        {
          "output_type": "stream",
          "text": [
            "(20099, 7)\n"
          ],
          "name": "stdout"
        }
      ]
    },
    {
      "cell_type": "markdown",
      "metadata": {
        "id": "vR_huuJMuz9t"
      },
      "source": [
        "**Instructions:**\n",
        "\n",
        "1. Import the pandas library.\n",
        "2. Read the `hacker_news.csv` file into a pandas dataframe. Assign the result to `hn`.\n",
        "3. After you have completed the code exercise, use the variable inspector to familiarize yourself with the dataset."
      ]
    },
    {
      "cell_type": "code",
      "metadata": {
        "id": "N7FYmDTcu_DC"
      },
      "source": [
        "# Solution\n",
        "\n",
        "import pandas as pd\n",
        "hn = pd.read_csv(\"hacker_news.csv\")"
      ],
      "execution_count": null,
      "outputs": []
    },
    {
      "cell_type": "markdown",
      "metadata": {
        "id": "6LqVPqelvWve"
      },
      "source": [
        "## 2. The Regular Expression Module"
      ]
    },
    {
      "cell_type": "markdown",
      "metadata": {
        "id": "zeIQzbM_vYZY"
      },
      "source": [
        "When working with regular expressions, we use the term pattern to describe a regular expression that we've written. If the **pattern** is found within the string we're searching, we say that it has **matched**.\n",
        "\n",
        "As we previously learned, letters and numbers represent themselves in regular expressions. If we wanted to find the string `\"and\"` within another string, the regex pattern for that is simply `and`:\n",
        "\n",
        "![img](https://s3.amazonaws.com/dq-content/354/basic_match_1.svg)"
      ]
    },
    {
      "cell_type": "markdown",
      "metadata": {
        "id": "-Nxu5DIgv5VA"
      },
      "source": [
        "In the third example above, the pattern `and` does not match `Andrew` because even though `a` and `A` are the same letter, the two *characters* are unique.\n",
        "\n",
        "We previously used regular expressions with pandas, but Python also has a built-in module for regular expressions: The `re` [module](https://docs.python.org/3/library/re.html#module-re). This module contains a number of different functions and classes for working with regular expressions. One of the most useful functions from the `re` module is the `re.search()` [function](https://docs.python.org/3/library/re.html#re.search), which takes two required arguments:\n",
        "\n",
        "- The regex pattern\n",
        "- The string we want to search that pattern for\n"
      ]
    },
    {
      "cell_type": "code",
      "metadata": {
        "id": "Wz6_KNyzwQuc",
        "colab": {
          "base_uri": "https://localhost:8080/"
        },
        "outputId": "2e57a748-d38e-4f4a-829b-64e95d839522"
      },
      "source": [
        "import re\n",
        "\n",
        "m = re.search(\"and\", \"hand\")\n",
        "print(m)"
      ],
      "execution_count": null,
      "outputs": [
        {
          "output_type": "stream",
          "text": [
            "<re.Match object; span=(1, 4), match='and'>\n"
          ],
          "name": "stdout"
        }
      ]
    },
    {
      "cell_type": "markdown",
      "metadata": {
        "id": "ZRhGTunNwUtG"
      },
      "source": [
        "```\n",
        "< _sre.SRE_Match object; span=(1, 4), match='and' >\n",
        "```\n",
        "The `re.search()` function will return a `Match` [object](https://docs.python.org/3/library/re.html#match-objects) if the pattern is found anywhere within the string. If the pattern is not found, `re.search()` returns `None`:"
      ]
    },
    {
      "cell_type": "code",
      "metadata": {
        "id": "LiDiYf7YwdtS",
        "colab": {
          "base_uri": "https://localhost:8080/"
        },
        "outputId": "0c116a8c-9896-4065-91f0-641e1b52933a"
      },
      "source": [
        "m = re.search(\"and\", \"antidote\")\n",
        "print(m)"
      ],
      "execution_count": null,
      "outputs": [
        {
          "output_type": "stream",
          "text": [
            "None\n"
          ],
          "name": "stdout"
        }
      ]
    },
    {
      "cell_type": "markdown",
      "metadata": {
        "id": "ef6E9eqDwoDJ"
      },
      "source": [
        "We'll learn more about match objects later. For now, we can use the fact that the boolean value of a match object is `True` while `None` is `False` to easily check whether our regex matches each string in a list. We'll create a list of three simple strings to use while learning these concepts:"
      ]
    },
    {
      "cell_type": "code",
      "metadata": {
        "id": "p93qXjI3eO1q",
        "colab": {
          "base_uri": "https://localhost:8080/"
        },
        "outputId": "d7522aa6-a7e3-46b3-9d34-ff4f6f65cf47"
      },
      "source": [
        "string_list = [\"Julie's favorite color is Blue.\",\n",
        "               \"Keli's favorite color is Green.\",\n",
        "               \"Craig's favorite colors are blue and red.\"]\n",
        "\n",
        "pattern = \"Blue\"\n",
        "\n",
        "for s in string_list:\n",
        "    if re.search(pattern, s):\n",
        "        print(\"Match\")\n",
        "    else:\n",
        "        print(\"No Match\")"
      ],
      "execution_count": null,
      "outputs": [
        {
          "output_type": "stream",
          "text": [
            "Match\n",
            "No Match\n",
            "No Match\n"
          ],
          "name": "stdout"
        }
      ]
    },
    {
      "cell_type": "markdown",
      "metadata": {
        "id": "S1oVRyJJeRkz"
      },
      "source": [
        "So far, we haven't done anything with regular expressions that we couldn't do using the `in` keyword. The power of regular expressions comes when we use one of the special character sequences.\n",
        "\n",
        "The first of these we'll learn is called a **set**. A set allows us to specify two or more characters that can match in a single character's position.\n",
        "\n"
      ]
    },
    {
      "cell_type": "markdown",
      "metadata": {
        "id": "_bSDhQhsebza"
      },
      "source": [
        "We define a set by placing the characters we want to match for in square brackets:\n",
        "\n",
        "![img](https://s3.amazonaws.com/dq-content/354/set_syntax_breakdown.svg)\n",
        "\n",
        "The regular expression above will match the strings `mend`, `send`, and `bend`.\n",
        "\n",
        "Let's look at how we can add sets to match more of our example strings from earlier:\n",
        "\n",
        "![img](https://s3.amazonaws.com/dq-content/354/basic_match_2.svg)\n"
      ]
    },
    {
      "cell_type": "markdown",
      "metadata": {
        "id": "9rtinQO4e3nk"
      },
      "source": [
        "Let's take another look at the list of strings we used earlier:\n",
        "\n"
      ]
    },
    {
      "cell_type": "code",
      "metadata": {
        "id": "DCZfYeEHe54T"
      },
      "source": [
        "string_list = [\"Julie's favorite color is Blue.\",\n",
        "               \"Keli's favorite color is Green.\",\n",
        "               \"Craig's favorite colors are blue and red.\"]"
      ],
      "execution_count": null,
      "outputs": []
    },
    {
      "cell_type": "markdown",
      "metadata": {
        "id": "dmyL-NNGe-PE"
      },
      "source": [
        "If you look closely, you'll notice the first string contains the substring `Blue` with a capital letter, where the third string contains the substring `blue` in all lowercase. We can use the set `[Bb]` for the first character so that we can match both variations, and then use that to count how many times `Blue` or `blue` occur in the list:\n",
        "\n"
      ]
    },
    {
      "cell_type": "code",
      "metadata": {
        "id": "PYBfmHBSfKlS",
        "colab": {
          "base_uri": "https://localhost:8080/"
        },
        "outputId": "c2ef6e14-4582-4551-db24-84f495dc227f"
      },
      "source": [
        "blue_mentions = 0\n",
        "pattern = \"[Bb]lue\"\n",
        "\n",
        "for s in string_list:\n",
        "    if re.search(pattern, s):\n",
        "        blue_mentions += 1\n",
        "\n",
        "print(blue_mentions)"
      ],
      "execution_count": null,
      "outputs": [
        {
          "output_type": "stream",
          "text": [
            "2\n"
          ],
          "name": "stdout"
        }
      ]
    },
    {
      "cell_type": "markdown",
      "metadata": {
        "id": "5qjxl8-EfLaJ"
      },
      "source": [
        "We're going to use this technique to find out how many times Python is mentioned in the title of stories in our Hacker News dataset. We'll use a set to check for both `Python` with a capital 'P' and `python` with a lowercase 'p'.\n",
        "\n"
      ]
    },
    {
      "cell_type": "markdown",
      "metadata": {
        "id": "cWF0Iv6EfQ7R"
      },
      "source": [
        "**Instructions:**\n",
        "\n",
        "We have provided code to import the `re` module and extract a **list**, `titles`, containing all the titles from our dataset.\n",
        "\n",
        "1. Initialize a variable `python_mentions` with the integer value `0`.\n",
        "2. Create a string — `pattern` — containing a regular expression pattern that uses a set to match `Python` or `python`.\n",
        "3. Use a loop to iterate over each item in the `titles` list, and for each item:\n",
        " - Use the `re.search()` function to check whether `pattern` matches the title.\n",
        " - If `re.search()` returns a match object, increment (add `1` to) the `python_mentions` variable."
      ]
    },
    {
      "cell_type": "code",
      "metadata": {
        "id": "5mXsM-Gkf0-B"
      },
      "source": [
        "# Code provided\n",
        "titles = hn[\"title\"].tolist()"
      ],
      "execution_count": null,
      "outputs": []
    },
    {
      "cell_type": "code",
      "metadata": {
        "id": "fuaMEbLS6F7x"
      },
      "source": [
        "# Solution\n",
        "\n",
        "python_mentions = 0\n",
        "pattern = \"[Pp]ython\"\n",
        "\n",
        "for t in titles:\n",
        "    if re.search(pattern, t):\n",
        "        python_mentions += 1"
      ],
      "execution_count": null,
      "outputs": []
    },
    {
      "cell_type": "markdown",
      "metadata": {
        "id": "7OcrslezvYn9"
      },
      "source": [
        "## 3. Counting Matches with pandas Methods"
      ]
    },
    {
      "cell_type": "markdown",
      "metadata": {
        "id": "MvvAeyhJvYxO"
      },
      "source": [
        "We've learned that we should avoid using loops in pandas, and that vectorized methods are often faster and require less code.\n",
        "\n",
        "In the data cleaning course, we learned that the `Series.str.contains()` [method](http://pandas.pydata.org/pandas-docs/stable/reference/api/pandas.Series.str.contains.html) can be used to test whether a Series of strings match a particular regex pattern. Let's look at how we can replicate the example from the previous screen using pandas."
      ]
    },
    {
      "cell_type": "markdown",
      "metadata": {
        "id": "PwNe-1zdi6_m"
      },
      "source": [
        "We'll start by creating a pandas object containing our strings:"
      ]
    },
    {
      "cell_type": "code",
      "metadata": {
        "id": "gSkD0UFMi73V",
        "colab": {
          "base_uri": "https://localhost:8080/"
        },
        "outputId": "8c7fc5c7-124e-427f-bfc4-96257d5e0758"
      },
      "source": [
        "eg_list = [\"Julie's favorite color is green.\",\n",
        "           \"Keli's favorite color is Blue.\",\n",
        "           \"Craig's favorite colors are blue and red.\"]\n",
        "\n",
        "eg_series = pd.Series(eg_list)\n",
        "print(eg_series)"
      ],
      "execution_count": null,
      "outputs": [
        {
          "output_type": "stream",
          "text": [
            "0             Julie's favorite color is green.\n",
            "1               Keli's favorite color is Blue.\n",
            "2    Craig's favorite colors are blue and red.\n",
            "dtype: object\n"
          ],
          "name": "stdout"
        }
      ]
    },
    {
      "cell_type": "markdown",
      "metadata": {
        "id": "TCfxdeaai_sU"
      },
      "source": [
        "Next, we'll create our regex pattern, and use `Series.str.contains()` to compare to each value in our series:"
      ]
    },
    {
      "cell_type": "code",
      "metadata": {
        "id": "V4_BQWFOeUlo",
        "colab": {
          "base_uri": "https://localhost:8080/"
        },
        "outputId": "4e34d5c7-08f9-4cbe-c9d4-d7a4e5135765"
      },
      "source": [
        "pattern = \"[Bb]lue\"\n",
        "\n",
        "pattern_contained = eg_series.str.contains(pattern)\n",
        "print(pattern_contained)"
      ],
      "execution_count": null,
      "outputs": [
        {
          "output_type": "stream",
          "text": [
            "0    False\n",
            "1     True\n",
            "2     True\n",
            "dtype: bool\n"
          ],
          "name": "stdout"
        }
      ]
    },
    {
      "cell_type": "markdown",
      "metadata": {
        "id": "Cj__P3qijJNu"
      },
      "source": [
        "The result is a boolean mask: a series of `True`/`False` values.\n",
        "\n",
        "One of the neat things about boolean masks is that you can use the `Series.sum()` [method]() to sum all the values in the boolean mask, with each `True` value counting as `1`, and each `False` as `0`. This means that we can easily count the number of values in the original series that matched our pattern:"
      ]
    },
    {
      "cell_type": "code",
      "metadata": {
        "id": "M-1mFn3fjZBz",
        "colab": {
          "base_uri": "https://localhost:8080/"
        },
        "outputId": "de59c8b9-f1cd-49ea-e79b-0fd4f8696b3e"
      },
      "source": [
        "pattern_count = pattern_contained.sum()\n",
        "print(pattern_count)"
      ],
      "execution_count": null,
      "outputs": [
        {
          "output_type": "stream",
          "text": [
            "2\n"
          ],
          "name": "stdout"
        }
      ]
    },
    {
      "cell_type": "markdown",
      "metadata": {
        "id": "v-knmCFrje08"
      },
      "source": [
        "If we wanted, we could use method chaining to do the whole operation on one line:"
      ]
    },
    {
      "cell_type": "code",
      "metadata": {
        "id": "Jb7k_0NQjhrc",
        "colab": {
          "base_uri": "https://localhost:8080/"
        },
        "outputId": "ff3091c4-5fda-4b54-d620-8fb007cd274e"
      },
      "source": [
        "pattern_count = eg_series.str.contains(pattern).sum()\n",
        "print(pattern_count)"
      ],
      "execution_count": null,
      "outputs": [
        {
          "output_type": "stream",
          "text": [
            "2\n"
          ],
          "name": "stdout"
        }
      ]
    },
    {
      "cell_type": "markdown",
      "metadata": {
        "id": "8yYduYUnjieY"
      },
      "source": [
        "Let's use this technique to replicate the analysis we did in the previous screen."
      ]
    },
    {
      "cell_type": "markdown",
      "metadata": {
        "id": "6TT1ce2kjkvG"
      },
      "source": [
        "**Instructions:**\n",
        "\n",
        "We have provided the regex pattern from the solution to the previous screen.\n",
        "\n",
        "1. Assign the `title` column from the `hn` dataframe to the variable `titles`.\n",
        "2. Use `Series.str.contains()` and `Series.sum()` with the provided regex pattern to count how many Hacker News titles contain `Python` or `python`. Assign the result to `python_mentions`."
      ]
    },
    {
      "cell_type": "code",
      "metadata": {
        "id": "X2bFpriEj87M"
      },
      "source": [
        "# Code provided\n",
        "pattern = '[Pp]ython'"
      ],
      "execution_count": null,
      "outputs": []
    },
    {
      "cell_type": "code",
      "metadata": {
        "id": "6x_mdekC6aj4"
      },
      "source": [
        "# Solution"
      ],
      "execution_count": null,
      "outputs": []
    },
    {
      "cell_type": "markdown",
      "metadata": {
        "id": "hUWGaeaIvY2S"
      },
      "source": [
        "## 4. Using Regular Expressions to Select Data"
      ]
    },
    {
      "cell_type": "markdown",
      "metadata": {
        "id": "qdBxTpFgvY8B"
      },
      "source": [
        "On the previous two screens, we used regular expressions to count how many titles contain `Python` or `python`. What if we wanted to view those titles?\n",
        "\n",
        "In that case, we can use the boolean array returned by `Series.str.contains()` to select just those rows from our series. Let's look at that in action, starting by creating the boolean array."
      ]
    },
    {
      "cell_type": "code",
      "metadata": {
        "id": "_O1REnS1kOoG",
        "colab": {
          "base_uri": "https://localhost:8080/"
        },
        "outputId": "74c0fa7a-b183-487f-b266-6776c69c329f"
      },
      "source": [
        "titles = hn['title']\n",
        "\n",
        "py_titles_bool = titles.str.contains(\"[Pp]ython\")\n",
        "print(py_titles_bool.head())"
      ],
      "execution_count": null,
      "outputs": [
        {
          "output_type": "stream",
          "text": [
            "0    False\n",
            "1    False\n",
            "2    False\n",
            "3    False\n",
            "4    False\n",
            "Name: title, dtype: bool\n"
          ],
          "name": "stdout"
        }
      ]
    },
    {
      "cell_type": "markdown",
      "metadata": {
        "id": "kKotkPgNkX2H"
      },
      "source": [
        "Then, we can use that boolean array to select just the matching rows:"
      ]
    },
    {
      "cell_type": "code",
      "metadata": {
        "id": "7H_Z-GmgkZd-",
        "colab": {
          "base_uri": "https://localhost:8080/"
        },
        "outputId": "521d5e4c-7c36-4040-d688-3a9c2484a463"
      },
      "source": [
        "py_titles = titles[py_titles_bool]\n",
        "print(py_titles.head())"
      ],
      "execution_count": null,
      "outputs": [
        {
          "output_type": "stream",
          "text": [
            "102                  From Python to Lua: Why We Switched\n",
            "103            Ubuntu 16.04 LTS to Ship Without Python 2\n",
            "144    Create a GUI Application Using Qt and Python i...\n",
            "196    How I Solved GCHQ's Xmas Card with Python and ...\n",
            "436    Unikernel Power Comes to Java, Node.js, Go, an...\n",
            "Name: title, dtype: object\n"
          ],
          "name": "stdout"
        }
      ]
    },
    {
      "cell_type": "markdown",
      "metadata": {
        "id": "DJU5AHC2kbo-"
      },
      "source": [
        "We can also do it in a streamlined, single line of code:"
      ]
    },
    {
      "cell_type": "code",
      "metadata": {
        "id": "SJqI4WsVkcPT",
        "colab": {
          "base_uri": "https://localhost:8080/"
        },
        "outputId": "69a7bb2c-3709-4d09-c259-c1f25c4088d6"
      },
      "source": [
        "py_titles = titles[titles.str.contains(\"[Pp]ython\")]\n",
        "print(py_titles.head())"
      ],
      "execution_count": null,
      "outputs": [
        {
          "output_type": "stream",
          "text": [
            "102                  From Python to Lua: Why We Switched\n",
            "103            Ubuntu 16.04 LTS to Ship Without Python 2\n",
            "144    Create a GUI Application Using Qt and Python i...\n",
            "196    How I Solved GCHQ's Xmas Card with Python and ...\n",
            "436    Unikernel Power Comes to Java, Node.js, Go, an...\n",
            "Name: title, dtype: object\n"
          ],
          "name": "stdout"
        }
      ]
    },
    {
      "cell_type": "markdown",
      "metadata": {
        "id": "so8y_Dx9keH0"
      },
      "source": [
        "Let's use this technique to select all titles that mention the programming language Ruby, using a set to account for whether the word is capitalized or not."
      ]
    },
    {
      "cell_type": "markdown",
      "metadata": {
        "id": "QKiO4CHXkkXH"
      },
      "source": [
        "**Instructions:**\n",
        "\n",
        "Use `Series.str.contains()` to create a series of the values from `titles` that contain `Ruby` or `ruby`. Assign the result to `ruby_titles`."
      ]
    },
    {
      "cell_type": "code",
      "metadata": {
        "id": "pDraZS3kkqkl"
      },
      "source": [
        "# Code provided\n",
        "titles = hn['title']"
      ],
      "execution_count": null,
      "outputs": []
    },
    {
      "cell_type": "code",
      "metadata": {
        "id": "ygXe_2Ss6kn-"
      },
      "source": [
        "# Solution"
      ],
      "execution_count": null,
      "outputs": []
    },
    {
      "cell_type": "markdown",
      "metadata": {
        "id": "3KBf0aiuvZBE"
      },
      "source": [
        "## 5. Quantifiers"
      ]
    },
    {
      "cell_type": "markdown",
      "metadata": {
        "id": "hPS9gidyvZGc"
      },
      "source": [
        "In the [data cleaning course](https://app.dataquest.io/course/python-datacleaning/), we learned that we could use braces (`{}`) to specify that a character repeats in our regular expression. For instance, if we wanted to write a pattern that matches the numbers in text from `1000` to `2999` we could write the regular expression below:\n",
        "![img](https://s3.amazonaws.com/dq-content/354/quantifier_example.svg)"
      ]
    },
    {
      "cell_type": "markdown",
      "metadata": {
        "id": "C2yCLYOyk9tH"
      },
      "source": [
        "The name for this type of regular expression syntax is called a quantifier. Quantifiers specify how many of the previous character our pattern requires, which can help us when we want to match substrings of specific lengths. As an example, we might want to match both `e-mail` and `email`. To do this, we would want to specify to match `-` either zero or one times.\n",
        "\n",
        "The specific type of quantifier we saw above is called a numeric quantifier. Here are the different types of numeric quantifiers we can use:\n",
        "\n",
        "![img](https://s3.amazonaws.com/dq-content/354/quantifiers_numeric.svg)"
      ]
    },
    {
      "cell_type": "markdown",
      "metadata": {
        "id": "wrz_02dhlKwj"
      },
      "source": [
        "You might notice that the last two examples above omit the first and last character as wildcards, in the same way that we can omit the first or last indicies when slicing lists.\n",
        "\n",
        "In addition to numeric quantifiers, there are single characters in regex that specify some common quantifiers that you're likely to use. A summary of them is below.\n",
        "\n",
        "![img](https://s3.amazonaws.com/dq-content/354/quantifiers_other.svg)\n",
        "\n",
        "On this screen, we're going to find how many titles in our dataset mention `email` or `e-mail`. To do this, we'll need to use `?`, the optional quantifier, to specify that the dash character `-` is optional in our regular expression."
      ]
    },
    {
      "cell_type": "markdown",
      "metadata": {
        "id": "xuTGBEn6lXpT"
      },
      "source": [
        "**Instructions:**\n",
        "\n",
        "1. Use a regular expression and `Series.str.contains()` to create a boolean mask that matches items from `titles` containing `email` or `e-mail`. Assign the result to `email_bool`.\n",
        "2. Use `email_bool` to count the number of titles that matched the regular expression. Assign the result to `email_count`.\n",
        "3. Use `email_bool` to select only the items from `titles` that matched the regular expression. Assign the result to `email_titles`."
      ]
    },
    {
      "cell_type": "code",
      "metadata": {
        "id": "0J1eBUf6o2L9"
      },
      "source": [
        "# The `titles` variable is available from\n",
        "# the previous screens"
      ],
      "execution_count": null,
      "outputs": []
    },
    {
      "cell_type": "markdown",
      "metadata": {
        "id": "ehontc_jvZMb"
      },
      "source": [
        "## 6. Character Classes"
      ]
    },
    {
      "cell_type": "markdown",
      "metadata": {
        "id": "BHtCX5h-vZSW"
      },
      "source": [
        "So far, we've learned how to perform simple matches with sets, and how to use quantifiers to specify when a character should repeat a certain number of times. Let's continue by looking at a more complex example.\n",
        "\n",
        "Some stories submitted to Hacker News include a topic tag in brackets, like `[pdf]`. Here are a few examples of story titles with these tags:\n",
        "\n",
        "```\n",
        "[video] Google Self-Driving SUV Sideswipes Bus\n",
        "New Directions in Cryptography by Diffie and Hellman (1976) [pdf]\n",
        "Wallace and Gromit  The Great Train Chase (1993) [video]\n",
        "```"
      ]
    },
    {
      "cell_type": "markdown",
      "metadata": {
        "id": "yO2qBJ5XHlLS"
      },
      "source": [
        "In this screen, our task is going to be to find how many titles in our dataset have tags.\n",
        "\n",
        "Our first inclination may be to create the regex `[pdf]`. Unfortunately, the brackets would be interpreted as a set, so our pattern would match the single characters `p`, `d`, or `f`."
      ]
    },
    {
      "cell_type": "markdown",
      "metadata": {
        "id": "cTYDd4RQHvOx"
      },
      "source": [
        "![img](https://s3.amazonaws.com/dq-content/354/without_escaped_character_syntax_breakdown.svg)"
      ]
    },
    {
      "cell_type": "markdown",
      "metadata": {
        "id": "_ZttqSr8zcJ6"
      },
      "source": [
        "To match the substring `\"[pdf]\"`, we can use backslashes to escape both the open and closing brackets: `\\[pdf\\]`.\n",
        "\n",
        "![img](https://s3.amazonaws.com/dq-content/354/escaped_character_syntax_breakdown.svg)\n",
        "\n",
        "The other critical part of our task of identifying how many titles have tags is knowing how to match the characters between the brackets (like `pdf` and `video`) without knowing ahead of time what the different topic tags will be.\n",
        "\n"
      ]
    },
    {
      "cell_type": "markdown",
      "metadata": {
        "id": "tENrlp7Hz5Z7"
      },
      "source": [
        "To match unknown characters using regular expressions, we use **character classes**. Character classes allow us to match certain groups of characters. We've actually seen two examples of character classes already:\n",
        "\n",
        "1. The set notation using brackets to match any of a number of characters.\n",
        "2. The range notation, which we used to match ranges of digits (like `[0-9]`).\n",
        "\n",
        "Let's look at a summary of syntax for some of the regex character classes:\n",
        "\n",
        "![img](https://s3.amazonaws.com/dq-content/354/character_classes_v2_1.svg)\n"
      ]
    },
    {
      "cell_type": "markdown",
      "metadata": {
        "id": "pTsCt8xv0L_q"
      },
      "source": [
        "There are two new things we can observe from this table:\n",
        "\n",
        "1. Ranges can be used for letters as well as numbers.\n",
        "2. Sets and ranges can be combined.\n",
        "\n",
        "Just like with quantifiers, there are some other common character classes which we'll use a lot.\n",
        "\n",
        "![img](https://s3.amazonaws.com/dq-content/354/character_classes_v2_2.svg)\n"
      ]
    },
    {
      "cell_type": "markdown",
      "metadata": {
        "id": "O1duEbPM1xTD"
      },
      "source": [
        "The one that we'll be using to match characters in tags is `\\w`, which represents any number or letter. Each character class represents a single character, so to match multiple characters (e.g. words like `video` and `pdf`), we'll need to combine them with quantifiers.\n",
        "\n",
        "In order to match word characters between our brackets, we can combine the word character class (`\\w`) with the 'one or more' quantifier (`+`), giving us a combined pattern of `\\w+`.\n",
        "\n",
        "This will match sequences like `pdf`, `video`, `Python`, and `2018` but won't match a sequence containing a space or punctuation character like `PHP-DEV` or `XKCD Flowchart`. If we wanted to match those tags as well, we could use `.+`; however, in this case, we're just interested in single-word tags without special characters.\n",
        "\n"
      ]
    },
    {
      "cell_type": "markdown",
      "metadata": {
        "id": "KT0jlff22Fx4"
      },
      "source": [
        "Let's quickly recap the concepts we learned in this screen:\n",
        "\n",
        "- We can use a backslash to escape characters that have special meaning in regular expressions (e.g. `\\` will match an open bracket character).\n",
        "- Character classes let us match certain groups of characters (e.g. `\\w` will match any word character).\n",
        "- Character classes can be combined with quantifiers when we want to match different numbers of characters.\n",
        "\n",
        "We'll use these concepts to count the number of titles that contain a tag."
      ]
    },
    {
      "cell_type": "markdown",
      "metadata": {
        "id": "iqrqICVqCOM3"
      },
      "source": [
        "**Instructions:**\n",
        "\n",
        "1. Write a regular expression, assigning it as a string to the variable pattern. The regular expression should match, in order:\n",
        " - A single open bracket character.\n",
        " - One or more word characters.\n",
        " - A single close bracket character.\n",
        "2. Use the regular expression to select only items from titles that match. Assign the result to the variable tag_titles.\n",
        "3. Count how many matching titles there are. Assign the result to tag_count."
      ]
    },
    {
      "cell_type": "code",
      "metadata": {
        "id": "ybEB1W29CVbL"
      },
      "source": [
        "# Answer provided for next chapters\n",
        "\n",
        "pattern = \"\\[\\w+\\]\"\n",
        "tag_titles = titles[titles.str.contains(pattern)]\n",
        "tag_count = tag_titles.shape[0]"
      ],
      "execution_count": null,
      "outputs": []
    },
    {
      "cell_type": "markdown",
      "metadata": {
        "id": "pZNgdLe6vZYq"
      },
      "source": [
        "## 7. Accessing the Matching Text with Capture Groups"
      ]
    },
    {
      "cell_type": "markdown",
      "metadata": {
        "id": "hcqZ2wuvvZeI"
      },
      "source": [
        "On the previous screen, we learned that we can use backslashes to escape the `[` and `]` characters. Backslashes are used to escape many other characters in regular expressions, as well as to denote some special character sequences (like character classes).\n",
        "\n",
        "In Python, a backslash followed by certain characters represents an escape sequence — like the `\\n` sequence — which we previously learned represents a new line. These escape sequences can result in unintended consequences for our regular expressions. Let's take a look at a string containing the substring `\\b`:"
      ]
    },
    {
      "cell_type": "code",
      "metadata": {
        "id": "LJvPTK02DFki",
        "colab": {
          "base_uri": "https://localhost:8080/"
        },
        "outputId": "bfe4e174-8db8-4f39-df5a-113236e22d2f"
      },
      "source": [
        "print('hello\\b world')"
      ],
      "execution_count": null,
      "outputs": [
        {
          "output_type": "stream",
          "text": [
            "hello\b world\n"
          ],
          "name": "stdout"
        }
      ]
    },
    {
      "cell_type": "markdown",
      "metadata": {
        "id": "xkhWKXlltXh9"
      },
      "source": [
        "The escape sequence `\\b` represents a backspace, so the final letter from our string is removed. The character sequence `\\b` has a special meaning in regular expressions (which we'll learn about later), so we need a way to write these characters without triggering the escape sequence.\n",
        "\n",
        "One way is to add an extra backslash before the \"b\":\n",
        "\n"
      ]
    },
    {
      "cell_type": "code",
      "metadata": {
        "id": "wVm-ImuatbnH",
        "colab": {
          "base_uri": "https://localhost:8080/"
        },
        "outputId": "072ce2cf-a2b6-4cd5-9db9-6771694e14da"
      },
      "source": [
        "print('hello\\\\b world')"
      ],
      "execution_count": null,
      "outputs": [
        {
          "output_type": "stream",
          "text": [
            "hello\\b world\n"
          ],
          "name": "stdout"
        }
      ]
    },
    {
      "cell_type": "markdown",
      "metadata": {
        "id": "MFnMoC0KtoqP"
      },
      "source": [
        "This can make regular expressions even more difficult to read and interpret, so instead we use [raw strings](https://docs.python.org/3/reference/lexical_analysis.html#string-and-bytes-literals), which we denote by prefixing our string with the `r` character. Let's take a look at the code from above with a raw string:"
      ]
    },
    {
      "cell_type": "code",
      "metadata": {
        "id": "DHkUrLRxtwCS",
        "colab": {
          "base_uri": "https://localhost:8080/"
        },
        "outputId": "992cba8d-b421-4a87-9590-455e071780f6"
      },
      "source": [
        "print(r'hello\\b world')"
      ],
      "execution_count": null,
      "outputs": [
        {
          "output_type": "stream",
          "text": [
            "hello\\b world\n"
          ],
          "name": "stdout"
        }
      ]
    },
    {
      "cell_type": "markdown",
      "metadata": {
        "id": "ogEmqNizt3HG"
      },
      "source": [
        "We strongly recommend using raw strings for every regex you write, rather than remember which sequences are escape sequences and using raw strings selectively. That way, you'll never encounter a situation where you forget or overlook something which causes your regex to break.\n",
        "\n",
        "In the previous screen, we were able to calculate that 444 of the 20,100 Hacker News stories in our dataset contain tags. What if we wanted to find out what the text of these tags were, and how many of each are in the dataset?"
      ]
    },
    {
      "cell_type": "markdown",
      "metadata": {
        "id": "JrCkUUrjt496"
      },
      "source": [
        "In order to do this, we'll need to use **capture groups**. Capture groups allow us to specify one or more groups within our match that we can access separately. In this mission, we'll learn how to use one capture group per regular expression, but in the next mission we'll learn some more complex capture group patterns.\n",
        "\n",
        "We specify capture groups using parentheses. Let's add an open and close parentheses to the pattern we wrote in the previous screen, and break down how each character in our regular expression works:\n",
        "\n",
        "![img](https://s3.amazonaws.com/dq-content/354/tags_syntax_breakdown_v2.svg)"
      ]
    },
    {
      "cell_type": "markdown",
      "metadata": {
        "id": "O2dnm1jfuEbN"
      },
      "source": [
        "We'll learn how to access capture groups in pandas by looking at just the first five matching titles from the previous exercise:"
      ]
    },
    {
      "cell_type": "code",
      "metadata": {
        "id": "a3SusGxUuKeC",
        "colab": {
          "base_uri": "https://localhost:8080/"
        },
        "outputId": "5163a23f-a5e8-49ec-9e9d-9963fc48fa16"
      },
      "source": [
        "tag_5 = tag_titles.head()\n",
        "print(tag_5)"
      ],
      "execution_count": null,
      "outputs": [
        {
          "output_type": "stream",
          "text": [
            "66     Analysis of 114 propaganda sources from ISIS, ...\n",
            "100    Munich Gunman Got Weapon from the Darknet [Ger...\n",
            "159         File indexing and searching for Plan 9 [pdf]\n",
            "162    Attack on Kunduz Trauma Centre, Afghanistan  I...\n",
            "195               [Beta] Speedtest.net  HTML5 Speed Test\n",
            "Name: title, dtype: object\n"
          ],
          "name": "stdout"
        }
      ]
    },
    {
      "cell_type": "code",
      "metadata": {
        "id": "78V7wGCCuSnp",
        "colab": {
          "base_uri": "https://localhost:8080/"
        },
        "outputId": "22aeb9c7-104e-4366-c31d-42aa7b6c3956"
      },
      "source": [
        "pattern = r\"(\\[\\w+\\])\"\n",
        "tag_5_matches = tag_5.str.extract(pattern)\n",
        "print(tag_5_matches)"
      ],
      "execution_count": null,
      "outputs": [
        {
          "output_type": "stream",
          "text": [
            "            0\n",
            "66      [pdf]\n",
            "100  [German]\n",
            "159     [pdf]\n",
            "162     [pdf]\n",
            "195    [Beta]\n"
          ],
          "name": "stdout"
        }
      ]
    },
    {
      "cell_type": "markdown",
      "metadata": {
        "id": "7-b24eZyuqAU"
      },
      "source": [
        "We can move our parentheses inside the brackets to get just the text:"
      ]
    },
    {
      "cell_type": "code",
      "metadata": {
        "id": "u2E67IZ5uw8F",
        "colab": {
          "base_uri": "https://localhost:8080/"
        },
        "outputId": "f2bb5a60-9648-4354-fe10-947a641fc805"
      },
      "source": [
        "pattern = r\"\\[(\\w+)\\]\"\n",
        "tag_5_matches = tag_5.str.extract(pattern)\n",
        "print(tag_5_matches)"
      ],
      "execution_count": null,
      "outputs": [
        {
          "output_type": "stream",
          "text": [
            "          0\n",
            "66      pdf\n",
            "100  German\n",
            "159     pdf\n",
            "162     pdf\n",
            "195    Beta\n"
          ],
          "name": "stdout"
        }
      ]
    },
    {
      "cell_type": "markdown",
      "metadata": {
        "id": "EjdHOgivuzWv"
      },
      "source": [
        "If we then use `Series.value_counts()` we can quickly get a frequency table of the tags:"
      ]
    },
    {
      "cell_type": "code",
      "metadata": {
        "id": "5_CWheMru11F",
        "colab": {
          "base_uri": "https://localhost:8080/"
        },
        "outputId": "de6617fd-a659-4482-acbb-d00c0447bae1"
      },
      "source": [
        "tag_5_freq = tag_5_matches.value_counts()\n",
        "print(tag_5_freq)"
      ],
      "execution_count": null,
      "outputs": [
        {
          "output_type": "stream",
          "text": [
            "pdf       3\n",
            "German    1\n",
            "Beta      1\n",
            "dtype: int64\n"
          ],
          "name": "stdout"
        }
      ]
    },
    {
      "cell_type": "markdown",
      "metadata": {
        "id": "0KeZ5nvru5NG"
      },
      "source": [
        "Let's use this technique to extract all of the tags from the Hacker News titles and build a frequency table of those tags."
      ]
    },
    {
      "cell_type": "markdown",
      "metadata": {
        "id": "thJezCepu9u8"
      },
      "source": [
        "**Instructions:**\n",
        "\n",
        "We have provided a commented line of code with the pattern from the previous exercise.\n",
        "\n",
        "1. Uncomment the line of code and add parentheses to create a capture group *inside* the brackets.\n",
        "2. Use `Series.str.extract()` and `Series.value_counts()` with the modified regex pattern to produce a frequency table of all the tags in the `titles` series. Assign the frequency table to `tag_freq`."
      ]
    },
    {
      "cell_type": "code",
      "metadata": {
        "id": "Bl3vNefAvHfg"
      },
      "source": [
        ""
      ],
      "execution_count": null,
      "outputs": []
    },
    {
      "cell_type": "markdown",
      "metadata": {
        "id": "LtTWdk6UvZkC"
      },
      "source": [
        "## 8. Negative Character Classes"
      ]
    },
    {
      "cell_type": "markdown",
      "metadata": {
        "id": "DB71p3oIvZq9"
      },
      "source": [
        "On the previous screens, we wrote mostly simple regular expressions. In reality, regular expressions are often complex. When creating complex regular expressions, you often need to work iteratively so you can find \"bad\" instances that match your pattern and then exclude them.\n",
        "\n",
        "In order to work faster as you build your regular expression, it can be helpful to create a function that returns the first few matching strings:"
      ]
    },
    {
      "cell_type": "code",
      "metadata": {
        "id": "P6k3bfdivbyh"
      },
      "source": [
        "def first_10_matches(pattern):\n",
        "    \"\"\"\n",
        "    Return the first 10 story titles that match\n",
        "    the provided regular expression\n",
        "    \"\"\"\n",
        "    all_matches = titles[titles.str.contains(pattern)]\n",
        "    first_10 = all_matches.head(10)\n",
        "    return first_10"
      ],
      "execution_count": null,
      "outputs": []
    },
    {
      "cell_type": "markdown",
      "metadata": {
        "id": "frwR1BlnvxtZ"
      },
      "source": [
        "Another useful approach is to use an online tool like [RegExr](https://regexr.com/) that allows you to build regular expressions and includes syntax highlighting, instant matches, and regex syntax reference. For this screen, we'll use the `first_10_matches` function we just built to iteratively build a regular expression.\n",
        "\n",
        "Earlier, we counted the titles that included Python — let's write a simple regular expression to match Java (another popular language), and use our function to look at the matches:"
      ]
    },
    {
      "cell_type": "code",
      "metadata": {
        "colab": {
          "base_uri": "https://localhost:8080/"
        },
        "id": "Ca3PuWYRwAVu",
        "outputId": "d580a63e-992c-4193-ccac-a33efb496d30"
      },
      "source": [
        "first_10_matches(r\"[Jj]ava\")"
      ],
      "execution_count": null,
      "outputs": [
        {
          "output_type": "execute_result",
          "data": {
            "text/plain": [
              "267      Show HN: Hire JavaScript - Top JavaScript Talent\n",
              "436     Unikernel Power Comes to Java, Node.js, Go, an...\n",
              "580     Python integration for the Duktape Javascript ...\n",
              "811     Ask HN: Are there any projects or compilers wh...\n",
              "1023                         Pippo  Web framework in Java\n",
              "1046    If you write JavaScript tools or libraries, bu...\n",
              "1093    Rollup.js: A next-generation JavaScript module...\n",
              "1162                 V8 JavaScript Engine: V8 Release 5.4\n",
              "1195                   Proposed JavaScript Standard Style\n",
              "1314           Show HN: Design by Contract for JavaScript\n",
              "Name: title, dtype: object"
            ]
          },
          "metadata": {
            "tags": []
          },
          "execution_count": 34
        }
      ]
    },
    {
      "cell_type": "markdown",
      "metadata": {
        "id": "4maY8UCNwL2G"
      },
      "source": [
        "We can see that there are a number of matches that contain `Java` as part of the word `JavaScript`. We want to exclude these titles from matching so we get an accurate count.\n",
        "\n",
        "One way to do this is by using **negative character classes**. Negative character classes are character classes that match every character except a character class. Let's look at a table of the common negative character classes:\n",
        "![img](https://s3.amazonaws.com/dq-content/354/negative_character_classes.svg)\n",
        "\n",
        "Let's use the negative set `[^Ss]` to exclude instances like `JavaScript` and `Javascript`."
      ]
    },
    {
      "cell_type": "markdown",
      "metadata": {
        "id": "Zk5FZaFnwkjr"
      },
      "source": [
        "**Instructions:**\n",
        "\n",
        "1. Write a regular expression that will match titles containing Java.\n",
        " - You might like to use the `first_10_matches()` function or a site like [RegExr](https://regexr.com/) to build your regular expression.\n",
        " - The regex should match whether or not the first character is capitalized.\n",
        " - The regex shouldn't match where 'Java' is followed by the letter 'S' or 's'.\n",
        "2. Select every row from `titles` that match the regular expression. Assign the result to `java_titles`."
      ]
    },
    {
      "cell_type": "code",
      "metadata": {
        "id": "ZLgrpETQxTAg"
      },
      "source": [
        "# Provided code \n",
        "def first_10_matches(pattern):\n",
        "    \"\"\"\n",
        "    Return the first 10 story titles that match\n",
        "    the provided regular expression\n",
        "    \"\"\"\n",
        "    all_matches = titles[titles.str.contains(pattern)]\n",
        "    first_10 = all_matches.head(10)\n",
        "    return first_10"
      ],
      "execution_count": null,
      "outputs": []
    },
    {
      "cell_type": "code",
      "metadata": {
        "id": "EPZQXXpXGuiW"
      },
      "source": [
        "# Answer\n"
      ],
      "execution_count": null,
      "outputs": []
    },
    {
      "cell_type": "markdown",
      "metadata": {
        "id": "RoPZr8o5vZwt"
      },
      "source": [
        "## 9. Word Boundaries"
      ]
    },
    {
      "cell_type": "markdown",
      "metadata": {
        "id": "M41e6lwNvZ28"
      },
      "source": [
        "On the previous screen, we used a negative set to find all of the mentions of \"Java\" in our dataset:"
      ]
    },
    {
      "cell_type": "code",
      "metadata": {
        "colab": {
          "base_uri": "https://localhost:8080/"
        },
        "id": "oG_BvIuSUAL1",
        "outputId": "ee39745b-a6d0-4a3d-ff54-ba65d84f9d09"
      },
      "source": [
        "first_10_matches(r\"[Jj]ava[^Ss]\")"
      ],
      "execution_count": null,
      "outputs": [
        {
          "output_type": "execute_result",
          "data": {
            "text/plain": [
              "436     Unikernel Power Comes to Java, Node.js, Go, an...\n",
              "811     Ask HN: Are there any projects or compilers wh...\n",
              "1840                    Adopting RxJava on the Airbnb App\n",
              "1972          Node.js vs. Java: Which Is Faster for APIs?\n",
              "2093                    Java EE and Microservices in 2016\n",
              "2367    Code that is valid in both PHP and Java, and p...\n",
              "2493    Ask HN: I've been a java dev for a couple of y...\n",
              "2751                Eventsourcing for Java 0.4.0 released\n",
              "2910                2016 JavaOne Intel Keynote  32mn Talk\n",
              "3452    What are the Differences Between Java Platform...\n",
              "Name: title, dtype: object"
            ]
          },
          "metadata": {
            "tags": []
          },
          "execution_count": 35
        }
      ]
    },
    {
      "cell_type": "markdown",
      "metadata": {
        "id": "0p-gE1vBUDjh"
      },
      "source": [
        "While the negative set was effective in removing any bad matches that mention JavaScript, it also had the side-effect of removing any titles where `Java` occurs at the end of the string, like this title:\n",
        "\n",
        "```\n",
        "Pippo  Web framework in Java\n",
        "```"
      ]
    },
    {
      "cell_type": "markdown",
      "metadata": {
        "id": "7bHa7A3hUM3p"
      },
      "source": [
        "This is because the negative set `[^Ss]` must match one character. Instances at the end of a string aren't followed by any characters, so there is no match.\n",
        "\n",
        "A different approach to take in cases like these is to use the **word boundary anchor**, specified using the syntax `\\b`. A word boundary matches the position between a word character and a non-word character, or a word character and the start/end of a string. The diagram below shows all the word boundaries in an example string:\n",
        "\n",
        "![img](https://s3.amazonaws.com/dq-content/354/word_boundaries.svg)"
      ]
    },
    {
      "cell_type": "markdown",
      "metadata": {
        "id": "TBtV1exDUjX3"
      },
      "source": [
        "Let's look at how using a word boundary changes the match from the string in the example above:"
      ]
    },
    {
      "cell_type": "code",
      "metadata": {
        "colab": {
          "base_uri": "https://localhost:8080/"
        },
        "id": "Q3fagtaDUnGz",
        "outputId": "658196c5-cbe2-4faf-8af8-3be3f9ad4f59"
      },
      "source": [
        "string = \"Sometimes people confuse JavaScript with Java\"\n",
        "pattern_1 = r\"Java[^S]\"\n",
        "\n",
        "m1 = re.search(pattern_1, string)\n",
        "print(m1)"
      ],
      "execution_count": null,
      "outputs": [
        {
          "output_type": "stream",
          "text": [
            "None\n"
          ],
          "name": "stdout"
        }
      ]
    },
    {
      "cell_type": "markdown",
      "metadata": {
        "id": "nvhAi9dHUpdp"
      },
      "source": [
        "The regular expression returns `None`, because there is no substring that contains `Java` followed by a character that *isn't* `S`.\n",
        "\n",
        "Let's instead use word boundaries in our regular expression:"
      ]
    },
    {
      "cell_type": "code",
      "metadata": {
        "colab": {
          "base_uri": "https://localhost:8080/"
        },
        "id": "diBYfk7SUw4I",
        "outputId": "a93c1c52-1e22-441d-dbe4-f3205c45b991"
      },
      "source": [
        "pattern_2 = r\"\\bJava\\b\"\n",
        "\n",
        "m2 = re.search(pattern_2, string)\n",
        "print(m2)"
      ],
      "execution_count": null,
      "outputs": [
        {
          "output_type": "stream",
          "text": [
            "<re.Match object; span=(41, 45), match='Java'>\n"
          ],
          "name": "stdout"
        }
      ]
    },
    {
      "cell_type": "markdown",
      "metadata": {
        "id": "AZQhz_cTU17R"
      },
      "source": [
        "With the word boundary, our pattern matches the `Java` at the end of the string.\n",
        "\n",
        "Let's use the word boundary anchor as part of our regular expression to select the titles that mention Java.\n",
        "\n"
      ]
    },
    {
      "cell_type": "markdown",
      "metadata": {
        "id": "wf5Z5pAkU3hY"
      },
      "source": [
        "**Instructions:**\n",
        "\n",
        "1. Write a regular expression that will match titles containing Java.\n",
        " - You might like to use the `first_10_matches()` function or a site like [RegExr](https://regexr.com/) to build your regular expression.\n",
        " - The regex should match whether or not the first character is capitalized.\n",
        " - The regex should match only where 'Java' is preceded and followed by a word boundary.\n",
        "2. Select from `titles` only the items that match the regular expression. Assign the result to `java_titles`."
      ]
    },
    {
      "cell_type": "code",
      "metadata": {
        "id": "t36M1lj4au_p"
      },
      "source": [
        ""
      ],
      "execution_count": null,
      "outputs": []
    },
    {
      "cell_type": "markdown",
      "metadata": {
        "id": "0p3MPI7pvZ8X"
      },
      "source": [
        "## 10. Matching at the Start and End of Strings"
      ]
    },
    {
      "cell_type": "markdown",
      "metadata": {
        "id": "nNJofC6avlj4"
      },
      "source": [
        "So far, we've used regular expressions to match substrings contained anywhere within text. There are often scenarios where we want to specifically match a pattern at the start and end of strings.\n",
        "\n",
        "On the previous screen, we learned that the **word boundary anchor** matches the space between a word character and a non-word character. More generally in regular expressions, an **anchor** matches something that isn't a character, as opposed to character classes which match specific characters."
      ]
    },
    {
      "cell_type": "markdown",
      "metadata": {
        "id": "uzMU-OcOa7Bt"
      },
      "source": [
        "Other than the word boundary anchor, the other two most common anchors are the beginning anchor and the end anchor, which represent the start and the end of the string.\n",
        "\n",
        "![img](https://s3.amazonaws.com/dq-content/354/positional_anchors.svg)\n",
        "\n",
        "Note that the `^` character is used both as a beginning anchor and to indicate a negative set, depending on whether the character preceding it is a `[` or not.\n",
        "\n"
      ]
    },
    {
      "cell_type": "markdown",
      "metadata": {
        "id": "gboIaDuAbTNH"
      },
      "source": [
        "Let's start with a few test cases that all contain the substring Red at different parts of the string, as well as a test function:"
      ]
    },
    {
      "cell_type": "code",
      "metadata": {
        "colab": {
          "base_uri": "https://localhost:8080/"
        },
        "id": "RMx_NBYnbUVB",
        "outputId": "a7ad992b-83bb-40be-dbbb-1e945f1f985a"
      },
      "source": [
        "test_cases = pd.Series([\n",
        "    \"Red Nose Day is a well-known fundraising event\",\n",
        "    \"My favorite color is Red\",\n",
        "    \"My Red Car was purchased three years ago\"\n",
        "])\n",
        "print(test_cases)"
      ],
      "execution_count": null,
      "outputs": [
        {
          "output_type": "stream",
          "text": [
            "0    Red Nose Day is a well-known fundraising event\n",
            "1                          My favorite color is Red\n",
            "2          My Red Car was purchased three years ago\n",
            "dtype: object\n"
          ],
          "name": "stdout"
        }
      ]
    },
    {
      "cell_type": "markdown",
      "metadata": {
        "id": "6Cf98QYEbWZk"
      },
      "source": [
        "If we want to match the word `Red` only if it occurs at the start of the string, we add the beginning anchor to the start of our regular expression:"
      ]
    },
    {
      "cell_type": "code",
      "metadata": {
        "colab": {
          "base_uri": "https://localhost:8080/"
        },
        "id": "o4XuBVCmbcWa",
        "outputId": "dd3f0e93-b0ed-4761-b9b8-3db914c44107"
      },
      "source": [
        "test_cases.str.contains(r\"^Red\")"
      ],
      "execution_count": null,
      "outputs": [
        {
          "output_type": "execute_result",
          "data": {
            "text/plain": [
              "0     True\n",
              "1    False\n",
              "2    False\n",
              "dtype: bool"
            ]
          },
          "metadata": {
            "tags": []
          },
          "execution_count": 39
        }
      ]
    },
    {
      "cell_type": "markdown",
      "metadata": {
        "id": "Y_uhbsxJbyHU"
      },
      "source": [
        "If we want to match the word `Red` only if it occurs at the end of the string, we add the end anchor to the end of our regular expression:"
      ]
    },
    {
      "cell_type": "code",
      "metadata": {
        "id": "ef7C7h-Cbxx2",
        "colab": {
          "base_uri": "https://localhost:8080/"
        },
        "outputId": "ee5554eb-a5f9-4c9f-fed8-e15ff408a0ff"
      },
      "source": [
        "test_cases.str.contains(r\"Red$\")"
      ],
      "execution_count": null,
      "outputs": [
        {
          "output_type": "execute_result",
          "data": {
            "text/plain": [
              "0    False\n",
              "1     True\n",
              "2    False\n",
              "dtype: bool"
            ]
          },
          "metadata": {
            "tags": []
          },
          "execution_count": 40
        }
      ]
    },
    {
      "cell_type": "markdown",
      "metadata": {
        "id": "zlUEi8UVJCfa"
      },
      "source": [
        "Let's use the beginning and end anchors to count how many titles have tags at the start versus the end of the story title in our Hacker News dataset."
      ]
    },
    {
      "cell_type": "markdown",
      "metadata": {
        "id": "YVeYuk8hJEdB"
      },
      "source": [
        "**Instructions:**\n",
        "\n",
        "1. Count the number of times that a tag (e.g. `[pdf]` or `[video]`) occurs at the start of a title in `titles`. Assign the result to `beginning_count`.\n",
        "2. Count the number of times that a tag (e.g. `[pdf]` or `[video]`) occurs at the end of a title in `titles`. Assign the result to `ending_count`.\n"
      ]
    },
    {
      "cell_type": "code",
      "metadata": {
        "id": "hn1tWfx7Jqiu"
      },
      "source": [
        ""
      ],
      "execution_count": null,
      "outputs": []
    },
    {
      "cell_type": "markdown",
      "metadata": {
        "id": "IvfIE5WbvluE"
      },
      "source": [
        "## 11. Challenge: Using Flags to Modify Regex Patterns"
      ]
    },
    {
      "cell_type": "markdown",
      "metadata": {
        "id": "Ye8rnyiXvmhl"
      },
      "source": [
        "Up until now, we've been using sets like [Pp] to match different capitalizations in our regular expressions. This strategy works well when there is only one character that has capitalization, but becomes cumbersome when we need to cater for multiple instances.\n",
        "\n",
        "Within the titles, there are many different formatting styles used to represent the word \"email.\" Here is a list of the variations:\n",
        "\n",
        "```\n",
        "email\n",
        "Email\n",
        "e Mail\n",
        "e mail\n",
        "E-mail\n",
        "e-mail\n",
        "eMail\n",
        "E-Mail\n",
        "EMAIL\n",
        "emails\n",
        "Emails\n",
        "E-Mails\n",
        "```"
      ]
    },
    {
      "cell_type": "markdown",
      "metadata": {
        "id": "rcFwtNGG1SLM"
      },
      "source": [
        "To write a regular expression for this, we would need to use a set for all five letters in email, which would make our regular expression very hard to read.\n",
        "\n",
        "Instead, we can use **flags** to specify that our regular expression should ignore case.\n",
        "\n",
        "Both `re.search()` and the pandas regular expression methods accept an optional `flags` argument. This argument accepts one or more flags, which are special variables in the re module that modify the behavior of the regex interpreter.\n",
        "\n"
      ]
    },
    {
      "cell_type": "markdown",
      "metadata": {
        "id": "_-cQ0O3v1kmR"
      },
      "source": [
        "A [list of all available flags](https://docs.python.org/3/library/re.html#re.A) is in the documentation, but by far the most common and the most useful is the `re.IGNORECASE` [flag](https://docs.python.org/3/library/re.html#re.I), which is also available using the alias `re.I` for convenience.\n",
        "\n",
        "When you use this flag, all uppercase letters will match their lowercase equivalents and vice versa. Let's look at an example without using the flag:"
      ]
    },
    {
      "cell_type": "code",
      "metadata": {
        "colab": {
          "base_uri": "https://localhost:8080/"
        },
        "id": "j98UcFjA1zOF",
        "outputId": "ca2246ae-5684-4c6c-9a07-4423686e4081"
      },
      "source": [
        "email_tests = pd.Series(['email', 'Email', 'eMail', 'EMAIL'])\n",
        "email_tests.str.contains(r\"email\")"
      ],
      "execution_count": null,
      "outputs": [
        {
          "output_type": "execute_result",
          "data": {
            "text/plain": [
              "0     True\n",
              "1    False\n",
              "2    False\n",
              "3    False\n",
              "dtype: bool"
            ]
          },
          "metadata": {
            "tags": []
          },
          "execution_count": 41
        }
      ]
    },
    {
      "cell_type": "markdown",
      "metadata": {
        "id": "1hkPW8n22AUQ"
      },
      "source": [
        "Now let's look at what happens when we use the flag:"
      ]
    },
    {
      "cell_type": "code",
      "metadata": {
        "colab": {
          "base_uri": "https://localhost:8080/"
        },
        "id": "pgQN8rnp2BCq",
        "outputId": "96697ee3-16b7-43e6-9c22-f9514e255236"
      },
      "source": [
        "email_tests.str.contains(r\"email\",flags=re.I)"
      ],
      "execution_count": null,
      "outputs": [
        {
          "output_type": "execute_result",
          "data": {
            "text/plain": [
              "0    True\n",
              "1    True\n",
              "2    True\n",
              "3    True\n",
              "dtype: bool"
            ]
          },
          "metadata": {
            "tags": []
          },
          "execution_count": 42
        }
      ]
    },
    {
      "cell_type": "markdown",
      "metadata": {
        "id": "YW4Yfe5H2J-W"
      },
      "source": [
        "No matter what the capitalization is, our regular expression matches.\n",
        "\n",
        "We'll finish this mission by writing a regular expression and count the number of times that email is mentioned in story titles. You'll need to use both ignorecase as well as some of the other regex components you've already learned in this mission.\n",
        "\n",
        "This screen is a challenge screen, so it's a little less guided than the exercises so far. As we mentioned at the start of this mission, regular expressions can be very complex, and unless you write them frequently, it's unlikely that you will remember all the syntax.\n",
        "\n"
      ]
    },
    {
      "cell_type": "markdown",
      "metadata": {
        "id": "aLQKZHUB2LRo"
      },
      "source": [
        "With that in mind, we don't expect that you will immediately remember how to perform this task so don't get disheartened if this exercise takes you more attempts than the other exercises in this mission. If you get stuck, you might try one or more of the following:\n",
        "\n",
        "- Scanning over the regex concepts we've taught in the previous missions.\n",
        "- Using the test cases that we'll provide.\n",
        "- Using a web tool like [RegExr](https://regexr.com/) that lets you write a regex iteratively and see how it matches the test cases.\n"
      ]
    },
    {
      "cell_type": "markdown",
      "metadata": {
        "id": "OZDGBGMe2l4q"
      },
      "source": [
        "We've also provided a number of hints, however we strongly recommend trying to complete the challenge without them first. The skills you build as you try to solve the puzzle will be extremely valuable for you as you continue on your journey to becoming a data expert!\n",
        "\n",
        "To help you test the regular expression that you build, we have provided a variable that includes each of the different ways \"email\" is included in the data."
      ]
    },
    {
      "cell_type": "markdown",
      "metadata": {
        "id": "ZYnSTVtT2tws"
      },
      "source": [
        "**Instructions:**\n",
        "\n",
        "1. Write a regular expression that will match all variations of email included in the starter code. Write your regular expression in a way that will be compatible with the ignorecase flag.\n",
        " - As you build your regular expression, you might like to use `Series.str.contains()` like we did in the examples earlier in this screen.\n",
        "2. Once your regular expression matches all the test cases, use it to count the number of mentions of email in titles in the dataset. Assign the result to `email_mentions`."
      ]
    },
    {
      "cell_type": "code",
      "metadata": {
        "id": "-B83n19ALqpg"
      },
      "source": [
        "# Provided code\n",
        "email_tests = pd.Series(['email', 'Email', 'e Mail', 'e mail', 'E-mail',\n",
        "              'e-mail', 'eMail', 'E-Mail', 'EMAIL', 'emails', 'Emails',\n",
        "              'E-Mails'])"
      ],
      "execution_count": null,
      "outputs": []
    },
    {
      "cell_type": "code",
      "metadata": {
        "id": "hwpMZpiVG9Mw"
      },
      "source": [
        "# Answer\n"
      ],
      "execution_count": null,
      "outputs": []
    },
    {
      "cell_type": "markdown",
      "metadata": {
        "id": "bgQDEUlTvm0n"
      },
      "source": [
        "## 12. Next Steps"
      ]
    },
    {
      "cell_type": "markdown",
      "metadata": {
        "id": "9r5hpAtFvwHz"
      },
      "source": [
        "In this mission, we learned the basics of using regular expressions to perform powerful text matching, including:\n",
        "- Character classes to match certain groups of characters, including sets to match different capitalizations of programming languages.\n",
        "- Quantifiers to match different quantities of characters, including matching different variations of \"email.\"\n",
        "- Negative character classes for matching anything except certain groups of characters.\n",
        "- Word boundaries to match only specific instances of words.\n",
        "- Positional anchors to match only at the start and end of strings.\n",
        "- The ignorecase flag to make patterns case insensitive.\n",
        "\n",
        "In the next mission, we'll expand on our regular expression knowledge with some advanced regex concepts!\n"
      ]
    }
  ]
}