{
  "nbformat": 4,
  "nbformat_minor": 0,
  "metadata": {
    "colab": {
      "name": "027__ Color_Layout-and_Annotations.ipynb",
      "provenance": [],
      "authorship_tag": "ABX9TyPbTP2OgNoFGVk2vL+XuMRh",
      "include_colab_link": true
    },
    "kernelspec": {
      "name": "python3",
      "display_name": "Python 3"
    }
  },
  "cells": [
    {
      "cell_type": "markdown",
      "metadata": {
        "id": "view-in-github",
        "colab_type": "text"
      },
      "source": [
        "<a href=\"https://colab.research.google.com/github/Rossel/DataQuest_Courses/blob/master/027__Color_Layout_and_Annotations.ipynb\" target=\"_parent\"><img src=\"https://colab.research.google.com/assets/colab-badge.svg\" alt=\"Open In Colab\"/></a>"
      ]
    },
    {
      "cell_type": "markdown",
      "metadata": {
        "id": "6PWQ-EVGT2s_",
        "colab_type": "text"
      },
      "source": [
        "# COURSE 3/6: STORYTELLING THROUGH DATA VISUALIZATION"
      ]
    },
    {
      "cell_type": "markdown",
      "metadata": {
        "id": "THaX315BT2wD",
        "colab_type": "text"
      },
      "source": [
        "# MISSION 2: Color, Layout, and Annotations"
      ]
    },
    {
      "cell_type": "markdown",
      "metadata": {
        "id": "uciEYQbHVBCW",
        "colab_type": "text"
      },
      "source": [
        "In this mission, we will explore how to use color, spacing, and weights to further enhance the storytelling capability of the plots."
      ]
    },
    {
      "cell_type": "markdown",
      "metadata": {
        "id": "tQBrAPM9JEko",
        "colab_type": "text"
      },
      "source": [
        "## 1. Introduction"
      ]
    },
    {
      "cell_type": "markdown",
      "metadata": {
        "id": "JhqbkbusT2yj",
        "colab_type": "text"
      },
      "source": [
        "In the previous mission, we learned some basic techniques and principles for making our plots more aesthetic. In this mission, we'll focus more directly on customizing colors, line widths, layout, and annotations to improve the ability for a viewer to extract insights from the charts. We'll continue to use the same data set containing the percentage of bachelor's degrees granted to women from 1970 to 2012\n",
        "\n",
        "We've gone ahead and read the data set into a DataFrame named `women_degrees`. We've also brought over the code we wrote at the end of the previous mission to generate line charts for four STEM degree categories. If it's been a while since you completed the last mission, spend some time getting familiar with the data set and the charts we generated."
      ]
    },
    {
      "cell_type": "code",
      "metadata": {
        "id": "ggQgsZ5FUcT9",
        "colab_type": "code",
        "colab": {}
      },
      "source": [
        ""
      ],
      "execution_count": null,
      "outputs": []
    },
    {
      "cell_type": "markdown",
      "metadata": {
        "id": "1at2mG5eJH6m",
        "colab_type": "text"
      },
      "source": [
        "## 2. Color"
      ]
    },
    {
      "cell_type": "markdown",
      "metadata": {
        "id": "_dfnqHc1T20x",
        "colab_type": "text"
      },
      "source": [
        ""
      ]
    },
    {
      "cell_type": "markdown",
      "metadata": {
        "id": "tuFomO5fT23a",
        "colab_type": "text"
      },
      "source": [
        "## 3. Setting Line Color Using RGB"
      ]
    },
    {
      "cell_type": "markdown",
      "metadata": {
        "id": "zCTTLL6xUrjK",
        "colab_type": "text"
      },
      "source": [
        ""
      ]
    },
    {
      "cell_type": "code",
      "metadata": {
        "id": "v9hdaxkvT_zE",
        "colab_type": "code",
        "colab": {}
      },
      "source": [
        ""
      ],
      "execution_count": null,
      "outputs": []
    },
    {
      "cell_type": "markdown",
      "metadata": {
        "id": "HqfICMPfT254",
        "colab_type": "text"
      },
      "source": [
        ""
      ]
    },
    {
      "cell_type": "markdown",
      "metadata": {
        "id": "_4MmCXNMT2-L",
        "colab_type": "text"
      },
      "source": [
        "## 4. Setting Line Width"
      ]
    },
    {
      "cell_type": "markdown",
      "metadata": {
        "id": "YdNMRaUGT3At",
        "colab_type": "text"
      },
      "source": [
        ""
      ]
    },
    {
      "cell_type": "markdown",
      "metadata": {
        "id": "R7i6Fs4iT3DI",
        "colab_type": "text"
      },
      "source": [
        "## 5. Improve the Layout and Ordering"
      ]
    },
    {
      "cell_type": "markdown",
      "metadata": {
        "id": "unkv8R30T3Fp",
        "colab_type": "text"
      },
      "source": [
        ""
      ]
    },
    {
      "cell_type": "markdown",
      "metadata": {
        "id": "3OIOZwTuT3IC",
        "colab_type": "text"
      },
      "source": [
        "## 6. Replacing the Legend With Annotations"
      ]
    },
    {
      "cell_type": "markdown",
      "metadata": {
        "id": "A3B9q7JTT3Kd",
        "colab_type": "text"
      },
      "source": [
        ""
      ]
    },
    {
      "cell_type": "markdown",
      "metadata": {
        "id": "eQYSTILET3NI",
        "colab_type": "text"
      },
      "source": [
        "## 7. Annotating in Matplotlib"
      ]
    },
    {
      "cell_type": "markdown",
      "metadata": {
        "id": "vLbMTD8xT3Po",
        "colab_type": "text"
      },
      "source": [
        ""
      ]
    }
  ]
}