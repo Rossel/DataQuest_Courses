{
  "nbformat": 4,
  "nbformat_minor": 0,
  "metadata": {
    "colab": {
      "name": "027__Color_Layout-and_Annotations.ipynb",
      "provenance": [],
      "authorship_tag": "ABX9TyP3UlZEIubhyNnk2b7i8bcK",
      "include_colab_link": true
    },
    "kernelspec": {
      "name": "python3",
      "display_name": "Python 3"
    }
  },
  "cells": [
    {
      "cell_type": "markdown",
      "metadata": {
        "id": "view-in-github",
        "colab_type": "text"
      },
      "source": [
        "<a href=\"https://colab.research.google.com/github/Rossel/DataQuest_Courses/blob/master/027__Color_Layout_and_Annotations.ipynb\" target=\"_parent\"><img src=\"https://colab.research.google.com/assets/colab-badge.svg\" alt=\"Open In Colab\"/></a>"
      ]
    },
    {
      "cell_type": "markdown",
      "metadata": {
        "id": "6PWQ-EVGT2s_",
        "colab_type": "text"
      },
      "source": [
        "# COURSE 3/6: STORYTELLING THROUGH DATA VISUALIZATION"
      ]
    },
    {
      "cell_type": "markdown",
      "metadata": {
        "id": "THaX315BT2wD",
        "colab_type": "text"
      },
      "source": [
        "# MISSION 2: Color, Layout, and Annotations"
      ]
    },
    {
      "cell_type": "markdown",
      "metadata": {
        "id": "uciEYQbHVBCW",
        "colab_type": "text"
      },
      "source": [
        "In this mission, we will explore how to use color, spacing, and weights to further enhance the storytelling capability of the plots."
      ]
    },
    {
      "cell_type": "markdown",
      "metadata": {
        "id": "tQBrAPM9JEko",
        "colab_type": "text"
      },
      "source": [
        "## 1. Introduction"
      ]
    },
    {
      "cell_type": "markdown",
      "metadata": {
        "id": "JhqbkbusT2yj",
        "colab_type": "text"
      },
      "source": [
        "In the previous mission, we learned some basic techniques and principles for making our plots more aesthetic. In this mission, we'll focus more directly on customizing colors, line widths, layout, and annotations to improve the ability for a viewer to extract insights from the charts. We'll continue to use the same data set containing the percentage of bachelor's degrees granted to women from 1970 to 2012\n",
        "\n",
        "We've gone ahead and read the data set into a DataFrame named `women_degrees`. We've also brought over the code we wrote at the end of the previous mission to generate line charts for four STEM degree categories. If it's been a while since you completed the last mission, spend some time getting familiar with the data set and the charts we generated."
      ]
    },
    {
      "cell_type": "code",
      "metadata": {
        "id": "ggQgsZ5FUcT9",
        "colab_type": "code",
        "colab": {}
      },
      "source": [
        ""
      ],
      "execution_count": null,
      "outputs": []
    },
    {
      "cell_type": "markdown",
      "metadata": {
        "id": "1at2mG5eJH6m",
        "colab_type": "text"
      },
      "source": [
        "## 2. Color"
      ]
    },
    {
      "cell_type": "markdown",
      "metadata": {
        "id": "_dfnqHc1T20x",
        "colab_type": "text"
      },
      "source": [
        "So far, we've been using the [default matplotlib colors](http://matplotlib.org/api/colors_api.html#module-matplotlib.colors) to color the lines in line charts. When selecting colors, we need to be mindful of people who have some amount of color blindness. People who have color blindness have a decreased ability to distinguish between certain kinds of colors. The most common form of color blindness is red-green color blindness, where the person can't distinguish between red and green shades. Approximately 8% of men and 0.5% of women of Northern European descent suffer from red-green color blindness.\n",
        "\n",
        "The [Ishihara test](https://en.wikipedia.org/wiki/Ishihara_test) is a well known test for color blindness, where the person is asked to identify the number in the following image:\n",
        "\n",
        "![alt text](https://s3.amazonaws.com/dq-content/ishihara_test.png)\n",
        "\n",
        "People with complete color vision can observe the number 74. Some with partial color blindness see the number 21 instead and those with full color blindness can't see any number at all.\n",
        "\n",
        "If we wanted to publish the data visualizations we create, we need to be mindful of color blindness. Thankfully, there are color palettes we can use that are friendly for people with color blindness. One of them is called **Color Blind 10** and was released by Tableau, the company that makes the data visualization platform of the same name. Navigate to [this page](http://tableaufriction.blogspot.ro/2012/11/finally-you-can-use-tableau-data-colors.html) and select just the Color Blind 10 option from the list of palettes to see the ten colors included in the palette."
      ]
    },
    {
      "cell_type": "markdown",
      "metadata": {
        "id": "tuFomO5fT23a",
        "colab_type": "text"
      },
      "source": [
        "## 3. Setting Line Color Using RGB"
      ]
    },
    {
      "cell_type": "markdown",
      "metadata": {
        "id": "zCTTLL6xUrjK",
        "colab_type": "text"
      },
      "source": [
        "The Color Blind 10 palette contains ten colors that are colorblind friendly. Let's use the first two colors in the palette for the line colors in our charts. You'll notice that next to each color strip are three integer values, separated by periods (`.`):\n",
        "![alt text](https://s3.amazonaws.com/dq-content/tableau_rgb_values.png)\n",
        "These numbers represent the RGB values for each color. The [RGB color model](https://en.wikipedia.org/wiki/RGB_color_model) describes how the three primary colors (red, green, and blue) can be combined in different proportions to form any secondary color. The RGB color model is very familiar to people who work in photography, filmography, graphic design, and any field that use colors extensively. In computers, each RGB value can range between 0 and 255. This is because 256 integer values can be represented using 8 bits. You can read more about 8-bit color [here](https://en.wikipedia.org/wiki/8-bit_color).\n",
        "\n",
        "The first color in the palette is a color that resembles dark blue and has the following RGB values:\n",
        "\n",
        "- Red: `0`\n",
        "- Green: `107`\n",
        "- Blue: `164`\n",
        "\n",
        "To specify a line color using RGB values, we pass in a tuple of the values to the `c` parameter when we generate the line chart. Matplotlib expects each value to be scaled down and to range between 0 and 1 (not 0 and 255). In the following code, we scale the first color, which resembles dark blue, in the Color Blind 10 palette and set it as the line color:\n",
        "```\n",
        "cb_dark_blue = (0/255,107/255,164/255)\n",
        "ax.plot(women_degrees['Year'], women_degrees['Biology'], \n",
        "label='Women', c=cb_dark_blue)\n",
        "```"
      ]
    },
    {
      "cell_type": "code",
      "metadata": {
        "id": "v9hdaxkvT_zE",
        "colab_type": "code",
        "colab": {}
      },
      "source": [
        ""
      ],
      "execution_count": null,
      "outputs": []
    },
    {
      "cell_type": "markdown",
      "metadata": {
        "id": "HqfICMPfT254",
        "colab_type": "text"
      },
      "source": [
        ""
      ]
    },
    {
      "cell_type": "markdown",
      "metadata": {
        "id": "_4MmCXNMT2-L",
        "colab_type": "text"
      },
      "source": [
        "## 4. Setting Line Width"
      ]
    },
    {
      "cell_type": "markdown",
      "metadata": {
        "id": "YdNMRaUGT3At",
        "colab_type": "text"
      },
      "source": [
        "By default, the actual lines reflecting the underlying data in the line charts we've been generating are quite thin. The white color in the blank area in the line charts is still a dominating color. To emphasize the lines in the plots, we can increase the width of each line. Increasing the line width also improves the data-ink ratio a little bit, because more of the chart area is used to showcase the data.\n",
        "\n",
        "When we call the `Axes.plot()` method, we can use the `linewidth` parameter to specify the line width. Matplotlib expects a float value for this parameter:\n",
        "```\n",
        "ax.plot(women_degrees['Year'], women_degrees['Biology'], \n",
        "label='Women', c=cb_dark_blue, linewidth=2)\n",
        "```\n",
        "The higher the line width, the thicker each line will be.\n",
        "\n"
      ]
    },
    {
      "cell_type": "markdown",
      "metadata": {
        "id": "R7i6Fs4iT3DI",
        "colab_type": "text"
      },
      "source": [
        "## 5. Improve the Layout and Ordering"
      ]
    },
    {
      "cell_type": "markdown",
      "metadata": {
        "id": "unkv8R30T3Fp",
        "colab_type": "text"
      },
      "source": [
        "So far, we've been generating our line charts on a 2 by 2 subplot grid. If we wanted to visualize all six STEM degrees, we'd need to either add a new column or a new row. Unfortunately, neither solution orders the plots in a beneficial way to the viewer. By scanning horizontally or vertically, a viewer isn't able to learn any new information and this can cause some frustration as the viewer's gaze jumps around the image.\n",
        "\n",
        "To make the viewing experience more coherent, we can:\n",
        "\n",
        "- use layout of a single row with multiple columns\n",
        "- order the plots in decreasing order of initial gender gap\n",
        "\n",
        "Here's what that would look like:\n",
        "![alt text](https://s3.amazonaws.com/dq-content/line_charts_dec_initial_gg.png)\n"
      ]
    },
    {
      "cell_type": "markdown",
      "metadata": {
        "id": "4IO-Xv1H7GG8",
        "colab_type": "text"
      },
      "source": [
        "The leftmost plot has the largest gender gap in 1968 while the rightmost plot has the smallest gender gap in 1968. If we're instead interested in the recent gender gaps in STEM degrees, we can order the plots from largest to smallest ending gender gaps. Here's what that would look like:\n",
        "![alt text](https://s3.amazonaws.com/dq-content/line_charts_dec_ending_gg.png)\n",
        "In this exercise, you'll order the charts by decreasing ending gender gap. We've populated the list `stem_cats` with the six STEM degree categories, ordering them by decreasing ending gender gap. In the next step, we'll explore how we can replace the legend, which is currently overlapping with the rightmost line chart."
      ]
    },
    {
      "cell_type": "markdown",
      "metadata": {
        "id": "3OIOZwTuT3IC",
        "colab_type": "text"
      },
      "source": [
        "## 6. Replacing the Legend With Annotations"
      ]
    },
    {
      "cell_type": "markdown",
      "metadata": {
        "id": "A3B9q7JTT3Kd",
        "colab_type": "text"
      },
      "source": [
        "The purpose of a legend is to ascribe meaning to symbols or colors in a chart. We're using it to inform the viewer of what gender corresponds to each color. Tufte encourages removing legends entirely if the same information can be conveyed in a cleaner way. Legends consist of non-data ink and take up precious space that could be used for the visualizations themselves (data-ink).\n",
        "\n",
        "Instead of trying to move the legend to a better location, we can replace it entirely by annotating the lines directly with the corresponding genders:\n",
        "\n",
        "![alt text](https://s3.amazonaws.com/dq-content/annotated_legend.png)\n",
        "\n",
        "If you notice, even the position of the text annotations have meaning. In both plots, the annotation for `Men` is positioned above the orange line while the annotation for `Women` is positioned below the dark blue line. This positioning subtly suggests that men are a majority for the degree categories the line charts are representing (`Engineering` and `Math and Statistics`) and women are a minority for those degree categories.\n",
        "\n",
        "Combined, these two observations suggest that we should stick with annotating just the leftmost and the rightmost line charts, prioritizing the data-ink ratio over the consistency of elements.\n",
        "\n"
      ]
    },
    {
      "cell_type": "code",
      "metadata": {
        "id": "Z0PeUch-7-Wv",
        "colab_type": "code",
        "colab": {}
      },
      "source": [
        ""
      ],
      "execution_count": null,
      "outputs": []
    },
    {
      "cell_type": "markdown",
      "metadata": {
        "id": "eQYSTILET3NI",
        "colab_type": "text"
      },
      "source": [
        "## 7. Annotating in Matplotlib"
      ]
    },
    {
      "cell_type": "markdown",
      "metadata": {
        "id": "12vrfoew7g94",
        "colab_type": "text"
      },
      "source": [
        "To add text annotations to a matplotlib plot, we use the [Axes.text()](http://matplotlib.org/api/axes_api.html#matplotlib.axes.Axes.text) method. This method has a few required parameters:\n",
        "\n",
        "- `x`: x-axis coordinate (as a float)\n",
        "- `y`: y-axis coordinate (as a float)\n",
        "- `s`: the text we want in the annotation (as a string value)\n",
        "\n",
        "The values in the coordinate grid match exactly with the data ranges for the x-axis and the y-axis. If we want to add text at the intersection of `1970` from the x-axis and `0` from the y-axis, we would pass in those values:\n",
        "```\n",
        "ax.text(1970, 0, \"starting point\")\n",
        "```"
      ]
    },
    {
      "cell_type": "code",
      "metadata": {
        "id": "K1MQ6uYA78Qw",
        "colab_type": "code",
        "colab": {}
      },
      "source": [
        ""
      ],
      "execution_count": null,
      "outputs": []
    },
    {
      "cell_type": "markdown",
      "metadata": {
        "id": "vLbMTD8xT3Po",
        "colab_type": "text"
      },
      "source": [
        ""
      ]
    }
  ]
}