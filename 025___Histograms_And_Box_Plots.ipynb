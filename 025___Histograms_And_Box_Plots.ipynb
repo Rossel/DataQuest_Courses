{
  "nbformat": 4,
  "nbformat_minor": 0,
  "metadata": {
    "colab": {
      "name": "025__ Histograms_And_Box_Plots.ipynb",
      "provenance": [],
      "collapsed_sections": [],
      "authorship_tag": "ABX9TyPO0Fx18AmhPrkgbYE4xzk9",
      "include_colab_link": true
    },
    "kernelspec": {
      "name": "python3",
      "display_name": "Python 3"
    }
  },
  "cells": [
    {
      "cell_type": "markdown",
      "metadata": {
        "id": "view-in-github",
        "colab_type": "text"
      },
      "source": [
        "<a href=\"https://colab.research.google.com/github/Rossel/DataQuest_Courses/blob/master/025___Histograms_And_Box_Plots.ipynb\" target=\"_parent\"><img src=\"https://colab.research.google.com/assets/colab-badge.svg\" alt=\"Open In Colab\"/></a>"
      ]
    },
    {
      "cell_type": "markdown",
      "metadata": {
        "id": "jF1ARTSVG3Yz",
        "colab_type": "text"
      },
      "source": [
        "# COURSE 2/6: EXPLORATORY DATA VISUALIZATION"
      ]
    },
    {
      "cell_type": "markdown",
      "metadata": {
        "id": "Xf28b3MsFj2_",
        "colab_type": "text"
      },
      "source": [
        "# MISSION 4: Histograms And Box Plots"
      ]
    },
    {
      "cell_type": "markdown",
      "metadata": {
        "id": "9P8Yt2adFmGb",
        "colab_type": "text"
      },
      "source": [
        "In this mission, we will learn how to visualize the distributions of user ratings using histograms and box plots."
      ]
    },
    {
      "cell_type": "markdown",
      "metadata": {
        "id": "JehsAddyFuV6",
        "colab_type": "text"
      },
      "source": [
        "## 1. Introduction"
      ]
    },
    {
      "cell_type": "markdown",
      "metadata": {
        "id": "VDf0FXEwFvUX",
        "colab_type": "text"
      },
      "source": [
        "In the last mission, we learned how to create bar plots to compare the average user rating a movie received from four movie review sites. We also learned how to create scatter plots to explore how ratings on one site compare with ratings on another site. We ended the mission with the observations that user ratings from Metacritic and Rotten Tomatoes spanned a larger range (1.0 to 5.0) while those from Fandango and IMDB spanned a smaller range (2.5 to 5 and 2 to 5 respectively).\n",
        "\n",
        "In this mission, we'll learn how to visualize the distributions of user ratings using histograms and box plots. We'll continue working with the same dataset from the last mission. Recall that you can download the dataset `fandango_scores.csv` from the [FiveThirtEight Github repo](https://github.com/fivethirtyeight/data/tree/master/fandango). We will read the dataset into pandas, select the columns we're going to work with, and assign the new Dataframe to `norm_reviews`."
      ]
    },
    {
      "cell_type": "code",
      "metadata": {
        "id": "_LBr2rk1T0xR",
        "colab_type": "code",
        "colab": {}
      },
      "source": [
        "# Import functions from Google modules into Colaboratory\n",
        "!pip install -U -q PyDrive\n",
        "from pydrive.auth import GoogleAuth\n",
        "from pydrive.drive import GoogleDrive\n",
        "from google.colab import auth\n",
        "from oauth2client.client import GoogleCredentials\n",
        "\n",
        "# Authenticate and create the PyDrive client\n",
        "auth.authenticate_user()\n",
        "gauth = GoogleAuth()\n",
        "gauth.credentials = GoogleCredentials.get_application_default()\n",
        "drive = GoogleDrive(gauth)"
      ],
      "execution_count": 11,
      "outputs": []
    },
    {
      "cell_type": "code",
      "metadata": {
        "id": "pzy0-ZtPScNy",
        "colab_type": "code",
        "colab": {}
      },
      "source": [
        "# Insert file id from Google Drive shareable link:\n",
        "# https://drive.google.com/file/d/1xILtCzObbTvL99E1ufL7VrPCtX7PC4ro/view?usp=sharing\n",
        "id = '1xILtCzObbTvL99E1ufL7VrPCtX7PC4ro'"
      ],
      "execution_count": 12,
      "outputs": []
    },
    {
      "cell_type": "code",
      "metadata": {
        "id": "mspPJ_6QT1mi",
        "colab_type": "code",
        "colab": {}
      },
      "source": [
        "# Download the dataset\n",
        "downloaded = drive.CreateFile({'id':id}) \n",
        "downloaded.GetContentFile('fandango_scores.csv')"
      ],
      "execution_count": 13,
      "outputs": []
    },
    {
      "cell_type": "code",
      "metadata": {
        "id": "X7iE_viqT2ju",
        "colab_type": "code",
        "colab": {}
      },
      "source": [
        "# Import pandas library and pyplot\n",
        "import pandas as pd\n",
        "import matplotlib.pyplot as plt\n",
        "\n",
        "# Read csv\n",
        "reviews = pd.read_csv('fandango_scores.csv')"
      ],
      "execution_count": 14,
      "outputs": []
    },
    {
      "cell_type": "code",
      "metadata": {
        "id": "c1wvvr0kVTGF",
        "colab_type": "code",
        "colab": {
          "base_uri": "https://localhost:8080/",
          "height": 153
        },
        "outputId": "114117d9-7843-4227-f1e3-f27816c9fcec"
      },
      "source": [
        "# List all columns\n",
        "reviews.columns"
      ],
      "execution_count": 15,
      "outputs": [
        {
          "output_type": "execute_result",
          "data": {
            "text/plain": [
              "Index(['FILM', 'RottenTomatoes', 'RottenTomatoes_User', 'Metacritic',\n",
              "       'Metacritic_User', 'IMDB', 'Fandango_Stars', 'Fandango_Ratingvalue',\n",
              "       'RT_norm', 'RT_user_norm', 'Metacritic_norm', 'Metacritic_user_nom',\n",
              "       'IMDB_norm', 'RT_norm_round', 'RT_user_norm_round',\n",
              "       'Metacritic_norm_round', 'Metacritic_user_norm_round',\n",
              "       'IMDB_norm_round', 'Metacritic_user_vote_count', 'IMDB_user_vote_count',\n",
              "       'Fandango_votes', 'Fandango_Difference'],\n",
              "      dtype='object')"
            ]
          },
          "metadata": {
            "tags": []
          },
          "execution_count": 15
        }
      ]
    },
    {
      "cell_type": "code",
      "metadata": {
        "id": "Fg9nAn7_Voa3",
        "colab_type": "code",
        "colab": {}
      },
      "source": [
        "# Assign the instructed columns to a list \n",
        "cols = ['FILM', 'RT_user_norm', 'Metacritic_user_nom', 'IMDB_norm', 'Fandango_Ratingvalue']"
      ],
      "execution_count": 16,
      "outputs": []
    },
    {
      "cell_type": "code",
      "metadata": {
        "id": "8oaKL78MWI1z",
        "colab_type": "code",
        "colab": {}
      },
      "source": [
        "# Assign the resulting dataframe\n",
        "norm_reviews = reviews[cols]"
      ],
      "execution_count": 17,
      "outputs": []
    },
    {
      "cell_type": "code",
      "metadata": {
        "id": "5cW-X_otVCdd",
        "colab_type": "code",
        "colab": {
          "base_uri": "https://localhost:8080/",
          "height": 255
        },
        "outputId": "7ce9f4fb-42fc-4810-e713-14df04b7b1df"
      },
      "source": [
        "#Display the first five rows\n",
        "norm_reviews[:5]"
      ],
      "execution_count": 18,
      "outputs": [
        {
          "output_type": "execute_result",
          "data": {
            "text/html": [
              "<div>\n",
              "<style scoped>\n",
              "    .dataframe tbody tr th:only-of-type {\n",
              "        vertical-align: middle;\n",
              "    }\n",
              "\n",
              "    .dataframe tbody tr th {\n",
              "        vertical-align: top;\n",
              "    }\n",
              "\n",
              "    .dataframe thead th {\n",
              "        text-align: right;\n",
              "    }\n",
              "</style>\n",
              "<table border=\"1\" class=\"dataframe\">\n",
              "  <thead>\n",
              "    <tr style=\"text-align: right;\">\n",
              "      <th></th>\n",
              "      <th>FILM</th>\n",
              "      <th>RT_user_norm</th>\n",
              "      <th>Metacritic_user_nom</th>\n",
              "      <th>IMDB_norm</th>\n",
              "      <th>Fandango_Ratingvalue</th>\n",
              "    </tr>\n",
              "  </thead>\n",
              "  <tbody>\n",
              "    <tr>\n",
              "      <th>0</th>\n",
              "      <td>Avengers: Age of Ultron (2015)</td>\n",
              "      <td>4.3</td>\n",
              "      <td>3.55</td>\n",
              "      <td>3.90</td>\n",
              "      <td>4.5</td>\n",
              "    </tr>\n",
              "    <tr>\n",
              "      <th>1</th>\n",
              "      <td>Cinderella (2015)</td>\n",
              "      <td>4.0</td>\n",
              "      <td>3.75</td>\n",
              "      <td>3.55</td>\n",
              "      <td>4.5</td>\n",
              "    </tr>\n",
              "    <tr>\n",
              "      <th>2</th>\n",
              "      <td>Ant-Man (2015)</td>\n",
              "      <td>4.5</td>\n",
              "      <td>4.05</td>\n",
              "      <td>3.90</td>\n",
              "      <td>4.5</td>\n",
              "    </tr>\n",
              "    <tr>\n",
              "      <th>3</th>\n",
              "      <td>Do You Believe? (2015)</td>\n",
              "      <td>4.2</td>\n",
              "      <td>2.35</td>\n",
              "      <td>2.70</td>\n",
              "      <td>4.5</td>\n",
              "    </tr>\n",
              "    <tr>\n",
              "      <th>4</th>\n",
              "      <td>Hot Tub Time Machine 2 (2015)</td>\n",
              "      <td>1.4</td>\n",
              "      <td>1.70</td>\n",
              "      <td>2.55</td>\n",
              "      <td>3.0</td>\n",
              "    </tr>\n",
              "  </tbody>\n",
              "</table>\n",
              "</div>"
            ],
            "text/plain": [
              "                             FILM  ...  Fandango_Ratingvalue\n",
              "0  Avengers: Age of Ultron (2015)  ...                   4.5\n",
              "1               Cinderella (2015)  ...                   4.5\n",
              "2                  Ant-Man (2015)  ...                   4.5\n",
              "3          Do You Believe? (2015)  ...                   4.5\n",
              "4   Hot Tub Time Machine 2 (2015)  ...                   3.0\n",
              "\n",
              "[5 rows x 5 columns]"
            ]
          },
          "metadata": {
            "tags": []
          },
          "execution_count": 18
        }
      ]
    },
    {
      "cell_type": "markdown",
      "metadata": {
        "id": "i8Rs7jVgG3bp",
        "colab_type": "text"
      },
      "source": [
        "## 2. Frequency Distribution"
      ]
    },
    {
      "cell_type": "markdown",
      "metadata": {
        "id": "j7CczlckG3d7",
        "colab_type": "text"
      },
      "source": [
        "Let's first compare the **frequency distributions** of user ratings from Fandango with those from IMDB using tables. A column's [frequency distribution](https://en.wikipedia.org/wiki/Frequency_distribution) consists of the unique values in that column along with the count for each of those values (or their frequency). We can use [`Series.value_counts()`](http://pandas.pydata.org/pandas-docs/stable/generated/pandas.Series.value_counts.html) to return the frequency distribution as Series object:\n",
        "```\n",
        "freq_counts = df['Fandango_Ratingvalue'].value_counts()\n",
        "```\n",
        "The resulting Series object will be sorted by frequency in descending order:\n",
        "![alt text](https://s3.amazonaws.com/dq-content/fandango_frequency_distribution.png)\n"
      ]
    },
    {
      "cell_type": "markdown",
      "metadata": {
        "id": "KdMrd9YNOW_8",
        "colab_type": "text"
      },
      "source": [
        "While this ordering is helpful when we're looking to quickly find the most common values in a given column, it's not helpful when trying to understand the range that the values in the column span. We can use [`Series.sort_index()`](http://pandas.pydata.org/pandas-docs/stable/generated/pandas.Series.sort_index.html) to sort the frequency distribution in ascending order by the values in the column (which make up the index for the Series object):\n",
        "```\n",
        "freq_counts = df['Fandango_Ratingvalue'].value_counts()\n",
        "sorted_freq_counts = freq_counts.sort_index()\n",
        "```\n",
        "Here's what both frequency distributions look like side-by-side:\n",
        "![alt text](https://s3.amazonaws.com/dq-content/both_fandango_distributions.png)"
      ]
    },
    {
      "cell_type": "markdown",
      "metadata": {
        "id": "XfGhMKHkOqFP",
        "colab_type": "text"
      },
      "source": [
        "Instructions:\n",
        "\n",
        "- Use the `value_counts()` method to return the frequency counts for the `Fandango_Ratingvalue` column. Sort the resulting Series object by the index and assign to `fandango_distribution`.\n",
        "- Use the `value_counts()` method to return frequency counts the `IMDB_norm` column. Sort the resulting Series object by the index and assign to `imdb_distribution`.\n",
        "- Use the `print()` function to display `fandango_distribution` and `imdb_distribution`."
      ]
    },
    {
      "cell_type": "code",
      "metadata": {
        "id": "TmPer6BTO3uh",
        "colab_type": "code",
        "colab": {
          "base_uri": "https://localhost:8080/",
          "height": 1000
        },
        "outputId": "42f76fa9-9ecb-4672-f687-42b4f49faa8b"
      },
      "source": [
        "# Return the frequency counts and sort by index\n",
        "fandango_distribution = norm_reviews['Fandango_Ratingvalue'].value_counts()\n",
        "fandango_distribution = fandango_distribution.sort_index()\n",
        "\n",
        "# Return the frequency counts and sort by index\n",
        "imdb_distribution = norm_reviews['IMDB_norm'].value_counts()\n",
        "imdb_distribution = imdb_distribution.sort_index()\n",
        "\n",
        "# Display both distributions\n",
        "print(fandango_distribution)\n",
        "print(imdb_distribution)"
      ],
      "execution_count": 19,
      "outputs": [
        {
          "output_type": "stream",
          "text": [
            "2.7     2\n",
            "2.8     2\n",
            "2.9     5\n",
            "3.0     4\n",
            "3.1     3\n",
            "3.2     5\n",
            "3.3     4\n",
            "3.4     9\n",
            "3.5     9\n",
            "3.6     8\n",
            "3.7     9\n",
            "3.8     5\n",
            "3.9    12\n",
            "4.0     7\n",
            "4.1    16\n",
            "4.2    12\n",
            "4.3    11\n",
            "4.4     7\n",
            "4.5     9\n",
            "4.6     4\n",
            "4.8     3\n",
            "Name: Fandango_Ratingvalue, dtype: int64\n",
            "2.00     1\n",
            "2.10     1\n",
            "2.15     1\n",
            "2.20     1\n",
            "2.30     2\n",
            "2.45     2\n",
            "2.50     1\n",
            "2.55     1\n",
            "2.60     2\n",
            "2.70     4\n",
            "2.75     5\n",
            "2.80     2\n",
            "2.85     1\n",
            "2.90     1\n",
            "2.95     3\n",
            "3.00     2\n",
            "3.05     4\n",
            "3.10     1\n",
            "3.15     9\n",
            "3.20     6\n",
            "3.25     4\n",
            "3.30     9\n",
            "3.35     7\n",
            "3.40     1\n",
            "3.45     7\n",
            "3.50     4\n",
            "3.55     7\n",
            "3.60    10\n",
            "3.65     5\n",
            "3.70     8\n",
            "3.75     6\n",
            "3.80     3\n",
            "3.85     4\n",
            "3.90     9\n",
            "3.95     2\n",
            "4.00     1\n",
            "4.05     1\n",
            "4.10     4\n",
            "4.15     1\n",
            "4.20     2\n",
            "4.30     1\n",
            "Name: IMDB_norm, dtype: int64\n"
          ],
          "name": "stdout"
        }
      ]
    },
    {
      "cell_type": "markdown",
      "metadata": {
        "id": "cxnl7R06I3_s",
        "colab_type": "text"
      },
      "source": [
        "### 3. Binning"
      ]
    },
    {
      "cell_type": "markdown",
      "metadata": {
        "id": "1jj_270V8Wzl",
        "colab_type": "text"
      },
      "source": [
        "Because there are only a few unique values, we can quickly scan the frequency counts and confirm that the `Fandango_Ratingvalue` column ranges from 2.7 to 4.8 while the `IMDB_norm` column ranges from 2 to 4.3. While we can quickly determine the minimum and maximum values, we struggle to answer the following questions about a column:\n",
        "\n",
        "- What percent of the ratings are contained in the 2.0 to 4.0 range?\n",
        "  - How does this compare with other sites?\n",
        "- Which values represent the top 25% of the ratings? The bottom 25%?\n",
        "  - How does this compare with other sites?\n",
        "\n",
        "Comparing frequency distributions is also challenging because the `Fandango_Ratingvalue` column contains 21 unique values while `IMDB_norm` contains 41 unique values. We need a way to compare frequencies across a shared set of values. Because all ratings have been normalized to a range of 0 to 5, we can start by dividing the range of possible values into a series of fixed length intervals, called bins. We can then sum the frequencies for the values that fall into each bin. Here's a diagram that makes binning easier to understand:\n",
        "\n",
        "![alt text](https://s3.amazonaws.com/dq-content/histogram_binning.png)\n",
        "\n",
        "The distributions for both of these columns are now easier to compare because of the shared x-axis (the bins). We can now plot the bins along with the frequency sums as a bar plot. This type of plot is called a [histogram](https://en.wikipedia.org/wiki/Histogram). Let's dive right into creating a histogram in matplotlib."
      ]
    },
    {
      "cell_type": "markdown",
      "metadata": {
        "id": "MIkT_2XeG3rx",
        "colab_type": "text"
      },
      "source": [
        "## 4. Histogram In Matplotlib"
      ]
    },
    {
      "cell_type": "markdown",
      "metadata": {
        "id": "by3-egrTG3xn",
        "colab_type": "text"
      },
      "source": [
        "We can generate a histogram using [Axes.hist()](http://matplotlib.org/api/axes_api.html#matplotlib.axes.Axes.hist). This method has only 1 required parameter, an iterable object containing the values we want a histogram for. By default, matplotlib will:\n",
        "\n",
        "- calculate the minimum and maximum value from the sequence of values we passed in\n",
        "- create 10 bins of equal length that span the range from the minimum to the maximum value\n",
        "- group unique values into the bins\n",
        "- sum up the associated unique values\n",
        "- generate a bar for the frequency sum for each bin\n",
        "\n",
        "The default behavior of `Axes.hist()` is problematic for the use case of comparing distributions for multiple columns using the same binning strategy. This is because the binning strategy for each column would depend on the minimum and maximum values, instead of a shared binning strategy. We can use the `range` parameter to specify the range we want matplotlib to use as a tuple:\n",
        "```\n",
        "ax.hist(norm_reviews['Fandango_Ratingvalue'], range=(0, 5))\n",
        "```\n",
        "\n",
        "While histograms use bars whose lengths are scaled to the values they're representing, they differ from bar plots in a few ways. Histograms help us visualize continuous values using bins while bar plots help us visualize discrete values. The locations of the bars on the x-axis matter in a histogram but they don't in a simple bar plot. Lastly, bar plots also have gaps between the bars, to emphasize that the values are discrete."
      ]
    },
    {
      "cell_type": "code",
      "metadata": {
        "id": "H97Gi6SA9UC0",
        "colab_type": "code",
        "colab": {
          "base_uri": "https://localhost:8080/",
          "height": 265
        },
        "outputId": "bd20194f-ae1f-4690-904d-370379ae5654"
      },
      "source": [
        "# Create a single subplot and assign the returned Figure object to fig and the returned Axes object to ax\n",
        "fig, ax = plt.subplots()\n",
        "\n",
        "# Generate a histogram from the values in the column using a range of 0 to 5\n",
        "ax.hist(norm_reviews['Fandango_Ratingvalue'], range=(0, 5))\n",
        "\n",
        "# Display the plot\n",
        "plt.show()"
      ],
      "execution_count": 20,
      "outputs": [
        {
          "output_type": "display_data",
          "data": {
            "image/png": "[encoded data removed]",
            "text/plain": [
              "<Figure size 432x288 with 1 Axes>"
            ]
          },
          "metadata": {
            "tags": [],
            "needs_background": "light"
          }
        }
      ]
    },
    {
      "cell_type": "markdown",
      "metadata": {
        "id": "Jp0y2c72G36v",
        "colab_type": "text"
      },
      "source": [
        "## 5.Comparing histograms"
      ]
    },
    {
      "cell_type": "markdown",
      "metadata": {
        "id": "1rPdCv5QG3-h",
        "colab_type": "text"
      },
      "source": [
        "If you recall, one of the questions we were looking to answer was:\n",
        "\n",
        "- What percent of the ratings are contained in the 2.0 to 4.0 range?\n",
        "\n",
        "We can visually examine the proportional area that the bars in the 2.0 to 4.0 range take up and determine that more than 50% of the movies on Fandango fall in this range. We can increase the number of bins from 10 to 20 for improved resolution of the distribution. The length of each bin will be 0.25 (5 / 20) instead of 0.5 (5 / 10). The `bins` parameter for `Axes.hist()` is the 2nd positional parameter, but can also be specified as a named parameter:\n",
        "\n",
        "```\n",
        "# Either of these will work.\n",
        "ax.hist(norm_reviews['Fandango_Ratingvalue'], 20, range=(0, 5))\n",
        "ax.hist(norm_reviews['Fandango_Ratingvalue'], bins=20, range=(0, 5))\n",
        "```\n",
        "\n",
        "Let's now generate histograms using 20 bins for all four columns. To ensure that the scales for the y-axis are the same for all histograms, let's set them manually using `Axes.set_ylim()`.\n",
        "\n"
      ]
    },
    {
      "cell_type": "markdown",
      "metadata": {
        "id": "Ly7QrqCGG4B5",
        "colab_type": "text"
      },
      "source": [
        "## 6.Quartiles"
      ]
    },
    {
      "cell_type": "markdown",
      "metadata": {
        "id": "DD-DEhCkG4FV",
        "colab_type": "text"
      },
      "source": [
        ""
      ]
    },
    {
      "cell_type": "markdown",
      "metadata": {
        "id": "gzgUNCjsG4Iy",
        "colab_type": "text"
      },
      "source": [
        "## 7.Box Plot"
      ]
    },
    {
      "cell_type": "markdown",
      "metadata": {
        "id": "NE_JugLKG4Lt",
        "colab_type": "text"
      },
      "source": [
        ""
      ]
    },
    {
      "cell_type": "markdown",
      "metadata": {
        "id": "-cVxuabeG4PG",
        "colab_type": "text"
      },
      "source": [
        "## 8.Multiple Box Plots"
      ]
    },
    {
      "cell_type": "markdown",
      "metadata": {
        "id": "lVAf3rizG4Sb",
        "colab_type": "text"
      },
      "source": [
        ""
      ]
    },
    {
      "cell_type": "markdown",
      "metadata": {
        "id": "7ofgWRxbG4Vr",
        "colab_type": "text"
      },
      "source": [
        ""
      ]
    }
  ]
}