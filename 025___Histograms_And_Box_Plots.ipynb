{
  "nbformat": 4,
  "nbformat_minor": 0,
  "metadata": {
    "colab": {
      "name": "025__ Histograms_And_Box_Plots.ipynb",
      "provenance": [],
      "authorship_tag": "ABX9TyMM3Uj6v1jWWrPcKkcapXq3",
      "include_colab_link": true
    },
    "kernelspec": {
      "name": "python3",
      "display_name": "Python 3"
    }
  },
  "cells": [
    {
      "cell_type": "markdown",
      "metadata": {
        "id": "view-in-github",
        "colab_type": "text"
      },
      "source": [
        "<a href=\"https://colab.research.google.com/github/Rossel/DataQuest_Courses/blob/master/025___Histograms_And_Box_Plots.ipynb\" target=\"_parent\"><img src=\"https://colab.research.google.com/assets/colab-badge.svg\" alt=\"Open In Colab\"/></a>"
      ]
    },
    {
      "cell_type": "markdown",
      "metadata": {
        "id": "jF1ARTSVG3Yz",
        "colab_type": "text"
      },
      "source": [
        "# COURSE 2/6: EXPLORATORY DATA VISUALIZATION"
      ]
    },
    {
      "cell_type": "markdown",
      "metadata": {
        "id": "Xf28b3MsFj2_",
        "colab_type": "text"
      },
      "source": [
        "# MISSION 4: Histograms And Box Plots"
      ]
    },
    {
      "cell_type": "markdown",
      "metadata": {
        "id": "9P8Yt2adFmGb",
        "colab_type": "text"
      },
      "source": [
        "In this mission, we will learn how to visualize the distributions of user ratings using histograms and box plots."
      ]
    },
    {
      "cell_type": "markdown",
      "metadata": {
        "id": "JehsAddyFuV6",
        "colab_type": "text"
      },
      "source": [
        "## 1. Introduction"
      ]
    },
    {
      "cell_type": "markdown",
      "metadata": {
        "id": "VDf0FXEwFvUX",
        "colab_type": "text"
      },
      "source": [
        "In the last mission, we learned how to create bar plots to compare the average user rating a movie received from four movie review sites. We also learned how to create scatter plots to explore how ratings on one site compare with ratings on another site. We ended the mission with the observations that user ratings from Metacritic and Rotten Tomatoes spanned a larger range (1.0 to 5.0) while those from Fandango and IMDB spanned a smaller range (2.5 to 5 and 2 to 5 respectively).\n",
        "\n",
        "In this mission, we'll learn how to visualize the distributions of user ratings using histograms and box plots. We'll continue working with the same dataset from the last mission. Recall that you can download the dataset `fandango_scores.csv` from the [FiveThirtEight Github repo](https://github.com/fivethirtyeight/data/tree/master/fandango). We will read the dataset into pandas, select the columns we're going to work with, and assign the new Dataframe to `norm_reviews`."
      ]
    },
    {
      "cell_type": "code",
      "metadata": {
        "id": "_LBr2rk1T0xR",
        "colab_type": "code",
        "colab": {}
      },
      "source": [
        "# Import functions from Google modules into Colaboratory\n",
        "!pip install -U -q PyDrive\n",
        "from pydrive.auth import GoogleAuth\n",
        "from pydrive.drive import GoogleDrive\n",
        "from google.colab import auth\n",
        "from oauth2client.client import GoogleCredentials\n",
        "\n",
        "# Authenticate and create the PyDrive client\n",
        "auth.authenticate_user()\n",
        "gauth = GoogleAuth()\n",
        "gauth.credentials = GoogleCredentials.get_application_default()\n",
        "drive = GoogleDrive(gauth)"
      ],
      "execution_count": 1,
      "outputs": []
    },
    {
      "cell_type": "code",
      "metadata": {
        "id": "pzy0-ZtPScNy",
        "colab_type": "code",
        "colab": {}
      },
      "source": [
        "# Insert file id from Google Drive shareable link:\n",
        "# https://drive.google.com/file/d/1xILtCzObbTvL99E1ufL7VrPCtX7PC4ro/view?usp=sharing\n",
        "id = '1xILtCzObbTvL99E1ufL7VrPCtX7PC4ro'"
      ],
      "execution_count": 2,
      "outputs": []
    },
    {
      "cell_type": "code",
      "metadata": {
        "id": "mspPJ_6QT1mi",
        "colab_type": "code",
        "colab": {}
      },
      "source": [
        "# Download the dataset\n",
        "downloaded = drive.CreateFile({'id':id}) \n",
        "downloaded.GetContentFile('fandango_scores.csv')"
      ],
      "execution_count": 3,
      "outputs": []
    },
    {
      "cell_type": "code",
      "metadata": {
        "id": "X7iE_viqT2ju",
        "colab_type": "code",
        "colab": {}
      },
      "source": [
        "# Import pandas library and pyplot\n",
        "import pandas as pd\n",
        "import matplotlib.pyplot as plt\n",
        "\n",
        "# Read csv\n",
        "reviews = pd.read_csv('fandango_scores.csv')"
      ],
      "execution_count": 4,
      "outputs": []
    },
    {
      "cell_type": "code",
      "metadata": {
        "id": "c1wvvr0kVTGF",
        "colab_type": "code",
        "colab": {
          "base_uri": "https://localhost:8080/",
          "height": 153
        },
        "outputId": "1de4bc23-f89f-4e37-b370-5e6163274593"
      },
      "source": [
        "# List all columns\n",
        "reviews.columns"
      ],
      "execution_count": 5,
      "outputs": [
        {
          "output_type": "execute_result",
          "data": {
            "text/plain": [
              "Index(['FILM', 'RottenTomatoes', 'RottenTomatoes_User', 'Metacritic',\n",
              "       'Metacritic_User', 'IMDB', 'Fandango_Stars', 'Fandango_Ratingvalue',\n",
              "       'RT_norm', 'RT_user_norm', 'Metacritic_norm', 'Metacritic_user_nom',\n",
              "       'IMDB_norm', 'RT_norm_round', 'RT_user_norm_round',\n",
              "       'Metacritic_norm_round', 'Metacritic_user_norm_round',\n",
              "       'IMDB_norm_round', 'Metacritic_user_vote_count', 'IMDB_user_vote_count',\n",
              "       'Fandango_votes', 'Fandango_Difference'],\n",
              "      dtype='object')"
            ]
          },
          "metadata": {
            "tags": []
          },
          "execution_count": 5
        }
      ]
    },
    {
      "cell_type": "code",
      "metadata": {
        "id": "Fg9nAn7_Voa3",
        "colab_type": "code",
        "colab": {}
      },
      "source": [
        "# Assign the instructed columns to a list \n",
        "cols = ['FILM', 'RT_user_norm', 'Metacritic_user_nom', 'IMDB_norm', 'Fandango_Ratingvalue']"
      ],
      "execution_count": 6,
      "outputs": []
    },
    {
      "cell_type": "code",
      "metadata": {
        "id": "8oaKL78MWI1z",
        "colab_type": "code",
        "colab": {}
      },
      "source": [
        "# Assign the resulting dataframe\n",
        "norm_reviews = reviews[cols]"
      ],
      "execution_count": 7,
      "outputs": []
    },
    {
      "cell_type": "code",
      "metadata": {
        "id": "5cW-X_otVCdd",
        "colab_type": "code",
        "colab": {
          "base_uri": "https://localhost:8080/",
          "height": 255
        },
        "outputId": "1b480051-2a68-4ccd-b4bc-4c5a5383d3db"
      },
      "source": [
        "#Display the first row\n",
        "norm_reviews[:5]"
      ],
      "execution_count": 8,
      "outputs": [
        {
          "output_type": "execute_result",
          "data": {
            "text/html": [
              "<div>\n",
              "<style scoped>\n",
              "    .dataframe tbody tr th:only-of-type {\n",
              "        vertical-align: middle;\n",
              "    }\n",
              "\n",
              "    .dataframe tbody tr th {\n",
              "        vertical-align: top;\n",
              "    }\n",
              "\n",
              "    .dataframe thead th {\n",
              "        text-align: right;\n",
              "    }\n",
              "</style>\n",
              "<table border=\"1\" class=\"dataframe\">\n",
              "  <thead>\n",
              "    <tr style=\"text-align: right;\">\n",
              "      <th></th>\n",
              "      <th>FILM</th>\n",
              "      <th>RT_user_norm</th>\n",
              "      <th>Metacritic_user_nom</th>\n",
              "      <th>IMDB_norm</th>\n",
              "      <th>Fandango_Ratingvalue</th>\n",
              "    </tr>\n",
              "  </thead>\n",
              "  <tbody>\n",
              "    <tr>\n",
              "      <th>0</th>\n",
              "      <td>Avengers: Age of Ultron (2015)</td>\n",
              "      <td>4.3</td>\n",
              "      <td>3.55</td>\n",
              "      <td>3.90</td>\n",
              "      <td>4.5</td>\n",
              "    </tr>\n",
              "    <tr>\n",
              "      <th>1</th>\n",
              "      <td>Cinderella (2015)</td>\n",
              "      <td>4.0</td>\n",
              "      <td>3.75</td>\n",
              "      <td>3.55</td>\n",
              "      <td>4.5</td>\n",
              "    </tr>\n",
              "    <tr>\n",
              "      <th>2</th>\n",
              "      <td>Ant-Man (2015)</td>\n",
              "      <td>4.5</td>\n",
              "      <td>4.05</td>\n",
              "      <td>3.90</td>\n",
              "      <td>4.5</td>\n",
              "    </tr>\n",
              "    <tr>\n",
              "      <th>3</th>\n",
              "      <td>Do You Believe? (2015)</td>\n",
              "      <td>4.2</td>\n",
              "      <td>2.35</td>\n",
              "      <td>2.70</td>\n",
              "      <td>4.5</td>\n",
              "    </tr>\n",
              "    <tr>\n",
              "      <th>4</th>\n",
              "      <td>Hot Tub Time Machine 2 (2015)</td>\n",
              "      <td>1.4</td>\n",
              "      <td>1.70</td>\n",
              "      <td>2.55</td>\n",
              "      <td>3.0</td>\n",
              "    </tr>\n",
              "  </tbody>\n",
              "</table>\n",
              "</div>"
            ],
            "text/plain": [
              "                             FILM  ...  Fandango_Ratingvalue\n",
              "0  Avengers: Age of Ultron (2015)  ...                   4.5\n",
              "1               Cinderella (2015)  ...                   4.5\n",
              "2                  Ant-Man (2015)  ...                   4.5\n",
              "3          Do You Believe? (2015)  ...                   4.5\n",
              "4   Hot Tub Time Machine 2 (2015)  ...                   3.0\n",
              "\n",
              "[5 rows x 5 columns]"
            ]
          },
          "metadata": {
            "tags": []
          },
          "execution_count": 8
        }
      ]
    },
    {
      "cell_type": "markdown",
      "metadata": {
        "id": "i8Rs7jVgG3bp",
        "colab_type": "text"
      },
      "source": [
        "## 2.Frequency Distribution"
      ]
    },
    {
      "cell_type": "markdown",
      "metadata": {
        "id": "j7CczlckG3d7",
        "colab_type": "text"
      },
      "source": [
        ""
      ]
    },
    {
      "cell_type": "markdown",
      "metadata": {
        "id": "cxnl7R06I3_s",
        "colab_type": "text"
      },
      "source": [
        "## 3.Binning"
      ]
    },
    {
      "cell_type": "markdown",
      "metadata": {
        "id": "ggqzJIb7G3lq",
        "colab_type": "text"
      },
      "source": [
        ""
      ]
    },
    {
      "cell_type": "markdown",
      "metadata": {
        "id": "MIkT_2XeG3rx",
        "colab_type": "text"
      },
      "source": [
        "## 4.Histogram In Matplotlib"
      ]
    },
    {
      "cell_type": "markdown",
      "metadata": {
        "id": "by3-egrTG3xn",
        "colab_type": "text"
      },
      "source": [
        ""
      ]
    },
    {
      "cell_type": "markdown",
      "metadata": {
        "id": "Jp0y2c72G36v",
        "colab_type": "text"
      },
      "source": [
        "## 5.Comparing histograms"
      ]
    },
    {
      "cell_type": "markdown",
      "metadata": {
        "id": "1rPdCv5QG3-h",
        "colab_type": "text"
      },
      "source": [
        ""
      ]
    },
    {
      "cell_type": "markdown",
      "metadata": {
        "id": "Ly7QrqCGG4B5",
        "colab_type": "text"
      },
      "source": [
        "## 6.Quartiles"
      ]
    },
    {
      "cell_type": "markdown",
      "metadata": {
        "id": "DD-DEhCkG4FV",
        "colab_type": "text"
      },
      "source": [
        ""
      ]
    },
    {
      "cell_type": "markdown",
      "metadata": {
        "id": "gzgUNCjsG4Iy",
        "colab_type": "text"
      },
      "source": [
        "## 7.Box Plot"
      ]
    },
    {
      "cell_type": "markdown",
      "metadata": {
        "id": "NE_JugLKG4Lt",
        "colab_type": "text"
      },
      "source": [
        ""
      ]
    },
    {
      "cell_type": "markdown",
      "metadata": {
        "id": "-cVxuabeG4PG",
        "colab_type": "text"
      },
      "source": [
        "## 8.Multiple Box Plots"
      ]
    },
    {
      "cell_type": "markdown",
      "metadata": {
        "id": "lVAf3rizG4Sb",
        "colab_type": "text"
      },
      "source": [
        ""
      ]
    },
    {
      "cell_type": "markdown",
      "metadata": {
        "id": "7ofgWRxbG4Vr",
        "colab_type": "text"
      },
      "source": [
        ""
      ]
    }
  ]
}