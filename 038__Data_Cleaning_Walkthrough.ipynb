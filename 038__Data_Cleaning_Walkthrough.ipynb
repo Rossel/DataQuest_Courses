{
  "nbformat": 4,
  "nbformat_minor": 0,
  "metadata": {
    "colab": {
      "name": "038__Data_Cleaning_Walkthrough.ipynb",
      "provenance": [],
      "authorship_tag": "ABX9TyMydQCYCKbxZjLev+sYhhPE",
      "include_colab_link": true
    },
    "kernelspec": {
      "name": "python3",
      "display_name": "Python 3"
    }
  },
  "cells": [
    {
      "cell_type": "markdown",
      "metadata": {
        "id": "view-in-github",
        "colab_type": "text"
      },
      "source": [
        "<a href=\"https://colab.research.google.com/github/Rossel/DataQuest_Courses/blob/master/038__Data_Cleaning_Walkthrough.ipynb\" target=\"_parent\"><img src=\"https://colab.research.google.com/assets/colab-badge.svg\" alt=\"Open In Colab\"/></a>"
      ]
    },
    {
      "cell_type": "markdown",
      "metadata": {
        "id": "6PWQ-EVGT2s_"
      },
      "source": [
        "# COURSE 5/6: DATA CLEANING IN PYTHON: ADVANCED"
      ]
    },
    {
      "cell_type": "markdown",
      "metadata": {
        "id": "PgjiYKzEU1Px"
      },
      "source": [
        "# MISSION 1:Data Cleaning Walkthrough\n"
      ]
    },
    {
      "cell_type": "markdown",
      "metadata": {
        "id": "ZpILlKG5VBwg"
      },
      "source": [
        "Learn how to explore and clean multiple data files."
      ]
    },
    {
      "cell_type": "markdown",
      "metadata": {
        "id": "nfk12M-4TwZU"
      },
      "source": [
        "## 1. Introduction"
      ]
    },
    {
      "cell_type": "markdown",
      "metadata": {
        "id": "1n8U5XcG9MHu"
      },
      "source": [
        "At many points in your career, you'll need to be able to build complete, end-to-end data science projects on your own. Data science projects usually consist of one of two things:\n",
        "\n",
        "- An exploration and analysis of a set of data. One example might involve analyzing donors to political campaigns, creating a plot, and then sharing an analysis of the plot with others.\n",
        "- An operational system that generates predictions based on data that updates continually. An algorithm that pulls in daily stock ticker data and predicts which stock prices will rise and fall would be one example.\n",
        "\n",
        "You'll find the ability to create data science projects useful in several different contexts:\n",
        "\n",
        "- Projects will help you build a portfolio, which is critical to finding a job as a data analyst or scientist.\n",
        "- Working on projects will help you learn new skills and reinforce existing concepts.\n",
        "- Most \"real-world\" data science and analysis work consists of developing internal projects.\n",
        "- Projects allow you to investigate interesting phenomena and satisfy your curiosity.\n",
        "\n",
        "Whether you aim to become a data scientist or analyst or you're just curious about the world, building projects can be immensely rewarding.\n",
        "\n",
        "[Here's](https://github.com/dataquestio/loan-prediction) an example of a finished project.\n",
        "\n",
        "In this mission, we'll walk through the first part of a complete data science project, including how to acquire the raw data. The project will focus on exploring and analyzing a data set. We'll develop our data cleaning and storytelling skills, which will enable us to build complete projects on our own.\n",
        "\n",
        "We'll focus primarily on data exploration in this mission. We'll also combine several messy data sets into a single clean one to make analysis easier. Over the next few missions, we'll work through the rest of our project and perform the actual analysis.\n",
        "\n",
        "The first step in creating a project is to decide on a topic. You want the topic to be something you're interested in and motivated to explore. It's very obvious when people are making projects just to make them, rather than out of a genuine interest in the topic.\n",
        "\n",
        "Here are two ways to go about finding a good topic:\n",
        "\n",
        "- Think about what sectors or angles you're really interested in, then find data sets relating to those sectors.\n",
        "- Review several data sets, and find one that seems interesting enough to explore.\n",
        "\n",
        "Whichever approach you take, you can start your search at these sites:\n",
        "\n",
        "- [Data.gov](https://www.data.gov/) - A directory of government data downloads\n",
        "- [/r/datasets](https://reddit.com/r/datasets) - A subreddit that has hundreds of interesting data sets\n",
        "- [Awesome datasets](https://github.com/caesar0301/awesome-public-datasets) - A list of data sets hosted on GitHub\n",
        "- [rs.io](http://rs.io/100-interesting-data-sets-for-statistics/) - A great blog post with hundreds of interesting data sets\n",
        "\n",
        "In real-world data science, you may not find an ideal data set. You might have to aggregate disparate data sources instead, or do a good amount of data cleaning.\n",
        "\n",
        "For the purposes of this project, we'll be using data about New York City public schools, which can be found [here](https://data.cityofnewyork.us/browse?category=Education)."
      ]
    },
    {
      "cell_type": "markdown",
      "metadata": {
        "id": "2TRI65HN9MK2"
      },
      "source": [
        "## 2. Finding All of the Relevant Data Sets"
      ]
    },
    {
      "cell_type": "markdown",
      "metadata": {
        "id": "xXYr1mRq9MNj"
      },
      "source": [
        "Once you've chosen a topic, you'll want to pick an angle to investigate. It's important to choose an angle that has enough depth to analyze, but isn't so complicated that it's difficult to get started. You want to finish the project, and you want your results to be interesting to others.\n",
        "\n",
        "One of the most controversial issues in the U.S. educational system is the efficacy of standardized tests, and whether they're unfair to certain groups. Given our prior knowledge of this topic, investigating the correlations between [SAT scores](https://en.wikipedia.org/wiki/SAT) and demographics might be an interesting angle to take. We could correlate SAT scores with factors like race, gender, income, and more.\n",
        "\n",
        "The SAT, or Scholastic Aptitude Test, is an exam that U.S. high school students take before applying to college. Colleges take the test scores into account when deciding who to admit, so it's fairly important to perform well on it.\n",
        "\n",
        "The test consists of three sections, each of which has 800 possible points. The combined score is out of 2,400 possible points (while this number has changed a few times, the data set for our project is based on 2,400 total points). Organizations often rank high schools by their average SAT scores. The scores are also considered a measure of overall school district quality.\n",
        "\n",
        "New York City makes its data [on high school SAT scores](https://data.cityofnewyork.us/Education/SAT-Results/f9bf-2cp4) available online, [as well as the demographics for each high school](https://data.cityofnewyork.us/Education/DOE-High-School-Directory-2014-2015/n3p6-zve2). The first few rows of the SAT data look like this:\n",
        "\n",
        "![img](https://s3.amazonaws.com/dq-content/sat.png)\n",
        "\n",
        "Unfortunately, combining both of the data sets won't give us all of the demographic information we want to use. We'll need to supplement our data with other sources to do our full analysis.\n",
        "\n",
        "The same website has several related data sets covering demographic information and test scores. Here are the links to all of the data sets we'll be using:\n",
        "\n",
        "- [SAT scores by school](https://data.cityofnewyork.us/Education/SAT-Results/f9bf-2cp4) - SAT scores for each high school in New York City\n",
        "- [School attendance](https://data.cityofnewyork.us/Education/School-Attendance-and-Enrollment-Statistics-by-Dis/7z8d-msnt) - Attendance information for each school in New York City\n",
        "- [Class size](https://data.cityofnewyork.us/Education/2010-2011-Class-Size-School-level-detail/urz7-pzb3) - Information on class size for each school\n",
        "- [AP test results](https://data.cityofnewyork.us/Education/AP-College-Board-2010-School-Level-Results/itfs-ms3e) - Advanced Placement (AP) exam results for each high school (passing an optional AP exam in a particular subject can earn a student college credit in that subject)\n",
        "- [Graduation outcomes](https://data.cityofnewyork.us/Education/Graduation-Outcomes-Classes-Of-2005-2010-School-Le/vh2h-md7a) - The percentage of students who graduated, and other outcome information\n",
        "- [Demographics](https://data.cityofnewyork.us/Education/School-Demographics-and-Accountability-Snapshot-20/ihfw-zy9j) - Demographic information for each school\n",
        "- [School survey](https://data.cityofnewyork.us/Education/NYC-School-Survey-2011/mnz3-dyi8) - Surveys of parents, teachers, and students at each school\n",
        "\n",
        "All of these data sets are interrelated. We'll need to combine them into a single data set before we can find correlations."
      ]
    },
    {
      "cell_type": "markdown",
      "metadata": {
        "id": "WE7hOFmB9MRG"
      },
      "source": [
        "## 3. Finding Background Information"
      ]
    },
    {
      "cell_type": "markdown",
      "metadata": {
        "id": "n1LMduv79MTJ"
      },
      "source": [
        ""
      ]
    },
    {
      "cell_type": "markdown",
      "metadata": {
        "id": "rRBgMEiD9Qms"
      },
      "source": [
        "## 4. Reading in the Data"
      ]
    },
    {
      "cell_type": "markdown",
      "metadata": {
        "id": "Q4NrrMRm9Qp0"
      },
      "source": [
        ""
      ]
    },
    {
      "cell_type": "markdown",
      "metadata": {
        "id": "PRPCiT-j9Qs-"
      },
      "source": [
        "## 5. Exploring the SAT Data"
      ]
    },
    {
      "cell_type": "markdown",
      "metadata": {
        "id": "ZZotKtiS9QvD"
      },
      "source": [
        ""
      ]
    },
    {
      "cell_type": "markdown",
      "metadata": {
        "id": "vAkqR9oI9Q1u"
      },
      "source": [
        "## 6. Exploring the Remaining Data"
      ]
    },
    {
      "cell_type": "markdown",
      "metadata": {
        "id": "50CQ_Vjb9Q4O"
      },
      "source": [
        ""
      ]
    },
    {
      "cell_type": "markdown",
      "metadata": {
        "id": "1oIPRMVK9Q7W"
      },
      "source": [
        "## 7. Reading in the Survey Data"
      ]
    },
    {
      "cell_type": "markdown",
      "metadata": {
        "id": "Dy8TTFfM9Q-B"
      },
      "source": [
        ""
      ]
    },
    {
      "cell_type": "markdown",
      "metadata": {
        "id": "GqZEIU6H9RA_"
      },
      "source": [
        "## 8. Reading in the Survey Data"
      ]
    },
    {
      "cell_type": "markdown",
      "metadata": {
        "id": "0jbK9H8M9RDY"
      },
      "source": [
        ""
      ]
    },
    {
      "cell_type": "markdown",
      "metadata": {
        "id": "VT2oMs0e9RRO"
      },
      "source": [
        "## 9. Cleaning Up the Surveys"
      ]
    },
    {
      "cell_type": "markdown",
      "metadata": {
        "id": "L9Vl7fLG9RUF"
      },
      "source": [
        ""
      ]
    },
    {
      "cell_type": "markdown",
      "metadata": {
        "id": "ad8o8wZ79RW3"
      },
      "source": [
        "## 10. Inserting DBN Fields"
      ]
    },
    {
      "cell_type": "markdown",
      "metadata": {
        "id": "D0vnyTMZ-n8P"
      },
      "source": [
        ""
      ]
    },
    {
      "cell_type": "markdown",
      "metadata": {
        "id": "LRsfeuFz-n_w"
      },
      "source": [
        "## 11. Inserting DBN Fields"
      ]
    },
    {
      "cell_type": "markdown",
      "metadata": {
        "id": "IazrEdjt-oDR"
      },
      "source": [
        ""
      ]
    },
    {
      "cell_type": "markdown",
      "metadata": {
        "id": "6lVmhfsm-oGe"
      },
      "source": [
        "## 12. Combining the SAT Scores"
      ]
    },
    {
      "cell_type": "markdown",
      "metadata": {
        "id": "j4q54h33-oKK"
      },
      "source": [
        ""
      ]
    },
    {
      "cell_type": "markdown",
      "metadata": {
        "id": "bpQVe5G1-oMr"
      },
      "source": [
        "## 13. Parsing Geographic Coordinates for Schools"
      ]
    },
    {
      "cell_type": "markdown",
      "metadata": {
        "id": "tYPcJJ1k-tWi"
      },
      "source": [
        ""
      ]
    },
    {
      "cell_type": "markdown",
      "metadata": {
        "id": "C8ycQISY-tbU"
      },
      "source": [
        "## 14. Extracting the Longitude"
      ]
    },
    {
      "cell_type": "markdown",
      "metadata": {
        "id": "yl3Rbrdi-vUL"
      },
      "source": [
        ""
      ]
    }
  ]
}