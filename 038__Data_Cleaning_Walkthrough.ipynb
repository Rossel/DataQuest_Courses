{
  "nbformat": 4,
  "nbformat_minor": 0,
  "metadata": {
    "colab": {
      "name": "038__Data_Cleaning_Walkthrough.ipynb",
      "provenance": [],
      "authorship_tag": "ABX9TyNk4awA/SdgOr1Y8iJIKVOi",
      "include_colab_link": true
    },
    "kernelspec": {
      "name": "python3",
      "display_name": "Python 3"
    }
  },
  "cells": [
    {
      "cell_type": "markdown",
      "metadata": {
        "id": "view-in-github",
        "colab_type": "text"
      },
      "source": [
        "<a href=\"https://colab.research.google.com/github/Rossel/DataQuest_Courses/blob/master/038__Data_Cleaning_Walkthrough.ipynb\" target=\"_parent\"><img src=\"https://colab.research.google.com/assets/colab-badge.svg\" alt=\"Open In Colab\"/></a>"
      ]
    },
    {
      "cell_type": "markdown",
      "metadata": {
        "id": "6PWQ-EVGT2s_"
      },
      "source": [
        "# COURSE 5/6: DATA CLEANING IN PYTHON: ADVANCED"
      ]
    },
    {
      "cell_type": "markdown",
      "metadata": {
        "id": "PgjiYKzEU1Px"
      },
      "source": [
        "# MISSION 1:Data Cleaning Walkthrough\n"
      ]
    },
    {
      "cell_type": "markdown",
      "metadata": {
        "id": "ZpILlKG5VBwg"
      },
      "source": [
        "Learn how to explore and clean multiple data files."
      ]
    },
    {
      "cell_type": "markdown",
      "metadata": {
        "id": "nfk12M-4TwZU"
      },
      "source": [
        "## 1. Introduction"
      ]
    },
    {
      "cell_type": "markdown",
      "metadata": {
        "id": "1n8U5XcG9MHu"
      },
      "source": [
        ""
      ]
    },
    {
      "cell_type": "markdown",
      "metadata": {
        "id": "2TRI65HN9MK2"
      },
      "source": [
        "## 2. Finding All of the Relevant Data Sets"
      ]
    },
    {
      "cell_type": "markdown",
      "metadata": {
        "id": "xXYr1mRq9MNj"
      },
      "source": [
        ""
      ]
    },
    {
      "cell_type": "markdown",
      "metadata": {
        "id": "WE7hOFmB9MRG"
      },
      "source": [
        "## 3. Finding Background Information"
      ]
    },
    {
      "cell_type": "markdown",
      "metadata": {
        "id": "n1LMduv79MTJ"
      },
      "source": [
        ""
      ]
    },
    {
      "cell_type": "markdown",
      "metadata": {
        "id": "rRBgMEiD9Qms"
      },
      "source": [
        "## 4. Reading in the Data"
      ]
    },
    {
      "cell_type": "markdown",
      "metadata": {
        "id": "Q4NrrMRm9Qp0"
      },
      "source": [
        ""
      ]
    },
    {
      "cell_type": "markdown",
      "metadata": {
        "id": "PRPCiT-j9Qs-"
      },
      "source": [
        "## 5. Exploring the SAT Data"
      ]
    },
    {
      "cell_type": "markdown",
      "metadata": {
        "id": "ZZotKtiS9QvD"
      },
      "source": [
        ""
      ]
    },
    {
      "cell_type": "markdown",
      "metadata": {
        "id": "vAkqR9oI9Q1u"
      },
      "source": [
        "## 6. Exploring the Remaining Data"
      ]
    },
    {
      "cell_type": "markdown",
      "metadata": {
        "id": "50CQ_Vjb9Q4O"
      },
      "source": [
        ""
      ]
    },
    {
      "cell_type": "markdown",
      "metadata": {
        "id": "1oIPRMVK9Q7W"
      },
      "source": [
        "## 7. Reading in the Survey Data"
      ]
    },
    {
      "cell_type": "markdown",
      "metadata": {
        "id": "Dy8TTFfM9Q-B"
      },
      "source": [
        ""
      ]
    },
    {
      "cell_type": "markdown",
      "metadata": {
        "id": "GqZEIU6H9RA_"
      },
      "source": [
        "## 8. Reading in the Survey Data"
      ]
    },
    {
      "cell_type": "markdown",
      "metadata": {
        "id": "0jbK9H8M9RDY"
      },
      "source": [
        ""
      ]
    },
    {
      "cell_type": "markdown",
      "metadata": {
        "id": "VT2oMs0e9RRO"
      },
      "source": [
        "## 9. Cleaning Up the Surveys"
      ]
    },
    {
      "cell_type": "markdown",
      "metadata": {
        "id": "L9Vl7fLG9RUF"
      },
      "source": [
        ""
      ]
    },
    {
      "cell_type": "markdown",
      "metadata": {
        "id": "ad8o8wZ79RW3"
      },
      "source": [
        "## 10. Inserting DBN Fields"
      ]
    },
    {
      "cell_type": "markdown",
      "metadata": {
        "id": "D0vnyTMZ-n8P"
      },
      "source": [
        ""
      ]
    },
    {
      "cell_type": "markdown",
      "metadata": {
        "id": "LRsfeuFz-n_w"
      },
      "source": [
        "## 11. Inserting DBN Fields"
      ]
    },
    {
      "cell_type": "markdown",
      "metadata": {
        "id": "IazrEdjt-oDR"
      },
      "source": [
        ""
      ]
    },
    {
      "cell_type": "markdown",
      "metadata": {
        "id": "6lVmhfsm-oGe"
      },
      "source": [
        "## 12. Combining the SAT Scores"
      ]
    },
    {
      "cell_type": "markdown",
      "metadata": {
        "id": "j4q54h33-oKK"
      },
      "source": [
        ""
      ]
    },
    {
      "cell_type": "markdown",
      "metadata": {
        "id": "bpQVe5G1-oMr"
      },
      "source": [
        "## 13. Parsing Geographic Coordinates for Schools"
      ]
    },
    {
      "cell_type": "markdown",
      "metadata": {
        "id": "tYPcJJ1k-tWi"
      },
      "source": [
        ""
      ]
    },
    {
      "cell_type": "markdown",
      "metadata": {
        "id": "C8ycQISY-tbU"
      },
      "source": [
        "## 14. Extracting the Longitude"
      ]
    },
    {
      "cell_type": "markdown",
      "metadata": {
        "id": "yl3Rbrdi-vUL"
      },
      "source": [
        ""
      ]
    }
  ]
}