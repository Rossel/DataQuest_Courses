{
  "nbformat": 4,
  "nbformat_minor": 0,
  "metadata": {
    "colab": {
      "name": "031__Transforming_Data_With_Pandas.ipynb",
      "provenance": [],
      "authorship_tag": "ABX9TyNvDVbYvTfcedIiovuGYd+0",
      "include_colab_link": true
    },
    "kernelspec": {
      "name": "python3",
      "display_name": "Python 3"
    }
  },
  "cells": [
    {
      "cell_type": "markdown",
      "metadata": {
        "id": "view-in-github",
        "colab_type": "text"
      },
      "source": [
        "<a href=\"https://colab.research.google.com/github/Rossel/DataQuest_Courses/blob/master/031__Transforming_Data_With_Pandas.ipynb\" target=\"_parent\"><img src=\"https://colab.research.google.com/assets/colab-badge.svg\" alt=\"Open In Colab\"/></a>"
      ]
    },
    {
      "cell_type": "markdown",
      "metadata": {
        "id": "6PWQ-EVGT2s_"
      },
      "source": [
        "# COURSE 4/6: DATA CLEANING AND ANALYSIS"
      ]
    },
    {
      "cell_type": "markdown",
      "metadata": {
        "id": "THaX315BT2wD"
      },
      "source": [
        "# MISSION 3: Transforming Data With Pandas"
      ]
    },
    {
      "cell_type": "markdown",
      "metadata": {
        "id": "FPnfugb0IfJ5"
      },
      "source": [
        "Learn how to transform data with pandas."
      ]
    },
    {
      "cell_type": "markdown",
      "metadata": {
        "id": "tQBrAPM9JEko"
      },
      "source": [
        "## 1. Introduction"
      ]
    },
    {
      "cell_type": "markdown",
      "metadata": {
        "id": "IHAC_2ZBGvIq"
      },
      "source": [
        "In this mission, we'll continue working with the [World Happiness Report](https://www.kaggle.com/unsdsn/world-happiness) and explore another aspect of it that we haven't analyzed yet - the factors that contribute to happiness. As a reminder, the World Happiness Report assigns each country a happiness score based on a poll question that asks respondents to rank their life on a scale of 0 - 10.\n",
        "\n",
        "You may recall from previous missions that each of the columns below contains the estimated extent to which each factor contributes to the happiness score:\n",
        "\n",
        "- `Economy (GDP per Capita)`\n",
        "- `Family`\n",
        "- `Health (Life Expectancy)`\n",
        "- `Freedom`\n",
        "- `Trust (Government Corruption)`\n",
        "- `Generosity`"
      ]
    },
    {
      "cell_type": "markdown",
      "metadata": {
        "id": "ELMdr-p4HYei"
      },
      "source": [
        "Throughout this mission, we'll refer to the columns above as the \"factor\" columns. We'll work to answer the following question in this mission:\n",
        "\n",
        "*Which of the factors above contribute the most to the happiness score?*\n",
        "\n",
        "However, in order to answer this question, we need to manipulate our data into a format that makes it easier to analyze. We'll explore the following functions and methods to perform this task:\n",
        "\n",
        "- `Series.map()`\n",
        "- `Series.apply()`\n",
        "- `DataFrame.applymap()`\n",
        "- `DataFrame.apply()`\n",
        "- `pd.melt()`\n",
        "\n",
        "For teaching purposes, we'll focus just on the 2015 report in this mission. As a reminder, below are the first five rows of the data set:"
      ]
    },
    {
      "cell_type": "code",
      "metadata": {
        "id": "Jx4vKeuxNWig",
        "colab": {
          "resources": {
            "http://localhost:8080/nbextensions/google.colab/files.js": {
              "data": "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",
              "ok": true,
              "headers": [
                [
                  "content-type",
                  "application/javascript"
                ]
              ],
              "status": 200,
              "status_text": "OK"
            }
          },
          "base_uri": "https://localhost:8080/",
          "height": 70
        },
        "outputId": "91cf02e1-f53e-45e6-f9b4-9336f229c46d"
      },
      "source": [
        "# Import files directly using Google Colab\n",
        "# Download the files from the links below:\n",
        "# World_Happiness_2015.csv: https://drive.google.com/file/d/1iZ8_lHkMx7pI22s4ECfpNHKnOohyPfvU/view?usp=sharing\n",
        "\n",
        "from google.colab import files\n",
        "upload = files.upload()"
      ],
      "execution_count": null,
      "outputs": [
        {
          "output_type": "display_data",
          "data": {
            "text/html": [
              "\n",
              "     <input type=\"file\" id=\"files-b2ccddb8-20aa-4f64-8224-69793043f9f6\" name=\"files[]\" multiple disabled\n",
              "        style=\"border:none\" />\n",
              "     <output id=\"result-b2ccddb8-20aa-4f64-8224-69793043f9f6\">\n",
              "      Upload widget is only available when the cell has been executed in the\n",
              "      current browser session. Please rerun this cell to enable.\n",
              "      </output>\n",
              "      <script src=\"/nbextensions/google.colab/files.js\"></script> "
            ],
            "text/plain": [
              "<IPython.core.display.HTML object>"
            ]
          },
          "metadata": {
            "tags": []
          }
        },
        {
          "output_type": "stream",
          "text": [
            "Saving World_Happiness_2015.csv to World_Happiness_2015.csv\n"
          ],
          "name": "stdout"
        }
      ]
    },
    {
      "cell_type": "code",
      "metadata": {
        "id": "RblOqgYLi5Uu"
      },
      "source": [
        "# Import pandas and numpy libraries\n",
        "import pandas as pd\n",
        "import numpy as np"
      ],
      "execution_count": null,
      "outputs": []
    },
    {
      "cell_type": "code",
      "metadata": {
        "id": "-13RwLZHNwum"
      },
      "source": [
        " # Read the csv files\n",
        " happiness2015 = pd.read_csv(\"World_Happiness_2015.csv\")"
      ],
      "execution_count": null,
      "outputs": []
    },
    {
      "cell_type": "code",
      "metadata": {
        "id": "Y46pZghDH81R",
        "colab": {
          "base_uri": "https://localhost:8080/",
          "height": 365
        },
        "outputId": "eddd8ab4-a270-4968-d7b3-d23c9b7854f3"
      },
      "source": [
        "happiness2015.head()"
      ],
      "execution_count": null,
      "outputs": [
        {
          "output_type": "execute_result",
          "data": {
            "text/html": [
              "<div>\n",
              "<style scoped>\n",
              "    .dataframe tbody tr th:only-of-type {\n",
              "        vertical-align: middle;\n",
              "    }\n",
              "\n",
              "    .dataframe tbody tr th {\n",
              "        vertical-align: top;\n",
              "    }\n",
              "\n",
              "    .dataframe thead th {\n",
              "        text-align: right;\n",
              "    }\n",
              "</style>\n",
              "<table border=\"1\" class=\"dataframe\">\n",
              "  <thead>\n",
              "    <tr style=\"text-align: right;\">\n",
              "      <th></th>\n",
              "      <th>Country</th>\n",
              "      <th>Region</th>\n",
              "      <th>Happiness Rank</th>\n",
              "      <th>Happiness Score</th>\n",
              "      <th>Standard Error</th>\n",
              "      <th>Economy (GDP per Capita)</th>\n",
              "      <th>Family</th>\n",
              "      <th>Health (Life Expectancy)</th>\n",
              "      <th>Freedom</th>\n",
              "      <th>Trust (Government Corruption)</th>\n",
              "      <th>Generosity</th>\n",
              "      <th>Dystopia Residual</th>\n",
              "    </tr>\n",
              "  </thead>\n",
              "  <tbody>\n",
              "    <tr>\n",
              "      <th>0</th>\n",
              "      <td>Switzerland</td>\n",
              "      <td>Western Europe</td>\n",
              "      <td>1</td>\n",
              "      <td>7.587</td>\n",
              "      <td>0.03411</td>\n",
              "      <td>1.39651</td>\n",
              "      <td>1.34951</td>\n",
              "      <td>0.94143</td>\n",
              "      <td>0.66557</td>\n",
              "      <td>0.41978</td>\n",
              "      <td>0.29678</td>\n",
              "      <td>2.51738</td>\n",
              "    </tr>\n",
              "    <tr>\n",
              "      <th>1</th>\n",
              "      <td>Iceland</td>\n",
              "      <td>Western Europe</td>\n",
              "      <td>2</td>\n",
              "      <td>7.561</td>\n",
              "      <td>0.04884</td>\n",
              "      <td>1.30232</td>\n",
              "      <td>1.40223</td>\n",
              "      <td>0.94784</td>\n",
              "      <td>0.62877</td>\n",
              "      <td>0.14145</td>\n",
              "      <td>0.43630</td>\n",
              "      <td>2.70201</td>\n",
              "    </tr>\n",
              "    <tr>\n",
              "      <th>2</th>\n",
              "      <td>Denmark</td>\n",
              "      <td>Western Europe</td>\n",
              "      <td>3</td>\n",
              "      <td>7.527</td>\n",
              "      <td>0.03328</td>\n",
              "      <td>1.32548</td>\n",
              "      <td>1.36058</td>\n",
              "      <td>0.87464</td>\n",
              "      <td>0.64938</td>\n",
              "      <td>0.48357</td>\n",
              "      <td>0.34139</td>\n",
              "      <td>2.49204</td>\n",
              "    </tr>\n",
              "    <tr>\n",
              "      <th>3</th>\n",
              "      <td>Norway</td>\n",
              "      <td>Western Europe</td>\n",
              "      <td>4</td>\n",
              "      <td>7.522</td>\n",
              "      <td>0.03880</td>\n",
              "      <td>1.45900</td>\n",
              "      <td>1.33095</td>\n",
              "      <td>0.88521</td>\n",
              "      <td>0.66973</td>\n",
              "      <td>0.36503</td>\n",
              "      <td>0.34699</td>\n",
              "      <td>2.46531</td>\n",
              "    </tr>\n",
              "    <tr>\n",
              "      <th>4</th>\n",
              "      <td>Canada</td>\n",
              "      <td>North America</td>\n",
              "      <td>5</td>\n",
              "      <td>7.427</td>\n",
              "      <td>0.03553</td>\n",
              "      <td>1.32629</td>\n",
              "      <td>1.32261</td>\n",
              "      <td>0.90563</td>\n",
              "      <td>0.63297</td>\n",
              "      <td>0.32957</td>\n",
              "      <td>0.45811</td>\n",
              "      <td>2.45176</td>\n",
              "    </tr>\n",
              "  </tbody>\n",
              "</table>\n",
              "</div>"
            ],
            "text/plain": [
              "       Country          Region  ...  Generosity  Dystopia Residual\n",
              "0  Switzerland  Western Europe  ...     0.29678            2.51738\n",
              "1      Iceland  Western Europe  ...     0.43630            2.70201\n",
              "2      Denmark  Western Europe  ...     0.34139            2.49204\n",
              "3       Norway  Western Europe  ...     0.34699            2.46531\n",
              "4       Canada   North America  ...     0.45811            2.45176\n",
              "\n",
              "[5 rows x 12 columns]"
            ]
          },
          "metadata": {
            "tags": []
          },
          "execution_count": 4
        }
      ]
    },
    {
      "cell_type": "markdown",
      "metadata": {
        "id": "NY9WuIV2IPm0"
      },
      "source": [
        "Below are descriptions for some of the other columns we'll work with in this mission:\n",
        "\n",
        "- `Country` - Name of the country\n",
        "- `Region` - Name of the region the country belongs to\n",
        "- `Happiness Rank` - The rank of the country, as determined by its happiness score\n",
        "- `Happiness Score` - A score assigned to each country based on the answers to a poll question that asks respondents to rate their happiness on a scale of 0-10\n",
        "- `Dystopia Residual`- Represents the extent to which the factors above over or under explain the happiness score. Don't worry too much about this column - you won't need in depth knowledge of it to complete this mission.\n",
        "\n",
        "Let's start by renaming some of the columns in `happiness2015`.\n",
        "\n"
      ]
    },
    {
      "cell_type": "markdown",
      "metadata": {
        "id": "f7w5CgOKIj5e"
      },
      "source": [
        "**Instructions:**\n",
        "\n",
        "Recall that the 2015 World Happiness Report is saved to a variable named `happiness2015`. We also created a dictionary named `mapping` for renaming columns.\n",
        "\n",
        "- Use the `DataFrame.rename()` method to change the `'Economy (GDP per Capita)'`, `'Health (Life Expectancy)'`, and `'Trust (Government Corruption)'` column names to the names specified in the `mapping` dictionary.\n",
        " - Pass the `mapping` dictionary into the `df.rename()` method and set the axis parameter to `1`.\n",
        " - Assign the result back to `happiness2015`."
      ]
    },
    {
      "cell_type": "code",
      "metadata": {
        "id": "4Qd1JsMkI3EZ"
      },
      "source": [
        "# Provided code\n",
        "mapping = {'Economy (GDP per Capita)': 'Economy', 'Health (Life Expectancy)': 'Health', 'Trust (Government Corruption)': 'Trust' }"
      ],
      "execution_count": null,
      "outputs": []
    },
    {
      "cell_type": "code",
      "metadata": {
        "id": "NkM-s7-uobar"
      },
      "source": [
        "# Solution\n",
        "\n",
        "mapping = {'Economy (GDP per Capita)': 'Economy', 'Health (Life Expectancy)': 'Health', 'Trust (Government Corruption)': 'Trust' }\n",
        "happiness2015 = happiness2015.rename(mapping, axis = 1)\n"
      ],
      "execution_count": null,
      "outputs": []
    },
    {
      "cell_type": "markdown",
      "metadata": {
        "id": "0bpaQ2MA7oSN"
      },
      "source": [
        "##2. Apply a Function Element-wise Using the Map and Apply Methods"
      ]
    },
    {
      "cell_type": "markdown",
      "metadata": {
        "id": "pSoDPCaS7sWF"
      },
      "source": [
        "When we reviewed `happiness2015` in the last screen, you may have noticed that each of the \"factor\" columns consists of numbers:"
      ]
    },
    {
      "cell_type": "code",
      "metadata": {
        "id": "wk8Vl5o47zF3",
        "colab": {
          "base_uri": "https://localhost:8080/",
          "height": 365
        },
        "outputId": "c189c2e8-4eea-42b0-8ab1-f4a740d5e632"
      },
      "source": [
        "happiness2015.head()"
      ],
      "execution_count": null,
      "outputs": [
        {
          "output_type": "execute_result",
          "data": {
            "text/html": [
              "<div>\n",
              "<style scoped>\n",
              "    .dataframe tbody tr th:only-of-type {\n",
              "        vertical-align: middle;\n",
              "    }\n",
              "\n",
              "    .dataframe tbody tr th {\n",
              "        vertical-align: top;\n",
              "    }\n",
              "\n",
              "    .dataframe thead th {\n",
              "        text-align: right;\n",
              "    }\n",
              "</style>\n",
              "<table border=\"1\" class=\"dataframe\">\n",
              "  <thead>\n",
              "    <tr style=\"text-align: right;\">\n",
              "      <th></th>\n",
              "      <th>Country</th>\n",
              "      <th>Region</th>\n",
              "      <th>Happiness Rank</th>\n",
              "      <th>Happiness Score</th>\n",
              "      <th>Standard Error</th>\n",
              "      <th>Economy (GDP per Capita)</th>\n",
              "      <th>Family</th>\n",
              "      <th>Health (Life Expectancy)</th>\n",
              "      <th>Freedom</th>\n",
              "      <th>Trust (Government Corruption)</th>\n",
              "      <th>Generosity</th>\n",
              "      <th>Dystopia Residual</th>\n",
              "    </tr>\n",
              "  </thead>\n",
              "  <tbody>\n",
              "    <tr>\n",
              "      <th>0</th>\n",
              "      <td>Switzerland</td>\n",
              "      <td>Western Europe</td>\n",
              "      <td>1</td>\n",
              "      <td>7.587</td>\n",
              "      <td>0.03411</td>\n",
              "      <td>1.39651</td>\n",
              "      <td>1.34951</td>\n",
              "      <td>0.94143</td>\n",
              "      <td>0.66557</td>\n",
              "      <td>0.41978</td>\n",
              "      <td>0.29678</td>\n",
              "      <td>2.51738</td>\n",
              "    </tr>\n",
              "    <tr>\n",
              "      <th>1</th>\n",
              "      <td>Iceland</td>\n",
              "      <td>Western Europe</td>\n",
              "      <td>2</td>\n",
              "      <td>7.561</td>\n",
              "      <td>0.04884</td>\n",
              "      <td>1.30232</td>\n",
              "      <td>1.40223</td>\n",
              "      <td>0.94784</td>\n",
              "      <td>0.62877</td>\n",
              "      <td>0.14145</td>\n",
              "      <td>0.43630</td>\n",
              "      <td>2.70201</td>\n",
              "    </tr>\n",
              "    <tr>\n",
              "      <th>2</th>\n",
              "      <td>Denmark</td>\n",
              "      <td>Western Europe</td>\n",
              "      <td>3</td>\n",
              "      <td>7.527</td>\n",
              "      <td>0.03328</td>\n",
              "      <td>1.32548</td>\n",
              "      <td>1.36058</td>\n",
              "      <td>0.87464</td>\n",
              "      <td>0.64938</td>\n",
              "      <td>0.48357</td>\n",
              "      <td>0.34139</td>\n",
              "      <td>2.49204</td>\n",
              "    </tr>\n",
              "    <tr>\n",
              "      <th>3</th>\n",
              "      <td>Norway</td>\n",
              "      <td>Western Europe</td>\n",
              "      <td>4</td>\n",
              "      <td>7.522</td>\n",
              "      <td>0.03880</td>\n",
              "      <td>1.45900</td>\n",
              "      <td>1.33095</td>\n",
              "      <td>0.88521</td>\n",
              "      <td>0.66973</td>\n",
              "      <td>0.36503</td>\n",
              "      <td>0.34699</td>\n",
              "      <td>2.46531</td>\n",
              "    </tr>\n",
              "    <tr>\n",
              "      <th>4</th>\n",
              "      <td>Canada</td>\n",
              "      <td>North America</td>\n",
              "      <td>5</td>\n",
              "      <td>7.427</td>\n",
              "      <td>0.03553</td>\n",
              "      <td>1.32629</td>\n",
              "      <td>1.32261</td>\n",
              "      <td>0.90563</td>\n",
              "      <td>0.63297</td>\n",
              "      <td>0.32957</td>\n",
              "      <td>0.45811</td>\n",
              "      <td>2.45176</td>\n",
              "    </tr>\n",
              "  </tbody>\n",
              "</table>\n",
              "</div>"
            ],
            "text/plain": [
              "       Country          Region  ...  Generosity  Dystopia Residual\n",
              "0  Switzerland  Western Europe  ...     0.29678            2.51738\n",
              "1      Iceland  Western Europe  ...     0.43630            2.70201\n",
              "2      Denmark  Western Europe  ...     0.34139            2.49204\n",
              "3       Norway  Western Europe  ...     0.34699            2.46531\n",
              "4       Canada   North America  ...     0.45811            2.45176\n",
              "\n",
              "[5 rows x 12 columns]"
            ]
          },
          "metadata": {
            "tags": []
          },
          "execution_count": 7
        }
      ]
    },
    {
      "cell_type": "markdown",
      "metadata": {
        "id": "fKxKeRna72eC"
      },
      "source": [
        "Recall that each number represents the extent to which each factor contributes to the happiness score.\n",
        "\n",
        "However, not only is this definition a little hard to understand, but it can also be challenging to analyze all of these numbers across multiple columns. Instead, we can first convert these numbers to categories that indicate whether the factor has a high impact on the happiness score or a low impact using the following function:\n",
        "\n",
        "```\n",
        "def label(element):\n",
        "    if element > 1:\n",
        "        return 'High'\n",
        "    else:\n",
        "        return 'Low'\n",
        "```\n",
        "Although pandas provides many built-in functions for common data cleaning tasks, in this case, the tranformation we need to perform is so specific to our data that one doesn't exist. Luckily, pandas has a couple methods that can be used to apply a custom function like the one above to our data, starting with the following two methods:\n",
        "\n",
        "1. `Series.map()` [method](https://pandas.pydata.org/pandas-docs/stable/reference/api/pandas.Series.map.html)\n",
        "2. `Series.apply()` [method](https://pandas.pydata.org/pandas-docs/stable/reference/api/pandas.Series.apply.html)\n",
        "\n",
        "Both methods above apply a function element-wise to a column. When we say element-wise, we mean that we pass the function one value in the series at a time and it performs some kind of transformation.\n",
        "\n",
        "![img](https://s3.amazonaws.com/dq-content/345/Map_generic.svg)\n",
        "\n",
        "We use the following syntax for both methods:\n",
        "\n",
        "![img](https://s3.amazonaws.com/dq-content/345/Map_Apply_Syntax.svg)\n",
        "\n",
        "Note that these methods both take a function as a parameter. Because we're using the function as a parameter, we pass it into the function without the parentheses. For example, if we were working with a function called `transform`, we'd pass it into the `apply()` method as follows:\n",
        "\n",
        "```\n",
        "def transform(val):\n",
        "    return val\n",
        "Series.apply(transform)\n",
        "```\n",
        "\n",
        "Let's compare the two methods in the next exercise."
      ]
    },
    {
      "cell_type": "markdown",
      "metadata": {
        "id": "79bi6Q8A81W7"
      },
      "source": [
        "**Instructions:**\n",
        "\n",
        "- Use the `Series.map()` method to apply the `label` function to the `Economy` column in `happiness2015`. Assign the result to `economy_impact_map`.\n",
        "- Use the `Series.apply()` method to apply the function to the `Economy` column. Assign the result to `economy_impact_apply`.\n",
        "- Use the following code to check if the methods produce the same result: `economy_impact_map.equals(economy_impact_apply)`. Assign the result to a variable named equal."
      ]
    },
    {
      "cell_type": "code",
      "metadata": {
        "id": "uw0OPTCF9HWd"
      },
      "source": [
        "# Provided code\n",
        "def label(element):\n",
        "    if element > 1:\n",
        "        return 'High'\n",
        "    else:\n",
        "        return 'Low'"
      ],
      "execution_count": null,
      "outputs": []
    },
    {
      "cell_type": "code",
      "metadata": {
        "id": "QguXk9Y_onmn"
      },
      "source": [
        "# Solution\n",
        "\n",
        "economy_impact_map = happiness2015['Economy'].map(label)\n",
        "economy_impact_apply = happiness2015['Economy'].apply(label)\n",
        "equal = economy_impact_map.equals(economy_impact_apply)"
      ],
      "execution_count": null,
      "outputs": []
    },
    {
      "cell_type": "markdown",
      "metadata": {
        "id": "lFqx5vYPGKaj"
      },
      "source": [
        "##3. Apply a Function Element-wise Using the Map and Apply Methods Continued"
      ]
    },
    {
      "cell_type": "markdown",
      "metadata": {
        "id": "KxWYlkACGKm_"
      },
      "source": [
        "In the last exercise, we applied a function to the `Economy` column using the `Series.map()` and `Series.apply()` methods and confirmed that both methods produce the same results.\n",
        "\n",
        "Note that these methods don't modify the original series. If we want to work with the new series in the original dataframe, we must either assign the results back to the original column or create a new column. We recommend creating a new column, in case you need to reference the original values. Let's do that next:\n",
        "\n",
        "```\n",
        "def label(element):\n",
        "    if element > 1:\n",
        "        return 'High'\n",
        "    else:\n",
        "        return 'Low'\n",
        "happiness2015['Economy Impact'] = happiness2015['Economy'].map(label)\n",
        "```\n",
        "Below are the first couple rows of the `Economy` and `Economy Impact` columns.\n",
        "\n",
        "||Economy |Economy Impact|\n",
        "|---|---|---|\n",
        "|0\t|1.39651\t|High\n",
        "|1\t|1.30232\t|High\n",
        "|2\t|1.32548\t|High\n",
        "|3\t|1.45900\t|High\n",
        "|4\t|1.32629\t|High\n",
        "\n",
        "To create the `Economy Impact` column, `map()` and `apply()` iterate through the `Economy` column and pass each value into the `label` function. The function evaluates which range the value belongs to and assigns the corresponding value to the element in the new column.\n",
        "\n",
        "![img](https://s3.amazonaws.com/dq-content/345/Map.svg)\n",
        "\n",
        "Since both `map` and apply can apply functions element-wise to a series, you may be wondering about the difference between them. Let's start by looking at a function with arguments.\n",
        "\n",
        "In the `label` function, we arbitrarily split the values into 'High' and 'Low'. What if instead we allowed that number to be passed into the function as an argument?\n",
        "\n",
        "```\n",
        "def label(element, x):\n",
        "    if element > x:\n",
        "        return 'High'\n",
        "    else:\n",
        "        return 'Low'\n",
        "economy_map = happiness2015['Economy'].map(label, x = .8)\n",
        "```\n",
        "When we try to apply the function to the `Economy` column with the `map` method, we get an error:\n",
        "```\n",
        "TypeError: map() got an unexpected keyword argument 'x'\n",
        "```\n",
        "Let's confirm the behavior of the `apply` method next.\n",
        "\n",
        "\n",
        "**Instructions:**\n",
        "\n",
        "- Update `label` to take in another argument named `x`. If the `element` is greater than `x`, return 'High'. Otherwise, return 'Low'.\n",
        "- Then, use the `apply` method to apply `label` to the `Economy` column and set the `x` argument to `0.8`. Save the result back to `economy_impact_apply`.\n"
      ]
    },
    {
      "cell_type": "code",
      "metadata": {
        "id": "2pH7oqEfJM9Z"
      },
      "source": [
        "# Provided code\n",
        "def label(element):\n",
        "    if element > 1:\n",
        "        return 'High'\n",
        "    else:\n",
        "        return 'Low'\n",
        "economy_impact_apply = happiness2015['Economy'].apply(label)"
      ],
      "execution_count": null,
      "outputs": []
    },
    {
      "cell_type": "code",
      "metadata": {
        "id": "pXdWmQG9o8LC"
      },
      "source": [
        "# Solution\n",
        "\n",
        "def label(element, x):\n",
        "    if element > x:\n",
        "        return 'High'\n",
        "    else:\n",
        "        return 'Low'\n",
        "economy_impact_apply = happiness2015['Economy'].apply(label, x = .8)"
      ],
      "execution_count": null,
      "outputs": []
    },
    {
      "cell_type": "markdown",
      "metadata": {
        "id": "UJ6zgpTiGKwg"
      },
      "source": [
        "##4. Apply a Function Element-wise to Multiple Columns Using Applymap Method"
      ]
    },
    {
      "cell_type": "markdown",
      "metadata": {
        "id": "MeEtOYlRGK5n"
      },
      "source": [
        "We learned in the last screen that we can only use the `Series.apply()` method to apply a function with additional arguments element-wise - the `Series.map()` method will return an error.\n",
        "\n",
        "So far, we've transformed just one column at a time. If we wanted to transform more than one column, we could use the `Series.map()` or `Series.apply()` method to transform them as follows:\n",
        "\n",
        "```\n",
        "def label(element):\n",
        "    if element > 1:\n",
        "        return 'High'\n",
        "    else:\n",
        "        return 'Low'\n",
        "happiness2015['Economy Impact'] = happiness2015['Economy'].apply(label)\n",
        "happiness2015['Health Impact'] = happiness2015['Health'].apply(label)\n",
        "happiness2015['Family Impact'] = happiness2015['Family'].apply(label)\n",
        "```\n",
        "\n",
        "However, it would be easier to just apply the same function to all of the factor columns (`Economy`, `Health`, `Family`, `Freedom`, `Generosity`, `Trust`) at once. Fortunately, however, pandas already has a method that can apply functions element-wise to multiple columns at once - the `DataFrame.applymap()` [method](https://pandas.pydata.org/pandas-docs/stable/generated/pandas.DataFrame.applymap.html).\n",
        "\n",
        "We'll use the following syntax to work with the `df.applymap()` method:\n",
        "![img](https://s3.amazonaws.com/dq-content/345/Applymap_syntax.svg)\n",
        "\n",
        "Just like with the `Series.map()` and `Series.apply()` methods, we need to pass the function name into the `df.applymap()` method without parentheses.\n",
        "\n",
        "Let's practice using the `df.applymap()` method next."
      ]
    },
    {
      "cell_type": "markdown",
      "metadata": {
        "id": "-E9Y4bPjmWky"
      },
      "source": [
        "**Instructions:**\n",
        "\n",
        "We've already created a list named `factors` containing the column names for the six factors that contribute to the happiness score.\n",
        "\n",
        "- Use the `df.applymap()` method to apply the `label` function to the columns saved in `factors` in `happiness2015`. Assign the result to `factors_impact`."
      ]
    },
    {
      "cell_type": "code",
      "metadata": {
        "id": "wpmpyG9lxcMh"
      },
      "source": [
        "# Provided code\n",
        "def label(element):\n",
        "    if element > 1:\n",
        "        return 'High'\n",
        "    else:\n",
        "        return 'Low'\n",
        "economy_apply = happiness2015['Economy'].apply(label)\n",
        "factors = ['Economy', 'Family', 'Health', 'Freedom', 'Trust', 'Generosity']\n"
      ],
      "execution_count": null,
      "outputs": []
    },
    {
      "cell_type": "code",
      "metadata": {
        "id": "KmMRHLKbpEq7"
      },
      "source": [
        "# Solution\n",
        "\n",
        "factors_impact = happiness2015[factors].applymap(label)\n"
      ],
      "execution_count": null,
      "outputs": []
    },
    {
      "cell_type": "markdown",
      "metadata": {
        "id": "GLFcek02GLCK"
      },
      "source": [
        "##5. Apply Functions along an Axis using the Apply Method"
      ]
    },
    {
      "cell_type": "markdown",
      "metadata": {
        "id": "eZzGx8mqGLKc"
      },
      "source": [
        "In the last exercise, we learned that we can apply a function element-wise to multiple columns using the `df.applymap()` method."
      ]
    },
    {
      "cell_type": "code",
      "metadata": {
        "id": "eR-PHih2mqOU"
      },
      "source": [
        "def label(element):\n",
        "    if element > 1:\n",
        "        return 'High'\n",
        "    else:\n",
        "        return 'Low'\n",
        "factors = ['Economy', 'Family', 'Health', 'Freedom', 'Trust', 'Generosity'] \n",
        "factors_impact = happiness2015[factors].applymap(label)"
      ],
      "execution_count": null,
      "outputs": []
    },
    {
      "cell_type": "code",
      "metadata": {
        "id": "UdDD8mOdpSsu"
      },
      "source": [
        "factors_impact.head()"
      ],
      "execution_count": null,
      "outputs": []
    },
    {
      "cell_type": "markdown",
      "metadata": {
        "id": "TuzEANCVpUq6"
      },
      "source": [
        "We can see from the results that, according to our definition, the Economy and Family columns had a high impact on the happiness scores of the first five countries.\n",
        "\n",
        "Let's summarize what we learned so far:\n",
        "\n",
        "|Method|Series or Dataframe Method|Applies Functions Element-wise?|\n",
        "|---|---|---|\n",
        "|Map|Series|Yes|\n",
        "|Apply|Series|Yes|\n",
        "|Applymap|Dataframe|Yes|\n",
        "\n",
        "You can also use the `apply()` method on a dataframe, but the `DataFrame.apply()` [method](https://pandas.pydata.org/pandas-docs/stable/reference/api/pandas.DataFrame.apply.html) has different capabilities. Instead of applying functions element-wise, the `df.apply()` method applies functions along an axis, either column-wise or row-wise. When we create a function to use with `df.apply()`, we set it up to accept a series, most commonly a column.\n",
        "\n",
        "Let's use the `df.apply()` method to calculate the number of 'High' and 'Low' values in each column of the result from the last exercise, `factors_impact`. In order to do so, we'll apply the `pd.value_counts` function to all of the columns in the dataframe:\n",
        "\n"
      ]
    },
    {
      "cell_type": "code",
      "metadata": {
        "id": "s5MKXUWtyfqJ"
      },
      "source": [
        "factors_impact.apply(pd.value_counts)"
      ],
      "execution_count": null,
      "outputs": []
    },
    {
      "cell_type": "markdown",
      "metadata": {
        "id": "Lzf-lbjTyh_s"
      },
      "source": [
        "Now, we can easily see that the `Family` and `Economy` columns contain the most 'High' values!\n",
        "\n",
        "When we applied the `pd.value_counts` [function](https://pandas.pydata.org/pandas-docs/stable/reference/api/pandas.Series.value_counts.html) to `factors_impact`, it calculated the value counts for the first column, `Economy`, then the second column, `Family`, so on and so forth:\n",
        "\n",
        "![img](https://s3.amazonaws.com/dq-content/345/Apply_counts.svg)\n",
        "\n",
        "Notice that we used the `df.apply()` method to transform multiple columns. This is only possible because the `pd.value_counts` function operates on a series. If we tried to use the `df.apply()` method to apply a function that works *element-wise* to multiple columns, we'd get an error:\n",
        "\n",
        "```\n",
        "def label(element):\n",
        "    if element > 1:\n",
        "        return 'High'\n",
        "    else:\n",
        "        return 'Low'\n",
        "happiness2015[factors].apply(label)\n",
        "```\n",
        "```\n",
        "ValueError: ('The truth value of a Series is ambiguous. Use a.empty, a.bool(), a.item(), a.any() or a.all().', u'occurred at index Economy')\n",
        "```\n",
        "\n",
        "Let's practice using the `df.apply()` method in the next exercise.\n",
        "\n"
      ]
    },
    {
      "cell_type": "markdown",
      "metadata": {
        "id": "SOsfWwes0QIE"
      },
      "source": [
        "**Instructions:**\n",
        "\n",
        "- Create a function that calculates the percentage of 'High' and 'Low' values in each column.\n",
        " - Create a function named `v_counts` that accepts one parameter called `col`.\n",
        " - Use the `Series.value_counts()` method to calculate the value counts for `col`. Assign the result to `num`.\n",
        " - Use the `Series.size` attribute to calculate the number of rows in the column. Assign the result to `den`.\n",
        " - Divide `num` by `den` and return the result.\n",
        "- Use the `df.apply()` method to apply the `v_counts` function to all of the columns in `factors_impact`. Assign the result to `v_counts_pct`."
      ]
    },
    {
      "cell_type": "code",
      "metadata": {
        "id": "DSe-zv5m0q-2"
      },
      "source": [
        "# Solution\n",
        "\n",
        "def v_counts(col):\n",
        "    num = col.value_counts()\n",
        "    den = col.size\n",
        "    return num/den\n",
        "v_counts_pct = factors_impact.apply(v_counts)"
      ],
      "execution_count": null,
      "outputs": []
    },
    {
      "cell_type": "markdown",
      "metadata": {
        "id": "rPtJVNpeGLTW"
      },
      "source": [
        "##6. Apply Functions along an Axis using the Apply Method Continued"
      ]
    },
    {
      "cell_type": "markdown",
      "metadata": {
        "id": "62pz74XjGLdF"
      },
      "source": [
        "In the last exercise, we created a function that calculates the percentage of 'High' and 'Low' values in each column and applied it to `factors_impact`:"
      ]
    },
    {
      "cell_type": "code",
      "metadata": {
        "id": "qDOCiwkl2BFn"
      },
      "source": [
        "def v_counts(col):\n",
        "    num = col.value_counts()\n",
        "    den = col.size\n",
        "    return num/den\n",
        "v_counts_pct = factors_impact.apply(v_counts)"
      ],
      "execution_count": null,
      "outputs": []
    },
    {
      "cell_type": "markdown",
      "metadata": {
        "id": "NxSM0YwM2AJ6"
      },
      "source": [
        "The result is a dataframe containing the percentage of 'High' and 'Low' values in each column.\n",
        "\n",
        "In general, we should only use the `apply()` method when a vectorized function does not exist. Recall that pandas uses vectorization, the process of applying operations to whole series at once, to optimize performance. When we use the `apply()` method, we're actually looping through rows, so a vectorized method can perform an equivalent task faster than the `apply()` method.\n",
        "\n",
        "Next, we'll compare two different ways of performing an analysis task. First, we'll use the `df.apply()` method to transform the data. Then, we'll look at an alternate way to perform the same task with vectorized methods.\n",
        "\n",
        "One thing you probably didn't notice about the factor columns is that the sum of the six factors and the `Dystopia Residual` column equals the happiness score:\n",
        "\n"
      ]
    },
    {
      "cell_type": "code",
      "metadata": {
        "id": "1yyNesyB2RVD"
      },
      "source": [
        "#Calculate the sum of the factor columns in each row.\n",
        "happiness2015['Factors Sum'] = happiness2015[['Economy', 'Family', 'Health', 'Freedom', 'Trust', 'Generosity', 'Dystopia Residual']].sum(axis=1)\n",
        "\n",
        "#Display the first five rows of the result and the Happiness Score column.\n",
        "happiness2015[['Happiness Score', 'Factors Sum']].head()"
      ],
      "execution_count": null,
      "outputs": []
    },
    {
      "cell_type": "markdown",
      "metadata": {
        "id": "EW4VRn-J2XsS"
      },
      "source": [
        "The values we calculated in the `Factors Sum` column are slightly different than the values in the `Happiness Score` column, but the differences are so minor that we can attribute them to rounding. Because the sum of the seven columns equal the happiness score, we can convert them to percentages and analyze them as proportions of the happiness score instead.\n",
        "\n",
        "Let's use the `df.apply()` method to convert each of the values in the six factor columns and the `Dystopia Residual` column to percentages."
      ]
    },
    {
      "cell_type": "markdown",
      "metadata": {
        "id": "XYUq-gGp4UbH"
      },
      "source": [
        "**Instructions:**\n",
        "\n",
        "- Create a function that converts each of the six factor columns and the `Dystopia Residual` column to percentages.\n",
        " - Create a function named `percentages` that accepts one parameter called `col`.\n",
        " - Divide `col` by the `Happiness Score` column. Assign the result to `div`.\n",
        " - Multiply `div` by 100 and return the result.\n",
        "- Use the `df.apply()` method to apply the `percentages` function to all of the columns in `factors`. Assign the result to `factor_percentages`."
      ]
    },
    {
      "cell_type": "code",
      "metadata": {
        "id": "aEyHAn3r5HqU"
      },
      "source": [
        "# Provided code\n",
        "factors = ['Economy', 'Family', 'Health', 'Freedom', 'Trust', 'Generosity', 'Dystopia Residual']"
      ],
      "execution_count": null,
      "outputs": []
    },
    {
      "cell_type": "code",
      "metadata": {
        "id": "ZMF9ZVvNxIzX"
      },
      "source": [
        "# Solution\n",
        "\n",
        "factors = ['Economy', 'Family', 'Health', 'Freedom', 'Trust', 'Generosity', 'Dystopia Residual']\n",
        "\n",
        "def percentages(col):\n",
        "    div = col/happiness2015['Happiness Score'] \n",
        "    return div * 100\n",
        "factor_percentages = happiness2015[factors].apply(percentages)"
      ],
      "execution_count": null,
      "outputs": []
    },
    {
      "cell_type": "markdown",
      "metadata": {
        "id": "c07FOJ0BGLmC"
      },
      "source": [
        "##7. Reshaping Data with the Melt Function"
      ]
    },
    {
      "cell_type": "markdown",
      "metadata": {
        "id": "wPhgINp2GLw9"
      },
      "source": [
        "In the last exercise, we used the `df.apply()` method to convert the six factor columns and the `Dystopia Residual` column to percentages. Below are the first five rows of the result:\n",
        "\n",
        "\n",
        "|...|\n",
        "|---|\n",
        "|...|\n",
        "\n",
        "However, it would be easier to convert these numbers into percentages, plot the results, and perform other data analysis tasks if we first reshaped the dataframe so that one column holds the values for all six factors and the `Dystopia Residual` column. We can accomplish this with the `pd.melt()` [function]().\n",
        "\n",
        "To demonstrate this function, let's just work with a subset of `happiness2015` called `happy_two`.\n",
        "\n",
        "|...|\n",
        "|---|\n",
        "|...|\n",
        "\n",
        "Below, we use the `melt` function to reshape `happy_two` so that the values for `Economy`, `Family`, and `Health` reside in the same column:\n",
        "\n"
      ]
    },
    {
      "cell_type": "code",
      "metadata": {
        "id": "EmsrEOlN8Fn-"
      },
      "source": [
        "pd.melt(happy_two, id_vars=['Country'], value_vars=['Economy', 'Family', 'Health'])"
      ],
      "execution_count": null,
      "outputs": []
    },
    {
      "cell_type": "markdown",
      "metadata": {
        "id": "-2JRVYY18G_e"
      },
      "source": [
        "Now, we can use vectorized operations to transform the value column at once!\n",
        "\n",
        "Here's a summary of the syntax we used to work with the melt function:\n",
        "\n",
        "![img](https://s3.amazonaws.com/dq-content/345/Melt_Syntax.svg)\n",
        "\n",
        "Let's reshape all of happiness2015 with the melt function next."
      ]
    },
    {
      "cell_type": "markdown",
      "metadata": {
        "id": "kHbwrvRqO4Vs"
      },
      "source": [
        "**Instructions:**\n",
        "\n",
        "- Use the `melt` function to reshape `happiness2015`. The columns listed in `main_cols` should stay the same. The columns listed in `factors` should be transformed into rows. Assign the result to a variable called `melt`.\n",
        "- Convert the `value` column to a percentage.\n",
        " - Divide the `value` column by the `Happiness Score` column and multiply the result by `100`.\n",
        " - Use the `round()` [function](https://docs.python.org/3/library/functions.html#round) to round the result to 2 decimal places.\n",
        " - Assign the result to a new column called `Percentage`."
      ]
    },
    {
      "cell_type": "code",
      "metadata": {
        "id": "MAoYojcUxTXZ"
      },
      "source": [
        "# Provided code\n",
        "main_cols = ['Country', 'Region', 'Happiness Rank', 'Happiness Score']\n",
        "factors = ['Economy', 'Family', 'Health', 'Freedom', 'Trust', 'Generosity', 'Dystopia Residual']"
      ],
      "execution_count": null,
      "outputs": []
    },
    {
      "cell_type": "code",
      "metadata": {
        "id": "Rm67GEH-xUEC"
      },
      "source": [
        "# Solution\n",
        "\n",
        "melt = pd.melt(happiness2015, id_vars = main_cols, value_vars = factors)\n",
        "melt['Percentage'] = round(melt['value']/melt['Happiness Score'] * 100, 2)\n"
      ],
      "execution_count": null,
      "outputs": []
    },
    {
      "cell_type": "markdown",
      "metadata": {
        "id": "51KJi6vCGL5X"
      },
      "source": [
        "##8. Challenge: Aggregate the Data and Create a Visualization"
      ]
    },
    {
      "cell_type": "markdown",
      "metadata": {
        "id": "SX-DcR4mGMAn"
      },
      "source": [
        "In the last exercise, we used the `melt` function to reshape our data so that we could use vectorized operations to convert the `value` column into percentages."
      ]
    },
    {
      "cell_type": "code",
      "metadata": {
        "id": "5EPS49fGPZde"
      },
      "source": [
        "melt = pd.melt(happiness2015, id_vars = ['Country', 'Region', 'Happiness Rank', 'Happiness Score'], value_vars = ['Economy', 'Family', 'Health', 'Freedom', 'Trust', 'Generosity', 'Dystopia Residual'])\n",
        "melt['Percentage'] = melt['value']/melt['Happiness Score'] * 100"
      ],
      "execution_count": null,
      "outputs": []
    },
    {
      "cell_type": "markdown",
      "metadata": {
        "id": "QMlIDexbGMHf"
      },
      "source": [
        "Below is the result:\n",
        "\n",
        "|...|\n",
        "|---|\n",
        "|...|\n",
        "\n",
        "The `melt` function moved the values in the seven columns - `Economy`, `Health`, `Family`, `Freedom`, `Generosity`, `Trust`, and `Dystopia Residual` - to the same column, which meant we could transform them all at once.\n",
        "\n",
        "You may have also noticed that now the data is in a format that makes it easier to aggregate. We refer to data in this format as tidy data. If you're interested in learning more about the tidy format, you can read about it [here](https://www.jstatsoft.org/article/view/v059i10).\n",
        "\n",
        "Next, let's group the data by the `variable` column, find the mean value of each variable (or factor), and plot the results to see how much each factor contributes to the happiness score on average. In the last mission, we combined the 2015, 2016, and 2017 reports, aggregated the data by the `Year` column using the `df.pivot_table()` method, and then plotted the results as follows:\n",
        "\n"
      ]
    },
    {
      "cell_type": "code",
      "metadata": {
        "id": "Omf7VqiNUdyB"
      },
      "source": [
        "#Concatenate happiness2015, happiness2016, and happiness2017.\n",
        "combined = pd.concat([happiness2015, happiness2016, happiness2017])\n",
        "\n",
        "#Create a pivot table listing the mean happiness score for each year. Since the default aggregation function is the mean, we excluded the `aggfunc` argument.\n",
        "pivot_table_combined = combined.pivot_table(index = 'Year', values = 'Happiness Score')\n",
        "\n",
        "#Plot the pivot table.\n",
        "pivot_table_combined.plot(kind ='barh', title='Mean Happiness Scores by Year', xlim = (0,10))"
      ],
      "execution_count": null,
      "outputs": []
    },
    {
      "cell_type": "markdown",
      "metadata": {
        "id": "AH62nbr4UgYZ"
      },
      "source": [
        "Let's repeat the same task, but this time, we'll group the data by the `variable` column instead of the `Year` column and plot the results using a pie chart.\n",
        "\n"
      ]
    },
    {
      "cell_type": "markdown",
      "metadata": {
        "id": "_XJoOXmOUt9y"
      },
      "source": [
        "**Instructions:**\n",
        "\n",
        "- Use the `df.pivot_table()` method to create a pivot table from the `melt` dataframe. Set the `variable` column as the `index` and the `value` column as the `values`. Assign the result to `pv_melt`.\n",
        "- Use the `df.plot()` method to create a pie chart of the results. Set the `kind` parameter to `'pie'`, the `y` parameter to `'value'`, and the `legend` parameter to `False`, so we can better see the results.\n",
        "- If we disregard `Dystopia Residual`, which two factors, on average, contribute the most to the happiness score?"
      ]
    },
    {
      "cell_type": "code",
      "metadata": {
        "id": "qG1PYGA-VYAx"
      },
      "source": [
        "# Provided code\n",
        "melt = pd.melt(happiness2015, id_vars = ['Country', 'Region', 'Happiness Rank', 'Happiness Score'], value_vars= ['Economy', 'Family', 'Health', 'Freedom', 'Trust', 'Generosity', 'Dystopia Residual'])\n",
        "melt['Percentage'] = round(melt['value']/melt['Happiness Score'] * 100, 2)"
      ],
      "execution_count": null,
      "outputs": []
    },
    {
      "cell_type": "code",
      "metadata": {
        "id": "DrRvxE_OxYFp"
      },
      "source": [
        "# Solution\n",
        "\n",
        "\n"
      ],
      "execution_count": null,
      "outputs": []
    },
    {
      "cell_type": "markdown",
      "metadata": {
        "id": "noTzB3B2Vi1j"
      },
      "source": [
        "\n",
        "\n",
        "---\n",
        "\n",
        "In this mission, we learned how to transform data using the `Series.map()`, `Series.apply()`, `DataFrame.apply()`, and `DataFrame.applymap()` methods along with the `pd.melt()` function. Below is a summary chart of the differences between the `map()`, `apply()`, and `applymap()` methods:\n",
        "\n",
        "\n",
        "\n",
        "\n",
        "|Method|Series or Dataframe Method|Applies Functions Element-wise?|\n",
        "|---|---|---|\n",
        "|Map|Series|Yes|\n",
        "|Apply|Series|Yes|\n",
        "|Applymap|Dataframe|Yes|\n",
        "|Apply | Dataframe | No, applies functions along an axis|\n",
        "\n",
        "\n",
        "As you explore pandas, you'll also find that pandas has a method to \"un-melt\" the data, or transform rows into columns. This method is called the `df.pivot()` [method](https://pandas.pydata.org/pandas-docs/stable/generated/pandas.DataFrame.pivot.html), not to be confused with the `df.pivot_table()` [method](https://pandas.pydata.org/pandas-docs/stable/generated/pandas.DataFrame.pivot.html) used to aggregate data. Although we couldn't cover the `df.pivot()` [method](https://pandas.pydata.org/pandas-docs/stable/reference/api/pandas.DataFrame.pivot.html) explicitly in this mission, we encourage you to explore it on your own.\n",
        "\n",
        "In the next mission, we'll learn how to manipulate strings in pandas as we continue building on what we've learned so far."
      ]
    }
  ]
}