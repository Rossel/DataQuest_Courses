{
  "nbformat": 4,
  "nbformat_minor": 0,
  "metadata": {
    "colab": {
      "name": "017__Introduction_to_pandas",
      "provenance": [],
      "collapsed_sections": [],
      "authorship_tag": "ABX9TyM9cYBUgCbfNbknTkRUFWjc",
      "include_colab_link": true
    },
    "kernelspec": {
      "name": "python3",
      "display_name": "Python 3"
    }
  },
  "cells": [
    {
      "cell_type": "markdown",
      "metadata": {
        "id": "view-in-github",
        "colab_type": "text"
      },
      "source": [
        "<a href=\"https://colab.research.google.com/github/dbro-dev/DataQuest_Courses/blob/master/017__Introduction_to_pandas.ipynb\" target=\"_parent\"><img src=\"https://colab.research.google.com/assets/colab-badge.svg\" alt=\"Open In Colab\"/></a>"
      ]
    },
    {
      "cell_type": "markdown",
      "metadata": {
        "id": "V7IjXd9P79A_",
        "colab_type": "text"
      },
      "source": [
        "# **COURSE 1/6: Pandas and NumPy Fundamentals**"
      ]
    },
    {
      "cell_type": "markdown",
      "metadata": {
        "id": "_l5oGImQIlDD",
        "colab_type": "text"
      },
      "source": [
        "*Learn how to use the pandas library to work with data.*"
      ]
    },
    {
      "cell_type": "markdown",
      "metadata": {
        "id": "MeTs-SuH8EmP",
        "colab_type": "text"
      },
      "source": [
        "## **MISSION 3: Introduction to pandas**"
      ]
    },
    {
      "cell_type": "markdown",
      "metadata": {
        "id": "dxBjnFobdn8i",
        "colab_type": "text"
      },
      "source": [
        "In this mission, we learn:\n",
        "\n",
        "* How pandas and NumPy combine to make working with data easier.\n",
        "* About the two core pandas types: series and dataframes.\n",
        "* How to select data from pandas objects using axis labels."
      ]
    },
    {
      "cell_type": "markdown",
      "metadata": {
        "id": "Kth9EoWj8GWC",
        "colab_type": "text"
      },
      "source": [
        "**1. Understanding pandas and NumPy**"
      ]
    },
    {
      "cell_type": "markdown",
      "metadata": {
        "id": "bqZQCLyaI9I-",
        "colab_type": "text"
      },
      "source": [
        "Numpy is cool, but it has its shortcomings:\n",
        "* The lack of support for column names forces us to frame questions as multi-dimensional array operations.\n",
        "* Support for only one data type per ndarray makes it more difficult to work with data that contains both numeric and string data.\n",
        "* There are lots of low level methods, but there are many common analysis patterns that don't have pre-built methods."
      ]
    },
    {
      "cell_type": "markdown",
      "metadata": {
        "id": "dlLjjeSV82Xk",
        "colab_type": "text"
      },
      "source": [
        "The pandas library provides solutions to all of these pain points and more. Pandas is not so much a replacement for NumPy as **an extension of NumPy**. The underlying code for pandas uses the NumPy library extensively, which means the NumPy concepts you've been learning will come in handy as you begin to learn more about pandas."
      ]
    },
    {
      "cell_type": "markdown",
      "metadata": {
        "id": "LIINy6C_J49Y",
        "colab_type": "text"
      },
      "source": [
        "The primary data structure in pandas is called a dataframe. Dataframes are the pandas equivalent of a Numpy 2D ndarray, with a few key differences:\n",
        "\n",
        "* Axis values can have **string labels**, not just numeric ones.\n",
        "* Dataframes **can contain columns with multiple data types: including integer, float, and strin**g."
      ]
    },
    {
      "cell_type": "markdown",
      "metadata": {
        "id": "b0h0SKLnKR1v",
        "colab_type": "text"
      },
      "source": [
        "![alt text](https://s3.amazonaws.com/dq-content/291/df_anatomy_static_resized.svg)"
      ]
    },
    {
      "cell_type": "markdown",
      "metadata": {
        "id": "_emNPo5z8IO8",
        "colab_type": "text"
      },
      "source": [
        "**2. Introduction to the Data**"
      ]
    },
    {
      "cell_type": "markdown",
      "metadata": {
        "id": "J5LR0GvKYIcb",
        "colab_type": "text"
      },
      "source": [
        "For this course, we will work with a data set from [Fortune](https://fortune.com/) magazine's 2017 [Global 500 list](https://en.wikipedia.org/wiki/Fortune_Global_500), which ranks the top 500 corporations worldwide by revenue. The data set was originally compiled [here](https://data.world/chasewillden/fortune-500-companies-2017); however, we modified the original data set to make it more accessible.\n",
        "\n",
        "![Fortune_500_logo](https://s3.amazonaws.com/dq-content/291/fortune-500.jpg)"
      ]
    },
    {
      "cell_type": "markdown",
      "metadata": {
        "id": "NgKi8jCp83Fd",
        "colab_type": "text"
      },
      "source": [
        "Below is the code to import pandas and use the `pandas.read_csv()` function to read the CSV into a dataframe and assign it to the variable name f500. \n",
        "\n",
        "```\n",
        "import pandas as pd\n",
        "f500 = pd.read_csv('f500.csv',index_col=0)\n",
        "f500.index.name = None\n",
        "\n",
        "```\n",
        "\n",
        "\n",
        "\n"
      ]
    },
    {
      "cell_type": "markdown",
      "metadata": {
        "id": "SU7JaItISOvF",
        "colab_type": "text"
      },
      "source": [
        "In Google Colab however, it is a bit more complicated to load a .csv to work with. The fields below show how it is done:"
      ]
    },
    {
      "cell_type": "code",
      "metadata": {
        "id": "j6kOVZEKPY3g",
        "colab_type": "code",
        "colab": {}
      },
      "source": [
        "# Code to read csv file into Colaboratory:\n",
        "!pip install -U -q PyDrive\n",
        "from pydrive.auth import GoogleAuth\n",
        "from pydrive.drive import GoogleDrive\n",
        "from google.colab import auth\n",
        "from oauth2client.client import GoogleCredentials\n",
        "\n",
        "# Authenticate and create the PyDrive client.\n",
        "auth.authenticate_user()\n",
        "gauth = GoogleAuth()\n",
        "gauth.credentials = GoogleCredentials.get_application_default()\n",
        "drive = GoogleDrive(gauth)"
      ],
      "execution_count": null,
      "outputs": []
    },
    {
      "cell_type": "code",
      "metadata": {
        "id": "Z6uF4WS6Pi42",
        "colab_type": "code",
        "colab": {}
      },
      "source": [
        "# Once you have completed verification, go to the CSV file in Google Drive, right-click on it and select “Get shareable link”, and cut out the unique id in the link.\n",
        "id = \"1sp668oBm1G7vQbgCpw8zH-fnD1IJd9Ut\""
      ],
      "execution_count": null,
      "outputs": []
    },
    {
      "cell_type": "code",
      "metadata": {
        "id": "Akc_DE5cyZep",
        "colab_type": "code",
        "colab": {}
      },
      "source": [
        "# Download the dataset\n",
        "downloaded = drive.CreateFile({'id':id}) \n",
        "downloaded.GetContentFile('f500.csv')"
      ],
      "execution_count": null,
      "outputs": []
    },
    {
      "cell_type": "code",
      "metadata": {
        "id": "p9j7ymq6Np_r",
        "colab_type": "code",
        "colab": {}
      },
      "source": [
        "# Import code which is similar to the original code above\n",
        "import pandas as pd\n",
        "f500 = pd.read_csv('f500.csv',index_col=0)\n",
        "f500.index.name = None"
      ],
      "execution_count": null,
      "outputs": []
    },
    {
      "cell_type": "markdown",
      "metadata": {
        "id": "3zkGdYl4zZDH",
        "colab_type": "text"
      },
      "source": [
        "Like NumPy's ndarrays, pandas' dataframes have a `.shape` attribute which returns a tuple representing the dimensions of each axis of the object. We'll use that and Python's `type()` function to inspect the `f500` dataframe."
      ]
    },
    {
      "cell_type": "code",
      "metadata": {
        "id": "x6Wv1qonzMlK",
        "colab_type": "code",
        "colab": {
          "base_uri": "https://localhost:8080/",
          "height": 51
        },
        "outputId": "e7923e9a-41be-476d-bc72-da82f6a7d9f1"
      },
      "source": [
        "f500_type = type(f500)\n",
        "print(f500_type)\n",
        "\n",
        "f500_shape = f500.shape\n",
        "print(f500_shape)"
      ],
      "execution_count": null,
      "outputs": [
        {
          "output_type": "stream",
          "text": [
            "<class 'pandas.core.frame.DataFrame'>\n",
            "(500, 16)\n"
          ],
          "name": "stdout"
        }
      ]
    },
    {
      "cell_type": "markdown",
      "metadata": {
        "id": "Twq3dQJ0XTgW",
        "colab_type": "text"
      },
      "source": [
        "This lets us know our data has 500 rows and 16 columns, and is stored as a `pandas.core.frame.DataFrame` object — or just dataframe, the primary pandas data structure."
      ]
    },
    {
      "cell_type": "markdown",
      "metadata": {
        "id": "Syi6Xuhb8HW6",
        "colab_type": "text"
      },
      "source": [
        "**3. Introducing DataFrames**"
      ]
    },
    {
      "cell_type": "markdown",
      "metadata": {
        "id": "2Zn2FveY83ib",
        "colab_type": "text"
      },
      "source": [
        "To view the first few rows of our dataframe, we can use the `DataFrame.head()` method. By default, it will return the first five rows of our dataframe. However, it also accepts an optional integer parameter, which specifies the number of rows.\n",
        "\n",
        "We can use the `DataFrame.tail()` method to show us the last rows of our dataframe."
      ]
    },
    {
      "cell_type": "code",
      "metadata": {
        "id": "1Es_sz8QX9ZA",
        "colab_type": "code",
        "colab": {
          "base_uri": "https://localhost:8080/",
          "height": 357
        },
        "outputId": "b30c7815-6b3a-4403-855c-f400711f157c"
      },
      "source": [
        "f500_head = f500.head(6)\n",
        "print(f500_head)\n",
        "\n",
        "f500_tail = f500.tail(8)\n",
        "print(f500_tail)"
      ],
      "execution_count": null,
      "outputs": [
        {
          "output_type": "stream",
          "text": [
            "                          rank  revenues  ...  employees  total_stockholder_equity\n",
            "Walmart                      1    485873  ...    2300000                     77798\n",
            "State Grid                   2    315199  ...     926067                    209456\n",
            "Sinopec Group                3    267518  ...     713288                    106523\n",
            "China National Petroleum     4    262573  ...    1512048                    301893\n",
            "Toyota Motor                 5    254694  ...     364445                    157210\n",
            "Volkswagen                   6    240264  ...     626715                     97753\n",
            "\n",
            "[6 rows x 16 columns]\n",
            "                                       rank  ...  total_stockholder_equity\n",
            "Telecom Italia                          493  ...                     22366\n",
            "Xiamen ITG Holding Group                494  ...                      1066\n",
            "Xinjiang Guanghui Industry Investment   495  ...                      4563\n",
            "Teva Pharmaceutical Industries          496  ...                     33337\n",
            "New China Life Insurance                497  ...                      8507\n",
            "Wm. Morrison Supermarkets               498  ...                      5111\n",
            "TUI                                     499  ...                      3006\n",
            "AutoNation                              500  ...                      2310\n",
            "\n",
            "[8 rows x 16 columns]\n"
          ],
          "name": "stdout"
        }
      ]
    },
    {
      "cell_type": "markdown",
      "metadata": {
        "id": "6gxHd8hF8IoI",
        "colab_type": "text"
      },
      "source": [
        "**4. Introducing DataFrames Continued**"
      ]
    },
    {
      "cell_type": "markdown",
      "metadata": {
        "id": "roUJpNkA84CP",
        "colab_type": "text"
      },
      "source": [
        "We can use the `DataFrame.dtypes` attribute (similar to NumPy's `ndarray.dtype` attribute) to return information about the types of each column.\n",
        "\n",
        "If we wanted an overview of all the dtypes used in our dataframe, along with its shape and other information, we could use the `DataFrame.info()` method. Note that `DataFrame.info()` prints the information, rather than returning it, so we can't assign it to a variable."
      ]
    },
    {
      "cell_type": "code",
      "metadata": {
        "id": "Mj-tRTiXZL7g",
        "colab_type": "code",
        "colab": {
          "base_uri": "https://localhost:8080/",
          "height": 408
        },
        "outputId": "764666d2-f1dc-471a-a76a-4a83672799d6"
      },
      "source": [
        "f500.info()"
      ],
      "execution_count": null,
      "outputs": [
        {
          "output_type": "stream",
          "text": [
            "<class 'pandas.core.frame.DataFrame'>\n",
            "Index: 500 entries, Walmart to AutoNation\n",
            "Data columns (total 16 columns):\n",
            " #   Column                    Non-Null Count  Dtype  \n",
            "---  ------                    --------------  -----  \n",
            " 0   rank                      500 non-null    int64  \n",
            " 1   revenues                  500 non-null    int64  \n",
            " 2   revenue_change            498 non-null    float64\n",
            " 3   profits                   499 non-null    float64\n",
            " 4   assets                    500 non-null    int64  \n",
            " 5   profit_change             436 non-null    float64\n",
            " 6   ceo                       500 non-null    object \n",
            " 7   industry                  500 non-null    object \n",
            " 8   sector                    500 non-null    object \n",
            " 9   previous_rank             500 non-null    int64  \n",
            " 10  country                   500 non-null    object \n",
            " 11  hq_location               500 non-null    object \n",
            " 12  website                   500 non-null    object \n",
            " 13  years_on_global_500_list  500 non-null    int64  \n",
            " 14  employees                 500 non-null    int64  \n",
            " 15  total_stockholder_equity  500 non-null    int64  \n",
            "dtypes: float64(3), int64(7), object(6)\n",
            "memory usage: 66.4+ KB\n"
          ],
          "name": "stdout"
        }
      ]
    },
    {
      "cell_type": "markdown",
      "metadata": {
        "id": "Vf8KgcdJ8I_p",
        "colab_type": "text"
      },
      "source": [
        "**5. Selecting a Column From a DataFrame by Label**"
      ]
    },
    {
      "cell_type": "markdown",
      "metadata": {
        "id": "aENvibps84mo",
        "colab_type": "text"
      },
      "source": [
        "Because our axes in pandas have labels, we can select data using those labels — unlike in NumPy, where we needed to know the exact index location. To do this, we can use the `DataFrame.loc[]` attribute. The syntax for `DataFrame.loc[]` is:\n",
        "```\n",
        "df.loc[row_label, column_label]\n",
        "```\n",
        "Notice that we use brackets ([ ]) instead of parentheses (( )) when selecting by location.\n",
        "\n",
        "\n",
        "```\n",
        "f500_selection.loc[:,\"rank\"]\n",
        "```\n",
        "\n"
      ]
    },
    {
      "cell_type": "markdown",
      "metadata": {
        "id": "b3UhNqIsdxr6",
        "colab_type": "text"
      },
      "source": [
        "We can also use the following shortcut to select a single column:\n",
        "```\n",
        "rank_col = f500_selection[\"rank\"]\n",
        "```\n",
        "\n"
      ]
    },
    {
      "cell_type": "code",
      "metadata": {
        "id": "bZ5iHad0d9YC",
        "colab_type": "code",
        "colab": {
          "base_uri": "https://localhost:8080/",
          "height": 34
        },
        "outputId": "b41fa888-5543-4f3c-ef2d-45bcd5382787"
      },
      "source": [
        "# Select the industry column. Assign the result to the variable name industries.\n",
        "\n",
        "industries = f500[\"industry\"]\n",
        "industries_type = type(industries)\n",
        "print(industries_type)"
      ],
      "execution_count": null,
      "outputs": [
        {
          "output_type": "stream",
          "text": [
            "<class 'pandas.core.series.Series'>\n"
          ],
          "name": "stdout"
        }
      ]
    },
    {
      "cell_type": "markdown",
      "metadata": {
        "id": "DaN_7EFbevS5",
        "colab_type": "text"
      },
      "source": [
        "A 1D pandas object is called a **series**,\n",
        "a 2D pandas object is a **dataframe**."
      ]
    },
    {
      "cell_type": "markdown",
      "metadata": {
        "id": "zkZjIU_V8JaM",
        "colab_type": "text"
      },
      "source": [
        "**6. Introduction to Series**"
      ]
    },
    {
      "cell_type": "markdown",
      "metadata": {
        "id": "2vBT3KDn86Gm",
        "colab_type": "text"
      },
      "source": [
        "You can think of a dataframe as a **collection of series objects**, which is similar to how pandas stores the data behind the scenes."
      ]
    },
    {
      "cell_type": "markdown",
      "metadata": {
        "id": "XyHuFaGffKrh",
        "colab_type": "text"
      },
      "source": [
        "![alt text](https://s3.amazonaws.com/dq-content/291/df_exploded_resized.svg)\n",
        "As we continue learning how to select data, pay attention to which objects are dataframes and which objects are series."
      ]
    },
    {
      "cell_type": "markdown",
      "metadata": {
        "id": "Hk2WZV0U8M2H",
        "colab_type": "text"
      },
      "source": [
        "**7. Selecting Columns From a DataFrame by Label Continued**"
      ]
    },
    {
      "cell_type": "markdown",
      "metadata": {
        "id": "qFRvu51C86k_",
        "colab_type": "text"
      },
      "source": [
        "A summary of the techniques we've learned so far is below:\n",
        "\n",
        "|Select by Label |\tExplicit Syntax |\tCommon Shorthand|\n",
        "| --- | --- | ---|\n",
        "| Single column from dataframe |\t`df.loc[:,\"col1\"]` |\t`df[\"col1\"]` |\n",
        "| List of columns from dataframe |\t`df.loc[:,[\"col1\", \"col7\"]]` |\t`df[[\"col1\", \"col7\"]]` |\n",
        "| Slice of columns from dataframe|\t`df.loc[:,\"col1\":\"col4\"]` |\t- |\n"
      ]
    },
    {
      "cell_type": "markdown",
      "metadata": {
        "id": "7CIJN48mngqL",
        "colab_type": "text"
      },
      "source": [
        "Instructions:\n",
        "1. Select the `country` column. Assign the result to the variable name countries.\n",
        "2. In order, select the `revenues` and `years_on_global_500_list`\n",
        "3. In order, select all columns from `ceo` up to and including `sector`. Assign the result to the variable name `ceo_to_sector`.\n",
        "\n"
      ]
    },
    {
      "cell_type": "code",
      "metadata": {
        "id": "K-6I5yohnhMH",
        "colab_type": "code",
        "colab": {}
      },
      "source": [
        "countries = f500[\"country\"] # Or f500.loc[:,\"country\"]\n",
        "revenues_years = f500[[\"revenues\", \"years_on_global_500_list\"]] # Or f500.loc[:,[\"revenues\", \"years_on_global_500_list\"]]\n",
        "ceo_to_sector = f500.loc[:,\"ceo\":\"sector\"]"
      ],
      "execution_count": null,
      "outputs": []
    },
    {
      "cell_type": "markdown",
      "metadata": {
        "id": "NGXY1kHk8Na_",
        "colab_type": "text"
      },
      "source": [
        "**8. Selecting Rows From a DataFrame by Label**"
      ]
    },
    {
      "cell_type": "markdown",
      "metadata": {
        "id": "3cRJhdYzxX70",
        "colab_type": "text"
      },
      "source": [
        "|Select by Label |\tExplicit Syntax |\tCommon Shorthand|\n",
        "| --- | --- | ---|\n",
        "| Single row from dataframe |\t`df.loc[\"row4\"]` \t| |\n",
        "| List of rows from dataframe |\t`df.loc[[\"row1\", \"row8\"]]` \t| |\n",
        "|Slice of rows from dataframe |\t`df.loc[\"row3\":\"row5\"]` |\t`df[\"row3\":\"row5\"]`|"
      ]
    },
    {
      "cell_type": "markdown",
      "metadata": {
        "id": "GbRZMLyP87Al",
        "colab_type": "text"
      },
      "source": [
        "\n",
        "\n",
        "```\n",
        "# Select a single row\n",
        "single_row = f500_selection.loc[\"Sinopec Group\"]\n",
        "\n",
        "# Select a list of rows\n",
        "list_rows = f500_selection.loc[[\"Toyota Motor\", \"Walmart\"]]\n",
        "\n",
        "# Select a slice object with labels\n",
        "slice_rows = f500_selection[\"State Grid\":\"Toyota Motor\"]\n",
        "```\n",
        "\n"
      ]
    },
    {
      "cell_type": "markdown",
      "metadata": {
        "id": "e2sCF0YXpu_r",
        "colab_type": "text"
      },
      "source": [
        "\n",
        "1. Create a new variable `toyota`, with:\n",
        "* Just the row with index `Toyota Motor`.\n",
        "* All columns.\n",
        "2. Create a new variable, `drink_companies`, with:\n",
        "* Rows with indicies `Anheuser-Busch InBev`, `Coca-Cola`, and `Heineken Holding`, in that order.\n",
        "* All columns.\n",
        "3.Create a new variable, `middle_companies` with:\n",
        "* All rows with indicies from `Tata Motors` to `Nationwide`, inclusive.\n",
        "* All columns from rank to country, inclusive.\n"
      ]
    },
    {
      "cell_type": "code",
      "metadata": {
        "id": "p8n00wRPp-jJ",
        "colab_type": "code",
        "colab": {}
      },
      "source": [
        "toyota = f500.loc[\"Toyota Motor\"]\n",
        "\n",
        "drink_companies = f500.loc[[\"Anheuser-Busch InBev\", \"Coca-Cola\", \"Heineken Holding\"]]\n",
        "\n",
        "middle_companies = f500.loc[\"Tata Motors\":\"Nationwide\", \"rank\":\"country\"]"
      ],
      "execution_count": null,
      "outputs": []
    },
    {
      "cell_type": "markdown",
      "metadata": {
        "id": "LBEr1m718RLs",
        "colab_type": "text"
      },
      "source": [
        "**9. Series vs Dataframes**"
      ]
    },
    {
      "cell_type": "markdown",
      "metadata": {
        "id": "HTNLuRHj87iW",
        "colab_type": "text"
      },
      "source": [
        "![alt text](https://s3.amazonaws.com/dq-content/291/df_series_s_updated.svg)\n",
        "![alt text](https://s3.amazonaws.com/dq-content/291/df_series_df_updated.svg)"
      ]
    },
    {
      "cell_type": "markdown",
      "metadata": {
        "id": "ST5iY_Zp8RfV",
        "colab_type": "text"
      },
      "source": [
        "**10. Value Counts Method**"
      ]
    },
    {
      "cell_type": "markdown",
      "metadata": {
        "id": "vrltn18q88DN",
        "colab_type": "text"
      },
      "source": [
        "Because series and dataframes are two distinct objects, they have their own unique methods. Let's look at an example of a series method next - the `Series.value_counts()` method."
      ]
    },
    {
      "cell_type": "code",
      "metadata": {
        "id": "W2poYtrPs62E",
        "colab_type": "code",
        "colab": {
          "base_uri": "https://localhost:8080/",
          "height": 391
        },
        "outputId": "1cee988e-2e82-40db-99d1-52d49926281f"
      },
      "source": [
        "sectors = f500[\"sector\"]\n",
        "sectors_value_counts = sectors.value_counts()\n",
        "print(sectors_value_counts)"
      ],
      "execution_count": null,
      "outputs": [
        {
          "output_type": "stream",
          "text": [
            "Financials                       118\n",
            "Energy                            80\n",
            "Technology                        44\n",
            "Motor Vehicles & Parts            34\n",
            "Wholesalers                       28\n",
            "Health Care                       27\n",
            "Food & Drug Stores                20\n",
            "Transportation                    19\n",
            "Telecommunications                18\n",
            "Retailing                         17\n",
            "Materials                         16\n",
            "Food, Beverages & Tobacco         16\n",
            "Industrials                       15\n",
            "Aerospace & Defense               14\n",
            "Engineering & Construction        13\n",
            "Chemicals                          7\n",
            "Hotels, Restaurants & Leisure      3\n",
            "Household Products                 3\n",
            "Business Services                  3\n",
            "Media                              3\n",
            "Apparel                            2\n",
            "Name: sector, dtype: int64\n"
          ],
          "name": "stdout"
        }
      ]
    },
    {
      "cell_type": "code",
      "metadata": {
        "id": "lKQLvTUSt2gp",
        "colab_type": "code",
        "colab": {
          "base_uri": "https://localhost:8080/",
          "height": 612
        },
        "outputId": "4694cd36-9539-4fdf-abbf-5c05689f957e"
      },
      "source": [
        "countries = f500['country']\n",
        "countries_counts = countries.value_counts()\n",
        "print(countries_counts)"
      ],
      "execution_count": null,
      "outputs": [
        {
          "output_type": "stream",
          "text": [
            "USA             132\n",
            "China           109\n",
            "Japan            51\n",
            "France           29\n",
            "Germany          29\n",
            "Britain          24\n",
            "South Korea      15\n",
            "Switzerland      14\n",
            "Netherlands      14\n",
            "Canada           11\n",
            "Spain             9\n",
            "Australia         7\n",
            "Italy             7\n",
            "India             7\n",
            "Brazil            7\n",
            "Taiwan            6\n",
            "Russia            4\n",
            "Ireland           4\n",
            "Singapore         3\n",
            "Sweden            3\n",
            "Mexico            2\n",
            "Turkey            1\n",
            "Venezuela         1\n",
            "Denmark           1\n",
            "Malaysia          1\n",
            "Luxembourg        1\n",
            "Norway            1\n",
            "Thailand          1\n",
            "U.A.E             1\n",
            "Finland           1\n",
            "Belgium           1\n",
            "Israel            1\n",
            "Saudi Arabia      1\n",
            "Indonesia         1\n",
            "Name: country, dtype: int64\n"
          ],
          "name": "stdout"
        }
      ]
    },
    {
      "cell_type": "markdown",
      "metadata": {
        "id": "MLiE4tWJ8Rzw",
        "colab_type": "text"
      },
      "source": [
        "**11. Selecting Items from a Series by Label**"
      ]
    },
    {
      "cell_type": "markdown",
      "metadata": {
        "id": "5xeWOjgL88u2",
        "colab_type": "text"
      },
      "source": [
        "As with dataframes, we can use `Series.loc[]` to select items from a series using single labels, a list, or a slice object. We can also omit `loc[]` and use bracket shortcuts for all three:\n",
        "\n",
        "|Select by Label |\tExplicit Syntax |\tShorthand Convention |\n",
        "| --- | --- | --- |\n",
        "|Single item from series |\t`s.loc[\"item8\"]` |\t`s[\"item8\"]` |\n",
        "| List of items from series |\t`s.loc[[\"item1\",\"item7\"]]` |\t`s[[\"item1\",\"item7\"]]`|\n",
        "|Slice of items from series |\t`s.loc[\"item2\":\"item4\"]` |\t`s[\"item2\":\"item4\"]` |\n",
        "\n",
        "\n",
        "\n",
        "\n"
      ]
    },
    {
      "cell_type": "code",
      "metadata": {
        "id": "dGEukKMSvu6T",
        "colab_type": "code",
        "colab": {
          "base_uri": "https://localhost:8080/",
          "height": 34
        },
        "outputId": "d5da6cb7-07d7-4cdd-85f9-1101f777112b"
      },
      "source": [
        "india = countries_counts[\"India\"]\n",
        "print(india)"
      ],
      "execution_count": null,
      "outputs": [
        {
          "output_type": "stream",
          "text": [
            "7\n"
          ],
          "name": "stdout"
        }
      ]
    },
    {
      "cell_type": "code",
      "metadata": {
        "id": "DFYLWXU-v2-7",
        "colab_type": "code",
        "colab": {
          "base_uri": "https://localhost:8080/",
          "height": 85
        },
        "outputId": "a74518b1-a10a-4730-900c-f374d1feb5f4"
      },
      "source": [
        "north_america = countries_counts[[\"USA\", \"Canada\", \"Mexico\"]]\n",
        "print(north_america)"
      ],
      "execution_count": null,
      "outputs": [
        {
          "output_type": "stream",
          "text": [
            "USA       132\n",
            "Canada     11\n",
            "Mexico      2\n",
            "Name: country, dtype: int64\n"
          ],
          "name": "stdout"
        }
      ]
    },
    {
      "cell_type": "markdown",
      "metadata": {
        "id": "s-aUk-Yj8SPr",
        "colab_type": "text"
      },
      "source": [
        "**12. Summary Challenge**"
      ]
    },
    {
      "cell_type": "markdown",
      "metadata": {
        "id": "k0mB6sHq89WW",
        "colab_type": "text"
      },
      "source": [
        "|Select by Label |\tExplicit Syntax |\tCommon Shorthand|\n",
        "| --- | --- | ---|\n",
        "| Single column from dataframe |\t`df.loc[:,\"col1\"]` |\t`df[\"col1\"]` |\n",
        "| List of columns from dataframe |\t`df.loc[:,[\"col1\", \"col7\"]]` |\t`df[[\"col1\", \"col7\"]]` |\n",
        "| Slice of columns from dataframe|\t`df.loc[:,\"col1\":\"col4\"]` |\t- |\n",
        "| --- | --- | ---|\n",
        "| Single row from dataframe |\t`df.loc[\"row4\"]` \t| |\n",
        "| List of rows from dataframe |\t`df.loc[[\"row1\", \"row8\"]]` \t| |\n",
        "|Slice of rows from dataframe |\t`df.loc[\"row3\":\"row5\"]` |\t`df[\"row3\":\"row5\"]`|\n",
        "| --- | --- | --- |\n",
        "|Single item from series |\t`s.loc[\"item8\"]` |\t`s[\"item8\"]` |\n",
        "| List of items from series |\t`s.loc[[\"item1\",\"item7\"]]` |\t`s[[\"item1\",\"item7\"]]`|\n",
        "|Slice of items from series |\t`s.loc[\"item2\":\"item4\"]` |\t`s[\"item2\":\"item4\"]` |"
      ]
    },
    {
      "cell_type": "markdown",
      "metadata": {
        "id": "VIJNH-Hlyf9I",
        "colab_type": "text"
      },
      "source": [
        "Instructions:\n",
        "\n",
        "By selecting data from f500:\n",
        "\n",
        "1. Create a new variable `big_movers`, with:\n",
        "* Rows with indices `Aviva`, `HP`, `JD.com`, and `BHP Billiton`, in that order.\n",
        "* The `rank` and `previous_rank` columns, in that order.\n",
        "2. Create a new variable, `bottom_companies` with:\n",
        "* All rows with indices from `National Grid` to `AutoNation`, inclusive.\n",
        "* The `rank`, `sector`, and `country` columns."
      ]
    },
    {
      "cell_type": "code",
      "metadata": {
        "id": "fr2DLn9lzGaA",
        "colab_type": "code",
        "colab": {
          "base_uri": "https://localhost:8080/",
          "height": 102
        },
        "outputId": "ae976c4c-a0a3-44b2-a139-cbcc1fab94ef"
      },
      "source": [
        "big_movers = f500.loc[[\"Aviva\", \"HP\", \"JD.com\", \"BHP Billiton\"], [\"rank\", \"previous_rank\"]]\n",
        "\n",
        "print(big_movers)"
      ],
      "execution_count": null,
      "outputs": [
        {
          "output_type": "stream",
          "text": [
            "              rank  previous_rank\n",
            "Aviva           90            279\n",
            "HP             194             48\n",
            "JD.com         261            366\n",
            "BHP Billiton   350            168\n"
          ],
          "name": "stdout"
        }
      ]
    },
    {
      "cell_type": "code",
      "metadata": {
        "id": "NfeyDNHw0Xgg",
        "colab_type": "code",
        "colab": {
          "base_uri": "https://localhost:8080/",
          "height": 204
        },
        "outputId": "2df61979-5d37-450a-990d-7cc620c91fb1"
      },
      "source": [
        "bottom_companies = f500.loc[\"National Grid\":\"AutoNation\",[\"rank\", \"sector\", \"country\"]]\n",
        "\n",
        "print(bottom_companies)"
      ],
      "execution_count": null,
      "outputs": [
        {
          "output_type": "stream",
          "text": [
            "                                       rank              sector  country\n",
            "National Grid                           491              Energy  Britain\n",
            "Dollar General                          492           Retailing      USA\n",
            "Telecom Italia                          493  Telecommunications    Italy\n",
            "Xiamen ITG Holding Group                494         Wholesalers    China\n",
            "Xinjiang Guanghui Industry Investment   495         Wholesalers    China\n",
            "Teva Pharmaceutical Industries          496         Health Care   Israel\n",
            "New China Life Insurance                497          Financials    China\n",
            "Wm. Morrison Supermarkets               498  Food & Drug Stores  Britain\n",
            "TUI                                     499   Business Services  Germany\n",
            "AutoNation                              500           Retailing      USA\n"
          ],
          "name": "stdout"
        }
      ]
    },
    {
      "cell_type": "markdown",
      "metadata": {
        "id": "lA46OKiQVutr",
        "colab_type": "text"
      },
      "source": [
        "\n",
        "\n",
        "---\n",
        "\n",
        "In the next mission, we'll continue to learn about exploring data in pandas, including:\n",
        "\n",
        "* How to select data from pandas objects using boolean arrays.\n",
        "* How to assign data using labels and boolean arrays.\n",
        "* How to create new rows and columns in pandas.\n",
        "* New methods to make data analysis easier in pandas.\n"
      ]
    }
  ]
}