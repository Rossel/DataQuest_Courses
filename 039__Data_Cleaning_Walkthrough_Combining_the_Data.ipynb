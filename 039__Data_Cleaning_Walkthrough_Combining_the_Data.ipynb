{
  "nbformat": 4,
  "nbformat_minor": 0,
  "metadata": {
    "colab": {
      "name": "039__Data_Cleaning_Walkthrough-Combining_the_Data.ipynb",
      "provenance": [],
      "authorship_tag": "ABX9TyMTBJwK73gCk/IhgHhK6aCM",
      "include_colab_link": true
    },
    "kernelspec": {
      "name": "python3",
      "display_name": "Python 3"
    },
    "language_info": {
      "name": "python"
    }
  },
  "cells": [
    {
      "cell_type": "markdown",
      "metadata": {
        "id": "view-in-github",
        "colab_type": "text"
      },
      "source": [
        "<a href=\"https://colab.research.google.com/github/Rossel/DataQuest_Courses/blob/master/039__Data_Cleaning_Walkthrough_Combining_the_Data.ipynb\" target=\"_parent\"><img src=\"https://colab.research.google.com/assets/colab-badge.svg\" alt=\"Open In Colab\"/></a>"
      ]
    },
    {
      "cell_type": "markdown",
      "metadata": {
        "id": "6PWQ-EVGT2s_"
      },
      "source": [
        "# COURSE 5/6: DATA CLEANING IN PYTHON: ADVANCED"
      ]
    },
    {
      "cell_type": "markdown",
      "metadata": {
        "id": "PgjiYKzEU1Px"
      },
      "source": [
        "# MISSION 2: Data Cleaning Walkthrough: Combining the Data\n"
      ]
    },
    {
      "cell_type": "markdown",
      "metadata": {
        "id": "Ft2E5SjIQGlB"
      },
      "source": [
        "Learn how to combine multiple data sets to get a single, clean data set."
      ]
    },
    {
      "cell_type": "markdown",
      "metadata": {
        "id": "nfk12M-4TwZU"
      },
      "source": [
        "## 1. Introduction"
      ]
    },
    {
      "cell_type": "markdown",
      "metadata": {
        "id": "5QLw9enPQGoO"
      },
      "source": [
        "In the last mission, we began investigating possible relationships between SAT scores and demographic factors. In order to do this, we acquired several data sets about [New York City public schools](https://data.cityofnewyork.us/data?cat=education). We manipulated these data sets, and found that we could combine them all using the `DBN` column. All of the data sets are currently stored as keys in the `data` dictionary. Each individual data set is a pandas dataframe.\n",
        "\n",
        "In this mission, we'll clean the data a bit more, then combine it. Finally, we'll compute correlations and perform some analysis.\n",
        "\n",
        "The first thing we'll need to do in preparation for the merge is condense some of the data sets. In the last mission, we noticed that the values in the `DBN` column were unique in the `sat_results` data set. Other data sets like `class_size` had duplicate `DBN` values, however."
      ]
    },
    {
      "cell_type": "markdown",
      "metadata": {
        "id": "o3u3FC4CQGqV"
      },
      "source": [
        ""
      ]
    }
  ]
}