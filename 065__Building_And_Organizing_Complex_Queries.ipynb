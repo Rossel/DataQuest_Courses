{
  "nbformat": 4,
  "nbformat_minor": 0,
  "metadata": {
    "colab": {
      "name": "065__Building_And_Organizing_Complex_Queries",
      "provenance": [],
      "collapsed_sections": [],
      "authorship_tag": "ABX9TyOL11kjdZiV8nB1nFCyLJlq",
      "include_colab_link": true
    },
    "kernelspec": {
      "name": "python3",
      "display_name": "Python 3"
    }
  },
  "cells": [
    {
      "cell_type": "markdown",
      "metadata": {
        "id": "view-in-github",
        "colab_type": "text"
      },
      "source": [
        "<a href=\"https://colab.research.google.com/github/Rossel/DataQuest_Courses/blob/master/065__Building_And_Organizing_Complex_Queries.ipynb\" target=\"_parent\"><img src=\"https://colab.research.google.com/assets/colab-badge.svg\" alt=\"Open In Colab\"/></a>"
      ]
    },
    {
      "cell_type": "markdown",
      "metadata": {
        "id": "_btM0gtu3sDF",
        "colab_type": "text"
      },
      "source": [
        "# COURSE 2/5: SQL FOR DATA ANALYSIS\n"
      ]
    },
    {
      "cell_type": "markdown",
      "metadata": {
        "id": "THaX315BT2wD",
        "colab_type": "text"
      },
      "source": [
        "# MISSION 3: Building and Organizing Complex Queries"
      ]
    },
    {
      "cell_type": "markdown",
      "metadata": {
        "id": "qZmKsqF9oZFP",
        "colab_type": "text"
      },
      "source": [
        "*Learn techniques to organize your queries to make them easier to read and understand.*\n",
        "\n",
        "In this mission we will:\n",
        "\n",
        "- continue to practice working with complex joins to answer queries\n",
        "- learn how to use formatting and whitespace to make our queries more readable\n",
        "- learn how to use `WITH` and `VIEW` to make temporary and permanent views\n",
        "- learn how to perform set operations in SQL using `UNION`, `INTERSECT`, and `EXCEPT`"
      ]
    },
    {
      "cell_type": "code",
      "metadata": {
        "id": "_LBr2rk1T0xR",
        "colab_type": "code",
        "colab": {}
      },
      "source": [
        "# Import functions from Google modules into Colaboratory\n",
        "!pip install -U -q PyDrive\n",
        "from pydrive.auth import GoogleAuth\n",
        "from pydrive.drive import GoogleDrive\n",
        "from google.colab import auth\n",
        "from oauth2client.client import GoogleCredentials\n",
        "\n",
        "# Authenticate and create the PyDrive client\n",
        "auth.authenticate_user()\n",
        "gauth = GoogleAuth()\n",
        "gauth.credentials = GoogleCredentials.get_application_default()\n",
        "drive = GoogleDrive(gauth)"
      ],
      "execution_count": 9,
      "outputs": []
    },
    {
      "cell_type": "code",
      "metadata": {
        "id": "pzy0-ZtPScNy",
        "colab_type": "code",
        "colab": {}
      },
      "source": [
        "# Insert file id from Google Drive shareable link:\n",
        "# https://drive.google.com/file/d/1edlG-tOLPxLEWP19dBmBp_NxRmc7GAcx/view?usp=sharing\n",
        "id = '1edlG-tOLPxLEWP19dBmBp_NxRmc7GAcx'"
      ],
      "execution_count": 10,
      "outputs": []
    },
    {
      "cell_type": "code",
      "metadata": {
        "id": "mspPJ_6QT1mi",
        "colab_type": "code",
        "colab": {}
      },
      "source": [
        "# Download the dataset\n",
        "downloaded = drive.CreateFile({'id':id}) \n",
        "downloaded.GetContentFile('chinook.db')"
      ],
      "execution_count": 11,
      "outputs": []
    },
    {
      "cell_type": "code",
      "metadata": {
        "id": "vBAHoQ3QO4cb",
        "colab_type": "code",
        "colab": {}
      },
      "source": [
        "# Import SQLite3 and pandas library\n",
        "import sqlite3\n",
        "import pandas as pd"
      ],
      "execution_count": 12,
      "outputs": []
    },
    {
      "cell_type": "code",
      "metadata": {
        "id": "hJXj6T_naCHQ",
        "colab_type": "code",
        "colab": {}
      },
      "source": [
        "# Connect the notebook to the database file\n",
        "%%capture\n",
        "%load_ext sql\n",
        "%sql sqlite:///chinook.db"
      ],
      "execution_count": 13,
      "outputs": []
    },
    {
      "cell_type": "markdown",
      "metadata": {
        "id": "VUd1KMBDXe-Y",
        "colab_type": "text"
      },
      "source": [
        "## 1. Introduction"
      ]
    },
    {
      "cell_type": "markdown",
      "metadata": {
        "id": "UyAM1MO7XlGV",
        "colab_type": "text"
      },
      "source": [
        "In the previous two missions, we've learned a lot about joining data. We've gone from creating basic joins between two tables to making complex joins using multiple tables, subqueries, unusual join types and aggregate functions.\n",
        "\n",
        "In this mission, we're going to continue to practice constructing complex joins, while also learning how to:\n",
        "\n",
        "- Build and format your queries for readability\n",
        "- Creating named subqueries and views\n",
        "- Combining data using set operations.\n",
        "\n",
        "Just like the previous mission, we'll be working with the Chinook database. So you can easily refer to it, the schema for the Chinook database is provided again below.\n",
        "\n",
        "![alt text](https://s3.amazonaws.com/dq-content/190/chinook-schema.svg)"
      ]
    },
    {
      "cell_type": "markdown",
      "metadata": {
        "id": "O0QoBwcGXlI1",
        "colab_type": "text"
      },
      "source": [
        "## 2. Writing Readable Queries"
      ]
    },
    {
      "cell_type": "markdown",
      "metadata": {
        "id": "st-4757vXlLT",
        "colab_type": "text"
      },
      "source": [
        "\"*Code is read much more often than it is written, so plan accordingly.*\n",
        "\n",
        "*Even if you don't intend anybody else to read your code, there's still a very good chance that somebody will have to stare at your code and figure out what it does: That person is probably going to be you, twelve months from now.*\"\n",
        "\n",
        "—Raymond Chen\n",
        "\n",
        "Often quoted and paraphrased, this philosophy is especially important when writing SQL, where queries can quickly get visually complex. Taking the time to write your queries to be more easily understood will take a little extra time now, but will save you time when you come back to old queries that you have written, and help your colleagues when you're working in a data team.\n",
        "\n",
        "One obvious area when it comes to writing queries is the use of **capitalization and whitespace**. Because white space doesn't have any meaning in SQL, it can be used to help convey meaning in a complex query. Let's compare the same query written twice— first without whitespace and capitalization:\n",
        "```\n",
        "select ta.artist_name artist, count(*) tracks_sold from invoice_line il\n",
        "inner join (select t.track_id, ar.name artist_name from track t\n",
        "inner join album al on al.album_id = t.album_id\n",
        "inner join artist ar on ar.artist_id = al.artist_id) ta\n",
        "on ta.track_id = il.track_id group by 1 order by 2 desc limit 10;\n",
        "```\n",
        "\n",
        "And now, with whitespace and capitalization:\n",
        "```\n",
        "SELECT\n",
        "    ta.artist_name artist,\n",
        "    COUNT(*) tracks_sold\n",
        "FROM invoice_line il\n",
        "INNER JOIN (\n",
        "            SELECT\n",
        "                t.track_id,\n",
        "                ar.name artist_name\n",
        "            FROM track t\n",
        "            INNER JOIN album al ON al.album_id = t.album_id\n",
        "            INNER JOIN artist ar ON ar.artist_id = al.artist_id\n",
        "           ) ta\n",
        "           ON ta.track_id = il.track_id\n",
        "GROUP BY 1\n",
        "ORDER BY 2 DESC LIMIT 10;\n",
        "```\n",
        "\n",
        "As you can see, a little time put into whitespace and capitalization pays off. A few tips to help make your queries more readable:\n",
        "\n",
        "- If a select statement has more than one column, put each on a new line, indented from the select statement.\n",
        "- Always capitalize SQL function names and keywords\n",
        "- Put each clause of your query on a new line.\n",
        "- Use indenting to make subqueries appear logically separate.\n",
        "\n",
        "Another important consideration when writing readable queries is the use of **alias names and shortcuts**. Name aliases should be clear– a common convention is using the first letter of the table name, however if you feel that a query is complex you should consider using more explicit aliases. Similarly, at times lines like `GROUP BY 1` can be confusing, and explicitly naming the column will make your query more readable.\n",
        "\n",
        "If you work in a team, you might consider a SQL style guide— a great guide is available at [SQL style guide](http://www.sqlstyle.guide/), but remember that readability is more important than consistency. If you have a complex query and you think breaking the style guide will make it more readable, you should do it.\n",
        "\n",
        "![alt text](https://s3.amazonaws.com/dq-content/190/SQL_style_guide.png)\n",
        "\n",
        "Throughout the rest of our SQL missions, be mindful of writing queries that are easy to read and understand. While we will continue to check answers based on the results of the queries (rather than taking into account the formatting), practicing this will make your future colleagues (and future self) thank you.\n",
        "\n",
        "Let's now learn another way to make your queries more readable: named subqueries."
      ]
    },
    {
      "cell_type": "markdown",
      "metadata": {
        "id": "B-QndELHXlNx",
        "colab_type": "text"
      },
      "source": [
        "## 3. The With Clause"
      ]
    },
    {
      "cell_type": "markdown",
      "metadata": {
        "id": "qpynr4e7XlQl",
        "colab_type": "text"
      },
      "source": [
        "When constructing complex queries, it's useful to create an intermediate table to produce our final results. You can use subqueries to create these intermediate tables. Unfortunately, the way subqueries are written makes it harder to read— the person reading the query needs to find the subquery and read from the inside-out.\n",
        "\n",
        "One way to alleviate this is to use a **with clause**. `WITH` clauses allow you to define one or more named subqueries before the start of the main query. The main query then refers to the subquery by it's alias name, just as if it's a table in the database.\n",
        "\n",
        "The syntax for the `WITH` clause is relatively straight-forward.\n",
        "```\n",
        "WITH [alias_name] AS ([subquery])\n",
        "​\n",
        "SELECT [main_query]\n",
        "```\n",
        "\n",
        "Let's look at a simple example, a query designed to gather some info about the tracks from a single album. First, here's our query written with a standard subquery and no `WITH` clause:\n",
        "\n"
      ]
    },
    {
      "cell_type": "code",
      "metadata": {
        "id": "5_oW452caeVA",
        "colab_type": "code",
        "colab": {
          "base_uri": "https://localhost:8080/",
          "height": 347
        },
        "outputId": "1da83829-4857-42b0-f6b1-582d9165e094"
      },
      "source": [
        "%%sql\n",
        "\n",
        "SELECT * FROM\n",
        "    (\n",
        "     SELECT\n",
        "         t.name,\n",
        "         ar.name artist,\n",
        "         al.title album_name,\n",
        "         mt.name media_type,\n",
        "         g.name genre,\n",
        "         t.milliseconds length_milliseconds\n",
        "     FROM track t\n",
        "     INNER JOIN media_type mt ON mt.media_type_id = t.media_type_id\n",
        "     INNER JOIN genre g ON g.genre_id = t.genre_id\n",
        "     INNER JOIN album al ON al.album_id = t.album_id\n",
        "     INNER JOIN artist ar ON ar.artist_id = al.artist_id\n",
        "    )\n",
        "WHERE album_name = \"Jagged Little Pill\";"
      ],
      "execution_count": 14,
      "outputs": [
        {
          "output_type": "stream",
          "text": [
            " * sqlite:///chinook.db\n",
            "Done.\n"
          ],
          "name": "stdout"
        },
        {
          "output_type": "execute_result",
          "data": {
            "text/html": [
              "<table>\n",
              "    <tr>\n",
              "        <th>name</th>\n",
              "        <th>artist</th>\n",
              "        <th>album_name</th>\n",
              "        <th>media_type</th>\n",
              "        <th>genre</th>\n",
              "        <th>length_milliseconds</th>\n",
              "    </tr>\n",
              "    <tr>\n",
              "        <td>All I Really Want</td>\n",
              "        <td>Alanis Morissette</td>\n",
              "        <td>Jagged Little Pill</td>\n",
              "        <td>MPEG audio file</td>\n",
              "        <td>Rock</td>\n",
              "        <td>284891</td>\n",
              "    </tr>\n",
              "    <tr>\n",
              "        <td>You Oughta Know</td>\n",
              "        <td>Alanis Morissette</td>\n",
              "        <td>Jagged Little Pill</td>\n",
              "        <td>MPEG audio file</td>\n",
              "        <td>Rock</td>\n",
              "        <td>249234</td>\n",
              "    </tr>\n",
              "    <tr>\n",
              "        <td>Perfect</td>\n",
              "        <td>Alanis Morissette</td>\n",
              "        <td>Jagged Little Pill</td>\n",
              "        <td>MPEG audio file</td>\n",
              "        <td>Rock</td>\n",
              "        <td>188133</td>\n",
              "    </tr>\n",
              "    <tr>\n",
              "        <td>Hand In My Pocket</td>\n",
              "        <td>Alanis Morissette</td>\n",
              "        <td>Jagged Little Pill</td>\n",
              "        <td>MPEG audio file</td>\n",
              "        <td>Rock</td>\n",
              "        <td>221570</td>\n",
              "    </tr>\n",
              "    <tr>\n",
              "        <td>Right Through You</td>\n",
              "        <td>Alanis Morissette</td>\n",
              "        <td>Jagged Little Pill</td>\n",
              "        <td>MPEG audio file</td>\n",
              "        <td>Rock</td>\n",
              "        <td>176117</td>\n",
              "    </tr>\n",
              "    <tr>\n",
              "        <td>Forgiven</td>\n",
              "        <td>Alanis Morissette</td>\n",
              "        <td>Jagged Little Pill</td>\n",
              "        <td>MPEG audio file</td>\n",
              "        <td>Rock</td>\n",
              "        <td>300355</td>\n",
              "    </tr>\n",
              "    <tr>\n",
              "        <td>You Learn</td>\n",
              "        <td>Alanis Morissette</td>\n",
              "        <td>Jagged Little Pill</td>\n",
              "        <td>MPEG audio file</td>\n",
              "        <td>Rock</td>\n",
              "        <td>239699</td>\n",
              "    </tr>\n",
              "    <tr>\n",
              "        <td>Head Over Feet</td>\n",
              "        <td>Alanis Morissette</td>\n",
              "        <td>Jagged Little Pill</td>\n",
              "        <td>MPEG audio file</td>\n",
              "        <td>Rock</td>\n",
              "        <td>267493</td>\n",
              "    </tr>\n",
              "    <tr>\n",
              "        <td>Mary Jane</td>\n",
              "        <td>Alanis Morissette</td>\n",
              "        <td>Jagged Little Pill</td>\n",
              "        <td>MPEG audio file</td>\n",
              "        <td>Rock</td>\n",
              "        <td>280607</td>\n",
              "    </tr>\n",
              "    <tr>\n",
              "        <td>Ironic</td>\n",
              "        <td>Alanis Morissette</td>\n",
              "        <td>Jagged Little Pill</td>\n",
              "        <td>MPEG audio file</td>\n",
              "        <td>Rock</td>\n",
              "        <td>229825</td>\n",
              "    </tr>\n",
              "    <tr>\n",
              "        <td>Not The Doctor</td>\n",
              "        <td>Alanis Morissette</td>\n",
              "        <td>Jagged Little Pill</td>\n",
              "        <td>MPEG audio file</td>\n",
              "        <td>Rock</td>\n",
              "        <td>227631</td>\n",
              "    </tr>\n",
              "    <tr>\n",
              "        <td>Wake Up</td>\n",
              "        <td>Alanis Morissette</td>\n",
              "        <td>Jagged Little Pill</td>\n",
              "        <td>MPEG audio file</td>\n",
              "        <td>Rock</td>\n",
              "        <td>293485</td>\n",
              "    </tr>\n",
              "    <tr>\n",
              "        <td>You Oughta Know (Alternate)</td>\n",
              "        <td>Alanis Morissette</td>\n",
              "        <td>Jagged Little Pill</td>\n",
              "        <td>MPEG audio file</td>\n",
              "        <td>Rock</td>\n",
              "        <td>491885</td>\n",
              "    </tr>\n",
              "</table>"
            ],
            "text/plain": [
              "[('All I Really Want', 'Alanis Morissette', 'Jagged Little Pill', 'MPEG audio file', 'Rock', 284891),\n",
              " ('You Oughta Know', 'Alanis Morissette', 'Jagged Little Pill', 'MPEG audio file', 'Rock', 249234),\n",
              " ('Perfect', 'Alanis Morissette', 'Jagged Little Pill', 'MPEG audio file', 'Rock', 188133),\n",
              " ('Hand In My Pocket', 'Alanis Morissette', 'Jagged Little Pill', 'MPEG audio file', 'Rock', 221570),\n",
              " ('Right Through You', 'Alanis Morissette', 'Jagged Little Pill', 'MPEG audio file', 'Rock', 176117),\n",
              " ('Forgiven', 'Alanis Morissette', 'Jagged Little Pill', 'MPEG audio file', 'Rock', 300355),\n",
              " ('You Learn', 'Alanis Morissette', 'Jagged Little Pill', 'MPEG audio file', 'Rock', 239699),\n",
              " ('Head Over Feet', 'Alanis Morissette', 'Jagged Little Pill', 'MPEG audio file', 'Rock', 267493),\n",
              " ('Mary Jane', 'Alanis Morissette', 'Jagged Little Pill', 'MPEG audio file', 'Rock', 280607),\n",
              " ('Ironic', 'Alanis Morissette', 'Jagged Little Pill', 'MPEG audio file', 'Rock', 229825),\n",
              " ('Not The Doctor', 'Alanis Morissette', 'Jagged Little Pill', 'MPEG audio file', 'Rock', 227631),\n",
              " ('Wake Up', 'Alanis Morissette', 'Jagged Little Pill', 'MPEG audio file', 'Rock', 293485),\n",
              " ('You Oughta Know (Alternate)', 'Alanis Morissette', 'Jagged Little Pill', 'MPEG audio file', 'Rock', 491885)]"
            ]
          },
          "metadata": {
            "tags": []
          },
          "execution_count": 14
        }
      ]
    },
    {
      "cell_type": "markdown",
      "metadata": {
        "id": "yg2v4tIobBHb",
        "colab_type": "text"
      },
      "source": [
        "While in this example the difference is subtle, using the `WITH` statement helps a lot when your main query even has some slight complexities. Let's get some practice using `WITH` in a more complex example.\n",
        "\n",
        "\n",
        "**Instructions:**\n",
        "\n",
        "Create a query that shows summary data for every playlist in the Chinook database:\n",
        "- Use a `WITH` clause to create a named subquery with the following info:\n",
        "  - The unique ID for the playlist.\n",
        "  - The name of the playlist.\n",
        "  - The name of each track from the playlist.\n",
        "  - The length of each track in seconds.\n",
        "- Your final table should have the following columns, in order:\n",
        "  - `playlist_id` - the unique ID for the playlist.\n",
        "  - `playlist_name` - The name of the playlist.\n",
        "  - `number_of_tracks` - A count of the number of tracks in the playlist.\n",
        "  - `length_seconds` - The sum of the length of the playlist in seconds.\n",
        "- The results should be sorted by `playlist_id` in ascending order.\n"
      ]
    },
    {
      "cell_type": "markdown",
      "metadata": {
        "id": "xQAF0mQTXlTC",
        "colab_type": "text"
      },
      "source": [
        "## 4. Creating Views"
      ]
    },
    {
      "cell_type": "markdown",
      "metadata": {
        "id": "_e8njpR1XlVq",
        "colab_type": "text"
      },
      "source": [
        "When we use the `WITH` clause, we're creating a temporary named subquery that we can use only within that query. But what if we find ourselves using the same `WITH` with lots of different queries? It would be nice to permanently define a subquery that we can use again and again.\n",
        "\n",
        "We do this by creating a view, which we can then use in all future queries. An easy way to think of this is the `WITH` clause creates a temporary view. The syntax for creating a view is:\n",
        "```\n",
        "CREATE VIEW database.view_name AS\n",
        "    SELECT * FROM database.table;\n",
        "```    \n",
        "We'll be specifying the database name using `[database name].[view or table name]` syntax in instead of just `[view or table name]`. You'll need to use this in conjunction with any views because we have [manually attached the database](https://sqlite.org/lang_attach.html). If you're working with SQLite on your local machine, or in one of our Jupyter projects, you don't need to specify the database name like in the following example:\n",
        "\n",
        "```\n",
        "CREATE VIEW view_name AS\n",
        "    SELECT * FROM table;\n",
        "```\n",
        "\n",
        "Here's an example of how to create a view called `customer_2`, identical to the existing `customer` table:\n",
        "```\n",
        "CREATE VIEW chinook.customer_2 AS\n",
        "    SELECT * FROM chinook.customer;\n",
        "```\n",
        "\n",
        "If we wanted to modify this view, and tried to redefine it, we'd get an error:\n",
        "```\n",
        "CREATE VIEW chinook.customer_2 AS\n",
        "    SELECT\n",
        "        customer_id,\n",
        "        first_name || last_name name,\n",
        "        phone,\n",
        "        email,\n",
        "        support_rep_id\n",
        "    FROM chinook.customer;\n",
        "```\n",
        "```\n",
        "Error: table customer_2 already exists\n",
        "```\n",
        "\n",
        "If we wish to redefine a view, we first have to delete, or drop the existing view:\n",
        "```\n",
        "DROP VIEW chinook.customer_2;\n",
        "```\n",
        "\n",
        "We're going to create two views that give us versions of the customer table where the `customers` in the view have specific criteria. The first is a view of all customers that live in the USA.\n",
        "\n",
        "```\n",
        "CREATE VIEW chinook.customer_usa AS \n",
        "     SELECT * FROM chinook.customer\n",
        "     WHERE country = \"USA\";\n",
        "```\n",
        "\n",
        "We have created this view for you - you can query it in the code editor on the right. Once a view is created it acts exactly like a table - you don't need to specify that it's a view when you are querying it, and you can do anything with a view that you could do with a table (keeping in mind that in our interface you'll have to use `[database name].[view_name]`).\n",
        "\n",
        "Let's create a second view of customers that have purchased more than $90 from our store."
      ]
    },
    {
      "cell_type": "markdown",
      "metadata": {
        "id": "6jsY61Emgm_I",
        "colab_type": "text"
      },
      "source": [
        "**Instructions:**\n",
        "\n",
        "1. Create a view called `customer_gt_90_dollars`:\n",
        "- The view should contain the columns from `customers`, in their original order.\n",
        "- The view should contain only customers who have purchased more than $90 in tracks from the store.\n",
        "\n",
        "2. After the SQL query that creates the view, write a second query to display your newly created view: `SELECT * FROM chinook.customer_gt_90_dollars;`\n",
        "- Make sure you use a semicolon (`;`) to indicate the end of each query."
      ]
    },
    {
      "cell_type": "code",
      "metadata": {
        "id": "HquOCCEDg3AZ",
        "colab_type": "code",
        "colab": {}
      },
      "source": [
        ""
      ],
      "execution_count": null,
      "outputs": []
    },
    {
      "cell_type": "markdown",
      "metadata": {
        "id": "dHbIGxN8XlYU",
        "colab_type": "text"
      },
      "source": [
        "## 5. Combining Rows With Union"
      ]
    },
    {
      "cell_type": "markdown",
      "metadata": {
        "id": "hmF57r1uXlbH",
        "colab_type": "text"
      },
      "source": [
        "We have now created two views: `customer_usa` and `customer_gt_90_dollars`. How can we find customers who are in different permutations of these two views:\n",
        "\n",
        "- Customers in the USA **or have** spent more than $90\n",
        "\n",
        "- Customers in the USA **and have** spent more than $90\n",
        "\n",
        "- Customers in the USA **and have not** spent more than $90\n",
        "\n",
        "These scenarios require a different type of join as we're wanting to join rows from not tables, and not columns. Let's start by looking at just the first scenario, where we want to combine rows that exist in either view.\n",
        "\n",
        "Where regular joins are used to join columns, the **union** operator is used to join rows from tables and/or views.\n",
        "\n",
        "![alt text](https://s3.amazonaws.com/dq-content/190/union_vs_join.svg)\n",
        "\n",
        "The syntax for the union operator is composed of two or more `SELECT` statements:\n",
        "```\n",
        "[select_statement_one]\n",
        "UNION\n",
        "[select_statement_two]\n",
        "```\n",
        "Rather than using the `ON` keyword, the statements before and after `UNION` must have the same number of columns, with compatible types in order. We'll learn more about types in a later mission, but as an example, `FLOAT` and `INT` are compatible types, but `FLOAT` and `TEXT` are not).\n",
        "![alt text](https://s3.amazonaws.com/dq-content/190/union_types.svg)\n",
        "Because we created `customer_usa` and `customer_gt_90_dollars` with identical column names, order, and type as `customer`, we can safely use `UNION`.\n",
        "\n",
        "To achieve our first scenario (identify customers who are in the USA or have spent more than $90), the two `SELECT` statements will be very simple - we can just select all columns and rows from each of the two views.\n",
        "\n",
        "\n",
        "**Instructions:**\n",
        "\n",
        "Use `UNION` to produce a table of customers in the USA or have spent more than $90, using the `customer_usa` and `customer_gt_90_dollars` views:\n",
        "- The result should contain the columns from `customers`, in their original order.\n"
      ]
    },
    {
      "cell_type": "code",
      "metadata": {
        "id": "ngG1xw7mhpFj",
        "colab_type": "code",
        "colab": {}
      },
      "source": [
        ""
      ],
      "execution_count": null,
      "outputs": []
    },
    {
      "cell_type": "markdown",
      "metadata": {
        "id": "aCjKSIJJXldx",
        "colab_type": "text"
      },
      "source": [
        "## 6. Combining Rows Using Intersect and Except"
      ]
    },
    {
      "cell_type": "markdown",
      "metadata": {
        "id": "468h-1xCXlgh",
        "colab_type": "text"
      },
      "source": [
        "The three scenarios we discussed at the start of the previous screen were:\n",
        "\n",
        "- Customers in the USA **or have** spent more than $90\n",
        "\n",
        "- Customers in the USA **and have** spent more than $90\n",
        "\n",
        "- Customers in the USA **and have not** spent more than $90\n",
        "\n",
        "We just successfully used `UNION` for the first, but what about the other two? There are two other operators that will help us with these - **intersect** and **except**. Combined, these three operators allow us to perform [set operations](https://en.wikipedia.org/wiki/Set_%28mathematics%29#Basic_operations) in SQL. Here's a diagram and explanation of how these compare with union.\n",
        "\n",
        "![alt text](https://s3.amazonaws.com/dq-content/190/set_operations.svg)\n",
        "\n",
        "Operator|\tWhat it Does|\tPython Equivalent\n",
        "---|---|---\n",
        "'UNION'|\tSelects rows that occur in either statement.\t|or\n",
        "`INTERSECT`\t|Selects rows that occur in both statements.\t|and\n",
        "`EXCEPT`|\tSelects rows that occur in the first statement, but don't occur in the second statement.\t|and not\n",
        "\n",
        "Both the syntax and the rules about column number and ordering of similar types are the same for `INTERSECT` and `EXCEPT` as they are for `UNION`. This means that identifying customers who are in the USA and have spent more than $90 can be done with the following query:\n",
        "\n",
        "```\n",
        "SELECT * from customer_usa\n",
        "\n",
        "INTERSECT\n",
        "​\n",
        "SELECT * from customer_gt_90_dollars;\n",
        "```\n",
        "\n",
        "Identifying customers who are in the USA and have not spent $90 can be done with the following query:\n",
        "```\n",
        "SELECT * from customer_usa\n",
        "​\n",
        "EXCEPT\n",
        "​\n",
        "SELECT * from customer_gt_90_dollars;\n",
        "```\n",
        "The results of `UNION`, `INTERSECT` and `EXCEPT` conform to the 'everything in SQL is a table' concept we learned in the SQL fundamentals course. The results of these operations can be used in subqueries and joined to other tables for more complex analysis. Let's look at a scenario where we'll need to join the results of a set operation to another table:\n",
        "\n"
      ]
    },
    {
      "cell_type": "markdown",
      "metadata": {
        "id": "4wJRWa7UjmWm",
        "colab_type": "text"
      },
      "source": [
        "**Instructions:**\n",
        "\n",
        "Write a query that works out how many customers that are in the USA and have purchased more than USD90 are assigned to each sales support agent. For the purposes of this exercise, no two employees have the same name.\n",
        "- Your result should have the following columns, in order:\n",
        "- `employee_name` - The first_name and last_name of the employee separated by a space, eg `Luke Skywalker`.\n",
        "- `customers_usa_gt_90` - The number of customer assigned to that employee that are both from the USA and have have purchased more than $90 worth of tracks.\n",
        "- The result should include all employees with the title \"Sales Support Agent\", but not employees with any other title.\n",
        "- Order your results by the `employee_name` column."
      ]
    },
    {
      "cell_type": "code",
      "metadata": {
        "id": "qDsfoN9Cj_B4",
        "colab_type": "code",
        "colab": {}
      },
      "source": [
        ""
      ],
      "execution_count": null,
      "outputs": []
    },
    {
      "cell_type": "markdown",
      "metadata": {
        "id": "d4TntklmXljt",
        "colab_type": "text"
      },
      "source": [
        "## 7. Multiple Named Subqueries"
      ]
    },
    {
      "cell_type": "markdown",
      "metadata": {
        "id": "NjobSftKXlmt",
        "colab_type": "text"
      },
      "source": [
        "When we learned about `WITH`, we said *with clauses allow you to define one or more named subqueries*, but we didn't show you the syntax for creating more than one named subquery. To do this, you use a single `WITH` clause and multiple, comma-separated alias/subquery pairs:\n",
        "```\n",
        "WITH\n",
        "    [alias_name] AS ([subquery]),\n",
        "    [alias_name_2] AS ([subquery_2]),\n",
        "    [alias_name_3] AS ([subquery_3])\n",
        "​\n",
        "SELECT [main_query]\n",
        "```\n",
        "While each subquery can be independent, we can actually use the result of the first subquery in subsequent subqueries, and so on. This can be a useful way of building readable complex queries.\n",
        "\n",
        "Let's look at a simple example where we create three named subqueries that build on each other."
      ]
    },
    {
      "cell_type": "code",
      "metadata": {
        "id": "HtKMbhWskPmR",
        "colab_type": "code",
        "colab": {
          "base_uri": "https://localhost:8080/",
          "height": 95
        },
        "outputId": "2416cfc9-4c14-48fe-8684-b44dbbd545cd"
      },
      "source": [
        "%%sql\n",
        "\n",
        "WITH\n",
        "    usa AS\n",
        "        (\n",
        "        SELECT * FROM customer\n",
        "        WHERE country = \"USA\"\n",
        "        ),\n",
        "    last_name_g AS\n",
        "        (\n",
        "         SELECT * FROM usa\n",
        "         WHERE last_name LIKE \"G%\"\n",
        "        ),\n",
        "    state_ca AS\n",
        "        (\n",
        "        SELECT * FROM last_name_g\n",
        "        WHERE state = \"CA\"\n",
        "        )\n",
        "\n",
        "SELECT\n",
        "    first_name,\n",
        "    last_name,\n",
        "    country,\n",
        "    state\n",
        "FROM state_ca"
      ],
      "execution_count": 20,
      "outputs": [
        {
          "output_type": "stream",
          "text": [
            " * sqlite:///chinook.db\n",
            "Done.\n"
          ],
          "name": "stdout"
        },
        {
          "output_type": "execute_result",
          "data": {
            "text/html": [
              "<table>\n",
              "    <tr>\n",
              "        <th>first_name</th>\n",
              "        <th>last_name</th>\n",
              "        <th>country</th>\n",
              "        <th>state</th>\n",
              "    </tr>\n",
              "    <tr>\n",
              "        <td>Tim</td>\n",
              "        <td>Goyer</td>\n",
              "        <td>USA</td>\n",
              "        <td>CA</td>\n",
              "    </tr>\n",
              "</table>"
            ],
            "text/plain": [
              "[('Tim', 'Goyer', 'USA', 'CA')]"
            ]
          },
          "metadata": {
            "tags": []
          },
          "execution_count": 20
        }
      ]
    },
    {
      "cell_type": "markdown",
      "metadata": {
        "id": "FOlhE2wtkVol",
        "colab_type": "text"
      },
      "source": [
        "In reality, we'd usually write this as a single query using multiple `AND` operators in our `WHERE` clause, but it helps us demonstrate how multiple subqueries can be defined with a single `WITH` clause. Let's use a more 'real life' example to gather total sales data on customers from India.\n",
        "\n",
        "**Instructions:**\n",
        "\n",
        "Write a query that uses multiple named subqueries in a `WITH` clause to gather total sales data on customers from India:\n",
        "- The first named subquery should return all customers that are from India.\n",
        "- The second named subquery should calculate the sum total for every customer.\n",
        "- The main query should join the two named subqueries, resulting in the following final columns:\n",
        "  - `customer_name` - The first_name and last_name of the customer, separated by a space, eg `Luke Skywalker`.\n",
        "  - `total_purchases` - The total amount spent on purchases by that customer.\n",
        "The results should be sorted by the `customer_name` column in alphabetical order.\n"
      ]
    },
    {
      "cell_type": "markdown",
      "metadata": {
        "id": "chyZvxx3Xlpr",
        "colab_type": "text"
      },
      "source": [
        "## 8. Challenge: Each Country's Best Customer"
      ]
    },
    {
      "cell_type": "markdown",
      "metadata": {
        "id": "UqEIKwEkXltF",
        "colab_type": "text"
      },
      "source": [
        "It's time to bring everything we've learned in the course so far to write a complex query. This query will be a bit harder than anything we've written so far, so don't be discouraged if this challenge takes you a while. Write your query in steps, running it as you go to check on your results— this will make troubleshooting much easier.\n",
        "\n",
        "**We will be writing a query to find the customer from each country that has spent the most money at our store**. *In our database there are no 'ties' for best customer in each country, and we will ignore this case for the exercise*.\n",
        "\n",
        "Our final results will look like this. For expected results, we rounded to two decimal places; however, when running your query, don't worry about rounding the `total_purchased` column.\n",
        "\n",
        "country\t|customer_name|\ttotal_purchased\n",
        "---|---|---\n",
        "Argentina|\tDiego Gutiérrez\t|39.60\n",
        "Australia|\tMark Taylor|\t81.18\n",
        "Austria|\tAstrid Gruber|\t69.30\n",
        "Belgium|\tDaan Peeters|\t60.39\n",
        "Brazil|\tLuís Gonçalves|\t108.90\n",
        "\n",
        "\n",
        "To help you out, the query you will write will include:\n",
        "\n",
        "- One or more named subqueries defined in a `WITH` clause\n",
        "- Aggregate functions like `SUM()` and `MAX()`\n",
        "- Several `INNER JOIN`s\n",
        "- A subquery to define a column\n",
        "- `GROUP BY` and `ORDER BY` clauses\n",
        "\n",
        "Remember that there are multiple ways to write this query, and the list above is based on the approach we took in our solution.\n",
        "\n",
        "**Instructions:**\n",
        "\n",
        "1. Create a query to find the customer from each country that has spent the most money at our store, ordered alphabetically by country. Your query should return the following columns, in order:\n",
        "- `country` - The name of each country that we have a customer from.\n",
        "- `customer_name` - The first_name and last_name of the customer from that country with the most total purchases, separated by a space, eg `Luke Skywalker`.\n",
        "- `total_purchased` - The total dollar amount that customer has purchased.\n"
      ]
    },
    {
      "cell_type": "code",
      "metadata": {
        "id": "9iK6dkNUlfHj",
        "colab_type": "code",
        "colab": {}
      },
      "source": [
        ""
      ],
      "execution_count": null,
      "outputs": []
    },
    {
      "cell_type": "markdown",
      "metadata": {
        "id": "xsAqQn0GXlv2",
        "colab_type": "text"
      },
      "source": [
        "## 9. Next Steps"
      ]
    },
    {
      "cell_type": "markdown",
      "metadata": {
        "id": "GfnU83QeXlzA",
        "colab_type": "text"
      },
      "source": [
        "In this mission we've:\n",
        "\n",
        "- continued to practice working with complex joins to answer queries\n",
        "- learned how to use formatting and whitespace to make our queries more readable\n",
        "- learned how to use `WITH` and `VIEW` to make temporary and permanent views\n",
        "- learned how to perform set operations in SQL using `UNION`, `INTERSECT`, and `EXCEPT`\n",
        "\n",
        "In the next mission, we'll put everything we've learned together in a guided project.\n",
        "\n",
        "\n",
        "---\n",
        "\n"
      ]
    }
  ]
}