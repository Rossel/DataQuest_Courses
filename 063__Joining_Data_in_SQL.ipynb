{
  "nbformat": 4,
  "nbformat_minor": 0,
  "metadata": {
    "colab": {
      "name": "063__Joining_Data_in_SQL",
      "provenance": [],
      "authorship_tag": "ABX9TyP5AfCswkGfiWasZ0FmsR0k",
      "include_colab_link": true
    },
    "kernelspec": {
      "name": "python3",
      "display_name": "Python 3"
    }
  },
  "cells": [
    {
      "cell_type": "markdown",
      "metadata": {
        "id": "view-in-github",
        "colab_type": "text"
      },
      "source": [
        "<a href=\"https://colab.research.google.com/github/Rossel/DataQuest_Courses/blob/master/063__Joining_Data_in_SQL.ipynb\" target=\"_parent\"><img src=\"https://colab.research.google.com/assets/colab-badge.svg\" alt=\"Open In Colab\"/></a>"
      ]
    },
    {
      "cell_type": "markdown",
      "metadata": {
        "id": "_btM0gtu3sDF",
        "colab_type": "text"
      },
      "source": [
        "# COURSE 2/5: SQL FOR DATA ANALYSIS\n"
      ]
    },
    {
      "cell_type": "markdown",
      "metadata": {
        "id": "THaX315BT2wD",
        "colab_type": "text"
      },
      "source": [
        "# MISSION 1: Joining Data in SQL"
      ]
    },
    {
      "cell_type": "markdown",
      "metadata": {
        "id": "qZmKsqF9oZFP",
        "colab_type": "text"
      },
      "source": [
        "*Learn how to use joins to query data across two tables.*\n",
        "\n",
        "In this mission we will learn about:\n",
        "\n",
        "- The difference between inner and left joins.\n",
        "- How to choose which join is appropriate for your task.\n",
        "- Using joins with subqueries, aggregate functions and other SQL techniques.\n"
      ]
    },
    {
      "cell_type": "markdown",
      "metadata": {
        "id": "ojhYBCxNoZJ5",
        "colab_type": "text"
      },
      "source": [
        "## 1. Introducing Joins"
      ]
    },
    {
      "cell_type": "markdown",
      "metadata": {
        "id": "qIq5LXUZqGas",
        "colab_type": "text"
      },
      "source": [
        "In the SQL Fundamentals course, we worked exclusively with data that existed in a single table. In the real world, it's much more common for databases to have data in more than one table. If we want to be able to work with that data, we'll have to combine multiple tables within a query. The way we do this in SQL is using joins. As in the SQL Fundamentals course, we'll continue to use SQLite throughout this course.\n",
        "\n",
        "In this mission, we're going to be using a version of the CIA World Factbook (Factbook) database from the guided project from the SQL Fundamentals course. To refresh your memory, this database had one table called facts, where each row represented a country from the Factbook. Let's first load the database:"
      ]
    },
    {
      "cell_type": "code",
      "metadata": {
        "id": "_LBr2rk1T0xR",
        "colab_type": "code",
        "colab": {}
      },
      "source": [
        "# Import functions from Google modules into Colaboratory\n",
        "!pip install -U -q PyDrive\n",
        "from pydrive.auth import GoogleAuth\n",
        "from pydrive.drive import GoogleDrive\n",
        "from google.colab import auth\n",
        "from oauth2client.client import GoogleCredentials\n",
        "\n",
        "# Authenticate and create the PyDrive client\n",
        "auth.authenticate_user()\n",
        "gauth = GoogleAuth()\n",
        "gauth.credentials = GoogleCredentials.get_application_default()\n",
        "drive = GoogleDrive(gauth)"
      ],
      "execution_count": 1,
      "outputs": []
    },
    {
      "cell_type": "code",
      "metadata": {
        "id": "pzy0-ZtPScNy",
        "colab_type": "code",
        "colab": {}
      },
      "source": [
        "# Insert file id from Google Drive shareable link:\n",
        "# https://drive.google.com/file/d/1OoSS5G-7_2RvguZrxomRajCXGgEmjEly/view?usp=sharing\n",
        "id = '1OoSS5G-7_2RvguZrxomRajCXGgEmjEly'"
      ],
      "execution_count": 2,
      "outputs": []
    },
    {
      "cell_type": "code",
      "metadata": {
        "id": "mspPJ_6QT1mi",
        "colab_type": "code",
        "colab": {}
      },
      "source": [
        "# Download the dataset\n",
        "downloaded = drive.CreateFile({'id':id}) \n",
        "downloaded.GetContentFile('factbook.db')"
      ],
      "execution_count": 3,
      "outputs": []
    },
    {
      "cell_type": "code",
      "metadata": {
        "id": "vBAHoQ3QO4cb",
        "colab_type": "code",
        "colab": {}
      },
      "source": [
        "# Import SQLite3 and pandas library\n",
        "import sqlite3\n",
        "import pandas as pd"
      ],
      "execution_count": 4,
      "outputs": []
    },
    {
      "cell_type": "code",
      "metadata": {
        "id": "hJXj6T_naCHQ",
        "colab_type": "code",
        "colab": {}
      },
      "source": [
        "# Connect the notebook to the database file\n",
        "%%capture\n",
        "%load_ext sql\n",
        "%sql sqlite:///factbook.db"
      ],
      "execution_count": 5,
      "outputs": []
    },
    {
      "cell_type": "markdown",
      "metadata": {
        "id": "_D9jkiOPp1hQ",
        "colab_type": "text"
      },
      "source": [
        "These are the first 5 rows of the facts table:"
      ]
    },
    {
      "cell_type": "code",
      "metadata": {
        "id": "mxcD3LE4fmKM",
        "colab_type": "code",
        "colab": {
          "base_uri": "https://localhost:8080/",
          "height": 199
        },
        "outputId": "842325db-466c-46cd-bb5f-43ed070e74f4"
      },
      "source": [
        "%%sql\n",
        "\n",
        "  SELECT * \n",
        "  FROM facts\n",
        "  LIMIT 5"
      ],
      "execution_count": 6,
      "outputs": [
        {
          "output_type": "stream",
          "text": [
            " * sqlite:///factbook.db\n",
            "Done.\n"
          ],
          "name": "stdout"
        },
        {
          "output_type": "execute_result",
          "data": {
            "text/html": [
              "<table>\n",
              "    <tr>\n",
              "        <th>id</th>\n",
              "        <th>code</th>\n",
              "        <th>name</th>\n",
              "        <th>area</th>\n",
              "        <th>area_land</th>\n",
              "        <th>area_water</th>\n",
              "        <th>population</th>\n",
              "        <th>population_growth</th>\n",
              "        <th>birth_rate</th>\n",
              "        <th>death_rate</th>\n",
              "        <th>migration_rate</th>\n",
              "    </tr>\n",
              "    <tr>\n",
              "        <td>1</td>\n",
              "        <td>af</td>\n",
              "        <td>Afghanistan</td>\n",
              "        <td>652230</td>\n",
              "        <td>652230</td>\n",
              "        <td>0</td>\n",
              "        <td>32564342</td>\n",
              "        <td>2.32</td>\n",
              "        <td>38.57</td>\n",
              "        <td>13.89</td>\n",
              "        <td>1.51</td>\n",
              "    </tr>\n",
              "    <tr>\n",
              "        <td>2</td>\n",
              "        <td>al</td>\n",
              "        <td>Albania</td>\n",
              "        <td>28748</td>\n",
              "        <td>27398</td>\n",
              "        <td>1350</td>\n",
              "        <td>3029278</td>\n",
              "        <td>0.3</td>\n",
              "        <td>12.92</td>\n",
              "        <td>6.58</td>\n",
              "        <td>3.3</td>\n",
              "    </tr>\n",
              "    <tr>\n",
              "        <td>3</td>\n",
              "        <td>ag</td>\n",
              "        <td>Algeria</td>\n",
              "        <td>2381741</td>\n",
              "        <td>2381741</td>\n",
              "        <td>0</td>\n",
              "        <td>39542166</td>\n",
              "        <td>1.84</td>\n",
              "        <td>23.67</td>\n",
              "        <td>4.31</td>\n",
              "        <td>0.92</td>\n",
              "    </tr>\n",
              "    <tr>\n",
              "        <td>4</td>\n",
              "        <td>an</td>\n",
              "        <td>Andorra</td>\n",
              "        <td>468</td>\n",
              "        <td>468</td>\n",
              "        <td>0</td>\n",
              "        <td>85580</td>\n",
              "        <td>0.12</td>\n",
              "        <td>8.13</td>\n",
              "        <td>6.96</td>\n",
              "        <td>0.0</td>\n",
              "    </tr>\n",
              "    <tr>\n",
              "        <td>5</td>\n",
              "        <td>ao</td>\n",
              "        <td>Angola</td>\n",
              "        <td>1246700</td>\n",
              "        <td>1246700</td>\n",
              "        <td>0</td>\n",
              "        <td>19625353</td>\n",
              "        <td>2.78</td>\n",
              "        <td>38.78</td>\n",
              "        <td>11.49</td>\n",
              "        <td>0.46</td>\n",
              "    </tr>\n",
              "</table>"
            ],
            "text/plain": [
              "[(1, 'af', 'Afghanistan', 652230, 652230, 0, 32564342, 2.32, 38.57, 13.89, 1.51),\n",
              " (2, 'al', 'Albania', 28748, 27398, 1350, 3029278, 0.3, 12.92, 6.58, 3.3),\n",
              " (3, 'ag', 'Algeria', 2381741, 2381741, 0, 39542166, 1.84, 23.67, 4.31, 0.92),\n",
              " (4, 'an', 'Andorra', 468, 468, 0, 85580, 0.12, 8.13, 6.96, 0.0),\n",
              " (5, 'ao', 'Angola', 1246700, 1246700, 0, 19625353, 2.78, 38.78, 11.49, 0.46)]"
            ]
          },
          "metadata": {
            "tags": []
          },
          "execution_count": 6
        }
      ]
    },
    {
      "cell_type": "markdown",
      "metadata": {
        "id": "LeoZXO7VoZMh",
        "colab_type": "text"
      },
      "source": [
        "In addition to the `facts` table we've added a new table, called `cities` which contains information on [major urban areas](https://www.cia.gov/library/publications/the-world-factbook/docs/notesanddefs.html?fieldkey=2219&term=Major%20urban%20areas%20-%20population) from countries in the Factbook (for the rest of this mission, we'll use the word 'cities' to mean the same as 'major urban areas'). Let's take a look at the first few rows of this new table and a description of what each column represents:\n",
        "\n"
      ]
    },
    {
      "cell_type": "code",
      "metadata": {
        "id": "L3IeqE6hrgbn",
        "colab_type": "code",
        "colab": {
          "base_uri": "https://localhost:8080/",
          "height": 179
        },
        "outputId": "28fd3b6c-966e-4153-dd53-072de9796f10"
      },
      "source": [
        "%%sql\n",
        "\n",
        "  SELECT * \n",
        "  FROM cities\n",
        "  LIMIT 5"
      ],
      "execution_count": 7,
      "outputs": [
        {
          "output_type": "stream",
          "text": [
            " * sqlite:///factbook.db\n",
            "Done.\n"
          ],
          "name": "stdout"
        },
        {
          "output_type": "execute_result",
          "data": {
            "text/html": [
              "<table>\n",
              "    <tr>\n",
              "        <th>id</th>\n",
              "        <th>name</th>\n",
              "        <th>population</th>\n",
              "        <th>capital</th>\n",
              "        <th>facts_id</th>\n",
              "    </tr>\n",
              "    <tr>\n",
              "        <td>1</td>\n",
              "        <td>Oranjestad</td>\n",
              "        <td>37000</td>\n",
              "        <td>1</td>\n",
              "        <td>216</td>\n",
              "    </tr>\n",
              "    <tr>\n",
              "        <td>2</td>\n",
              "        <td>Saint John&#x27;S</td>\n",
              "        <td>27000</td>\n",
              "        <td>1</td>\n",
              "        <td>6</td>\n",
              "    </tr>\n",
              "    <tr>\n",
              "        <td>3</td>\n",
              "        <td>Abu Dhabi</td>\n",
              "        <td>942000</td>\n",
              "        <td>1</td>\n",
              "        <td>184</td>\n",
              "    </tr>\n",
              "    <tr>\n",
              "        <td>4</td>\n",
              "        <td>Dubai</td>\n",
              "        <td>1978000</td>\n",
              "        <td>0</td>\n",
              "        <td>184</td>\n",
              "    </tr>\n",
              "    <tr>\n",
              "        <td>5</td>\n",
              "        <td>Sharjah</td>\n",
              "        <td>983000</td>\n",
              "        <td>0</td>\n",
              "        <td>184</td>\n",
              "    </tr>\n",
              "</table>"
            ],
            "text/plain": [
              "[(1, 'Oranjestad', 37000, 1, '216'),\n",
              " (2, \"Saint John'S\", 27000, 1, '6'),\n",
              " (3, 'Abu Dhabi', 942000, 1, '184'),\n",
              " (4, 'Dubai', 1978000, 0, '184'),\n",
              " (5, 'Sharjah', 983000, 0, '184')]"
            ]
          },
          "metadata": {
            "tags": []
          },
          "execution_count": 7
        }
      ]
    },
    {
      "cell_type": "markdown",
      "metadata": {
        "id": "bmwGNqGnrlIU",
        "colab_type": "text"
      },
      "source": [
        "- `id` - A unique ID for each city.\n",
        "- `name` - The name of the city.\n",
        "- `population` - The population of the city.\n",
        "- `capital` - Whether the city is a capital city: `1` if it is, `0` if it isn't.\n",
        "- `facts_id` - The ID of the country, from the `facts` table.\n",
        "\n",
        "The last column is of particular interest to us, as it is a column of data that also exists in our original `facts` table. This link between tables is important as it's used to combine the data in our queries. Below is a **schema diagram**, which shows the two tables in our database, the columns within them and how the two are linked.\n",
        "![alt text](https://s3.amazonaws.com/dq-content/179/schema.svg)"
      ]
    },
    {
      "cell_type": "markdown",
      "metadata": {
        "id": "wULmeNjU2f9z",
        "colab_type": "text"
      },
      "source": [
        "The line in the schema diagram clearly shows the link between the `id` column in the `facts` table and the `facts_id` column in the `cities` table. You may need to refer back to this schema diagram throughout the mission.\n",
        "\n",
        "The most common way to join data using SQL is using an **inner join**. The syntax for an inner join is:\n",
        "```\n",
        "SELECT [column_names] FROM [table_name_one]\n",
        "INNER JOIN [table_name_two] ON [join_constraint];\n",
        "```\n",
        "\n",
        "\n",
        "The inner join clause is made up of two parts:\n",
        "\n",
        "- `INNER JOIN`, which tells the SQL engine the name of the table you wish to join in your query, and that you wish to use an inner join.\n",
        "- `ON`, which tells the SQL engine what columns to use to join the two tables.\n",
        "\n",
        "Joins are usually used in a query after the `FROM` clause. Let's look at a basic inner join where we combine the data from both of our tables.\n",
        "\n"
      ]
    },
    {
      "cell_type": "code",
      "metadata": {
        "id": "j7ciH4Wt2x34",
        "colab_type": "code",
        "colab": {
          "base_uri": "https://localhost:8080/",
          "height": 335
        },
        "outputId": "14991f70-6da1-4e7e-935d-fe16409c4e70"
      },
      "source": [
        "%%sql \n",
        "\n",
        "SELECT * FROM facts\n",
        "INNER JOIN cities ON cities.facts_id = facts.id\n",
        "LIMIT 5;"
      ],
      "execution_count": 8,
      "outputs": [
        {
          "output_type": "stream",
          "text": [
            " * sqlite:///factbook.db\n",
            "Done.\n"
          ],
          "name": "stdout"
        },
        {
          "output_type": "execute_result",
          "data": {
            "text/html": [
              "<table>\n",
              "    <tr>\n",
              "        <th>id</th>\n",
              "        <th>code</th>\n",
              "        <th>name</th>\n",
              "        <th>area</th>\n",
              "        <th>area_land</th>\n",
              "        <th>area_water</th>\n",
              "        <th>population</th>\n",
              "        <th>population_growth</th>\n",
              "        <th>birth_rate</th>\n",
              "        <th>death_rate</th>\n",
              "        <th>migration_rate</th>\n",
              "        <th>id_1</th>\n",
              "        <th>name_1</th>\n",
              "        <th>population_1</th>\n",
              "        <th>capital</th>\n",
              "        <th>facts_id</th>\n",
              "    </tr>\n",
              "    <tr>\n",
              "        <td>216</td>\n",
              "        <td>aa</td>\n",
              "        <td>Aruba</td>\n",
              "        <td>180</td>\n",
              "        <td>180</td>\n",
              "        <td>0</td>\n",
              "        <td>112162</td>\n",
              "        <td>1.33</td>\n",
              "        <td>12.56</td>\n",
              "        <td>8.18</td>\n",
              "        <td>8.92</td>\n",
              "        <td>1</td>\n",
              "        <td>Oranjestad</td>\n",
              "        <td>37000</td>\n",
              "        <td>1</td>\n",
              "        <td>216</td>\n",
              "    </tr>\n",
              "    <tr>\n",
              "        <td>6</td>\n",
              "        <td>ac</td>\n",
              "        <td>Antigua and Barbuda</td>\n",
              "        <td>442</td>\n",
              "        <td>442</td>\n",
              "        <td>0</td>\n",
              "        <td>92436</td>\n",
              "        <td>1.24</td>\n",
              "        <td>15.85</td>\n",
              "        <td>5.69</td>\n",
              "        <td>2.21</td>\n",
              "        <td>2</td>\n",
              "        <td>Saint John&#x27;S</td>\n",
              "        <td>27000</td>\n",
              "        <td>1</td>\n",
              "        <td>6</td>\n",
              "    </tr>\n",
              "    <tr>\n",
              "        <td>184</td>\n",
              "        <td>ae</td>\n",
              "        <td>United Arab Emirates</td>\n",
              "        <td>83600</td>\n",
              "        <td>83600</td>\n",
              "        <td>0</td>\n",
              "        <td>5779760</td>\n",
              "        <td>2.58</td>\n",
              "        <td>15.43</td>\n",
              "        <td>1.97</td>\n",
              "        <td>12.36</td>\n",
              "        <td>3</td>\n",
              "        <td>Abu Dhabi</td>\n",
              "        <td>942000</td>\n",
              "        <td>1</td>\n",
              "        <td>184</td>\n",
              "    </tr>\n",
              "    <tr>\n",
              "        <td>184</td>\n",
              "        <td>ae</td>\n",
              "        <td>United Arab Emirates</td>\n",
              "        <td>83600</td>\n",
              "        <td>83600</td>\n",
              "        <td>0</td>\n",
              "        <td>5779760</td>\n",
              "        <td>2.58</td>\n",
              "        <td>15.43</td>\n",
              "        <td>1.97</td>\n",
              "        <td>12.36</td>\n",
              "        <td>4</td>\n",
              "        <td>Dubai</td>\n",
              "        <td>1978000</td>\n",
              "        <td>0</td>\n",
              "        <td>184</td>\n",
              "    </tr>\n",
              "    <tr>\n",
              "        <td>184</td>\n",
              "        <td>ae</td>\n",
              "        <td>United Arab Emirates</td>\n",
              "        <td>83600</td>\n",
              "        <td>83600</td>\n",
              "        <td>0</td>\n",
              "        <td>5779760</td>\n",
              "        <td>2.58</td>\n",
              "        <td>15.43</td>\n",
              "        <td>1.97</td>\n",
              "        <td>12.36</td>\n",
              "        <td>5</td>\n",
              "        <td>Sharjah</td>\n",
              "        <td>983000</td>\n",
              "        <td>0</td>\n",
              "        <td>184</td>\n",
              "    </tr>\n",
              "</table>"
            ],
            "text/plain": [
              "[(216, 'aa', 'Aruba', 180, 180, 0, 112162, 1.33, 12.56, 8.18, 8.92, 1, 'Oranjestad', 37000, 1, '216'),\n",
              " (6, 'ac', 'Antigua and Barbuda', 442, 442, 0, 92436, 1.24, 15.85, 5.69, 2.21, 2, \"Saint John'S\", 27000, 1, '6'),\n",
              " (184, 'ae', 'United Arab Emirates', 83600, 83600, 0, 5779760, 2.58, 15.43, 1.97, 12.36, 3, 'Abu Dhabi', 942000, 1, '184'),\n",
              " (184, 'ae', 'United Arab Emirates', 83600, 83600, 0, 5779760, 2.58, 15.43, 1.97, 12.36, 4, 'Dubai', 1978000, 0, '184'),\n",
              " (184, 'ae', 'United Arab Emirates', 83600, 83600, 0, 5779760, 2.58, 15.43, 1.97, 12.36, 5, 'Sharjah', 983000, 0, '184')]"
            ]
          },
          "metadata": {
            "tags": []
          },
          "execution_count": 8
        }
      ]
    },
    {
      "cell_type": "markdown",
      "metadata": {
        "id": "BMa1j-PB22iu",
        "colab_type": "text"
      },
      "source": [
        "Let's look at the line of the query with the join in it:\n",
        "\n",
        "- `INNER JOIN cities` - This tells the SQL engine that we wish to join the `cities` table to our query using an inner join.\n",
        "- `ON cities.facts_id = facts.id` - This tells the SQL engine which columns to use when joining the data, following the syntax `table_name.column_name`.\n",
        "\n",
        "You might presume that `SELECT * FROM facts` will mean that the query returns only columns from the `facts` table, however the `*` wildcard when used with a join will give you all columns from both tables. Above is the result of this query.\n",
        "\n",
        "This query gives us all columns from both tables and every row where there is a match between the `id` column from `facts` and the `facts_id` from `cities`, limited to the first 5 rows. Let's practice writing our first join.\n",
        "\n",
        "**Instructions:**\n",
        "\n",
        "Write a query that returns all columns from the `facts` and `cities` tables.\n",
        "- Use an `INNER JOIN` to join the `cities` table to the `facts` table.\n",
        "- Join the tables on the values where `facts.id` and `cities.facts_id` are equal.\n",
        "- Limit the query to the first 10 rows."
      ]
    },
    {
      "cell_type": "code",
      "metadata": {
        "id": "u53IaP2w22SO",
        "colab_type": "code",
        "colab": {
          "base_uri": "https://localhost:8080/",
          "height": 389
        },
        "outputId": "9dc81e35-f81e-42ff-a95d-523af8ea2357"
      },
      "source": [
        "%%sql\n",
        "\n",
        "SELECT * FROM facts\n",
        " INNER JOIN cities ON cities.facts_id = facts.id\n",
        " LIMIT 10;"
      ],
      "execution_count": 9,
      "outputs": [
        {
          "output_type": "stream",
          "text": [
            " * sqlite:///factbook.db\n",
            "Done.\n"
          ],
          "name": "stdout"
        },
        {
          "output_type": "execute_result",
          "data": {
            "text/html": [
              "<table>\n",
              "    <tr>\n",
              "        <th>id</th>\n",
              "        <th>code</th>\n",
              "        <th>name</th>\n",
              "        <th>area</th>\n",
              "        <th>area_land</th>\n",
              "        <th>area_water</th>\n",
              "        <th>population</th>\n",
              "        <th>population_growth</th>\n",
              "        <th>birth_rate</th>\n",
              "        <th>death_rate</th>\n",
              "        <th>migration_rate</th>\n",
              "        <th>id_1</th>\n",
              "        <th>name_1</th>\n",
              "        <th>population_1</th>\n",
              "        <th>capital</th>\n",
              "        <th>facts_id</th>\n",
              "    </tr>\n",
              "    <tr>\n",
              "        <td>216</td>\n",
              "        <td>aa</td>\n",
              "        <td>Aruba</td>\n",
              "        <td>180</td>\n",
              "        <td>180</td>\n",
              "        <td>0</td>\n",
              "        <td>112162</td>\n",
              "        <td>1.33</td>\n",
              "        <td>12.56</td>\n",
              "        <td>8.18</td>\n",
              "        <td>8.92</td>\n",
              "        <td>1</td>\n",
              "        <td>Oranjestad</td>\n",
              "        <td>37000</td>\n",
              "        <td>1</td>\n",
              "        <td>216</td>\n",
              "    </tr>\n",
              "    <tr>\n",
              "        <td>6</td>\n",
              "        <td>ac</td>\n",
              "        <td>Antigua and Barbuda</td>\n",
              "        <td>442</td>\n",
              "        <td>442</td>\n",
              "        <td>0</td>\n",
              "        <td>92436</td>\n",
              "        <td>1.24</td>\n",
              "        <td>15.85</td>\n",
              "        <td>5.69</td>\n",
              "        <td>2.21</td>\n",
              "        <td>2</td>\n",
              "        <td>Saint John&#x27;S</td>\n",
              "        <td>27000</td>\n",
              "        <td>1</td>\n",
              "        <td>6</td>\n",
              "    </tr>\n",
              "    <tr>\n",
              "        <td>184</td>\n",
              "        <td>ae</td>\n",
              "        <td>United Arab Emirates</td>\n",
              "        <td>83600</td>\n",
              "        <td>83600</td>\n",
              "        <td>0</td>\n",
              "        <td>5779760</td>\n",
              "        <td>2.58</td>\n",
              "        <td>15.43</td>\n",
              "        <td>1.97</td>\n",
              "        <td>12.36</td>\n",
              "        <td>3</td>\n",
              "        <td>Abu Dhabi</td>\n",
              "        <td>942000</td>\n",
              "        <td>1</td>\n",
              "        <td>184</td>\n",
              "    </tr>\n",
              "    <tr>\n",
              "        <td>184</td>\n",
              "        <td>ae</td>\n",
              "        <td>United Arab Emirates</td>\n",
              "        <td>83600</td>\n",
              "        <td>83600</td>\n",
              "        <td>0</td>\n",
              "        <td>5779760</td>\n",
              "        <td>2.58</td>\n",
              "        <td>15.43</td>\n",
              "        <td>1.97</td>\n",
              "        <td>12.36</td>\n",
              "        <td>4</td>\n",
              "        <td>Dubai</td>\n",
              "        <td>1978000</td>\n",
              "        <td>0</td>\n",
              "        <td>184</td>\n",
              "    </tr>\n",
              "    <tr>\n",
              "        <td>184</td>\n",
              "        <td>ae</td>\n",
              "        <td>United Arab Emirates</td>\n",
              "        <td>83600</td>\n",
              "        <td>83600</td>\n",
              "        <td>0</td>\n",
              "        <td>5779760</td>\n",
              "        <td>2.58</td>\n",
              "        <td>15.43</td>\n",
              "        <td>1.97</td>\n",
              "        <td>12.36</td>\n",
              "        <td>5</td>\n",
              "        <td>Sharjah</td>\n",
              "        <td>983000</td>\n",
              "        <td>0</td>\n",
              "        <td>184</td>\n",
              "    </tr>\n",
              "    <tr>\n",
              "        <td>1</td>\n",
              "        <td>af</td>\n",
              "        <td>Afghanistan</td>\n",
              "        <td>652230</td>\n",
              "        <td>652230</td>\n",
              "        <td>0</td>\n",
              "        <td>32564342</td>\n",
              "        <td>2.32</td>\n",
              "        <td>38.57</td>\n",
              "        <td>13.89</td>\n",
              "        <td>1.51</td>\n",
              "        <td>6</td>\n",
              "        <td>Kabul</td>\n",
              "        <td>3097000</td>\n",
              "        <td>1</td>\n",
              "        <td>1</td>\n",
              "    </tr>\n",
              "    <tr>\n",
              "        <td>3</td>\n",
              "        <td>ag</td>\n",
              "        <td>Algeria</td>\n",
              "        <td>2381741</td>\n",
              "        <td>2381741</td>\n",
              "        <td>0</td>\n",
              "        <td>39542166</td>\n",
              "        <td>1.84</td>\n",
              "        <td>23.67</td>\n",
              "        <td>4.31</td>\n",
              "        <td>0.92</td>\n",
              "        <td>7</td>\n",
              "        <td>Algiers</td>\n",
              "        <td>2916000</td>\n",
              "        <td>1</td>\n",
              "        <td>3</td>\n",
              "    </tr>\n",
              "    <tr>\n",
              "        <td>3</td>\n",
              "        <td>ag</td>\n",
              "        <td>Algeria</td>\n",
              "        <td>2381741</td>\n",
              "        <td>2381741</td>\n",
              "        <td>0</td>\n",
              "        <td>39542166</td>\n",
              "        <td>1.84</td>\n",
              "        <td>23.67</td>\n",
              "        <td>4.31</td>\n",
              "        <td>0.92</td>\n",
              "        <td>8</td>\n",
              "        <td>Oran</td>\n",
              "        <td>783000</td>\n",
              "        <td>0</td>\n",
              "        <td>3</td>\n",
              "    </tr>\n",
              "    <tr>\n",
              "        <td>11</td>\n",
              "        <td>aj</td>\n",
              "        <td>Azerbaijan</td>\n",
              "        <td>86600</td>\n",
              "        <td>82629</td>\n",
              "        <td>3971</td>\n",
              "        <td>9780780</td>\n",
              "        <td>0.96</td>\n",
              "        <td>16.64</td>\n",
              "        <td>7.07</td>\n",
              "        <td>0.0</td>\n",
              "        <td>9</td>\n",
              "        <td>Baku</td>\n",
              "        <td>2123000</td>\n",
              "        <td>1</td>\n",
              "        <td>11</td>\n",
              "    </tr>\n",
              "    <tr>\n",
              "        <td>2</td>\n",
              "        <td>al</td>\n",
              "        <td>Albania</td>\n",
              "        <td>28748</td>\n",
              "        <td>27398</td>\n",
              "        <td>1350</td>\n",
              "        <td>3029278</td>\n",
              "        <td>0.3</td>\n",
              "        <td>12.92</td>\n",
              "        <td>6.58</td>\n",
              "        <td>3.3</td>\n",
              "        <td>10</td>\n",
              "        <td>Tirana</td>\n",
              "        <td>419000</td>\n",
              "        <td>1</td>\n",
              "        <td>2</td>\n",
              "    </tr>\n",
              "</table>"
            ],
            "text/plain": [
              "[(216, 'aa', 'Aruba', 180, 180, 0, 112162, 1.33, 12.56, 8.18, 8.92, 1, 'Oranjestad', 37000, 1, '216'),\n",
              " (6, 'ac', 'Antigua and Barbuda', 442, 442, 0, 92436, 1.24, 15.85, 5.69, 2.21, 2, \"Saint John'S\", 27000, 1, '6'),\n",
              " (184, 'ae', 'United Arab Emirates', 83600, 83600, 0, 5779760, 2.58, 15.43, 1.97, 12.36, 3, 'Abu Dhabi', 942000, 1, '184'),\n",
              " (184, 'ae', 'United Arab Emirates', 83600, 83600, 0, 5779760, 2.58, 15.43, 1.97, 12.36, 4, 'Dubai', 1978000, 0, '184'),\n",
              " (184, 'ae', 'United Arab Emirates', 83600, 83600, 0, 5779760, 2.58, 15.43, 1.97, 12.36, 5, 'Sharjah', 983000, 0, '184'),\n",
              " (1, 'af', 'Afghanistan', 652230, 652230, 0, 32564342, 2.32, 38.57, 13.89, 1.51, 6, 'Kabul', 3097000, 1, '1'),\n",
              " (3, 'ag', 'Algeria', 2381741, 2381741, 0, 39542166, 1.84, 23.67, 4.31, 0.92, 7, 'Algiers', 2916000, 1, '3'),\n",
              " (3, 'ag', 'Algeria', 2381741, 2381741, 0, 39542166, 1.84, 23.67, 4.31, 0.92, 8, 'Oran', 783000, 0, '3'),\n",
              " (11, 'aj', 'Azerbaijan', 86600, 82629, 3971, 9780780, 0.96, 16.64, 7.07, 0.0, 9, 'Baku', 2123000, 1, '11'),\n",
              " (2, 'al', 'Albania', 28748, 27398, 1350, 3029278, 0.3, 12.92, 6.58, 3.3, 10, 'Tirana', 419000, 1, '2')]"
            ]
          },
          "metadata": {
            "tags": []
          },
          "execution_count": 9
        }
      ]
    },
    {
      "cell_type": "markdown",
      "metadata": {
        "id": "O1WHSSzYoZPM",
        "colab_type": "text"
      },
      "source": [
        "## 2. Understanding Inner Joins"
      ]
    },
    {
      "cell_type": "markdown",
      "metadata": {
        "id": "XTP7_fg3oZRp",
        "colab_type": "text"
      },
      "source": [
        "We've now joined the two tables to give us extra information about each row in `cities`. Let's take a closer look at how this inner join works.\n",
        "\n",
        "An inner join works by including only rows from each table that have a match as specified using the `ON` clause. Let's look at a diagram of how our join from the previous screen works. We have included a selection of rows which best illustrate the join:\n",
        "\n",
        "![alt text](https://s3.amazonaws.com/dq-content/179/inner_join.svg)\n",
        "\n",
        "Our inner join **will** include:\n",
        "\n",
        "- Rows from the `cities` table that have a `cities.facts_id` that matches a `facts.id` from `facts`.\n",
        "\n",
        "Our inner join **will not** include:\n",
        "\n",
        "- Rows from the `cities` table that have a `cities.facts_id` that doesn't match any `facts.id` from `facts`.\n",
        "- Rows from the `facts` table that have a `facts.id` that doesn't match any `cities.facts_id` from `cities`.\n",
        "\n",
        "You can see this represented as a Venn diagram:\n",
        "![alt text](https://s3.amazonaws.com/dq-content/179/venn_inner.svg)\n",
        "\n",
        "In the SQL fundamentals course, we learned how to use [aliases](https://www.tutorialspoint.com/sqlite/sqlite_alias_syntax.htm) to specify custom names for columns, eg:\n",
        "```\n",
        "SELECT AVG(population) AS AVERAGE_POPULATION\n",
        "```\n",
        "\n",
        "We can also create aliases for table names, which makes queries with joins easier to both read and write. Instead of:\n",
        "\n",
        "```\n",
        "SELECT * FROM facts\n",
        "INNER JOIN cities ON cities.facts_id = facts.id\n",
        "```\n",
        "\n",
        "We can write:\n",
        "```\n",
        "SELECT * FROM facts AS f\n",
        "INNER JOIN cities AS c ON c.facts_id = f.id\n",
        "```\n",
        "\n",
        "\n",
        "Just like with column names, using AS is optional. We can get the same result by writing:\n",
        "```\n",
        "SELECT * FROM facts f\n",
        "INNER JOIN cities c ON c.facts_id = f.id\n",
        "```\n",
        "\n",
        "We can also combine aliases with wildcards - for instance, using the aliases created above, `c.*` would give us all columns from the table `cities`.\n",
        "\n",
        "While our query from the previous screen included both columns from the `ON` clause, we don't need to use either column from our `ON` clause in our final list of columns. This is useful as it means we can show only the information we're interested in, rather than having to include the two join columns every time.\n",
        "\n",
        "Let's use what we've learned to build on our original query.\n",
        "\n",
        "\n",
        "**Instructions:**\n",
        "\n",
        "Write a query that:\n",
        "- Joins `cities` to `facts` using an `INNER JOIN`.\n",
        "- Uses aliases for table names.\n",
        "- Includes, in order:\n",
        "  - All columns from `cities`.\n",
        "  - The `name` column from `facts` aliased to `country_name`.\n",
        "- Includes only the first 5 rows.\n"
      ]
    },
    {
      "cell_type": "code",
      "metadata": {
        "id": "-5uCve0s5UBz",
        "colab_type": "code",
        "colab": {
          "base_uri": "https://localhost:8080/",
          "height": 179
        },
        "outputId": "39f784af-c423-4b0e-a597-c1dec8d35b8c"
      },
      "source": [
        "%%sql\n",
        "\n",
        "SELECT c.*, f.name country_name FROM facts f\n",
        "INNER JOIN cities c ON c.facts_id = f.id\n",
        "LIMIT 5;"
      ],
      "execution_count": 10,
      "outputs": [
        {
          "output_type": "stream",
          "text": [
            " * sqlite:///factbook.db\n",
            "Done.\n"
          ],
          "name": "stdout"
        },
        {
          "output_type": "execute_result",
          "data": {
            "text/html": [
              "<table>\n",
              "    <tr>\n",
              "        <th>id</th>\n",
              "        <th>name</th>\n",
              "        <th>population</th>\n",
              "        <th>capital</th>\n",
              "        <th>facts_id</th>\n",
              "        <th>country_name</th>\n",
              "    </tr>\n",
              "    <tr>\n",
              "        <td>1</td>\n",
              "        <td>Oranjestad</td>\n",
              "        <td>37000</td>\n",
              "        <td>1</td>\n",
              "        <td>216</td>\n",
              "        <td>Aruba</td>\n",
              "    </tr>\n",
              "    <tr>\n",
              "        <td>2</td>\n",
              "        <td>Saint John&#x27;S</td>\n",
              "        <td>27000</td>\n",
              "        <td>1</td>\n",
              "        <td>6</td>\n",
              "        <td>Antigua and Barbuda</td>\n",
              "    </tr>\n",
              "    <tr>\n",
              "        <td>3</td>\n",
              "        <td>Abu Dhabi</td>\n",
              "        <td>942000</td>\n",
              "        <td>1</td>\n",
              "        <td>184</td>\n",
              "        <td>United Arab Emirates</td>\n",
              "    </tr>\n",
              "    <tr>\n",
              "        <td>4</td>\n",
              "        <td>Dubai</td>\n",
              "        <td>1978000</td>\n",
              "        <td>0</td>\n",
              "        <td>184</td>\n",
              "        <td>United Arab Emirates</td>\n",
              "    </tr>\n",
              "    <tr>\n",
              "        <td>5</td>\n",
              "        <td>Sharjah</td>\n",
              "        <td>983000</td>\n",
              "        <td>0</td>\n",
              "        <td>184</td>\n",
              "        <td>United Arab Emirates</td>\n",
              "    </tr>\n",
              "</table>"
            ],
            "text/plain": [
              "[(1, 'Oranjestad', 37000, 1, '216', 'Aruba'),\n",
              " (2, \"Saint John'S\", 27000, 1, '6', 'Antigua and Barbuda'),\n",
              " (3, 'Abu Dhabi', 942000, 1, '184', 'United Arab Emirates'),\n",
              " (4, 'Dubai', 1978000, 0, '184', 'United Arab Emirates'),\n",
              " (5, 'Sharjah', 983000, 0, '184', 'United Arab Emirates')]"
            ]
          },
          "metadata": {
            "tags": []
          },
          "execution_count": 10
        }
      ]
    },
    {
      "cell_type": "markdown",
      "metadata": {
        "id": "UeK4hf1doZUj",
        "colab_type": "text"
      },
      "source": [
        "## 3. Practicing Inner Joins"
      ]
    },
    {
      "cell_type": "markdown",
      "metadata": {
        "id": "z1XilMvyoZW3",
        "colab_type": "text"
      },
      "source": [
        "Let's practice writing a query to answer a question from our database using an inner join. Say we want to produce a table of countries and their capital cities from our database using what we've learned so far. Our first step is to think about what columns we'll need in our final query. We'll need:\n",
        "\n",
        "- The `name` column from `facts`\n",
        "- The `name` column from `cities`\n",
        "\n",
        "Given that we've identified that we need data from two tables, we need to think about how to join them. The schema diagram from earlier indicated that there is only one column in each table that links them together, so we can use an inner join with those columns to join the data.\n",
        "\n",
        "So far, thinking through our question we can already write most of our query:\n",
        "```\n",
        "SELECT f.name, c.name FROM cities c\n",
        "INNER JOIN facts f ON f.id = c.facts_id\n",
        "```\n",
        "\n",
        "The last part of our process is to make sure we have the correct rows. From the previous two screens we know that a query like this will return all rows from `cities` that have a corresponding match from `facts` in the `facts_id` column. We're only interested in the capital cities from the cities table, so we'll need to use a `WHERE` clause on the `capital` column, which has a value of `1` if the city is a capital, and `0` if it isn't:\n",
        "```\n",
        "WHERE c.capital = 1\n",
        "```\n",
        "We can now put this all together to write a query that answers our question.\n",
        "\n",
        "\n",
        "**Instructions:**\n",
        "\n",
        "Write a query that uses an `INNER JOIN` to join the two tables in your query and returns, in order:\n",
        "- A column of country names, called `country`.\n",
        "- A column of each country's capital city, called `capital_city`.\n",
        "\n"
      ]
    },
    {
      "cell_type": "code",
      "metadata": {
        "id": "XMst7tqD53Q9",
        "colab_type": "code",
        "colab": {
          "base_uri": "https://localhost:8080/",
          "height": 389
        },
        "outputId": "82134cac-94a0-4b2e-bf50-ea62df58dd4c"
      },
      "source": [
        "%%sql\n",
        "\n",
        "SELECT f.name AS country, c.name AS capital_city FROM cities c\n",
        " INNER JOIN facts f ON f.id = c.facts_id\n",
        " WHERE c.capital = 1\n",
        " LIMIT 15;"
      ],
      "execution_count": 18,
      "outputs": [
        {
          "output_type": "stream",
          "text": [
            " * sqlite:///factbook.db\n",
            "Done.\n"
          ],
          "name": "stdout"
        },
        {
          "output_type": "execute_result",
          "data": {
            "text/html": [
              "<table>\n",
              "    <tr>\n",
              "        <th>country</th>\n",
              "        <th>capital_city</th>\n",
              "    </tr>\n",
              "    <tr>\n",
              "        <td>Aruba</td>\n",
              "        <td>Oranjestad</td>\n",
              "    </tr>\n",
              "    <tr>\n",
              "        <td>Antigua and Barbuda</td>\n",
              "        <td>Saint John&#x27;S</td>\n",
              "    </tr>\n",
              "    <tr>\n",
              "        <td>United Arab Emirates</td>\n",
              "        <td>Abu Dhabi</td>\n",
              "    </tr>\n",
              "    <tr>\n",
              "        <td>Afghanistan</td>\n",
              "        <td>Kabul</td>\n",
              "    </tr>\n",
              "    <tr>\n",
              "        <td>Algeria</td>\n",
              "        <td>Algiers</td>\n",
              "    </tr>\n",
              "    <tr>\n",
              "        <td>Azerbaijan</td>\n",
              "        <td>Baku</td>\n",
              "    </tr>\n",
              "    <tr>\n",
              "        <td>Albania</td>\n",
              "        <td>Tirana</td>\n",
              "    </tr>\n",
              "    <tr>\n",
              "        <td>Armenia</td>\n",
              "        <td>Yerevan</td>\n",
              "    </tr>\n",
              "    <tr>\n",
              "        <td>Andorra</td>\n",
              "        <td>Andorra La Vella</td>\n",
              "    </tr>\n",
              "    <tr>\n",
              "        <td>Angola</td>\n",
              "        <td>Luanda</td>\n",
              "    </tr>\n",
              "    <tr>\n",
              "        <td>American Samoa</td>\n",
              "        <td>Pago Pago</td>\n",
              "    </tr>\n",
              "    <tr>\n",
              "        <td>Argentina</td>\n",
              "        <td>Buenos Aires</td>\n",
              "    </tr>\n",
              "    <tr>\n",
              "        <td>Australia</td>\n",
              "        <td>Canberra</td>\n",
              "    </tr>\n",
              "    <tr>\n",
              "        <td>Austria</td>\n",
              "        <td>Vienna</td>\n",
              "    </tr>\n",
              "    <tr>\n",
              "        <td>Anguilla</td>\n",
              "        <td>The Valley</td>\n",
              "    </tr>\n",
              "</table>"
            ],
            "text/plain": [
              "[('Aruba', 'Oranjestad'),\n",
              " ('Antigua and Barbuda', \"Saint John'S\"),\n",
              " ('United Arab Emirates', 'Abu Dhabi'),\n",
              " ('Afghanistan', 'Kabul'),\n",
              " ('Algeria', 'Algiers'),\n",
              " ('Azerbaijan', 'Baku'),\n",
              " ('Albania', 'Tirana'),\n",
              " ('Armenia', 'Yerevan'),\n",
              " ('Andorra', 'Andorra La Vella'),\n",
              " ('Angola', 'Luanda'),\n",
              " ('American Samoa', 'Pago Pago'),\n",
              " ('Argentina', 'Buenos Aires'),\n",
              " ('Australia', 'Canberra'),\n",
              " ('Austria', 'Vienna'),\n",
              " ('Anguilla', 'The Valley')]"
            ]
          },
          "metadata": {
            "tags": []
          },
          "execution_count": 18
        }
      ]
    },
    {
      "cell_type": "markdown",
      "metadata": {
        "id": "cJCfjdJyoZZf",
        "colab_type": "text"
      },
      "source": [
        "## 4. Left Joins"
      ]
    },
    {
      "cell_type": "markdown",
      "metadata": {
        "id": "u1xXRkaHoZcW",
        "colab_type": "text"
      },
      "source": [
        "As we mentioned earlier, an inner join will not include any rows where there is not a mutual match from both tables. This means there could be information we are not seeing in our query where rows don't match.\n",
        "\n",
        "We can use some SQL queries to explore this:\n",
        "\n"
      ]
    },
    {
      "cell_type": "code",
      "metadata": {
        "id": "BDK2UNYO-thk",
        "colab_type": "code",
        "colab": {
          "base_uri": "https://localhost:8080/",
          "height": 95
        },
        "outputId": "13d2c7dc-674f-4ca2-e2c9-16938ff395b3"
      },
      "source": [
        "%%sql\n",
        "\n",
        "SELECT COUNT(DISTINCT(name)) FROM facts;"
      ],
      "execution_count": 12,
      "outputs": [
        {
          "output_type": "stream",
          "text": [
            " * sqlite:///factbook.db\n",
            "Done.\n"
          ],
          "name": "stdout"
        },
        {
          "output_type": "execute_result",
          "data": {
            "text/html": [
              "<table>\n",
              "    <tr>\n",
              "        <th>COUNT(DISTINCT(name))</th>\n",
              "    </tr>\n",
              "    <tr>\n",
              "        <td>261</td>\n",
              "    </tr>\n",
              "</table>"
            ],
            "text/plain": [
              "[(261,)]"
            ]
          },
          "metadata": {
            "tags": []
          },
          "execution_count": 12
        }
      ]
    },
    {
      "cell_type": "code",
      "metadata": {
        "id": "cqgaFJDF-uaq",
        "colab_type": "code",
        "colab": {
          "base_uri": "https://localhost:8080/",
          "height": 95
        },
        "outputId": "91468594-9681-4ef4-a5ba-f3c73beeb9a3"
      },
      "source": [
        "%%sql\n",
        "\n",
        "SELECT COUNT(DISTINCT(facts_id)) FROM cities;"
      ],
      "execution_count": 13,
      "outputs": [
        {
          "output_type": "stream",
          "text": [
            " * sqlite:///factbook.db\n",
            "Done.\n"
          ],
          "name": "stdout"
        },
        {
          "output_type": "execute_result",
          "data": {
            "text/html": [
              "<table>\n",
              "    <tr>\n",
              "        <th>COUNT(DISTINCT(facts_id))</th>\n",
              "    </tr>\n",
              "    <tr>\n",
              "        <td>210</td>\n",
              "    </tr>\n",
              "</table>"
            ],
            "text/plain": [
              "[(210,)]"
            ]
          },
          "metadata": {
            "tags": []
          },
          "execution_count": 13
        }
      ]
    },
    {
      "cell_type": "markdown",
      "metadata": {
        "id": "trD7-cKA-vGa",
        "colab_type": "text"
      },
      "source": [
        "By running these two queries, we can see that there are some countries in the `facts` table that don't have corresponding cities in the `cities` table, which indicates we may have some incomplete data.\n",
        "\n",
        "Let's look at how we can create a query to explore the missing data using a new type of join— the **left join**.\n",
        "\n",
        "A left join includes all the rows that an inner join will select, plus any rows from the first (or left) table that don't have a match in the second table. We can see this represented as a Venn diagram.\n",
        "\n",
        "![alt text](https://s3.amazonaws.com/dq-content/179/venn_left.svg)\n",
        "\n",
        "Let's look at an example by replacing INNER JOIN with LEFT JOIN from the first query we wrote, and looking at the same selection of rows from our earlier diagram\n",
        "\n"
      ]
    },
    {
      "cell_type": "code",
      "metadata": {
        "id": "cqFksOT9_LN5",
        "colab_type": "code",
        "colab": {
          "base_uri": "https://localhost:8080/",
          "height": 616
        },
        "outputId": "e882a22a-ced7-4420-f278-b8c9b04fa5b3"
      },
      "source": [
        "%%sql\n",
        "\n",
        "SELECT * FROM facts\n",
        "LEFT JOIN cities ON cities.facts_id = facts.id\n",
        "LIMIT 20"
      ],
      "execution_count": 14,
      "outputs": [
        {
          "output_type": "stream",
          "text": [
            " * sqlite:///factbook.db\n",
            "Done.\n"
          ],
          "name": "stdout"
        },
        {
          "output_type": "execute_result",
          "data": {
            "text/html": [
              "<table>\n",
              "    <tr>\n",
              "        <th>id</th>\n",
              "        <th>code</th>\n",
              "        <th>name</th>\n",
              "        <th>area</th>\n",
              "        <th>area_land</th>\n",
              "        <th>area_water</th>\n",
              "        <th>population</th>\n",
              "        <th>population_growth</th>\n",
              "        <th>birth_rate</th>\n",
              "        <th>death_rate</th>\n",
              "        <th>migration_rate</th>\n",
              "        <th>id_1</th>\n",
              "        <th>name_1</th>\n",
              "        <th>population_1</th>\n",
              "        <th>capital</th>\n",
              "        <th>facts_id</th>\n",
              "    </tr>\n",
              "    <tr>\n",
              "        <td>1</td>\n",
              "        <td>af</td>\n",
              "        <td>Afghanistan</td>\n",
              "        <td>652230</td>\n",
              "        <td>652230</td>\n",
              "        <td>0</td>\n",
              "        <td>32564342</td>\n",
              "        <td>2.32</td>\n",
              "        <td>38.57</td>\n",
              "        <td>13.89</td>\n",
              "        <td>1.51</td>\n",
              "        <td>6</td>\n",
              "        <td>Kabul</td>\n",
              "        <td>3097000</td>\n",
              "        <td>1</td>\n",
              "        <td>1</td>\n",
              "    </tr>\n",
              "    <tr>\n",
              "        <td>2</td>\n",
              "        <td>al</td>\n",
              "        <td>Albania</td>\n",
              "        <td>28748</td>\n",
              "        <td>27398</td>\n",
              "        <td>1350</td>\n",
              "        <td>3029278</td>\n",
              "        <td>0.3</td>\n",
              "        <td>12.92</td>\n",
              "        <td>6.58</td>\n",
              "        <td>3.3</td>\n",
              "        <td>10</td>\n",
              "        <td>Tirana</td>\n",
              "        <td>419000</td>\n",
              "        <td>1</td>\n",
              "        <td>2</td>\n",
              "    </tr>\n",
              "    <tr>\n",
              "        <td>3</td>\n",
              "        <td>ag</td>\n",
              "        <td>Algeria</td>\n",
              "        <td>2381741</td>\n",
              "        <td>2381741</td>\n",
              "        <td>0</td>\n",
              "        <td>39542166</td>\n",
              "        <td>1.84</td>\n",
              "        <td>23.67</td>\n",
              "        <td>4.31</td>\n",
              "        <td>0.92</td>\n",
              "        <td>7</td>\n",
              "        <td>Algiers</td>\n",
              "        <td>2916000</td>\n",
              "        <td>1</td>\n",
              "        <td>3</td>\n",
              "    </tr>\n",
              "    <tr>\n",
              "        <td>3</td>\n",
              "        <td>ag</td>\n",
              "        <td>Algeria</td>\n",
              "        <td>2381741</td>\n",
              "        <td>2381741</td>\n",
              "        <td>0</td>\n",
              "        <td>39542166</td>\n",
              "        <td>1.84</td>\n",
              "        <td>23.67</td>\n",
              "        <td>4.31</td>\n",
              "        <td>0.92</td>\n",
              "        <td>8</td>\n",
              "        <td>Oran</td>\n",
              "        <td>783000</td>\n",
              "        <td>0</td>\n",
              "        <td>3</td>\n",
              "    </tr>\n",
              "    <tr>\n",
              "        <td>4</td>\n",
              "        <td>an</td>\n",
              "        <td>Andorra</td>\n",
              "        <td>468</td>\n",
              "        <td>468</td>\n",
              "        <td>0</td>\n",
              "        <td>85580</td>\n",
              "        <td>0.12</td>\n",
              "        <td>8.13</td>\n",
              "        <td>6.96</td>\n",
              "        <td>0.0</td>\n",
              "        <td>12</td>\n",
              "        <td>Andorra La Vella</td>\n",
              "        <td>23000</td>\n",
              "        <td>1</td>\n",
              "        <td>4</td>\n",
              "    </tr>\n",
              "    <tr>\n",
              "        <td>5</td>\n",
              "        <td>ao</td>\n",
              "        <td>Angola</td>\n",
              "        <td>1246700</td>\n",
              "        <td>1246700</td>\n",
              "        <td>0</td>\n",
              "        <td>19625353</td>\n",
              "        <td>2.78</td>\n",
              "        <td>38.78</td>\n",
              "        <td>11.49</td>\n",
              "        <td>0.46</td>\n",
              "        <td>13</td>\n",
              "        <td>Luanda</td>\n",
              "        <td>5068000</td>\n",
              "        <td>1</td>\n",
              "        <td>5</td>\n",
              "    </tr>\n",
              "    <tr>\n",
              "        <td>5</td>\n",
              "        <td>ao</td>\n",
              "        <td>Angola</td>\n",
              "        <td>1246700</td>\n",
              "        <td>1246700</td>\n",
              "        <td>0</td>\n",
              "        <td>19625353</td>\n",
              "        <td>2.78</td>\n",
              "        <td>38.78</td>\n",
              "        <td>11.49</td>\n",
              "        <td>0.46</td>\n",
              "        <td>14</td>\n",
              "        <td>Huambo</td>\n",
              "        <td>1098000</td>\n",
              "        <td>0</td>\n",
              "        <td>5</td>\n",
              "    </tr>\n",
              "    <tr>\n",
              "        <td>6</td>\n",
              "        <td>ac</td>\n",
              "        <td>Antigua and Barbuda</td>\n",
              "        <td>442</td>\n",
              "        <td>442</td>\n",
              "        <td>0</td>\n",
              "        <td>92436</td>\n",
              "        <td>1.24</td>\n",
              "        <td>15.85</td>\n",
              "        <td>5.69</td>\n",
              "        <td>2.21</td>\n",
              "        <td>2</td>\n",
              "        <td>Saint John&#x27;S</td>\n",
              "        <td>27000</td>\n",
              "        <td>1</td>\n",
              "        <td>6</td>\n",
              "    </tr>\n",
              "    <tr>\n",
              "        <td>7</td>\n",
              "        <td>ar</td>\n",
              "        <td>Argentina</td>\n",
              "        <td>2780400</td>\n",
              "        <td>2736690</td>\n",
              "        <td>43710</td>\n",
              "        <td>43431886</td>\n",
              "        <td>0.93</td>\n",
              "        <td>16.64</td>\n",
              "        <td>7.33</td>\n",
              "        <td>0.0</td>\n",
              "        <td>16</td>\n",
              "        <td>Buenos Aires</td>\n",
              "        <td>13528000</td>\n",
              "        <td>1</td>\n",
              "        <td>7</td>\n",
              "    </tr>\n",
              "    <tr>\n",
              "        <td>7</td>\n",
              "        <td>ar</td>\n",
              "        <td>Argentina</td>\n",
              "        <td>2780400</td>\n",
              "        <td>2736690</td>\n",
              "        <td>43710</td>\n",
              "        <td>43431886</td>\n",
              "        <td>0.93</td>\n",
              "        <td>16.64</td>\n",
              "        <td>7.33</td>\n",
              "        <td>0.0</td>\n",
              "        <td>17</td>\n",
              "        <td>Cordoba</td>\n",
              "        <td>1556000</td>\n",
              "        <td>0</td>\n",
              "        <td>7</td>\n",
              "    </tr>\n",
              "    <tr>\n",
              "        <td>7</td>\n",
              "        <td>ar</td>\n",
              "        <td>Argentina</td>\n",
              "        <td>2780400</td>\n",
              "        <td>2736690</td>\n",
              "        <td>43710</td>\n",
              "        <td>43431886</td>\n",
              "        <td>0.93</td>\n",
              "        <td>16.64</td>\n",
              "        <td>7.33</td>\n",
              "        <td>0.0</td>\n",
              "        <td>18</td>\n",
              "        <td>Rosario</td>\n",
              "        <td>1283000</td>\n",
              "        <td>0</td>\n",
              "        <td>7</td>\n",
              "    </tr>\n",
              "    <tr>\n",
              "        <td>7</td>\n",
              "        <td>ar</td>\n",
              "        <td>Argentina</td>\n",
              "        <td>2780400</td>\n",
              "        <td>2736690</td>\n",
              "        <td>43710</td>\n",
              "        <td>43431886</td>\n",
              "        <td>0.93</td>\n",
              "        <td>16.64</td>\n",
              "        <td>7.33</td>\n",
              "        <td>0.0</td>\n",
              "        <td>19</td>\n",
              "        <td>Mendoza</td>\n",
              "        <td>957000</td>\n",
              "        <td>0</td>\n",
              "        <td>7</td>\n",
              "    </tr>\n",
              "    <tr>\n",
              "        <td>7</td>\n",
              "        <td>ar</td>\n",
              "        <td>Argentina</td>\n",
              "        <td>2780400</td>\n",
              "        <td>2736690</td>\n",
              "        <td>43710</td>\n",
              "        <td>43431886</td>\n",
              "        <td>0.93</td>\n",
              "        <td>16.64</td>\n",
              "        <td>7.33</td>\n",
              "        <td>0.0</td>\n",
              "        <td>20</td>\n",
              "        <td>San Miguel de Tucuman</td>\n",
              "        <td>868000</td>\n",
              "        <td>0</td>\n",
              "        <td>7</td>\n",
              "    </tr>\n",
              "    <tr>\n",
              "        <td>7</td>\n",
              "        <td>ar</td>\n",
              "        <td>Argentina</td>\n",
              "        <td>2780400</td>\n",
              "        <td>2736690</td>\n",
              "        <td>43710</td>\n",
              "        <td>43431886</td>\n",
              "        <td>0.93</td>\n",
              "        <td>16.64</td>\n",
              "        <td>7.33</td>\n",
              "        <td>0.0</td>\n",
              "        <td>21</td>\n",
              "        <td>La Plata</td>\n",
              "        <td>759000</td>\n",
              "        <td>0</td>\n",
              "        <td>7</td>\n",
              "    </tr>\n",
              "    <tr>\n",
              "        <td>8</td>\n",
              "        <td>am</td>\n",
              "        <td>Armenia</td>\n",
              "        <td>29743</td>\n",
              "        <td>28203</td>\n",
              "        <td>1540</td>\n",
              "        <td>3056382</td>\n",
              "        <td>0.15</td>\n",
              "        <td>13.61</td>\n",
              "        <td>9.34</td>\n",
              "        <td>5.8</td>\n",
              "        <td>11</td>\n",
              "        <td>Yerevan</td>\n",
              "        <td>1116000</td>\n",
              "        <td>1</td>\n",
              "        <td>8</td>\n",
              "    </tr>\n",
              "    <tr>\n",
              "        <td>9</td>\n",
              "        <td>as</td>\n",
              "        <td>Australia</td>\n",
              "        <td>7741220</td>\n",
              "        <td>7682300</td>\n",
              "        <td>58920</td>\n",
              "        <td>22751014</td>\n",
              "        <td>1.07</td>\n",
              "        <td>12.15</td>\n",
              "        <td>7.14</td>\n",
              "        <td>5.65</td>\n",
              "        <td>22</td>\n",
              "        <td>Sydney</td>\n",
              "        <td>4543000</td>\n",
              "        <td>0</td>\n",
              "        <td>9</td>\n",
              "    </tr>\n",
              "    <tr>\n",
              "        <td>9</td>\n",
              "        <td>as</td>\n",
              "        <td>Australia</td>\n",
              "        <td>7741220</td>\n",
              "        <td>7682300</td>\n",
              "        <td>58920</td>\n",
              "        <td>22751014</td>\n",
              "        <td>1.07</td>\n",
              "        <td>12.15</td>\n",
              "        <td>7.14</td>\n",
              "        <td>5.65</td>\n",
              "        <td>23</td>\n",
              "        <td>Melbourne</td>\n",
              "        <td>3961000</td>\n",
              "        <td>0</td>\n",
              "        <td>9</td>\n",
              "    </tr>\n",
              "    <tr>\n",
              "        <td>9</td>\n",
              "        <td>as</td>\n",
              "        <td>Australia</td>\n",
              "        <td>7741220</td>\n",
              "        <td>7682300</td>\n",
              "        <td>58920</td>\n",
              "        <td>22751014</td>\n",
              "        <td>1.07</td>\n",
              "        <td>12.15</td>\n",
              "        <td>7.14</td>\n",
              "        <td>5.65</td>\n",
              "        <td>24</td>\n",
              "        <td>Brisbane</td>\n",
              "        <td>2039000</td>\n",
              "        <td>0</td>\n",
              "        <td>9</td>\n",
              "    </tr>\n",
              "    <tr>\n",
              "        <td>9</td>\n",
              "        <td>as</td>\n",
              "        <td>Australia</td>\n",
              "        <td>7741220</td>\n",
              "        <td>7682300</td>\n",
              "        <td>58920</td>\n",
              "        <td>22751014</td>\n",
              "        <td>1.07</td>\n",
              "        <td>12.15</td>\n",
              "        <td>7.14</td>\n",
              "        <td>5.65</td>\n",
              "        <td>25</td>\n",
              "        <td>Perth</td>\n",
              "        <td>1649000</td>\n",
              "        <td>0</td>\n",
              "        <td>9</td>\n",
              "    </tr>\n",
              "    <tr>\n",
              "        <td>9</td>\n",
              "        <td>as</td>\n",
              "        <td>Australia</td>\n",
              "        <td>7741220</td>\n",
              "        <td>7682300</td>\n",
              "        <td>58920</td>\n",
              "        <td>22751014</td>\n",
              "        <td>1.07</td>\n",
              "        <td>12.15</td>\n",
              "        <td>7.14</td>\n",
              "        <td>5.65</td>\n",
              "        <td>26</td>\n",
              "        <td>Adelaide</td>\n",
              "        <td>1198000</td>\n",
              "        <td>0</td>\n",
              "        <td>9</td>\n",
              "    </tr>\n",
              "</table>"
            ],
            "text/plain": [
              "[(1, 'af', 'Afghanistan', 652230, 652230, 0, 32564342, 2.32, 38.57, 13.89, 1.51, 6, 'Kabul', 3097000, 1, '1'),\n",
              " (2, 'al', 'Albania', 28748, 27398, 1350, 3029278, 0.3, 12.92, 6.58, 3.3, 10, 'Tirana', 419000, 1, '2'),\n",
              " (3, 'ag', 'Algeria', 2381741, 2381741, 0, 39542166, 1.84, 23.67, 4.31, 0.92, 7, 'Algiers', 2916000, 1, '3'),\n",
              " (3, 'ag', 'Algeria', 2381741, 2381741, 0, 39542166, 1.84, 23.67, 4.31, 0.92, 8, 'Oran', 783000, 0, '3'),\n",
              " (4, 'an', 'Andorra', 468, 468, 0, 85580, 0.12, 8.13, 6.96, 0.0, 12, 'Andorra La Vella', 23000, 1, '4'),\n",
              " (5, 'ao', 'Angola', 1246700, 1246700, 0, 19625353, 2.78, 38.78, 11.49, 0.46, 13, 'Luanda', 5068000, 1, '5'),\n",
              " (5, 'ao', 'Angola', 1246700, 1246700, 0, 19625353, 2.78, 38.78, 11.49, 0.46, 14, 'Huambo', 1098000, 0, '5'),\n",
              " (6, 'ac', 'Antigua and Barbuda', 442, 442, 0, 92436, 1.24, 15.85, 5.69, 2.21, 2, \"Saint John'S\", 27000, 1, '6'),\n",
              " (7, 'ar', 'Argentina', 2780400, 2736690, 43710, 43431886, 0.93, 16.64, 7.33, 0.0, 16, 'Buenos Aires', 13528000, 1, '7'),\n",
              " (7, 'ar', 'Argentina', 2780400, 2736690, 43710, 43431886, 0.93, 16.64, 7.33, 0.0, 17, 'Cordoba', 1556000, 0, '7'),\n",
              " (7, 'ar', 'Argentina', 2780400, 2736690, 43710, 43431886, 0.93, 16.64, 7.33, 0.0, 18, 'Rosario', 1283000, 0, '7'),\n",
              " (7, 'ar', 'Argentina', 2780400, 2736690, 43710, 43431886, 0.93, 16.64, 7.33, 0.0, 19, 'Mendoza', 957000, 0, '7'),\n",
              " (7, 'ar', 'Argentina', 2780400, 2736690, 43710, 43431886, 0.93, 16.64, 7.33, 0.0, 20, 'San Miguel de Tucuman', 868000, 0, '7'),\n",
              " (7, 'ar', 'Argentina', 2780400, 2736690, 43710, 43431886, 0.93, 16.64, 7.33, 0.0, 21, 'La Plata', 759000, 0, '7'),\n",
              " (8, 'am', 'Armenia', 29743, 28203, 1540, 3056382, 0.15, 13.61, 9.34, 5.8, 11, 'Yerevan', 1116000, 1, '8'),\n",
              " (9, 'as', 'Australia', 7741220, 7682300, 58920, 22751014, 1.07, 12.15, 7.14, 5.65, 22, 'Sydney', 4543000, 0, '9'),\n",
              " (9, 'as', 'Australia', 7741220, 7682300, 58920, 22751014, 1.07, 12.15, 7.14, 5.65, 23, 'Melbourne', 3961000, 0, '9'),\n",
              " (9, 'as', 'Australia', 7741220, 7682300, 58920, 22751014, 1.07, 12.15, 7.14, 5.65, 24, 'Brisbane', 2039000, 0, '9'),\n",
              " (9, 'as', 'Australia', 7741220, 7682300, 58920, 22751014, 1.07, 12.15, 7.14, 5.65, 25, 'Perth', 1649000, 0, '9'),\n",
              " (9, 'as', 'Australia', 7741220, 7682300, 58920, 22751014, 1.07, 12.15, 7.14, 5.65, 26, 'Adelaide', 1198000, 0, '9')]"
            ]
          },
          "metadata": {
            "tags": []
          },
          "execution_count": 14
        }
      ]
    },
    {
      "cell_type": "markdown",
      "metadata": {
        "id": "kOcFETna_WFp",
        "colab_type": "text"
      },
      "source": [
        "![alt text](https://s3.amazonaws.com/dq-content/179/left_join.svg)\n",
        "\n",
        "Here we can see that for the rows where `facts.id` doesn't match any values in `cities.facts_id` (237, 238, 240, and 244), the rows are still included in the results. When this happens, all of the columns from the `cities` table are populated with null values.\n",
        "\n",
        "We can use these null values to filter our results to just the countries that don't exist in `cities` with a `WHERE` clause. When making a comparison to null in SQL, we use the IS keyword, rather than the `=` sign. If we want to select rows where a column is null we can write:\n",
        "\n",
        "`WHERE column_name IS NULL`\n",
        "\n",
        "If we want to select rows where a column name isn't null, we use:\n",
        "\n",
        "`WHERE column_name IS NOT NULL`\n",
        "\n",
        "Let's use a left join to explore the countries that don't exist in the `cities` table.\n",
        "\n",
        "\n",
        "**Instructions:**\n",
        "\n",
        "Write a query that returns the countries that don't exist in cities:\n",
        "- Your query should return two columns:\n",
        "  - The country names, with the alias `country`.\n",
        "  - The country population.\n",
        "- Use a `LEFT JOIN` to join `cities` to `facts`.\n",
        "- Include only the countries from `facts` that don't have a corresponding value in `cities`.\n"
      ]
    },
    {
      "cell_type": "code",
      "metadata": {
        "id": "N_NxDjYJ_7vJ",
        "colab_type": "code",
        "colab": {
          "base_uri": "https://localhost:8080/",
          "height": 389
        },
        "outputId": "b7ae344a-10bf-4896-e4a8-399e5652a0bb"
      },
      "source": [
        "%%sql\n",
        "\n",
        "SELECT f.name country, f.population\n",
        "  FROM facts f\n",
        "  LEFT JOIN cities c ON c.facts_id = f.id\n",
        "  WHERE c.name IS NULL\n",
        "  LIMIT 15;"
      ],
      "execution_count": 20,
      "outputs": [
        {
          "output_type": "stream",
          "text": [
            " * sqlite:///factbook.db\n",
            "Done.\n"
          ],
          "name": "stdout"
        },
        {
          "output_type": "execute_result",
          "data": {
            "text/html": [
              "<table>\n",
              "    <tr>\n",
              "        <th>country</th>\n",
              "        <th>population</th>\n",
              "    </tr>\n",
              "    <tr>\n",
              "        <td>Kosovo</td>\n",
              "        <td>1870981</td>\n",
              "    </tr>\n",
              "    <tr>\n",
              "        <td>Monaco</td>\n",
              "        <td>30535</td>\n",
              "    </tr>\n",
              "    <tr>\n",
              "        <td>Nauru</td>\n",
              "        <td>9540</td>\n",
              "    </tr>\n",
              "    <tr>\n",
              "        <td>San Marino</td>\n",
              "        <td>33020</td>\n",
              "    </tr>\n",
              "    <tr>\n",
              "        <td>Singapore</td>\n",
              "        <td>5674472</td>\n",
              "    </tr>\n",
              "    <tr>\n",
              "        <td>Holy See (Vatican City)</td>\n",
              "        <td>842</td>\n",
              "    </tr>\n",
              "    <tr>\n",
              "        <td>Taiwan</td>\n",
              "        <td>23415126</td>\n",
              "    </tr>\n",
              "    <tr>\n",
              "        <td>European Union</td>\n",
              "        <td>513949445</td>\n",
              "    </tr>\n",
              "    <tr>\n",
              "        <td>Ashmore and Cartier Islands</td>\n",
              "        <td>None</td>\n",
              "    </tr>\n",
              "    <tr>\n",
              "        <td>Christmas Island</td>\n",
              "        <td>1530</td>\n",
              "    </tr>\n",
              "    <tr>\n",
              "        <td>Cocos (Keeling) Islands</td>\n",
              "        <td>596</td>\n",
              "    </tr>\n",
              "    <tr>\n",
              "        <td>Coral Sea Islands</td>\n",
              "        <td>None</td>\n",
              "    </tr>\n",
              "    <tr>\n",
              "        <td>Heard Island and McDonald Islands</td>\n",
              "        <td>None</td>\n",
              "    </tr>\n",
              "    <tr>\n",
              "        <td>Norfolk Island</td>\n",
              "        <td>2210</td>\n",
              "    </tr>\n",
              "    <tr>\n",
              "        <td>Hong Kong</td>\n",
              "        <td>7141106</td>\n",
              "    </tr>\n",
              "</table>"
            ],
            "text/plain": [
              "[('Kosovo', 1870981),\n",
              " ('Monaco', 30535),\n",
              " ('Nauru', 9540),\n",
              " ('San Marino', 33020),\n",
              " ('Singapore', 5674472),\n",
              " ('Holy See (Vatican City)', 842),\n",
              " ('Taiwan', 23415126),\n",
              " ('European Union', 513949445),\n",
              " ('Ashmore and Cartier Islands', None),\n",
              " ('Christmas Island', 1530),\n",
              " ('Cocos (Keeling) Islands', 596),\n",
              " ('Coral Sea Islands', None),\n",
              " ('Heard Island and McDonald Islands', None),\n",
              " ('Norfolk Island', 2210),\n",
              " ('Hong Kong', 7141106)]"
            ]
          },
          "metadata": {
            "tags": []
          },
          "execution_count": 20
        }
      ]
    },
    {
      "cell_type": "markdown",
      "metadata": {
        "id": "jLaxFRzsoZfR",
        "colab_type": "text"
      },
      "source": [
        "## 5. Right Joins and Outer Joins"
      ]
    },
    {
      "cell_type": "markdown",
      "metadata": {
        "id": "JelFk7INoZih",
        "colab_type": "text"
      },
      "source": [
        "Looking through the results of the query we wrote in the previous screen, we can see a number of different reasons that countries don't have corresponding values in `cities`:\n",
        "\n",
        "- Countries with small populations and/or no major urban areas (which are defined as having populations of over 750,000), eg San Marino, Kosovo, and Nauru.\n",
        "- City-states, such as Monaco and Singapore.\n",
        "- Territories that are not themselves countries, such as Hong Kong, Gibraltar, and the Cook Islands.\n",
        "- Regions & Oceans that aren't countries, such as the European Union and the Pacific Ocean.\n",
        "- Genuine cases of missing data, such as Taiwan.\n",
        "\n",
        "\n",
        "It's important whenever you use inner joins to be mindful that you might be excluding important data, especially if you are joining based on columns that aren't linked in the database schema.\n",
        "\n",
        "There are two less-common join types SQLite does not support that you should be aware of. The first is a right join. A right join, as the name indicates, is exactly the opposite of a left join. While the left join includes all rows in the table *before* the `JOIN` clause, the right join includes all rows in the new table *in* the `JOIN` clause. We can see a right join in the Venn diagram below:\n",
        "![alt text](https://s3.amazonaws.com/dq-content/179/venn_right.svg)\n"
      ]
    },
    {
      "cell_type": "markdown",
      "metadata": {
        "id": "qkih-hp0CYV8",
        "colab_type": "text"
      },
      "source": [
        "The following two queries, one using a left join and one using a right join, produce identical results.\n",
        "\n",
        "```\n",
        "SELECT f.name country, c.name city\n",
        "FROM facts f\n",
        "LEFT JOIN cities c ON c.facts_id = f.id\n",
        "LIMIT 5;\n",
        "```\n",
        "\n",
        "```\n",
        "SELECT f.name country, c.name city\n",
        "FROM cities c\n",
        "RIGHT JOIN facts f ON f.id = c.facts_id\n",
        "LIMIT 5;\n",
        "```\n",
        "\n",
        "The main reason a right join would be used is when you are joining more than two tables. In these cases, using a right join is preferable because it can avoid restructuring your whole query to join one table. Outside of this, right joins are used reasonably rarely, so for simple joins it's better to use a left join than a right as it will be easier for your query to be read and understood by others.\n",
        "\n",
        "The other join type not supported by SQLite is a full outer join. A full outer join will include all rows from the tables on both sides of the join. We can see a full outer join in the Venn diagram below:\n",
        "\n",
        "![alt text](https://s3.amazonaws.com/dq-content/179/venn_full.svg)"
      ]
    },
    {
      "cell_type": "markdown",
      "metadata": {
        "id": "y9pw96d2DKR2",
        "colab_type": "text"
      },
      "source": [
        "Like right joins, full outer joins are reasonably uncommon, and similar results can be achieved using a union clause (which we will teach in the next mission). The standard SQL syntax for a full outer join is:\n",
        "```\n",
        "SELECT * FROM facts\n",
        "LEFT JOIN cities ON cities.facts_id = facts.id\n",
        "SELECT f.name country, c.name city\n",
        "FROM cities c\n",
        "FULL OUTER JOIN facts f ON f.id = c.facts_id\n",
        "LIMIT 5;\n",
        "```\n",
        "When joining `cities` and `facts` with a full outer join, the result will be be the same as our left and right joins above, because there are no values in `cities.facts_id` that don't exist in `facts.id.\n",
        "\n",
        "Let's look at the Venn diagrams of each join type side by side, which should help you compare the differences of each of the four joins we've discussed so far.\n",
        "![alt text](https://s3.amazonaws.com/dq-content/179/join_venn_diagram.svg)\n"
      ]
    },
    {
      "cell_type": "markdown",
      "metadata": {
        "id": "LopJTSGSoZll",
        "colab_type": "text"
      },
      "source": [
        "## 6. Finding the Most Populous Capital Cities"
      ]
    },
    {
      "cell_type": "markdown",
      "metadata": {
        "id": "qY8TkgCFoZoC",
        "colab_type": "text"
      },
      "source": [
        "Previously, we've used column names when specifying order for our query results, like so:\n",
        "\n"
      ]
    },
    {
      "cell_type": "code",
      "metadata": {
        "id": "hRrUPmwFDfSV",
        "colab_type": "code",
        "colab": {
          "base_uri": "https://localhost:8080/",
          "height": 179
        },
        "outputId": "d7162994-a385-45d0-b74f-77f1136ed2f4"
      },
      "source": [
        "%%sql\n",
        "\n",
        "SELECT name, migration_rate FROM FACTS\n",
        "ORDER BY migration_rate desc\n",
        "LIMIT 5;"
      ],
      "execution_count": 15,
      "outputs": [
        {
          "output_type": "stream",
          "text": [
            " * sqlite:///factbook.db\n",
            "Done.\n"
          ],
          "name": "stdout"
        },
        {
          "output_type": "execute_result",
          "data": {
            "text/html": [
              "<table>\n",
              "    <tr>\n",
              "        <th>name</th>\n",
              "        <th>migration_rate</th>\n",
              "    </tr>\n",
              "    <tr>\n",
              "        <td>Qatar</td>\n",
              "        <td>22.39</td>\n",
              "    </tr>\n",
              "    <tr>\n",
              "        <td>American Samoa</td>\n",
              "        <td>21.13</td>\n",
              "    </tr>\n",
              "    <tr>\n",
              "        <td>Micronesia, Federated States of</td>\n",
              "        <td>20.93</td>\n",
              "    </tr>\n",
              "    <tr>\n",
              "        <td>Syria</td>\n",
              "        <td>19.79</td>\n",
              "    </tr>\n",
              "    <tr>\n",
              "        <td>Tonga</td>\n",
              "        <td>17.84</td>\n",
              "    </tr>\n",
              "</table>"
            ],
            "text/plain": [
              "[('Qatar', 22.39),\n",
              " ('American Samoa', 21.13),\n",
              " ('Micronesia, Federated States of', 20.93),\n",
              " ('Syria', 19.79),\n",
              " ('Tonga', 17.84)]"
            ]
          },
          "metadata": {
            "tags": []
          },
          "execution_count": 15
        }
      ]
    },
    {
      "cell_type": "markdown",
      "metadata": {
        "id": "8d5YITGfDocm",
        "colab_type": "text"
      },
      "source": [
        "There is a handy shortcut we can use in our queries which lets us skip the column names, and instead use the order in which the columns appear in the `SELECT` clause. In this instance, `migration_rate` is the second column in our `SELECT` clause so we can just use 2 instead of the column name:"
      ]
    },
    {
      "cell_type": "code",
      "metadata": {
        "id": "uTII6SHsDow3",
        "colab_type": "code",
        "colab": {
          "base_uri": "https://localhost:8080/",
          "height": 179
        },
        "outputId": "a0d43ffa-9ae8-4d2a-8a3a-3460e17ce37a"
      },
      "source": [
        "%%sql\n",
        "\n",
        "SELECT name, migration_rate FROM FACTS\n",
        "ORDER BY 2 desc\n",
        "LIMIT 5;"
      ],
      "execution_count": 16,
      "outputs": [
        {
          "output_type": "stream",
          "text": [
            " * sqlite:///factbook.db\n",
            "Done.\n"
          ],
          "name": "stdout"
        },
        {
          "output_type": "execute_result",
          "data": {
            "text/html": [
              "<table>\n",
              "    <tr>\n",
              "        <th>name</th>\n",
              "        <th>migration_rate</th>\n",
              "    </tr>\n",
              "    <tr>\n",
              "        <td>Qatar</td>\n",
              "        <td>22.39</td>\n",
              "    </tr>\n",
              "    <tr>\n",
              "        <td>American Samoa</td>\n",
              "        <td>21.13</td>\n",
              "    </tr>\n",
              "    <tr>\n",
              "        <td>Micronesia, Federated States of</td>\n",
              "        <td>20.93</td>\n",
              "    </tr>\n",
              "    <tr>\n",
              "        <td>Syria</td>\n",
              "        <td>19.79</td>\n",
              "    </tr>\n",
              "    <tr>\n",
              "        <td>Tonga</td>\n",
              "        <td>17.84</td>\n",
              "    </tr>\n",
              "</table>"
            ],
            "text/plain": [
              "[('Qatar', 22.39),\n",
              " ('American Samoa', 21.13),\n",
              " ('Micronesia, Federated States of', 20.93),\n",
              " ('Syria', 19.79),\n",
              " ('Tonga', 17.84)]"
            ]
          },
          "metadata": {
            "tags": []
          },
          "execution_count": 16
        }
      ]
    },
    {
      "cell_type": "markdown",
      "metadata": {
        "id": "2bsexGQZDpQ0",
        "colab_type": "text"
      },
      "source": [
        "You can use this shortcut in either the `ORDER BY` or `GROUP BY` clauses. Be mindful that you want to ensure your queries are still readable, so typing the full column name may be better for more complex queries.\n",
        "\n",
        "Let's use what we've learned to produce a list of the top 10 capital cities by population. Remember that `capital` is a boolean column containing `1` or `0`, depending on whether a city is a capital or not. We won't specify which join type you should use - you will need to think about what results you require and select an appropriate join type.\n",
        "\n",
        "\n",
        "**Instructions:**\n",
        "\n",
        "Write a query that returns the 10 capital cities with the highest population ranked from biggest to smallest population.\n",
        "- You should include the following columns, in order:\n",
        "  - `capital_city`, the name of the city.\n",
        "  - `country`, the name of the country the city is from.\n",
        "  - `population`, the population of the city."
      ]
    },
    {
      "cell_type": "code",
      "metadata": {
        "id": "GMfiKATTEIpK",
        "colab_type": "code",
        "colab": {
          "base_uri": "https://localhost:8080/",
          "height": 284
        },
        "outputId": "a6059242-576b-4db0-8719-68ebbc959e59"
      },
      "source": [
        "%%sql\n",
        "\n",
        "SELECT c.name capital_city, f.name country, c.population\n",
        "FROM facts f\n",
        "INNER JOIN cities c ON c.facts_id = f.id\n",
        "WHERE c.capital = 1\n",
        "ORDER BY 3 DESC\n",
        "LIMIT 10;"
      ],
      "execution_count": 21,
      "outputs": [
        {
          "output_type": "stream",
          "text": [
            " * sqlite:///factbook.db\n",
            "Done.\n"
          ],
          "name": "stdout"
        },
        {
          "output_type": "execute_result",
          "data": {
            "text/html": [
              "<table>\n",
              "    <tr>\n",
              "        <th>capital_city</th>\n",
              "        <th>country</th>\n",
              "        <th>population</th>\n",
              "    </tr>\n",
              "    <tr>\n",
              "        <td>Tokyo</td>\n",
              "        <td>Japan</td>\n",
              "        <td>37217000</td>\n",
              "    </tr>\n",
              "    <tr>\n",
              "        <td>New Delhi</td>\n",
              "        <td>India</td>\n",
              "        <td>22654000</td>\n",
              "    </tr>\n",
              "    <tr>\n",
              "        <td>Mexico City</td>\n",
              "        <td>Mexico</td>\n",
              "        <td>20446000</td>\n",
              "    </tr>\n",
              "    <tr>\n",
              "        <td>Beijing</td>\n",
              "        <td>China</td>\n",
              "        <td>15594000</td>\n",
              "    </tr>\n",
              "    <tr>\n",
              "        <td>Dhaka</td>\n",
              "        <td>Bangladesh</td>\n",
              "        <td>15391000</td>\n",
              "    </tr>\n",
              "    <tr>\n",
              "        <td>Buenos Aires</td>\n",
              "        <td>Argentina</td>\n",
              "        <td>13528000</td>\n",
              "    </tr>\n",
              "    <tr>\n",
              "        <td>Manila</td>\n",
              "        <td>Philippines</td>\n",
              "        <td>11862000</td>\n",
              "    </tr>\n",
              "    <tr>\n",
              "        <td>Moscow</td>\n",
              "        <td>Russia</td>\n",
              "        <td>11621000</td>\n",
              "    </tr>\n",
              "    <tr>\n",
              "        <td>Cairo</td>\n",
              "        <td>Egypt</td>\n",
              "        <td>11169000</td>\n",
              "    </tr>\n",
              "    <tr>\n",
              "        <td>Jakarta</td>\n",
              "        <td>Indonesia</td>\n",
              "        <td>9769000</td>\n",
              "    </tr>\n",
              "</table>"
            ],
            "text/plain": [
              "[('Tokyo', 'Japan', 37217000),\n",
              " ('New Delhi', 'India', 22654000),\n",
              " ('Mexico City', 'Mexico', 20446000),\n",
              " ('Beijing', 'China', 15594000),\n",
              " ('Dhaka', 'Bangladesh', 15391000),\n",
              " ('Buenos Aires', 'Argentina', 13528000),\n",
              " ('Manila', 'Philippines', 11862000),\n",
              " ('Moscow', 'Russia', 11621000),\n",
              " ('Cairo', 'Egypt', 11169000),\n",
              " ('Jakarta', 'Indonesia', 9769000)]"
            ]
          },
          "metadata": {
            "tags": []
          },
          "execution_count": 21
        }
      ]
    },
    {
      "cell_type": "markdown",
      "metadata": {
        "id": "oIsXWmBWoZqr",
        "colab_type": "text"
      },
      "source": [
        "## 7. Combining Joins with Subqueries"
      ]
    },
    {
      "cell_type": "markdown",
      "metadata": {
        "id": "dW6_O3Y1oZta",
        "colab_type": "text"
      },
      "source": [
        "As we learned in the SQL fundamentals course, subqueries can be used to substitute parts of queries, allowing us to find the answers to more complex questions. We can also join to the result of a subquery, just like we could a table.\n",
        "\n",
        "Here's an example of a using a join and a subquery to produce a table of countries and their capital cities, like we did earlier in the mission.\n",
        "\n",
        "![alt text](https://s3.amazonaws.com/dq-content/179/explain_subquery.svg)\n",
        "\n",
        "Reading subqueries can be overwhelming at first, so we'll break down what happens in this example in several steps. The important thing to remember is that the result of any subquery is always calculated first, so we read from the inside out.\n",
        "\n",
        "- The subquery, in the red box, is calculated first. This simple query selects all columns from cities, filtering rows that are marked as capital cities by having a value for capital of 1.\n",
        "- The INNER JOIN joins the subquery result, aliased as c, to the facts table based on the ON clause.\n",
        "- Two columns are selected from the results of the join:\n",
        "  - f.name, aliased as country.\n",
        "  - c.name, aliased as capital_city.\n",
        "- The results are limited to the first 10 rows.\n",
        "\n",
        "Below is the output of this query:\n",
        "\n"
      ]
    },
    {
      "cell_type": "code",
      "metadata": {
        "id": "ThgYaO-KFKda",
        "colab_type": "code",
        "colab": {
          "base_uri": "https://localhost:8080/",
          "height": 284
        },
        "outputId": "b3b458f7-7836-48a6-94d2-8c3d52abde25"
      },
      "source": [
        "%%sql\n",
        "\n",
        "SELECT f.name country, c.name capital_city\n",
        "  FROM facts f\n",
        " INNER JOIN (\n",
        "              SELECT * FROM cities\n",
        "              WHERE capital = 1\n",
        "            ) c ON c.facts_id = f.id\n",
        "LIMIT 10;"
      ],
      "execution_count": 17,
      "outputs": [
        {
          "output_type": "stream",
          "text": [
            " * sqlite:///factbook.db\n",
            "Done.\n"
          ],
          "name": "stdout"
        },
        {
          "output_type": "execute_result",
          "data": {
            "text/html": [
              "<table>\n",
              "    <tr>\n",
              "        <th>country</th>\n",
              "        <th>capital_city</th>\n",
              "    </tr>\n",
              "    <tr>\n",
              "        <td>Aruba</td>\n",
              "        <td>Oranjestad</td>\n",
              "    </tr>\n",
              "    <tr>\n",
              "        <td>Antigua and Barbuda</td>\n",
              "        <td>Saint John&#x27;S</td>\n",
              "    </tr>\n",
              "    <tr>\n",
              "        <td>United Arab Emirates</td>\n",
              "        <td>Abu Dhabi</td>\n",
              "    </tr>\n",
              "    <tr>\n",
              "        <td>Afghanistan</td>\n",
              "        <td>Kabul</td>\n",
              "    </tr>\n",
              "    <tr>\n",
              "        <td>Algeria</td>\n",
              "        <td>Algiers</td>\n",
              "    </tr>\n",
              "    <tr>\n",
              "        <td>Azerbaijan</td>\n",
              "        <td>Baku</td>\n",
              "    </tr>\n",
              "    <tr>\n",
              "        <td>Albania</td>\n",
              "        <td>Tirana</td>\n",
              "    </tr>\n",
              "    <tr>\n",
              "        <td>Armenia</td>\n",
              "        <td>Yerevan</td>\n",
              "    </tr>\n",
              "    <tr>\n",
              "        <td>Andorra</td>\n",
              "        <td>Andorra La Vella</td>\n",
              "    </tr>\n",
              "    <tr>\n",
              "        <td>Angola</td>\n",
              "        <td>Luanda</td>\n",
              "    </tr>\n",
              "</table>"
            ],
            "text/plain": [
              "[('Aruba', 'Oranjestad'),\n",
              " ('Antigua and Barbuda', \"Saint John'S\"),\n",
              " ('United Arab Emirates', 'Abu Dhabi'),\n",
              " ('Afghanistan', 'Kabul'),\n",
              " ('Algeria', 'Algiers'),\n",
              " ('Azerbaijan', 'Baku'),\n",
              " ('Albania', 'Tirana'),\n",
              " ('Armenia', 'Yerevan'),\n",
              " ('Andorra', 'Andorra La Vella'),\n",
              " ('Angola', 'Luanda')]"
            ]
          },
          "metadata": {
            "tags": []
          },
          "execution_count": 17
        }
      ]
    },
    {
      "cell_type": "markdown",
      "metadata": {
        "id": "H-KWRqhuF80b",
        "colab_type": "text"
      },
      "source": [
        "Using this example as a model, we'll write a similar query to find the capital cities with populations of over 10 million.\n",
        "\n",
        "**Instructions:**\n",
        "\n",
        "Using a join and a subquery, write a query that returns capital cities with populations of over 10 million ordered from largest to smallest. Include the following columns:\n",
        "- `capital_city` - the name of the city.\n",
        "- `country` - the name of the country the city is the capital of.\n",
        "- `population` - the population of the city."
      ]
    },
    {
      "cell_type": "code",
      "metadata": {
        "id": "BHxNzPf5GG2L",
        "colab_type": "code",
        "colab": {
          "base_uri": "https://localhost:8080/",
          "height": 263
        },
        "outputId": "8a3f3414-b6ac-4da3-d433-de02dd0a4c00"
      },
      "source": [
        "%%sql\n",
        "\n",
        "SELECT c.name capital_city, f.name country, c.population population\n",
        "  FROM facts f\n",
        " INNER JOIN (\n",
        "            SELECT * FROM cities\n",
        "            WHERE capital = 1\n",
        "            AND population > 10000000\n",
        "           ) c ON c.facts_id = f.id\n",
        "ORDER BY 3 DESC;"
      ],
      "execution_count": 22,
      "outputs": [
        {
          "output_type": "stream",
          "text": [
            " * sqlite:///factbook.db\n",
            "Done.\n"
          ],
          "name": "stdout"
        },
        {
          "output_type": "execute_result",
          "data": {
            "text/html": [
              "<table>\n",
              "    <tr>\n",
              "        <th>capital_city</th>\n",
              "        <th>country</th>\n",
              "        <th>population</th>\n",
              "    </tr>\n",
              "    <tr>\n",
              "        <td>Tokyo</td>\n",
              "        <td>Japan</td>\n",
              "        <td>37217000</td>\n",
              "    </tr>\n",
              "    <tr>\n",
              "        <td>New Delhi</td>\n",
              "        <td>India</td>\n",
              "        <td>22654000</td>\n",
              "    </tr>\n",
              "    <tr>\n",
              "        <td>Mexico City</td>\n",
              "        <td>Mexico</td>\n",
              "        <td>20446000</td>\n",
              "    </tr>\n",
              "    <tr>\n",
              "        <td>Beijing</td>\n",
              "        <td>China</td>\n",
              "        <td>15594000</td>\n",
              "    </tr>\n",
              "    <tr>\n",
              "        <td>Dhaka</td>\n",
              "        <td>Bangladesh</td>\n",
              "        <td>15391000</td>\n",
              "    </tr>\n",
              "    <tr>\n",
              "        <td>Buenos Aires</td>\n",
              "        <td>Argentina</td>\n",
              "        <td>13528000</td>\n",
              "    </tr>\n",
              "    <tr>\n",
              "        <td>Manila</td>\n",
              "        <td>Philippines</td>\n",
              "        <td>11862000</td>\n",
              "    </tr>\n",
              "    <tr>\n",
              "        <td>Moscow</td>\n",
              "        <td>Russia</td>\n",
              "        <td>11621000</td>\n",
              "    </tr>\n",
              "    <tr>\n",
              "        <td>Cairo</td>\n",
              "        <td>Egypt</td>\n",
              "        <td>11169000</td>\n",
              "    </tr>\n",
              "</table>"
            ],
            "text/plain": [
              "[('Tokyo', 'Japan', 37217000),\n",
              " ('New Delhi', 'India', 22654000),\n",
              " ('Mexico City', 'Mexico', 20446000),\n",
              " ('Beijing', 'China', 15594000),\n",
              " ('Dhaka', 'Bangladesh', 15391000),\n",
              " ('Buenos Aires', 'Argentina', 13528000),\n",
              " ('Manila', 'Philippines', 11862000),\n",
              " ('Moscow', 'Russia', 11621000),\n",
              " ('Cairo', 'Egypt', 11169000)]"
            ]
          },
          "metadata": {
            "tags": []
          },
          "execution_count": 22
        }
      ]
    },
    {
      "cell_type": "markdown",
      "metadata": {
        "id": "CXIFXKfJoZwZ",
        "colab_type": "text"
      },
      "source": [
        "## 8. Challenge: Complex Query with Joins and Subqueries"
      ]
    },
    {
      "cell_type": "markdown",
      "metadata": {
        "id": "hQuBE5FsoZIm",
        "colab_type": "text"
      },
      "source": [
        "Let's take everything we've learned before and use it to write a more complex query. It's not uncommon to find that 'thinking in SQL' takes a bit of getting used to, so don't be discouraged if this challenge takes you a while. It will get easier with practice!\n",
        "\n",
        "When you're writing complex queries with joins and subqueries, it helps to follow this process:\n",
        "\n",
        "- Think about what data you need in your final output\n",
        "- Work out which tables you'll need to join, and whether you will need to join to a subquery.\n",
        "  - If you need to join to a subquery, write the subquery first.\n",
        "- Then start writing your `SELECT` clause, followed by the join and any other clauses you will need.\n",
        "- Don't be afraid to write your query in steps, running it as you go— for instance you can run your subquery as a 'stand alone' query first to make sure it looks like you want before writing the outer query.\n",
        "\n",
        "\n",
        "We will be writing a query to find the countries where the urban center (city) population is more than half of the country's total population. Our final results will look like this. For expected results, we rounded to six decimal places; however, when running your query, don't worry about rounding the `urban_pct` column.\n",
        "\n",
        "\n",
        "country|\turban_pop|\ttotal_pop|\turban_pct\n",
        "---|---|---|---|\n",
        "Uruguay|\t1672000|\t3341893|\t0.500315\n",
        "Congo, Republic of the\t|2445000|\t4755097|\t0.514185\n",
        "Brunei|\t241000|\t429646|\t0.560927\n",
        "New Caledonia\t|157000|\t271615|\t0.578024\n",
        "\n",
        "\n",
        "To help you out, the query you will write will include:\n",
        "\n",
        "- A join to a subquery.\n",
        "- A subquery to make a calculation.\n",
        "- An aggregate function.\n",
        "- A `WHERE` clause.\n",
        "- A `CAST` expression.\n",
        "\n",
        "Remember that there are multiple ways to write this query, and the list above is based on the approach we took in our solution.\n",
        "\n",
        "\n",
        "\n",
        "**Instructions:**\n",
        "\n",
        "Write a query that generates output as shown above. The query should include:\n",
        "- The following columns, in order:\n",
        "  - `country`, the name of the country.\n",
        "  - `urban_pop`, the sum of the population in major urban areas belonging to that country.\n",
        "  - `total_pop`, the total population of the country.\n",
        "  - `urban_pct`, the percentage of the popularion within urban areas, calculated by dividing `urban_pop` by `total_pop`.\n",
        "- Only countries that have an `urban_pct` greater than 0.5.\n",
        "- Rows should be sorted by `urban_pct` in ascending order."
      ]
    },
    {
      "cell_type": "code",
      "metadata": {
        "id": "y-ebaCtFI5fc",
        "colab_type": "code",
        "colab": {
          "base_uri": "https://localhost:8080/",
          "height": 452
        },
        "outputId": "7dee17d5-017d-46e4-e275-86dcd06fc4b2"
      },
      "source": [
        "%%sql\n",
        "\n",
        "SELECT\n",
        "    f.name country,\n",
        "    c.urban_pop,\n",
        "    f.population total_pop,\n",
        "    (c.urban_pop / CAST(f.population AS FLOAT)) urban_pct\n",
        "  FROM facts f\n",
        " INNER JOIN (\n",
        "            SELECT\n",
        "                facts_id,\n",
        "                SUM(population) urban_pop\n",
        "            FROM cities\n",
        "            GROUP BY 1\n",
        "           ) c ON c.facts_id = f.id\n",
        " WHERE urban_pct > .5\n",
        " ORDER BY 4 ASC;"
      ],
      "execution_count": 23,
      "outputs": [
        {
          "output_type": "stream",
          "text": [
            " * sqlite:///factbook.db\n",
            "Done.\n"
          ],
          "name": "stdout"
        },
        {
          "output_type": "execute_result",
          "data": {
            "text/html": [
              "<table>\n",
              "    <tr>\n",
              "        <th>country</th>\n",
              "        <th>urban_pop</th>\n",
              "        <th>total_pop</th>\n",
              "        <th>urban_pct</th>\n",
              "    </tr>\n",
              "    <tr>\n",
              "        <td>Uruguay</td>\n",
              "        <td>1672000</td>\n",
              "        <td>3341893</td>\n",
              "        <td>0.5003152404939356</td>\n",
              "    </tr>\n",
              "    <tr>\n",
              "        <td>Congo, Republic of the</td>\n",
              "        <td>2445000</td>\n",
              "        <td>4755097</td>\n",
              "        <td>0.5141850944365594</td>\n",
              "    </tr>\n",
              "    <tr>\n",
              "        <td>Brunei</td>\n",
              "        <td>241000</td>\n",
              "        <td>429646</td>\n",
              "        <td>0.5609269026128487</td>\n",
              "    </tr>\n",
              "    <tr>\n",
              "        <td>New Caledonia</td>\n",
              "        <td>157000</td>\n",
              "        <td>271615</td>\n",
              "        <td>0.5780240413821034</td>\n",
              "    </tr>\n",
              "    <tr>\n",
              "        <td>Virgin Islands</td>\n",
              "        <td>60000</td>\n",
              "        <td>103574</td>\n",
              "        <td>0.5792959623071428</td>\n",
              "    </tr>\n",
              "    <tr>\n",
              "        <td>Falkland Islands (Islas Malvinas)</td>\n",
              "        <td>2000</td>\n",
              "        <td>3361</td>\n",
              "        <td>0.5950609937518596</td>\n",
              "    </tr>\n",
              "    <tr>\n",
              "        <td>Djibouti</td>\n",
              "        <td>496000</td>\n",
              "        <td>828324</td>\n",
              "        <td>0.5987995035758954</td>\n",
              "    </tr>\n",
              "    <tr>\n",
              "        <td>Australia</td>\n",
              "        <td>13789000</td>\n",
              "        <td>22751014</td>\n",
              "        <td>0.6060828761302683</td>\n",
              "    </tr>\n",
              "    <tr>\n",
              "        <td>Iceland</td>\n",
              "        <td>206000</td>\n",
              "        <td>331918</td>\n",
              "        <td>0.6206352171319423</td>\n",
              "    </tr>\n",
              "    <tr>\n",
              "        <td>Israel</td>\n",
              "        <td>5226000</td>\n",
              "        <td>8049314</td>\n",
              "        <td>0.6492478737939655</td>\n",
              "    </tr>\n",
              "    <tr>\n",
              "        <td>United Arab Emirates</td>\n",
              "        <td>3903000</td>\n",
              "        <td>5779760</td>\n",
              "        <td>0.6752875551926032</td>\n",
              "    </tr>\n",
              "    <tr>\n",
              "        <td>Puerto Rico</td>\n",
              "        <td>2475000</td>\n",
              "        <td>3598357</td>\n",
              "        <td>0.6878139106264332</td>\n",
              "    </tr>\n",
              "    <tr>\n",
              "        <td>Bahamas, The</td>\n",
              "        <td>254000</td>\n",
              "        <td>324597</td>\n",
              "        <td>0.7825087724162577</td>\n",
              "    </tr>\n",
              "    <tr>\n",
              "        <td>Kuwait</td>\n",
              "        <td>2406000</td>\n",
              "        <td>2788534</td>\n",
              "        <td>0.8628189579183901</td>\n",
              "    </tr>\n",
              "    <tr>\n",
              "        <td>Saint Pierre and Miquelon</td>\n",
              "        <td>5000</td>\n",
              "        <td>5657</td>\n",
              "        <td>0.8838607035531201</td>\n",
              "    </tr>\n",
              "    <tr>\n",
              "        <td>Guam</td>\n",
              "        <td>169000</td>\n",
              "        <td>161785</td>\n",
              "        <td>1.0445962233828847</td>\n",
              "    </tr>\n",
              "    <tr>\n",
              "        <td>Northern Mariana Islands</td>\n",
              "        <td>56000</td>\n",
              "        <td>52344</td>\n",
              "        <td>1.0698456365581537</td>\n",
              "    </tr>\n",
              "    <tr>\n",
              "        <td>American Samoa</td>\n",
              "        <td>64000</td>\n",
              "        <td>54343</td>\n",
              "        <td>1.1777045801667188</td>\n",
              "    </tr>\n",
              "</table>"
            ],
            "text/plain": [
              "[('Uruguay', 1672000, 3341893, 0.5003152404939356),\n",
              " ('Congo, Republic of the', 2445000, 4755097, 0.5141850944365594),\n",
              " ('Brunei', 241000, 429646, 0.5609269026128487),\n",
              " ('New Caledonia', 157000, 271615, 0.5780240413821034),\n",
              " ('Virgin Islands', 60000, 103574, 0.5792959623071428),\n",
              " ('Falkland Islands (Islas Malvinas)', 2000, 3361, 0.5950609937518596),\n",
              " ('Djibouti', 496000, 828324, 0.5987995035758954),\n",
              " ('Australia', 13789000, 22751014, 0.6060828761302683),\n",
              " ('Iceland', 206000, 331918, 0.6206352171319423),\n",
              " ('Israel', 5226000, 8049314, 0.6492478737939655),\n",
              " ('United Arab Emirates', 3903000, 5779760, 0.6752875551926032),\n",
              " ('Puerto Rico', 2475000, 3598357, 0.6878139106264332),\n",
              " ('Bahamas, The', 254000, 324597, 0.7825087724162577),\n",
              " ('Kuwait', 2406000, 2788534, 0.8628189579183901),\n",
              " ('Saint Pierre and Miquelon', 5000, 5657, 0.8838607035531201),\n",
              " ('Guam', 169000, 161785, 1.0445962233828847),\n",
              " ('Northern Mariana Islands', 56000, 52344, 1.0698456365581537),\n",
              " ('American Samoa', 64000, 54343, 1.1777045801667188)]"
            ]
          },
          "metadata": {
            "tags": []
          },
          "execution_count": 23
        }
      ]
    },
    {
      "cell_type": "markdown",
      "metadata": {
        "id": "APk8VWTIpUuk",
        "colab_type": "text"
      },
      "source": [
        "## 9. Next Steps"
      ]
    },
    {
      "cell_type": "markdown",
      "metadata": {
        "id": "eQYcjScapUi2",
        "colab_type": "text"
      },
      "source": [
        "In this mission we learned:\n",
        "\n",
        "- The difference between inner and left joins.\n",
        "- How to choose which join is appropriate for your task.\n",
        "- Using joins with subqueries, aggregate functions and other SQL techniques.\n",
        "\n",
        "In the next mission, we're going to keep practicing using joins and learn some advanced joining techniques, including:\n",
        "\n",
        "- Queries with more than one join.\n",
        "- Nesting and recursive joins.\n",
        "- Using `CASE` to categorize data."
      ]
    }
  ]
}