{
  "nbformat": 4,
  "nbformat_minor": 0,
  "metadata": {
    "colab": {
      "name": "063__ Joining_Data_in_SQL",
      "provenance": [],
      "authorship_tag": "ABX9TyNcldN/8GRrv9SqFMHYb6Ea",
      "include_colab_link": true
    },
    "kernelspec": {
      "name": "python3",
      "display_name": "Python 3"
    }
  },
  "cells": [
    {
      "cell_type": "markdown",
      "metadata": {
        "id": "view-in-github",
        "colab_type": "text"
      },
      "source": [
        "<a href=\"https://colab.research.google.com/github/Rossel/DataQuest_Courses/blob/master/063__Joining_Data_in_SQL.ipynb\" target=\"_parent\"><img src=\"https://colab.research.google.com/assets/colab-badge.svg\" alt=\"Open In Colab\"/></a>"
      ]
    },
    {
      "cell_type": "markdown",
      "metadata": {
        "id": "_btM0gtu3sDF",
        "colab_type": "text"
      },
      "source": [
        "# COURSE 2/5: SQL FOR DATA ANALYSIS\n"
      ]
    },
    {
      "cell_type": "markdown",
      "metadata": {
        "id": "THaX315BT2wD",
        "colab_type": "text"
      },
      "source": [
        "# MISSION 1: Joining Data in SQL"
      ]
    },
    {
      "cell_type": "markdown",
      "metadata": {
        "id": "qZmKsqF9oZFP",
        "colab_type": "text"
      },
      "source": [
        ""
      ]
    },
    {
      "cell_type": "markdown",
      "metadata": {
        "id": "ojhYBCxNoZJ5",
        "colab_type": "text"
      },
      "source": [
        "## 1. Introducing Joins"
      ]
    },
    {
      "cell_type": "code",
      "metadata": {
        "id": "_LBr2rk1T0xR",
        "colab_type": "code",
        "colab": {}
      },
      "source": [
        "# Import functions from Google modules into Colaboratory\n",
        "!pip install -U -q PyDrive\n",
        "from pydrive.auth import GoogleAuth\n",
        "from pydrive.drive import GoogleDrive\n",
        "from google.colab import auth\n",
        "from oauth2client.client import GoogleCredentials\n",
        "\n",
        "# Authenticate and create the PyDrive client\n",
        "auth.authenticate_user()\n",
        "gauth = GoogleAuth()\n",
        "gauth.credentials = GoogleCredentials.get_application_default()\n",
        "drive = GoogleDrive(gauth)"
      ],
      "execution_count": null,
      "outputs": []
    },
    {
      "cell_type": "code",
      "metadata": {
        "id": "pzy0-ZtPScNy",
        "colab_type": "code",
        "colab": {}
      },
      "source": [
        "# Insert file id from Google Drive shareable link:\n",
        "# https://drive.google.com/file/d/1OoSS5G-7_2RvguZrxomRajCXGgEmjEly/view?usp=sharing\n",
        "id = '1OoSS5G-7_2RvguZrxomRajCXGgEmjEly'"
      ],
      "execution_count": null,
      "outputs": []
    },
    {
      "cell_type": "code",
      "metadata": {
        "id": "mspPJ_6QT1mi",
        "colab_type": "code",
        "colab": {}
      },
      "source": [
        "# Download the dataset\n",
        "downloaded = drive.CreateFile({'id':id}) \n",
        "downloaded.GetContentFile('factbook.db')"
      ],
      "execution_count": null,
      "outputs": []
    },
    {
      "cell_type": "code",
      "metadata": {
        "id": "vBAHoQ3QO4cb",
        "colab_type": "code",
        "colab": {}
      },
      "source": [
        "# Import SQLite3 and pandas library\n",
        "import sqlite3\n",
        "import pandas as pd"
      ],
      "execution_count": null,
      "outputs": []
    },
    {
      "cell_type": "code",
      "metadata": {
        "id": "hJXj6T_naCHQ",
        "colab_type": "code",
        "colab": {}
      },
      "source": [
        "# Connect the notebook to the database file\n",
        "%%capture\n",
        "%load_ext sql\n",
        "%sql sqlite:///factbook.db"
      ],
      "execution_count": null,
      "outputs": []
    },
    {
      "cell_type": "markdown",
      "metadata": {
        "id": "_D9jkiOPp1hQ",
        "colab_type": "text"
      },
      "source": [
        ""
      ]
    },
    {
      "cell_type": "code",
      "metadata": {
        "id": "mxcD3LE4fmKM",
        "colab_type": "code",
        "colab": {
          "base_uri": "https://localhost:8080/",
          "height": 335
        },
        "outputId": "3c94a193-7304-41e0-c017-3d6353bd8b39"
      },
      "source": [
        "%%sql\n",
        "\n",
        "  SELECT * \n",
        "  FROM recent_grads\n",
        "  LIMIT 5"
      ],
      "execution_count": null,
      "outputs": [
        {
          "output_type": "stream",
          "text": [
            " * sqlite:///jobs.db\n",
            "Done.\n"
          ],
          "name": "stdout"
        },
        {
          "output_type": "execute_result",
          "data": {
            "text/html": [
              "<table>\n",
              "    <tr>\n",
              "        <th>index</th>\n",
              "        <th>Rank</th>\n",
              "        <th>Major_code</th>\n",
              "        <th>Major</th>\n",
              "        <th>Major_category</th>\n",
              "        <th>Total</th>\n",
              "        <th>Sample_size</th>\n",
              "        <th>Men</th>\n",
              "        <th>Women</th>\n",
              "        <th>ShareWomen</th>\n",
              "        <th>Employed</th>\n",
              "        <th>Full_time</th>\n",
              "        <th>Part_time</th>\n",
              "        <th>Full_time_year_round</th>\n",
              "        <th>Unemployed</th>\n",
              "        <th>Unemployment_rate</th>\n",
              "        <th>Median</th>\n",
              "        <th>P25th</th>\n",
              "        <th>P75th</th>\n",
              "        <th>College_jobs</th>\n",
              "        <th>Non_college_jobs</th>\n",
              "        <th>Low_wage_jobs</th>\n",
              "    </tr>\n",
              "    <tr>\n",
              "        <td>0</td>\n",
              "        <td>1</td>\n",
              "        <td>2419</td>\n",
              "        <td>PETROLEUM ENGINEERING</td>\n",
              "        <td>Engineering</td>\n",
              "        <td>2339</td>\n",
              "        <td>36</td>\n",
              "        <td>2057</td>\n",
              "        <td>282</td>\n",
              "        <td>0.120564344</td>\n",
              "        <td>1976</td>\n",
              "        <td>1849</td>\n",
              "        <td>270</td>\n",
              "        <td>1207</td>\n",
              "        <td>37</td>\n",
              "        <td>0.018380527</td>\n",
              "        <td>110000</td>\n",
              "        <td>95000</td>\n",
              "        <td>125000</td>\n",
              "        <td>1534</td>\n",
              "        <td>364</td>\n",
              "        <td>193</td>\n",
              "    </tr>\n",
              "    <tr>\n",
              "        <td>1</td>\n",
              "        <td>2</td>\n",
              "        <td>2416</td>\n",
              "        <td>MINING AND MINERAL ENGINEERING</td>\n",
              "        <td>Engineering</td>\n",
              "        <td>756</td>\n",
              "        <td>7</td>\n",
              "        <td>679</td>\n",
              "        <td>77</td>\n",
              "        <td>0.10185185199999999</td>\n",
              "        <td>640</td>\n",
              "        <td>556</td>\n",
              "        <td>170</td>\n",
              "        <td>388</td>\n",
              "        <td>85</td>\n",
              "        <td>0.117241379</td>\n",
              "        <td>75000</td>\n",
              "        <td>55000</td>\n",
              "        <td>90000</td>\n",
              "        <td>350</td>\n",
              "        <td>257</td>\n",
              "        <td>50</td>\n",
              "    </tr>\n",
              "    <tr>\n",
              "        <td>2</td>\n",
              "        <td>3</td>\n",
              "        <td>2415</td>\n",
              "        <td>METALLURGICAL ENGINEERING</td>\n",
              "        <td>Engineering</td>\n",
              "        <td>856</td>\n",
              "        <td>3</td>\n",
              "        <td>725</td>\n",
              "        <td>131</td>\n",
              "        <td>0.153037383</td>\n",
              "        <td>648</td>\n",
              "        <td>558</td>\n",
              "        <td>133</td>\n",
              "        <td>340</td>\n",
              "        <td>16</td>\n",
              "        <td>0.024096386</td>\n",
              "        <td>73000</td>\n",
              "        <td>50000</td>\n",
              "        <td>105000</td>\n",
              "        <td>456</td>\n",
              "        <td>176</td>\n",
              "        <td>0</td>\n",
              "    </tr>\n",
              "    <tr>\n",
              "        <td>3</td>\n",
              "        <td>4</td>\n",
              "        <td>2417</td>\n",
              "        <td>NAVAL ARCHITECTURE AND MARINE ENGINEERING</td>\n",
              "        <td>Engineering</td>\n",
              "        <td>1258</td>\n",
              "        <td>16</td>\n",
              "        <td>1123</td>\n",
              "        <td>135</td>\n",
              "        <td>0.107313196</td>\n",
              "        <td>758</td>\n",
              "        <td>1069</td>\n",
              "        <td>150</td>\n",
              "        <td>692</td>\n",
              "        <td>40</td>\n",
              "        <td>0.050125313</td>\n",
              "        <td>70000</td>\n",
              "        <td>43000</td>\n",
              "        <td>80000</td>\n",
              "        <td>529</td>\n",
              "        <td>102</td>\n",
              "        <td>0</td>\n",
              "    </tr>\n",
              "    <tr>\n",
              "        <td>4</td>\n",
              "        <td>5</td>\n",
              "        <td>2405</td>\n",
              "        <td>CHEMICAL ENGINEERING</td>\n",
              "        <td>Engineering</td>\n",
              "        <td>32260</td>\n",
              "        <td>289</td>\n",
              "        <td>21239</td>\n",
              "        <td>11021</td>\n",
              "        <td>0.341630502</td>\n",
              "        <td>25694</td>\n",
              "        <td>23170</td>\n",
              "        <td>5180</td>\n",
              "        <td>16697</td>\n",
              "        <td>1672</td>\n",
              "        <td>0.061097712</td>\n",
              "        <td>65000</td>\n",
              "        <td>50000</td>\n",
              "        <td>75000</td>\n",
              "        <td>18314</td>\n",
              "        <td>4440</td>\n",
              "        <td>972</td>\n",
              "    </tr>\n",
              "</table>"
            ],
            "text/plain": [
              "[(0, 1, 2419, 'PETROLEUM ENGINEERING', 'Engineering', 2339, 36, 2057, 282, 0.120564344, 1976, 1849, 270, 1207, 37, 0.018380527, 110000, 95000, 125000, 1534, 364, 193),\n",
              " (1, 2, 2416, 'MINING AND MINERAL ENGINEERING', 'Engineering', 756, 7, 679, 77, 0.10185185199999999, 640, 556, 170, 388, 85, 0.117241379, 75000, 55000, 90000, 350, 257, 50),\n",
              " (2, 3, 2415, 'METALLURGICAL ENGINEERING', 'Engineering', 856, 3, 725, 131, 0.153037383, 648, 558, 133, 340, 16, 0.024096386, 73000, 50000, 105000, 456, 176, 0),\n",
              " (3, 4, 2417, 'NAVAL ARCHITECTURE AND MARINE ENGINEERING', 'Engineering', 1258, 16, 1123, 135, 0.107313196, 758, 1069, 150, 692, 40, 0.050125313, 70000, 43000, 80000, 529, 102, 0),\n",
              " (4, 5, 2405, 'CHEMICAL ENGINEERING', 'Engineering', 32260, 289, 21239, 11021, 0.341630502, 25694, 23170, 5180, 16697, 1672, 0.061097712, 65000, 50000, 75000, 18314, 4440, 972)]"
            ]
          },
          "metadata": {
            "tags": []
          },
          "execution_count": 6
        }
      ]
    },
    {
      "cell_type": "markdown",
      "metadata": {
        "id": "LeoZXO7VoZMh",
        "colab_type": "text"
      },
      "source": [
        ""
      ]
    },
    {
      "cell_type": "markdown",
      "metadata": {
        "id": "O1WHSSzYoZPM",
        "colab_type": "text"
      },
      "source": [
        "## 2. Understanding Inner Joins"
      ]
    },
    {
      "cell_type": "markdown",
      "metadata": {
        "id": "XTP7_fg3oZRp",
        "colab_type": "text"
      },
      "source": [
        ""
      ]
    },
    {
      "cell_type": "markdown",
      "metadata": {
        "id": "UeK4hf1doZUj",
        "colab_type": "text"
      },
      "source": [
        "## 3. Practicing Inner Joins"
      ]
    },
    {
      "cell_type": "markdown",
      "metadata": {
        "id": "z1XilMvyoZW3",
        "colab_type": "text"
      },
      "source": [
        ""
      ]
    },
    {
      "cell_type": "markdown",
      "metadata": {
        "id": "cJCfjdJyoZZf",
        "colab_type": "text"
      },
      "source": [
        "## 4. Left Joins"
      ]
    },
    {
      "cell_type": "markdown",
      "metadata": {
        "id": "u1xXRkaHoZcW",
        "colab_type": "text"
      },
      "source": [
        ""
      ]
    },
    {
      "cell_type": "markdown",
      "metadata": {
        "id": "jLaxFRzsoZfR",
        "colab_type": "text"
      },
      "source": [
        "## 5. Right Joins and Outer Joins"
      ]
    },
    {
      "cell_type": "markdown",
      "metadata": {
        "id": "JelFk7INoZih",
        "colab_type": "text"
      },
      "source": [
        ""
      ]
    },
    {
      "cell_type": "markdown",
      "metadata": {
        "id": "LopJTSGSoZll",
        "colab_type": "text"
      },
      "source": [
        "## 6. Finding the Most Populous Capital Cities"
      ]
    },
    {
      "cell_type": "markdown",
      "metadata": {
        "id": "qY8TkgCFoZoC",
        "colab_type": "text"
      },
      "source": [
        ""
      ]
    },
    {
      "cell_type": "markdown",
      "metadata": {
        "id": "oIsXWmBWoZqr",
        "colab_type": "text"
      },
      "source": [
        "## 7. Combining Joins with Subqueries"
      ]
    },
    {
      "cell_type": "markdown",
      "metadata": {
        "id": "dW6_O3Y1oZta",
        "colab_type": "text"
      },
      "source": [
        ""
      ]
    },
    {
      "cell_type": "markdown",
      "metadata": {
        "id": "CXIFXKfJoZwZ",
        "colab_type": "text"
      },
      "source": [
        "## 8. Challenge: Complex Query with Joins and Subqueries"
      ]
    },
    {
      "cell_type": "markdown",
      "metadata": {
        "id": "hQuBE5FsoZIm",
        "colab_type": "text"
      },
      "source": [
        ""
      ]
    },
    {
      "cell_type": "markdown",
      "metadata": {
        "id": "APk8VWTIpUuk",
        "colab_type": "text"
      },
      "source": [
        "## 9. Next Steps"
      ]
    },
    {
      "cell_type": "markdown",
      "metadata": {
        "id": "eQYcjScapUi2",
        "colab_type": "text"
      },
      "source": [
        ""
      ]
    }
  ]
}