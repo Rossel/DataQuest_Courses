{
  "nbformat": 4,
  "nbformat_minor": 0,
  "metadata": {
    "colab": {
      "name": "063__Joining_Data_in_SQL",
      "provenance": [],
      "authorship_tag": "ABX9TyMXWbJP2IhAQqjtawMap+s+",
      "include_colab_link": true
    },
    "kernelspec": {
      "name": "python3",
      "display_name": "Python 3"
    }
  },
  "cells": [
    {
      "cell_type": "markdown",
      "metadata": {
        "id": "view-in-github",
        "colab_type": "text"
      },
      "source": [
        "<a href=\"https://colab.research.google.com/github/Rossel/DataQuest_Courses/blob/master/063__Joining_Data_in_SQL.ipynb\" target=\"_parent\"><img src=\"https://colab.research.google.com/assets/colab-badge.svg\" alt=\"Open In Colab\"/></a>"
      ]
    },
    {
      "cell_type": "markdown",
      "metadata": {
        "id": "_btM0gtu3sDF",
        "colab_type": "text"
      },
      "source": [
        "# COURSE 2/5: SQL FOR DATA ANALYSIS\n"
      ]
    },
    {
      "cell_type": "markdown",
      "metadata": {
        "id": "THaX315BT2wD",
        "colab_type": "text"
      },
      "source": [
        "# MISSION 1: Joining Data in SQL"
      ]
    },
    {
      "cell_type": "markdown",
      "metadata": {
        "id": "qZmKsqF9oZFP",
        "colab_type": "text"
      },
      "source": [
        "*Learn how to use joins to query data across two tables.*\n",
        "\n",
        "In this mission we will learn about:\n",
        "\n",
        "- The difference between inner and left joins.\n",
        "- How to choose which join is appropriate for your task.\n",
        "- Using joins with subqueries, aggregate functions and other SQL techniques.\n"
      ]
    },
    {
      "cell_type": "markdown",
      "metadata": {
        "id": "ojhYBCxNoZJ5",
        "colab_type": "text"
      },
      "source": [
        "## 1. Introducing Joins"
      ]
    },
    {
      "cell_type": "markdown",
      "metadata": {
        "id": "qIq5LXUZqGas",
        "colab_type": "text"
      },
      "source": [
        "In the SQL Fundamentals course, we worked exclusively with data that existed in a single table. In the real world, it's much more common for databases to have data in more than one table. If we want to be able to work with that data, we'll have to combine multiple tables within a query. The way we do this in SQL is using joins. As in the SQL Fundamentals course, we'll continue to use SQLite throughout this course.\n",
        "\n",
        "In this mission, we're going to be using a version of the CIA World Factbook (Factbook) database from the guided project from the SQL Fundamentals course. To refresh your memory, this database had one table called facts, where each row represented a country from the Factbook. Let's first load the database:"
      ]
    },
    {
      "cell_type": "code",
      "metadata": {
        "id": "_LBr2rk1T0xR",
        "colab_type": "code",
        "colab": {}
      },
      "source": [
        "# Import functions from Google modules into Colaboratory\n",
        "!pip install -U -q PyDrive\n",
        "from pydrive.auth import GoogleAuth\n",
        "from pydrive.drive import GoogleDrive\n",
        "from google.colab import auth\n",
        "from oauth2client.client import GoogleCredentials\n",
        "\n",
        "# Authenticate and create the PyDrive client\n",
        "auth.authenticate_user()\n",
        "gauth = GoogleAuth()\n",
        "gauth.credentials = GoogleCredentials.get_application_default()\n",
        "drive = GoogleDrive(gauth)"
      ],
      "execution_count": 1,
      "outputs": []
    },
    {
      "cell_type": "code",
      "metadata": {
        "id": "pzy0-ZtPScNy",
        "colab_type": "code",
        "colab": {}
      },
      "source": [
        "# Insert file id from Google Drive shareable link:\n",
        "# https://drive.google.com/file/d/1OoSS5G-7_2RvguZrxomRajCXGgEmjEly/view?usp=sharing\n",
        "id = '1OoSS5G-7_2RvguZrxomRajCXGgEmjEly'"
      ],
      "execution_count": 2,
      "outputs": []
    },
    {
      "cell_type": "code",
      "metadata": {
        "id": "mspPJ_6QT1mi",
        "colab_type": "code",
        "colab": {}
      },
      "source": [
        "# Download the dataset\n",
        "downloaded = drive.CreateFile({'id':id}) \n",
        "downloaded.GetContentFile('factbook.db')"
      ],
      "execution_count": 3,
      "outputs": []
    },
    {
      "cell_type": "code",
      "metadata": {
        "id": "vBAHoQ3QO4cb",
        "colab_type": "code",
        "colab": {}
      },
      "source": [
        "# Import SQLite3 and pandas library\n",
        "import sqlite3\n",
        "import pandas as pd"
      ],
      "execution_count": 4,
      "outputs": []
    },
    {
      "cell_type": "code",
      "metadata": {
        "id": "hJXj6T_naCHQ",
        "colab_type": "code",
        "colab": {}
      },
      "source": [
        "# Connect the notebook to the database file\n",
        "%%capture\n",
        "%load_ext sql\n",
        "%sql sqlite:///factbook.db"
      ],
      "execution_count": 5,
      "outputs": []
    },
    {
      "cell_type": "markdown",
      "metadata": {
        "id": "_D9jkiOPp1hQ",
        "colab_type": "text"
      },
      "source": [
        "These are the first 5 rows of the facts table:"
      ]
    },
    {
      "cell_type": "code",
      "metadata": {
        "id": "mxcD3LE4fmKM",
        "colab_type": "code",
        "colab": {
          "base_uri": "https://localhost:8080/",
          "height": 199
        },
        "outputId": "5ed9ce23-3a22-45ae-88b7-698a5e680797"
      },
      "source": [
        "%%sql\n",
        "\n",
        "  SELECT * \n",
        "  FROM facts\n",
        "  LIMIT 5"
      ],
      "execution_count": 7,
      "outputs": [
        {
          "output_type": "stream",
          "text": [
            " * sqlite:///factbook.db\n",
            "Done.\n"
          ],
          "name": "stdout"
        },
        {
          "output_type": "execute_result",
          "data": {
            "text/html": [
              "<table>\n",
              "    <tr>\n",
              "        <th>id</th>\n",
              "        <th>code</th>\n",
              "        <th>name</th>\n",
              "        <th>area</th>\n",
              "        <th>area_land</th>\n",
              "        <th>area_water</th>\n",
              "        <th>population</th>\n",
              "        <th>population_growth</th>\n",
              "        <th>birth_rate</th>\n",
              "        <th>death_rate</th>\n",
              "        <th>migration_rate</th>\n",
              "    </tr>\n",
              "    <tr>\n",
              "        <td>1</td>\n",
              "        <td>af</td>\n",
              "        <td>Afghanistan</td>\n",
              "        <td>652230</td>\n",
              "        <td>652230</td>\n",
              "        <td>0</td>\n",
              "        <td>32564342</td>\n",
              "        <td>2.32</td>\n",
              "        <td>38.57</td>\n",
              "        <td>13.89</td>\n",
              "        <td>1.51</td>\n",
              "    </tr>\n",
              "    <tr>\n",
              "        <td>2</td>\n",
              "        <td>al</td>\n",
              "        <td>Albania</td>\n",
              "        <td>28748</td>\n",
              "        <td>27398</td>\n",
              "        <td>1350</td>\n",
              "        <td>3029278</td>\n",
              "        <td>0.3</td>\n",
              "        <td>12.92</td>\n",
              "        <td>6.58</td>\n",
              "        <td>3.3</td>\n",
              "    </tr>\n",
              "    <tr>\n",
              "        <td>3</td>\n",
              "        <td>ag</td>\n",
              "        <td>Algeria</td>\n",
              "        <td>2381741</td>\n",
              "        <td>2381741</td>\n",
              "        <td>0</td>\n",
              "        <td>39542166</td>\n",
              "        <td>1.84</td>\n",
              "        <td>23.67</td>\n",
              "        <td>4.31</td>\n",
              "        <td>0.92</td>\n",
              "    </tr>\n",
              "    <tr>\n",
              "        <td>4</td>\n",
              "        <td>an</td>\n",
              "        <td>Andorra</td>\n",
              "        <td>468</td>\n",
              "        <td>468</td>\n",
              "        <td>0</td>\n",
              "        <td>85580</td>\n",
              "        <td>0.12</td>\n",
              "        <td>8.13</td>\n",
              "        <td>6.96</td>\n",
              "        <td>0.0</td>\n",
              "    </tr>\n",
              "    <tr>\n",
              "        <td>5</td>\n",
              "        <td>ao</td>\n",
              "        <td>Angola</td>\n",
              "        <td>1246700</td>\n",
              "        <td>1246700</td>\n",
              "        <td>0</td>\n",
              "        <td>19625353</td>\n",
              "        <td>2.78</td>\n",
              "        <td>38.78</td>\n",
              "        <td>11.49</td>\n",
              "        <td>0.46</td>\n",
              "    </tr>\n",
              "</table>"
            ],
            "text/plain": [
              "[(1, 'af', 'Afghanistan', 652230, 652230, 0, 32564342, 2.32, 38.57, 13.89, 1.51),\n",
              " (2, 'al', 'Albania', 28748, 27398, 1350, 3029278, 0.3, 12.92, 6.58, 3.3),\n",
              " (3, 'ag', 'Algeria', 2381741, 2381741, 0, 39542166, 1.84, 23.67, 4.31, 0.92),\n",
              " (4, 'an', 'Andorra', 468, 468, 0, 85580, 0.12, 8.13, 6.96, 0.0),\n",
              " (5, 'ao', 'Angola', 1246700, 1246700, 0, 19625353, 2.78, 38.78, 11.49, 0.46)]"
            ]
          },
          "metadata": {
            "tags": []
          },
          "execution_count": 7
        }
      ]
    },
    {
      "cell_type": "markdown",
      "metadata": {
        "id": "LeoZXO7VoZMh",
        "colab_type": "text"
      },
      "source": [
        ""
      ]
    },
    {
      "cell_type": "markdown",
      "metadata": {
        "id": "O1WHSSzYoZPM",
        "colab_type": "text"
      },
      "source": [
        "## 2. Understanding Inner Joins"
      ]
    },
    {
      "cell_type": "markdown",
      "metadata": {
        "id": "XTP7_fg3oZRp",
        "colab_type": "text"
      },
      "source": [
        ""
      ]
    },
    {
      "cell_type": "markdown",
      "metadata": {
        "id": "UeK4hf1doZUj",
        "colab_type": "text"
      },
      "source": [
        "## 3. Practicing Inner Joins"
      ]
    },
    {
      "cell_type": "markdown",
      "metadata": {
        "id": "z1XilMvyoZW3",
        "colab_type": "text"
      },
      "source": [
        ""
      ]
    },
    {
      "cell_type": "markdown",
      "metadata": {
        "id": "cJCfjdJyoZZf",
        "colab_type": "text"
      },
      "source": [
        "## 4. Left Joins"
      ]
    },
    {
      "cell_type": "markdown",
      "metadata": {
        "id": "u1xXRkaHoZcW",
        "colab_type": "text"
      },
      "source": [
        ""
      ]
    },
    {
      "cell_type": "markdown",
      "metadata": {
        "id": "jLaxFRzsoZfR",
        "colab_type": "text"
      },
      "source": [
        "## 5. Right Joins and Outer Joins"
      ]
    },
    {
      "cell_type": "markdown",
      "metadata": {
        "id": "JelFk7INoZih",
        "colab_type": "text"
      },
      "source": [
        ""
      ]
    },
    {
      "cell_type": "markdown",
      "metadata": {
        "id": "LopJTSGSoZll",
        "colab_type": "text"
      },
      "source": [
        "## 6. Finding the Most Populous Capital Cities"
      ]
    },
    {
      "cell_type": "markdown",
      "metadata": {
        "id": "qY8TkgCFoZoC",
        "colab_type": "text"
      },
      "source": [
        ""
      ]
    },
    {
      "cell_type": "markdown",
      "metadata": {
        "id": "oIsXWmBWoZqr",
        "colab_type": "text"
      },
      "source": [
        "## 7. Combining Joins with Subqueries"
      ]
    },
    {
      "cell_type": "markdown",
      "metadata": {
        "id": "dW6_O3Y1oZta",
        "colab_type": "text"
      },
      "source": [
        ""
      ]
    },
    {
      "cell_type": "markdown",
      "metadata": {
        "id": "CXIFXKfJoZwZ",
        "colab_type": "text"
      },
      "source": [
        "## 8. Challenge: Complex Query with Joins and Subqueries"
      ]
    },
    {
      "cell_type": "markdown",
      "metadata": {
        "id": "hQuBE5FsoZIm",
        "colab_type": "text"
      },
      "source": [
        ""
      ]
    },
    {
      "cell_type": "markdown",
      "metadata": {
        "id": "APk8VWTIpUuk",
        "colab_type": "text"
      },
      "source": [
        "## 9. Next Steps"
      ]
    },
    {
      "cell_type": "markdown",
      "metadata": {
        "id": "eQYcjScapUi2",
        "colab_type": "text"
      },
      "source": [
        ""
      ]
    }
  ]
}