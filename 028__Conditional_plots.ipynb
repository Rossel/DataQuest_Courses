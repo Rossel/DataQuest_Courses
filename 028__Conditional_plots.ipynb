{
  "nbformat": 4,
  "nbformat_minor": 0,
  "metadata": {
    "colab": {
      "name": "028__Conditional_plots.ipynb",
      "provenance": [],
      "authorship_tag": "ABX9TyMIjcxeAvvzhKBKx+P2PaIK",
      "include_colab_link": true
    },
    "kernelspec": {
      "name": "python3",
      "display_name": "Python 3"
    }
  },
  "cells": [
    {
      "cell_type": "markdown",
      "metadata": {
        "id": "view-in-github",
        "colab_type": "text"
      },
      "source": [
        "<a href=\"https://colab.research.google.com/github/Rossel/DataQuest_Courses/blob/master/028__Conditional_plots.ipynb\" target=\"_parent\"><img src=\"https://colab.research.google.com/assets/colab-badge.svg\" alt=\"Open In Colab\"/></a>"
      ]
    },
    {
      "cell_type": "markdown",
      "metadata": {
        "id": "6PWQ-EVGT2s_",
        "colab_type": "text"
      },
      "source": [
        "# COURSE 3/6: STORYTELLING THROUGH DATA VISUALIZATION"
      ]
    },
    {
      "cell_type": "markdown",
      "metadata": {
        "id": "THaX315BT2wD",
        "colab_type": "text"
      },
      "source": [
        "# MISSION 4: Conditional_plots"
      ]
    },
    {
      "cell_type": "markdown",
      "metadata": {
        "id": "uciEYQbHVBCW",
        "colab_type": "text"
      },
      "source": [
        "In this mission, we will explore how to create attractive conditional plots using Seaborn."
      ]
    },
    {
      "cell_type": "markdown",
      "metadata": {
        "id": "tQBrAPM9JEko",
        "colab_type": "text"
      },
      "source": [
        "## 1. Introduction to Seaborn"
      ]
    },
    {
      "cell_type": "markdown",
      "metadata": {
        "id": "auLynYznnY1W",
        "colab_type": "text"
      },
      "source": [
        "So far, we've mostly worked with plots that are quick to analyze and make sense of. Line charts, scatter plots, and bar plots allow us to convey a few nuggets of insights to the reader. We've also explored how we can combine those plots in interesting ways to convey deeper insights and continue to extend the storytelling power of data visualization. In this mission, we'll explore how to quickly create multiple plots that are subsetted using one or more conditions.\n",
        "\n",
        "We'll be working with the seaborn visualization library, which is built on top of matplotlib. [Seaborn](http://seaborn.pydata.org/) has good support for more complex plots, attractive default styles, and integrates well with the pandas library. Here are some examples of some complex plots that can be created using seaborn:\n",
        "\n",
        "![Seaborn](https://s3.amazonaws.com/dq-content/seaborn_gallery.png)\n",
        "\n",
        "\n"
      ]
    },
    {
      "cell_type": "markdown",
      "metadata": {
        "colab_type": "text",
        "id": "6b-9c93wA6yz"
      },
      "source": [
        "## 2. Introduction to the Data Set"
      ]
    },
    {
      "cell_type": "markdown",
      "metadata": {
        "id": "f0NXzH6XA5NZ",
        "colab_type": "text"
      },
      "source": [
        "We'll be working with a data set of the passengers of the Titanic. The [Titanic shipwreck](https://en.wikipedia.org/wiki/Sinking_of_the_RMS_Titanic) is the most famous shipwreck in history and led to the creation of better safety regulations for ships. One substantial safety issue was that there were not enough lifeboats for every passenger on board, which meant that some passengers were prioritized over others to use the lifeboats.\n",
        "\n",
        "The data set was compiled by [Kaggle](https://www.kaggle.com/c/titanic/data) for their introductory data science competition, called **Titanic: Machine Learning from Disaster**. The goal of the competition is to build machine learning models that can predict if a passenger survives from their attributes. \n",
        "\n",
        "The data for the passengers is contained in two files:\n",
        "\n",
        "- `train.csv`: Contains data on 712 passengers\n",
        "- `test.csv`: Contains data on 418 passengers\n",
        "\n",
        "Each row in both data sets represents a passenger on the Titanic, and some information about them. We'll be working with the `train.csv` file, because the `Survived` column, which describes if a given passenger survived the crash, is preserved in the file. The column was removed in `test.csv`, to encourage competitors to practice making predictions using the data. Here are descriptions for each of the columns in `train.csv`:\n",
        "\n",
        "- `PassengerId` -- A numerical id assigned to each passenger.\n",
        "- `Survived` -- Whether the passenger survived (`1`), or didn't (`0`).\n",
        "- `Pclass` -- The class the passenger was in.\n",
        "- `Name` -- the name of the passenger.\n",
        "- `Sex` -- The gender of the passenger -- male or female.\n",
        "- `Age` -- The age of the passenger. Fractional.\n",
        "- `SibSp` -- The number of siblings and spouses the passenger had on board.\n",
        "- `Parch` -- The number of parents and children the passenger had on board.\n",
        "- `Ticket` -- The ticket number of the passenger.\n",
        "- `Fare` -- How much the passenger paid for the ticket.\n",
        "- `Cabin` -- Which cabin the passenger was in.\n",
        "- `Embarked` -- Where the passenger boarded the Titanic."
      ]
    },
    {
      "cell_type": "markdown",
      "metadata": {
        "colab_type": "text",
        "id": "75bjEp6QE61e"
      },
      "source": [
        "### **Importing the data**\n",
        "\n",
        "Let's start by importing the libraries we need and reading the dataset into pandas using Google Colab.\n"
      ]
    },
    {
      "cell_type": "code",
      "metadata": {
        "id": "I5rPveR_TFl5",
        "colab_type": "code",
        "colab": {}
      },
      "source": [
        "# Import functions from Google modules into Colaboratory\n",
        "!pip install -U -q PyDrive\n",
        "from pydrive.auth import GoogleAuth\n",
        "from pydrive.drive import GoogleDrive\n",
        "from google.colab import auth\n",
        "from oauth2client.client import GoogleCredentials\n",
        "\n",
        "# Authenticate and create the PyDrive client\n",
        "auth.authenticate_user()\n",
        "gauth = GoogleAuth()\n",
        "gauth.credentials = GoogleCredentials.get_application_default()\n",
        "drive = GoogleDrive(gauth)"
      ],
      "execution_count": 2,
      "outputs": []
    },
    {
      "cell_type": "code",
      "metadata": {
        "id": "q1ziSWGBiq-x",
        "colab_type": "code",
        "colab": {}
      },
      "source": [
        "# Insert file id from Google Drive shareable link:\n",
        "# https://drive.google.com/file/d/1vQzWwsOM8Besa36uhMdm3JkiIXeLtJpL/view?usp=sharing\n",
        "id = \"1vQzWwsOM8Besa36uhMdm3JkiIXeLtJpL\""
      ],
      "execution_count": 3,
      "outputs": []
    },
    {
      "cell_type": "code",
      "metadata": {
        "id": "k2TsUUiUi1tE",
        "colab_type": "code",
        "colab": {}
      },
      "source": [
        "# Download the dataset\n",
        "downloaded = drive.CreateFile({'id':id}) \n",
        "downloaded.GetContentFile('train.csv')"
      ],
      "execution_count": 4,
      "outputs": []
    },
    {
      "cell_type": "code",
      "metadata": {
        "id": "RblOqgYLi5Uu",
        "colab_type": "code",
        "colab": {}
      },
      "source": [
        "# Import pandas library\n",
        "import pandas as pd\n",
        "import numpy as np"
      ],
      "execution_count": 5,
      "outputs": []
    },
    {
      "cell_type": "markdown",
      "metadata": {
        "id": "iaSUWlFjmQmb",
        "colab_type": "text"
      },
      "source": [
        "The dataset could not be read using \"UTF-8\" or \"Windows-1252\" encoding, so we used \"Latin-1\"."
      ]
    },
    {
      "cell_type": "code",
      "metadata": {
        "id": "oOmAWg2Ilcv4",
        "colab_type": "code",
        "colab": {}
      },
      "source": [
        " # Read encoded csv\n",
        " titanic = pd.read_csv(\"train.csv\")"
      ],
      "execution_count": 6,
      "outputs": []
    },
    {
      "cell_type": "markdown",
      "metadata": {
        "id": "LmoXZP6Djxg7",
        "colab_type": "text"
      },
      "source": [
        "### **Exploring the data**\n",
        "Let's render the first few and last few values of this pandas object, by running the `train` variable in a separate cell."
      ]
    },
    {
      "cell_type": "code",
      "metadata": {
        "id": "bb5VqZ8emx3w",
        "colab_type": "code",
        "colab": {
          "base_uri": "https://localhost:8080/",
          "height": 910
        },
        "outputId": "eb8a18eb-30f4-4ff1-f66e-1aa80c0089f4"
      },
      "source": [
        "# Render the first few and last rows of the autos dataframe\n",
        "titanic"
      ],
      "execution_count": 7,
      "outputs": [
        {
          "output_type": "execute_result",
          "data": {
            "text/html": [
              "<div>\n",
              "<style scoped>\n",
              "    .dataframe tbody tr th:only-of-type {\n",
              "        vertical-align: middle;\n",
              "    }\n",
              "\n",
              "    .dataframe tbody tr th {\n",
              "        vertical-align: top;\n",
              "    }\n",
              "\n",
              "    .dataframe thead th {\n",
              "        text-align: right;\n",
              "    }\n",
              "</style>\n",
              "<table border=\"1\" class=\"dataframe\">\n",
              "  <thead>\n",
              "    <tr style=\"text-align: right;\">\n",
              "      <th></th>\n",
              "      <th>PassengerId</th>\n",
              "      <th>Survived</th>\n",
              "      <th>Pclass</th>\n",
              "      <th>Name</th>\n",
              "      <th>Sex</th>\n",
              "      <th>Age</th>\n",
              "      <th>SibSp</th>\n",
              "      <th>Parch</th>\n",
              "      <th>Ticket</th>\n",
              "      <th>Fare</th>\n",
              "      <th>Cabin</th>\n",
              "      <th>Embarked</th>\n",
              "    </tr>\n",
              "  </thead>\n",
              "  <tbody>\n",
              "    <tr>\n",
              "      <th>0</th>\n",
              "      <td>1</td>\n",
              "      <td>0</td>\n",
              "      <td>3</td>\n",
              "      <td>Braund, Mr. Owen Harris</td>\n",
              "      <td>male</td>\n",
              "      <td>22.0</td>\n",
              "      <td>1</td>\n",
              "      <td>0</td>\n",
              "      <td>A/5 21171</td>\n",
              "      <td>7.2500</td>\n",
              "      <td>NaN</td>\n",
              "      <td>S</td>\n",
              "    </tr>\n",
              "    <tr>\n",
              "      <th>1</th>\n",
              "      <td>2</td>\n",
              "      <td>1</td>\n",
              "      <td>1</td>\n",
              "      <td>Cumings, Mrs. John Bradley (Florence Briggs Th...</td>\n",
              "      <td>female</td>\n",
              "      <td>38.0</td>\n",
              "      <td>1</td>\n",
              "      <td>0</td>\n",
              "      <td>PC 17599</td>\n",
              "      <td>71.2833</td>\n",
              "      <td>C85</td>\n",
              "      <td>C</td>\n",
              "    </tr>\n",
              "    <tr>\n",
              "      <th>2</th>\n",
              "      <td>3</td>\n",
              "      <td>1</td>\n",
              "      <td>3</td>\n",
              "      <td>Heikkinen, Miss. Laina</td>\n",
              "      <td>female</td>\n",
              "      <td>26.0</td>\n",
              "      <td>0</td>\n",
              "      <td>0</td>\n",
              "      <td>STON/O2. 3101282</td>\n",
              "      <td>7.9250</td>\n",
              "      <td>NaN</td>\n",
              "      <td>S</td>\n",
              "    </tr>\n",
              "    <tr>\n",
              "      <th>3</th>\n",
              "      <td>4</td>\n",
              "      <td>1</td>\n",
              "      <td>1</td>\n",
              "      <td>Futrelle, Mrs. Jacques Heath (Lily May Peel)</td>\n",
              "      <td>female</td>\n",
              "      <td>35.0</td>\n",
              "      <td>1</td>\n",
              "      <td>0</td>\n",
              "      <td>113803</td>\n",
              "      <td>53.1000</td>\n",
              "      <td>C123</td>\n",
              "      <td>S</td>\n",
              "    </tr>\n",
              "    <tr>\n",
              "      <th>4</th>\n",
              "      <td>5</td>\n",
              "      <td>0</td>\n",
              "      <td>3</td>\n",
              "      <td>Allen, Mr. William Henry</td>\n",
              "      <td>male</td>\n",
              "      <td>35.0</td>\n",
              "      <td>0</td>\n",
              "      <td>0</td>\n",
              "      <td>373450</td>\n",
              "      <td>8.0500</td>\n",
              "      <td>NaN</td>\n",
              "      <td>S</td>\n",
              "    </tr>\n",
              "    <tr>\n",
              "      <th>...</th>\n",
              "      <td>...</td>\n",
              "      <td>...</td>\n",
              "      <td>...</td>\n",
              "      <td>...</td>\n",
              "      <td>...</td>\n",
              "      <td>...</td>\n",
              "      <td>...</td>\n",
              "      <td>...</td>\n",
              "      <td>...</td>\n",
              "      <td>...</td>\n",
              "      <td>...</td>\n",
              "      <td>...</td>\n",
              "    </tr>\n",
              "    <tr>\n",
              "      <th>886</th>\n",
              "      <td>887</td>\n",
              "      <td>0</td>\n",
              "      <td>2</td>\n",
              "      <td>Montvila, Rev. Juozas</td>\n",
              "      <td>male</td>\n",
              "      <td>27.0</td>\n",
              "      <td>0</td>\n",
              "      <td>0</td>\n",
              "      <td>211536</td>\n",
              "      <td>13.0000</td>\n",
              "      <td>NaN</td>\n",
              "      <td>S</td>\n",
              "    </tr>\n",
              "    <tr>\n",
              "      <th>887</th>\n",
              "      <td>888</td>\n",
              "      <td>1</td>\n",
              "      <td>1</td>\n",
              "      <td>Graham, Miss. Margaret Edith</td>\n",
              "      <td>female</td>\n",
              "      <td>19.0</td>\n",
              "      <td>0</td>\n",
              "      <td>0</td>\n",
              "      <td>112053</td>\n",
              "      <td>30.0000</td>\n",
              "      <td>B42</td>\n",
              "      <td>S</td>\n",
              "    </tr>\n",
              "    <tr>\n",
              "      <th>888</th>\n",
              "      <td>889</td>\n",
              "      <td>0</td>\n",
              "      <td>3</td>\n",
              "      <td>Johnston, Miss. Catherine Helen \"Carrie\"</td>\n",
              "      <td>female</td>\n",
              "      <td>NaN</td>\n",
              "      <td>1</td>\n",
              "      <td>2</td>\n",
              "      <td>W./C. 6607</td>\n",
              "      <td>23.4500</td>\n",
              "      <td>NaN</td>\n",
              "      <td>S</td>\n",
              "    </tr>\n",
              "    <tr>\n",
              "      <th>889</th>\n",
              "      <td>890</td>\n",
              "      <td>1</td>\n",
              "      <td>1</td>\n",
              "      <td>Behr, Mr. Karl Howell</td>\n",
              "      <td>male</td>\n",
              "      <td>26.0</td>\n",
              "      <td>0</td>\n",
              "      <td>0</td>\n",
              "      <td>111369</td>\n",
              "      <td>30.0000</td>\n",
              "      <td>C148</td>\n",
              "      <td>C</td>\n",
              "    </tr>\n",
              "    <tr>\n",
              "      <th>890</th>\n",
              "      <td>891</td>\n",
              "      <td>0</td>\n",
              "      <td>3</td>\n",
              "      <td>Dooley, Mr. Patrick</td>\n",
              "      <td>male</td>\n",
              "      <td>32.0</td>\n",
              "      <td>0</td>\n",
              "      <td>0</td>\n",
              "      <td>370376</td>\n",
              "      <td>7.7500</td>\n",
              "      <td>NaN</td>\n",
              "      <td>Q</td>\n",
              "    </tr>\n",
              "  </tbody>\n",
              "</table>\n",
              "<p>891 rows × 12 columns</p>\n",
              "</div>"
            ],
            "text/plain": [
              "     PassengerId  Survived  Pclass  ...     Fare Cabin  Embarked\n",
              "0              1         0       3  ...   7.2500   NaN         S\n",
              "1              2         1       1  ...  71.2833   C85         C\n",
              "2              3         1       3  ...   7.9250   NaN         S\n",
              "3              4         1       1  ...  53.1000  C123         S\n",
              "4              5         0       3  ...   8.0500   NaN         S\n",
              "..           ...       ...     ...  ...      ...   ...       ...\n",
              "886          887         0       2  ...  13.0000   NaN         S\n",
              "887          888         1       1  ...  30.0000   B42         S\n",
              "888          889         0       3  ...  23.4500   NaN         S\n",
              "889          890         1       1  ...  30.0000  C148         C\n",
              "890          891         0       3  ...   7.7500   NaN         Q\n",
              "\n",
              "[891 rows x 12 columns]"
            ]
          },
          "metadata": {
            "tags": []
          },
          "execution_count": 7
        }
      ]
    },
    {
      "cell_type": "markdown",
      "metadata": {
        "id": "YitfNOqszU4m",
        "colab_type": "text"
      },
      "source": [
        "###**Remove missing values**\n",
        "\n"
      ]
    },
    {
      "cell_type": "markdown",
      "metadata": {
        "id": "DRq2I2kZ0dUj",
        "colab_type": "text"
      },
      "source": [
        "Let's remove columns like `Name` and `Ticket` that we don't have a way to visualize. Keep only the following columns:\n",
        "- `Survived`\n",
        "- `Pclass`\n",
        "- `Sex`\n",
        "- `Age`\n",
        "- `SibSp`\n",
        "- `Parch`\n",
        "- `Fare`\n",
        "- `Embarked`"
      ]
    },
    {
      "cell_type": "code",
      "metadata": {
        "id": "ritR-TbW0csf",
        "colab_type": "code",
        "colab": {
          "base_uri": "https://localhost:8080/",
          "height": 70
        },
        "outputId": "190d75ec-3f76-4262-9c1d-4d595bbefab7"
      },
      "source": [
        "print(titanic.columns)"
      ],
      "execution_count": 8,
      "outputs": [
        {
          "output_type": "stream",
          "text": [
            "Index(['PassengerId', 'Survived', 'Pclass', 'Name', 'Sex', 'Age', 'SibSp',\n",
            "       'Parch', 'Ticket', 'Fare', 'Cabin', 'Embarked'],\n",
            "      dtype='object')\n"
          ],
          "name": "stdout"
        }
      ]
    },
    {
      "cell_type": "code",
      "metadata": {
        "colab_type": "code",
        "id": "Z4wn9ne-B2Fv",
        "colab": {
          "base_uri": "https://localhost:8080/",
          "height": 34
        },
        "outputId": "89e530c1-f005-43d8-bfa7-493954ec0d63"
      },
      "source": [
        "# Avoid modifying copies\n",
        "# https://www.dataquest.io/blog/settingwithcopywarning/\n",
        "cols = ['Survived', 'Pclass', 'Sex', 'Age', 'SibSp', 'Parch', 'Fare', 'Embarked']\n",
        "\n",
        "print(cols)"
      ],
      "execution_count": 9,
      "outputs": [
        {
          "output_type": "stream",
          "text": [
            "['Survived', 'Pclass', 'Sex', 'Age', 'SibSp', 'Parch', 'Fare', 'Embarked']\n"
          ],
          "name": "stdout"
        }
      ]
    },
    {
      "cell_type": "code",
      "metadata": {
        "id": "yiX0H35lCNDE",
        "colab_type": "code",
        "colab": {
          "base_uri": "https://localhost:8080/",
          "height": 70
        },
        "outputId": "c655857b-a543-44e1-b84a-1c4154635ccd"
      },
      "source": [
        "print(titanic.columns)"
      ],
      "execution_count": 10,
      "outputs": [
        {
          "output_type": "stream",
          "text": [
            "Index(['PassengerId', 'Survived', 'Pclass', 'Name', 'Sex', 'Age', 'SibSp',\n",
            "       'Parch', 'Ticket', 'Fare', 'Cabin', 'Embarked'],\n",
            "      dtype='object')\n"
          ],
          "name": "stdout"
        }
      ]
    },
    {
      "cell_type": "markdown",
      "metadata": {
        "id": "gjFWwj2PyUOZ",
        "colab_type": "text"
      },
      "source": [
        "In addition, we need to remove any rows containing missing values, as **seaborn will throw errors when we try to plot missing values**. We will use the [`DataFrame.dropna()`](https://pandas.pydata.org/pandas-docs/stable/reference/api/pandas.DataFrame.dropna.html) method to remove rows containing missing values.\n",
        "\n",
        "Recall that we can use the `DataFrame.isnull()` method to identify missing values, which returns a boolean dataframe. We can then use the DataFrame.sum() method to give us a count of the True values for each column:"
      ]
    },
    {
      "cell_type": "code",
      "metadata": {
        "id": "Zz3Cz5qqzhjy",
        "colab_type": "code",
        "colab": {
          "base_uri": "https://localhost:8080/",
          "height": 176
        },
        "outputId": "1ea176a4-6782-4fbe-8bf9-a92f0d985fed"
      },
      "source": [
        "print(titanic[cols].isnull().sum())"
      ],
      "execution_count": 11,
      "outputs": [
        {
          "output_type": "stream",
          "text": [
            "Survived      0\n",
            "Pclass        0\n",
            "Sex           0\n",
            "Age         177\n",
            "SibSp         0\n",
            "Parch         0\n",
            "Fare          0\n",
            "Embarked      2\n",
            "dtype: int64\n"
          ],
          "name": "stdout"
        }
      ]
    },
    {
      "cell_type": "code",
      "metadata": {
        "id": "Sdn0YFuwEgln",
        "colab_type": "code",
        "colab": {}
      },
      "source": [
        "titanic = titanic[cols].dropna()"
      ],
      "execution_count": 12,
      "outputs": []
    },
    {
      "cell_type": "code",
      "metadata": {
        "id": "w2CmbnY9EniL",
        "colab_type": "code",
        "colab": {
          "base_uri": "https://localhost:8080/",
          "height": 176
        },
        "outputId": "4cc238b0-9e16-4408-bf9a-37cc6a283924"
      },
      "source": [
        "print(titanic[cols].isnull().sum())"
      ],
      "execution_count": 13,
      "outputs": [
        {
          "output_type": "stream",
          "text": [
            "Survived    0\n",
            "Pclass      0\n",
            "Sex         0\n",
            "Age         0\n",
            "SibSp       0\n",
            "Parch       0\n",
            "Fare        0\n",
            "Embarked    0\n",
            "dtype: int64\n"
          ],
          "name": "stdout"
        }
      ]
    },
    {
      "cell_type": "markdown",
      "metadata": {
        "id": "sKP-IHCeEv-x",
        "colab_type": "text"
      },
      "source": [
        "## 3. Creating Histograms In Seaborn"
      ]
    },
    {
      "cell_type": "markdown",
      "metadata": {
        "id": "YnMcdjgHFu9C",
        "colab_type": "text"
      },
      "source": [
        "Seaborn works similarly to the `pyplot` module from matplotlib. We primarily use seaborn interactively, by calling functions in its top level namespace. Like the `pyplot` module from matplotlib, seaborn creates a matplotlib figure or adds to the current, existing figure each time we generate a plot. When we're ready to display the plots, we call `pyplot.show()`.\n",
        "\n",
        "To get familiar with seaborn, we'll start by creating the familiar histogram. We can generate a histogram of the `Fare` column using the `seaborn.distplot()` function:\n",
        "\n"
      ]
    },
    {
      "cell_type": "code",
      "metadata": {
        "id": "c3bu0Q-wE0Hu",
        "colab_type": "code",
        "colab": {
          "base_uri": "https://localhost:8080/",
          "height": 334
        },
        "outputId": "009ed02e-116b-41da-a831-d002a3697ea1"
      },
      "source": [
        "import seaborn as sns    # seaborn is commonly imported as `sns`\n",
        "import matplotlib.pyplot as plt\n",
        "sns.distplot(titanic[\"Fare\"])\n",
        "plt.show()"
      ],
      "execution_count": 14,
      "outputs": [
        {
          "output_type": "stream",
          "text": [
            "/usr/local/lib/python3.6/dist-packages/statsmodels/tools/_testing.py:19: FutureWarning: pandas.util.testing is deprecated. Use the functions in the public API at pandas.testing instead.\n",
            "  import pandas.util.testing as tm\n"
          ],
          "name": "stderr"
        },
        {
          "output_type": "display_data",
          "data": {
            "image/png": "[encoded data removed]",
            "text/plain": [
              "<Figure size 432x288 with 1 Axes>"
            ]
          },
          "metadata": {
            "tags": [],
            "needs_background": "light"
          }
        }
      ]
    },
    {
      "cell_type": "markdown",
      "metadata": {
        "id": "YBrkXKqmGG7g",
        "colab_type": "text"
      },
      "source": [
        "Under the hood, seaborn creates a histogram using matplotlib, scales the axes values, and styles it. In addition, seaborn uses a technique called kernel density estimation, or KDE for short, to create a smoothed line chart over the histogram. If you're interested in learning about how KDE works, you can read more on [Wikipedia](https://en.wikipedia.org/wiki/Kernel_density_estimation).\n",
        "\n",
        "What you need to know for now is that the resulting line is a smoother version of the histogram, called a **kernel density plot**. Kernel density plots are especially helpful when we're comparing distributions, which we'll explore later in this mission. When viewing a histogram, our visual processing systems influence us to smooth out the bars into a continuous line.\n",
        "\n",
        "Now let's have a look at the distrobution of the `Age` column:"
      ]
    },
    {
      "cell_type": "code",
      "metadata": {
        "id": "dI-LsItfGBNE",
        "colab_type": "code",
        "colab": {
          "base_uri": "https://localhost:8080/",
          "height": 278
        },
        "outputId": "507b2f40-1b68-4da9-8f94-82f2de61b9e2"
      },
      "source": [
        "sns.distplot(titanic[\"Age\"])\n",
        "plt.show()"
      ],
      "execution_count": 15,
      "outputs": [
        {
          "output_type": "display_data",
          "data": {
            "image/png": "[encoded data removed]",
            "text/plain": [
              "<Figure size 432x288 with 1 Axes>"
            ]
          },
          "metadata": {
            "tags": [],
            "needs_background": "light"
          }
        }
      ]
    },
    {
      "cell_type": "markdown",
      "metadata": {
        "id": "pPjFA2P6Gs0i",
        "colab_type": "text"
      },
      "source": [
        "## 4. Generating A Kernel Density Plot"
      ]
    },
    {
      "cell_type": "markdown",
      "metadata": {
        "id": "INFh-t8N-6Ig",
        "colab_type": "text"
      },
      "source": [
        "While having both the histogram and the kernel density plot is useful when we want to explore the data, it can be overwhelming for someone who's trying to understand the distribution. \n",
        "\n",
        "To generate just the kernel density plot, we use the [`seaborn.kdeplot()`](http://seaborn.pydata.org/generated/seaborn.kdeplot.html#seaborn.kdeplot) function:"
      ]
    },
    {
      "cell_type": "code",
      "metadata": {
        "id": "wOamamSWGh3T",
        "colab_type": "code",
        "colab": {
          "base_uri": "https://localhost:8080/",
          "height": 264
        },
        "outputId": "43f78a0a-454b-4afb-8ad5-7f7598ad0ff8"
      },
      "source": [
        "sns.kdeplot(titanic[\"Age\"])\n",
        "plt.show()"
      ],
      "execution_count": 16,
      "outputs": [
        {
          "output_type": "display_data",
          "data": {
            "image/png": "[encoded data removed]",
            "text/plain": [
              "<Figure size 432x288 with 1 Axes>"
            ]
          },
          "metadata": {
            "tags": [],
            "needs_background": "light"
          }
        }
      ]
    },
    {
      "cell_type": "markdown",
      "metadata": {
        "id": "nZ51B5Wh_W-5",
        "colab_type": "text"
      },
      "source": [
        "While the distribution of data is displayed in a smoother fashion, it's now more difficult to visually estimate the area under the curve using just the line chart. When we also had the histogram, the bars provided a way to understand and compare proportions visually.\n",
        "\n",
        "To bring back some of the ability to easily compare proportions, we can shade the area under the line using a single color. When calling the `seaborn.kdeplot()` function, we can shade the area under the line by setting the `shade` parameter to `True`.\n",
        "\n",
        "Instructions:\n",
        "- Generate a kernel density plot:\n",
        "  - Using the values in the `\"Age\"` column\n",
        "  - With the area under the curve shaded\n",
        "- Set the x-axis label to `\"Age\"` using `pyplot.xlabel()`."
      ]
    },
    {
      "cell_type": "code",
      "metadata": {
        "id": "_cMYT-eV_iMT",
        "colab_type": "code",
        "colab": {
          "base_uri": "https://localhost:8080/",
          "height": 278
        },
        "outputId": "eba7381f-dcb3-49d4-8743-b4982e1fb213"
      },
      "source": [
        "sns.kdeplot(titanic[\"Age\"], shade=True)\n",
        "plt.xlabel(\"Age\")\n",
        "plt.show()"
      ],
      "execution_count": 18,
      "outputs": [
        {
          "output_type": "display_data",
          "data": {
            "image/png": "[encoded data removed]",
            "text/plain": [
              "<Figure size 432x288 with 1 Axes>"
            ]
          },
          "metadata": {
            "tags": [],
            "needs_background": "light"
          }
        }
      ]
    }
  ]
}