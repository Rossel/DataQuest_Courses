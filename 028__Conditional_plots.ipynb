{
  "nbformat": 4,
  "nbformat_minor": 0,
  "metadata": {
    "colab": {
      "name": "028__Conditional_plots.ipynb",
      "provenance": [],
      "authorship_tag": "ABX9TyPjALs7/+GPWpdHV9AAaB4h",
      "include_colab_link": true
    },
    "kernelspec": {
      "name": "python3",
      "display_name": "Python 3"
    }
  },
  "cells": [
    {
      "cell_type": "markdown",
      "metadata": {
        "id": "view-in-github",
        "colab_type": "text"
      },
      "source": [
        "<a href=\"https://colab.research.google.com/github/Rossel/DataQuest_Courses/blob/master/028__Conditional_plots.ipynb\" target=\"_parent\"><img src=\"https://colab.research.google.com/assets/colab-badge.svg\" alt=\"Open In Colab\"/></a>"
      ]
    },
    {
      "cell_type": "markdown",
      "metadata": {
        "id": "6PWQ-EVGT2s_",
        "colab_type": "text"
      },
      "source": [
        "# COURSE 3/6: STORYTELLING THROUGH DATA VISUALIZATION"
      ]
    },
    {
      "cell_type": "markdown",
      "metadata": {
        "id": "THaX315BT2wD",
        "colab_type": "text"
      },
      "source": [
        "# MISSION 4: Conditional_plots"
      ]
    },
    {
      "cell_type": "markdown",
      "metadata": {
        "id": "uciEYQbHVBCW",
        "colab_type": "text"
      },
      "source": [
        "In this mission, we will explore how to ...."
      ]
    },
    {
      "cell_type": "markdown",
      "metadata": {
        "id": "tQBrAPM9JEko",
        "colab_type": "text"
      },
      "source": [
        "## 1. Introduction to Seaborn"
      ]
    },
    {
      "cell_type": "markdown",
      "metadata": {
        "id": "auLynYznnY1W",
        "colab_type": "text"
      },
      "source": [
        "So far, we've mostly worked with plots that are quick to analyze and make sense of. Line charts, scatter plots, and bar plots allow us to convey a few nuggets of insights to the reader. We've also explored how we can combine those plots in interesting ways to convey deeper insights and continue to extend the storytelling power of data visualization. In this mission, we'll explore how to quickly create multiple plots that are subsetted using one or more conditions.\n",
        "\n",
        "We'll be working with the seaborn visualization library, which is built on top of matplotlib. [Seaborn](http://seaborn.pydata.org/) has good support for more complex plots, attractive default styles, and integrates well with the pandas library. Here are some examples of some complex plots that can be created using seaborn:\n",
        "\n",
        "![Seaborn](https://s3.amazonaws.com/dq-content/seaborn_gallery.png)\n",
        "\n",
        "\n"
      ]
    },
    {
      "cell_type": "markdown",
      "metadata": {
        "colab_type": "text",
        "id": "6b-9c93wA6yz"
      },
      "source": [
        "## 2. Introduction to the Data Set"
      ]
    },
    {
      "cell_type": "markdown",
      "metadata": {
        "id": "f0NXzH6XA5NZ",
        "colab_type": "text"
      },
      "source": [
        "We'll be working with a data set of the passengers of the Titanic. The [Titanic shipwreck](https://en.wikipedia.org/wiki/Sinking_of_the_RMS_Titanic) is the most famous shipwreck in history and led to the creation of better safety regulations for ships. One substantial safety issue was that there were not enough lifeboats for every passenger on board, which meant that some passengers were prioritized over others to use the lifeboats.\n",
        "\n",
        "The data set was compiled by [Kaggle](https://www.kaggle.com/c/titanic/data) for their introductory data science competition, called **Titanic: Machine Learning from Disaster**. The goal of the competition is to build machine learning models that can predict if a passenger survives from their attributes. \n",
        "\n",
        "The data for the passengers is contained in two files:\n",
        "\n",
        "- `train.csv`: Contains data on 712 passengers\n",
        "- `test.csv`: Contains data on 418 passengers\n",
        "\n",
        "Each row in both data sets represents a passenger on the Titanic, and some information about them. We'll be working with the `train.csv` file, because the `Survived` column, which describes if a given passenger survived the crash, is preserved in the file. The column was removed in `test.csv`, to encourage competitors to practice making predictions using the data. Here are descriptions for each of the columns in `train.csv`:\n",
        "\n",
        "- `PassengerId` -- A numerical id assigned to each passenger.\n",
        "- `Survived` -- Whether the passenger survived (`1`), or didn't (`0`).\n",
        "- `Pclass` -- The class the passenger was in.\n",
        "- `Name` -- the name of the passenger.\n",
        "- `Sex` -- The gender of the passenger -- male or female.\n",
        "- `Age` -- The age of the passenger. Fractional.\n",
        "- `SibSp` -- The number of siblings and spouses the passenger had on board.\n",
        "- `Parch` -- The number of parents and children the passenger had on board.\n",
        "- `Ticket` -- The ticket number of the passenger.\n",
        "- `Fare` -- How much the passenger paid for the ticket.\n",
        "- `Cabin` -- Which cabin the passenger was in.\n",
        "- `Embarked` -- Where the passenger boarded the Titanic.\n",
        "\n",
        "Here's what the first few rows look like:"
      ]
    },
    {
      "cell_type": "code",
      "metadata": {
        "id": "zh3ykbPrn4ew",
        "colab_type": "code",
        "colab": {}
      },
      "source": [
        ""
      ],
      "execution_count": null,
      "outputs": []
    }
  ]
}