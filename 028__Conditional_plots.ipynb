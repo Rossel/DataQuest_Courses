{
  "nbformat": 4,
  "nbformat_minor": 0,
  "metadata": {
    "colab": {
      "name": "028__Conditional_plots.ipynb",
      "provenance": [],
      "authorship_tag": "ABX9TyNpYYMb5x+5JqpeieRrFai6",
      "include_colab_link": true
    },
    "kernelspec": {
      "name": "python3",
      "display_name": "Python 3"
    }
  },
  "cells": [
    {
      "cell_type": "markdown",
      "metadata": {
        "id": "view-in-github",
        "colab_type": "text"
      },
      "source": [
        "<a href=\"https://colab.research.google.com/github/Rossel/DataQuest_Courses/blob/master/028__Conditional_plots.ipynb\" target=\"_parent\"><img src=\"https://colab.research.google.com/assets/colab-badge.svg\" alt=\"Open In Colab\"/></a>"
      ]
    },
    {
      "cell_type": "markdown",
      "metadata": {
        "id": "6PWQ-EVGT2s_",
        "colab_type": "text"
      },
      "source": [
        "# COURSE 3/6: STORYTELLING THROUGH DATA VISUALIZATION"
      ]
    },
    {
      "cell_type": "markdown",
      "metadata": {
        "id": "THaX315BT2wD",
        "colab_type": "text"
      },
      "source": [
        "# MISSION 4: Conditional_plots"
      ]
    },
    {
      "cell_type": "markdown",
      "metadata": {
        "id": "tQBrAPM9JEko",
        "colab_type": "text"
      },
      "source": [
        "## 1. Introduction to Seaborn"
      ]
    },
    {
      "cell_type": "markdown",
      "metadata": {
        "id": "auLynYznnY1W",
        "colab_type": "text"
      },
      "source": [
        ""
      ]
    }
  ]
}