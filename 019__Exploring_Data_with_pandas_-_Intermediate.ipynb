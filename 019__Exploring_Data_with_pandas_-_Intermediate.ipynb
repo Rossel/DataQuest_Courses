{
  "nbformat": 4,
  "nbformat_minor": 0,
  "metadata": {
    "colab": {
      "name": "019__Exploring_Data_with_pandas_-_Intermediate",
      "provenance": [],
      "collapsed_sections": [],
      "authorship_tag": "ABX9TyNagPZ0HhRiLN13Mgheuczi",
      "include_colab_link": true
    },
    "kernelspec": {
      "name": "python3",
      "display_name": "Python 3"
    }
  },
  "cells": [
    {
      "cell_type": "markdown",
      "metadata": {
        "id": "view-in-github",
        "colab_type": "text"
      },
      "source": [
        "<a href=\"https://colab.research.google.com/github/dbro-dev/DataQuest_Courses/blob/master/019__Exploring_Data_with_pandas_-_Intermediate.ipynb\" target=\"_parent\"><img src=\"https://colab.research.google.com/assets/colab-badge.svg\" alt=\"Open In Colab\"/></a>"
      ]
    },
    {
      "cell_type": "markdown",
      "metadata": {
        "id": "vUOcGywRgge4",
        "colab_type": "text"
      },
      "source": [
        "# **MISSION 5: Exploring Data with pandas: Intermediate**"
      ]
    },
    {
      "cell_type": "markdown",
      "metadata": {
        "id": "Lx-e_HcDg3ZM",
        "colab_type": "text"
      },
      "source": [
        "*Learn more techniques for selecting and analyzing data in pandas.*"
      ]
    },
    {
      "cell_type": "markdown",
      "metadata": {
        "id": "jj6LU3tYglK5",
        "colab_type": "text"
      },
      "source": [
        "In this mission, we will learn how to:\n",
        "\n",
        "* Select columns, rows and individual items using their integer location.\n",
        "* Use `pd.read_csv()` to read CSV files in pandas.\n",
        "* Work with integer axis labels.\n",
        "* How to use pandas methods to produce boolean arrays.\n",
        "* Use boolean operators to combine boolean comparisons to perform more complex analysis.\n",
        "* Use index labels to align data.\n",
        "* Use aggregation to perform advanced analysis using loops."
      ]
    },
    {
      "cell_type": "markdown",
      "metadata": {
        "id": "a9kLHOoDghWx",
        "colab_type": "text"
      },
      "source": [
        "## **1. Introduction**"
      ]
    },
    {
      "cell_type": "markdown",
      "metadata": {
        "id": "BOjBzLLJgkS0",
        "colab_type": "text"
      },
      "source": [
        "We'll continue working with a data set from [Fortune](https://fortune.com/) magazine's 2017 [Global 500 list](https://en.wikipedia.org/wiki/Fortune_Global_500), which ranks the top 500 corporations worldwide by revenue. The data set was originally compiled [here](https://data.world/chasewillden/fortune-500-companies-2017); however, we modified the original data set to make it more accessible. [Click here](https://github.com/dbro-dev/DataQuest_Courses/blob/master/datasets/f500.csv) or [here](https://drive.google.com/file/d/1sp668oBm1G7vQbgCpw8zH-fnD1IJd9Ut/view?usp=sharing) for the current version used in this notebook (*as my Github username may change in the future*).\n",
        "\n",
        "![Fortune_500_logo](https://s3.amazonaws.com/dq-content/291/fortune-500.jpg)"
      ]
    },
    {
      "cell_type": "markdown",
      "metadata": {
        "id": "HTbanmPm_QuY",
        "colab_type": "text"
      },
      "source": [
        "Below is the code to import pandas and use the pandas.read_csv() function to read the CSV into a dataframe and assign it to the variable name f500. \n",
        "\n",
        "```\n",
        "import pandas as pd\n",
        "f500 = pd.read_csv('f500.csv',index_col=0)\n",
        "f500.index.name = None\n",
        "\n",
        "\n",
        "```"
      ]
    },
    {
      "cell_type": "markdown",
      "metadata": {
        "id": "DrVOERTi_UW7",
        "colab_type": "text"
      },
      "source": [
        "In Google Colab however, it is a bit more complicated to load a .csv to work with. The fields below show what is currently the best way to go about it:"
      ]
    },
    {
      "cell_type": "code",
      "metadata": {
        "id": "2nev09qP_drf",
        "colab_type": "code",
        "colab": {}
      },
      "source": [
        "# Code to read csv file into Colaboratory:\n",
        "!pip install -U -q PyDrive\n",
        "from pydrive.auth import GoogleAuth\n",
        "from pydrive.drive import GoogleDrive\n",
        "from google.colab import auth\n",
        "from oauth2client.client import GoogleCredentials\n",
        "# Authenticate and create the PyDrive client.\n",
        "auth.authenticate_user()\n",
        "gauth = GoogleAuth()\n",
        "gauth.credentials = GoogleCredentials.get_application_default()\n",
        "drive = GoogleDrive(gauth)"
      ],
      "execution_count": 2,
      "outputs": []
    },
    {
      "cell_type": "code",
      "metadata": {
        "id": "M2mID70P_h7R",
        "colab_type": "code",
        "colab": {}
      },
      "source": [
        "# Once you have completed verification, go to the CSV file in Google Drive, right-click on it and select “Get shareable link”, and cut out the unique id in the link.\n",
        "id = \"1sp668oBm1G7vQbgCpw8zH-fnD1IJd9Ut\""
      ],
      "execution_count": 3,
      "outputs": []
    },
    {
      "cell_type": "code",
      "metadata": {
        "id": "YfOs-qxX_kNY",
        "colab_type": "code",
        "colab": {}
      },
      "source": [
        "# Download the dataset\n",
        "downloaded = drive.CreateFile({'id':id}) \n",
        "downloaded.GetContentFile('f500.csv')"
      ],
      "execution_count": 4,
      "outputs": []
    },
    {
      "cell_type": "code",
      "metadata": {
        "id": "zp-j5QG2_ngq",
        "colab_type": "code",
        "colab": {}
      },
      "source": [
        "# Import code which resembles the original code above\n",
        "import pandas as pd\n",
        "import numpy as np\n",
        "\n",
        "f500 = pd.read_csv('f500.csv',index_col=0)\n",
        "f500.index.name = None"
      ],
      "execution_count": 5,
      "outputs": []
    },
    {
      "cell_type": "code",
      "metadata": {
        "id": "1mMCh6tsANIA",
        "colab_type": "code",
        "colab": {}
      },
      "source": [
        "# replace 0 values in the \"previous_rank\" column with NaN\n",
        "f500.loc[f500[\"previous_rank\"] == 0, \"previous_rank\"] = np.nan"
      ],
      "execution_count": 6,
      "outputs": []
    },
    {
      "cell_type": "markdown",
      "metadata": {
        "id": "AxlvHKrrAPWp",
        "colab_type": "text"
      },
      "source": [
        "Select the `rank`, `revenues`, and `revenue_change` columns in `f500`. Then, use the `DataFrame.head()` method to select the first five rows. Assign the result to `f500_selection`.\n"
      ]
    },
    {
      "cell_type": "code",
      "metadata": {
        "id": "sbESp_LYAOXn",
        "colab_type": "code",
        "colab": {
          "base_uri": "https://localhost:8080/",
          "height": 123
        },
        "outputId": "b9cb5aee-cc86-43b5-ef0e-d80a026ca67f"
      },
      "source": [
        "f500_selection = f500[['rank', 'revenues', 'revenue_change']].head()\n",
        "print(f500_selection)"
      ],
      "execution_count": 7,
      "outputs": [
        {
          "output_type": "stream",
          "text": [
            "                          rank  revenues  revenue_change\n",
            "Walmart                      1    485873             0.8\n",
            "State Grid                   2    315199            -4.4\n",
            "Sinopec Group                3    267518            -9.1\n",
            "China National Petroleum     4    262573           -12.3\n",
            "Toyota Motor                 5    254694             7.7\n"
          ],
          "name": "stdout"
        }
      ]
    },
    {
      "cell_type": "markdown",
      "metadata": {
        "id": "OWS06bgS_p60",
        "colab_type": "text"
      },
      "source": [
        "Note how a few steps before we used this code to load the .csv file. \n",
        "\n",
        "\n",
        "\n",
        "```\n",
        "f500 = pd.read_csv('f500.csv',index_col=0)\n",
        "f500.index.name = None\n",
        "```\n",
        "Using this code, the index axis labels are actually the values from the first column in the data set, company. \n",
        "\n",
        "\n",
        "\n",
        "The `index_col` parameter is an optional argument and should specify which column to use as the row labels for the dataframe. When we used a value of 0, we specified that we wanted to use the first column as the row labels."
      ]
    },
    {
      "cell_type": "markdown",
      "metadata": {
        "id": "LBeBzyuFDqlN",
        "colab_type": "text"
      },
      "source": [
        "If we remove the second line: `f500.index.name = None`. Both the column and index axes can have names assigned to them. However, we originally used the code below to access the name of the index axes and set it to None, so our dataframe didn't have a name for the index axis."
      ]
    },
    {
      "cell_type": "markdown",
      "metadata": {
        "id": "2ANI2eeHg9GM",
        "colab_type": "text"
      },
      "source": [
        "## **2. Reading CSV files with pandas**"
      ]
    },
    {
      "cell_type": "markdown",
      "metadata": {
        "id": "Y_-Y7HL9KHew",
        "colab_type": "text"
      },
      "source": [
        "The more conventional way to read in a dataframe is this:"
      ]
    },
    {
      "cell_type": "code",
      "metadata": {
        "id": "HYTnIt9Cn96C",
        "colab_type": "code",
        "colab": {}
      },
      "source": [
        "f500 = pd.read_csv(\"f500.csv\")"
      ],
      "execution_count": 8,
      "outputs": []
    },
    {
      "cell_type": "code",
      "metadata": {
        "id": "6yTGZJ4Qn6RA",
        "colab_type": "code",
        "colab": {}
      },
      "source": [
        "f500.loc[f500[\"previous_rank\"] == 0, \"previous_rank\"] = np.nan"
      ],
      "execution_count": 9,
      "outputs": []
    },
    {
      "cell_type": "markdown",
      "metadata": {
        "id": "Qm_Ah8cyg9JV",
        "colab_type": "text"
      },
      "source": [
        "\n",
        "\n",
        "There are two differences with this approach:\n",
        "\n",
        "* The company column is now included as a regular column, instead of being used for the index.\n",
        "* The index labels are now integers starting from 0.\n"
      ]
    },
    {
      "cell_type": "markdown",
      "metadata": {
        "id": "GlImPkHRg9Xt",
        "colab_type": "text"
      },
      "source": [
        "## **3. Using `iloc` to select by integer position**"
      ]
    },
    {
      "cell_type": "markdown",
      "metadata": {
        "id": "wRYUF8oYg9Qh",
        "colab_type": "text"
      },
      "source": [
        "Recall that when we worked with a dataframe with string index labels, we used `loc[]` to select data:\n",
        "\n",
        "![alt text](https://s3.amazonaws.com/dq-content/292/selection_loc.svg)\n",
        "\n",
        "Just like in NumPy, we can also use integer positions to select data using `Dataframe.iloc[]` and `Series.iloc[]`. It's easy to get `loc[]` and `iloc[]` confused at first, but the easiest way is to remember the first letter of each method:\n",
        "\n",
        "* `loc`: **l**abel based selection\n",
        "* `iloc`: **i**nteger position based selection\n"
      ]
    },
    {
      "cell_type": "markdown",
      "metadata": {
        "id": "OpltdNGzEcW0",
        "colab_type": "text"
      },
      "source": [
        "Using `iloc[]` is almost identical to indexing with NumPy, with integer positions starting at `0` like ndarrays and Python lists. This is how we would perform the selection above using `iloc[]`:\n",
        "\n",
        "![alt text](https://s3.amazonaws.com/dq-content/292/selection_iloc.svg)\n",
        "\n",
        "As you can see, `DataFrame.iloc[]` behaves similarly to `DataFrame.loc[]`. The full syntax for `DataFrame.iloc[]`, in pseudocode, is:\n",
        "\n",
        "\n",
        "\n",
        "```\n",
        "df.iloc[row_index, column_index]\n",
        "```\n",
        "\n"
      ]
    },
    {
      "cell_type": "markdown",
      "metadata": {
        "id": "6jGOZJsQE1JH",
        "colab_type": "text"
      },
      "source": [
        "Practice:\n",
        "\n",
        "1. Select just the fifth row of the `f500` dataframe. Assign the result to `fifth_row`."
      ]
    },
    {
      "cell_type": "code",
      "metadata": {
        "id": "5eukinoWFiFT",
        "colab_type": "code",
        "colab": {}
      },
      "source": [
        "fifth_row = f500.iloc[4]"
      ],
      "execution_count": 10,
      "outputs": []
    },
    {
      "cell_type": "markdown",
      "metadata": {
        "id": "8AxNgKYEFrrR",
        "colab_type": "text"
      },
      "source": [
        "2. Select the value in first row of the `company` column. Assign the result to `company_value`."
      ]
    },
    {
      "cell_type": "code",
      "metadata": {
        "id": "4Z3Be6tyFr56",
        "colab_type": "code",
        "colab": {}
      },
      "source": [
        "company_value = f500.iloc[0, 0]"
      ],
      "execution_count": 11,
      "outputs": []
    },
    {
      "cell_type": "markdown",
      "metadata": {
        "id": "Yp9FfTkqg8ni",
        "colab_type": "text"
      },
      "source": [
        "## **4. Using `iloc` to select by integer position continued**"
      ]
    },
    {
      "cell_type": "markdown",
      "metadata": {
        "id": "aLUeCvSZFwA9",
        "colab_type": "text"
      },
      "source": [
        "To select just the first column from our `f500` dataframe, we use `:` (a colon) to specify all rows, and then use the integer `0` to specify the first column:\n",
        "\n"
      ]
    },
    {
      "cell_type": "code",
      "metadata": {
        "id": "aL9B5F3jHsZI",
        "colab_type": "code",
        "colab": {
          "base_uri": "https://localhost:8080/",
          "height": 230
        },
        "outputId": "0a9dd79f-ee24-4490-ca01-38e4762021b6"
      },
      "source": [
        "first_column = f500.iloc[:,0]\n",
        "print(first_column)"
      ],
      "execution_count": 12,
      "outputs": [
        {
          "output_type": "stream",
          "text": [
            "0                             Walmart\n",
            "1                          State Grid\n",
            "2                       Sinopec Group\n",
            "3            China National Petroleum\n",
            "4                        Toyota Motor\n",
            "                    ...              \n",
            "495    Teva Pharmaceutical Industries\n",
            "496          New China Life Insurance\n",
            "497         Wm. Morrison Supermarkets\n",
            "498                               TUI\n",
            "499                        AutoNation\n",
            "Name: company, Length: 500, dtype: object\n"
          ],
          "name": "stdout"
        }
      ]
    },
    {
      "cell_type": "markdown",
      "metadata": {
        "id": "ItrEtzKfg9ew",
        "colab_type": "text"
      },
      "source": [
        "Slicing: select the rows between index positions one to four (inclusive)"
      ]
    },
    {
      "cell_type": "code",
      "metadata": {
        "id": "SvAt6XpQINCf",
        "colab_type": "code",
        "colab": {}
      },
      "source": [
        "second_to_sixth_rows = f500[1:5]"
      ],
      "execution_count": 13,
      "outputs": []
    },
    {
      "cell_type": "markdown",
      "metadata": {
        "id": "kERBjVtUIVSz",
        "colab_type": "text"
      },
      "source": [
        "\n",
        "\n",
        "```\n",
        "company  rank  revenues ... employees  total_stockholder_equity\n",
        "1         State Grid     2    315199 ...    926067                    209456\n",
        "2      Sinopec Group     3    267518 ...    713288                    106523\n",
        "3  China National...     4    262573 ...   1512048                    301893\n",
        "4       Toyota Motor     5    254694 ...    364445                    157210\n",
        "```\n",
        "\n"
      ]
    },
    {
      "cell_type": "markdown",
      "metadata": {
        "id": "Rx7-jz9uIZSJ",
        "colab_type": "text"
      },
      "source": [
        "In the example above, the row at index position `5` is not included, just as if we were slicing with a Python list or NumPy ndarray. Recall that `loc[]` handles slicing differently:\n",
        "\n",
        "* With `loc[]`, the ending slice is included.\n",
        "* With `iloc[]`, the ending slice is not included.\n"
      ]
    },
    {
      "cell_type": "markdown",
      "metadata": {
        "id": "x6pL3wSqIoZz",
        "colab_type": "text"
      },
      "source": [
        "The table below summarizes how we can use `DataFrame.iloc[]` and `Series.iloc[]` to select by integer position:\n",
        "\n",
        "\n",
        "|Select by integer position\t| Explicit Syntax\t| Shorthand Convention|\n",
        "| --- | --- | --- |\n",
        "Single column from dataframe |\tdf.iloc[:,3]\t| \n",
        "List of columns from dataframe |\tdf.iloc[:,[3,5,6]]\t| \n",
        "Slice of columns from dataframe |\tdf.iloc[:,3:7]\t| \n",
        "Single row from dataframe |\tdf.iloc[20]\t| \n",
        "List of rows from dataframe |\tdf.iloc[[0,3,8]]\t| \n",
        "Slice of rows from dataframe |\tdf.iloc[3:5] |\tdf[3:5]\n",
        "Single items from series|\ts.iloc[8] |\ts[8]\n",
        "List of item from series|\ts.iloc[[2,8,1]] |\ts[[2,8,1]]\n",
        "Slice of items from series|\ts.iloc[5:10]|\ts[5:10]\n",
        "\n"
      ]
    },
    {
      "cell_type": "markdown",
      "metadata": {
        "id": "MtGEkcgtJNcK",
        "colab_type": "text"
      },
      "source": [
        "\n",
        "\n",
        "\n",
        "**Practice:**\n",
        "1. Select the first three rows of the `f500` dataframe. Assign the result to `first_three_rows`.\n"
      ]
    },
    {
      "cell_type": "code",
      "metadata": {
        "id": "Galg_jyuIPo4",
        "colab_type": "code",
        "colab": {
          "base_uri": "https://localhost:8080/",
          "height": 123
        },
        "outputId": "5a5d2c86-03cb-4c14-b648-6a8f9db85951"
      },
      "source": [
        "first_three_rows = f500.iloc[:3]\n",
        "print(first_three_rows)"
      ],
      "execution_count": 14,
      "outputs": [
        {
          "output_type": "stream",
          "text": [
            "         company  rank  ...  employees  total_stockholder_equity\n",
            "0        Walmart     1  ...    2300000                     77798\n",
            "1     State Grid     2  ...     926067                    209456\n",
            "2  Sinopec Group     3  ...     713288                    106523\n",
            "\n",
            "[3 rows x 17 columns]\n"
          ],
          "name": "stdout"
        }
      ]
    },
    {
      "cell_type": "markdown",
      "metadata": {
        "id": "y_XT9CW9Jbhu",
        "colab_type": "text"
      },
      "source": [
        "2. Select the first and seventh rows and the first five columns of the `f500` dataframe. Assign the result to `first_seventh_row_slice`."
      ]
    },
    {
      "cell_type": "code",
      "metadata": {
        "id": "vjj6FVbcJb47",
        "colab_type": "code",
        "colab": {
          "base_uri": "https://localhost:8080/",
          "height": 70
        },
        "outputId": "a17c7745-9a7a-438f-9d14-abac82068f09"
      },
      "source": [
        "first_seventh_row_slice = f500.iloc[[0,6], :5]\n",
        "print(first_seventh_row_slice)"
      ],
      "execution_count": 15,
      "outputs": [
        {
          "output_type": "stream",
          "text": [
            "             company  rank  revenues  revenue_change  profits\n",
            "0            Walmart     1    485873             0.8  13643.0\n",
            "6  Royal Dutch Shell     7    240033           -11.8   4575.0\n"
          ],
          "name": "stdout"
        }
      ]
    },
    {
      "cell_type": "markdown",
      "metadata": {
        "id": "KKbrQzthg9lE",
        "colab_type": "text"
      },
      "source": [
        "## **5. Using pandas methods to create boolean masks**"
      ]
    },
    {
      "cell_type": "markdown",
      "metadata": {
        "id": "CLBzuhhFg9rz",
        "colab_type": "text"
      },
      "source": [
        "Besides >, <, and == there are other pandas methods that return boolean masks, two examples are:\n",
        "* `Series.isnull()` [method](http://pandas.pydata.org/pandas-docs/stable/generated/pandas.Series.isnull.html)\n",
        "* `Series.notnull()` [method](http://pandas.pydata.org/pandas-docs/stable/generated/pandas.Series.notnull.html)"
      ]
    },
    {
      "cell_type": "markdown",
      "metadata": {
        "id": "EnrJOUcD0xKy",
        "colab_type": "text"
      },
      "source": [
        "First, let's use the `Series.isnull()` method to view rows with null values in the `revenue_change` column:"
      ]
    },
    {
      "cell_type": "code",
      "metadata": {
        "id": "4UIY3Doe1bBZ",
        "colab_type": "code",
        "colab": {
          "base_uri": "https://localhost:8080/",
          "height": 123
        },
        "outputId": "1eb83cc4-1ac2-4b4b-98d8-14653227fabf"
      },
      "source": [
        "rev_is_null = f500[\"revenue_change\"].isnull()\n",
        "print(rev_is_null.head())"
      ],
      "execution_count": 16,
      "outputs": [
        {
          "output_type": "stream",
          "text": [
            "0    False\n",
            "1    False\n",
            "2    False\n",
            "3    False\n",
            "4    False\n",
            "Name: revenue_change, dtype: bool\n"
          ],
          "name": "stdout"
        }
      ]
    },
    {
      "cell_type": "markdown",
      "metadata": {
        "id": "fjt6cJdh6WMG",
        "colab_type": "text"
      },
      "source": [
        "Using Series.isnull() resulted in a **boolean series**. Just like in NumPy, we can use this series to filter our dataframe, `f500`:"
      ]
    },
    {
      "cell_type": "code",
      "metadata": {
        "id": "VmiQv4fu6ccJ",
        "colab_type": "code",
        "colab": {
          "base_uri": "https://localhost:8080/",
          "height": 70
        },
        "outputId": "a40de7df-fbc7-4473-ac85-3df011c208e5"
      },
      "source": [
        "rev_change_null = f500[rev_is_null]\n",
        "print(rev_change_null[[\"company\",\"country\",\"sector\"]])"
      ],
      "execution_count": 17,
      "outputs": [
        {
          "output_type": "stream",
          "text": [
            "                        company  country      sector\n",
            "90                       Uniper  Germany      Energy\n",
            "180  Hewlett Packard Enterprise      USA  Technology\n"
          ],
          "name": "stdout"
        }
      ]
    },
    {
      "cell_type": "markdown",
      "metadata": {
        "id": "m8yNVFFm6fhX",
        "colab_type": "text"
      },
      "source": [
        "We can confirm that the two companies with missing values for the revenue_change column are Uniper, a German energy company, and Hewlett Parkard Enterprise, an American technology company."
      ]
    },
    {
      "cell_type": "markdown",
      "metadata": {
        "id": "mYANXf8N6kht",
        "colab_type": "text"
      },
      "source": [
        "Let's use what we've learned to find the null values in the `previous_rank` column next:\n",
        "\n",
        "Use the `Series.isnull()` method to select all rows from `f500` that have a null value for the `previous_rank` column. Select only the `company`, `rank`, and `previous_rank` columns. Assign the result to `null_previous_rank`.\n",
        "\n"
      ]
    },
    {
      "cell_type": "code",
      "metadata": {
        "id": "XTJ7rdXqvwCJ",
        "colab_type": "code",
        "colab": {
          "base_uri": "https://localhost:8080/",
          "height": 123
        },
        "outputId": "6609f4e5-01f4-4459-ea1e-ce814912a566"
      },
      "source": [
        "null_previous_rank = f500[f500[\"previous_rank\"].isnull()][[\"company\",\"rank\", \"previous_rank\"]]\n",
        "\n",
        "print(null_previous_rank.head())"
      ],
      "execution_count": 18,
      "outputs": [
        {
          "output_type": "stream",
          "text": [
            "                    company  rank  previous_rank\n",
            "48    Legal & General Group    49            NaN\n",
            "90                   Uniper    91            NaN\n",
            "123       Dell Technologies   124            NaN\n",
            "138  Anbang Insurance Group   139            NaN\n",
            "140         Albertsons Cos.   141            NaN\n"
          ],
          "name": "stdout"
        }
      ]
    },
    {
      "cell_type": "markdown",
      "metadata": {
        "id": "j4HGAfNxg9yF",
        "colab_type": "text"
      },
      "source": [
        "## **6. Working with Integer Labels**"
      ]
    },
    {
      "cell_type": "markdown",
      "metadata": {
        "id": "0cv-MTYwg95I",
        "colab_type": "text"
      },
      "source": [
        "Always think carefully about whether you want to select by *label* or *integer position*. Use `DataFrame.loc[]` or `DataFrame.iloc[]` accordingly. "
      ]
    },
    {
      "cell_type": "markdown",
      "metadata": {
        "id": "3zQ0HHCckJ1P",
        "colab_type": "text"
      },
      "source": [
        "![.iloc vs .loc](https://s3.amazonaws.com/dq-content/292/integer_labels_2.svg)"
      ]
    },
    {
      "cell_type": "markdown",
      "metadata": {
        "id": "3b4mP_UwkR80",
        "colab_type": "text"
      },
      "source": [
        "Practice:\n",
        "\n",
        "Assign the first five rows of the `null_previous_rank` dataframe to the variable `top5_null_prev_rank` by choosing the correct method out of either `loc[]` or `iloc[]`."
      ]
    },
    {
      "cell_type": "code",
      "metadata": {
        "id": "8Qm3YswEkaFp",
        "colab_type": "code",
        "colab": {
          "base_uri": "https://localhost:8080/",
          "height": 158
        },
        "outputId": "8a7167c3-9f39-4bc2-e6c4-6815c755db88"
      },
      "source": [
        "null_previous_rank = f500[f500[\"previous_rank\"].isnull()]\n",
        "\n",
        "top5_null_prev_rank = null_previous_rank.iloc[:5]\n",
        "\n",
        "print(top5_null_prev_rank)"
      ],
      "execution_count": 19,
      "outputs": [
        {
          "output_type": "stream",
          "text": [
            "                    company  rank  ...  employees  total_stockholder_equity\n",
            "48    Legal & General Group    49  ...       8939                      8579\n",
            "90                   Uniper    91  ...      12890                     12889\n",
            "123       Dell Technologies   124  ...     138000                     13243\n",
            "138  Anbang Insurance Group   139  ...      40707                     20372\n",
            "140         Albertsons Cos.   141  ...     273000                      1371\n",
            "\n",
            "[5 rows x 17 columns]\n"
          ],
          "name": "stdout"
        }
      ]
    },
    {
      "cell_type": "markdown",
      "metadata": {
        "id": "Xuf9CSCKg996",
        "colab_type": "text"
      },
      "source": [
        "## **7. Pandas Index Alignment**"
      ]
    },
    {
      "cell_type": "markdown",
      "metadata": {
        "id": "Fp32FvXEg-Bv",
        "colab_type": "text"
      },
      "source": [
        "Now that we've identified the rows with null values in the `previous_rank` column, let's use the `Series.notnull()` method to exclude them from the next part of our analysis."
      ]
    },
    {
      "cell_type": "code",
      "metadata": {
        "id": "Ayy2SOAnpypY",
        "colab_type": "code",
        "colab": {}
      },
      "source": [
        "previously_ranked = f500[f500[\"previous_rank\"].notnull()]"
      ],
      "execution_count": 20,
      "outputs": []
    },
    {
      "cell_type": "markdown",
      "metadata": {
        "id": "z6iV3MeAp0u4",
        "colab_type": "text"
      },
      "source": [
        "We can then create a `rank_change` column by subtracting the `rank` column from the `previous_rank` column:"
      ]
    },
    {
      "cell_type": "code",
      "metadata": {
        "id": "DPx5qLaKp3aH",
        "colab_type": "code",
        "colab": {
          "base_uri": "https://localhost:8080/",
          "height": 105
        },
        "outputId": "71dd7abc-fdd0-446a-ecee-9fecfdeb6dc8"
      },
      "source": [
        "rank_change = previously_ranked[\"previous_rank\"] - previously_ranked[\"rank\"]\n",
        "\n",
        "f500[\"rank_change\"] = rank_change\n",
        "\n",
        "print(rank_change.shape)\n",
        "print(rank_change.tail(3))"
      ],
      "execution_count": 21,
      "outputs": [
        {
          "output_type": "stream",
          "text": [
            "(467,)\n",
            "496   -70.0\n",
            "497   -61.0\n",
            "498   -32.0\n",
            "dtype: float64\n"
          ],
          "name": "stdout"
        }
      ]
    },
    {
      "cell_type": "markdown",
      "metadata": {
        "id": "E8cxERgQp7CL",
        "colab_type": "text"
      },
      "source": [
        "Above, we can see that our `rank_change` series has 467 rows. Since the last integer index label is 498, we know that our index labels no longer align with the integer positions. "
      ]
    },
    {
      "cell_type": "markdown",
      "metadata": {
        "id": "AuRrOFNTp9E8",
        "colab_type": "text"
      },
      "source": [
        "Suppose now we decided to add the `rank_change` series to the `f500` dataframe as a new column. Its index labels no longer match the index labels in `f500`, so how could this be done?"
      ]
    },
    {
      "cell_type": "markdown",
      "metadata": {
        "id": "7svHcvo4p-_o",
        "colab_type": "text"
      },
      "source": [
        "Simple. In pandas almost every operation will align on the index labels. Let's look at an example – below we have a dataframe named `food` and a series named `alt_name`:"
      ]
    },
    {
      "cell_type": "markdown",
      "metadata": {
        "id": "0X9hP6lSqjYl",
        "colab_type": "text"
      },
      "source": [
        "![alt text](https://s3.amazonaws.com/dq-content/292/align_index_1_updated.svg)"
      ]
    },
    {
      "cell_type": "markdown",
      "metadata": {
        "id": "hUtfpe6KqoBt",
        "colab_type": "text"
      },
      "source": [
        "The `food` dataframe and the `alt_name` series not only have a different number of items, but they also only have two of the same index labels - `corn` and `eggplant` - and they're in different orders. If we wanted to add `alt_name` as a new column in our `food` dataframe, we can use the following code:\n",
        "\n",
        "\n",
        "```\n",
        "food[\"alt_name\"] = alt_name\n",
        "```\n",
        "\n"
      ]
    },
    {
      "cell_type": "markdown",
      "metadata": {
        "id": "H40z3XLEq2Gg",
        "colab_type": "text"
      },
      "source": [
        "When we do this, pandas will ignore the order of the `alt_name` series, and align on the index labels:"
      ]
    },
    {
      "cell_type": "markdown",
      "metadata": {
        "id": "ZzaOnCXhq5Kx",
        "colab_type": "text"
      },
      "source": [
        "![alt text](https://s3.amazonaws.com/dq-content/292/align_index_2_updated.svg)"
      ]
    },
    {
      "cell_type": "markdown",
      "metadata": {
        "id": "vOUJ7oUxq9CW",
        "colab_type": "text"
      },
      "source": [
        "Pandas will also:\n",
        "\n",
        "* **Discard** any items that have an **index that doesn't match the dataframe** (like arugula).\n",
        "* Fill any remaining rows with **NaN**.\n",
        "\n",
        "Below is the result:"
      ]
    },
    {
      "cell_type": "markdown",
      "metadata": {
        "id": "rQXDNnnUqw6_",
        "colab_type": "text"
      },
      "source": [
        "![alt text](https://s3.amazonaws.com/dq-content/292/align_index_5_updated.svg)"
      ]
    },
    {
      "cell_type": "markdown",
      "metadata": {
        "id": "JZJ5enCYrFoz",
        "colab_type": "text"
      },
      "source": [
        "The **pandas library will align on index at every opportunity**, no matter if our index labels are strings or integers - this makes working with data from different sources or working with data when we have removed, added, or reordered rows much easier than it would be otherwise."
      ]
    },
    {
      "cell_type": "markdown",
      "metadata": {
        "id": "aSYUIkCTg-Hj",
        "colab_type": "text"
      },
      "source": [
        "## **8. Using Boolean Operators**"
      ]
    },
    {
      "cell_type": "markdown",
      "metadata": {
        "id": "VSQUXM-2g-Oa",
        "colab_type": "text"
      },
      "source": [
        "Boolean indexing is a powerful tool which allows us to select or exclude parts of our data based on their values. However, to answer more complex questions, we need to learn how to combine boolean arrays.\n",
        "\n",
        "To recap, boolean arrays are created using any of the Python standard comparison operators: `==` (equal), `>` (greater than), `<` (less than), `!=` (not equal).\n",
        "\n",
        "We combine boolean arrays using boolean operators. In Python, these boolean operators are `and`, `or`, and `not`. In pandas, the operators are slightly different:"
      ]
    },
    {
      "cell_type": "markdown",
      "metadata": {
        "id": "R8TcXOgC3mao",
        "colab_type": "text"
      },
      "source": [
        "pandas |\tPython equivalent |\tMeaning\n",
        "--- | --- | ---\n",
        "a & b |\ta and b |\tTrue if both a and b are True, else False\n",
        "a I b |\ta or b |\tTrue if either a or b is True\n",
        "~a |\tnot a |\tTrue if a is False, else False"
      ]
    },
    {
      "cell_type": "markdown",
      "metadata": {
        "id": "5bQjZTo-4CFJ",
        "colab_type": "text"
      },
      "source": [
        "Let's look at an example using `f500_sel`, a small selection of our `f500` dataframe:\n",
        "\n",
        "![alt text](https://s3.amazonaws.com/dq-content/292/bool_ops_1.svg)"
      ]
    },
    {
      "cell_type": "markdown",
      "metadata": {
        "id": "tZFpIY2p4LbS",
        "colab_type": "text"
      },
      "source": [
        "Suppose we wanted to find the companies in `f500_sel` with more than 265 billion in revenue that are headquartered in China. We'll start by performing two boolean comparisons to produce two separate boolean arrays (the revenue column is already in millions).\n",
        "\n",
        "![alt text](https://s3.amazonaws.com/dq-content/292/bool_ops_2.svg)"
      ]
    },
    {
      "cell_type": "markdown",
      "metadata": {
        "id": "MNWhfL2h4T4p",
        "colab_type": "text"
      },
      "source": [
        "We then use the `&` operator to combine the two boolean arrays using boolean \"and\" logic:\n",
        "![alt text](https://s3.amazonaws.com/dq-content/292/bool_ops_3.svg)"
      ]
    },
    {
      "cell_type": "markdown",
      "metadata": {
        "id": "8UQm5Yak6qdn",
        "colab_type": "text"
      },
      "source": [
        "Lastly, we use the combined boolean array to perform selection on our dataframe:\n",
        "![alt text](https://s3.amazonaws.com/dq-content/292/bool_ops_4.svg)\n",
        "\n",
        "The result gives us two companies from f500_sel that are both Chinese and have over 265 billion in revenue. "
      ]
    },
    {
      "cell_type": "markdown",
      "metadata": {
        "id": "hR3AWZDA60oD",
        "colab_type": "text"
      },
      "source": [
        "**Let's practice more complex selection using boolean operators:**\n",
        "\n",
        "\n",
        "Select all companies with **revenues over 100 billion and negative profits** from the `f500` dataframe. The result should include all columns.\n",
        "\n",
        "* Create a boolean array that selects the companies with revenues greater than 100 billion. Assign the result to `large_revenue`.\n",
        "* Create a boolean array that selects the companies with profits less than 0. Assign the result to `negative_profits`.\n",
        "* Combine `large_revenue` and `negative_profits`. Assign the result to `combined`.\n",
        "*Use `combined` to filter `f500`, and show result for `company`, `revenues`, and `profits`. Assign the result to `big_rev_neg_profit`.\n"
      ]
    },
    {
      "cell_type": "code",
      "metadata": {
        "id": "bbFXrWXx6zwt",
        "colab_type": "code",
        "colab": {
          "base_uri": "https://localhost:8080/",
          "height": 70
        },
        "outputId": "6af35752-6616-4d16-e63d-9f3535c4f682"
      },
      "source": [
        "large_revenue = f500[\"revenues\"] > 100000\n",
        "\n",
        "negative_profits = f500[\"profits\"] < 0\n",
        "\n",
        "combined = large_revenue & negative_profits\n",
        "\n",
        "final_cols = [\"company\",\"revenues\", \"profits\"]\n",
        "\n",
        "big_rev_neg_profit = f500.loc[combined,final_cols]\n",
        "\n",
        "print(big_rev_neg_profit)"
      ],
      "execution_count": 24,
      "outputs": [
        {
          "output_type": "stream",
          "text": [
            "                company  revenues  profits\n",
            "32  Japan Post Holdings    122990   -267.4\n",
            "44              Chevron    107567   -497.0\n"
          ],
          "name": "stdout"
        }
      ]
    },
    {
      "cell_type": "markdown",
      "metadata": {
        "id": "vn_wgQc-g-UY",
        "colab_type": "text"
      },
      "source": [
        "## **9. Using Boolean Operators Continued**"
      ]
    },
    {
      "cell_type": "markdown",
      "metadata": {
        "id": "kTGWet_6g-dV",
        "colab_type": "text"
      },
      "source": [
        "Just like when we use a single boolean array to perform selection, **we don't need to use intermediate variables**. We can optimize our code by combining our two boolean arrays in a single line, instead of assigning them to the intermediate `large_revenue` and `negative_profits` variables first:\n",
        "\n",
        "\n",
        "\n",
        "```\n",
        "combined = (f500[\"revenues\"] > 100000) & (f500[\"profits\"] < 0)\n",
        "```\n",
        "\n",
        "Notice that we used parentheses around each of our boolean comparisons. This is very important — **our boolean operation will fail without parentheses**.\n",
        "\n"
      ]
    },
    {
      "cell_type": "markdown",
      "metadata": {
        "id": "wRgOTBhDyC_N",
        "colab_type": "text"
      },
      "source": [
        "Lastly, instead of assigning the boolean arrays to `combined`, we can insert the comparison directly into our selection:\n",
        "\n",
        "\n",
        "\n",
        "```\n",
        "big_rev_neg_profit = f500[(f500[\"revenues\"] > 100000) & (f500[\"profits\"] < 0)]\n",
        "```\n",
        "Whether to perform this final step is very much a matter of taste. As always, your decision should be driven by what will make your code more readable.\n",
        "\n",
        "Again:\n",
        "\n",
        "pandas |\tPython equivalent |\tMeaning\n",
        "--- | --- | ---\n",
        "a & b |\ta and b |\tTrue if both a and b are True, else False\n",
        "a I b |\ta or b |\tTrue if either a or b is True\n",
        "~a |\tnot a |\tTrue if a is False, else False\n"
      ]
    },
    {
      "cell_type": "markdown",
      "metadata": {
        "id": "Cn799xpGx8pL",
        "colab_type": "text"
      },
      "source": [
        "**Practice:**\n",
        "\n",
        "\n",
        "* Select all rows for companies whose `country` value is either Brazil or Venezuela. Assign the result to `brazil_venezuela`."
      ]
    },
    {
      "cell_type": "code",
      "metadata": {
        "id": "YzDX_z6Lylbt",
        "colab_type": "code",
        "colab": {
          "base_uri": "https://localhost:8080/",
          "height": 212
        },
        "outputId": "4796fba7-93bc-47db-da6d-319f9f65cea9"
      },
      "source": [
        "brazil_venezuela = f500[(f500[\"country\"] == \"Brazil\") | (f500[\"country\"] == \"Venezuela\")]\n",
        "\n",
        "print(brazil_venezuela)"
      ],
      "execution_count": 25,
      "outputs": [
        {
          "output_type": "stream",
          "text": [
            "                             company  ...  rank_change\n",
            "74                         Petrobras  ...        -17.0\n",
            "112            Itau Unibanco Holding  ...         46.0\n",
            "150                  Banco do Brasil  ...        -36.0\n",
            "153                   Banco Bradesco  ...         55.0\n",
            "190                              JBS  ...         -6.0\n",
            "369                             Vale  ...         47.0\n",
            "441  Mercantil Servicios Financieros  ...          NaN\n",
            "486                Ultrapar Holdings  ...        -13.0\n",
            "\n",
            "[8 rows x 18 columns]\n"
          ],
          "name": "stdout"
        }
      ]
    },
    {
      "cell_type": "markdown",
      "metadata": {
        "id": "OjbvV5HJ0206",
        "colab_type": "text"
      },
      "source": [
        "* Select the first five companies in the Technology sector for which the country is not the USA from the `f500` dataframe. Assign the result to `tech_outside_usa`."
      ]
    },
    {
      "cell_type": "code",
      "metadata": {
        "id": "IWylxL9Y03QU",
        "colab_type": "code",
        "colab": {
          "base_uri": "https://localhost:8080/",
          "height": 178
        },
        "outputId": "046ce91d-ee34-432d-9ca2-5420dab3f2f8"
      },
      "source": [
        "tech_outside_usa = f500[(f500[\"sector\"] == \"Technology\") & ~(f500[\"country\"] == \"USA\")].head()\n",
        "\n",
        "print(tech_outside_usa)"
      ],
      "execution_count": 26,
      "outputs": [
        {
          "output_type": "stream",
          "text": [
            "                         company  rank  ...  total_stockholder_equity  rank_change\n",
            "14           Samsung Electronics    15  ...                    154376         -2.0\n",
            "26    Hon Hai Precision Industry    27  ...                     33476         -2.0\n",
            "70                       Hitachi    71  ...                     26632          8.0\n",
            "82   Huawei Investment & Holding    83  ...                     20159         46.0\n",
            "104                         Sony   105  ...                     22415          8.0\n",
            "\n",
            "[5 rows x 18 columns]\n"
          ],
          "name": "stdout"
        }
      ]
    },
    {
      "cell_type": "markdown",
      "metadata": {
        "id": "17WnVq1lg-ku",
        "colab_type": "text"
      },
      "source": [
        "## **10. Sorting Values**"
      ]
    },
    {
      "cell_type": "markdown",
      "metadata": {
        "id": "YMbHtVz6g-rl",
        "colab_type": "text"
      },
      "source": [
        "Suppose we wanted to find the company that employs the most people in China. We can accomplish this by first selecting all of the rows where the `country` column equals `China`:"
      ]
    },
    {
      "cell_type": "code",
      "metadata": {
        "id": "gR_C92SZ2AO4",
        "colab_type": "code",
        "colab": {}
      },
      "source": [
        "selected_rows = f500[f500[\"country\"] == \"China\"]"
      ],
      "execution_count": 27,
      "outputs": []
    },
    {
      "cell_type": "markdown",
      "metadata": {
        "id": "ykMRE_ID2IlY",
        "colab_type": "text"
      },
      "source": [
        "Then, we can use the DataFrame.`sort_values()` [method](http://pandas.pydata.org/pandas-docs/stable/generated/pandas.DataFrame.sort_values.html) to sort the rows on the `employees` column. To do so, we pass the column name to the method:"
      ]
    },
    {
      "cell_type": "code",
      "metadata": {
        "id": "36TQslEo2Qo0",
        "colab_type": "code",
        "colab": {
          "base_uri": "https://localhost:8080/",
          "height": 123
        },
        "outputId": "7240ccc3-1ecb-4b68-d7a1-c459e1eef7c1"
      },
      "source": [
        "sorted_rows = selected_rows.sort_values(\"employees\")\n",
        "print(sorted_rows[[\"company\", \"country\", \"employees\"]].head())"
      ],
      "execution_count": 28,
      "outputs": [
        {
          "output_type": "stream",
          "text": [
            "                                company country  employees\n",
            "204                         Noble Group   China       1000\n",
            "458             Yango Financial Holding   China      10234\n",
            "438  China National Aviation Fuel Group   China      11739\n",
            "128                         Tewoo Group   China      17353\n",
            "182            Amer International Group   China      17852\n"
          ],
          "name": "stdout"
        }
      ]
    },
    {
      "cell_type": "markdown",
      "metadata": {
        "id": "jupUxFRK2eAJ",
        "colab_type": "text"
      },
      "source": [
        "By default, the `sort_values()` method will sort the rows in *ascending* order — from smallest to largest.\n",
        "\n",
        "To sort the rows in *descending* order instead, so the company with the largest number of employees appears first, we can set the `ascending` parameter to `False`:\n"
      ]
    },
    {
      "cell_type": "code",
      "metadata": {
        "id": "ppm54IjH2nZO",
        "colab_type": "code",
        "colab": {
          "base_uri": "https://localhost:8080/",
          "height": 123
        },
        "outputId": "a41c1ab7-630b-40fd-99f7-9c87054d84e4"
      },
      "source": [
        "sorted_rows = selected_rows.sort_values(\"employees\", ascending=False)\n",
        "\n",
        "print(sorted_rows[[\"company\", \"country\", \"employees\"]].head())"
      ],
      "execution_count": 29,
      "outputs": [
        {
          "output_type": "stream",
          "text": [
            "                        company country  employees\n",
            "3      China National Petroleum   China    1512048\n",
            "118            China Post Group   China     941211\n",
            "1                    State Grid   China     926067\n",
            "2                 Sinopec Group   China     713288\n",
            "37   Agricultural Bank of China   China     501368\n"
          ],
          "name": "stdout"
        }
      ]
    },
    {
      "cell_type": "markdown",
      "metadata": {
        "id": "s_LKPO4G2s79",
        "colab_type": "text"
      },
      "source": [
        "Now, we can see that the Chinese company that employs the most people is China National Petroleum. Let's find the Japanese company with the most employees next."
      ]
    },
    {
      "cell_type": "code",
      "metadata": {
        "id": "wn2eO4w_4t4I",
        "colab_type": "code",
        "colab": {
          "base_uri": "https://localhost:8080/",
          "height": 34
        },
        "outputId": "8c0207d4-6a9a-4749-f8b3-922b32f00978"
      },
      "source": [
        "japan = f500[f500[\"country\"] == \"Japan\"]\n",
        "\n",
        "japan_sorted = japan.sort_values(\"employees\", ascending=False)\n",
        "\n",
        "first_row = japan_sorted.iloc[0]\n",
        "\n",
        "top_japanese_employer = first_row[\"company\"]\n",
        "\n",
        "# Alternatively, the last 2 steps can be combined\n",
        "# top_japanese_employer = japan_sorted.iloc[0][\"company\"]\n",
        "\n",
        "print(f\"The top Japanese employer is {top_japanese_employer}.\")"
      ],
      "execution_count": 33,
      "outputs": [
        {
          "output_type": "stream",
          "text": [
            "The top Japanese employer is Toyota Motor.\n"
          ],
          "name": "stdout"
        }
      ]
    },
    {
      "cell_type": "markdown",
      "metadata": {
        "id": "3krCiokMg-yx",
        "colab_type": "text"
      },
      "source": [
        "## **11. Using Loops with pandas**"
      ]
    },
    {
      "cell_type": "markdown",
      "metadata": {
        "id": "e7uR9Keig-5R",
        "colab_type": "text"
      },
      "source": [
        "Suppose we wanted to calculate the company that employs the most people in each of the 34 countries. Using the method from the last screen would be very inefficient, so we'll rely on a technique we haven't used yet with pandas - loops.\n",
        "\n",
        "We've explicitly avoided using loops in pandas because one of the key benefits of pandas is that it has vectorized methods to work with data more efficiently. We'll learn more advanced techniques in later courses, but for now, we'll learn how to use loops for aggregation.\n",
        "\n",
        "**Aggregation** is **where we apply a statistical operation to groups of our data**. \n",
        "\n",
        "Let's say that we wanted to calculate the average revenue for each country in the data set. Our process might look like this:\n",
        "\n",
        "* Identify each unique country in the data set.\n",
        "* For each country:\n",
        "** Select only the rows corresponding to that country.\n",
        "** Calculate the average revenue for those rows.\n",
        "\n",
        "To identify the unique countries, we can use the `Series.unique()` [method](http://pandas.pydata.org/pandas-docs/stable/generated/pandas.Series.unique.html). This method returns an array of unique values from any series. Then, we can loop over that array and perform our operation. Here's what that looks like:"
      ]
    },
    {
      "cell_type": "code",
      "metadata": {
        "id": "g6vVZMfNH5Y1",
        "colab_type": "code",
        "colab": {}
      },
      "source": [
        "# Create an empty dictionary to store the results\n",
        "avg_rev_by_country = {}\n",
        "\n",
        "# Create an array of unique countries\n",
        "countries = f500[\"country\"].unique()\n",
        "\n",
        "# Use a for loop to iterate over the countries\n",
        "for c in countries:\n",
        "    # Use boolean comparison to select only rows that\n",
        "    # correspond to a specific country\n",
        "    selected_rows = f500[f500[\"country\"] == c]\n",
        "    # Calculate the mean average revenue for just those rows\n",
        "    mean = selected_rows[\"revenues\"].mean()\n",
        "    # Assign the mean value to the dictionary, using the\n",
        "    # country name as the key\n",
        "    avg_rev_by_country[c] = mean"
      ],
      "execution_count": 34,
      "outputs": []
    },
    {
      "cell_type": "markdown",
      "metadata": {
        "id": "arkwEIvRH7Qp",
        "colab_type": "text"
      },
      "source": [
        "The resulting dictionary is below (we've shown just the first few keys):"
      ]
    },
    {
      "cell_type": "code",
      "metadata": {
        "id": "rFe1fX2HH-PF",
        "colab_type": "code",
        "colab": {
          "base_uri": "https://localhost:8080/",
          "height": 54
        },
        "outputId": "0b0fa5b6-8460-46a3-b563-c3b1b7d9f2c2"
      },
      "source": [
        "print(avg_rev_by_country)"
      ],
      "execution_count": 36,
      "outputs": [
        {
          "output_type": "stream",
          "text": [
            "{'USA': 64218.371212121216, 'China': 55397.880733944956, 'Japan': 53164.03921568627, 'Germany': 63915.0, 'Netherlands': 61708.92857142857, 'Britain': 51588.708333333336, 'South Korea': 49725.6, 'Switzerland': 51353.57142857143, 'France': 55231.793103448275, 'Taiwan': 46364.666666666664, 'Singapore': 54454.333333333336, 'Italy': 51899.57142857143, 'Russia': 65247.75, 'Spain': 40600.666666666664, 'Brazil': 52024.57142857143, 'Mexico': 54987.5, 'Luxembourg': 56791.0, 'India': 39993.0, 'Malaysia': 49479.0, 'Thailand': 48719.0, 'Australia': 33688.71428571428, 'Belgium': 45905.0, 'Norway': 45873.0, 'Canada': 31848.0, 'Ireland': 32819.5, 'Indonesia': 36487.0, 'Denmark': 35464.0, 'Saudi Arabia': 35421.0, 'Sweden': 27963.666666666668, 'Finland': 26113.0, 'Venezuela': 24403.0, 'Turkey': 23456.0, 'U.A.E': 22799.0, 'Israel': 21903.0}\n"
          ],
          "name": "stdout"
        }
      ]
    },
    {
      "cell_type": "markdown",
      "metadata": {
        "id": "Va9AjxSmIPwC",
        "colab_type": "text"
      },
      "source": [
        "We'll practice this pattern to calculate the company that employs the most people in each country.  Create a dictionary of the top employer in each country:"
      ]
    },
    {
      "cell_type": "markdown",
      "metadata": {
        "id": "CvZjwtuwISOa",
        "colab_type": "text"
      },
      "source": [
        "1. Create an empty dictionary, `top_employer_by_country` to store the results of the exercise.\n",
        "2. Use the `Series.unique()` method to create an array of unique values from the `country` column.\n",
        "3. Use a for loop to iterate over the array unique countries. In each iteration:\n",
        "\n",
        "* Select only the rows that have a country name equal to the current iteration.\n",
        "* Use `DataFrame.sort_values()` to sort those rows by the `employees` column in descending order.\n",
        "* Select the first row from the sorted dataframe.\n",
        "* Extract the `company` name from the index label company from the first row.\n",
        "* Assign the results to the `top_employer_by_country` dictionary, using the country name as the key, and the company name as the value.\n",
        "\n"
      ]
    },
    {
      "cell_type": "code",
      "metadata": {
        "id": "TXEGJZMhftZL",
        "colab_type": "code",
        "colab": {
          "base_uri": "https://localhost:8080/",
          "height": 54
        },
        "outputId": "b68e0e76-cafd-4cc9-ab39-3c077a9d79c4"
      },
      "source": [
        "top_employer_by_country = {}\n",
        "\n",
        "countries = f500[\"country\"].unique()\n",
        "\n",
        "for c in countries:\n",
        "    selected_rows = f500[f500[\"country\"] == c]\n",
        "    sorted_rows = selected_rows.sort_values(\"employees\", ascending=False)\n",
        "    top_company = sorted_rows.iloc[0][\"company\"]\n",
        "    top_employer_by_country[c] = top_company\n",
        "\n",
        "print(top_employer_by_country)"
      ],
      "execution_count": 37,
      "outputs": [
        {
          "output_type": "stream",
          "text": [
            "{'USA': 'Walmart', 'China': 'China National Petroleum', 'Japan': 'Toyota Motor', 'Germany': 'Volkswagen', 'Netherlands': 'EXOR Group', 'Britain': 'Compass Group', 'South Korea': 'Samsung Electronics', 'Switzerland': 'Nestle', 'France': 'Sodexo', 'Taiwan': 'Hon Hai Precision Industry', 'Singapore': 'Flex', 'Italy': 'Poste Italiane', 'Russia': 'Gazprom', 'Spain': 'Banco Santander', 'Brazil': 'JBS', 'Mexico': 'America Movil', 'Luxembourg': 'ArcelorMittal', 'India': 'State Bank of India', 'Malaysia': 'Petronas', 'Thailand': 'PTT', 'Australia': 'Wesfarmers', 'Belgium': 'Anheuser-Busch InBev', 'Norway': 'Statoil', 'Canada': 'George Weston', 'Ireland': 'Accenture', 'Indonesia': 'Pertamina', 'Denmark': 'Maersk Group', 'Saudi Arabia': 'SABIC', 'Sweden': 'H & M Hennes & Mauritz', 'Finland': 'Nokia', 'Venezuela': 'Mercantil Servicios Financieros', 'Turkey': 'Koc Holding', 'U.A.E': 'Emirates Group', 'Israel': 'Teva Pharmaceutical Industries'}\n"
          ],
          "name": "stdout"
        }
      ]
    },
    {
      "cell_type": "markdown",
      "metadata": {
        "id": "TH8lGuDIg-9k",
        "colab_type": "text"
      },
      "source": [
        "## **12. Challenge: Calculating Return on Assets by Country**"
      ]
    },
    {
      "cell_type": "markdown",
      "metadata": {
        "id": "mOFFpcaOg_Di",
        "colab_type": "text"
      },
      "source": [
        "Now it's time for a challenge to bring everything together! In this challenge we're going to add a new column to our dataframe, and then perform some aggregation using that new column.\n",
        "\n",
        "The column we create is going to contain a metric called [return on assets](https://www.inc.com/encyclopedia/return-on-assets-roa.html) (ROA). ROA is a business-specific metric which indicates a company's ability to make profit using their available assets.\n",
        "\n",
        "ROA = (profit) / (assets)\n",
        "\n",
        "Once we've created the new column, we'll aggregate by sector, and find the company with the highest ROA from each sector. Like previous challenges, we'll provide some guidance in the hints, but try to complete it without them if you can.\n",
        "\n",
        "Don't be discouraged if this challenge takes a few attempts to get correct. Working iteratively is a great way to work, and this challenge is more difficult than exercises you have previously completed."
      ]
    },
    {
      "cell_type": "markdown",
      "metadata": {
        "id": "VveLEekHg_Iy",
        "colab_type": "text"
      },
      "source": [
        "**Instructions:**\n",
        "\n",
        "1. Create a new column `roa` in the `f500` dataframe, containing the return on assets metric for each company.\n",
        "2. Aggregate the data by the `sector` column, and create a dictionary `top_roa_by_sector`, with:\n",
        "  * Dictionary keys with the sector name.\n",
        "  * Dictionary values with the company name with the highest ROA value from that sector.\n"
      ]
    },
    {
      "cell_type": "code",
      "metadata": {
        "id": "Fa19ku5pq6Nl",
        "colab_type": "code",
        "colab": {
          "base_uri": "https://localhost:8080/",
          "height": 54
        },
        "outputId": "8059086c-2782-430f-e40d-95cbf0246f82"
      },
      "source": [
        "f500[\"roa\"] = f500[\"profits\"]/f500[\"assets\"]\n",
        "\n",
        "top_roa_by_sector = {}\n",
        "\n",
        "sectors = f500[\"sector\"].unique()\n",
        "\n",
        "for s in sectors:\n",
        "    selected_sectors = f500[f500[\"sector\"] == s]\n",
        "    sorted_sectors = selected_sectors.sort_values(\"roa\",ascending=False)\n",
        "    top_roa = sorted_sectors.iloc[0][\"company\"]\n",
        "    top_roa_by_sector[s] = top_roa\n",
        "    \n",
        "print(top_roa_by_sector)"
      ],
      "execution_count": 38,
      "outputs": [
        {
          "output_type": "stream",
          "text": [
            "{'Retailing': 'H & M Hennes & Mauritz', 'Energy': 'National Grid', 'Motor Vehicles & Parts': 'Subaru', 'Financials': 'Berkshire Hathaway', 'Technology': 'Accenture', 'Wholesalers': 'McKesson', 'Health Care': 'Gilead Sciences', 'Telecommunications': 'KDDI', 'Engineering & Construction': 'Pacific Construction Group', 'Industrials': '3M', 'Food & Drug Stores': 'Publix Super Markets', 'Aerospace & Defense': 'Lockheed Martin', 'Food, Beverages & Tobacco': 'Philip Morris International', 'Household Products': 'Unilever', 'Transportation': 'Delta Air Lines', 'Materials': 'CRH', 'Chemicals': 'LyondellBasell Industries', 'Media': 'Disney', 'Apparel': 'Nike', 'Hotels, Restaurants & Leisure': 'McDonald’s', 'Business Services': 'Adecco Group'}\n"
          ],
          "name": "stdout"
        }
      ]
    }
  ]
}