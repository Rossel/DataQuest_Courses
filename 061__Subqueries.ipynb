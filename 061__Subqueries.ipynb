{
  "nbformat": 4,
  "nbformat_minor": 0,
  "metadata": {
    "colab": {
      "name": "061__ Subqueries",
      "provenance": [],
      "authorship_tag": "ABX9TyMueyfJAz/+xc6snkygz5Ov",
      "include_colab_link": true
    },
    "kernelspec": {
      "name": "python3",
      "display_name": "Python 3"
    }
  },
  "cells": [
    {
      "cell_type": "markdown",
      "metadata": {
        "id": "view-in-github",
        "colab_type": "text"
      },
      "source": [
        "<a href=\"https://colab.research.google.com/github/Rossel/DataQuest_Courses/blob/master/061__Subqueries.ipynb\" target=\"_parent\"><img src=\"https://colab.research.google.com/assets/colab-badge.svg\" alt=\"Open In Colab\"/></a>"
      ]
    },
    {
      "cell_type": "markdown",
      "metadata": {
        "id": "_btM0gtu3sDF",
        "colab_type": "text"
      },
      "source": [
        "# COURSE 1/5: SQL FUNDAMENTALS"
      ]
    },
    {
      "cell_type": "markdown",
      "metadata": {
        "id": "THaX315BT2wD",
        "colab_type": "text"
      },
      "source": [
        "# MISSION 4: Subqueries"
      ]
    },
    {
      "cell_type": "markdown",
      "metadata": {
        "id": "uL37LbgaT4WI",
        "colab_type": "text"
      },
      "source": [
        "*Learn how to write complex, nested queries using subqueries.*\n",
        "\n",
        "In this mission, we explore how subqueries enable us to write more complex and dynamic queries."
      ]
    },
    {
      "cell_type": "markdown",
      "metadata": {
        "id": "1fcww9PrS_mC",
        "colab_type": "text"
      },
      "source": [
        "## 1. Writing More Complex Queries"
      ]
    },
    {
      "cell_type": "code",
      "metadata": {
        "id": "_LBr2rk1T0xR",
        "colab_type": "code",
        "colab": {}
      },
      "source": [
        "# Import functions from Google modules into Colaboratory\n",
        "!pip install -U -q PyDrive\n",
        "from pydrive.auth import GoogleAuth\n",
        "from pydrive.drive import GoogleDrive\n",
        "from google.colab import auth\n",
        "from oauth2client.client import GoogleCredentials\n",
        "\n",
        "# Authenticate and create the PyDrive client\n",
        "auth.authenticate_user()\n",
        "gauth = GoogleAuth()\n",
        "gauth.credentials = GoogleCredentials.get_application_default()\n",
        "drive = GoogleDrive(gauth)"
      ],
      "execution_count": 1,
      "outputs": []
    },
    {
      "cell_type": "code",
      "metadata": {
        "id": "pzy0-ZtPScNy",
        "colab_type": "code",
        "colab": {}
      },
      "source": [
        "# Insert file id from Google Drive shareable link:\n",
        "# https://drive.google.com/file/d/1dGtg_Gx7VZgH4ZVydd2sFly3tNLsvhds/view?usp=sharing\n",
        "id = '1dGtg_Gx7VZgH4ZVydd2sFly3tNLsvhds'"
      ],
      "execution_count": 2,
      "outputs": []
    },
    {
      "cell_type": "code",
      "metadata": {
        "id": "mspPJ_6QT1mi",
        "colab_type": "code",
        "colab": {}
      },
      "source": [
        "# Download the dataset\n",
        "downloaded = drive.CreateFile({'id':id}) \n",
        "downloaded.GetContentFile('jobs.db')"
      ],
      "execution_count": 3,
      "outputs": []
    },
    {
      "cell_type": "code",
      "metadata": {
        "id": "vBAHoQ3QO4cb",
        "colab_type": "code",
        "colab": {}
      },
      "source": [
        "# Import SQLite3 and pandas library\n",
        "import sqlite3\n",
        "import pandas as pd"
      ],
      "execution_count": 4,
      "outputs": []
    },
    {
      "cell_type": "code",
      "metadata": {
        "id": "hJXj6T_naCHQ",
        "colab_type": "code",
        "colab": {}
      },
      "source": [
        "%%capture\n",
        "%load_ext sql\n",
        "%sql sqlite:///jobs.db"
      ],
      "execution_count": 5,
      "outputs": []
    },
    {
      "cell_type": "code",
      "metadata": {
        "id": "mxcD3LE4fmKM",
        "colab_type": "code",
        "colab": {
          "base_uri": "https://localhost:8080/",
          "height": 335
        },
        "outputId": "3c94a193-7304-41e0-c017-3d6353bd8b39"
      },
      "source": [
        "%%sql\n",
        "\n",
        "  SELECT * \n",
        "  FROM recent_grads\n",
        "  LIMIT 5"
      ],
      "execution_count": 6,
      "outputs": [
        {
          "output_type": "stream",
          "text": [
            " * sqlite:///jobs.db\n",
            "Done.\n"
          ],
          "name": "stdout"
        },
        {
          "output_type": "execute_result",
          "data": {
            "text/html": [
              "<table>\n",
              "    <tr>\n",
              "        <th>index</th>\n",
              "        <th>Rank</th>\n",
              "        <th>Major_code</th>\n",
              "        <th>Major</th>\n",
              "        <th>Major_category</th>\n",
              "        <th>Total</th>\n",
              "        <th>Sample_size</th>\n",
              "        <th>Men</th>\n",
              "        <th>Women</th>\n",
              "        <th>ShareWomen</th>\n",
              "        <th>Employed</th>\n",
              "        <th>Full_time</th>\n",
              "        <th>Part_time</th>\n",
              "        <th>Full_time_year_round</th>\n",
              "        <th>Unemployed</th>\n",
              "        <th>Unemployment_rate</th>\n",
              "        <th>Median</th>\n",
              "        <th>P25th</th>\n",
              "        <th>P75th</th>\n",
              "        <th>College_jobs</th>\n",
              "        <th>Non_college_jobs</th>\n",
              "        <th>Low_wage_jobs</th>\n",
              "    </tr>\n",
              "    <tr>\n",
              "        <td>0</td>\n",
              "        <td>1</td>\n",
              "        <td>2419</td>\n",
              "        <td>PETROLEUM ENGINEERING</td>\n",
              "        <td>Engineering</td>\n",
              "        <td>2339</td>\n",
              "        <td>36</td>\n",
              "        <td>2057</td>\n",
              "        <td>282</td>\n",
              "        <td>0.120564344</td>\n",
              "        <td>1976</td>\n",
              "        <td>1849</td>\n",
              "        <td>270</td>\n",
              "        <td>1207</td>\n",
              "        <td>37</td>\n",
              "        <td>0.018380527</td>\n",
              "        <td>110000</td>\n",
              "        <td>95000</td>\n",
              "        <td>125000</td>\n",
              "        <td>1534</td>\n",
              "        <td>364</td>\n",
              "        <td>193</td>\n",
              "    </tr>\n",
              "    <tr>\n",
              "        <td>1</td>\n",
              "        <td>2</td>\n",
              "        <td>2416</td>\n",
              "        <td>MINING AND MINERAL ENGINEERING</td>\n",
              "        <td>Engineering</td>\n",
              "        <td>756</td>\n",
              "        <td>7</td>\n",
              "        <td>679</td>\n",
              "        <td>77</td>\n",
              "        <td>0.10185185199999999</td>\n",
              "        <td>640</td>\n",
              "        <td>556</td>\n",
              "        <td>170</td>\n",
              "        <td>388</td>\n",
              "        <td>85</td>\n",
              "        <td>0.117241379</td>\n",
              "        <td>75000</td>\n",
              "        <td>55000</td>\n",
              "        <td>90000</td>\n",
              "        <td>350</td>\n",
              "        <td>257</td>\n",
              "        <td>50</td>\n",
              "    </tr>\n",
              "    <tr>\n",
              "        <td>2</td>\n",
              "        <td>3</td>\n",
              "        <td>2415</td>\n",
              "        <td>METALLURGICAL ENGINEERING</td>\n",
              "        <td>Engineering</td>\n",
              "        <td>856</td>\n",
              "        <td>3</td>\n",
              "        <td>725</td>\n",
              "        <td>131</td>\n",
              "        <td>0.153037383</td>\n",
              "        <td>648</td>\n",
              "        <td>558</td>\n",
              "        <td>133</td>\n",
              "        <td>340</td>\n",
              "        <td>16</td>\n",
              "        <td>0.024096386</td>\n",
              "        <td>73000</td>\n",
              "        <td>50000</td>\n",
              "        <td>105000</td>\n",
              "        <td>456</td>\n",
              "        <td>176</td>\n",
              "        <td>0</td>\n",
              "    </tr>\n",
              "    <tr>\n",
              "        <td>3</td>\n",
              "        <td>4</td>\n",
              "        <td>2417</td>\n",
              "        <td>NAVAL ARCHITECTURE AND MARINE ENGINEERING</td>\n",
              "        <td>Engineering</td>\n",
              "        <td>1258</td>\n",
              "        <td>16</td>\n",
              "        <td>1123</td>\n",
              "        <td>135</td>\n",
              "        <td>0.107313196</td>\n",
              "        <td>758</td>\n",
              "        <td>1069</td>\n",
              "        <td>150</td>\n",
              "        <td>692</td>\n",
              "        <td>40</td>\n",
              "        <td>0.050125313</td>\n",
              "        <td>70000</td>\n",
              "        <td>43000</td>\n",
              "        <td>80000</td>\n",
              "        <td>529</td>\n",
              "        <td>102</td>\n",
              "        <td>0</td>\n",
              "    </tr>\n",
              "    <tr>\n",
              "        <td>4</td>\n",
              "        <td>5</td>\n",
              "        <td>2405</td>\n",
              "        <td>CHEMICAL ENGINEERING</td>\n",
              "        <td>Engineering</td>\n",
              "        <td>32260</td>\n",
              "        <td>289</td>\n",
              "        <td>21239</td>\n",
              "        <td>11021</td>\n",
              "        <td>0.341630502</td>\n",
              "        <td>25694</td>\n",
              "        <td>23170</td>\n",
              "        <td>5180</td>\n",
              "        <td>16697</td>\n",
              "        <td>1672</td>\n",
              "        <td>0.061097712</td>\n",
              "        <td>65000</td>\n",
              "        <td>50000</td>\n",
              "        <td>75000</td>\n",
              "        <td>18314</td>\n",
              "        <td>4440</td>\n",
              "        <td>972</td>\n",
              "    </tr>\n",
              "</table>"
            ],
            "text/plain": [
              "[(0, 1, 2419, 'PETROLEUM ENGINEERING', 'Engineering', 2339, 36, 2057, 282, 0.120564344, 1976, 1849, 270, 1207, 37, 0.018380527, 110000, 95000, 125000, 1534, 364, 193),\n",
              " (1, 2, 2416, 'MINING AND MINERAL ENGINEERING', 'Engineering', 756, 7, 679, 77, 0.10185185199999999, 640, 556, 170, 388, 85, 0.117241379, 75000, 55000, 90000, 350, 257, 50),\n",
              " (2, 3, 2415, 'METALLURGICAL ENGINEERING', 'Engineering', 856, 3, 725, 131, 0.153037383, 648, 558, 133, 340, 16, 0.024096386, 73000, 50000, 105000, 456, 176, 0),\n",
              " (3, 4, 2417, 'NAVAL ARCHITECTURE AND MARINE ENGINEERING', 'Engineering', 1258, 16, 1123, 135, 0.107313196, 758, 1069, 150, 692, 40, 0.050125313, 70000, 43000, 80000, 529, 102, 0),\n",
              " (4, 5, 2405, 'CHEMICAL ENGINEERING', 'Engineering', 32260, 289, 21239, 11021, 0.341630502, 25694, 23170, 5180, 16697, 1672, 0.061097712, 65000, 50000, 75000, 18314, 4440, 972)]"
            ]
          },
          "metadata": {
            "tags": []
          },
          "execution_count": 6
        }
      ]
    },
    {
      "cell_type": "markdown",
      "metadata": {
        "id": "0oCLuL8XS_o0",
        "colab_type": "text"
      },
      "source": [
        "What we learned so far enable us to answer questions with only one source of uncertainty. Many times, we want to answer questions that have two or more levels of unknowns. For example:\n",
        "\n",
        "- Which rows are above the average for the `ShareWomen` column?\n",
        "\n",
        "To determine which majors are above average for the `ShareWomen` column, we need to:\n",
        "\n",
        "1. Determine the *average* value for the `ShareWomen` column.\n",
        "2. Select and filter the rows that are greater than the average value.\n",
        "\n",
        "Hopefuly and blindly trying the query below does not work.\n",
        "\n"
      ]
    },
    {
      "cell_type": "code",
      "metadata": {
        "id": "MRt57om3UIaw",
        "colab_type": "code",
        "colab": {
          "base_uri": "https://localhost:8080/",
          "height": 119
        },
        "outputId": "5a1f66d9-6e8b-45ad-caef-0620be709626"
      },
      "source": [
        "%%sql\n",
        "\n",
        "SELECT *\n",
        "  FROM recent_grads\n",
        " WHERE ShareWomen > AVG(ShareWomen);"
      ],
      "execution_count": 8,
      "outputs": [
        {
          "output_type": "stream",
          "text": [
            " * sqlite:///jobs.db\n",
            "(sqlite3.OperationalError) misuse of aggregate function AVG()\n",
            "[SQL: SELECT *\n",
            "  FROM recent_grads\n",
            " WHERE ShareWomen > AVG(ShareWomen);]\n",
            "(Background on this error at: http://sqlalche.me/e/13/e3q8)\n"
          ],
          "name": "stdout"
        }
      ]
    },
    {
      "cell_type": "markdown",
      "metadata": {
        "id": "N6fyitS1VMLk",
        "colab_type": "text"
      },
      "source": [
        "We get an error. We can, however, first find `AVG(ShareWomen)`, copy the value manually and replace it in the query above.\n",
        "\n"
      ]
    },
    {
      "cell_type": "code",
      "metadata": {
        "id": "DzhRbCO_VSLi",
        "colab_type": "code",
        "colab": {
          "base_uri": "https://localhost:8080/",
          "height": 95
        },
        "outputId": "c5f50e49-deab-4520-fa79-b0086037e8b3"
      },
      "source": [
        "%%sql\n",
        "\n",
        "SELECT AVG(ShareWomen)\n",
        "  FROM recent_grads;"
      ],
      "execution_count": 9,
      "outputs": [
        {
          "output_type": "stream",
          "text": [
            " * sqlite:///jobs.db\n",
            "Done.\n"
          ],
          "name": "stdout"
        },
        {
          "output_type": "execute_result",
          "data": {
            "text/html": [
              "<table>\n",
              "    <tr>\n",
              "        <th>AVG(ShareWomen)</th>\n",
              "    </tr>\n",
              "    <tr>\n",
              "        <td>0.5225502029537575</td>\n",
              "    </tr>\n",
              "</table>"
            ],
            "text/plain": [
              "[(0.5225502029537575,)]"
            ]
          },
          "metadata": {
            "tags": []
          },
          "execution_count": 9
        }
      ]
    },
    {
      "cell_type": "markdown",
      "metadata": {
        "id": "JPt_ncyVS_wg",
        "colab_type": "text"
      },
      "source": [
        "Let's now answer the initial question.\n",
        "\n",
        "**Instructions:**\n",
        "\n",
        "Write a query with the following features:\n",
        "- Displays, in order, the columns `Major` and `ShareWomen`.\n",
        "- Displays all rows whose share of women is greater than average."
      ]
    },
    {
      "cell_type": "code",
      "metadata": {
        "id": "AMqN9PcbV1ux",
        "colab_type": "code",
        "colab": {}
      },
      "source": [
        ""
      ],
      "execution_count": null,
      "outputs": []
    },
    {
      "cell_type": "markdown",
      "metadata": {
        "id": "SlV7IJtKS_zO",
        "colab_type": "text"
      },
      "source": [
        "## 2. Subqueries"
      ]
    },
    {
      "cell_type": "markdown",
      "metadata": {
        "id": "gS7jeYNhS_2A",
        "colab_type": "text"
      },
      "source": [
        "Our technique in the last screen lacks flexibility and requires an extra level of intervention. Fortunately SQL provides us with ways to answer questions like the above with a single query.\n",
        "\n",
        "How do we make the computed average value, `0.5225502029537575`, dynamic?\n",
        "\n",
        "Let's introduce the SQL way to solve this problem — subqueries. A subquery is a query nested within another query. Here's a template for a SQL statement where the subquery resides in the `WHERE` clause:\n",
        "```\n",
        "SELECT Major, ShareWomen FROM recent_grads\n",
        "WHERE ShareWomen > (subquery that returns the average value for ShareWomen)\n",
        "```\n",
        "\n",
        "The subquery is run first and returns the average value for the `ShareWomen` column (which happens to be `0.5225502029537575`). Based on the result of the subquery, SQL will replace the subquery with this value dynamically.\n",
        "\n",
        "SQL will ignore the column name (`AVG(ShareWomen)`); it's smart enough to just use the actual row value. Here's a diagram that makes the flow clearer:\n",
        "![alt text](https://dq-content.s3.amazonaws.com/255/subquery_flow.svg)\n",
        "\n",
        "The query that replaces the placeholder `subquery` needs to be a full query (like the ones we've thus far).\n",
        "\n",
        "In addition, for this particular example, the inner query should only return a table with a single row and column because of where it fits in the outer query (`... WHERE > ?`). If you instead try to return a table with multiple columns, an error will be returned.\n",
        "\n",
        "Lastly, a subquery must always be contained within parentheses `()`. We get an error if we do not include them in the query above:\n",
        "```\n",
        "(sqlite3.OperationalError) near \"SELECT\": syntax error\n",
        "[SQL: SELECT *   FROM recent_grads  WHERE ShareWomen > SELECT AVG(Sharewomen) FROM recent_grads;]\n",
        "(Background on this error at: http://sqlalche.me/e/e3q8)\n",
        "```\n",
        "Let's practice this technique.\n",
        "\n",
        "\n",
        "**Instructions:**\n",
        "\n",
        "Write a query with the following features:\n",
        "- Displays, in order, the columns 'Major` and `Unemployment_rate`.\n",
        "- Displays all rows whose unemployment rate is below average."
      ]
    },
    {
      "cell_type": "code",
      "metadata": {
        "id": "qe7TvHoCd2-V",
        "colab_type": "code",
        "colab": {}
      },
      "source": [
        ""
      ],
      "execution_count": null,
      "outputs": []
    },
    {
      "cell_type": "markdown",
      "metadata": {
        "id": "6IAdX1yuS_5G",
        "colab_type": "text"
      },
      "source": [
        "## 3. Subquery in SELECT"
      ]
    },
    {
      "cell_type": "markdown",
      "metadata": {
        "id": "DC5fsi9jS_-H",
        "colab_type": "text"
      },
      "source": [
        "On the last chapter, we wrote SQL statements that used a subquery to express dynamic filter criteria in the `WHERE` clause. Specifically, we were interested in rows that were above or below the average value in a specific column.\n",
        "\n",
        "What if we wanted to understand the *proportion* of majors that are above the average for a given column? We'd need to divide the number of rows that met the filter criteria with the *total* number of rows in the table.\n",
        "\n",
        "Let's focus on the query from the last screen:\n",
        "\n",
        "```\n",
        "SELECT Major, ShareWomen\n",
        "  FROM recent_grads\n",
        " WHERE ShareWomen > (SELECT AVG(ShareWomen)\n",
        "                       FROM recent_grads\n",
        "                    );\n",
        "```\n",
        "\n",
        "Using the `COUNT` aggregate function, we can return the number of rows the results set contains:"
      ]
    },
    {
      "cell_type": "code",
      "metadata": {
        "id": "4NSwhBfAeIqi",
        "colab_type": "code",
        "colab": {
          "base_uri": "https://localhost:8080/",
          "height": 95
        },
        "outputId": "0e371a9c-ee9c-4297-b4a2-c9871707d2c1"
      },
      "source": [
        "%%sql\n",
        "\n",
        "SELECT COUNT(*)\n",
        "  FROM recent_grads\n",
        " WHERE ShareWomen > (SELECT AVG(ShareWomen)\n",
        "                     FROM recent_grads\n",
        "                    );"
      ],
      "execution_count": 10,
      "outputs": [
        {
          "output_type": "stream",
          "text": [
            " * sqlite:///jobs.db\n",
            "Done.\n"
          ],
          "name": "stdout"
        },
        {
          "output_type": "execute_result",
          "data": {
            "text/html": [
              "<table>\n",
              "    <tr>\n",
              "        <th>COUNT(*)</th>\n",
              "    </tr>\n",
              "    <tr>\n",
              "        <td>91</td>\n",
              "    </tr>\n",
              "</table>"
            ],
            "text/plain": [
              "[(91,)]"
            ]
          },
          "metadata": {
            "tags": []
          },
          "execution_count": 10
        }
      ]
    },
    {
      "cell_type": "markdown",
      "metadata": {
        "id": "MA2AXhmyeRM2",
        "colab_type": "text"
      },
      "source": [
        "To return the proportion, we need to divide this value with the total number of rows in `recent_grads`. We can count the number of rows in the table, save the result and then divide by it. The challenge, however, is to do this dynamically!\n",
        "\n",
        "To calculate the number of total rows in `recent_grads` and be able to use it in another SQL statement, we can use a subquery in the `SELECT` clause:\n",
        "\n"
      ]
    },
    {
      "cell_type": "code",
      "metadata": {
        "id": "iyCh2zECeV4l",
        "colab_type": "code",
        "colab": {
          "base_uri": "https://localhost:8080/",
          "height": 129
        },
        "outputId": "73422d09-52b2-4066-8170-f381bb86e149"
      },
      "source": [
        "%%sql\n",
        "\n",
        "SELECT COUNT(*),\n",
        "       (SELECT COUNT(*)\n",
        "          FROM recent_grads\n",
        "       )\n",
        "  FROM recent_grads\n",
        " WHERE ShareWomen > (SELECT AVG(ShareWomen)\n",
        "                       FROM recent_grads\n",
        "                    );"
      ],
      "execution_count": 11,
      "outputs": [
        {
          "output_type": "stream",
          "text": [
            " * sqlite:///jobs.db\n",
            "Done.\n"
          ],
          "name": "stdout"
        },
        {
          "output_type": "execute_result",
          "data": {
            "text/html": [
              "<table>\n",
              "    <tr>\n",
              "        <th>COUNT(*)</th>\n",
              "        <th>(SELECT COUNT(*)<br>          FROM recent_grads<br>       )</th>\n",
              "    </tr>\n",
              "    <tr>\n",
              "        <td>91</td>\n",
              "        <td>173</td>\n",
              "    </tr>\n",
              "</table>"
            ],
            "text/plain": [
              "[(91, 173)]"
            ]
          },
          "metadata": {
            "tags": []
          },
          "execution_count": 11
        }
      ]
    },
    {
      "cell_type": "markdown",
      "metadata": {
        "id": "oDXNkbIcedEQ",
        "colab_type": "text"
      },
      "source": [
        "**Instructions:**\n",
        "\n",
        "Write a SQL statement that computes the proportion (as a float value) of rows that contain above average values for the `ShareWomen`.\n",
        "\n",
        "The results should only return the proportion, aliased as `proportion_abv_avg`, like this:\n",
        "\n",
        "|proportion_abv_avg|\n",
        "|---|\n",
        "proportion goes here"
      ]
    },
    {
      "cell_type": "markdown",
      "metadata": {
        "id": "iFYDDVw4TADS",
        "colab_type": "text"
      },
      "source": [
        "## 4. The IN Operator"
      ]
    },
    {
      "cell_type": "markdown",
      "metadata": {
        "id": "GujnjzH2TAJU",
        "colab_type": "text"
      },
      "source": [
        "We've been using operators like `<` and `>`. [In the SQLite documentation](https://sqlite.org/lang_expr.html), we see all of the following operators:\n",
        "![alt text](https://s3.amazonaws.com/dq-content/255/sqlite_operators.png)\n",
        "\n",
        "Using the `IN` operator, we can specify a list of values that we want to match (by equality) against in the `WHERE` clause. The following query returns the rows where Major_category equals either `Business` or `Engineering`:\n",
        "\n"
      ]
    },
    {
      "cell_type": "code",
      "metadata": {
        "id": "_QZtZDoBe9HR",
        "colab_type": "code",
        "colab": {
          "base_uri": "https://localhost:8080/",
          "height": 956
        },
        "outputId": "ce51170d-40a8-4ec6-de6b-7127f42576e2"
      },
      "source": [
        "%%sql\n",
        "\n",
        "SELECT Major, Major_category\n",
        "  FROM recent_grads\n",
        " WHERE Major_category IN ('Business', 'Engineering')\n",
        " ;"
      ],
      "execution_count": 12,
      "outputs": [
        {
          "output_type": "stream",
          "text": [
            " * sqlite:///jobs.db\n",
            "Done.\n"
          ],
          "name": "stdout"
        },
        {
          "output_type": "execute_result",
          "data": {
            "text/html": [
              "<table>\n",
              "    <tr>\n",
              "        <th>Major</th>\n",
              "        <th>Major_category</th>\n",
              "    </tr>\n",
              "    <tr>\n",
              "        <td>PETROLEUM ENGINEERING</td>\n",
              "        <td>Engineering</td>\n",
              "    </tr>\n",
              "    <tr>\n",
              "        <td>MINING AND MINERAL ENGINEERING</td>\n",
              "        <td>Engineering</td>\n",
              "    </tr>\n",
              "    <tr>\n",
              "        <td>METALLURGICAL ENGINEERING</td>\n",
              "        <td>Engineering</td>\n",
              "    </tr>\n",
              "    <tr>\n",
              "        <td>NAVAL ARCHITECTURE AND MARINE ENGINEERING</td>\n",
              "        <td>Engineering</td>\n",
              "    </tr>\n",
              "    <tr>\n",
              "        <td>CHEMICAL ENGINEERING</td>\n",
              "        <td>Engineering</td>\n",
              "    </tr>\n",
              "    <tr>\n",
              "        <td>NUCLEAR ENGINEERING</td>\n",
              "        <td>Engineering</td>\n",
              "    </tr>\n",
              "    <tr>\n",
              "        <td>ACTUARIAL SCIENCE</td>\n",
              "        <td>Business</td>\n",
              "    </tr>\n",
              "    <tr>\n",
              "        <td>MECHANICAL ENGINEERING</td>\n",
              "        <td>Engineering</td>\n",
              "    </tr>\n",
              "    <tr>\n",
              "        <td>ELECTRICAL ENGINEERING</td>\n",
              "        <td>Engineering</td>\n",
              "    </tr>\n",
              "    <tr>\n",
              "        <td>COMPUTER ENGINEERING</td>\n",
              "        <td>Engineering</td>\n",
              "    </tr>\n",
              "    <tr>\n",
              "        <td>AEROSPACE ENGINEERING</td>\n",
              "        <td>Engineering</td>\n",
              "    </tr>\n",
              "    <tr>\n",
              "        <td>BIOMEDICAL ENGINEERING</td>\n",
              "        <td>Engineering</td>\n",
              "    </tr>\n",
              "    <tr>\n",
              "        <td>MATERIALS SCIENCE</td>\n",
              "        <td>Engineering</td>\n",
              "    </tr>\n",
              "    <tr>\n",
              "        <td>ENGINEERING MECHANICS PHYSICS AND SCIENCE</td>\n",
              "        <td>Engineering</td>\n",
              "    </tr>\n",
              "    <tr>\n",
              "        <td>BIOLOGICAL ENGINEERING</td>\n",
              "        <td>Engineering</td>\n",
              "    </tr>\n",
              "    <tr>\n",
              "        <td>INDUSTRIAL AND MANUFACTURING ENGINEERING</td>\n",
              "        <td>Engineering</td>\n",
              "    </tr>\n",
              "    <tr>\n",
              "        <td>GENERAL ENGINEERING</td>\n",
              "        <td>Engineering</td>\n",
              "    </tr>\n",
              "    <tr>\n",
              "        <td>ARCHITECTURAL ENGINEERING</td>\n",
              "        <td>Engineering</td>\n",
              "    </tr>\n",
              "    <tr>\n",
              "        <td>ELECTRICAL ENGINEERING TECHNOLOGY</td>\n",
              "        <td>Engineering</td>\n",
              "    </tr>\n",
              "    <tr>\n",
              "        <td>MATERIALS ENGINEERING AND MATERIALS SCIENCE</td>\n",
              "        <td>Engineering</td>\n",
              "    </tr>\n",
              "    <tr>\n",
              "        <td>MANAGEMENT INFORMATION SYSTEMS AND STATISTICS</td>\n",
              "        <td>Business</td>\n",
              "    </tr>\n",
              "    <tr>\n",
              "        <td>CIVIL ENGINEERING</td>\n",
              "        <td>Engineering</td>\n",
              "    </tr>\n",
              "    <tr>\n",
              "        <td>OPERATIONS LOGISTICS AND E-COMMERCE</td>\n",
              "        <td>Business</td>\n",
              "    </tr>\n",
              "    <tr>\n",
              "        <td>MISCELLANEOUS ENGINEERING</td>\n",
              "        <td>Engineering</td>\n",
              "    </tr>\n",
              "    <tr>\n",
              "        <td>ENVIRONMENTAL ENGINEERING</td>\n",
              "        <td>Engineering</td>\n",
              "    </tr>\n",
              "    <tr>\n",
              "        <td>ENGINEERING TECHNOLOGIES</td>\n",
              "        <td>Engineering</td>\n",
              "    </tr>\n",
              "    <tr>\n",
              "        <td>GEOLOGICAL AND GEOPHYSICAL ENGINEERING</td>\n",
              "        <td>Engineering</td>\n",
              "    </tr>\n",
              "    <tr>\n",
              "        <td>FINANCE</td>\n",
              "        <td>Business</td>\n",
              "    </tr>\n",
              "    <tr>\n",
              "        <td>BUSINESS ECONOMICS</td>\n",
              "        <td>Business</td>\n",
              "    </tr>\n",
              "    <tr>\n",
              "        <td>INDUSTRIAL PRODUCTION TECHNOLOGIES</td>\n",
              "        <td>Engineering</td>\n",
              "    </tr>\n",
              "    <tr>\n",
              "        <td>ACCOUNTING</td>\n",
              "        <td>Business</td>\n",
              "    </tr>\n",
              "    <tr>\n",
              "        <td>ENGINEERING AND INDUSTRIAL MANAGEMENT</td>\n",
              "        <td>Engineering</td>\n",
              "    </tr>\n",
              "    <tr>\n",
              "        <td>GENERAL BUSINESS</td>\n",
              "        <td>Business</td>\n",
              "    </tr>\n",
              "    <tr>\n",
              "        <td>ARCHITECTURE</td>\n",
              "        <td>Engineering</td>\n",
              "    </tr>\n",
              "    <tr>\n",
              "        <td>INTERNATIONAL BUSINESS</td>\n",
              "        <td>Business</td>\n",
              "    </tr>\n",
              "    <tr>\n",
              "        <td>MISCELLANEOUS BUSINESS &amp; MEDICAL ADMINISTRATION</td>\n",
              "        <td>Business</td>\n",
              "    </tr>\n",
              "    <tr>\n",
              "        <td>MISCELLANEOUS ENGINEERING TECHNOLOGIES</td>\n",
              "        <td>Engineering</td>\n",
              "    </tr>\n",
              "    <tr>\n",
              "        <td>MECHANICAL ENGINEERING RELATED TECHNOLOGIES</td>\n",
              "        <td>Engineering</td>\n",
              "    </tr>\n",
              "    <tr>\n",
              "        <td>BUSINESS MANAGEMENT AND ADMINISTRATION</td>\n",
              "        <td>Business</td>\n",
              "    </tr>\n",
              "    <tr>\n",
              "        <td>MARKETING AND MARKETING RESEARCH</td>\n",
              "        <td>Business</td>\n",
              "    </tr>\n",
              "    <tr>\n",
              "        <td>HUMAN RESOURCES AND PERSONNEL MANAGEMENT</td>\n",
              "        <td>Business</td>\n",
              "    </tr>\n",
              "    <tr>\n",
              "        <td>HOSPITALITY MANAGEMENT</td>\n",
              "        <td>Business</td>\n",
              "    </tr>\n",
              "</table>"
            ],
            "text/plain": [
              "[('PETROLEUM ENGINEERING', 'Engineering'),\n",
              " ('MINING AND MINERAL ENGINEERING', 'Engineering'),\n",
              " ('METALLURGICAL ENGINEERING', 'Engineering'),\n",
              " ('NAVAL ARCHITECTURE AND MARINE ENGINEERING', 'Engineering'),\n",
              " ('CHEMICAL ENGINEERING', 'Engineering'),\n",
              " ('NUCLEAR ENGINEERING', 'Engineering'),\n",
              " ('ACTUARIAL SCIENCE', 'Business'),\n",
              " ('MECHANICAL ENGINEERING', 'Engineering'),\n",
              " ('ELECTRICAL ENGINEERING', 'Engineering'),\n",
              " ('COMPUTER ENGINEERING', 'Engineering'),\n",
              " ('AEROSPACE ENGINEERING', 'Engineering'),\n",
              " ('BIOMEDICAL ENGINEERING', 'Engineering'),\n",
              " ('MATERIALS SCIENCE', 'Engineering'),\n",
              " ('ENGINEERING MECHANICS PHYSICS AND SCIENCE', 'Engineering'),\n",
              " ('BIOLOGICAL ENGINEERING', 'Engineering'),\n",
              " ('INDUSTRIAL AND MANUFACTURING ENGINEERING', 'Engineering'),\n",
              " ('GENERAL ENGINEERING', 'Engineering'),\n",
              " ('ARCHITECTURAL ENGINEERING', 'Engineering'),\n",
              " ('ELECTRICAL ENGINEERING TECHNOLOGY', 'Engineering'),\n",
              " ('MATERIALS ENGINEERING AND MATERIALS SCIENCE', 'Engineering'),\n",
              " ('MANAGEMENT INFORMATION SYSTEMS AND STATISTICS', 'Business'),\n",
              " ('CIVIL ENGINEERING', 'Engineering'),\n",
              " ('OPERATIONS LOGISTICS AND E-COMMERCE', 'Business'),\n",
              " ('MISCELLANEOUS ENGINEERING', 'Engineering'),\n",
              " ('ENVIRONMENTAL ENGINEERING', 'Engineering'),\n",
              " ('ENGINEERING TECHNOLOGIES', 'Engineering'),\n",
              " ('GEOLOGICAL AND GEOPHYSICAL ENGINEERING', 'Engineering'),\n",
              " ('FINANCE', 'Business'),\n",
              " ('BUSINESS ECONOMICS', 'Business'),\n",
              " ('INDUSTRIAL PRODUCTION TECHNOLOGIES', 'Engineering'),\n",
              " ('ACCOUNTING', 'Business'),\n",
              " ('ENGINEERING AND INDUSTRIAL MANAGEMENT', 'Engineering'),\n",
              " ('GENERAL BUSINESS', 'Business'),\n",
              " ('ARCHITECTURE', 'Engineering'),\n",
              " ('INTERNATIONAL BUSINESS', 'Business'),\n",
              " ('MISCELLANEOUS BUSINESS & MEDICAL ADMINISTRATION', 'Business'),\n",
              " ('MISCELLANEOUS ENGINEERING TECHNOLOGIES', 'Engineering'),\n",
              " ('MECHANICAL ENGINEERING RELATED TECHNOLOGIES', 'Engineering'),\n",
              " ('BUSINESS MANAGEMENT AND ADMINISTRATION', 'Business'),\n",
              " ('MARKETING AND MARKETING RESEARCH', 'Business'),\n",
              " ('HUMAN RESOURCES AND PERSONNEL MANAGEMENT', 'Business'),\n",
              " ('HOSPITALITY MANAGEMENT', 'Business')]"
            ]
          },
          "metadata": {
            "tags": []
          },
          "execution_count": 12
        }
      ]
    },
    {
      "cell_type": "markdown",
      "metadata": {
        "id": "WFo0bwalfESY",
        "colab_type": "text"
      },
      "source": [
        "**Instructions:**\n",
        "\n",
        "Let's practice using `IN`. Write a query that displays:\n",
        "\n",
        "- In order, `Major_category` and `Major`\n",
        "- All rows in any of the following categories:\n",
        "  - `Business`\n",
        "  - `Humanities & Liberal Arts`\n",
        "  - `Education`"
      ]
    },
    {
      "cell_type": "code",
      "metadata": {
        "id": "2lJkkYq8fIWn",
        "colab_type": "code",
        "colab": {}
      },
      "source": [
        ""
      ],
      "execution_count": null,
      "outputs": []
    },
    {
      "cell_type": "markdown",
      "metadata": {
        "id": "nS_ckAscTAMd",
        "colab_type": "text"
      },
      "source": [
        "## 5. Returning Multiple Results in Subqueries"
      ]
    },
    {
      "cell_type": "markdown",
      "metadata": {
        "id": "EcOE7-2zTAPd",
        "colab_type": "text"
      },
      "source": [
        "In the last exercise we displayed the majors in the categories `Business`, `Humanities & Liberal Arts`, and `Education`.\n",
        "\n",
        "These happen to be the top three categories with respect to the total number of graduates, as evidenced by the query below."
      ]
    },
    {
      "cell_type": "code",
      "metadata": {
        "id": "vdSc26liht0a",
        "colab_type": "code",
        "colab": {
          "base_uri": "https://localhost:8080/",
          "height": 410
        },
        "outputId": "e2596c08-6545-4c2d-ec38-e8b2e0fd8e1d"
      },
      "source": [
        "%%sql\n",
        "\n",
        "SELECT Major_category, SUM(TOTAL)\n",
        "  FROM recent_grads\n",
        " GROUP BY Major_category\n",
        " ORDER BY SUM(TOTAL) DESC;"
      ],
      "execution_count": 13,
      "outputs": [
        {
          "output_type": "stream",
          "text": [
            " * sqlite:///jobs.db\n",
            "Done.\n"
          ],
          "name": "stdout"
        },
        {
          "output_type": "execute_result",
          "data": {
            "text/html": [
              "<table>\n",
              "    <tr>\n",
              "        <th>Major_category</th>\n",
              "        <th>SUM(TOTAL)</th>\n",
              "    </tr>\n",
              "    <tr>\n",
              "        <td>Business</td>\n",
              "        <td>1302376</td>\n",
              "    </tr>\n",
              "    <tr>\n",
              "        <td>Humanities &amp; Liberal Arts</td>\n",
              "        <td>713468</td>\n",
              "    </tr>\n",
              "    <tr>\n",
              "        <td>Education</td>\n",
              "        <td>559129</td>\n",
              "    </tr>\n",
              "    <tr>\n",
              "        <td>Engineering</td>\n",
              "        <td>537583</td>\n",
              "    </tr>\n",
              "    <tr>\n",
              "        <td>Social Science</td>\n",
              "        <td>529966</td>\n",
              "    </tr>\n",
              "    <tr>\n",
              "        <td>Psychology &amp; Social Work</td>\n",
              "        <td>481007</td>\n",
              "    </tr>\n",
              "    <tr>\n",
              "        <td>Health</td>\n",
              "        <td>463230</td>\n",
              "    </tr>\n",
              "    <tr>\n",
              "        <td>Biology &amp; Life Science</td>\n",
              "        <td>453862</td>\n",
              "    </tr>\n",
              "    <tr>\n",
              "        <td>Communications &amp; Journalism</td>\n",
              "        <td>392601</td>\n",
              "    </tr>\n",
              "    <tr>\n",
              "        <td>Arts</td>\n",
              "        <td>357130</td>\n",
              "    </tr>\n",
              "    <tr>\n",
              "        <td>Computers &amp; Mathematics</td>\n",
              "        <td>299008</td>\n",
              "    </tr>\n",
              "    <tr>\n",
              "        <td>Industrial Arts &amp; Consumer Services</td>\n",
              "        <td>229792</td>\n",
              "    </tr>\n",
              "    <tr>\n",
              "        <td>Physical Sciences</td>\n",
              "        <td>185479</td>\n",
              "    </tr>\n",
              "    <tr>\n",
              "        <td>Law &amp; Public Policy</td>\n",
              "        <td>179107</td>\n",
              "    </tr>\n",
              "    <tr>\n",
              "        <td>Agriculture &amp; Natural Resources</td>\n",
              "        <td>79981</td>\n",
              "    </tr>\n",
              "    <tr>\n",
              "        <td>Interdisciplinary</td>\n",
              "        <td>12296</td>\n",
              "    </tr>\n",
              "</table>"
            ],
            "text/plain": [
              "[('Business', 1302376),\n",
              " ('Humanities & Liberal Arts', 713468),\n",
              " ('Education', 559129),\n",
              " ('Engineering', 537583),\n",
              " ('Social Science', 529966),\n",
              " ('Psychology & Social Work', 481007),\n",
              " ('Health', 463230),\n",
              " ('Biology & Life Science', 453862),\n",
              " ('Communications & Journalism', 392601),\n",
              " ('Arts', 357130),\n",
              " ('Computers & Mathematics', 299008),\n",
              " ('Industrial Arts & Consumer Services', 229792),\n",
              " ('Physical Sciences', 185479),\n",
              " ('Law & Public Policy', 179107),\n",
              " ('Agriculture & Natural Resources', 79981),\n",
              " ('Interdisciplinary', 12296)]"
            ]
          },
          "metadata": {
            "tags": []
          },
          "execution_count": 13
        }
      ]
    },
    {
      "cell_type": "markdown",
      "metadata": {
        "id": "bBwaYP5jhzPM",
        "colab_type": "text"
      },
      "source": [
        "Again, what if we wanted to find the same list of majors as in the previous screen, dynamically (i.e. without first determining the most popular categories and then hard coding the values into the query)?\n",
        "\n",
        "Subqueries can also help us with this. Instead of returning just one value, we can make the query return a list of values (disguised as a single column).\n",
        "\n",
        "In the following exercise you will display the same results as in the previous screen, only this time without manually indicating what the categories are.\n",
        "\n",
        "You can use the following boilerplate code in this screen's exercise.\n",
        "\n",
        "```\n",
        "SELECT Major_category, Major\n",
        "  FROM recent_grads\n",
        " WHERE Major_category IN (SUBQUERY_GOES_HERE);\n",
        " ```\n",
        "\n",
        "**Instructions:**\n",
        "\n",
        "In the code displayed above, replace `SUBQUERY_GOES_HERE` to create a query that displays the `Major` and `Major_category` columns, for the rows where Major_category is one of the 3 highest group level sums for the `Total` column.\n",
        "\n"
      ]
    },
    {
      "cell_type": "code",
      "metadata": {
        "id": "fqePYdG_h_zJ",
        "colab_type": "code",
        "colab": {}
      },
      "source": [
        ""
      ],
      "execution_count": null,
      "outputs": []
    },
    {
      "cell_type": "markdown",
      "metadata": {
        "id": "j912q-NwTASf",
        "colab_type": "text"
      },
      "source": [
        "## 6. Building Complex Subqueries"
      ]
    },
    {
      "cell_type": "markdown",
      "metadata": {
        "id": "Qgya5Q5xTAVX",
        "colab_type": "text"
      },
      "source": [
        "On the last few screens, we nested subqueries in the `WHERE` and the `SELECT` clauses that were evaluated before the outer query was.\n",
        "\n",
        "We can actually nest subqueries within subqueries many times, but this makes our SQL code more complex and harder to debug. In the next course, we'll explore other techniques of composing SQL statements that make nested logic easier.\n",
        "\n",
        "When you have a SQL statement you want to write that will end up using many subqueries, it can be overwhelming at first to know how to start.\n",
        "\n",
        "In general, you want to start with the inner queries first and work your way outwards. Let's say we're interested in understanding the ratio of the `Sample_size` column to the `Total` column. You can read the [dataset documentation](https://github.com/fivethirtyeight/data/tree/master/college-majors) if you need a reminder for what these columns represent.\n",
        "\n",
        "Specifically, let's say we're interested in:\n",
        "\n",
        "- Computing this ratio for every major.\n",
        "- Understanding which majors are above the average for this ratio.\n",
        "- Understanding how many majors are above the average for this ratio.\n",
        "\n",
        "We'll start by writing a query that computes the ratio for every major and then the average of all of these ratios.\n",
        "\n",
        "\n",
        "**Instructions:**\n",
        "\n",
        "Write a query that returns the average ratio between `Sample_size` and `Total` for all of the majors.\n",
        "\n",
        "Here's the format your query should return:\n",
        "\n",
        "|avg_ratio|\n",
        "|---|\n",
        "|average ratio value goes here|\n",
        "\n"
      ]
    },
    {
      "cell_type": "code",
      "metadata": {
        "id": "P7xMsHmEiZm-",
        "colab_type": "code",
        "colab": {}
      },
      "source": [
        ""
      ],
      "execution_count": null,
      "outputs": []
    },
    {
      "cell_type": "markdown",
      "metadata": {
        "id": "L2hRAJm0TAYV",
        "colab_type": "text"
      },
      "source": [
        "## 7. Practice Integrating A Subquery With The Outer Query"
      ]
    },
    {
      "cell_type": "markdown",
      "metadata": {
        "id": "acUE4vuKTAbL",
        "colab_type": "text"
      },
      "source": [
        "Now that we have a subquery that calculates the average ratio (of `Sample_size` to `Total`), we can return the rows that exceed this average.\n",
        "\n",
        "**Instructions:**\n",
        "\n",
        "Write a query with the following features:\n",
        "- Selects the `Major`, `Major_category`, and the computed `ratio` columns\n",
        "- Filters to just the rows where `ratio` is greater than `avg_ratio`\n"
      ]
    },
    {
      "cell_type": "code",
      "metadata": {
        "id": "tIDnwisPim43",
        "colab_type": "code",
        "colab": {}
      },
      "source": [
        ""
      ],
      "execution_count": null,
      "outputs": []
    },
    {
      "cell_type": "markdown",
      "metadata": {
        "id": "8z8RBzW-TAeM",
        "colab_type": "text"
      },
      "source": [
        "## 8. Next Steps"
      ]
    },
    {
      "cell_type": "markdown",
      "metadata": {
        "id": "7iIfub5OTAhi",
        "colab_type": "text"
      },
      "source": [
        "In this mission, we explored how subqueries enable us to write more complex and dynamic queries.\n",
        "\n",
        "In this course youwe learned:\n",
        "\n",
        "- What a database and a table in a database are.\n",
        "- What a query is and what are some of its components.\n",
        "- How to query a database is using SQL.\n",
        "- How to compute summary statistics by group and for the whole table.\n",
        "- About a mental model to think about the order of execution in a query.\n",
        "\n",
        "\n",
        "\n",
        "---\n",
        "\n"
      ]
    }
  ]
}