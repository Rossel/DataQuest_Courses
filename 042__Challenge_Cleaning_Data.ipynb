{
  "nbformat": 4,
  "nbformat_minor": 0,
  "metadata": {
    "colab": {
      "name": "042__Challenge-Cleaning_Data.ipynb",
      "provenance": [],
      "authorship_tag": "ABX9TyOaId+GRNywVvQ32/WuTRKu",
      "include_colab_link": true
    },
    "kernelspec": {
      "name": "python3",
      "display_name": "Python 3"
    },
    "language_info": {
      "name": "python"
    }
  },
  "cells": [
    {
      "cell_type": "markdown",
      "metadata": {
        "id": "view-in-github",
        "colab_type": "text"
      },
      "source": [
        "<a href=\"https://colab.research.google.com/github/Rossel/DataQuest_Courses/blob/master/042__Challenge_Cleaning_Data.ipynb\" target=\"_parent\"><img src=\"https://colab.research.google.com/assets/colab-badge.svg\" alt=\"Open In Colab\"/></a>"
      ]
    },
    {
      "cell_type": "markdown",
      "metadata": {
        "id": "PxoDHA6_q8Fd"
      },
      "source": [
        "# COURSE 6/6: DATA CLEANING WALKTHROUGH"
      ]
    },
    {
      "cell_type": "markdown",
      "metadata": {
        "id": "PgjiYKzEU1Px"
      },
      "source": [
        "# MISSION 5: Challenge: Cleaning Data\n"
      ]
    },
    {
      "cell_type": "markdown",
      "metadata": {
        "id": "yUAYFIUyr0YN"
      },
      "source": [
        "Test your data munging skills by cleaning up after the Avengers."
      ]
    },
    {
      "cell_type": "markdown",
      "metadata": {
        "id": "J4xguJjRr1Oe"
      },
      "source": [
        "## 1. Introduction"
      ]
    },
    {
      "cell_type": "markdown",
      "metadata": {
        "id": "ovk8S9ljr1Y6"
      },
      "source": [
        "At Dataquest, we're huge believers in learning through doing, and we hope this shows in your experience with the missions. While missions focus on introducing concepts, challenges allow you to perform deliberate practice by completing structured problems. You can read more about deliberate practice on [Wikipedia](http://bit.ly/2cJ2Qt7) and at [Nautilus](http://nautil.us/issue/35/boundaries/not-all-practice-makes-perfect). Challenges will feel similar to missions, but with little instructional material and a larger focus on exercises.\n",
        "\n",
        "If you have questions or run into issues, head over to the [Dataquest Community](https://community.dataquest.io/)."
      ]
    },
    {
      "cell_type": "markdown",
      "metadata": {
        "id": "6e3hQTcNr1cB"
      },
      "source": [
        "## 2. Life and Death of the Avengers"
      ]
    },
    {
      "cell_type": "markdown",
      "metadata": {
        "id": "lFVttGVCr1eR"
      },
      "source": [
        "The Avengers are a well-known and widely-loved team of superheroes in the Marvel universe that were originally introduced in the 1960's comic book series. The recent Disney movies re-popularized them, as part of the new [Marvel Cinematic Universe](https://en.wikipedia.org/wiki/Marvel_Cinematic_Universe).\n",
        "\n",
        "Because the writers killed off and revived many of the superheroes, the team at FiveThirtyEight was curious to explore data from the [Marvel Wikia site](http://marvel.wikia.com/wiki/Main_Page) further. To learn how they collected their data, which is available in their [GitHub repository](https://github.com/fivethirtyeight/data/tree/master/avengers), read the write-up they published on the [FiveThirtyEight website](http://fivethirtyeight.com/features/avengers-death-comics-age-of-ultron/)."
      ]
    },
    {
      "cell_type": "markdown",
      "metadata": {
        "id": "YrNIRconr1kG"
      },
      "source": [
        ""
      ]
    },
    {
      "cell_type": "markdown",
      "metadata": {
        "id": "bYlxCmHVr1v2"
      },
      "source": [
        ""
      ]
    },
    {
      "cell_type": "markdown",
      "metadata": {
        "id": "ObiU1tp9r11x"
      },
      "source": [
        ""
      ]
    },
    {
      "cell_type": "markdown",
      "metadata": {
        "id": "QJce_Uk8r1-R"
      },
      "source": [
        ""
      ]
    }
  ]
}