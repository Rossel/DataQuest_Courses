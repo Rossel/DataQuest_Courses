{
  "nbformat": 4,
  "nbformat_minor": 0,
  "metadata": {
    "colab": {
      "name": "020__Data_Cleaning_Basics.ipynb",
      "provenance": [],
      "collapsed_sections": [],
      "authorship_tag": "ABX9TyPhtawXiKXoshXK8YTwI75G",
      "include_colab_link": true
    },
    "kernelspec": {
      "name": "python3",
      "display_name": "Python 3"
    }
  },
  "cells": [
    {
      "cell_type": "markdown",
      "metadata": {
        "id": "view-in-github",
        "colab_type": "text"
      },
      "source": [
        "<a href=\"https://colab.research.google.com/github/rossel/DataQuest_Courses/blob/master/020__Data_Cleaning_Basics.ipynb\" target=\"_parent\"><img src=\"https://colab.research.google.com/assets/colab-badge.svg\" alt=\"Open In Colab\"/></a>"
      ]
    },
    {
      "cell_type": "markdown",
      "metadata": {
        "id": "-GS9B64fu9dB",
        "colab_type": "text"
      },
      "source": [
        "# MISSION 6: Data Cleaning Basics"
      ]
    },
    {
      "cell_type": "markdown",
      "metadata": {
        "id": "IiC8aSTpvLQO",
        "colab_type": "text"
      },
      "source": [
        "In this mission, we will learn techniques to use when performing data cleaning to prepare a messy data set,by following the steps in the workflow diagram below:\n",
        "\n",
        "![alt text](https://s3.amazonaws.com/dq-content/293/cleaning_workflow.svg)"
      ]
    },
    {
      "cell_type": "markdown",
      "metadata": {
        "id": "bFhAfuRXu_S4",
        "colab_type": "text"
      },
      "source": [
        "## 1. Reading CSV Files with Encodings"
      ]
    },
    {
      "cell_type": "markdown",
      "metadata": {
        "id": "Mv48G5YGvF5J",
        "colab_type": "text"
      },
      "source": [
        "In this mission, we'll learn the basics of data cleaning with pandas as we work with `laptops.csv`, a CSV file containing information about 1,300 laptop computers.\n",
        "\n",
        "We can start by reading the data into pandas. Let's look at what happens when we use the `pandas.read_csv()` [function](http://pandas.pydata.org/pandas-docs/stable/generated/pandas.read_csv.html) with only the filename argument:\n",
        "\n",
        "\n",
        "```\n",
        "laptops = pd.read_csv(\"laptops.csv\")\n",
        "```\n",
        "\n",
        "We get an error! This error references UTF-8, which is a type of encoding. Computers, at their lowest levels, can only understand binary - `0` and `1` - and encodings are systems for representing characters in binary.\n",
        "\n",
        "Something we can do if our file has an unknown encoding is to **try the most common encodings**:\n",
        "\n",
        "* UTF-8\n",
        "* Latin-1 (also known as ISO-8859-1)\n",
        "* Windows-1251\n",
        "\n",
        "The `pandas.read_csv()` function has an `encoding` argument we can use to specify an encoding:\n",
        "\n",
        "\n",
        "\n",
        "```\n",
        "df = pd.read_csv(\"filename.csv\", encoding=\"some_encoding\")\n",
        "```\n",
        "Since the `pandas.read_csv()` function already tried to read in the file with UTF-8 and failed, we know the file's not encoded with that format. Let's try the next most popular encoding in the exercise.\n",
        "\n"
      ]
    },
    {
      "cell_type": "markdown",
      "metadata": {
        "id": "_oXrrx532gJB",
        "colab_type": "text"
      },
      "source": [
        "First, let's import `laptops.csv` into this Colaboratory Notebook:"
      ]
    },
    {
      "cell_type": "code",
      "metadata": {
        "id": "7zbhVrbR2n44",
        "colab_type": "code",
        "colab": {}
      },
      "source": [
        "# Code to read csv file into Colaboratory:\n",
        "!pip install -U -q PyDrive\n",
        "from pydrive.auth import GoogleAuth\n",
        "from pydrive.drive import GoogleDrive\n",
        "from google.colab import auth\n",
        "from oauth2client.client import GoogleCredentials\n",
        "# Authenticate and create the PyDrive client.\n",
        "auth.authenticate_user()\n",
        "gauth = GoogleAuth()\n",
        "gauth.credentials = GoogleCredentials.get_application_default()\n",
        "drive = GoogleDrive(gauth)"
      ],
      "execution_count": 22,
      "outputs": []
    },
    {
      "cell_type": "code",
      "metadata": {
        "id": "mQVsg_sh2o4j",
        "colab_type": "code",
        "colab": {}
      },
      "source": [
        "# Once you have completed verification, go to the CSV file in Google Drive, right-click on it and select “Get shareable link”, and cut out the unique id in the link.\n",
        "id = \"1VjDliDrTkzvTvjz6uRnjt7Z72uv6TI6s\""
      ],
      "execution_count": 23,
      "outputs": []
    },
    {
      "cell_type": "code",
      "metadata": {
        "id": "qgFvCD-32wdh",
        "colab_type": "code",
        "colab": {}
      },
      "source": [
        "# Download the dataset\n",
        "downloaded = drive.CreateFile({'id':id}) \n",
        "downloaded.GetContentFile('laptops.csv')"
      ],
      "execution_count": 24,
      "outputs": []
    },
    {
      "cell_type": "markdown",
      "metadata": {
        "id": "LxEEtEcO1OWE",
        "colab_type": "text"
      },
      "source": [
        "Instructions:\n",
        "\n",
        "\n",
        "1. Import the pandas library\n",
        "2. Use the `pandas.read_csv()` function to read the `laptops.csv`file into a dataframe `laptops`.\n",
        "  * Specify the encoding using the string `\"Latin-1\"`.\n",
        "3. Use the `DataFrame.info()` method to display information about the `laptops` dataframe.\n"
      ]
    },
    {
      "cell_type": "code",
      "metadata": {
        "id": "JbX6uOxI1PGw",
        "colab_type": "code",
        "colab": {
          "base_uri": "https://localhost:8080/",
          "height": 372
        },
        "outputId": "92c67380-fa01-49c7-fdca-57e7f96c782a"
      },
      "source": [
        "import pandas as pd\n",
        "laptops = pd.read_csv(\"laptops.csv\", encoding=\"Latin-1\")\n",
        "\n",
        "laptops.info()"
      ],
      "execution_count": 25,
      "outputs": [
        {
          "output_type": "stream",
          "text": [
            "<class 'pandas.core.frame.DataFrame'>\n",
            "RangeIndex: 1303 entries, 0 to 1302\n",
            "Data columns (total 13 columns):\n",
            " #   Column                    Non-Null Count  Dtype \n",
            "---  ------                    --------------  ----- \n",
            " 0   Manufacturer              1303 non-null   object\n",
            " 1   Model Name                1303 non-null   object\n",
            " 2   Category                  1303 non-null   object\n",
            " 3   Screen Size               1303 non-null   object\n",
            " 4   Screen                    1303 non-null   object\n",
            " 5   CPU                       1303 non-null   object\n",
            " 6   RAM                       1303 non-null   object\n",
            " 7    Storage                  1303 non-null   object\n",
            " 8   GPU                       1303 non-null   object\n",
            " 9   Operating System          1303 non-null   object\n",
            " 10  Operating System Version  1133 non-null   object\n",
            " 11  Weight                    1303 non-null   object\n",
            " 12  Price (Euros)             1303 non-null   object\n",
            "dtypes: object(13)\n",
            "memory usage: 132.5+ KB\n"
          ],
          "name": "stdout"
        }
      ]
    },
    {
      "cell_type": "code",
      "metadata": {
        "id": "-1QQYAgOAhhV",
        "colab_type": "code",
        "colab": {
          "base_uri": "https://localhost:8080/",
          "height": 34
        },
        "outputId": "135d7803-570c-42dc-afa0-3b01745c12e3"
      },
      "source": [
        "print(laptops.shape)"
      ],
      "execution_count": 26,
      "outputs": [
        {
          "output_type": "stream",
          "text": [
            "(1303, 13)\n"
          ],
          "name": "stdout"
        }
      ]
    },
    {
      "cell_type": "markdown",
      "metadata": {
        "id": "Q_SshlK-vGXL",
        "colab_type": "text"
      },
      "source": [
        "## 2. Cleaning Column Names"
      ]
    },
    {
      "cell_type": "markdown",
      "metadata": {
        "id": "WRynvU8ovGyl",
        "colab_type": "text"
      },
      "source": [
        "With the `DataFrame.info()` used above, we can see that every column is represented as the `object` type, indicating that they are represented by strings, not numbers. Also, one of the columns, `Operating System Version`, has null values. \n",
        "\n",
        "The column labels have a variety of **upper and lowercase letters**, as well as **spaces and parentheses**, which will make them harder to work with and read. One noticeable issue is that the ` Storage\"` column name has a space in front of it. These quirks with column labels can sometimes be hard to spot, so removing extra whitespaces from all column names will save us more work in the long run.\n",
        "\n",
        "We can access the column axis of a dataframe using the `DataFrame.columns` attribute. This returns an index object — a special type of NumPy ndarray — with the labels of each column:"
      ]
    },
    {
      "cell_type": "code",
      "metadata": {
        "id": "jdetHV2L8AyJ",
        "colab_type": "code",
        "colab": {
          "base_uri": "https://localhost:8080/",
          "height": 87
        },
        "outputId": "daff76ad-ffc0-45bc-b614-188d6f9def4b"
      },
      "source": [
        "print(laptops.columns)"
      ],
      "execution_count": 27,
      "outputs": [
        {
          "output_type": "stream",
          "text": [
            "Index(['Manufacturer', 'Model Name', 'Category', 'Screen Size', 'Screen',\n",
            "       'CPU', 'RAM', ' Storage', 'GPU', 'Operating System',\n",
            "       'Operating System Version', 'Weight', 'Price (Euros)'],\n",
            "      dtype='object')\n"
          ],
          "name": "stdout"
        }
      ]
    },
    {
      "cell_type": "markdown",
      "metadata": {
        "id": "6BLsSZL98H4o",
        "colab_type": "text"
      },
      "source": [
        "Not only can we use the attribute to view the column labels, we can also assign new labels to the attribute:\n",
        "\n",
        "\n",
        "\n",
        "```\n",
        "laptops_test = laptops.copy()\n",
        "laptops_test.columns = ['A', 'B', 'C', 'D', 'E', 'F', 'G', 'H', 'I', 'J', 'K', 'L', 'M']\n",
        "\n",
        "print(laptops_test.columns)\n",
        "```\n",
        "\n",
        "\n",
        "```\n",
        "Index(['A', 'B', 'C', 'D', 'E', 'F', 'G', 'H', 'I', 'J', 'K', 'L', 'M'], dtype='object')\n",
        "```\n",
        "Next, let's use the `DataFrame.columns` attribute to remove whitespaces from the column names.\n",
        "\n"
      ]
    },
    {
      "cell_type": "code",
      "metadata": {
        "id": "jPH7BQ5Q_Oia",
        "colab_type": "code",
        "colab": {
          "base_uri": "https://localhost:8080/",
          "height": 87
        },
        "outputId": "9bb11696-b756-4df5-9e5b-05eaccae862b"
      },
      "source": [
        "new_columns = []\n",
        "\n",
        "for i in laptops.columns:\n",
        "    stripped = i.strip(\" \")\n",
        "    new_columns.append(stripped)\n",
        "    \n",
        "laptops.columns = new_columns\n",
        "\n",
        "print(laptops.columns)"
      ],
      "execution_count": 28,
      "outputs": [
        {
          "output_type": "stream",
          "text": [
            "Index(['Manufacturer', 'Model Name', 'Category', 'Screen Size', 'Screen',\n",
            "       'CPU', 'RAM', 'Storage', 'GPU', 'Operating System',\n",
            "       'Operating System Version', 'Weight', 'Price (Euros)'],\n",
            "      dtype='object')\n"
          ],
          "name": "stdout"
        }
      ]
    },
    {
      "cell_type": "markdown",
      "metadata": {
        "id": "W11qopGUvHPP",
        "colab_type": "text"
      },
      "source": [
        "## 3. Cleaning Column Names Continued"
      ]
    },
    {
      "cell_type": "markdown",
      "metadata": {
        "id": "rSsRjAdjvHxM",
        "colab_type": "text"
      },
      "source": [
        "he column labels still have a variety of upper and lowercase letters, as well as parentheses, which will make them harder to work with and read. Let's finish cleaning our column labels by:\n",
        "\n",
        "* Replacing spaces with underscores.\n",
        "* Removing special characters.\n",
        "* Making all labels lowercase.\n",
        "* Shortening any long column names.\n",
        "\n",
        "We can create a function that uses [Python string methods](https://docs.python.org/3/library/stdtypes.html#string-methods) to clean our column labels, and then again use a loop to apply that function to each label. Let's look at an example:\n",
        "\n",
        "\n",
        "\n",
        "```\n",
        "def clean_col(col):\n",
        "    col = col.strip()\n",
        "    col = col.replace(\"(\",\"\")\n",
        "    col = col.replace(\")\",\"\")\n",
        "    col = col.lower()\n",
        "    return col\n",
        "\n",
        "new_columns = []\n",
        "for c in laptops.columns:\n",
        "    clean_c = clean_col(c)\n",
        "    new_columns.append(clean_c)\n",
        "\n",
        "laptops.columns = new_columns\n",
        "print(laptops.columns)\n",
        "```\n",
        "\n",
        "\n",
        "\n",
        "```\n",
        "Index(['manufacturer', 'model name', 'category', 'screen size', 'screen',\n",
        "       'cpu', 'ram', 'storage', 'gpu', 'operating system',\n",
        "       'operating system version', 'weight', 'price euros'],\n",
        "      dtype='object')\n",
        "```\n",
        "\n",
        "\n",
        "\n",
        "Our code:\n",
        "\n",
        "* Defined a function, which:\n",
        "  * Used the `str.strip()` [method](https://docs.python.org/3.6/library/stdtypes.html#str.strip) to remove whitespace from the start and end of the string.\n",
        "  * Used the `str.replace()` [method](https://docs.python.org/3.6/library/stdtypes.html#str.replace) to remove parentheses from the string.\n",
        "  * Used the `str.lower()` [method](https://docs.python.org/3.6/library/stdtypes.html#str.lower) to make the string lowercase.\n",
        "  * Returns the modified string.\n",
        "* Used a loop to apply the function to each item in the index object and assign it back to the `DataFrame.columns` attribute.\n",
        "* Printed the new values for the `DataFrame.columns` attribute.\n",
        "\n",
        "Let's use this technique to clean the column labels in our dataframe, adding a few extra cleaning 'chores' along the way."
      ]
    },
    {
      "cell_type": "markdown",
      "metadata": {
        "id": "SY9YXuLNE-UY",
        "colab_type": "text"
      },
      "source": [
        "\n",
        "1. Define a function, which accepts a string argument, and:\n",
        "  * Removes any whitespace from the start and end of the string.\n",
        "  * Replaces the substring `Operating System` with the abbreviation `os`.\n",
        "  * Replaces all spaces with underscores.\n",
        "  * Removes parentheses from the string.\n",
        "  * Makes the entire string lowercase.\n",
        "  * Returns the modified string.\n",
        "2. Use a loop to apply the function to each item in the `DataFrame.columns` attribute for the `laptops` dataframe. Assign the result back to the `DataFrame.columns` attribute.\n"
      ]
    },
    {
      "cell_type": "code",
      "metadata": {
        "id": "aT5C_KpAE-15",
        "colab_type": "code",
        "colab": {
          "base_uri": "https://localhost:8080/",
          "height": 87
        },
        "outputId": "e6d04325-a4b0-43a0-d796-9164b72b2395"
      },
      "source": [
        "def clean_col(col):\n",
        "    col = col.strip()\n",
        "    col = col.replace(\"Operating System\",\"os\")\n",
        "    col = col.replace(\" \",\"_\")\n",
        "    col = col.replace(\"(\",\"\")\n",
        "    col = col.replace(\")\",\"\")\n",
        "    col = col.lower()\n",
        "    return col\n",
        "\n",
        "columns_clean = []\n",
        "\n",
        "for i in laptops.columns:\n",
        "    col = clean_col(i)\n",
        "    columns_clean.append(col)\n",
        "    \n",
        "laptops.columns = columns_clean\n",
        "\n",
        "print(laptops.columns)"
      ],
      "execution_count": 29,
      "outputs": [
        {
          "output_type": "stream",
          "text": [
            "Index(['manufacturer', 'model_name', 'category', 'screen_size', 'screen',\n",
            "       'cpu', 'ram', 'storage', 'gpu', 'os', 'os_version', 'weight',\n",
            "       'price_euros'],\n",
            "      dtype='object')\n"
          ],
          "name": "stdout"
        }
      ]
    },
    {
      "cell_type": "markdown",
      "metadata": {
        "id": "7xRJLThfvH5R",
        "colab_type": "text"
      },
      "source": [
        "## 4. Converting String Columns to Numeric"
      ]
    },
    {
      "cell_type": "markdown",
      "metadata": {
        "id": "WvTl7_zfvH8l",
        "colab_type": "text"
      },
      "source": [
        "We observed earlier that all 13 columns have the `object` dtype, meaning they're stored as strings. Let's look at the first few rows of some of our columns:"
      ]
    },
    {
      "cell_type": "code",
      "metadata": {
        "id": "R52zPvtFIgOm",
        "colab_type": "code",
        "colab": {
          "base_uri": "https://localhost:8080/",
          "height": 123
        },
        "outputId": "bace7b5f-3478-4a09-d2d2-d024ef79e2d4"
      },
      "source": [
        "print(laptops.iloc[:5,2:5])"
      ],
      "execution_count": 30,
      "outputs": [
        {
          "output_type": "stream",
          "text": [
            "    category screen_size                              screen\n",
            "0  Ultrabook       13.3\"  IPS Panel Retina Display 2560x1600\n",
            "1  Ultrabook       13.3\"                            1440x900\n",
            "2   Notebook       15.6\"                   Full HD 1920x1080\n",
            "3  Ultrabook       15.4\"  IPS Panel Retina Display 2880x1800\n",
            "4  Ultrabook       13.3\"  IPS Panel Retina Display 2560x1600\n"
          ],
          "name": "stdout"
        }
      ]
    },
    {
      "cell_type": "markdown",
      "metadata": {
        "id": "gdPWtoYgIi-R",
        "colab_type": "text"
      },
      "source": [
        "Of these three columns, we have three different types of text data:\n",
        "\n",
        "* `category`: Purely text data - there are no numeric values.\n",
        "* `screen_size`: Numeric data stored as text data because of the `\"` character.\n",
        "* `screen`: A combination of pure text data with numeric data.\n",
        "\n",
        "Because the values in the `screen_size` column are stored as text data, we can't sort them numerically. For instance, if we wanted to select laptops with screens 15\" or larger, we'd be unable to do so.\n",
        "\n",
        "Let's convert the `screen_size` column to numeric next. Whenever we convert text to numeric data, we can follow this data cleaning workflow diagram:\n",
        "\n",
        "![alt text](https://s3.amazonaws.com/dq-content/293/cleaning_workflow.svg)\n"
      ]
    },
    {
      "cell_type": "markdown",
      "metadata": {
        "id": "Y_D_mmfuJUYV",
        "colab_type": "text"
      },
      "source": [
        "The first step is to **explore the data**. One of the best ways to do this is to use the `Series.unique()` method to view all of the unique values in the column:"
      ]
    },
    {
      "cell_type": "code",
      "metadata": {
        "id": "LZk2djLPJeJE",
        "colab_type": "code",
        "colab": {
          "base_uri": "https://localhost:8080/",
          "height": 70
        },
        "outputId": "cfb6bde9-53a3-40a1-f317-a96dfccc8a2c"
      },
      "source": [
        "print(laptops[\"screen_size\"].dtype)\n",
        "print(laptops[\"screen_size\"].unique())"
      ],
      "execution_count": 31,
      "outputs": [
        {
          "output_type": "stream",
          "text": [
            "object\n",
            "['13.3\"' '15.6\"' '15.4\"' '14.0\"' '12.0\"' '11.6\"' '17.3\"' '10.1\"' '13.5\"'\n",
            " '12.5\"' '13.0\"' '18.4\"' '13.9\"' '12.3\"' '17.0\"' '15.0\"' '14.1\"' '11.3\"']\n"
          ],
          "name": "stdout"
        }
      ]
    },
    {
      "cell_type": "markdown",
      "metadata": {
        "id": "wRSTiMgYJfaf",
        "colab_type": "text"
      },
      "source": [
        "\n",
        "\n",
        "Our next step is to **identify patterns and special cases**. We can observe the following:\n",
        "\n",
        "* All values in this column follow the same pattern - a series of digit and period characters, followed by a quote character (`\"`).\n",
        "* There are no special cases. Every value matches the same pattern.\n",
        "* We'll need to convert the column to a `float` dtype, as the `int` dtype won't be able to store the decimal values.\n",
        "\n",
        "Let's identify any patterns and special cases in the `ram` column next."
      ]
    },
    {
      "cell_type": "code",
      "metadata": {
        "id": "5tv5o571Jvew",
        "colab_type": "code",
        "colab": {
          "base_uri": "https://localhost:8080/",
          "height": 34
        },
        "outputId": "a25ad25c-012b-456a-8c30-defa8d271dc6"
      },
      "source": [
        "unique_ram = laptops[\"ram\"].unique()\n",
        "\n",
        "print(unique_ram)"
      ],
      "execution_count": 32,
      "outputs": [
        {
          "output_type": "stream",
          "text": [
            "['8GB' '16GB' '4GB' '2GB' '12GB' '6GB' '32GB' '24GB' '64GB']\n"
          ],
          "name": "stdout"
        }
      ]
    },
    {
      "cell_type": "markdown",
      "metadata": {
        "id": "w4otjpIlNT_6",
        "colab_type": "text"
      },
      "source": [
        "Here, we can identify a clear pattern in the `ram` column - all values are integers and include the character `GB` at the end of the string.\n",
        "\n"
      ]
    },
    {
      "cell_type": "markdown",
      "metadata": {
        "id": "e3ylOuTHvIAL",
        "colab_type": "text"
      },
      "source": [
        "## 5. Removing Non-Digit Characters"
      ]
    },
    {
      "cell_type": "markdown",
      "metadata": {
        "id": "EPMUlVw4vIC8",
        "colab_type": "text"
      },
      "source": [
        "To convert both the `ram` and `screen_size` columns to numeric dtypes, we'll have to first remove the non-digit characters (As depicted in the flow-chart above).\n",
        "\n",
        "The pandas library contains dozens of [vectorized string methods](https://pandas.pydata.org/pandas-docs/stable/user_guide/text.html#method-summary) we can use to manipulate text data, many of which perform the same operations as Python string methods. Most vectorized string methods are available using the `Series.str` [accessor](http://pandas.pydata.org/pandas-docs/stable/api.html#string-handling), which means we can access them by adding `str` between the series name and the method name:\n",
        "\n",
        "![alt text](https://s3.amazonaws.com/dq-content/346/Syntax.png)\n",
        "\n"
      ]
    },
    {
      "cell_type": "markdown",
      "metadata": {
        "id": "Y9968B2eQy3D",
        "colab_type": "text"
      },
      "source": [
        "In this case, we can use the `Series.str.replace()` method, which is a vectorized version of the Python `str.replace()` method we used in the previous screen, to remove all the quote characters from every string in the `screen_size` column:"
      ]
    },
    {
      "cell_type": "code",
      "metadata": {
        "id": "W-TUsoOSQ7Cq",
        "colab_type": "code",
        "colab": {
          "base_uri": "https://localhost:8080/",
          "height": 52
        },
        "outputId": "888f5ba1-8b9e-40b9-dbcf-fe9b7b52bb11"
      },
      "source": [
        "laptops[\"screen_size\"] = laptops[\"screen_size\"].str.replace('\"','')\n",
        "\n",
        "print(laptops[\"screen_size\"].unique())"
      ],
      "execution_count": 33,
      "outputs": [
        {
          "output_type": "stream",
          "text": [
            "['13.3' '15.6' '15.4' '14.0' '12.0' '11.6' '17.3' '10.1' '13.5' '12.5'\n",
            " '13.0' '18.4' '13.9' '12.3' '17.0' '15.0' '14.1' '11.3']\n"
          ],
          "name": "stdout"
        }
      ]
    },
    {
      "cell_type": "markdown",
      "metadata": {
        "id": "zMV2ckuYRFFg",
        "colab_type": "text"
      },
      "source": [
        "Let's remove the non-digit characters from the ram column next."
      ]
    },
    {
      "cell_type": "code",
      "metadata": {
        "id": "nwtWR2XPRGZ3",
        "colab_type": "code",
        "colab": {
          "base_uri": "https://localhost:8080/",
          "height": 34
        },
        "outputId": "69e1d5e2-0894-453c-b685-ae22a902d403"
      },
      "source": [
        "laptops[\"ram\"] = laptops[\"ram\"].str.replace(\"GB\",\"\")\n",
        "print(laptops[\"ram\"].unique())"
      ],
      "execution_count": 34,
      "outputs": [
        {
          "output_type": "stream",
          "text": [
            "['8' '16' '4' '2' '12' '6' '32' '24' '64']\n"
          ],
          "name": "stdout"
        }
      ]
    },
    {
      "cell_type": "markdown",
      "metadata": {
        "id": "4ydh6picvIFq",
        "colab_type": "text"
      },
      "source": [
        "## 6. Converting Columns to Numeric Dtypes"
      ]
    },
    {
      "cell_type": "markdown",
      "metadata": {
        "id": "5c6zsUQ4vIIS",
        "colab_type": "text"
      },
      "source": [
        "Now, we can **convert (or cast) the columns to a numeric dtype which is Step 5 in the flow chart image**.\n",
        "\n",
        "![alt text](https://s3.amazonaws.com/dq-content/293/cleaning_workflow.svg)\n",
        "\n",
        "To do this, we use the `Series.astype()` [method](http://pandas.pydata.org/pandas-docs/stable/generated/pandas.Series.astype.html). To convert the column to a numeric dtype, we can use either `int` or `float` as the parameter for the method. Since the `int` dtype can't store decimal values, we'll convert the `screen_size` column to the `float` dtype:"
      ]
    },
    {
      "cell_type": "code",
      "metadata": {
        "id": "6Od2vfukTfIo",
        "colab_type": "code",
        "colab": {
          "base_uri": "https://localhost:8080/",
          "height": 70
        },
        "outputId": "b63abd7d-78c6-4adb-c86f-1874d3cc7991"
      },
      "source": [
        "laptops[\"screen_size\"] = laptops[\"screen_size\"].astype(float)\n",
        "print(laptops[\"screen_size\"].dtype)\n",
        "print(laptops[\"screen_size\"].unique())"
      ],
      "execution_count": 35,
      "outputs": [
        {
          "output_type": "stream",
          "text": [
            "float64\n",
            "[13.3 15.6 15.4 14.  12.  11.6 17.3 10.1 13.5 12.5 13.  18.4 13.9 12.3\n",
            " 17.  15.  14.1 11.3]\n"
          ],
          "name": "stdout"
        }
      ]
    },
    {
      "cell_type": "markdown",
      "metadata": {
        "id": "eTAg7lcfTkXI",
        "colab_type": "text"
      },
      "source": [
        "Our `screen_size` column is now the `float64` dtype. Let's convert the dtype of the `ram` column to numeric next."
      ]
    },
    {
      "cell_type": "code",
      "metadata": {
        "id": "fa0DgpC0TwuB",
        "colab_type": "code",
        "colab": {
          "base_uri": "https://localhost:8080/",
          "height": 265
        },
        "outputId": "24d6594e-3de1-4a82-d847-34ac2f55c050"
      },
      "source": [
        "laptops[\"ram\"] = laptops[\"ram\"].astype(int)\n",
        "laptops.dtypes"
      ],
      "execution_count": 36,
      "outputs": [
        {
          "output_type": "execute_result",
          "data": {
            "text/plain": [
              "manufacturer     object\n",
              "model_name       object\n",
              "category         object\n",
              "screen_size     float64\n",
              "screen           object\n",
              "cpu              object\n",
              "ram               int64\n",
              "storage          object\n",
              "gpu              object\n",
              "os               object\n",
              "os_version       object\n",
              "weight           object\n",
              "price_euros      object\n",
              "dtype: object"
            ]
          },
          "metadata": {
            "tags": []
          },
          "execution_count": 36
        }
      ]
    },
    {
      "cell_type": "markdown",
      "metadata": {
        "id": "L-tsNiQLvIKu",
        "colab_type": "text"
      },
      "source": [
        "## 7. Renaming Columns"
      ]
    },
    {
      "cell_type": "markdown",
      "metadata": {
        "id": "ub3L8xjdvINf",
        "colab_type": "text"
      },
      "source": [
        "Now that we've converted our columns to numeric dtypes, the **final step is to rename the column**. \n",
        "\n",
        "This is the **last step** in the work flow diagram above, and an **optional** step, which can be **useful** if the non-digit values contain information that helps us understand the data.\n",
        "\n",
        "In our case, the quote characters we removed from the `screen_size` column denoted that the screen size was in inches.\n",
        "\n"
      ]
    },
    {
      "cell_type": "markdown",
      "metadata": {
        "id": "5YBOCGL7FLL8",
        "colab_type": "text"
      },
      "source": [
        "To stop us from losing information the helps us understand the data, we can use the `DataFrame.rename()` [method](http://pandas.pydata.org/pandas-docs/stable/generated/pandas.DataFrame.rename.html) to rename the column from `screen_size` to `screen_size_inches`.\n",
        "\n",
        "Below, we specify the `axis=1` parameter so pandas knows that we want to rename labels in the column axis:\n",
        "\n"
      ]
    },
    {
      "cell_type": "code",
      "metadata": {
        "id": "B0BQx-1fFWTe",
        "colab_type": "code",
        "colab": {
          "base_uri": "https://localhost:8080/",
          "height": 265
        },
        "outputId": "caa42981-af39-4383-9f99-0e6192c29005"
      },
      "source": [
        "laptops.rename({\"screen_size\": \"screen_size_inches\"}, axis=1, inplace=True)\n",
        "\n",
        "print(laptops.dtypes)"
      ],
      "execution_count": 37,
      "outputs": [
        {
          "output_type": "stream",
          "text": [
            "manufacturer           object\n",
            "model_name             object\n",
            "category               object\n",
            "screen_size_inches    float64\n",
            "screen                 object\n",
            "cpu                    object\n",
            "ram                     int64\n",
            "storage                object\n",
            "gpu                    object\n",
            "os                     object\n",
            "os_version             object\n",
            "weight                 object\n",
            "price_euros            object\n",
            "dtype: object\n"
          ],
          "name": "stdout"
        }
      ]
    },
    {
      "cell_type": "markdown",
      "metadata": {
        "id": "vUCbAu3sFadS",
        "colab_type": "text"
      },
      "source": [
        "Note that we can either use `inplace=True` or assign the result back to the dataframe - both will give us the same results.\n",
        "\n",
        "Let's rename the `ram` column next and analyze the results."
      ]
    },
    {
      "cell_type": "code",
      "metadata": {
        "id": "Y6i_1FueFfgO",
        "colab_type": "code",
        "colab": {}
      },
      "source": [
        "laptops.rename({\"ram\": \"ram_gb\"}, axis=1, inplace=True)"
      ],
      "execution_count": 38,
      "outputs": []
    },
    {
      "cell_type": "code",
      "metadata": {
        "id": "mhbUmwfrHDaO",
        "colab_type": "code",
        "colab": {
          "base_uri": "https://localhost:8080/",
          "height": 176
        },
        "outputId": "b39e868c-ed9d-499c-affa-34ffacec7084"
      },
      "source": [
        "ram_gb_desc = laptops[\"ram_gb\"].describe()\n",
        "\n",
        "print(ram_gb_desc)"
      ],
      "execution_count": 39,
      "outputs": [
        {
          "output_type": "stream",
          "text": [
            "count    1303.000000\n",
            "mean        8.382195\n",
            "std         5.084665\n",
            "min         2.000000\n",
            "25%         4.000000\n",
            "50%         8.000000\n",
            "75%         8.000000\n",
            "max        64.000000\n",
            "Name: ram_gb, dtype: float64\n"
          ],
          "name": "stdout"
        }
      ]
    },
    {
      "cell_type": "markdown",
      "metadata": {
        "id": "Z7JnctkJvIQa",
        "colab_type": "text"
      },
      "source": [
        "## 8. Extracting Values from Strings"
      ]
    },
    {
      "cell_type": "markdown",
      "metadata": {
        "id": "7rxZGEDuvITK",
        "colab_type": "text"
      },
      "source": [
        "Sometimes, it can be useful to extract non-numeric values from within strings. Let's look at the first five values from the `gpu` (graphics processing unit) column:\n",
        "\n"
      ]
    },
    {
      "cell_type": "code",
      "metadata": {
        "id": "9pRkG2jDT41D",
        "colab_type": "code",
        "colab": {
          "base_uri": "https://localhost:8080/",
          "height": 123
        },
        "outputId": "6d09230d-4aee-4927-86b2-3d4504f7c895"
      },
      "source": [
        "print(laptops[\"gpu\"].head())"
      ],
      "execution_count": 40,
      "outputs": [
        {
          "output_type": "stream",
          "text": [
            "0    Intel Iris Plus Graphics 640\n",
            "1          Intel HD Graphics 6000\n",
            "2           Intel HD Graphics 620\n",
            "3              AMD Radeon Pro 455\n",
            "4    Intel Iris Plus Graphics 650\n",
            "Name: gpu, dtype: object\n"
          ],
          "name": "stdout"
        }
      ]
    },
    {
      "cell_type": "markdown",
      "metadata": {
        "id": "NAMKecdWT7tc",
        "colab_type": "text"
      },
      "source": [
        "The information in this column seems to be a manufacturer (Intel, AMD) followed by a model name/number. Let's extract the manufacturer by itself so we can find the most common ones.\n",
        "\n",
        "Because each manufacturer is followed by a whitespace character, we can use the `Series.str.split()` [method](http://pandas.pydata.org/pandas-docs/stable/generated/pandas.Series.str.split.html) to extract this data:\n",
        "\n",
        "![alt text](https://s3.amazonaws.com/dq-content/293/str_split_2.svg)"
      ]
    },
    {
      "cell_type": "markdown",
      "metadata": {
        "id": "KsyljR2iUJQJ",
        "colab_type": "text"
      },
      "source": [
        "This method splits each string on the whitespace; the result is a series containing individual Python lists. Also note that we used parentheses to method chain over multiple lines, which makes our code easier to read.\n",
        "\n",
        "Just like with lists and ndarrays, we can use bracket notation to access the elements in each list in the series. With series, however, we use the `str` accessor followed by `[]` (brackets):\n",
        "\n"
      ]
    },
    {
      "cell_type": "code",
      "metadata": {
        "id": "mwMm4b2uUQ1F",
        "colab_type": "code",
        "colab": {
          "base_uri": "https://localhost:8080/",
          "height": 123
        },
        "outputId": "3bc1bd43-f837-4582-c4fb-0e49282f1a5e"
      },
      "source": [
        "print(laptops[\"gpu\"].head().str.split().str[0])"
      ],
      "execution_count": 41,
      "outputs": [
        {
          "output_type": "stream",
          "text": [
            "0    Intel\n",
            "1    Intel\n",
            "2    Intel\n",
            "3      AMD\n",
            "4    Intel\n",
            "Name: gpu, dtype: object\n"
          ],
          "name": "stdout"
        }
      ]
    },
    {
      "cell_type": "markdown",
      "metadata": {
        "id": "u-quC-SGUYCe",
        "colab_type": "text"
      },
      "source": [
        "Above, we used `0` to select the first element in each list. \n",
        "\n"
      ]
    },
    {
      "cell_type": "markdown",
      "metadata": {
        "id": "Y1YWL3eiVUWc",
        "colab_type": "text"
      },
      "source": [
        "Now let's extract the manufacturer name from the `gpu` column, and assigned it to a new column `gpu_manufacturer`:"
      ]
    },
    {
      "cell_type": "code",
      "metadata": {
        "id": "T7UzSxrkX3RA",
        "colab_type": "code",
        "colab": {}
      },
      "source": [
        "laptops[\"gpu_manufacturer\"] = (laptops[\"gpu\"]\n",
        "                                       .str.split()\n",
        "                                       .str[0]\n",
        "                              )"
      ],
      "execution_count": 43,
      "outputs": []
    },
    {
      "cell_type": "markdown",
      "metadata": {
        "id": "CW02oIloVWJ7",
        "colab_type": "text"
      },
      "source": [
        "Let's use this technique to extract the manufacturer from the `cpu` column as well. Here are the first 5 rows of the `cpu` column:"
      ]
    },
    {
      "cell_type": "code",
      "metadata": {
        "id": "Ir_lBLdTUimC",
        "colab_type": "code",
        "colab": {
          "base_uri": "https://localhost:8080/",
          "height": 123
        },
        "outputId": "a16661eb-a40c-4cf6-a399-6dda7aeca0fa"
      },
      "source": [
        "print(laptops[\"cpu\"].head())"
      ],
      "execution_count": 42,
      "outputs": [
        {
          "output_type": "stream",
          "text": [
            "0          Intel Core i5 2.3GHz\n",
            "1          Intel Core i5 1.8GHz\n",
            "2    Intel Core i5 7200U 2.5GHz\n",
            "3          Intel Core i7 2.7GHz\n",
            "4          Intel Core i5 3.1GHz\n",
            "Name: cpu, dtype: object\n"
          ],
          "name": "stdout"
        }
      ]
    },
    {
      "cell_type": "markdown",
      "metadata": {
        "id": "7uH3a_wIUnDF",
        "colab_type": "text"
      },
      "source": [
        "**Instructions:**\n",
        "\n",
        "In the example code, we have extracted the manufacturer name from the `gpu` column, and assigned it to a new column `gpu_manufacturer`.\n",
        "\n",
        "1. Extract the manufacturer name from the `cpu` column. Assign it to a new column `cpu_manufacturer`."
      ]
    },
    {
      "cell_type": "code",
      "metadata": {
        "id": "qUPCoYQzU5ll",
        "colab_type": "code",
        "colab": {}
      },
      "source": [
        "laptops[\"cpu_manufacturer\"] = (laptops[\"cpu\"]\n",
        "                                        .str.split()\n",
        "                                        .str[0]\n",
        "                              )"
      ],
      "execution_count": 44,
      "outputs": []
    },
    {
      "cell_type": "markdown",
      "metadata": {
        "id": "glk9WbBeYHVV",
        "colab_type": "text"
      },
      "source": [
        "2. Use the `Series.value_counts()` method to find the counts of each manufacturer in `cpu_manufacturer`. Assign the result to `cpu_manufacturer_counts`."
      ]
    },
    {
      "cell_type": "code",
      "metadata": {
        "id": "WvkC4AQNYHwY",
        "colab_type": "code",
        "colab": {
          "base_uri": "https://localhost:8080/",
          "height": 87
        },
        "outputId": "f2269ec3-eae5-427c-b91b-4240d8a6264a"
      },
      "source": [
        "cpu_manufacturer_counts = laptops[\"cpu_manufacturer\"].value_counts()\n",
        "\n",
        "print(cpu_manufacturer_counts)"
      ],
      "execution_count": 45,
      "outputs": [
        {
          "output_type": "stream",
          "text": [
            "Intel      1240\n",
            "AMD          62\n",
            "Samsung       1\n",
            "Name: cpu_manufacturer, dtype: int64\n"
          ],
          "name": "stdout"
        }
      ]
    },
    {
      "cell_type": "markdown",
      "metadata": {
        "id": "gPjNXuxhvIWP",
        "colab_type": "text"
      },
      "source": [
        "## 9. Correcting Bad Values"
      ]
    },
    {
      "cell_type": "markdown",
      "metadata": {
        "id": "QCpmMSicvIbL",
        "colab_type": "text"
      },
      "source": [
        "If your data has been scraped from a webpage or if there was manual data entry involved at some point, you may end up with inconsistent values. Let's look at an example from our `os` column:"
      ]
    },
    {
      "cell_type": "code",
      "metadata": {
        "id": "-esZIufIgbvU",
        "colab_type": "code",
        "colab": {
          "base_uri": "https://localhost:8080/",
          "height": 158
        },
        "outputId": "0ef673fb-948f-4aa0-fab9-a77533d139ed"
      },
      "source": [
        "print(laptops[\"os\"].value_counts())"
      ],
      "execution_count": 46,
      "outputs": [
        {
          "output_type": "stream",
          "text": [
            "Windows      1125\n",
            "No OS          66\n",
            "Linux          62\n",
            "Chrome OS      27\n",
            "macOS          13\n",
            "Mac OS          8\n",
            "Android         2\n",
            "Name: os, dtype: int64\n"
          ],
          "name": "stdout"
        }
      ]
    },
    {
      "cell_type": "markdown",
      "metadata": {
        "id": "WKzJ79VRgnGf",
        "colab_type": "text"
      },
      "source": [
        "We can see that there are two variations of the Apple operating system — macOS — in our data set: `Mac OS` and `macOS`. One way we can fix this is with the `Series.map()` method. The `Series.map()` method is ideal when we want to change multiple values in a column, but we'll use it now as an opportunity to learn how the method works."
      ]
    },
    {
      "cell_type": "markdown",
      "metadata": {
        "id": "iWTOhqiqhYMb",
        "colab_type": "text"
      },
      "source": [
        "The most common way to use `Series.map()` is with a dictionary. Let's look at an example using a series of misspelled fruit:\n",
        "\n",
        "```\n",
        "print(s)\n",
        "```\n",
        "\n",
        "\n",
        "```\n",
        "0       pair\n",
        "1     oranje\n",
        "2    bananna\n",
        "3     oranje\n",
        "4     oranje\n",
        "5     oranje\n",
        "dtype: object\n",
        "```\n",
        "We'll create a dictionary called `corrections` and pass that dictionary as an argument to `Series.map()`:\n",
        "\n",
        "\n",
        "```\n",
        "corrections = {\n",
        "    \"pair\": \"pear\",\n",
        "    \"oranje\": \"orange\",\n",
        "    \"bananna\": \"banana\"\n",
        "}\n",
        "s = s.map(corrections)\n",
        "print(s)\n",
        "```\n",
        "\n",
        "\n",
        "```\n",
        "0       pear\n",
        "1     orange\n",
        "2     banana\n",
        "3     orange\n",
        "4     orange\n",
        "5     orange\n",
        "dtype: object\n",
        "```"
      ]
    },
    {
      "cell_type": "markdown",
      "metadata": {
        "id": "lE6oRo_vhZx2",
        "colab_type": "text"
      },
      "source": [
        "We can see that each of our corrections were made across our series. One important thing to remember with `Series.map()` is that if a value from your series doesn't exist as a key in your dictionary, it will convert that value to `NaN`."
      ]
    },
    {
      "cell_type": "markdown",
      "metadata": {
        "id": "pJrv6jzchrYn",
        "colab_type": "text"
      },
      "source": [
        "Let's use Series.map() to clean the values in the os column."
      ]
    },
    {
      "cell_type": "code",
      "metadata": {
        "id": "x92TJe-dhy90",
        "colab_type": "code",
        "colab": {
          "base_uri": "https://localhost:8080/",
          "height": 123
        },
        "outputId": "3882a624-6cd9-4e74-e5ab-d4ed7fc8e03f"
      },
      "source": [
        "mapping_dict = {\n",
        "    'Android': 'Android',\n",
        "    'Chrome OS': 'Chrome OS',\n",
        "    'Linux': 'Linux',\n",
        "    'Mac OS': 'macOS',\n",
        "    'No OS': 'No OS',\n",
        "    'Windows': 'Windows',\n",
        "    'macOS': 'macOS'\n",
        "}\n",
        "\n",
        "laptops[\"os\"] = laptops[\"os\"].map(mapping_dict)\n",
        "\n",
        "print(laptops[\"os\"].head())"
      ],
      "execution_count": 48,
      "outputs": [
        {
          "output_type": "stream",
          "text": [
            "0    macOS\n",
            "1    macOS\n",
            "2    No OS\n",
            "3    macOS\n",
            "4    macOS\n",
            "Name: os, dtype: object\n"
          ],
          "name": "stdout"
        }
      ]
    },
    {
      "cell_type": "markdown",
      "metadata": {
        "id": "9vz2BrWXvIeU",
        "colab_type": "text"
      },
      "source": [
        "## 10. Dropping Missing Values"
      ]
    },
    {
      "cell_type": "markdown",
      "metadata": {
        "id": "KuXR4hjhvpl9",
        "colab_type": "text"
      },
      "source": [
        "In previous missions, we've talked briefly about missing values and how both NumPy and pandas represent these as null values. In pandas, null values will be indicated by either `NaN` or `None`.\n",
        "\n",
        "Recall that we can use the `DataFrame.isnull()` [method](http://pandas.pydata.org/pandas-docs/stable/generated/pandas.DataFrame.isnull.html) to identify missing values, which returns a boolean dataframe. We can then use the `DataFrame.sum()` method to give us a count of the `True` values for each column:\n",
        "\n"
      ]
    },
    {
      "cell_type": "code",
      "metadata": {
        "id": "0RNjADdzj5e9",
        "colab_type": "code",
        "colab": {
          "base_uri": "https://localhost:8080/",
          "height": 301
        },
        "outputId": "1fb7990a-572c-4a84-ae5e-fca6f3a667b1"
      },
      "source": [
        "print(laptops.isnull().sum())"
      ],
      "execution_count": 49,
      "outputs": [
        {
          "output_type": "stream",
          "text": [
            "manufacturer            0\n",
            "model_name              0\n",
            "category                0\n",
            "screen_size_inches      0\n",
            "screen                  0\n",
            "cpu                     0\n",
            "ram_gb                  0\n",
            "storage                 0\n",
            "gpu                     0\n",
            "os                      0\n",
            "os_version            170\n",
            "weight                  0\n",
            "price_euros             0\n",
            "gpu_manufacturer        0\n",
            "cpu_manufacturer        0\n",
            "dtype: int64\n"
          ],
          "name": "stdout"
        }
      ]
    },
    {
      "cell_type": "markdown",
      "metadata": {
        "id": "u0wogsWxj73Q",
        "colab_type": "text"
      },
      "source": [
        "It's now clear that we have only one column with null values, `os_version`, which has 170 missing values.\n",
        "\n",
        "There are a few options for handling missing values:\n",
        "\n",
        "* Remove any rows that have missing values.\n",
        "* Remove any columns that have missing values.\n",
        "* Fill the missing values with some other value.\n",
        "* Leave the missing values as is.\n",
        "\n",
        "The first two options are often used to prepare data for machine learning algorithms, which are unable to be used with data that includes null values. We can use the `DataFrame.dropna()` [method](http://pandas.pydata.org/pandas-docs/stable/generated/pandas.DataFrame.dropna.html) to remove or drop rows and columns with null values."
      ]
    },
    {
      "cell_type": "markdown",
      "metadata": {
        "id": "Q4B1jIrlkZMq",
        "colab_type": "text"
      },
      "source": [
        "The `DataFrame.dropna()` method accepts an `axis` parameter, which indicates whether we want to drop along the column or index axis. Let's look at an example:\n",
        "\n",
        "![alt text](https://s3.amazonaws.com/dq-content/293/dropna_1.svg)\n",
        "\n",
        "The default value for the `axis` parameter is `0`, so `df.dropna()` returns an identical result to `df.dropna(axis=0)`:\n",
        "\n",
        "![alt text](https://s3.amazonaws.com/dq-content/293/dropna_2.svg)\n",
        "\n",
        "The rows with labels `x` and `z` contain null values, so those rows are dropped. Let's look at what happens when we use `axis=1` to specify the column axis:\n",
        "![alt text](https://s3.amazonaws.com/dq-content/293/dropna_3.svg)\n",
        "\n",
        "Only the column with label `C` contains null values, so, in this case, just one column is removed."
      ]
    },
    {
      "cell_type": "markdown",
      "metadata": {
        "id": "9iC5UiFIllLV",
        "colab_type": "text"
      },
      "source": [
        "Let's practice using `DataFrame.dropna()` to remove rows and columns:\n",
        "\n",
        "1. Use DataFrame.dropna() to remove any rows from the laptops dataframe that have null values. Assign the result to laptops_no_null_rows.\n",
        "2. Use DataFrame.dropna() to remove any columns from the laptops dataframe that have null values. Assign the result to laptops_no_null_cols."
      ]
    },
    {
      "cell_type": "code",
      "metadata": {
        "id": "-Cdu8OLmlmN6",
        "colab_type": "code",
        "colab": {}
      },
      "source": [
        "laptops_no_null_rows = laptops.dropna(axis=0)\n",
        "\n",
        "laptops_no_null_cols = laptops.dropna(axis=1)"
      ],
      "execution_count": 50,
      "outputs": []
    },
    {
      "cell_type": "markdown",
      "metadata": {
        "id": "rgWpO36lvpyx",
        "colab_type": "text"
      },
      "source": [
        "## 11. Filling Missing Values"
      ]
    },
    {
      "cell_type": "markdown",
      "metadata": {
        "id": "ZscY-ysivp1l",
        "colab_type": "text"
      },
      "source": [
        "While dropping rows or columns is the easiest approach to deal with missing values, it may not always be the *best* approach. For example, removing a disproportionate amount of one manufacturer's laptops could change our analysis.\n",
        "\n",
        "Because of this, it's a good idea to explore the missing values in the `os_version` column before making a decision. We can use `Series.value_counts()` to explore all of the values in the column, but we'll use a parameter we haven't seen before:\n",
        "\n"
      ]
    },
    {
      "cell_type": "code",
      "metadata": {
        "id": "I-8bkODipCJR",
        "colab_type": "code",
        "colab": {
          "base_uri": "https://localhost:8080/",
          "height": 123
        },
        "outputId": "a0841122-3c11-4320-afb9-750417fd1ced"
      },
      "source": [
        "print(laptops[\"os_version\"].value_counts(dropna=False))"
      ],
      "execution_count": 51,
      "outputs": [
        {
          "output_type": "stream",
          "text": [
            "10      1072\n",
            "NaN      170\n",
            "7         45\n",
            "10 S       8\n",
            "X          8\n",
            "Name: os_version, dtype: int64\n"
          ],
          "name": "stdout"
        }
      ]
    },
    {
      "cell_type": "markdown",
      "metadata": {
        "id": "oNoIvhJapHaY",
        "colab_type": "text"
      },
      "source": [
        "Because we set the `dropna` parameter to `False`, the result includes null values. We can see that the majority of values in the column are `10` and missing values are the next most common.\n",
        "\n",
        "Let's also explore the `os` column, since it's is closely related to the `os_version` column. We'll only look at rows in which the `os_version` is missing:\n",
        "\n"
      ]
    },
    {
      "cell_type": "code",
      "metadata": {
        "id": "ro7HodCSpaW-",
        "colab_type": "code",
        "colab": {
          "base_uri": "https://localhost:8080/",
          "height": 123
        },
        "outputId": "f0e27594-22fd-494d-b4b2-6a3d754b8d5f"
      },
      "source": [
        "os_with_null_v = laptops.loc[laptops[\"os_version\"].isnull(),\"os\"]\n",
        "\n",
        "print(os_with_null_v.value_counts())"
      ],
      "execution_count": 52,
      "outputs": [
        {
          "output_type": "stream",
          "text": [
            "No OS        66\n",
            "Linux        62\n",
            "Chrome OS    27\n",
            "macOS        13\n",
            "Android       2\n",
            "Name: os, dtype: int64\n"
          ],
          "name": "stdout"
        }
      ]
    },
    {
      "cell_type": "markdown",
      "metadata": {
        "id": "2SB0caZ5p6CJ",
        "colab_type": "text"
      },
      "source": [
        "Immediately, we can observe a few things:\n",
        "\n",
        "* The most frequent value is \"No OS\". This is important to note because if there is no os, there shouldn't be a version defined in the `os_version` column.\n",
        "* Thirteen of the laptops that come with macOS do not specify the version. We can use our knowledge of MacOS to confirm that `os_version` should be equal to X.\n",
        "\n",
        "In both of these cases, we can fill the missing values to make our data more correct. For the rest of the values, it's probably best to leave them as missing so we don't remove important values."
      ]
    },
    {
      "cell_type": "markdown",
      "metadata": {
        "id": "N0TyKzPpqJcy",
        "colab_type": "text"
      },
      "source": [
        "We can use assignment with a boolean comparison to perform this replacement, like below:"
      ]
    },
    {
      "cell_type": "code",
      "metadata": {
        "id": "cNKxOYtqqfOG",
        "colab_type": "code",
        "colab": {}
      },
      "source": [
        "laptops.loc[laptops[\"os\"] == \"macOS\", \"os_version\"] = \"X\""
      ],
      "execution_count": 53,
      "outputs": []
    },
    {
      "cell_type": "markdown",
      "metadata": {
        "id": "qh-pIk3Kqzk1",
        "colab_type": "text"
      },
      "source": [
        "For rows with `No OS` values, let's replace the missing value in the `os_version` column with the value `Version Unknown`.\n",
        "\n",
        "Instructions:\n",
        "\n",
        "Use a boolean array to identify rows that have the value No OS for the os column. Then, use assignment to assign the value Version Unknown to the os_version column for those rows.\n"
      ]
    },
    {
      "cell_type": "code",
      "metadata": {
        "id": "t-qhRYDsxf3W",
        "colab_type": "code",
        "colab": {}
      },
      "source": [
        "laptops.loc[laptops[\"os\"] == \"No OS\", \"os_version\"] = \"Version Unknown\""
      ],
      "execution_count": 54,
      "outputs": []
    },
    {
      "cell_type": "markdown",
      "metadata": {
        "id": "cwapaqGivp4U",
        "colab_type": "text"
      },
      "source": [
        "## 12. Challenge: Clean a String Column"
      ]
    },
    {
      "cell_type": "markdown",
      "metadata": {
        "id": "ssB1Nx48vp7a",
        "colab_type": "text"
      },
      "source": [
        "In this challenge, we'll clean the `weight` column. Let's look at a sample of the data in that column:"
      ]
    },
    {
      "cell_type": "code",
      "metadata": {
        "id": "ZGcfle1-y30I",
        "colab_type": "code",
        "colab": {
          "base_uri": "https://localhost:8080/",
          "height": 123
        },
        "outputId": "c211b72b-4c0f-4f36-de2b-512bf393f348"
      },
      "source": [
        "print(laptops[\"weight\"].head())"
      ],
      "execution_count": 55,
      "outputs": [
        {
          "output_type": "stream",
          "text": [
            "0    1.37kg\n",
            "1    1.34kg\n",
            "2    1.86kg\n",
            "3    1.83kg\n",
            "4    1.37kg\n",
            "Name: weight, dtype: object\n"
          ],
          "name": "stdout"
        }
      ]
    },
    {
      "cell_type": "markdown",
      "metadata": {
        "id": "lEYSE_80vp-f",
        "colab_type": "text"
      },
      "source": [
        "Your challenge is to convert the values in this column to numeric values. As a reminder, here's the data cleaning workflow you can use:\n",
        "![alt text](https://s3.amazonaws.com/dq-content/293/cleaning_workflow.svg)\n",
        "\n",
        "While it appears that the `weight` column may just need the `kg` characters removed from the end of each string, there is one special case - one of the values ends with `kgs`, so you'll have to remove both `kg` and `kgs` characters."
      ]
    },
    {
      "cell_type": "markdown",
      "metadata": {
        "id": "um71sdFVvqFp",
        "colab_type": "text"
      },
      "source": [
        "In the last step of this challenge, we'll also ask you to use the `DataFrame.to_csv()` [method](http://pandas.pydata.org/pandas-docs/stable/generated/pandas.DataFrame.to_csv.html) to save the cleaned data to a CSV file. It's a good idea to save a CSV when you finish cleaning in case you wish to do analysis later.\n",
        "\n",
        "We can use the following syntax to save a CSV:\n",
        "\n",
        "```\n",
        "df.to_csv('filename.csv', index=False)\n",
        "```\n",
        "By default, pandas will save the index labels as a column in the CSV file. Our data set has integer labels that don't contain any data, so we don't need to save the index.\n",
        "\n"
      ]
    },
    {
      "cell_type": "markdown",
      "metadata": {
        "id": "u_C98-lFzius",
        "colab_type": "text"
      },
      "source": [
        "Instructions:\n",
        "\n",
        "1. Convert the values in the `weight` column to numeric values.\n",
        "2. Rename the `weight` column to `weight_kg`.\n",
        "3. Use the `DataFrame.to_csv()` method to save the laptops dataframe to a CSV file `laptops_cleaned.csv` without index labels."
      ]
    },
    {
      "cell_type": "code",
      "metadata": {
        "id": "2eFEHrl2zxE8",
        "colab_type": "code",
        "colab": {}
      },
      "source": [
        "laptops[\"weight\"] = laptops[\"weight\"].str.replace(\"kgs\",\"\").str.replace(\"kg\",\"\").astype(float)\n",
        "\n",
        "laptops.rename({\"weight\": \"weight_kg\"}, axis=1, inplace=True)\n",
        "\n",
        "laptops.to_csv('laptops_cleaned.csv',index=False)"
      ],
      "execution_count": 56,
      "outputs": []
    },
    {
      "cell_type": "markdown",
      "metadata": {
        "id": "-dQ75HZN7NB5",
        "colab_type": "text"
      },
      "source": [
        "Note: a for-loop is not necessary, and the .astype(float) is added to the end. Here is the code again:\n",
        "```\n",
        "laptops[\"weight\"] = \n",
        "laptops[\"weight\"].str.replace(\"kgs\",\"\")\n",
        "                 .str.replace(\"kg\",\"\")\n",
        "                 .astype(float)\n",
        "\n",
        "```\n"
      ]
    }
  ]
}