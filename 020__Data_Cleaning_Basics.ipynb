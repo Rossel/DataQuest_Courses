{
  "nbformat": 4,
  "nbformat_minor": 0,
  "metadata": {
    "colab": {
      "name": "020__Data_Cleaning_Basics.ipynb",
      "provenance": [],
      "collapsed_sections": [],
      "authorship_tag": "ABX9TyM0fuOIQXtze1jg0JMLAPnu",
      "include_colab_link": true
    },
    "kernelspec": {
      "name": "python3",
      "display_name": "Python 3"
    }
  },
  "cells": [
    {
      "cell_type": "markdown",
      "metadata": {
        "id": "view-in-github",
        "colab_type": "text"
      },
      "source": [
        "<a href=\"https://colab.research.google.com/github/dbro-dev/DataQuest_Courses/blob/master/020__Data_Cleaning_Basics.ipynb\" target=\"_parent\"><img src=\"https://colab.research.google.com/assets/colab-badge.svg\" alt=\"Open In Colab\"/></a>"
      ]
    },
    {
      "cell_type": "markdown",
      "metadata": {
        "id": "-GS9B64fu9dB",
        "colab_type": "text"
      },
      "source": [
        "# MISSION 6: Data Cleaning Basics"
      ]
    },
    {
      "cell_type": "markdown",
      "metadata": {
        "id": "IiC8aSTpvLQO",
        "colab_type": "text"
      },
      "source": [
        "In this mission, we will learn techniques to use when performing data cleaning to prepare a messy data set."
      ]
    },
    {
      "cell_type": "markdown",
      "metadata": {
        "id": "bFhAfuRXu_S4",
        "colab_type": "text"
      },
      "source": [
        "## 1. Reading CSV Files with Encodings"
      ]
    },
    {
      "cell_type": "markdown",
      "metadata": {
        "id": "Mv48G5YGvF5J",
        "colab_type": "text"
      },
      "source": [
        "In this mission, we'll learn the basics of data cleaning with pandas as we work with `laptops.csv`, a CSV file containing information about 1,300 laptop computers.\n",
        "\n",
        "We can start by reading the data into pandas. Let's look at what happens when we use the `pandas.read_csv()` [function](http://pandas.pydata.org/pandas-docs/stable/generated/pandas.read_csv.html) with only the filename argument:\n",
        "\n",
        "\n",
        "```\n",
        "laptops = pd.read_csv(\"laptops.csv\")\n",
        "```\n",
        "\n",
        "We get an error! This error references UTF-8, which is a type of encoding. Computers, at their lowest levels, can only understand binary - `0` and `1` - and encodings are systems for representing characters in binary.\n",
        "\n",
        "Something we can do if our file has an unknown encoding is to **try the most common encodings**:\n",
        "\n",
        "* UTF-8\n",
        "* Latin-1 (also known as ISO-8859-1)\n",
        "* Windows-1251\n",
        "\n",
        "The `pandas.read_csv()` function has an `encoding` argument we can use to specify an encoding:\n",
        "\n",
        "\n",
        "\n",
        "```\n",
        "df = pd.read_csv(\"filename.csv\", encoding=\"some_encoding\")\n",
        "```\n",
        "Since the `pandas.read_csv()` function already tried to read in the file with UTF-8 and failed, we know the file's not encoded with that format. Let's try the next most popular encoding in the exercise.\n",
        "\n"
      ]
    },
    {
      "cell_type": "markdown",
      "metadata": {
        "id": "_oXrrx532gJB",
        "colab_type": "text"
      },
      "source": [
        "First, let's import `laptops.csv` into this Colaboratory Notebook:"
      ]
    },
    {
      "cell_type": "code",
      "metadata": {
        "id": "7zbhVrbR2n44",
        "colab_type": "code",
        "colab": {}
      },
      "source": [
        "# Code to read csv file into Colaboratory:\n",
        "!pip install -U -q PyDrive\n",
        "from pydrive.auth import GoogleAuth\n",
        "from pydrive.drive import GoogleDrive\n",
        "from google.colab import auth\n",
        "from oauth2client.client import GoogleCredentials\n",
        "# Authenticate and create the PyDrive client.\n",
        "auth.authenticate_user()\n",
        "gauth = GoogleAuth()\n",
        "gauth.credentials = GoogleCredentials.get_application_default()\n",
        "drive = GoogleDrive(gauth)"
      ],
      "execution_count": 1,
      "outputs": []
    },
    {
      "cell_type": "code",
      "metadata": {
        "id": "mQVsg_sh2o4j",
        "colab_type": "code",
        "colab": {}
      },
      "source": [
        "# Once you have completed verification, go to the CSV file in Google Drive, right-click on it and select “Get shareable link”, and cut out the unique id in the link.\n",
        "id = \"1VjDliDrTkzvTvjz6uRnjt7Z72uv6TI6s\""
      ],
      "execution_count": 2,
      "outputs": []
    },
    {
      "cell_type": "code",
      "metadata": {
        "id": "qgFvCD-32wdh",
        "colab_type": "code",
        "colab": {}
      },
      "source": [
        "# Download the dataset\n",
        "downloaded = drive.CreateFile({'id':id}) \n",
        "downloaded.GetContentFile('laptops.csv')"
      ],
      "execution_count": 3,
      "outputs": []
    },
    {
      "cell_type": "markdown",
      "metadata": {
        "id": "LxEEtEcO1OWE",
        "colab_type": "text"
      },
      "source": [
        "Instructions:\n",
        "\n",
        "\n",
        "1. Import the pandas library\n",
        "2. Use the `pandas.read_csv()` function to read the `laptops.csv`file into a dataframe `laptops`.\n",
        "  * Specify the encoding using the string `\"Latin-1\"`.\n",
        "3. Use the `DataFrame.info()` method to display information about the `laptops` dataframe.\n"
      ]
    },
    {
      "cell_type": "code",
      "metadata": {
        "id": "JbX6uOxI1PGw",
        "colab_type": "code",
        "colab": {
          "base_uri": "https://localhost:8080/",
          "height": 372
        },
        "outputId": "628ccbbd-9a9c-48d5-fd76-99b5ab742188"
      },
      "source": [
        "import pandas as pd\n",
        "laptops = pd.read_csv(\"laptops.csv\", encoding=\"Latin-1\")\n",
        "\n",
        "laptops.info()"
      ],
      "execution_count": 4,
      "outputs": [
        {
          "output_type": "stream",
          "text": [
            "<class 'pandas.core.frame.DataFrame'>\n",
            "RangeIndex: 1303 entries, 0 to 1302\n",
            "Data columns (total 13 columns):\n",
            " #   Column                    Non-Null Count  Dtype \n",
            "---  ------                    --------------  ----- \n",
            " 0   Manufacturer              1303 non-null   object\n",
            " 1   Model Name                1303 non-null   object\n",
            " 2   Category                  1303 non-null   object\n",
            " 3   Screen Size               1303 non-null   object\n",
            " 4   Screen                    1303 non-null   object\n",
            " 5   CPU                       1303 non-null   object\n",
            " 6   RAM                       1303 non-null   object\n",
            " 7    Storage                  1303 non-null   object\n",
            " 8   GPU                       1303 non-null   object\n",
            " 9   Operating System          1303 non-null   object\n",
            " 10  Operating System Version  1133 non-null   object\n",
            " 11  Weight                    1303 non-null   object\n",
            " 12  Price (Euros)             1303 non-null   object\n",
            "dtypes: object(13)\n",
            "memory usage: 132.5+ KB\n"
          ],
          "name": "stdout"
        }
      ]
    },
    {
      "cell_type": "markdown",
      "metadata": {
        "id": "Q_SshlK-vGXL",
        "colab_type": "text"
      },
      "source": [
        "## 2. Cleaning Column Names"
      ]
    },
    {
      "cell_type": "markdown",
      "metadata": {
        "id": "WRynvU8ovGyl",
        "colab_type": "text"
      },
      "source": [
        "With the `DataFrame.info()` used above, we can see that every column is represented as the `object` type, indicating that they are represented by strings, not numbers. Also, one of the columns, `Operating System Version`, has null values. \n",
        "\n",
        "The column labels have a variety of **upper and lowercase letters**, as well as **spaces and parentheses**, which will make them harder to work with and read. One noticeable issue is that the ` Storage\"` column name has a space in front of it. These quirks with column labels can sometimes be hard to spot, so removing extra whitespaces from all column names will save us more work in the long run.\n",
        "\n",
        "We can access the column axis of a dataframe using the `DataFrame.columns` attribute. This returns an index object — a special type of NumPy ndarray — with the labels of each column:"
      ]
    },
    {
      "cell_type": "code",
      "metadata": {
        "id": "jdetHV2L8AyJ",
        "colab_type": "code",
        "colab": {
          "base_uri": "https://localhost:8080/",
          "height": 87
        },
        "outputId": "1b3f68e0-3862-41ca-d6e2-e15b509cf64c"
      },
      "source": [
        "print(laptops.columns)"
      ],
      "execution_count": 6,
      "outputs": [
        {
          "output_type": "stream",
          "text": [
            "Index(['Manufacturer', 'Model Name', 'Category', 'Screen Size', 'Screen',\n",
            "       'CPU', 'RAM', ' Storage', 'GPU', 'Operating System',\n",
            "       'Operating System Version', 'Weight', 'Price (Euros)'],\n",
            "      dtype='object')\n"
          ],
          "name": "stdout"
        }
      ]
    },
    {
      "cell_type": "markdown",
      "metadata": {
        "id": "6BLsSZL98H4o",
        "colab_type": "text"
      },
      "source": [
        "Not only can we use the attribute to view the column labels, we can also assign new labels to the attribute:\n",
        "\n",
        "\n",
        "\n",
        "```\n",
        "laptops_test = laptops.copy()\n",
        "laptops_test.columns = ['A', 'B', 'C', 'D', 'E', 'F', 'G', 'H', 'I', 'J', 'K', 'L', 'M']\n",
        "\n",
        "print(laptops_test.columns)\n",
        "```\n",
        "\n",
        "\n",
        "```\n",
        "Index(['A', 'B', 'C', 'D', 'E', 'F', 'G', 'H', 'I', 'J', 'K', 'L', 'M'], dtype='object')\n",
        "```\n",
        "Next, let's use the `DataFrame.columns` attribute to remove whitespaces from the column names.\n",
        "\n"
      ]
    },
    {
      "cell_type": "code",
      "metadata": {
        "id": "jPH7BQ5Q_Oia",
        "colab_type": "code",
        "colab": {
          "base_uri": "https://localhost:8080/",
          "height": 87
        },
        "outputId": "b08b1175-0631-4423-9d9f-ed3555c43644"
      },
      "source": [
        "new_columns = []\n",
        "\n",
        "for i in laptops.columns:\n",
        "    stripped = i.strip(\" \")\n",
        "    new_columns.append(stripped)\n",
        "    \n",
        "laptops.columns = new_columns\n",
        "\n",
        "print(laptops.columns)"
      ],
      "execution_count": 7,
      "outputs": [
        {
          "output_type": "stream",
          "text": [
            "Index(['Manufacturer', 'Model Name', 'Category', 'Screen Size', 'Screen',\n",
            "       'CPU', 'RAM', 'Storage', 'GPU', 'Operating System',\n",
            "       'Operating System Version', 'Weight', 'Price (Euros)'],\n",
            "      dtype='object')\n"
          ],
          "name": "stdout"
        }
      ]
    },
    {
      "cell_type": "markdown",
      "metadata": {
        "id": "W11qopGUvHPP",
        "colab_type": "text"
      },
      "source": [
        "## 3. Cleaning Column Names Continued"
      ]
    },
    {
      "cell_type": "markdown",
      "metadata": {
        "id": "rSsRjAdjvHxM",
        "colab_type": "text"
      },
      "source": [
        "he column labels still have a variety of upper and lowercase letters, as well as parentheses, which will make them harder to work with and read. Let's finish cleaning our column labels by:\n",
        "\n",
        "* Replacing spaces with underscores.\n",
        "* Removing special characters.\n",
        "* Making all labels lowercase.\n",
        "* Shortening any long column names.\n",
        "\n",
        "We can create a function that uses [Python string methods](https://docs.python.org/3/library/stdtypes.html#string-methods) to clean our column labels, and then again use a loop to apply that function to each label. Let's look at an example:\n",
        "\n",
        "\n",
        "\n",
        "```\n",
        "def clean_col(col):\n",
        "    col = col.strip()\n",
        "    col = col.replace(\"(\",\"\")\n",
        "    col = col.replace(\")\",\"\")\n",
        "    col = col.lower()\n",
        "    return col\n",
        "\n",
        "new_columns = []\n",
        "for c in laptops.columns:\n",
        "    clean_c = clean_col(c)\n",
        "    new_columns.append(clean_c)\n",
        "\n",
        "laptops.columns = new_columns\n",
        "print(laptops.columns)\n",
        "```\n",
        "\n",
        "\n",
        "\n",
        "```\n",
        "Index(['manufacturer', 'model name', 'category', 'screen size', 'screen',\n",
        "       'cpu', 'ram', 'storage', 'gpu', 'operating system',\n",
        "       'operating system version', 'weight', 'price euros'],\n",
        "      dtype='object')\n",
        "```\n",
        "\n",
        "\n",
        "\n",
        "Our code:\n",
        "\n",
        "* Defined a function, which:\n",
        "  * Used the `str.strip()` [method](https://docs.python.org/3.6/library/stdtypes.html#str.strip) to remove whitespace from the start and end of the string.\n",
        "  * Used the `str.replace()` [method](https://docs.python.org/3.6/library/stdtypes.html#str.replace) to remove parentheses from the string.\n",
        "  * Used the `str.lower()` [method](https://docs.python.org/3.6/library/stdtypes.html#str.lower) to make the string lowercase.\n",
        "  * Returns the modified string.\n",
        "* Used a loop to apply the function to each item in the index object and assign it back to the `DataFrame.columns` attribute.\n",
        "* Printed the new values for the `DataFrame.columns` attribute.\n",
        "\n",
        "Let's use this technique to clean the column labels in our dataframe, adding a few extra cleaning 'chores' along the way."
      ]
    },
    {
      "cell_type": "markdown",
      "metadata": {
        "id": "SY9YXuLNE-UY",
        "colab_type": "text"
      },
      "source": [
        "\n",
        "1. Define a function, which accepts a string argument, and:\n",
        "  * Removes any whitespace from the start and end of the string.\n",
        "  * Replaces the substring `Operating System` with the abbreviation `os`.\n",
        "  * Replaces all spaces with underscores.\n",
        "  * Removes parentheses from the string.\n",
        "  * Makes the entire string lowercase.\n",
        "  * Returns the modified string.\n",
        "2. Use a loop to apply the function to each item in the `DataFrame.columns` attribute for the `laptops` dataframe. Assign the result back to the `DataFrame.columns` attribute.\n"
      ]
    },
    {
      "cell_type": "code",
      "metadata": {
        "id": "aT5C_KpAE-15",
        "colab_type": "code",
        "colab": {
          "base_uri": "https://localhost:8080/",
          "height": 87
        },
        "outputId": "3f2a051c-5ad5-4dbc-e861-a82e55bde5aa"
      },
      "source": [
        "def clean_col(col):\n",
        "    col = col.strip()\n",
        "    col = col.replace(\"Operating System\",\"os\")\n",
        "    col = col.replace(\" \",\"_\")\n",
        "    col = col.replace(\"(\",\"\")\n",
        "    col = col.replace(\")\",\"\")\n",
        "    col = col.lower()\n",
        "    return col\n",
        "\n",
        "columns_clean = []\n",
        "\n",
        "for i in laptops.columns:\n",
        "    col = clean_col(i)\n",
        "    columns_clean.append(col)\n",
        "    \n",
        "laptops.columns = columns_clean\n",
        "\n",
        "print(laptops.columns)"
      ],
      "execution_count": 8,
      "outputs": [
        {
          "output_type": "stream",
          "text": [
            "Index(['manufacturer', 'model_name', 'category', 'screen_size', 'screen',\n",
            "       'cpu', 'ram', 'storage', 'gpu', 'os', 'os_version', 'weight',\n",
            "       'price_euros'],\n",
            "      dtype='object')\n"
          ],
          "name": "stdout"
        }
      ]
    },
    {
      "cell_type": "markdown",
      "metadata": {
        "id": "7xRJLThfvH5R",
        "colab_type": "text"
      },
      "source": [
        "## 4. Converting String Columns to Numeric"
      ]
    },
    {
      "cell_type": "markdown",
      "metadata": {
        "id": "WvTl7_zfvH8l",
        "colab_type": "text"
      },
      "source": [
        "We observed earlier that all 13 columns have the `object` dtype, meaning they're stored as strings. Let's look at the first few rows of some of our columns:"
      ]
    },
    {
      "cell_type": "code",
      "metadata": {
        "id": "R52zPvtFIgOm",
        "colab_type": "code",
        "colab": {
          "base_uri": "https://localhost:8080/",
          "height": 123
        },
        "outputId": "d002ce2a-9454-414b-8002-123765e34c17"
      },
      "source": [
        "print(laptops.iloc[:5,2:5])"
      ],
      "execution_count": 9,
      "outputs": [
        {
          "output_type": "stream",
          "text": [
            "    category screen_size                              screen\n",
            "0  Ultrabook       13.3\"  IPS Panel Retina Display 2560x1600\n",
            "1  Ultrabook       13.3\"                            1440x900\n",
            "2   Notebook       15.6\"                   Full HD 1920x1080\n",
            "3  Ultrabook       15.4\"  IPS Panel Retina Display 2880x1800\n",
            "4  Ultrabook       13.3\"  IPS Panel Retina Display 2560x1600\n"
          ],
          "name": "stdout"
        }
      ]
    },
    {
      "cell_type": "markdown",
      "metadata": {
        "id": "gdPWtoYgIi-R",
        "colab_type": "text"
      },
      "source": [
        "Of these three columns, we have three different types of text data:\n",
        "\n",
        "* `category`: Purely text data - there are no numeric values.\n",
        "* `screen_size`: Numeric data stored as text data because of the `\"` character.\n",
        "* `screen`: A combination of pure text data with numeric data.\n",
        "\n",
        "Because the values in the `screen_size` column are stored as text data, we can't sort them numerically. For instance, if we wanted to select laptops with screens 15\" or larger, we'd be unable to do so.\n",
        "\n",
        "Let's convert the `screen_size` column to numeric next. Whenever we convert text to numeric data, we can follow this data cleaning workflow:\n",
        "\n",
        "![alt text](https://s3.amazonaws.com/dq-content/293/cleaning_workflow.svg)\n"
      ]
    },
    {
      "cell_type": "markdown",
      "metadata": {
        "id": "Y_D_mmfuJUYV",
        "colab_type": "text"
      },
      "source": [
        "The first step is to **explore the data**. One of the best ways to do this is to use the `Series.unique()` method to view all of the unique values in the column:"
      ]
    },
    {
      "cell_type": "code",
      "metadata": {
        "id": "LZk2djLPJeJE",
        "colab_type": "code",
        "colab": {
          "base_uri": "https://localhost:8080/",
          "height": 70
        },
        "outputId": "2dbe18f8-4c99-4bdb-8dac-3c77ac1189d4"
      },
      "source": [
        "print(laptops[\"screen_size\"].dtype)\n",
        "print(laptops[\"screen_size\"].unique())"
      ],
      "execution_count": 10,
      "outputs": [
        {
          "output_type": "stream",
          "text": [
            "object\n",
            "['13.3\"' '15.6\"' '15.4\"' '14.0\"' '12.0\"' '11.6\"' '17.3\"' '10.1\"' '13.5\"'\n",
            " '12.5\"' '13.0\"' '18.4\"' '13.9\"' '12.3\"' '17.0\"' '15.0\"' '14.1\"' '11.3\"']\n"
          ],
          "name": "stdout"
        }
      ]
    },
    {
      "cell_type": "markdown",
      "metadata": {
        "id": "wRSTiMgYJfaf",
        "colab_type": "text"
      },
      "source": [
        "\n",
        "\n",
        "Our next step is to **identify patterns and special cases**. We can observe the following:\n",
        "\n",
        "* All values in this column follow the same pattern - a series of digit and period characters, followed by a quote character (`\"`).\n",
        "* There are no special cases. Every value matches the same pattern.\n",
        "* We'll need to convert the column to a `float` dtype, as the `int` dtype won't be able to store the decimal values.\n",
        "\n",
        "Let's identify any patterns and special cases in the `ram` column next."
      ]
    },
    {
      "cell_type": "code",
      "metadata": {
        "id": "5tv5o571Jvew",
        "colab_type": "code",
        "colab": {
          "base_uri": "https://localhost:8080/",
          "height": 34
        },
        "outputId": "4d88a01e-0aa0-42de-9bba-fa650c1fafec"
      },
      "source": [
        "unique_ram = laptops[\"ram\"].unique()\n",
        "\n",
        "print(unique_ram)"
      ],
      "execution_count": 11,
      "outputs": [
        {
          "output_type": "stream",
          "text": [
            "['8GB' '16GB' '4GB' '2GB' '12GB' '6GB' '32GB' '24GB' '64GB']\n"
          ],
          "name": "stdout"
        }
      ]
    },
    {
      "cell_type": "markdown",
      "metadata": {
        "id": "w4otjpIlNT_6",
        "colab_type": "text"
      },
      "source": [
        "Here, we can identify a clear pattern in the `ram` column - all values are integers and include the character `GB` at the end of the string.\n",
        "\n"
      ]
    },
    {
      "cell_type": "markdown",
      "metadata": {
        "id": "e3ylOuTHvIAL",
        "colab_type": "text"
      },
      "source": [
        "## 5. Removing Non-Digit Characters"
      ]
    },
    {
      "cell_type": "markdown",
      "metadata": {
        "id": "EPMUlVw4vIC8",
        "colab_type": "text"
      },
      "source": [
        "To convert both the `ram` and `screen_size` columns to numeric dtypes, we'll have to first remove the non-digit characters (As depicted in the flow-chart above).\n",
        "\n",
        "The pandas library contains dozens of [vectorized string methods](https://pandas.pydata.org/pandas-docs/stable/user_guide/text.html#method-summary) we can use to manipulate text data, many of which perform the same operations as Python string methods. Most vectorized string methods are available using the `Series.str` [accessor](http://pandas.pydata.org/pandas-docs/stable/api.html#string-handling), which means we can access them by adding `str` between the series name and the method name:\n",
        "\n",
        "![alt text](https://s3.amazonaws.com/dq-content/346/Syntax.png)\n",
        "\n"
      ]
    },
    {
      "cell_type": "markdown",
      "metadata": {
        "id": "Y9968B2eQy3D",
        "colab_type": "text"
      },
      "source": [
        "In this case, we can use the `Series.str.replace()` method, which is a vectorized version of the Python `str.replace()` method we used in the previous screen, to remove all the quote characters from every string in the `screen_size` column:"
      ]
    },
    {
      "cell_type": "code",
      "metadata": {
        "id": "W-TUsoOSQ7Cq",
        "colab_type": "code",
        "colab": {
          "base_uri": "https://localhost:8080/",
          "height": 52
        },
        "outputId": "a701f03f-e61f-41ac-beeb-cff4058dd29d"
      },
      "source": [
        "laptops[\"screen_size\"] = laptops[\"screen_size\"].str.replace('\"','')\n",
        "\n",
        "print(laptops[\"screen_size\"].unique())"
      ],
      "execution_count": 12,
      "outputs": [
        {
          "output_type": "stream",
          "text": [
            "['13.3' '15.6' '15.4' '14.0' '12.0' '11.6' '17.3' '10.1' '13.5' '12.5'\n",
            " '13.0' '18.4' '13.9' '12.3' '17.0' '15.0' '14.1' '11.3']\n"
          ],
          "name": "stdout"
        }
      ]
    },
    {
      "cell_type": "markdown",
      "metadata": {
        "id": "zMV2ckuYRFFg",
        "colab_type": "text"
      },
      "source": [
        "Let's remove the non-digit characters from the ram column next."
      ]
    },
    {
      "cell_type": "code",
      "metadata": {
        "id": "nwtWR2XPRGZ3",
        "colab_type": "code",
        "colab": {
          "base_uri": "https://localhost:8080/",
          "height": 34
        },
        "outputId": "d663562a-c4d0-416e-fb0d-4b3cb259a8c2"
      },
      "source": [
        "laptops[\"ram\"] = laptops[\"ram\"].str.replace(\"GB\",\"\")\n",
        "print(laptops[\"ram\"].unique())"
      ],
      "execution_count": 13,
      "outputs": [
        {
          "output_type": "stream",
          "text": [
            "['8' '16' '4' '2' '12' '6' '32' '24' '64']\n"
          ],
          "name": "stdout"
        }
      ]
    },
    {
      "cell_type": "markdown",
      "metadata": {
        "id": "4ydh6picvIFq",
        "colab_type": "text"
      },
      "source": [
        "## 6. Converting Columns to Numeric Dtypes"
      ]
    },
    {
      "cell_type": "markdown",
      "metadata": {
        "id": "5c6zsUQ4vIIS",
        "colab_type": "text"
      },
      "source": [
        "Now, we can **convert (or cast) the columns to a numeric dtype which is Step 5 in the flow chart image**.\n",
        "\n",
        "![alt text](https://s3.amazonaws.com/dq-content/293/cleaning_workflow.svg)\n",
        "\n",
        "To do this, we use the `Series.astype()` [method](http://pandas.pydata.org/pandas-docs/stable/generated/pandas.Series.astype.html). To convert the column to a numeric dtype, we can use either `int` or `float` as the parameter for the method. Since the `int` dtype can't store decimal values, we'll convert the `screen_size` column to the `float` dtype:"
      ]
    },
    {
      "cell_type": "code",
      "metadata": {
        "id": "6Od2vfukTfIo",
        "colab_type": "code",
        "colab": {
          "base_uri": "https://localhost:8080/",
          "height": 70
        },
        "outputId": "e90af8db-acd0-4a0d-9373-1069efd90d32"
      },
      "source": [
        "laptops[\"screen_size\"] = laptops[\"screen_size\"].astype(float)\n",
        "print(laptops[\"screen_size\"].dtype)\n",
        "print(laptops[\"screen_size\"].unique())"
      ],
      "execution_count": 14,
      "outputs": [
        {
          "output_type": "stream",
          "text": [
            "float64\n",
            "[13.3 15.6 15.4 14.  12.  11.6 17.3 10.1 13.5 12.5 13.  18.4 13.9 12.3\n",
            " 17.  15.  14.1 11.3]\n"
          ],
          "name": "stdout"
        }
      ]
    },
    {
      "cell_type": "markdown",
      "metadata": {
        "id": "eTAg7lcfTkXI",
        "colab_type": "text"
      },
      "source": [
        "Our `screen_size` column is now the `float64` dtype. Let's convert the dtype of the `ram` column to numeric next."
      ]
    },
    {
      "cell_type": "code",
      "metadata": {
        "id": "fa0DgpC0TwuB",
        "colab_type": "code",
        "colab": {
          "base_uri": "https://localhost:8080/",
          "height": 265
        },
        "outputId": "d9177a4c-15b5-4b1c-b690-78c502e16896"
      },
      "source": [
        "laptops[\"ram\"] = laptops[\"ram\"].astype(int)\n",
        "laptops.dtypes"
      ],
      "execution_count": 15,
      "outputs": [
        {
          "output_type": "execute_result",
          "data": {
            "text/plain": [
              "manufacturer     object\n",
              "model_name       object\n",
              "category         object\n",
              "screen_size     float64\n",
              "screen           object\n",
              "cpu              object\n",
              "ram               int64\n",
              "storage          object\n",
              "gpu              object\n",
              "os               object\n",
              "os_version       object\n",
              "weight           object\n",
              "price_euros      object\n",
              "dtype: object"
            ]
          },
          "metadata": {
            "tags": []
          },
          "execution_count": 15
        }
      ]
    },
    {
      "cell_type": "markdown",
      "metadata": {
        "id": "L-tsNiQLvIKu",
        "colab_type": "text"
      },
      "source": [
        "## 7. Renaming Columns"
      ]
    },
    {
      "cell_type": "markdown",
      "metadata": {
        "id": "ub3L8xjdvINf",
        "colab_type": "text"
      },
      "source": [
        ""
      ]
    },
    {
      "cell_type": "markdown",
      "metadata": {
        "id": "Z7JnctkJvIQa",
        "colab_type": "text"
      },
      "source": [
        "## 8. Extracting Values from Strings"
      ]
    },
    {
      "cell_type": "markdown",
      "metadata": {
        "id": "7rxZGEDuvITK",
        "colab_type": "text"
      },
      "source": [
        ""
      ]
    },
    {
      "cell_type": "markdown",
      "metadata": {
        "id": "gPjNXuxhvIWP",
        "colab_type": "text"
      },
      "source": [
        "## 9. Correcting Bad Values"
      ]
    },
    {
      "cell_type": "markdown",
      "metadata": {
        "id": "QCpmMSicvIbL",
        "colab_type": "text"
      },
      "source": [
        ""
      ]
    },
    {
      "cell_type": "markdown",
      "metadata": {
        "id": "9vz2BrWXvIeU",
        "colab_type": "text"
      },
      "source": [
        "## 10. Dropping Missing Values"
      ]
    },
    {
      "cell_type": "markdown",
      "metadata": {
        "id": "KuXR4hjhvpl9",
        "colab_type": "text"
      },
      "source": [
        ""
      ]
    },
    {
      "cell_type": "markdown",
      "metadata": {
        "id": "rgWpO36lvpyx",
        "colab_type": "text"
      },
      "source": [
        "## 11. Filling Missing Values"
      ]
    },
    {
      "cell_type": "markdown",
      "metadata": {
        "id": "ZscY-ysivp1l",
        "colab_type": "text"
      },
      "source": [
        ""
      ]
    },
    {
      "cell_type": "markdown",
      "metadata": {
        "id": "cwapaqGivp4U",
        "colab_type": "text"
      },
      "source": [
        "## 12. Challenge: Clean a String Column"
      ]
    },
    {
      "cell_type": "markdown",
      "metadata": {
        "id": "ssB1Nx48vp7a",
        "colab_type": "text"
      },
      "source": [
        ""
      ]
    },
    {
      "cell_type": "markdown",
      "metadata": {
        "id": "lEYSE_80vp-f",
        "colab_type": "text"
      },
      "source": [
        ""
      ]
    },
    {
      "cell_type": "markdown",
      "metadata": {
        "id": "um71sdFVvqFp",
        "colab_type": "text"
      },
      "source": [
        ""
      ]
    }
  ]
}