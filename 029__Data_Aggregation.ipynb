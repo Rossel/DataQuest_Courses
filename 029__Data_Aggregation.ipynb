{
  "nbformat": 4,
  "nbformat_minor": 0,
  "metadata": {
    "colab": {
      "name": "029__Data_Aggregation.ipynb",
      "provenance": [],
      "authorship_tag": "ABX9TyP9ewwr0YaqaKyq6B1gxbIZ",
      "include_colab_link": true
    },
    "kernelspec": {
      "name": "python3",
      "display_name": "Python 3"
    }
  },
  "cells": [
    {
      "cell_type": "markdown",
      "metadata": {
        "id": "view-in-github",
        "colab_type": "text"
      },
      "source": [
        "<a href=\"https://colab.research.google.com/github/Rossel/DataQuest_Courses/blob/master/029__Data_Aggregation.ipynb\" target=\"_parent\"><img src=\"https://colab.research.google.com/assets/colab-badge.svg\" alt=\"Open In Colab\"/></a>"
      ]
    },
    {
      "cell_type": "markdown",
      "metadata": {
        "id": "6PWQ-EVGT2s_"
      },
      "source": [
        "# COURSE 4/6: DATA CLEANING AND ANALYSIS"
      ]
    },
    {
      "cell_type": "markdown",
      "metadata": {
        "id": "THaX315BT2wD"
      },
      "source": [
        "# MISSION 1: Data Aggregation"
      ]
    },
    {
      "cell_type": "markdown",
      "metadata": {
        "id": "FPnfugb0IfJ5"
      },
      "source": [
        "Learn how to aggregate data with pandas."
      ]
    },
    {
      "cell_type": "markdown",
      "metadata": {
        "id": "tQBrAPM9JEko"
      },
      "source": [
        "## 1. Introduction"
      ]
    },
    {
      "cell_type": "markdown",
      "metadata": {
        "id": "oURth--sIqHq"
      },
      "source": [
        "So far, we've learned how to use the pandas library and how to create visualizations with data sets that didn't require much cleanup. However, most data sets in real life require extensive cleaning and manipulation to extract any meaningful insights. In fact, [Forbes](https://www.forbes.com/sites/gilpress/2016/03/23/data-preparation-most-time-consuming-least-enjoyable-data-science-task-survey-says/#71dc8e8a6f63) estimates that data scientists spend about 60% of their time cleaning and organizing data, so it's critical to be able to manipulate data quickly and efficiently.\n",
        "\n",
        "In this course, we'll learn the following:\n",
        "\n",
        "- Data aggregation\n",
        "- How to combine data\n",
        "- How to transform data\n",
        "- How to clean strings with pandas\n",
        "- How to handle missing and duplicate data\n",
        "\n",
        "You'll need some basic knowledge of pandas and matplotlib to complete this course, including:\n",
        "\n",
        "- Basic knowledge of **pandas dataframes and series**\n",
        "- How to **select values** and **filter a dataframe**\n",
        "- Knowledge of **data exploration methods** in pandas, such as the `info` and `head` methods\n",
        "- How to **create visualizations** in pandas and matplotlib\n",
        "\n",
        "All of these prerequisites are taught in our Pandas and NumPy Fundamentals, Exploratory Data Visualization, and Storytelling Through Data Visualization courses. If you haven't completed those courses and aren't comfortable with the concepts above, we suggest completing them before continuing here.\n",
        "\n",
        "In this course, we'll work with the **World Happiness Report**, an annual report created by the UN Sustainable Development Solutions Network with the intent of guiding policy. The report assigns each country a happiness score based on the answers to a poll question that asks respondents to rank their life on a scale of 0 - 10.\n",
        "\n",
        "It also includes estimates of factors that may contribute to each country's happiness, including economic production, social support, life expectancy, freedom, absence of corruption, and generosity, to provide context for the score. Although these factors aren't actually used in the calculation of the happiness score, they can help illustrate why a country received a certain score.\n",
        "\n",
        "Throughout this course, we'll work to answer the following questions:\n",
        "\n",
        "- **How can aggregating the data give us more insight into happiness scores?**\n",
        "- **How did world happiness change from 2015 to 2017?**\n",
        "- **Which factors contribute the most to the happiness score?**\n",
        "\n",
        "In this mission, we'll start by learning **how to aggregate data**. Then in the following missions, we'll learn different data cleaning skills that can help us **aggregate and analyze the data in different ways**. We'll start by learning each topic in isolation, but build towards a more **complete data cleaning workflow by the end of the course**.\n",
        "\n"
      ]
    },
    {
      "cell_type": "markdown",
      "metadata": {
        "id": "Tcv927HzSTMP"
      },
      "source": [
        "##2. Introduction to the Data"
      ]
    },
    {
      "cell_type": "markdown",
      "metadata": {
        "id": "3pz8TZHYSUqD"
      },
      "source": [
        "Let's start by looking at the World Happiness Report for 2015. The data set is a CSV file called `World_Happiness_2015.csv`. You can find the data [here](https://www.kaggle.com/unsdsn/world-happiness).\n",
        "\n",
        "Let's load the data set below:\n"
      ]
    },
    {
      "cell_type": "code",
      "metadata": {
        "id": "I5rPveR_TFl5"
      },
      "source": [
        "# Import functions from Google modules into Colaboratory\n",
        "!pip install -U -q PyDrive\n",
        "from pydrive.auth import GoogleAuth\n",
        "from pydrive.drive import GoogleDrive\n",
        "from google.colab import auth\n",
        "from oauth2client.client import GoogleCredentials\n",
        "\n",
        "# Authenticate and create the PyDrive client\n",
        "auth.authenticate_user()\n",
        "gauth = GoogleAuth()\n",
        "gauth.credentials = GoogleCredentials.get_application_default()\n",
        "drive = GoogleDrive(gauth)"
      ],
      "execution_count": 2,
      "outputs": []
    },
    {
      "cell_type": "code",
      "metadata": {
        "id": "q1ziSWGBiq-x"
      },
      "source": [
        "# Insert file id from Google Drive shareable link:\n",
        "# https://drive.google.com/file/d/1iZ8_lHkMx7pI22s4ECfpNHKnOohyPfvU/view?usp=sharing\n",
        "id = \"1iZ8_lHkMx7pI22s4ECfpNHKnOohyPfvU\""
      ],
      "execution_count": 3,
      "outputs": []
    },
    {
      "cell_type": "code",
      "metadata": {
        "id": "k2TsUUiUi1tE"
      },
      "source": [
        "# Download the dataset\n",
        "downloaded = drive.CreateFile({'id':id}) \n",
        "downloaded.GetContentFile('World_Happiness_2015.csv')"
      ],
      "execution_count": 4,
      "outputs": []
    },
    {
      "cell_type": "code",
      "metadata": {
        "id": "RblOqgYLi5Uu"
      },
      "source": [
        "# Import pandas library\n",
        "import pandas as pd\n",
        "import numpy as np"
      ],
      "execution_count": 5,
      "outputs": []
    },
    {
      "cell_type": "code",
      "metadata": {
        "id": "oOmAWg2Ilcv4"
      },
      "source": [
        " # Read the csv file\n",
        " happiness2015 = pd.read_csv(\"World_Happiness_2015.csv\")"
      ],
      "execution_count": 6,
      "outputs": []
    },
    {
      "cell_type": "markdown",
      "metadata": {
        "id": "LmoXZP6Djxg7"
      },
      "source": [
        "### **Exploring the data**\n",
        "Let's render the first few and last few values of this pandas object, by running the `happiness2015` variable in a separate cell."
      ]
    },
    {
      "cell_type": "code",
      "metadata": {
        "id": "bb5VqZ8emx3w",
        "outputId": "52fc389f-5d36-4617-f15a-719e9373ea5c",
        "colab": {
          "base_uri": "https://localhost:8080/",
          "height": 351
        }
      },
      "source": [
        "# Render the first 5 rows of the autos dataframe\n",
        "happiness2015.head()"
      ],
      "execution_count": 7,
      "outputs": [
        {
          "output_type": "execute_result",
          "data": {
            "text/html": [
              "<div>\n",
              "<style scoped>\n",
              "    .dataframe tbody tr th:only-of-type {\n",
              "        vertical-align: middle;\n",
              "    }\n",
              "\n",
              "    .dataframe tbody tr th {\n",
              "        vertical-align: top;\n",
              "    }\n",
              "\n",
              "    .dataframe thead th {\n",
              "        text-align: right;\n",
              "    }\n",
              "</style>\n",
              "<table border=\"1\" class=\"dataframe\">\n",
              "  <thead>\n",
              "    <tr style=\"text-align: right;\">\n",
              "      <th></th>\n",
              "      <th>Country</th>\n",
              "      <th>Region</th>\n",
              "      <th>Happiness Rank</th>\n",
              "      <th>Happiness Score</th>\n",
              "      <th>Standard Error</th>\n",
              "      <th>Economy (GDP per Capita)</th>\n",
              "      <th>Family</th>\n",
              "      <th>Health (Life Expectancy)</th>\n",
              "      <th>Freedom</th>\n",
              "      <th>Trust (Government Corruption)</th>\n",
              "      <th>Generosity</th>\n",
              "      <th>Dystopia Residual</th>\n",
              "    </tr>\n",
              "  </thead>\n",
              "  <tbody>\n",
              "    <tr>\n",
              "      <th>0</th>\n",
              "      <td>Switzerland</td>\n",
              "      <td>Western Europe</td>\n",
              "      <td>1</td>\n",
              "      <td>7.587</td>\n",
              "      <td>0.03411</td>\n",
              "      <td>1.39651</td>\n",
              "      <td>1.34951</td>\n",
              "      <td>0.94143</td>\n",
              "      <td>0.66557</td>\n",
              "      <td>0.41978</td>\n",
              "      <td>0.29678</td>\n",
              "      <td>2.51738</td>\n",
              "    </tr>\n",
              "    <tr>\n",
              "      <th>1</th>\n",
              "      <td>Iceland</td>\n",
              "      <td>Western Europe</td>\n",
              "      <td>2</td>\n",
              "      <td>7.561</td>\n",
              "      <td>0.04884</td>\n",
              "      <td>1.30232</td>\n",
              "      <td>1.40223</td>\n",
              "      <td>0.94784</td>\n",
              "      <td>0.62877</td>\n",
              "      <td>0.14145</td>\n",
              "      <td>0.43630</td>\n",
              "      <td>2.70201</td>\n",
              "    </tr>\n",
              "    <tr>\n",
              "      <th>2</th>\n",
              "      <td>Denmark</td>\n",
              "      <td>Western Europe</td>\n",
              "      <td>3</td>\n",
              "      <td>7.527</td>\n",
              "      <td>0.03328</td>\n",
              "      <td>1.32548</td>\n",
              "      <td>1.36058</td>\n",
              "      <td>0.87464</td>\n",
              "      <td>0.64938</td>\n",
              "      <td>0.48357</td>\n",
              "      <td>0.34139</td>\n",
              "      <td>2.49204</td>\n",
              "    </tr>\n",
              "    <tr>\n",
              "      <th>3</th>\n",
              "      <td>Norway</td>\n",
              "      <td>Western Europe</td>\n",
              "      <td>4</td>\n",
              "      <td>7.522</td>\n",
              "      <td>0.03880</td>\n",
              "      <td>1.45900</td>\n",
              "      <td>1.33095</td>\n",
              "      <td>0.88521</td>\n",
              "      <td>0.66973</td>\n",
              "      <td>0.36503</td>\n",
              "      <td>0.34699</td>\n",
              "      <td>2.46531</td>\n",
              "    </tr>\n",
              "    <tr>\n",
              "      <th>4</th>\n",
              "      <td>Canada</td>\n",
              "      <td>North America</td>\n",
              "      <td>5</td>\n",
              "      <td>7.427</td>\n",
              "      <td>0.03553</td>\n",
              "      <td>1.32629</td>\n",
              "      <td>1.32261</td>\n",
              "      <td>0.90563</td>\n",
              "      <td>0.63297</td>\n",
              "      <td>0.32957</td>\n",
              "      <td>0.45811</td>\n",
              "      <td>2.45176</td>\n",
              "    </tr>\n",
              "  </tbody>\n",
              "</table>\n",
              "</div>"
            ],
            "text/plain": [
              "       Country          Region  ...  Generosity  Dystopia Residual\n",
              "0  Switzerland  Western Europe  ...     0.29678            2.51738\n",
              "1      Iceland  Western Europe  ...     0.43630            2.70201\n",
              "2      Denmark  Western Europe  ...     0.34139            2.49204\n",
              "3       Norway  Western Europe  ...     0.34699            2.46531\n",
              "4       Canada   North America  ...     0.45811            2.45176\n",
              "\n",
              "[5 rows x 12 columns]"
            ]
          },
          "metadata": {
            "tags": []
          },
          "execution_count": 7
        }
      ]
    },
    {
      "cell_type": "markdown",
      "metadata": {
        "id": "S3dpKPneYEln"
      },
      "source": [
        "Below are descriptions for some of the columns we'll be working with:\n",
        "\n",
        "- `Country` - Name of the country.\n",
        "- `Region` - Name of the region the country belongs to.\n",
        "- `Happiness Rank` - The rank of the country, as determined by its happiness score.\n",
        "- `Happiness Score` - A score assigned to each country based on the answers to a poll question that asks respondents to rate their happiness on a scale of 0-10.\n",
        "- `Family` - The estimated extent to which family contributes to the happiness score.\n",
        "- `Freedom` - The estimated extent to which freedom contributes to the happiness score.\n",
        "- `Generosity` - The estimated extent to which generosity contributes to the happiness score.\n",
        "\n",
        "To start, let's read our data set into a pandas dataframe and inspect it.\n",
        "\n"
      ]
    },
    {
      "cell_type": "markdown",
      "metadata": {
        "id": "g0ZX62M4YkFb"
      },
      "source": [
        "**Instructions:**\n",
        "\n",
        "- Store the first five rows of the dataframe in a variable called `first_5`.\n",
        "- Use the `DataFrame.info()` [method](https://pandas.pydata.org/pandas-docs/stable/reference/api/pandas.DataFrame.info.html) to print information about the dataframe.\n",
        "- After you have run your code, use the variable inspector to look at the variable `first_5` and the output to get familiar with the data."
      ]
    },
    {
      "cell_type": "code",
      "metadata": {
        "id": "K1AnG8UuTlhS"
      },
      "source": [
        "first_5 = happiness2015.head()"
      ],
      "execution_count": 8,
      "outputs": []
    },
    {
      "cell_type": "code",
      "metadata": {
        "id": "LI9yKoL3ZLhC",
        "outputId": "4eb19a43-4e02-45d5-d4db-e3bc17ca9607",
        "colab": {
          "base_uri": "https://localhost:8080/",
          "height": 354
        }
      },
      "source": [
        "happiness2015.info()"
      ],
      "execution_count": 9,
      "outputs": [
        {
          "output_type": "stream",
          "text": [
            "<class 'pandas.core.frame.DataFrame'>\n",
            "RangeIndex: 158 entries, 0 to 157\n",
            "Data columns (total 12 columns):\n",
            " #   Column                         Non-Null Count  Dtype  \n",
            "---  ------                         --------------  -----  \n",
            " 0   Country                        158 non-null    object \n",
            " 1   Region                         158 non-null    object \n",
            " 2   Happiness Rank                 158 non-null    int64  \n",
            " 3   Happiness Score                158 non-null    float64\n",
            " 4   Standard Error                 158 non-null    float64\n",
            " 5   Economy (GDP per Capita)       158 non-null    float64\n",
            " 6   Family                         158 non-null    float64\n",
            " 7   Health (Life Expectancy)       158 non-null    float64\n",
            " 8   Freedom                        158 non-null    float64\n",
            " 9   Trust (Government Corruption)  158 non-null    float64\n",
            " 10  Generosity                     158 non-null    float64\n",
            " 11  Dystopia Residual              158 non-null    float64\n",
            "dtypes: float64(9), int64(1), object(2)\n",
            "memory usage: 14.9+ KB\n"
          ],
          "name": "stdout"
        }
      ]
    },
    {
      "cell_type": "markdown",
      "metadata": {
        "id": "U3lBO-jySUwq"
      },
      "source": [
        "##3. Using Loops to Aggregate Data"
      ]
    },
    {
      "cell_type": "markdown",
      "metadata": {
        "id": "Vlw622PcSU0e"
      },
      "source": [
        "First, let's visualize the happiness score of each country in `happiness2015`:"
      ]
    },
    {
      "cell_type": "code",
      "metadata": {
        "id": "q8ZruYpf828S",
        "outputId": "a841cf96-85ca-45a6-fab9-855dfdc2eee9",
        "colab": {
          "base_uri": "https://localhost:8080/",
          "height": 0
        }
      },
      "source": [
        "happiness2015['Happiness Score'].plot(kind='bar', title='Happiness Scores', ylim=(0,10))"
      ],
      "execution_count": 10,
      "outputs": [
        {
          "output_type": "execute_result",
          "data": {
            "text/plain": [
              "<matplotlib.axes._subplots.AxesSubplot at 0x7fd9e1e5ff98>"
            ]
          },
          "metadata": {
            "tags": []
          },
          "execution_count": 10
        },
        {
          "output_type": "display_data",
          "data": {
            "image/png": "[encoded data removed]",
            "text/plain": [
              "<Figure size 432x288 with 1 Axes>"
            ]
          },
          "metadata": {
            "tags": [],
            "needs_background": "light"
          }
        }
      ]
    },
    {
      "cell_type": "markdown",
      "metadata": {
        "id": "J0uWCWwj9Ihp"
      },
      "source": [
        "Plotting the data in its current form isn't helpful at all! There are so many data points that we can't see any of the values or labels.\n",
        "\n",
        "You may have noticed that each country in the `happiness2015` dataframe is assigned to a region, specified in the `Region` column. We can use the `Series.unique()` method to confirm the unique regions:"
      ]
    },
    {
      "cell_type": "code",
      "metadata": {
        "id": "BVBQQh969iZO",
        "outputId": "26afaae5-c8b7-4d52-d332-3622f54f6182",
        "colab": {
          "base_uri": "https://localhost:8080/",
          "height": 0
        }
      },
      "source": [
        "happiness2015['Region'].unique()"
      ],
      "execution_count": 11,
      "outputs": [
        {
          "output_type": "execute_result",
          "data": {
            "text/plain": [
              "array(['Western Europe', 'North America', 'Australia and New Zealand',\n",
              "       'Middle East and Northern Africa', 'Latin America and Caribbean',\n",
              "       'Southeastern Asia', 'Central and Eastern Europe', 'Eastern Asia',\n",
              "       'Sub-Saharan Africa', 'Southern Asia'], dtype=object)"
            ]
          },
          "metadata": {
            "tags": []
          },
          "execution_count": 11
        }
      ]
    },
    {
      "cell_type": "markdown",
      "metadata": {
        "id": "ku4wv8U_9sx0"
      },
      "source": [
        "Let's try plotting just one region next:"
      ]
    },
    {
      "cell_type": "code",
      "metadata": {
        "id": "wQIpx4s29wMt",
        "outputId": "928ea180-fdd9-4a8b-ca5d-06083ae64057",
        "colab": {
          "base_uri": "https://localhost:8080/",
          "height": 0
        }
      },
      "source": [
        "so_asia = happiness2015[happiness2015['Region'] == 'Southern Asia']\n",
        "so_asia.plot(x='Country', y='Happiness Score', kind='barh', title='Southern Asia Happiness Scores', xlim=(0,10))"
      ],
      "execution_count": 12,
      "outputs": [
        {
          "output_type": "execute_result",
          "data": {
            "text/plain": [
              "<matplotlib.axes._subplots.AxesSubplot at 0x7fd9e1a14390>"
            ]
          },
          "metadata": {
            "tags": []
          },
          "execution_count": 12
        },
        {
          "output_type": "display_data",
          "data": {
            "image/png": "[encoded data removed]",
            "text/plain": [
              "<Figure size 432x288 with 1 Axes>"
            ]
          },
          "metadata": {
            "tags": [],
            "needs_background": "light"
          }
        }
      ]
    },
    {
      "cell_type": "markdown",
      "metadata": {
        "id": "KWNwYu7d-P88"
      },
      "source": [
        "It's much easier to read this visualization - we can clearly see the labels and values. However, we wouldn't know if the Southern Asia region is representative of the entire world unless we look at the other regions. What we really want is to create a visualization that uses one number, a summary statistic like the mean, to summarize the data for each region.\n"
      ]
    },
    {
      "cell_type": "markdown",
      "metadata": {
        "id": "7Lq-_MbR_PL7"
      },
      "source": [
        "![mean_happiness.png](data:image/png;base64,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)"
      ]
    },
    {
      "cell_type": "markdown",
      "metadata": {
        "id": "2Gwuq6LQ-mYC"
      },
      "source": [
        "In this mission, we'll learn how to perform different kinds of aggregations, applying a statistical operation to groups of our data, and create visualizations like the one above.\n",
        "\n",
        "Recall that in the Pandas Fundamentals course, we learned a way to use loops for aggregation. Our process looked like this:\n",
        "\n",
        "- Identify each unique group in the data set.\n",
        "- For each group:\n",
        " - Select only the rows corresponding to that group.\n",
        " - Calculate the average for those rows.\n",
        "\n",
        "Let's use the same process to find the mean happiness score for each region."
      ]
    },
    {
      "cell_type": "markdown",
      "metadata": {
        "id": "n6m6n_Ex_aZq"
      },
      "source": [
        "**Instructions:**\n",
        "\n",
        "- Create an empty dictionary named `mean_happiness` to store the results of this exercise.\n",
        "- Use the `Series.unique()` method to create an array of unique values for the `Region` column.\n",
        "- Use a for loop to iterate over the unique region values from the `Region` column.\n",
        " - Assign the rows belonging to the current region to a variable named `region_group`.\n",
        " - Use the `Series.mean()` method to calculate the mean happiness score for `region_group`.\n",
        " - Assign the mean value to the `mean_happiness` dictionary, using the region name as the key and the mean happiness score as the value."
      ]
    },
    {
      "cell_type": "code",
      "metadata": {
        "id": "0P6QL7Co_3W3"
      },
      "source": [
        ""
      ],
      "execution_count": 12,
      "outputs": []
    },
    {
      "cell_type": "markdown",
      "metadata": {
        "id": "CGgYWV5HSVTw"
      },
      "source": [
        "##4. The GroupBy Operation"
      ]
    },
    {
      "cell_type": "markdown",
      "metadata": {
        "id": "pfC6OKogSVYo"
      },
      "source": [
        "Let's break down the code we wrote in the previous screen into three steps:\n",
        "\n",
        "1. *Split* the dataframe into groups.\n",
        "2. *Apply* a function to each group.\n",
        "3. *Combine* the results into one data structure.\n",
        "\n",
        "\n",
        "\n",
        "```\n",
        "mean_happiness = {}\n",
        "regions = happiness2015['Region'].unique()\n",
        "\n",
        "for r in regions:\n",
        "    #1. Split the dataframe into groups.\n",
        "    region_group = happiness2015[happiness2015['Region'] == r]\n",
        "    #2. Apply a function to each group.\n",
        "    region_mean = region_group['Happiness Score'].mean()\n",
        "    #3. Combine the results into one data structure.\n",
        "    mean_happiness[r] = region_mean\n",
        "```\n",
        "\n"
      ]
    },
    {
      "cell_type": "markdown",
      "metadata": {
        "id": "QrAGD8gEJMSE"
      },
      "source": [
        "![img](https://s3.amazonaws.com/dq-content/343/split_apply_combine.svg)"
      ]
    },
    {
      "cell_type": "markdown",
      "metadata": {
        "id": "9ODwbmxoJT8n"
      },
      "source": [
        "As with many other common tasks, pandas has a built-in operation for this process. The `groupby` [operation](https://pandas.pydata.org/pandas-docs/stable/groupby.html) performs the \"split-apply-combine\" process on a dataframe, but condenses it into two steps:\n",
        "\n",
        "1. Create a GroupBy object.\n",
        "2. Call a function on the GroupBy object.\n",
        "\n",
        "The GroupBy object, distinct from a dataframe or series object, allows us to split the dataframe into groups, but only in an abstract sense. Nothing is actually computed until a function is called on the GroupBy object.\n",
        "\n",
        "You can think of the `groupby` operation like this. Imagine a dataframe as a structure made of stacking blocks in all different colors and sizes.\n",
        "\n",
        "![img](https://s3.amazonaws.com/dq-content/343/Groupby_Dataframe.svg)\n",
        "\n",
        "You know you'll eventually want to group the blocks according to color instead, but you don't know yet what you want to do with them after. Using the `groupby` process, we would first create a mapping document, the GroupBy object, containing information on how to group the blocks by color and where each block is located in the original structure.\n",
        "\n",
        "![img](https://s3.amazonaws.com/dq-content/343/Groupby_Mapping.svg)\n",
        "\n",
        "Once we create the mapping document, we can use it to easily rearrange the blocks into different structures. For example, let's say our manager asks us first to build another structure using the biggest block from each color.\n",
        "\n",
        "![img](https://s3.amazonaws.com/dq-content/343/Groupby_Largest.svg)\n",
        "\n",
        "Then, she asks us to build another structure using the block size the appears most frequently in each color.\n",
        "\n",
        "![img](https://s3.amazonaws.com/dq-content/343/Groupby_Frequent.svg)\n",
        "\n",
        "Creating the initial mapping document, or GroupBy object, allows us to optimize our work, because we no longer have to refer back to the original dataframe. By working with the `groupby` operation, we make our code faster, more flexible, and easier to read."
      ]
    },
    {
      "cell_type": "markdown",
      "metadata": {
        "id": "yN3_CtdXSVda"
      },
      "source": [
        "##5. Creating GroupBy Objects"
      ]
    },
    {
      "cell_type": "markdown",
      "metadata": {
        "id": "ftG_PzChSVgR"
      },
      "source": [
        "The first step in the groupby operation is to create a GroupBy object:\n",
        "![img](https://s3.amazonaws.com/dq-content/343/Groupby_Full.svg)\n",
        "To create a GroupBy object, we use the `DataFrame.groupby()` [method](https://pandas.pydata.org/pandas-docs/stable/generated/pandas.DataFrame.groupby.html):\n",
        "\n",
        "\n",
        "```\n",
        "df.groupby('col')\n",
        "```\n",
        "\n",
        "where `col` is the column you want to use to group the data set. Note that you can also group the data set on multiple columns by passing a list into the `DataFrame.groupby()` method. However, for teaching purposes, we'll focus on grouping the data by just one column in this mission.\n",
        "\n",
        "When choosing the column, think about which columns could be used to split the data set into groups. To put it another way, look at columns with the same value for multiple rows.\n",
        "\n",
        "![img](https://s3.amazonaws.com/dq-content/343/Groups.svg)\n",
        "\n",
        "We can see from the couple of rows above that the `Region` column fits this criteria. Let's confirm the number of regions and the number of unique values in each region for the entire dataframe with the `Series.value_counts()` method next:"
      ]
    },
    {
      "cell_type": "code",
      "metadata": {
        "id": "4tIdThHUKjeb",
        "outputId": "1a80989e-d778-46c8-afc1-8ce818f8d865",
        "colab": {
          "base_uri": "https://localhost:8080/",
          "height": 0
        }
      },
      "source": [
        "happiness2015['Region'].value_counts()"
      ],
      "execution_count": 13,
      "outputs": [
        {
          "output_type": "execute_result",
          "data": {
            "text/plain": [
              "Sub-Saharan Africa                 40\n",
              "Central and Eastern Europe         29\n",
              "Latin America and Caribbean        22\n",
              "Western Europe                     21\n",
              "Middle East and Northern Africa    20\n",
              "Southeastern Asia                   9\n",
              "Southern Asia                       7\n",
              "Eastern Asia                        6\n",
              "Australia and New Zealand           2\n",
              "North America                       2\n",
              "Name: Region, dtype: int64"
            ]
          },
          "metadata": {
            "tags": []
          },
          "execution_count": 13
        }
      ]
    },
    {
      "cell_type": "markdown",
      "metadata": {
        "id": "gWX0izkkKn-C"
      },
      "source": [
        "Since there's a small number of groups and each group contains more than one unique value, we can confirm the Region column is a good candidate to group by.\n",
        "\n",
        "Next, let's create a Groupby object and group the dataframe by the `Region` column:"
      ]
    },
    {
      "cell_type": "code",
      "metadata": {
        "id": "15eNrywqLFpW",
        "outputId": "48ad84f0-f658-40c1-8537-6f6c6194ecc2",
        "colab": {
          "base_uri": "https://localhost:8080/",
          "height": 0
        }
      },
      "source": [
        "happiness2015.groupby('Region')\n",
        "print(happiness2015.groupby('Region'))"
      ],
      "execution_count": 14,
      "outputs": [
        {
          "output_type": "stream",
          "text": [
            "<pandas.core.groupby.generic.DataFrameGroupBy object at 0x7fd9e158da20>\n"
          ],
          "name": "stdout"
        }
      ]
    },
    {
      "cell_type": "markdown",
      "metadata": {
        "id": "r68Bky4FLLd9"
      },
      "source": [
        "This isn't an error. This is telling us that an object of type GroupBy was returned, just like we expected.\n",
        "\n",
        "Before we start aggregating data, we'll build some intuition around GroupBy objects. We'll start by using the `GroupBy.get_group()` [method](https://pandas.pydata.org/pandas-docs/stable/reference/api/pandas.core.groupby.GroupBy.get_group.html) to select data for a certain group.\n",
        "\n",
        "As an example, to select the data for just the `North America` group, we'd pass `'North America'` into the `get_group()` method as follows:"
      ]
    },
    {
      "cell_type": "code",
      "metadata": {
        "id": "36NjpaATLX_o",
        "outputId": "51095d0b-1869-4980-d680-d363aea8e6b0",
        "colab": {
          "base_uri": "https://localhost:8080/",
          "height": 0
        }
      },
      "source": [
        "grouped = happiness2015.groupby('Region')\n",
        "grouped.get_group('North America')"
      ],
      "execution_count": 15,
      "outputs": [
        {
          "output_type": "execute_result",
          "data": {
            "text/html": [
              "<div>\n",
              "<style scoped>\n",
              "    .dataframe tbody tr th:only-of-type {\n",
              "        vertical-align: middle;\n",
              "    }\n",
              "\n",
              "    .dataframe tbody tr th {\n",
              "        vertical-align: top;\n",
              "    }\n",
              "\n",
              "    .dataframe thead th {\n",
              "        text-align: right;\n",
              "    }\n",
              "</style>\n",
              "<table border=\"1\" class=\"dataframe\">\n",
              "  <thead>\n",
              "    <tr style=\"text-align: right;\">\n",
              "      <th></th>\n",
              "      <th>Country</th>\n",
              "      <th>Region</th>\n",
              "      <th>Happiness Rank</th>\n",
              "      <th>Happiness Score</th>\n",
              "      <th>Standard Error</th>\n",
              "      <th>Economy (GDP per Capita)</th>\n",
              "      <th>Family</th>\n",
              "      <th>Health (Life Expectancy)</th>\n",
              "      <th>Freedom</th>\n",
              "      <th>Trust (Government Corruption)</th>\n",
              "      <th>Generosity</th>\n",
              "      <th>Dystopia Residual</th>\n",
              "    </tr>\n",
              "  </thead>\n",
              "  <tbody>\n",
              "    <tr>\n",
              "      <th>4</th>\n",
              "      <td>Canada</td>\n",
              "      <td>North America</td>\n",
              "      <td>5</td>\n",
              "      <td>7.427</td>\n",
              "      <td>0.03553</td>\n",
              "      <td>1.32629</td>\n",
              "      <td>1.32261</td>\n",
              "      <td>0.90563</td>\n",
              "      <td>0.63297</td>\n",
              "      <td>0.32957</td>\n",
              "      <td>0.45811</td>\n",
              "      <td>2.45176</td>\n",
              "    </tr>\n",
              "    <tr>\n",
              "      <th>14</th>\n",
              "      <td>United States</td>\n",
              "      <td>North America</td>\n",
              "      <td>15</td>\n",
              "      <td>7.119</td>\n",
              "      <td>0.03839</td>\n",
              "      <td>1.39451</td>\n",
              "      <td>1.24711</td>\n",
              "      <td>0.86179</td>\n",
              "      <td>0.54604</td>\n",
              "      <td>0.15890</td>\n",
              "      <td>0.40105</td>\n",
              "      <td>2.51011</td>\n",
              "    </tr>\n",
              "  </tbody>\n",
              "</table>\n",
              "</div>"
            ],
            "text/plain": [
              "          Country         Region  ...  Generosity  Dystopia Residual\n",
              "4          Canada  North America  ...     0.45811            2.45176\n",
              "14  United States  North America  ...     0.40105            2.51011\n",
              "\n",
              "[2 rows x 12 columns]"
            ]
          },
          "metadata": {
            "tags": []
          },
          "execution_count": 15
        }
      ]
    },
    {
      "cell_type": "markdown",
      "metadata": {
        "id": "HpZmG1-ALzXd"
      },
      "source": [
        "**Instructions:**\n",
        "\n",
        "- Use the `df.groupby()` method to group `happiness2015` by the `Region` column. Assign the result to `grouped`.\n",
        "- Use the `GroupBy.get_group()` [method](https://pandas.pydata.org/pandas-docs/stable/reference/api/pandas.core.groupby.GroupBy.get_group.html) to select the data for the `Australia and New Zealand` group only. Assign the result to `aus_nz`."
      ]
    },
    {
      "cell_type": "code",
      "metadata": {
        "id": "ri7oXG2IMJFx"
      },
      "source": [
        ""
      ],
      "execution_count": 15,
      "outputs": []
    },
    {
      "cell_type": "markdown",
      "metadata": {
        "id": "iehtkT6rSVkU"
      },
      "source": [
        "##6. Exploring GroupBy Objects"
      ]
    },
    {
      "cell_type": "markdown",
      "metadata": {
        "id": "fCq3FcLZSVn2"
      },
      "source": [
        "In the last exercise, we used the `GroupBy.get_group()` method to select the `Australia and New Zealand` group. The result is a dataframe containing just the rows for the countries in the `Australia and New Zealand` group.\n",
        "\n",
        "We can also use the GroupBy.groups attribute to get more information about the GroupBy object:"
      ]
    },
    {
      "cell_type": "code",
      "metadata": {
        "id": "TepvGeUkSWV5",
        "outputId": "b76d99d3-82d0-4815-9e14-23ae38949c75",
        "colab": {
          "base_uri": "https://localhost:8080/",
          "height": 0
        }
      },
      "source": [
        "grouped = happiness2015.groupby('Region')\n",
        "grouped.groups"
      ],
      "execution_count": 16,
      "outputs": [
        {
          "output_type": "execute_result",
          "data": {
            "text/plain": [
              "{'Australia and New Zealand': Int64Index([8, 9], dtype='int64'),\n",
              " 'Central and Eastern Europe': Int64Index([ 30,  43,  44,  51,  53,  54,  55,  58,  59,  61,  63,  68,  69,\n",
              "              72,  76,  79,  82,  85,  86,  88,  92,  94,  95, 103, 105, 110,\n",
              "             126, 129, 133],\n",
              "            dtype='int64'),\n",
              " 'Eastern Asia': Int64Index([37, 45, 46, 71, 83, 99], dtype='int64'),\n",
              " 'Latin America and Caribbean': Int64Index([ 11,  13,  15,  22,  24,  26,  29,  31,  32,  39,  40,  41,  42,\n",
              "              47,  50,  52,  56,  57,  64,  97, 104, 118],\n",
              "            dtype='int64'),\n",
              " 'Middle East and Northern Africa': Int64Index([ 10,  19,  21,  27,  34,  38,  48,  62,  67,  75,  81,  91, 102,\n",
              "             106, 107, 109, 111, 134, 135, 155],\n",
              "            dtype='int64'),\n",
              " 'North America': Int64Index([4, 14], dtype='int64'),\n",
              " 'Southeastern Asia': Int64Index([23, 33, 60, 73, 74, 89, 98, 128, 144], dtype='int64'),\n",
              " 'Southern Asia': Int64Index([78, 80, 108, 116, 120, 131, 152], dtype='int64'),\n",
              " 'Sub-Saharan Africa': Int64Index([ 70,  77,  84,  90,  93,  96, 100, 112, 113, 114, 115, 117, 119,\n",
              "             121, 122, 123, 124, 125, 127, 130, 132, 136, 137, 138, 139, 140,\n",
              "             141, 142, 143, 145, 146, 147, 148, 149, 150, 151, 153, 154, 156,\n",
              "             157],\n",
              "            dtype='int64'),\n",
              " 'Western Europe': Int64Index([0, 1, 2, 3, 5, 6, 7, 12, 16, 17, 18, 20, 25, 28, 35, 36, 49, 65,\n",
              "             66, 87, 101],\n",
              "            dtype='int64')}"
            ]
          },
          "metadata": {
            "tags": []
          },
          "execution_count": 16
        }
      ]
    },
    {
      "cell_type": "markdown",
      "metadata": {
        "id": "0t2dhtpHSaxm"
      },
      "source": [
        "The result is a dictionary in which each key corresponds to a region name. Notice that the values include the index for each row in the original `happiness2015` dataframe with the corresponding region name. To prove this, let's again look at the data for the Australia and New Zealand group:\n",
        "\n",
        "\n",
        "```\n",
        "'Australia and New Zealand': Int64Index([8, 9], dtype='int64')\n",
        "```\n",
        "\n",
        "Then, let's filter on indexes 8 and 9 in `happiness2015`:"
      ]
    },
    {
      "cell_type": "code",
      "metadata": {
        "id": "rvjGKlYtSqil",
        "outputId": "33b13bfb-7bda-4259-d910-1a7bd83c5fc2",
        "colab": {
          "base_uri": "https://localhost:8080/",
          "height": 0
        }
      },
      "source": [
        "happiness2015.iloc[8:10]"
      ],
      "execution_count": 17,
      "outputs": [
        {
          "output_type": "execute_result",
          "data": {
            "text/html": [
              "<div>\n",
              "<style scoped>\n",
              "    .dataframe tbody tr th:only-of-type {\n",
              "        vertical-align: middle;\n",
              "    }\n",
              "\n",
              "    .dataframe tbody tr th {\n",
              "        vertical-align: top;\n",
              "    }\n",
              "\n",
              "    .dataframe thead th {\n",
              "        text-align: right;\n",
              "    }\n",
              "</style>\n",
              "<table border=\"1\" class=\"dataframe\">\n",
              "  <thead>\n",
              "    <tr style=\"text-align: right;\">\n",
              "      <th></th>\n",
              "      <th>Country</th>\n",
              "      <th>Region</th>\n",
              "      <th>Happiness Rank</th>\n",
              "      <th>Happiness Score</th>\n",
              "      <th>Standard Error</th>\n",
              "      <th>Economy (GDP per Capita)</th>\n",
              "      <th>Family</th>\n",
              "      <th>Health (Life Expectancy)</th>\n",
              "      <th>Freedom</th>\n",
              "      <th>Trust (Government Corruption)</th>\n",
              "      <th>Generosity</th>\n",
              "      <th>Dystopia Residual</th>\n",
              "    </tr>\n",
              "  </thead>\n",
              "  <tbody>\n",
              "    <tr>\n",
              "      <th>8</th>\n",
              "      <td>New Zealand</td>\n",
              "      <td>Australia and New Zealand</td>\n",
              "      <td>9</td>\n",
              "      <td>7.286</td>\n",
              "      <td>0.03371</td>\n",
              "      <td>1.25018</td>\n",
              "      <td>1.31967</td>\n",
              "      <td>0.90837</td>\n",
              "      <td>0.63938</td>\n",
              "      <td>0.42922</td>\n",
              "      <td>0.47501</td>\n",
              "      <td>2.26425</td>\n",
              "    </tr>\n",
              "    <tr>\n",
              "      <th>9</th>\n",
              "      <td>Australia</td>\n",
              "      <td>Australia and New Zealand</td>\n",
              "      <td>10</td>\n",
              "      <td>7.284</td>\n",
              "      <td>0.04083</td>\n",
              "      <td>1.33358</td>\n",
              "      <td>1.30923</td>\n",
              "      <td>0.93156</td>\n",
              "      <td>0.65124</td>\n",
              "      <td>0.35637</td>\n",
              "      <td>0.43562</td>\n",
              "      <td>2.26646</td>\n",
              "    </tr>\n",
              "  </tbody>\n",
              "</table>\n",
              "</div>"
            ],
            "text/plain": [
              "       Country                     Region  ...  Generosity  Dystopia Residual\n",
              "8  New Zealand  Australia and New Zealand  ...     0.47501            2.26425\n",
              "9    Australia  Australia and New Zealand  ...     0.43562            2.26646\n",
              "\n",
              "[2 rows x 12 columns]"
            ]
          },
          "metadata": {
            "tags": []
          },
          "execution_count": 17
        }
      ]
    },
    {
      "cell_type": "markdown",
      "metadata": {
        "id": "DruWuUjHSuGR"
      },
      "source": [
        "And we see that those rows correspond to Australia and New Zealand! Notice that the `get_group()` method also returned the same dataframe above.\n",
        "\n",
        "Next, let's continue building our intuition by practicing using the `groups` attribute and `get_group()` method.\n",
        "\n",
        "\n",
        "**Instructions:**\n",
        "\n",
        "For the following exercise, use the result from the dictionary returned by `grouped.groups` shown below:\n",
        "\n",
        "`'North America': Int64Index([4, 14], dtype='int64'`\n",
        "\n",
        "- Prove that the values for the 'North America' group in the dictionary returned by `grouped.groups` above correspond to countries in North America in the `happiness2015` dataframe.\n",
        " - Use the snippet above to identify the indexes of the countries in `happiness2015` that belong to the North America group.\n",
        " - Use the indexes to assign just the countries in North America in `happiness2015` to `north_america`.\n",
        "- Use the `GroupBy.get_group()` [method](https://pandas.pydata.org/pandas-docs/stable/reference/api/pandas.core.groupby.GroupBy.get_group.html) to select the data for the North America group only. Assign the result to `na_group`.\n",
        "- Use the following code to compare `north_america` and `na_group`: `north_america == na_group`. Assign the result to `equal`."
      ]
    },
    {
      "cell_type": "code",
      "metadata": {
        "id": "RBZwcGGkTkZU"
      },
      "source": [
        ""
      ],
      "execution_count": 17,
      "outputs": []
    },
    {
      "cell_type": "markdown",
      "metadata": {
        "id": "Ae0lb_rUSVsF"
      },
      "source": [
        "##7. Common Aggregation Methods with Groupby"
      ]
    },
    {
      "cell_type": "markdown",
      "metadata": {
        "id": "1ZDToQCwSVvW"
      },
      "source": [
        "In the last exercise, we confirmed that the values for the 'North America' group returned by `grouped.groups` do correspond to the countries in `North_America` in the `happiness2015` dataframe.\n",
        "\n",
        "Now that we have a good understanding of GroupBy objects, let's use them to aggregate our data. In order to aggregate our data, we must call a function on the GroupBy object.\n",
        "\n",
        "![img](https://s3.amazonaws.com/dq-content/343/Groupby_Full.svg)\n",
        "\n",
        "A basic example of aggregation is computing the number of rows for each of the groups. We can use the `GroupBy.size()` method to confirm the size of each region group:"
      ]
    },
    {
      "cell_type": "code",
      "metadata": {
        "id": "sJJapsLiUxjZ",
        "outputId": "7120341d-b042-4e6c-e86a-68398a04b7a5",
        "colab": {
          "base_uri": "https://localhost:8080/",
          "height": 0
        }
      },
      "source": [
        "grouped = happiness2015.groupby('Region')\n",
        "grouped.size()"
      ],
      "execution_count": 18,
      "outputs": [
        {
          "output_type": "execute_result",
          "data": {
            "text/plain": [
              "Region\n",
              "Australia and New Zealand           2\n",
              "Central and Eastern Europe         29\n",
              "Eastern Asia                        6\n",
              "Latin America and Caribbean        22\n",
              "Middle East and Northern Africa    20\n",
              "North America                       2\n",
              "Southeastern Asia                   9\n",
              "Southern Asia                       7\n",
              "Sub-Saharan Africa                 40\n",
              "Western Europe                     21\n",
              "dtype: int64"
            ]
          },
          "metadata": {
            "tags": []
          },
          "execution_count": 18
        }
      ]
    },
    {
      "cell_type": "markdown",
      "metadata": {
        "id": "-N_sqqKmU0DG"
      },
      "source": [
        "Notice that the result is a Series and contains just one value for each group. Each value represents the number of rows in each group. For example, the 'Australia and New Zealand' group contains two rows.\n",
        "\n",
        "Pandas has built in a number of other [common aggregation methods](https://pandas.pydata.org/pandas-docs/stable/groupby.html):\n",
        "\n",
        "\n",
        "|Methods\t| Description|\n",
        "|---|---|\n",
        "`mean()`\t| Calculates the mean of groups.\n",
        "`sum()`\t| Calculates the sum of group values.\n",
        "`size()`\t| Calculates the size of the groups.\n",
        "`count()`\t| Calculates the count of values in groups.\n",
        "`min()`\t| Calculates the minimum of group values.\n",
        "`max()`\t| Calculates the maximum of group values.\n",
        "\n",
        "\n",
        "Let's practice using one of these aggregation methods next.\n",
        "\n",
        "\n",
        "**Instructions:**\n",
        "\n",
        "- Apply the `GroupBy.mean()` [method](https://pandas.pydata.org/pandas-docs/version/0.23/generated/pandas.core.groupby.GroupBy.mean.html) to `grouped`. Assign the result to `means`."
      ]
    },
    {
      "cell_type": "code",
      "metadata": {
        "id": "XDUxzvMSVbvf"
      },
      "source": [
        ""
      ],
      "execution_count": 18,
      "outputs": []
    },
    {
      "cell_type": "markdown",
      "metadata": {
        "id": "cNiqfZQ2SV0A"
      },
      "source": [
        "##8. Aggregating Specific Columns with Groupby"
      ]
    },
    {
      "cell_type": "markdown",
      "metadata": {
        "id": "E9iMI2rJSV4C"
      },
      "source": [
        "In the last exercise, we grouped `happiness2015` by region and calculated the mean of each region for each numeric column:\n",
        "\n"
      ]
    },
    {
      "cell_type": "code",
      "metadata": {
        "id": "1y5BaZ_BV0xz",
        "outputId": "d48df830-4067-4321-cd84-5d116a0f647b",
        "colab": {
          "base_uri": "https://localhost:8080/",
          "height": 647
        }
      },
      "source": [
        "grouped = happiness2015.groupby('Region')\n",
        "grouped.mean()"
      ],
      "execution_count": 19,
      "outputs": [
        {
          "output_type": "execute_result",
          "data": {
            "text/html": [
              "<div>\n",
              "<style scoped>\n",
              "    .dataframe tbody tr th:only-of-type {\n",
              "        vertical-align: middle;\n",
              "    }\n",
              "\n",
              "    .dataframe tbody tr th {\n",
              "        vertical-align: top;\n",
              "    }\n",
              "\n",
              "    .dataframe thead th {\n",
              "        text-align: right;\n",
              "    }\n",
              "</style>\n",
              "<table border=\"1\" class=\"dataframe\">\n",
              "  <thead>\n",
              "    <tr style=\"text-align: right;\">\n",
              "      <th></th>\n",
              "      <th>Happiness Rank</th>\n",
              "      <th>Happiness Score</th>\n",
              "      <th>Standard Error</th>\n",
              "      <th>Economy (GDP per Capita)</th>\n",
              "      <th>Family</th>\n",
              "      <th>Health (Life Expectancy)</th>\n",
              "      <th>Freedom</th>\n",
              "      <th>Trust (Government Corruption)</th>\n",
              "      <th>Generosity</th>\n",
              "      <th>Dystopia Residual</th>\n",
              "    </tr>\n",
              "    <tr>\n",
              "      <th>Region</th>\n",
              "      <th></th>\n",
              "      <th></th>\n",
              "      <th></th>\n",
              "      <th></th>\n",
              "      <th></th>\n",
              "      <th></th>\n",
              "      <th></th>\n",
              "      <th></th>\n",
              "      <th></th>\n",
              "      <th></th>\n",
              "    </tr>\n",
              "  </thead>\n",
              "  <tbody>\n",
              "    <tr>\n",
              "      <th>Australia and New Zealand</th>\n",
              "      <td>9.500000</td>\n",
              "      <td>7.285000</td>\n",
              "      <td>0.037270</td>\n",
              "      <td>1.291880</td>\n",
              "      <td>1.314450</td>\n",
              "      <td>0.919965</td>\n",
              "      <td>0.645310</td>\n",
              "      <td>0.392795</td>\n",
              "      <td>0.455315</td>\n",
              "      <td>2.265355</td>\n",
              "    </tr>\n",
              "    <tr>\n",
              "      <th>Central and Eastern Europe</th>\n",
              "      <td>79.000000</td>\n",
              "      <td>5.332931</td>\n",
              "      <td>0.045208</td>\n",
              "      <td>0.942438</td>\n",
              "      <td>1.053042</td>\n",
              "      <td>0.718774</td>\n",
              "      <td>0.358269</td>\n",
              "      <td>0.086674</td>\n",
              "      <td>0.152264</td>\n",
              "      <td>2.021400</td>\n",
              "    </tr>\n",
              "    <tr>\n",
              "      <th>Eastern Asia</th>\n",
              "      <td>64.500000</td>\n",
              "      <td>5.626167</td>\n",
              "      <td>0.037225</td>\n",
              "      <td>1.151780</td>\n",
              "      <td>1.099427</td>\n",
              "      <td>0.877388</td>\n",
              "      <td>0.462490</td>\n",
              "      <td>0.127695</td>\n",
              "      <td>0.225885</td>\n",
              "      <td>1.681607</td>\n",
              "    </tr>\n",
              "    <tr>\n",
              "      <th>Latin America and Caribbean</th>\n",
              "      <td>46.909091</td>\n",
              "      <td>6.144682</td>\n",
              "      <td>0.061127</td>\n",
              "      <td>0.876815</td>\n",
              "      <td>1.104720</td>\n",
              "      <td>0.703870</td>\n",
              "      <td>0.501740</td>\n",
              "      <td>0.117172</td>\n",
              "      <td>0.217788</td>\n",
              "      <td>2.622577</td>\n",
              "    </tr>\n",
              "    <tr>\n",
              "      <th>Middle East and Northern Africa</th>\n",
              "      <td>77.600000</td>\n",
              "      <td>5.406900</td>\n",
              "      <td>0.046337</td>\n",
              "      <td>1.066973</td>\n",
              "      <td>0.920490</td>\n",
              "      <td>0.705616</td>\n",
              "      <td>0.361751</td>\n",
              "      <td>0.181702</td>\n",
              "      <td>0.190375</td>\n",
              "      <td>1.980009</td>\n",
              "    </tr>\n",
              "    <tr>\n",
              "      <th>North America</th>\n",
              "      <td>10.000000</td>\n",
              "      <td>7.273000</td>\n",
              "      <td>0.036960</td>\n",
              "      <td>1.360400</td>\n",
              "      <td>1.284860</td>\n",
              "      <td>0.883710</td>\n",
              "      <td>0.589505</td>\n",
              "      <td>0.244235</td>\n",
              "      <td>0.429580</td>\n",
              "      <td>2.480935</td>\n",
              "    </tr>\n",
              "    <tr>\n",
              "      <th>Southeastern Asia</th>\n",
              "      <td>81.222222</td>\n",
              "      <td>5.317444</td>\n",
              "      <td>0.042691</td>\n",
              "      <td>0.789054</td>\n",
              "      <td>0.940468</td>\n",
              "      <td>0.677357</td>\n",
              "      <td>0.557104</td>\n",
              "      <td>0.151276</td>\n",
              "      <td>0.419261</td>\n",
              "      <td>1.783020</td>\n",
              "    </tr>\n",
              "    <tr>\n",
              "      <th>Southern Asia</th>\n",
              "      <td>113.142857</td>\n",
              "      <td>4.580857</td>\n",
              "      <td>0.032161</td>\n",
              "      <td>0.560486</td>\n",
              "      <td>0.645321</td>\n",
              "      <td>0.540830</td>\n",
              "      <td>0.373337</td>\n",
              "      <td>0.102536</td>\n",
              "      <td>0.341429</td>\n",
              "      <td>2.016769</td>\n",
              "    </tr>\n",
              "    <tr>\n",
              "      <th>Sub-Saharan Africa</th>\n",
              "      <td>127.900000</td>\n",
              "      <td>4.202800</td>\n",
              "      <td>0.055299</td>\n",
              "      <td>0.380473</td>\n",
              "      <td>0.809085</td>\n",
              "      <td>0.282332</td>\n",
              "      <td>0.365944</td>\n",
              "      <td>0.123878</td>\n",
              "      <td>0.221137</td>\n",
              "      <td>2.019980</td>\n",
              "    </tr>\n",
              "    <tr>\n",
              "      <th>Western Europe</th>\n",
              "      <td>29.523810</td>\n",
              "      <td>6.689619</td>\n",
              "      <td>0.037625</td>\n",
              "      <td>1.298596</td>\n",
              "      <td>1.247302</td>\n",
              "      <td>0.909148</td>\n",
              "      <td>0.549926</td>\n",
              "      <td>0.231463</td>\n",
              "      <td>0.302109</td>\n",
              "      <td>2.151185</td>\n",
              "    </tr>\n",
              "  </tbody>\n",
              "</table>\n",
              "</div>"
            ],
            "text/plain": [
              "                                 Happiness Rank  ...  Dystopia Residual\n",
              "Region                                           ...                   \n",
              "Australia and New Zealand              9.500000  ...           2.265355\n",
              "Central and Eastern Europe            79.000000  ...           2.021400\n",
              "Eastern Asia                          64.500000  ...           1.681607\n",
              "Latin America and Caribbean           46.909091  ...           2.622577\n",
              "Middle East and Northern Africa       77.600000  ...           1.980009\n",
              "North America                         10.000000  ...           2.480935\n",
              "Southeastern Asia                     81.222222  ...           1.783020\n",
              "Southern Asia                        113.142857  ...           2.016769\n",
              "Sub-Saharan Africa                   127.900000  ...           2.019980\n",
              "Western Europe                        29.523810  ...           2.151185\n",
              "\n",
              "[10 rows x 10 columns]"
            ]
          },
          "metadata": {
            "tags": []
          },
          "execution_count": 19
        }
      ]
    },
    {
      "cell_type": "markdown",
      "metadata": {
        "id": "khp6XYa2V5gF"
      },
      "source": [
        "You may have noticed that `Region` appears in a different row than the rest of the column names. Because we grouped the dataframe by region, the unique values in `Region` are used as the index. Up until now, we've mostly worked with dataframes with a numeric index.\n",
        "\n",
        "![img](https://s3.amazonaws.com/dq-content/343/Index_Example.svg)\n",
        "\n",
        "In some cases, we may only wish to aggregate one particular column in the original dataframe. GroupBy objects actually support column indexing, just like dataframes. You can select specific columns for a GroupBy object the same way you would for a dataframe:\n",
        "\n",
        "\n",
        "|Select by Label |\tSyntax|\n",
        "---|---\n",
        "Single column\t| GroupBy[\"col1\"]\n",
        "List of columns\t| GroupBy[[\"col1\", \"col2\"]]\n",
        "\n",
        "Let's practice aggregating just one column next.\n",
        "\n",
        "**Instructions:**\n",
        "\n",
        "- Select just the `Happiness Score` column from `grouped`. Assign the result to `happy_grouped`.\n",
        "- Use the `GroupBy.mean()` method to compute the mean of `happy_grouped`. Assign the result to `happy_mean`."
      ]
    },
    {
      "cell_type": "code",
      "metadata": {
        "id": "hDDRmRjtWfE3"
      },
      "source": [
        ""
      ],
      "execution_count": 19,
      "outputs": []
    },
    {
      "cell_type": "markdown",
      "metadata": {
        "id": "ynWstj-mSV9F"
      },
      "source": [
        "##9. Introduction to the Agg() Method"
      ]
    },
    {
      "cell_type": "markdown",
      "metadata": {
        "id": "uhsg8s-RSWEL"
      },
      "source": [
        "We learned in the last exercise that we can use indexing to aggregate just one column at a time:"
      ]
    },
    {
      "cell_type": "code",
      "metadata": {
        "id": "hCRt4a2SRqDF"
      },
      "source": [
        "happy_grouped = grouped['Happiness Score']\n",
        "happy_mean = happy_grouped.mean()"
      ],
      "execution_count": 23,
      "outputs": []
    },
    {
      "cell_type": "code",
      "metadata": {
        "id": "V60uYKZtSAsE",
        "outputId": "080aaddc-e81e-4641-a99a-df233bb67430",
        "colab": {
          "base_uri": "https://localhost:8080/",
          "height": 230
        }
      },
      "source": [
        "happy_mean"
      ],
      "execution_count": 24,
      "outputs": [
        {
          "output_type": "execute_result",
          "data": {
            "text/plain": [
              "Region\n",
              "Australia and New Zealand          7.285000\n",
              "Central and Eastern Europe         5.332931\n",
              "Eastern Asia                       5.626167\n",
              "Latin America and Caribbean        6.144682\n",
              "Middle East and Northern Africa    5.406900\n",
              "North America                      7.273000\n",
              "Southeastern Asia                  5.317444\n",
              "Southern Asia                      4.580857\n",
              "Sub-Saharan Africa                 4.202800\n",
              "Western Europe                     6.689619\n",
              "Name: Happiness Score, dtype: float64"
            ]
          },
          "metadata": {
            "tags": []
          },
          "execution_count": 24
        }
      ]
    },
    {
      "cell_type": "markdown",
      "metadata": {
        "id": "7Yn6ZDlHSCw5"
      },
      "source": [
        "However, what if we wanted to apply more than one kind of aggregation to a column at a time?\n",
        "\n",
        "For example, suppose we wanted to calculate both the mean and maximum happiness score for each region. Using what we learned so far, we'd have to first calculate the mean, like we did above, and then calculate the maximum separately.\n",
        "\n",
        "Luckily, however, the `GroupBy.agg()` [method](https://pandas.pydata.org/pandas-docs/version/0.22/generated/pandas.core.groupby.DataFrameGroupBy.agg.html) can perform both aggregations at once. We can use the following syntax:\n",
        "![img](https://s3.amazonaws.com/dq-content/343/Agg_Syntax.svg)\n",
        "\n",
        "Note that when we pass the functions into the `agg()` method as arguments, we don't use parentheses after the function names. For example, when we use `np.mean`, we refer to the function object itself and treat it like a variable, whereas `np.mean()` would be used to call the function and get the returned value.\n",
        "\n",
        "The function names can also be passed in as strings, but we won't cover that explicitly in this mission. You can refer to [this documentation](https://pandas.pydata.org/pandas-docs/stable/groupby.html) for more information on this topic.\n",
        "\n",
        "Let's practice using the `agg()` method next.\n",
        "\n"
      ]
    },
    {
      "cell_type": "markdown",
      "metadata": {
        "id": "CLfNRr-0S6L0"
      },
      "source": [
        "**Instructions:**\n",
        "\n",
        "- Apply the `GroupBy.agg()` method to `happy_grouped`. Pass a list containing `np.mean` and `np.max` into the method. Assign the result to `happy_mean_max`.\n",
        " - As noted above, passing `'mean'` and `'max'` into the `GroupBy.agg()` method will also return the same results. However, for answer checking purposes, you'll have to use `np.mean` and `np.max`.\n",
        "- We've also created a custom function named `dif` to calculate the difference between the mean and maximum values. Pass `dif` into the `GroupBy.agg()` method. Assign the result to `mean_max_dif`."
      ]
    },
    {
      "cell_type": "code",
      "metadata": {
        "id": "5BiKs9MzUM8a"
      },
      "source": [
        ""
      ],
      "execution_count": null,
      "outputs": []
    },
    {
      "cell_type": "markdown",
      "metadata": {
        "id": "B-Fegj31SWKR"
      },
      "source": [
        "##10. Computing Multiple and Custom Aggregations with the Agg() Method"
      ]
    },
    {
      "cell_type": "markdown",
      "metadata": {
        "id": "Kl8oKomNSWOK"
      },
      "source": [
        "In the last exercise, we learned we can use the `GroupBy.agg()` method to:\n",
        "\n",
        "1. Perform more than one aggregation at once.\n",
        "2. Compute custom aggregations.\n",
        "\n",
        "To compute multiple aggregations at once, we passed a list of the function names into the `agg` method:"
      ]
    },
    {
      "cell_type": "code",
      "metadata": {
        "id": "_T8A6iWkUbao"
      },
      "source": [
        "import numpy as np\n",
        "grouped = happiness2015.groupby('Region')\n",
        "happy_grouped = grouped['Happiness Score']\n",
        "happy_mean_max = happy_grouped.agg([np.mean, np.max])"
      ],
      "execution_count": 25,
      "outputs": []
    },
    {
      "cell_type": "code",
      "metadata": {
        "id": "iSBGuV-KUe0a",
        "outputId": "aec8a004-c63c-4e6f-ffda-30dd97fb6d9c",
        "colab": {
          "base_uri": "https://localhost:8080/",
          "height": 377
        }
      },
      "source": [
        "happy_mean_max"
      ],
      "execution_count": 26,
      "outputs": [
        {
          "output_type": "execute_result",
          "data": {
            "text/html": [
              "<div>\n",
              "<style scoped>\n",
              "    .dataframe tbody tr th:only-of-type {\n",
              "        vertical-align: middle;\n",
              "    }\n",
              "\n",
              "    .dataframe tbody tr th {\n",
              "        vertical-align: top;\n",
              "    }\n",
              "\n",
              "    .dataframe thead th {\n",
              "        text-align: right;\n",
              "    }\n",
              "</style>\n",
              "<table border=\"1\" class=\"dataframe\">\n",
              "  <thead>\n",
              "    <tr style=\"text-align: right;\">\n",
              "      <th></th>\n",
              "      <th>mean</th>\n",
              "      <th>amax</th>\n",
              "    </tr>\n",
              "    <tr>\n",
              "      <th>Region</th>\n",
              "      <th></th>\n",
              "      <th></th>\n",
              "    </tr>\n",
              "  </thead>\n",
              "  <tbody>\n",
              "    <tr>\n",
              "      <th>Australia and New Zealand</th>\n",
              "      <td>7.285000</td>\n",
              "      <td>7.286</td>\n",
              "    </tr>\n",
              "    <tr>\n",
              "      <th>Central and Eastern Europe</th>\n",
              "      <td>5.332931</td>\n",
              "      <td>6.505</td>\n",
              "    </tr>\n",
              "    <tr>\n",
              "      <th>Eastern Asia</th>\n",
              "      <td>5.626167</td>\n",
              "      <td>6.298</td>\n",
              "    </tr>\n",
              "    <tr>\n",
              "      <th>Latin America and Caribbean</th>\n",
              "      <td>6.144682</td>\n",
              "      <td>7.226</td>\n",
              "    </tr>\n",
              "    <tr>\n",
              "      <th>Middle East and Northern Africa</th>\n",
              "      <td>5.406900</td>\n",
              "      <td>7.278</td>\n",
              "    </tr>\n",
              "    <tr>\n",
              "      <th>North America</th>\n",
              "      <td>7.273000</td>\n",
              "      <td>7.427</td>\n",
              "    </tr>\n",
              "    <tr>\n",
              "      <th>Southeastern Asia</th>\n",
              "      <td>5.317444</td>\n",
              "      <td>6.798</td>\n",
              "    </tr>\n",
              "    <tr>\n",
              "      <th>Southern Asia</th>\n",
              "      <td>4.580857</td>\n",
              "      <td>5.253</td>\n",
              "    </tr>\n",
              "    <tr>\n",
              "      <th>Sub-Saharan Africa</th>\n",
              "      <td>4.202800</td>\n",
              "      <td>5.477</td>\n",
              "    </tr>\n",
              "    <tr>\n",
              "      <th>Western Europe</th>\n",
              "      <td>6.689619</td>\n",
              "      <td>7.587</td>\n",
              "    </tr>\n",
              "  </tbody>\n",
              "</table>\n",
              "</div>"
            ],
            "text/plain": [
              "                                     mean   amax\n",
              "Region                                          \n",
              "Australia and New Zealand        7.285000  7.286\n",
              "Central and Eastern Europe       5.332931  6.505\n",
              "Eastern Asia                     5.626167  6.298\n",
              "Latin America and Caribbean      6.144682  7.226\n",
              "Middle East and Northern Africa  5.406900  7.278\n",
              "North America                    7.273000  7.427\n",
              "Southeastern Asia                5.317444  6.798\n",
              "Southern Asia                    4.580857  5.253\n",
              "Sub-Saharan Africa               4.202800  5.477\n",
              "Western Europe                   6.689619  7.587"
            ]
          },
          "metadata": {
            "tags": []
          },
          "execution_count": 26
        }
      ]
    },
    {
      "cell_type": "markdown",
      "metadata": {
        "id": "poWVgw5eUiqZ"
      },
      "source": [
        "Our result is a dataframe containing both the mean and maximum happiness scores for each region. Note that the columns are named for the functions themselves. Because `np.max` is an alias for `np.amax`, the column for the maximum is named `amax`.\n",
        "\n",
        "We also used a custom function to aggregate the data:"
      ]
    },
    {
      "cell_type": "code",
      "metadata": {
        "id": "fKtCBN2kUoT1",
        "outputId": "34f66193-e161-4faa-8512-71e9579e6d28",
        "colab": {
          "base_uri": "https://localhost:8080/",
          "height": 230
        }
      },
      "source": [
        "def dif(group):\n",
        "    return(group.max() - group.mean())\n",
        "happy_grouped.agg(dif)"
      ],
      "execution_count": 27,
      "outputs": [
        {
          "output_type": "execute_result",
          "data": {
            "text/plain": [
              "Region\n",
              "Australia and New Zealand          0.001000\n",
              "Central and Eastern Europe         1.172069\n",
              "Eastern Asia                       0.671833\n",
              "Latin America and Caribbean        1.081318\n",
              "Middle East and Northern Africa    1.871100\n",
              "North America                      0.154000\n",
              "Southeastern Asia                  1.480556\n",
              "Southern Asia                      0.672143\n",
              "Sub-Saharan Africa                 1.274200\n",
              "Western Europe                     0.897381\n",
              "Name: Happiness Score, dtype: float64"
            ]
          },
          "metadata": {
            "tags": []
          },
          "execution_count": 27
        }
      ]
    },
    {
      "cell_type": "markdown",
      "metadata": {
        "id": "ePWrt058UrK0"
      },
      "source": [
        "Above, we calculated the difference between the mean and maximum values for each region. Because the `agg()` method allows us to create custom aggregation functions, it gives us much more flexibility in how we can transform our data.\n",
        "\n",
        "Up until this point, we've deliberately split creating the GroupBy object and calling a function into separate steps to make it easier to understand. However, if you read through other teaching resources, you may see instances in which the statements are combined:"
      ]
    },
    {
      "cell_type": "code",
      "metadata": {
        "id": "JvOBErjhUu84",
        "outputId": "2440c139-83c6-417e-83e6-d11a06636944",
        "colab": {
          "base_uri": "https://localhost:8080/",
          "height": 230
        }
      },
      "source": [
        "happiness2015.groupby('Region')['Happiness Score'].agg(dif)"
      ],
      "execution_count": 28,
      "outputs": [
        {
          "output_type": "execute_result",
          "data": {
            "text/plain": [
              "Region\n",
              "Australia and New Zealand          0.001000\n",
              "Central and Eastern Europe         1.172069\n",
              "Eastern Asia                       0.671833\n",
              "Latin America and Caribbean        1.081318\n",
              "Middle East and Northern Africa    1.871100\n",
              "North America                      0.154000\n",
              "Southeastern Asia                  1.480556\n",
              "Southern Asia                      0.672143\n",
              "Sub-Saharan Africa                 1.274200\n",
              "Western Europe                     0.897381\n",
              "Name: Happiness Score, dtype: float64"
            ]
          },
          "metadata": {
            "tags": []
          },
          "execution_count": 28
        }
      ]
    },
    {
      "cell_type": "markdown",
      "metadata": {
        "id": "5KAiWhFUUxRQ"
      },
      "source": [
        "Both approaches will return the same result. However, if you plan on computing multiple aggregations with the same GroupBy object, it's recommended to save the object to a variable first. You may wish to save it to a variable in all cases to make your code easier to understand. As we compute more complex aggregations, the syntax can get confusing!"
      ]
    },
    {
      "cell_type": "markdown",
      "metadata": {
        "id": "LxAkO-qeSWUi"
      },
      "source": [
        "##11. Aggregation with Pivot Tables"
      ]
    },
    {
      "cell_type": "markdown",
      "metadata": {
        "id": "AV6gutudSWcx"
      },
      "source": [
        ""
      ]
    },
    {
      "cell_type": "markdown",
      "metadata": {
        "id": "bj1KnJRiSWkO"
      },
      "source": [
        "##12. Aggregating Multiple Columns and Functions with Pivot Tables"
      ]
    },
    {
      "cell_type": "markdown",
      "metadata": {
        "id": "_W1R7he5SWiU"
      },
      "source": [
        ""
      ]
    },
    {
      "cell_type": "markdown",
      "metadata": {
        "id": "oYO6af0FSWbD"
      },
      "source": [
        ""
      ]
    }
  ]
}