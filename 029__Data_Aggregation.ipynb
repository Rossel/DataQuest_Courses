{
  "nbformat": 4,
  "nbformat_minor": 0,
  "metadata": {
    "colab": {
      "name": "029__Data_Aggregation.ipynb",
      "provenance": [],
      "authorship_tag": "ABX9TyNsB54sBb799H11Th4z9AXc",
      "include_colab_link": true
    },
    "kernelspec": {
      "name": "python3",
      "display_name": "Python 3"
    }
  },
  "cells": [
    {
      "cell_type": "markdown",
      "metadata": {
        "id": "view-in-github",
        "colab_type": "text"
      },
      "source": [
        "<a href=\"https://colab.research.google.com/github/Rossel/DataQuest_Courses/blob/master/029__Data_Aggregation.ipynb\" target=\"_parent\"><img src=\"https://colab.research.google.com/assets/colab-badge.svg\" alt=\"Open In Colab\"/></a>"
      ]
    },
    {
      "cell_type": "markdown",
      "metadata": {
        "id": "6PWQ-EVGT2s_",
        "colab_type": "text"
      },
      "source": [
        "# COURSE 4/6: DATA CLEANING AND ANALYSIS"
      ]
    },
    {
      "cell_type": "markdown",
      "metadata": {
        "id": "THaX315BT2wD",
        "colab_type": "text"
      },
      "source": [
        "# MISSION 1: Data Aggregation"
      ]
    },
    {
      "cell_type": "markdown",
      "metadata": {
        "id": "FPnfugb0IfJ5",
        "colab_type": "text"
      },
      "source": [
        "Learn how to aggregate data with pandas."
      ]
    },
    {
      "cell_type": "markdown",
      "metadata": {
        "id": "tQBrAPM9JEko",
        "colab_type": "text"
      },
      "source": [
        "## 1. Introduction"
      ]
    },
    {
      "cell_type": "markdown",
      "metadata": {
        "id": "oURth--sIqHq",
        "colab_type": "text"
      },
      "source": [
        "So far, we've learned how to use the pandas library and how to create visualizations with data sets that didn't require much cleanup. However, most data sets in real life require extensive cleaning and manipulation to extract any meaningful insights. In fact, [Forbes](https://www.forbes.com/sites/gilpress/2016/03/23/data-preparation-most-time-consuming-least-enjoyable-data-science-task-survey-says/#71dc8e8a6f63) estimates that data scientists spend about 60% of their time cleaning and organizing data, so it's critical to be able to manipulate data quickly and efficiently.\n",
        "\n",
        "In this course, we'll learn the following:\n",
        "\n",
        "- Data aggregation\n",
        "- How to combine data\n",
        "- How to transform data\n",
        "- How to clean strings with pandas\n",
        "- How to handle missing and duplicate data\n",
        "\n",
        "You'll need some basic knowledge of pandas and matplotlib to complete this course, including:\n",
        "\n",
        "- Basic knowledge of **pandas dataframes and series**\n",
        "- How to **select values** and **filter a dataframe**\n",
        "- Knowledge of **data exploration methods** in pandas, such as the `info` and `head` methods\n",
        "- How to **create visualizations** in pandas and matplotlib\n",
        "\n",
        "All of these prerequisites are taught in our Pandas and NumPy Fundamentals, Exploratory Data Visualization, and Storytelling Through Data Visualization courses. If you haven't completed those courses and aren't comfortable with the concepts above, we suggest completing them before continuing here.\n",
        "\n",
        "In this course, we'll work with the **World Happiness Report**, an annual report created by the UN Sustainable Development Solutions Network with the intent of guiding policy. The report assigns each country a happiness score based on the answers to a poll question that asks respondents to rank their life on a scale of 0 - 10.\n",
        "\n",
        "It also includes estimates of factors that may contribute to each country's happiness, including economic production, social support, life expectancy, freedom, absence of corruption, and generosity, to provide context for the score. Although these factors aren't actually used in the calculation of the happiness score, they can help illustrate why a country received a certain score.\n",
        "\n",
        "Throughout this course, we'll work to answer the following questions:\n",
        "\n",
        "- **How can aggregating the data give us more insight into happiness scores?**\n",
        "- **How did world happiness change from 2015 to 2017?**\n",
        "- **Which factors contribute the most to the happiness score?**\n",
        "\n",
        "In this mission, we'll start by learning **how to aggregate data**. Then in the following missions, we'll learn different data cleaning skills that can help us **aggregate and analyze the data in different ways**. We'll start by learning each topic in isolation, but build towards a more **complete data cleaning workflow by the end of the course**.\n",
        "\n"
      ]
    },
    {
      "cell_type": "markdown",
      "metadata": {
        "id": "Tcv927HzSTMP",
        "colab_type": "text"
      },
      "source": [
        "##2. Introduction to the Data"
      ]
    },
    {
      "cell_type": "markdown",
      "metadata": {
        "id": "3pz8TZHYSUqD",
        "colab_type": "text"
      },
      "source": [
        "Let's start by looking at the World Happiness Report for 2015. You can find the data [here](https://www.kaggle.com/unsdsn/world-happiness).\n",
        "\n",
        "Let's load the data set below:\n"
      ]
    },
    {
      "cell_type": "code",
      "metadata": {
        "id": "jRm3l-u3TQNU",
        "colab_type": "code",
        "colab": {}
      },
      "source": [
        "# https://drive.google.com/file/d/1iZ8_lHkMx7pI22s4ECfpNHKnOohyPfvU/view?usp=sharing"
      ],
      "execution_count": null,
      "outputs": []
    },
    {
      "cell_type": "code",
      "metadata": {
        "id": "K1AnG8UuTlhS",
        "colab_type": "code",
        "colab": {}
      },
      "source": [
        ""
      ],
      "execution_count": null,
      "outputs": []
    },
    {
      "cell_type": "markdown",
      "metadata": {
        "id": "zwhzfOGlTmM_",
        "colab_type": "text"
      },
      "source": [
        "Below is a preview of the data set:"
      ]
    },
    {
      "cell_type": "code",
      "metadata": {
        "id": "S5HVQogDTnHq",
        "colab_type": "code",
        "colab": {}
      },
      "source": [
        ""
      ],
      "execution_count": null,
      "outputs": []
    },
    {
      "cell_type": "markdown",
      "metadata": {
        "id": "U3lBO-jySUwq",
        "colab_type": "text"
      },
      "source": [
        "##3. Using Loops to Aggregate Data"
      ]
    },
    {
      "cell_type": "markdown",
      "metadata": {
        "id": "Vlw622PcSU0e",
        "colab_type": "text"
      },
      "source": [
        ""
      ]
    },
    {
      "cell_type": "markdown",
      "metadata": {
        "id": "CGgYWV5HSVTw",
        "colab_type": "text"
      },
      "source": [
        "##4. The GroupBy Operation"
      ]
    },
    {
      "cell_type": "markdown",
      "metadata": {
        "id": "pfC6OKogSVYo",
        "colab_type": "text"
      },
      "source": [
        ""
      ]
    },
    {
      "cell_type": "markdown",
      "metadata": {
        "id": "yN3_CtdXSVda",
        "colab_type": "text"
      },
      "source": [
        "##5. Creating GroupBy Objects"
      ]
    },
    {
      "cell_type": "markdown",
      "metadata": {
        "id": "ftG_PzChSVgR",
        "colab_type": "text"
      },
      "source": [
        ""
      ]
    },
    {
      "cell_type": "markdown",
      "metadata": {
        "id": "iehtkT6rSVkU",
        "colab_type": "text"
      },
      "source": [
        "##6. Exploring GroupBy Objects"
      ]
    },
    {
      "cell_type": "markdown",
      "metadata": {
        "id": "fCq3FcLZSVn2",
        "colab_type": "text"
      },
      "source": [
        ""
      ]
    },
    {
      "cell_type": "markdown",
      "metadata": {
        "id": "Ae0lb_rUSVsF",
        "colab_type": "text"
      },
      "source": [
        "##7. Common Aggregation Methods with Groupby"
      ]
    },
    {
      "cell_type": "markdown",
      "metadata": {
        "id": "1ZDToQCwSVvW",
        "colab_type": "text"
      },
      "source": [
        ""
      ]
    },
    {
      "cell_type": "markdown",
      "metadata": {
        "id": "cNiqfZQ2SV0A",
        "colab_type": "text"
      },
      "source": [
        "##8. Aggregating Specific Columns with Groupby"
      ]
    },
    {
      "cell_type": "markdown",
      "metadata": {
        "id": "E9iMI2rJSV4C",
        "colab_type": "text"
      },
      "source": [
        ""
      ]
    },
    {
      "cell_type": "markdown",
      "metadata": {
        "id": "ynWstj-mSV9F",
        "colab_type": "text"
      },
      "source": [
        "##9. Introduction to the Agg() Method"
      ]
    },
    {
      "cell_type": "markdown",
      "metadata": {
        "id": "uhsg8s-RSWEL",
        "colab_type": "text"
      },
      "source": [
        ""
      ]
    },
    {
      "cell_type": "markdown",
      "metadata": {
        "id": "B-Fegj31SWKR",
        "colab_type": "text"
      },
      "source": [
        "##10. Computing Multiple and Custom Aggregations with the Agg() Method"
      ]
    },
    {
      "cell_type": "markdown",
      "metadata": {
        "id": "Kl8oKomNSWOK",
        "colab_type": "text"
      },
      "source": [
        ""
      ]
    },
    {
      "cell_type": "markdown",
      "metadata": {
        "id": "LxAkO-qeSWUi",
        "colab_type": "text"
      },
      "source": [
        "##11. Aggregation with Pivot Tables"
      ]
    },
    {
      "cell_type": "markdown",
      "metadata": {
        "id": "AV6gutudSWcx",
        "colab_type": "text"
      },
      "source": [
        ""
      ]
    },
    {
      "cell_type": "markdown",
      "metadata": {
        "id": "bj1KnJRiSWkO",
        "colab_type": "text"
      },
      "source": [
        "##12. Aggregating Multiple Columns and Functions with Pivot Tables"
      ]
    },
    {
      "cell_type": "markdown",
      "metadata": {
        "id": "_W1R7he5SWiU",
        "colab_type": "text"
      },
      "source": [
        ""
      ]
    },
    {
      "cell_type": "markdown",
      "metadata": {
        "id": "oYO6af0FSWbD",
        "colab_type": "text"
      },
      "source": [
        ""
      ]
    }
  ]
}