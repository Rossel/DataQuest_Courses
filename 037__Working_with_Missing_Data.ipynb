{
  "nbformat": 4,
  "nbformat_minor": 0,
  "metadata": {
    "colab": {
      "name": "037__Working_with_Missing_Data.ipynb",
      "provenance": [],
      "authorship_tag": "ABX9TyPjT7D3z41v9GSU+e9azp39",
      "include_colab_link": true
    },
    "kernelspec": {
      "name": "python3",
      "display_name": "Python 3"
    }
  },
  "cells": [
    {
      "cell_type": "markdown",
      "metadata": {
        "id": "view-in-github",
        "colab_type": "text"
      },
      "source": [
        "<a href=\"https://colab.research.google.com/github/Rossel/DataQuest_Courses/blob/master/037__Working_with_Missing_Data.ipynb\" target=\"_parent\"><img src=\"https://colab.research.google.com/assets/colab-badge.svg\" alt=\"Open In Colab\"/></a>"
      ]
    },
    {
      "cell_type": "markdown",
      "metadata": {
        "id": "6PWQ-EVGT2s_"
      },
      "source": [
        "# COURSE 5/6: DATA CLEANING IN PYTHON: ADVANCED"
      ]
    },
    {
      "cell_type": "markdown",
      "metadata": {
        "id": "THaX315BT2wD"
      },
      "source": [
        "# MISSION 4: Working with Missing Data"
      ]
    },
    {
      "cell_type": "markdown",
      "metadata": {
        "id": "HCtUhKGVV2Fl"
      },
      "source": [
        "Identify and deal with missing and incorrect data.\n"
      ]
    },
    {
      "cell_type": "markdown",
      "metadata": {
        "id": "nfk12M-4TwZU"
      },
      "source": [
        "## 1. Introduction"
      ]
    },
    {
      "cell_type": "markdown",
      "metadata": {
        "id": "B1XTUbRXeCo5"
      },
      "source": [
        "In the last mission of this course, we're going to learn more about working with missing data. As we learned in [Working with Missing and Duplicate Data](https://app.dataquest.io/m/347/working-with-missing-and-duplicate-data), data can be missing for a variety of reasons.\n",
        "\n",
        "In this mission, we'll learn how to handle missing data without having to drop rows and columns using data on motor vehicle collisions released by [New York City](https://data.cityofnewyork.us/Public-Safety/NYPD-Motor-Vehicle-Collisions/h9gi-nx95) and published on the NYC OpenData website. There is data on over 1.5 million collisions dating back to 2012, with additional data continuously added."
      ]
    },
    {
      "cell_type": "markdown",
      "metadata": {
        "id": "gPuLjPelec0n"
      },
      "source": [
        "We'll work with an extract of the full data: Crashes from the year 2018. We made several modifications to the data for teaching purposes, including randomly sampling the data to reduce its size. You can download the data set from this mission by using the data set preview tool at the top of the \"script.py\" codebox on the right."
      ]
    },
    {
      "cell_type": "markdown",
      "metadata": {
        "id": "TEYXuQD3ej73"
      },
      "source": [
        "Our data set is in a CSV called `nypd_mvc_2018.csv`. We can read our data into a pandas dataframe and inspect the first few rows of the data:"
      ]
    },
    {
      "cell_type": "code",
      "metadata": {
        "id": "7zbhVrbR2n44"
      },
      "source": [
        "\n",
        "# Code to read csv file into Colaboratory:\n",
        "!pip install -U -q PyDrive\n",
        "from pydrive.auth import GoogleAuth\n",
        "from pydrive.drive import GoogleDrive\n",
        "from google.colab import auth\n",
        "from oauth2client.client import GoogleCredentials\n",
        "# Authenticate and create the PyDrive client.\n",
        "auth.authenticate_user()\n",
        "gauth = GoogleAuth()\n",
        "gauth.credentials = GoogleCredentials.get_application_default()\n",
        "drive = GoogleDrive(gauth)"
      ],
      "execution_count": null,
      "outputs": []
    },
    {
      "cell_type": "code",
      "metadata": {
        "id": "mQVsg_sh2o4j"
      },
      "source": [
        "# Once you have completed verification, go to the CSV file in Google Drive, right-click on it and select “Get shareable link”, and cut out the unique id in the link.\n",
        "# https://drive.google.com/file/d/137_5T2t59aksuPV2aLP5VldshtCb9vN1/view?usp=sharing\n",
        "id = \"137_5T2t59aksuPV2aLP5VldshtCb9vN1\""
      ],
      "execution_count": null,
      "outputs": []
    },
    {
      "cell_type": "code",
      "metadata": {
        "id": "qgFvCD-32wdh"
      },
      "source": [
        "# Download the dataset\n",
        "downloaded = drive.CreateFile({'id':id}) \n",
        "downloaded.GetContentFile('nypd_mvc_2018.csv')"
      ],
      "execution_count": null,
      "outputs": []
    },
    {
      "cell_type": "code",
      "metadata": {
        "colab": {
          "base_uri": "https://localhost:8080/"
        },
        "id": "Y1hsGcc_gVSW",
        "outputId": "2acffc2b-f984-4727-f4a5-1ad370ae6f03"
      },
      "source": [
        "import pandas as pd\n",
        "import numpy as np\n",
        "mvc = pd.read_csv(\"nypd_mvc_2018.csv\")\n",
        "\n",
        "print(mvc)"
      ],
      "execution_count": null,
      "outputs": [
        {
          "output_type": "stream",
          "text": [
            "       unique_key        date  ... cause_vehicle_4 cause_vehicle_5\n",
            "0         3869058  2018-03-23  ...             NaN             NaN\n",
            "1         3847947  2018-02-13  ...             NaN             NaN\n",
            "2         3914294  2018-06-04  ...             NaN             NaN\n",
            "3         3915069  2018-06-05  ...             NaN             NaN\n",
            "4         3923123  2018-06-16  ...             NaN             NaN\n",
            "...           ...         ...  ...             ...             ...\n",
            "57859     3835191  2018-01-26  ...             NaN             NaN\n",
            "57860     3890674  2018-04-29  ...             NaN             NaN\n",
            "57861     3946458  2018-07-21  ...             NaN             NaN\n",
            "57862     3914574  2018-06-04  ...             NaN             NaN\n",
            "57863     4034882  2018-11-29  ...             NaN             NaN\n",
            "\n",
            "[57864 rows x 26 columns]\n"
          ],
          "name": "stdout"
        }
      ]
    },
    {
      "cell_type": "markdown",
      "metadata": {
        "id": "ZQf19WbclIIW"
      },
      "source": [
        "A summary of the columns and their data is below:\n",
        "\n",
        "- `unique_key`: A unique identifier for each collision.\n",
        "- `date`, `time`: Date and time of the collision.\n",
        "- `borough`: The [borough](https://en.wikipedia.org/wiki/Boroughs_of_New_York_City), or area of New York City, where the collision occurred.\n",
        "- `location`: Latitude and longitude coordinates for the collision.\n",
        "- `on_street`, `cross_street`, `off_street`: Details of the street or intersection where the collision occurred.\n",
        "- `pedestrians_injured`: Number of pedestrians who were injured.\n",
        "- `cyclist_injured`: Number of people traveling on a bicycle who were injured.\n",
        "- `motorist_injured`: Number of people traveling in a vehicle who were injured.\n",
        "- `total_injured`: Total number of people injured.\n",
        "- `pedestrians_killed`: Number of pedestrians who were killed.\n",
        "- `cyclist_killed`: Number of people traveling on a bicycle who were killed.\n",
        "- `motorist_killed`: Number of people traveling in a vehicle who were killed.\n",
        "- `total_killed`: Total number of people killed.\n",
        "- `vehicle_1` through `vehicle_5`: Type of each vehicle involved in the accident.\n",
        "- `cause_vehicle_1` through `cause_vehicle_5`: Contributing factor for each vehicle in the accident."
      ]
    },
    {
      "cell_type": "markdown",
      "metadata": {
        "id": "nm4MS7lplwzU"
      },
      "source": [
        "Let's quickly recap how to count missing values. We'll start by creating a dataframe with random null values:"
      ]
    },
    {
      "cell_type": "code",
      "metadata": {
        "colab": {
          "base_uri": "https://localhost:8080/"
        },
        "id": "xJDnfASNiCC9",
        "outputId": "656ef452-c001-46ae-d39d-f641879a06c3"
      },
      "source": [
        "data = np.random.choice([1.0, np.nan],\n",
        "                        size=(3, 3),\n",
        "                        p=[.3, .7])\n",
        "df = pd.DataFrame(data, columns=['A','B','C'])\n",
        "print(df)"
      ],
      "execution_count": null,
      "outputs": [
        {
          "output_type": "stream",
          "text": [
            "     A    B   C\n",
            "0  NaN  NaN NaN\n",
            "1  NaN  1.0 NaN\n",
            "2  1.0  NaN NaN\n"
          ],
          "name": "stdout"
        }
      ]
    },
    {
      "cell_type": "markdown",
      "metadata": {
        "id": "pDic64LCoZdZ"
      },
      "source": [
        "Next, we can use the `DataFrame.isnull()` [method](http://pandas.pydata.org/pandas-docs/stable/reference/api/pandas.DataFrame.isnull.html) to identify which values are null:"
      ]
    },
    {
      "cell_type": "code",
      "metadata": {
        "colab": {
          "base_uri": "https://localhost:8080/"
        },
        "id": "DQgYS1jxiHiB",
        "outputId": "b0585526-deb9-4e10-a6dc-c78cfd4fed1a"
      },
      "source": [
        "print(df.isnull())"
      ],
      "execution_count": null,
      "outputs": [
        {
          "output_type": "stream",
          "text": [
            "       A      B     C\n",
            "0   True   True  True\n",
            "1   True  False  True\n",
            "2  False   True  True\n"
          ],
          "name": "stdout"
        }
      ]
    },
    {
      "cell_type": "markdown",
      "metadata": {
        "id": "szKgvo21okSh"
      },
      "source": [
        "We can chain the result to `DataFrame.sum()` [method](http://pandas.pydata.org/pandas-docs/stable/reference/api/pandas.DataFrame.sum.html) to count the number of null values in each column:"
      ]
    },
    {
      "cell_type": "code",
      "metadata": {
        "id": "yfWxQv74iKfU",
        "colab": {
          "base_uri": "https://localhost:8080/"
        },
        "outputId": "fae888ef-3770-4fa6-c8c4-6c8e949f0f2f"
      },
      "source": [
        "print(df.isnull().sum())"
      ],
      "execution_count": null,
      "outputs": [
        {
          "output_type": "stream",
          "text": [
            "A    2\n",
            "B    2\n",
            "C    3\n",
            "dtype: int64\n"
          ],
          "name": "stdout"
        }
      ]
    },
    {
      "cell_type": "markdown",
      "metadata": {
        "id": "Ltv_RxLNosSA"
      },
      "source": [
        "Let's use this technique to count the null values in our data set."
      ]
    },
    {
      "cell_type": "markdown",
      "metadata": {
        "id": "q62ex436pNOA"
      },
      "source": [
        "**Instructions:**\n",
        "\n",
        "We have read the CSV file into a pandas dataframe called `mvc`.\n",
        "\n",
        "1. Create a series that counts the number of null values in each of the columns in the `mvc` dataframe. Assign the result to `null_counts`."
      ]
    },
    {
      "cell_type": "code",
      "metadata": {
        "id": "xUOKYuKvzbhl",
        "colab": {
          "base_uri": "https://localhost:8080/"
        },
        "outputId": "ea2e11da-c379-45e4-d64a-2d2992904b2b"
      },
      "source": [
        "# Solution\n",
        "\n",
        "data = np.random.choice([1.0, np.nan],\n",
        " size=(3, 3), p=[.3, .7])\n",
        "df = pd.DataFrame(data, columns=['A','B','C'])\n",
        "print(df)\n",
        "\n",
        "null_counts = mvc.isnull().sum()"
      ],
      "execution_count": null,
      "outputs": [
        {
          "output_type": "stream",
          "text": [
            "     A    B    C\n",
            "0  1.0  NaN  1.0\n",
            "1  NaN  NaN  NaN\n",
            "2  NaN  1.0  1.0\n"
          ],
          "name": "stdout"
        }
      ]
    },
    {
      "cell_type": "markdown",
      "metadata": {
        "id": "MNqQeGQN3Wmq"
      },
      "source": [
        "## 2. Verifying the Total Columns"
      ]
    },
    {
      "cell_type": "markdown",
      "metadata": {
        "id": "3yey--i93Y8_"
      },
      "source": [
        "To give us a better picture of the null values in the data, let's calculate the percentage of null values in each column. Below, we divide the number of null values in each column by the total number of values in the data set:\n",
        "\n"
      ]
    },
    {
      "cell_type": "code",
      "metadata": {
        "id": "0Be6DElQ3vvS"
      },
      "source": [
        "null_counts_pct = null_counts / mvc.shape[0] * 100"
      ],
      "execution_count": null,
      "outputs": []
    },
    {
      "cell_type": "markdown",
      "metadata": {
        "id": "9odWbbgs3yDP"
      },
      "source": [
        "We'll then add both the counts and percentages to a dataframe to make them easier to compare:"
      ]
    },
    {
      "cell_type": "code",
      "metadata": {
        "id": "ryxNnNMA3ziM",
        "colab": {
          "base_uri": "https://localhost:8080/"
        },
        "outputId": "9adeb2fd-20ff-4659-a77d-0e7c0547ffaa"
      },
      "source": [
        "null_df = pd.DataFrame({'null_counts': null_counts, 'null_pct': null_counts_pct})\n",
        "# Rotate the dataframe so that rows become columns and vice-versa\n",
        "null_df = null_df.T.astype(int)\n",
        "\n",
        "print(null_df)"
      ],
      "execution_count": null,
      "outputs": [
        {
          "output_type": "stream",
          "text": [
            "             unique_key  date  ...  cause_vehicle_4  cause_vehicle_5\n",
            "null_counts           0     0  ...            57111            57671\n",
            "null_pct              0     0  ...               98               99\n",
            "\n",
            "[2 rows x 26 columns]\n"
          ],
          "name": "stdout"
        }
      ]
    },
    {
      "cell_type": "markdown",
      "metadata": {
        "id": "dcMHjL8o318F"
      },
      "source": [
        "About a third of the columns have no null values, with the rest ranging from less than 1% to 99%!\n",
        "\n",
        "To make things easier, let's start by looking at the group of columns that relate to people killed in collisions.\n",
        "\n",
        "We'll use list comprehension to reduce our summary dataframe to just those columns:\n",
        "\n"
      ]
    },
    {
      "cell_type": "code",
      "metadata": {
        "id": "VsG_L7kjfGEr",
        "colab": {
          "base_uri": "https://localhost:8080/"
        },
        "outputId": "72fb7ceb-10f3-4e15-d6d1-a7fb10be7056"
      },
      "source": [
        "killed_cols = [col for col in mvc.columns if 'killed' in col]\n",
        "print(null_df[killed_cols])"
      ],
      "execution_count": null,
      "outputs": [
        {
          "output_type": "stream",
          "text": [
            "             pedestrians_killed  cyclist_killed  motorist_killed  total_killed\n",
            "null_counts                   0               0                0             5\n",
            "null_pct                      0               0                0             0\n"
          ],
          "name": "stdout"
        }
      ]
    },
    {
      "cell_type": "markdown",
      "metadata": {
        "id": "QYTGQjkSfLCO"
      },
      "source": [
        "We can see that each of the individual categories have no missing values, but the `total_killed` column has five missing values.\n",
        "\n",
        "One option for handling this would be to remove – or drop – those five rows. This would be a reasonably valid choice since it's a tiny portion of the data, but let's think about what other options we have first.\n",
        "\n",
        "If you think about it, the total number of people killed should be the sum of each of the individual categories. We might be able to \"fill in\" the missing values with the sums of the individual columns for that row. The technical name for filling in a missing value with a replacement value is called **imputation**.\n",
        "\n"
      ]
    },
    {
      "cell_type": "markdown",
      "metadata": {
        "id": "Pd-8ID9dfRPt"
      },
      "source": [
        "Let's look at how we could explore the values where the `total_killed` isn't equal to the sum of the other three columns. We'll illustrate this process using a series of diagrams. The diagrams won't contain values, they'll just show a grid to represent the values.\n",
        "\n",
        "Let's start with a dataframe of just the four columns relating to people killed:\n",
        "![img](https://s3.amazonaws.com/dq-content/370/verify_totals_1.svg)\n",
        "\n"
      ]
    },
    {
      "cell_type": "markdown",
      "metadata": {
        "id": "ZkQ323CEfjcH"
      },
      "source": [
        "We then select just the first three columns, and manually sum each row:\n",
        "\n",
        "![img](https://s3.amazonaws.com/dq-content/370/verify_totals_2.svg)\n",
        "\n",
        "We then compare the manual sum to the original total column to create a boolean mask where equivalent values are *not* equal:\n",
        "\n",
        "![img](https://s3.amazonaws.com/dq-content/370/verify_totals_3.svg)\n",
        "\n",
        "Lastly, we use the boolean mask to filter the original dataframe to include only rows where the manual sum and original aren't equal:\n",
        "\n",
        "![img](https://s3.amazonaws.com/dq-content/370/verify_totals_4.svg)\n",
        "\n",
        "Let's use this strategy to look at the rows that don't match up!\n",
        "\n"
      ]
    },
    {
      "cell_type": "markdown",
      "metadata": {
        "id": "xO_slk6_fz3K"
      },
      "source": [
        "**Instructions:**\n",
        "\n",
        "We created a dataframe `killed`, containing the five columns that relate to people killed in collisions.\n",
        "\n",
        "1. Select the first three columns from `killed` and sum each row. Assign the result to `killed_manual_sum`.\n",
        "2. Create a boolean mask that checks whether each value in `killed_manual_sum` is not equal to the values in the `total_killed` column. Assign the boolean mask to `killed_mask`.\n",
        "3. Use `killed_mask` to filter the rows in `killed`. Assign the result to `killed_non_eq`.\n"
      ]
    },
    {
      "cell_type": "code",
      "metadata": {
        "id": "ia7UF6e4f1BP"
      },
      "source": [
        "killed_cols = [col for col in mvc.columns if 'killed' in col]\n",
        "killed = mvc[killed_cols].copy()"
      ],
      "execution_count": null,
      "outputs": []
    },
    {
      "cell_type": "code",
      "metadata": {
        "id": "10x3XqHHf2AV"
      },
      "source": [
        "# Solution\n",
        "\n",
        "killed_cols = [col for col in mvc.columns if 'killed' in col]\n",
        "killed = mvc[killed_cols].copy()\n",
        "killed_manual_sum = killed.iloc[:,:3].sum(axis=1)\n",
        "killed_mask = killed_manual_sum != killed['total_killed']\n",
        "killed_non_eq = killed[killed_mask]"
      ],
      "execution_count": null,
      "outputs": []
    },
    {
      "cell_type": "markdown",
      "metadata": {
        "id": "kS_B2Wq43ZTD"
      },
      "source": [
        "## 3. Filling and Verifying the Killed and Injured Data"
      ]
    },
    {
      "cell_type": "markdown",
      "metadata": {
        "id": "_Ha8jIZl3ZVq"
      },
      "source": [
        "The `killed_non_eq` dataframe we created in the previous exercise contained six rows:"
      ]
    },
    {
      "cell_type": "code",
      "metadata": {
        "colab": {
          "base_uri": "https://localhost:8080/"
        },
        "id": "FIXlQ2pMC7eb",
        "outputId": "f2b28c0c-600a-4542-f560-26ecce7b2248"
      },
      "source": [
        "killed_non_eq.head(6)"
      ],
      "execution_count": null,
      "outputs": [
        {
          "output_type": "execute_result",
          "data": {
            "text/html": [
              "<div>\n",
              "<style scoped>\n",
              "    .dataframe tbody tr th:only-of-type {\n",
              "        vertical-align: middle;\n",
              "    }\n",
              "\n",
              "    .dataframe tbody tr th {\n",
              "        vertical-align: top;\n",
              "    }\n",
              "\n",
              "    .dataframe thead th {\n",
              "        text-align: right;\n",
              "    }\n",
              "</style>\n",
              "<table border=\"1\" class=\"dataframe\">\n",
              "  <thead>\n",
              "    <tr style=\"text-align: right;\">\n",
              "      <th></th>\n",
              "      <th>pedestrians_killed</th>\n",
              "      <th>cyclist_killed</th>\n",
              "      <th>motorist_killed</th>\n",
              "      <th>total_killed</th>\n",
              "    </tr>\n",
              "  </thead>\n",
              "  <tbody>\n",
              "    <tr>\n",
              "      <th>3508</th>\n",
              "      <td>0</td>\n",
              "      <td>0</td>\n",
              "      <td>0</td>\n",
              "      <td>NaN</td>\n",
              "    </tr>\n",
              "    <tr>\n",
              "      <th>20163</th>\n",
              "      <td>0</td>\n",
              "      <td>0</td>\n",
              "      <td>0</td>\n",
              "      <td>NaN</td>\n",
              "    </tr>\n",
              "    <tr>\n",
              "      <th>22046</th>\n",
              "      <td>0</td>\n",
              "      <td>0</td>\n",
              "      <td>1</td>\n",
              "      <td>0.0</td>\n",
              "    </tr>\n",
              "    <tr>\n",
              "      <th>48719</th>\n",
              "      <td>0</td>\n",
              "      <td>0</td>\n",
              "      <td>0</td>\n",
              "      <td>NaN</td>\n",
              "    </tr>\n",
              "    <tr>\n",
              "      <th>55148</th>\n",
              "      <td>0</td>\n",
              "      <td>0</td>\n",
              "      <td>0</td>\n",
              "      <td>NaN</td>\n",
              "    </tr>\n",
              "    <tr>\n",
              "      <th>55699</th>\n",
              "      <td>0</td>\n",
              "      <td>0</td>\n",
              "      <td>0</td>\n",
              "      <td>NaN</td>\n",
              "    </tr>\n",
              "  </tbody>\n",
              "</table>\n",
              "</div>"
            ],
            "text/plain": [
              "       pedestrians_killed  cyclist_killed  motorist_killed  total_killed\n",
              "3508                    0               0                0           NaN\n",
              "20163                   0               0                0           NaN\n",
              "22046                   0               0                1           0.0\n",
              "48719                   0               0                0           NaN\n",
              "55148                   0               0                0           NaN\n",
              "55699                   0               0                0           NaN"
            ]
          },
          "metadata": {
            "tags": []
          },
          "execution_count": 14
        }
      ]
    },
    {
      "cell_type": "markdown",
      "metadata": {
        "id": "jg7IJfOcC_9q"
      },
      "source": [
        "We can categorize these into two categories:\n",
        "\n",
        "1. Five rows where the `total_killed` is not equal to the sum of the other columns because the total value is missing.\n",
        "2. One row where the `total_killed` is less than the sum of the other columns.\n",
        "\n",
        "From this, we can conclude that filling null values with the sum of the columns is a fairly good choice for our imputation, given that only six rows out of around 58,000 don't match this pattern."
      ]
    },
    {
      "cell_type": "markdown",
      "metadata": {
        "id": "YLRXkuSGDUBx"
      },
      "source": [
        "We've also identified a row that has suspicious data - one that doesn't sum correctly. Once we have imputed values for all rows with missing values for `total_killed`, we'll mark this suspect row by setting its value to `NaN`.\n",
        "\n",
        "In order to execute this, we'll learn to use the `Series.mask()` [method](http://pandas.pydata.org/pandas-docs/stable/reference/api/pandas.Series.mask.html). `Series.mask()` is useful when you want to replace certain values in a series based off a boolean mask. The syntax for the method is:\n",
        "\n",
        "```\n",
        "Series.mask(bool_mask, val_to_replace)\n",
        "```"
      ]
    },
    {
      "cell_type": "markdown",
      "metadata": {
        "id": "q9-Fg2PH9Ffv"
      },
      "source": [
        "Let's look at an example with some simple data. We'll start with a series called `fruits`:\n",
        "![img](https://s3.amazonaws.com/dq-content/370/mask_1.svg)\n",
        "\n",
        "Next, we create a boolean series that matches values equal to the string `Banana`:\n",
        "\n",
        "![img](https://s3.amazonaws.com/dq-content/370/mask_2.svg)\n"
      ]
    },
    {
      "cell_type": "markdown",
      "metadata": {
        "id": "CGm2KYgf_xB2"
      },
      "source": [
        "Lastly, we use `Series.mask()` to replace all the values that match the boolean series with a new value, `Pear`:\n",
        "![img](https://s3.amazonaws.com/dq-content/370/mask_3.svg)\n",
        "\n"
      ]
    },
    {
      "cell_type": "markdown",
      "metadata": {
        "id": "faCSgFjX_48a"
      },
      "source": [
        "If we wanted to describe the logic of the code above, we'd say *For each value in the \"fruits\" series, if the corresponding value in the \"bool\" series is true, update the value to \"Pear,\" otherwise leave the original value.*\n",
        "\n"
      ]
    },
    {
      "cell_type": "markdown",
      "metadata": {
        "id": "wkYY0Ga8_8QZ"
      },
      "source": [
        "In the first example above, we updated a single value, but we can also update with the matching value from a series that has identical index labels, like this `nums` series:\n",
        "\n",
        "![img](https://s3.amazonaws.com/dq-content/370/mask_4.svg)"
      ]
    },
    {
      "cell_type": "markdown",
      "metadata": {
        "id": "_Z1RrgudAE8l"
      },
      "source": [
        "Let's look at how we can update the matching values in `fruit` with the corresponding values in `nums`:\n",
        "![img](https://s3.amazonaws.com/dq-content/370/mask_5.svg)\n",
        "\n"
      ]
    },
    {
      "cell_type": "markdown",
      "metadata": {
        "id": "NK39LmxYAlfP"
      },
      "source": [
        "If we wanted to describe the logic of the code above, we'd say *For each value in the \"fruits\" series, if the corresponding value in the \"bool\" series is true, update the value to the corresponding value from \"nums,\" otherwise leave the original value.*\n",
        "\n",
        "Let's look at how we'd use this technique to update the values in the `total_killed` column. First, we'll replace all null values with the equivalent values from our `killed_manual_sum` series:\n"
      ]
    },
    {
      "cell_type": "code",
      "metadata": {
        "id": "qDMSKS2zA0sB"
      },
      "source": [
        "killed_null = killed['total_killed'].isnull()\n",
        "killed['total_killed'] = killed['total_killed'].mask(killed_null, killed_manual_sum)"
      ],
      "execution_count": null,
      "outputs": []
    },
    {
      "cell_type": "markdown",
      "metadata": {
        "id": "KvyDAasCA0N8"
      },
      "source": [
        "Next, we'll replace any values where the manual sum and the total column aren't equal with `np.nan`. This time we'll define the boolean series directly into `Series.mask()`:"
      ]
    },
    {
      "cell_type": "code",
      "metadata": {
        "id": "Zz0bA73hA_8W"
      },
      "source": [
        "killed['total_killed'] = killed['total_killed'].mask(killed['total_killed'] != killed_manual_sum, np.nan)"
      ],
      "execution_count": null,
      "outputs": []
    },
    {
      "cell_type": "markdown",
      "metadata": {
        "id": "uh9x7l1OBAtc"
      },
      "source": [
        "Now let's look at the values we've changed:"
      ]
    },
    {
      "cell_type": "code",
      "metadata": {
        "colab": {
          "base_uri": "https://localhost:8080/"
        },
        "id": "X24IQKNoBC40",
        "outputId": "9bf9ef02-0ef2-4221-c3d3-8ebd4450ca05"
      },
      "source": [
        "print(killed[killed_mask])"
      ],
      "execution_count": null,
      "outputs": [
        {
          "output_type": "stream",
          "text": [
            "       pedestrians_killed  cyclist_killed  motorist_killed  total_killed\n",
            "3508                    0               0                0           0.0\n",
            "20163                   0               0                0           0.0\n",
            "22046                   0               0                1           NaN\n",
            "48719                   0               0                0           0.0\n",
            "55148                   0               0                0           0.0\n",
            "55699                   0               0                0           0.0\n"
          ],
          "name": "stdout"
        }
      ]
    },
    {
      "cell_type": "markdown",
      "metadata": {
        "id": "W1OIuUTiBFMe"
      },
      "source": [
        "We've gone from five null values to one, and flagged some suspicious data. Let's do the same for the injured columns."
      ]
    },
    {
      "cell_type": "markdown",
      "metadata": {
        "id": "fU-EqpduBGqg"
      },
      "source": [
        "**Instructions:**\n",
        "\n",
        "We included the code to clean the `killed` columns. In addition, we've created an `injured` dataframe with just the `injured` columns and `injured_manual_sum`, a series manually summing the three individual injured columns.\n",
        "\n",
        "1. Use `Series.mask()` to replace any null values from the `total_injured` column with their equivalents from the `injured_manual_sum` series.\n",
        "2. Use `Series.mask()` to replace any numbers from `total_injured` that aren't equal to their equivalents in `injured_manual_sum` with `np.nan`."
      ]
    },
    {
      "cell_type": "code",
      "metadata": {
        "id": "uCZkMbXHBY_Y"
      },
      "source": [
        "# Solution\n",
        "\n",
        "# fix the killed values\n",
        "killed['total_killed'] = killed['total_killed'].mask(killed['total_killed'].isnull(), killed_manual_sum)\n",
        "killed['total_killed'] = killed['total_killed'].mask(killed['total_killed'] != killed_manual_sum, np.nan)\n",
        "\n",
        "# Create an injured dataframe and manually sum values\n",
        "injured = mvc[[col for col in mvc.columns if 'injured' in col]].copy()\n",
        "injured_manual_sum = injured.iloc[:,:3].sum(axis=1)\n",
        "injured['total_injured'] = injured['total_injured'].mask(injured['total_injured'].isnull(), injured_manual_sum)\n",
        "injured['total_injured'] = injured['total_injured'].mask(injured['total_injured'] != injured_manual_sum, np.nan)"
      ],
      "execution_count": null,
      "outputs": []
    },
    {
      "cell_type": "markdown",
      "metadata": {
        "id": "VghEIrKK3ZX3"
      },
      "source": [
        "## 4. Assigning the Corrected Data Back to the Main Dataframe"
      ]
    },
    {
      "cell_type": "markdown",
      "metadata": {
        "id": "T8j4pinE3ZhG"
      },
      "source": [
        "Let's summarize the count of null values before and after our changes:"
      ]
    },
    {
      "cell_type": "code",
      "metadata": {
        "colab": {
          "base_uri": "https://localhost:8080/"
        },
        "id": "FThzfZvGUcOH",
        "outputId": "ec6fbcf6-fd7e-4b82-a190-d5affa348a42"
      },
      "source": [
        "summary = {\n",
        "    'injured': [\n",
        "        mvc['total_injured'].isnull().sum(),\n",
        "        injured['total_injured'].isnull().sum()\n",
        "    ],\n",
        "    'killed': [\n",
        "        mvc['total_killed'].isnull().sum(),\n",
        "        killed['total_killed'].isnull().sum()\n",
        "    ]\n",
        "}\n",
        "print(pd.DataFrame(summary, index=['before','after']))"
      ],
      "execution_count": null,
      "outputs": [
        {
          "output_type": "stream",
          "text": [
            "        injured  killed\n",
            "before        1       5\n",
            "after        21       0\n"
          ],
          "name": "stdout"
        }
      ]
    },
    {
      "cell_type": "markdown",
      "metadata": {
        "id": "rnG9lX0CU5w1"
      },
      "source": [
        "For the `total_killed` column, the number of values has gone down from 5 to 1. For the `total_injured` column, the number of values has actually gone up — from 1 to 21. This might sound like we've done the opposite of what we set out to do, but what we've actually done is fill all the null values **and** identify values that have suspect data. This will make any analysis we do on this data more accurate in the long run.\n",
        "\n",
        "Let's assign the values from the `killed` and `injured` dataframe back to the main `mvc` dataframe:"
      ]
    },
    {
      "cell_type": "markdown",
      "metadata": {
        "id": "vNcenHhrVCSd"
      },
      "source": [
        "**Instructions:**\n",
        "\n",
        "1. Assign the `total_injured` column from the `injured` dataframe to the same column in the `mvc` dataframe.\n",
        "2. Assign the `total_killed` column from the `killed` dataframe to the same column in the `mvc` dataframe."
      ]
    },
    {
      "cell_type": "code",
      "metadata": {
        "id": "zu0HXrWRVMKL"
      },
      "source": [
        "# Solution\n",
        "\n",
        "mvc['total_injured'] = injured['total_injured']\n",
        "mvc['total_killed'] = killed['total_killed']\n"
      ],
      "execution_count": null,
      "outputs": []
    },
    {
      "cell_type": "markdown",
      "metadata": {
        "id": "oS8po7Uc3ZmS"
      },
      "source": [
        "## 5. Visualizing Missing Data with Plots"
      ]
    },
    {
      "cell_type": "markdown",
      "metadata": {
        "id": "QDP4EJ1Q3Zpz"
      },
      "source": [
        "Earlier, we used a table of numbers to understand the number of missing values in our dataframe. A different approach we can take is to use a plot to visualize the missing values. The function below uses `seaborn.heatmap()` to represent null values as light squares and non-null values as dark squares:\n",
        "\n"
      ]
    },
    {
      "cell_type": "code",
      "metadata": {
        "id": "2uVvWy6HXkwX"
      },
      "source": [
        "import matplotlib.pyplot as plt\n",
        "import seaborn as sns"
      ],
      "execution_count": null,
      "outputs": []
    },
    {
      "cell_type": "code",
      "metadata": {
        "id": "x5eubx5FXDSp"
      },
      "source": [
        "def plot_null_matrix(df, figsize=(18,15)):\n",
        "    # initiate the figure\n",
        "    plt.figure(figsize=figsize)\n",
        "    # create a boolean dataframe based on whether values are null\n",
        "    df_null = df.isnull()\n",
        "    # create a heatmap of the boolean dataframe\n",
        "    sns.heatmap(~df_null, cbar=False, yticklabels=False)\n",
        "    plt.xticks(rotation=90, size='x-large')\n",
        "    plt.show()"
      ],
      "execution_count": null,
      "outputs": []
    },
    {
      "cell_type": "markdown",
      "metadata": {
        "id": "HlSXUZXlXc5c"
      },
      "source": [
        "Let's look at how the function works by using it to plot just the first row of our `mvc` dataframe. We'll display the first row as a table immediately below so it's easy to compare:"
      ]
    },
    {
      "cell_type": "code",
      "metadata": {
        "colab": {
          "base_uri": "https://localhost:8080/"
        },
        "id": "dVj4T7E3XedS",
        "outputId": "fe2a818a-f067-4002-c460-6e6d5baf1d4e"
      },
      "source": [
        "plot_null_matrix(mvc.head(1), figsize=(18,1))"
      ],
      "execution_count": null,
      "outputs": [
        {
          "output_type": "display_data",
          "data": {
            "image/png": "[encoded data removed]",
            "text/plain": [
              "<Figure size 1296x72 with 1 Axes>"
            ]
          },
          "metadata": {
            "tags": [],
            "needs_background": "light"
          }
        }
      ]
    },
    {
      "cell_type": "code",
      "metadata": {
        "colab": {
          "base_uri": "https://localhost:8080/"
        },
        "id": "11xMf8sOXqL4",
        "outputId": "01b109d7-f868-42c5-c1c3-9323c9b92064"
      },
      "source": [
        "print(mvc.head(1))"
      ],
      "execution_count": null,
      "outputs": [
        {
          "output_type": "stream",
          "text": [
            "   unique_key        date  ... cause_vehicle_4 cause_vehicle_5\n",
            "0     3869058  2018-03-23  ...             NaN             NaN\n",
            "\n",
            "[1 rows x 26 columns]\n"
          ],
          "name": "stdout"
        }
      ]
    },
    {
      "cell_type": "markdown",
      "metadata": {
        "id": "z8Q_YocAXtyA"
      },
      "source": [
        "Each value is represented by a dark square, and each missing value is represented by a light square.\n",
        "\n",
        "Let's look at what a plot matrix looks like for the whole dataframe:"
      ]
    },
    {
      "cell_type": "code",
      "metadata": {
        "colab": {
          "base_uri": "https://localhost:8080/"
        },
        "id": "umFa30tmXxHV",
        "outputId": "9683cd66-888f-4f12-bcb3-1f7ea7240888"
      },
      "source": [
        "plot_null_matrix(mvc)"
      ],
      "execution_count": null,
      "outputs": [
        {
          "output_type": "display_data",
          "data": {
            "image/png": "[encoded data removed]",
            "text/plain": [
              "<Figure size 1296x1080 with 1 Axes>"
            ]
          },
          "metadata": {
            "tags": [],
            "needs_background": "light"
          }
        }
      ]
    },
    {
      "cell_type": "markdown",
      "metadata": {
        "id": "Tzv5Yr1NX65b"
      },
      "source": [
        "We can make some immediate interpretations about our dataframe:\n",
        "\n",
        "- The first three columns have few to no missing values.\n",
        "- The next five columns have missing values scattered throughout, with each column seeming to have its own density of missing values.\n",
        "- The next eight columns are the `injury` and `killed` columns we just cleaned, and only have a few missing values.\n",
        "- The last 10 columns seem to break into two groups of five, with each group of five having similar patterns of null/non-null values."
      ]
    },
    {
      "cell_type": "markdown",
      "metadata": {
        "id": "rOKS4vwWYTWW"
      },
      "source": [
        "Let's examine the pattern in the last 10 columns a little more closely. We can calculate the relationship between two sets of columns, known as **correlation**. To calculate this we use the `dataframe.corr()` [method](http://pandas.pydata.org/pandas-docs/stable/reference/api/pandas.DataFrame.corr.html) (You'll learn more about correlation in a later course). Here's what that looks like:"
      ]
    },
    {
      "cell_type": "code",
      "metadata": {
        "colab": {
          "base_uri": "https://localhost:8080/"
        },
        "id": "znrWwcEoYbFw",
        "outputId": "0e6d3cc4-8d39-4f7b-895d-7efd0915babf"
      },
      "source": [
        "cols_with_missing_vals = mvc.columns[mvc.isnull().sum() > 0]\n",
        "missing_corr = mvc[cols_with_missing_vals].isnull().corr()\n",
        "print(missing_corr)"
      ],
      "execution_count": null,
      "outputs": [
        {
          "output_type": "stream",
          "text": [
            "                  borough  location  ...  cause_vehicle_4  cause_vehicle_5\n",
            "borough          1.000000  0.190105  ...        -0.020158        -0.011348\n",
            "location         0.190105  1.000000  ...         0.004604        -0.004841\n",
            "on_street       -0.350190 -0.073975  ...         0.002737        -0.003107\n",
            "cross_street     0.409107 -0.069719  ...        -0.022074        -0.013455\n",
            "off_street       0.362189  0.084579  ...        -0.002580         0.002863\n",
            "total_injured   -0.003096 -0.001115  ...         0.000477         0.000240\n",
            "total_killed    -0.003043 -0.002494  ...         0.001067         0.000538\n",
            "vehicle_1       -0.018325 -0.010466  ...         0.009022         0.004545\n",
            "vehicle_2       -0.077516 -0.033842  ...         0.058050         0.029264\n",
            "vehicle_3       -0.061932 -0.000927  ...         0.448525         0.225067\n",
            "vehicle_4       -0.020406  0.004655  ...         0.963723         0.515058\n",
            "vehicle_5       -0.010733 -0.005797  ...         0.490537         0.973664\n",
            "cause_vehicle_1 -0.012115 -0.003458  ...         0.006324         0.003186\n",
            "cause_vehicle_2 -0.058596 -0.021373  ...         0.048277         0.024322\n",
            "cause_vehicle_3 -0.060542  0.000684  ...         0.437440         0.220384\n",
            "cause_vehicle_4 -0.020158  0.004604  ...         1.000000         0.503805\n",
            "cause_vehicle_5 -0.011348 -0.004841  ...         0.503805         1.000000\n",
            "\n",
            "[17 rows x 17 columns]\n"
          ],
          "name": "stdout"
        }
      ]
    },
    {
      "cell_type": "markdown",
      "metadata": {
        "id": "utlAOo_Mm6__"
      },
      "source": [
        "Each value is between \n",
        "−\n",
        "1\n",
        " and \n",
        "1\n",
        ", and represents the relationship between two columns. A number close to \n",
        "−\n",
        "1\n",
        " or \n",
        "1\n",
        " represents a strong relationship, where a number in the middle (close to \n",
        "0\n",
        ") represents a weak relationship.\n",
        "\n",
        "If you look closely, you can see a diagonal line of \n",
        "1\n",
        "s going from top left to bottom right. These values represent each columns relationship with itself, which of course is a perfect relationship. The values on the top/right of this \"line of \n",
        "1\n",
        "s\" mirror the values on the bottom/left of this line: The table actually repeats every value twice!"
      ]
    },
    {
      "cell_type": "markdown",
      "metadata": {
        "id": "Nf_V0nkxm_cN"
      },
      "source": [
        "Correlation tables can be hard to interpret. We can convert our table into a plot which will make this a lot easier. Let's see what this plot looks like:\n",
        "\n",
        "![img](https://s3.amazonaws.com/dq-content/370/correlations_df.png)"
      ]
    },
    {
      "cell_type": "markdown",
      "metadata": {
        "id": "4UWQ03NRnVoC"
      },
      "source": [
        "In our correlation plot:\n",
        "\n",
        "- The \"line of \n",
        "1\n",
        "s\" and the repeated values are removed so that it's not visually overwhelming.\n",
        "- Values very close to \n",
        "0\n",
        ", where there is little to no relationship, aren't labeled.\n",
        "- Values close to \n",
        "1\n",
        " are dark blue and values close to \n",
        "−\n",
        "1\n",
        " are dark red — the depth of color represents the strength of the relationship.\n",
        "\n",
        "We provided a helper function to create correlation plots. Let's create a correlation plot of just those last 10 columns to see if we can more closely identify the pattern we saw earlier in the matrix plot.\n",
        "\n"
      ]
    },
    {
      "cell_type": "markdown",
      "metadata": {
        "id": "Xkp6MHYZntxK"
      },
      "source": [
        "**Instructions:**\n",
        "\n",
        "We created a function, `plot_null_correlations()`, which will plot correlations between null values in a dataframe.\n",
        "\n",
        "1. Use list comprehension to produce a list of column names containing the substring `'vehicle'`.\n",
        "2. Use the list of column names to select only those columns from the `mvc` dataframe. Pass the result to the `plot_null_correlations()` function."
      ]
    },
    {
      "cell_type": "code",
      "metadata": {
        "id": "CiORXfpan5lq"
      },
      "source": [
        "# Provided code\n",
        "def plot_null_correlations(df):\n",
        "    # create a correlation matrix only for columns with at least\n",
        "    # one missing value\n",
        "    cols_with_missing_vals = df.columns[df.isnull().sum() > 0]\n",
        "    missing_corr = df[cols_with_missing_vals].isnull().corr()\n",
        "    \n",
        "    # create a mask to avoid repeated values and make\n",
        "    # the plot easier to read\n",
        "    missing_corr = missing_corr.iloc[1:, :-1]\n",
        "    mask = np.triu(np.ones_like(missing_corr), k=1)\n",
        "    \n",
        "    # plot a heatmap of the values\n",
        "    plt.figure(figsize=(20,14))\n",
        "    ax = sns.heatmap(missing_corr, vmin=-1, vmax=1, cbar=False,\n",
        "                     cmap='RdBu', mask=mask, annot=True)\n",
        "    \n",
        "    # format the text in the plot to make it easier to read\n",
        "    for text in ax.texts:\n",
        "        t = float(text.get_text())\n",
        "        if -0.05 < t < 0.01:\n",
        "            text.set_text('')\n",
        "        else:\n",
        "            text.set_text(round(t, 2))\n",
        "        text.set_fontsize('x-large')\n",
        "    plt.xticks(rotation=90, size='x-large')\n",
        "    plt.yticks(rotation=0, size='x-large')\n",
        "\n",
        "    plt.show()"
      ],
      "execution_count": null,
      "outputs": []
    },
    {
      "cell_type": "code",
      "metadata": {
        "id": "n9kk5kBCIpnD"
      },
      "source": [
        "# Solution:\n",
        "\n",
        "veh_cols = [c for c in mvc.columns if 'vehicle' in c]\n",
        "plot_null_correlations(mvc[veh_cols])"
      ],
      "execution_count": null,
      "outputs": []
    },
    {
      "cell_type": "markdown",
      "metadata": {
        "id": "Z_jLG9343Zsz"
      },
      "source": [
        "## 6. Analyzing Correlations in Missing Data"
      ]
    },
    {
      "cell_type": "markdown",
      "metadata": {
        "id": "tA88kToh3Zv8"
      },
      "source": [
        "The plot I produced on the previous screen is below:\n",
        "\n",
        "![img](https://s3.amazonaws.com/dq-content/370/correlations_vehicles_1.png)"
      ]
    },
    {
      "cell_type": "markdown",
      "metadata": {
        "id": "qWloAMjyegIc"
      },
      "source": [
        "We outlined a diagonal strip of five squares in green that have a higher correlation than the rest. The pairs of column names that make up these five correlations are:\n",
        "\n",
        "1. `vehicle_1` and `cause_vehicle_1`\n",
        "2. `vehicle_2` and `cause_vehicle_2`\n",
        "3. `vehicle_3` and `cause_vehicle_3`\n",
        "4. `vehicle_4` and `cause_vehicle_4`\n",
        "5. `vehicle_5` and `cause_vehicle_5`\n"
      ]
    },
    {
      "cell_type": "markdown",
      "metadata": {
        "id": "ilfkzgOVe6g0"
      },
      "source": [
        "If you think about it, this makes sense. When a vehicle is in an accident, there is likely to be a cause, and vice-versa.\n",
        "\n",
        "Let's explore the variations in missing values from these five pairs of columns. We'll create a dataframe that counts, for each pair:\n",
        "\n",
        "- The number of values where the vehicle is missing when the cause is not missing.\n",
        "- The number of values where the cause is missing when the vehicle is not missing.\n"
      ]
    },
    {
      "cell_type": "markdown",
      "metadata": {
        "id": "KmRwuDmcfCMI"
      },
      "source": [
        "The final structure of our dataframe will look like this:\n",
        "\n",
        "||v_number|vehicle_missing|cause_missing|\n",
        "|---|---|---|---|\n",
        "|0|1|[count]|[count]|\n",
        "|1|2|[count]|[count]|\n",
        "|2|3|[count]|[count]|\n",
        "|3|4|[count]|[count]|\n",
        "|4|5|[count]|[count]|\n"
      ]
    },
    {
      "cell_type": "markdown",
      "metadata": {
        "id": "LjQHcUs-gEbS"
      },
      "source": [
        "**Instructions:**\n",
        "\n",
        "We provided the start of the loop you are going to build, including code that generates each column name as strings: `v_col` and `c_col`\n",
        "\n",
        "1. Uncomment the commented lines (you might want to use this [keyboard shortcut](https://community.dataquest.io/t/do-you-have-any-keyboard-shortcuts#heading--comment-one-more-lines)).\n",
        "2. Add code to the body of the loop that will:\n",
        " - Count the number of rows where the `v_col` column is null and the `c_col` column is not null. Assign the result to `v_null`.\n",
        "- Count the number of rows where the `c_col` column is null and the `v_col` column is not null. Assign the result to `c_null`.\n",
        " - Append an item to the `vc_null_data` list. The item should be a list containing, in order: `v`, `v_null`, `c_null`.\n",
        "3. Outside the loop, create a dataframe using the `vc_null_data` list of lists.\n",
        " - Use the `columns` parameter and the `col_labels` list to set the column names of the dataframe.\n",
        " - Assign the dataframe to `vc_null_df`."
      ]
    },
    {
      "cell_type": "code",
      "metadata": {
        "id": "f5UFozkLgsAA"
      },
      "source": [
        "# Start code given:\n",
        "col_labels = ['v_number', 'vehicle_missing', 'cause_missing']\n",
        "\n",
        "vc_null_data = []\n"
      ],
      "execution_count": null,
      "outputs": []
    },
    {
      "cell_type": "code",
      "metadata": {
        "id": "edxDoTmznn3q"
      },
      "source": [
        "# Answer\n",
        "\n",
        "for v in range(1,6):\n",
        "    v_col = 'vehicle_{}'.format(v)\n",
        "    c_col = 'cause_vehicle_{}'.format(v)\n",
        "    \n",
        "    v_null = (mvc[v_col].isnull() & mvc[c_col].notnull()).sum()\n",
        "    c_null = (mvc[c_col].isnull() & mvc[v_col].notnull()).sum()\n",
        "    \n",
        "    vc_null_data.append([v, v_null, c_null])\n",
        "\n",
        "vc_null_df = pd.DataFrame(vc_null_data, columns=col_labels)"
      ],
      "execution_count": null,
      "outputs": []
    },
    {
      "cell_type": "markdown",
      "metadata": {
        "id": "58lresB53Zz1"
      },
      "source": [
        "## 7. Finding the Most Common Values Across Multiple Columns"
      ]
    },
    {
      "cell_type": "markdown",
      "metadata": {
        "id": "3qtRs7jM3Z3I"
      },
      "source": [
        "The analysis we did on the previous screen indicates that there are roughly 4,500 missing values across the 10 columns. The easiest option for handling these would be to drop the rows with missing values. This would mean losing almost 10% of the total data, which is something we ideally want to avoid.\n",
        "\n",
        "A better option is to impute the data, like we did earlier. Because the data in these columns is text data, we can't perform a numeric calculation to impute missing data like we did with the `injuries` and `killed` columns."
      ]
    },
    {
      "cell_type": "markdown",
      "metadata": {
        "id": "r6jd6Ok4erUY"
      },
      "source": [
        "One common option when imputing is to use the most common value to fill in data. Let's look at the common values across these columns and see if we can use that to make a decision.\n",
        "\n",
        "We've previously used the `Series.value_counts()` [method](http://pandas.pydata.org/pandas-docs/stable/reference/api/pandas.Series.value_counts.html) to find the most common values in a single column. In this case, we want to find the most common values across multiple columns. In order to do this, we first need to convert our dataframe of multiple columns into one single column, and then we can use `Series.value_counts()` to count the items.\n",
        "\n"
      ]
    },
    {
      "cell_type": "markdown",
      "metadata": {
        "id": "6jzP24LOHcMt"
      },
      "source": [
        "To convert a dataframe to a single column of values, we use the `DataFrame.stack()` [method](http://pandas.pydata.org/pandas-docs/stable/reference/api/pandas.DataFrame.stack.html#pandas.DataFrame.stack), which stacks a dataframe object into a Series object. Let's look at a diagram of how this works. We'll start with a simple dataframe with three columns containing words:\n",
        "![img](https://s3.amazonaws.com/dq-content/370/stack_count_1.svg)\n",
        "\n"
      ]
    },
    {
      "cell_type": "markdown",
      "metadata": {
        "id": "WEkcbtzlIUSk"
      },
      "source": [
        "When we use `DataFrame.stack()`, the values become a series object, with the values from each row \"stacked\" on top of each other:\n",
        "![img](https://s3.amazonaws.com/dq-content/370/stack_count_2.svg)"
      ]
    },
    {
      "cell_type": "markdown",
      "metadata": {
        "id": "PrL-G1i2JbAD"
      },
      "source": [
        "This series object actually has two row indexes. The first index is the original row index, and the second contains the columns that correspond to the value.\n",
        "\n",
        "Once we have this stacked series, we can just use `Series.value_counts()` to count the values:\n",
        "![img](https://s3.amazonaws.com/dq-content/370/stack_count_3.svg)"
      ]
    },
    {
      "cell_type": "markdown",
      "metadata": {
        "id": "Q_6ghI5Wu0Nw"
      },
      "source": [
        "Let's use this technique to count the most common values for the cause set of columns. We'll start by selecting only the columns containing the substring `cause`.\n"
      ]
    },
    {
      "cell_type": "code",
      "metadata": {
        "colab": {
          "base_uri": "https://localhost:8080/"
        },
        "id": "ywfN2Mkau7Tf",
        "outputId": "1863a42a-9267-47cd-d22f-80eef81c2eeb"
      },
      "source": [
        "cause_cols = [c for c in mvc.columns if \"cause_\" in c]\n",
        "cause = mvc[cause_cols]\n",
        "print(cause.head())"
      ],
      "execution_count": null,
      "outputs": [
        {
          "output_type": "stream",
          "text": [
            "         cause_vehicle_1      cause_vehicle_2  ... cause_vehicle_4 cause_vehicle_5\n",
            "0  Following Too Closely          Unspecified  ...             NaN             NaN\n",
            "1       Backing Unsafely          Unspecified  ...             NaN             NaN\n",
            "2  Following Too Closely          Unspecified  ...             NaN             NaN\n",
            "3                  Glare  Passing Too Closely  ...             NaN             NaN\n",
            "4     Turning Improperly          Unspecified  ...             NaN             NaN\n",
            "\n",
            "[5 rows x 5 columns]\n"
          ],
          "name": "stdout"
        }
      ]
    },
    {
      "cell_type": "markdown",
      "metadata": {
        "id": "d0pv0mLXvBIu"
      },
      "source": [
        "Next, we'll stack the values into a single series object:"
      ]
    },
    {
      "cell_type": "code",
      "metadata": {
        "colab": {
          "base_uri": "https://localhost:8080/"
        },
        "id": "yGeZSTE6vD3e",
        "outputId": "3f15af4b-7eea-4a55-e0d4-1d80c3119af0"
      },
      "source": [
        "cause_1d = cause.stack()\n",
        "print(cause_1d.head())"
      ],
      "execution_count": null,
      "outputs": [
        {
          "output_type": "stream",
          "text": [
            "0  cause_vehicle_1    Following Too Closely\n",
            "   cause_vehicle_2              Unspecified\n",
            "1  cause_vehicle_1         Backing Unsafely\n",
            "   cause_vehicle_2              Unspecified\n",
            "2  cause_vehicle_1    Following Too Closely\n",
            "dtype: object\n"
          ],
          "name": "stdout"
        }
      ]
    },
    {
      "cell_type": "markdown",
      "metadata": {
        "id": "fqBCt3_1vID9"
      },
      "source": [
        "You may notice that the stacked version omits null values - this is fine, as we're just interested in the most common non-null values.\n",
        "\n",
        "Finally, we count the values in the series:\n",
        "\n"
      ]
    },
    {
      "cell_type": "code",
      "metadata": {
        "colab": {
          "base_uri": "https://localhost:8080/"
        },
        "id": "bkjfJ0NmvKGL",
        "outputId": "7aca92a9-2aca-4821-e71e-a8e5f955f136"
      },
      "source": [
        "cause_counts = cause_1d.value_counts()\n",
        "top10_causes = cause_counts.head(10)\n",
        "print(top10_causes)"
      ],
      "execution_count": null,
      "outputs": [
        {
          "output_type": "stream",
          "text": [
            "Unspecified                       57481\n",
            "Driver Inattention/Distraction    17650\n",
            "Following Too Closely              6567\n",
            "Failure to Yield Right-of-Way      4566\n",
            "Passing or Lane Usage Improper     3260\n",
            "Passing Too Closely                3045\n",
            "Backing Unsafely                   3001\n",
            "Other Vehicular                    2523\n",
            "Unsafe Lane Changing               2372\n",
            "Turning Improperly                 1590\n",
            "dtype: int64\n"
          ],
          "name": "stdout"
        }
      ]
    },
    {
      "cell_type": "markdown",
      "metadata": {
        "id": "kNU156cIvN7L"
      },
      "source": [
        "The most common non-null value for the cause columns is Unspecified, which presumably indicates that the officer reporting the collision was unable to determine the cause for that vehicle.\n",
        "\n",
        "Let's use the same technique to identify the most common non-null value for the vehicle columns.\n",
        "\n"
      ]
    },
    {
      "cell_type": "markdown",
      "metadata": {
        "id": "8kv8501WvQ42"
      },
      "source": [
        "**Instructions:**\n",
        "\n",
        "We provided a list comprehension that identifies columns starting with the substring `vehicle`.\n",
        "\n",
        "1. Create a dataframe containing only the columns from `mvc`, identified by the list comprehension `v_cols`.\n",
        "2. Use `DataFrame.stack()` to stack the values from the dataframe into a single series object.\n",
        "3. Use `Series.value_counts()` to count the unique values from the stacked series. Assign the first 10 values to `top10_vehicles`."
      ]
    },
    {
      "cell_type": "code",
      "metadata": {
        "id": "PqL4ZVtEvbaG"
      },
      "source": [
        "# Code provided\n",
        "\n",
        "v_cols = [c for c in mvc.columns if c.startswith(\"vehicle\")]"
      ],
      "execution_count": null,
      "outputs": []
    },
    {
      "cell_type": "code",
      "metadata": {
        "id": "UNOHKisEvnxP"
      },
      "source": [
        "# Answer\n",
        "\n",
        "v_cols = [c for c in mvc.columns if c.startswith(\"vehicle\")]\n",
        "vehicles = mvc[v_cols]\n",
        "vehicles_1d = vehicles.stack()\n",
        "vehicles_counts = vehicles_1d.value_counts()\n",
        "top10_vehicles = vehicles_counts.head(10)"
      ],
      "execution_count": null,
      "outputs": []
    },
    {
      "cell_type": "markdown",
      "metadata": {
        "id": "bMAeYu3c3Z7M"
      },
      "source": [
        "## 8. Filling Unknown Values with a Placeholder"
      ]
    },
    {
      "cell_type": "markdown",
      "metadata": {
        "id": "mTIoZKUG3Z_F"
      },
      "source": [
        "Let's look at the values analysis we completed on the previous screen:"
      ]
    },
    {
      "cell_type": "code",
      "metadata": {
        "colab": {
          "base_uri": "https://localhost:8080/"
        },
        "id": "GLDqU7i8vmdr",
        "outputId": "65b8a206-a081-4c29-b306-4e41d192b9f9"
      },
      "source": [
        "print(top10_vehicles)"
      ],
      "execution_count": null,
      "outputs": [
        {
          "output_type": "stream",
          "text": [
            "Sedan                                  33133\n",
            "Station Wagon/Sport Utility Vehicle    26124\n",
            "PASSENGER VEHICLE                      16026\n",
            "SPORT UTILITY / STATION WAGON          12356\n",
            "Taxi                                    3482\n",
            "Pick-up Truck                           2373\n",
            "TAXI                                    1892\n",
            "Box Truck                               1659\n",
            "Bike                                    1190\n",
            "Bus                                     1162\n",
            "dtype: int64\n"
          ],
          "name": "stdout"
        }
      ]
    },
    {
      "cell_type": "code",
      "metadata": {
        "colab": {
          "base_uri": "https://localhost:8080/"
        },
        "id": "coKLTFcvv_zn",
        "outputId": "0900f393-c235-4cc4-c6cf-360e6a168420"
      },
      "source": [
        "print(top10_causes)"
      ],
      "execution_count": null,
      "outputs": [
        {
          "output_type": "stream",
          "text": [
            "Unspecified                       57481\n",
            "Driver Inattention/Distraction    17650\n",
            "Following Too Closely              6567\n",
            "Failure to Yield Right-of-Way      4566\n",
            "Passing or Lane Usage Improper     3260\n",
            "Passing Too Closely                3045\n",
            "Backing Unsafely                   3001\n",
            "Other Vehicular                    2523\n",
            "Unsafe Lane Changing               2372\n",
            "Turning Improperly                 1590\n",
            "dtype: int64\n"
          ],
          "name": "stdout"
        }
      ]
    },
    {
      "cell_type": "markdown",
      "metadata": {
        "id": "R9XGoDIZwGH0"
      },
      "source": [
        "The top \"cause\" is an \"Unspecified\" placeholder. This is useful instead of a null value as it makes the distinction between a value that is missing because there were only a certain number of vehicles in the collision versus one that is because the contributing cause for a particular vehicle is unknown.\n",
        "\n",
        "The vehicles columns don't have an equivalent, but we can still use the same technique. Here's the logic we'll need to do for each pair of vehicle/cause columns:\n",
        "\n",
        "1. For values where the vehicle is null and the cause is non-null, set the vehicle to `Unspecified`.\n",
        "2. For values where the cause is null and the vehicle is not-null, set the cause to `Unspecified`.\n"
      ]
    },
    {
      "cell_type": "markdown",
      "metadata": {
        "id": "sULZox_AwSmE"
      },
      "source": [
        "We can use `Series.mask()` to replace the values, just like we did earlier in the mission. Let's look at code to perform this for the `vehicle_1` and `vehicle_cause_1` columns:"
      ]
    },
    {
      "cell_type": "code",
      "metadata": {
        "id": "pwxOpKP2O3lM"
      },
      "source": [
        "# create a mask for each column\n",
        "v_missing_mask = mvc['vehicle_1'].isnull() & mvc['cause_vehicle_1'].notnull()\n",
        "c_missing_mask = mvc['cause_vehicle_1'].isnull() & mvc['vehicle_1'].notnull()\n",
        "\n",
        "# replace the values matching the mask for each column\n",
        "mvc['vehicle_1'] =  mvc['vehicle_1'].mask(v_missing_mask, \"Unspecified\")\n",
        "mvc['cause_vehicle_1'] =  mvc['cause_vehicle_1'].mask(c_missing_mask, \"Unspecified\")"
      ],
      "execution_count": null,
      "outputs": []
    },
    {
      "cell_type": "markdown",
      "metadata": {
        "id": "ea7cfPW8PIAi"
      },
      "source": [
        "Now let's use a loop to fill in these values across all columns. We've created a helper function `summarize_missing()` which contains the logic we used earlier to count missing values across the pairs of columns. Below is a quick demonstration on how it works:"
      ]
    },
    {
      "cell_type": "code",
      "metadata": {
        "id": "a3HYPrT5PVi4"
      },
      "source": [
        "# The provided helper function\n",
        "def summarize_missing():\n",
        "    v_missing_data = []\n",
        "\n",
        "    for v in range(1,6):\n",
        "        v_col = 'vehicle_{}'.format(v)\n",
        "        c_col = 'cause_vehicle_{}'.format(v)\n",
        "\n",
        "        v_missing = (mvc[v_col].isnull() & mvc[c_col].notnull()).sum()\n",
        "        c_missing = (mvc[c_col].isnull() & mvc[v_col].notnull()).sum()\n",
        "\n",
        "        v_missing_data.append([v, v_missing, c_missing])\n",
        "\n",
        "    col_labels = columns=[\"vehicle_number\", \"vehicle_missing\", \"cause_missing\"]\n",
        "    return pd.DataFrame(v_missing_data, columns=col_labels)\n",
        "\n",
        "summary_before = summarize_missing()"
      ],
      "execution_count": null,
      "outputs": []
    },
    {
      "cell_type": "code",
      "metadata": {
        "colab": {
          "base_uri": "https://localhost:8080/"
        },
        "id": "KU7-AOncPKyA",
        "outputId": "679fb158-c14f-4785-a4c4-bd1aefa06604"
      },
      "source": [
        "print(summarize_missing())"
      ],
      "execution_count": null,
      "outputs": [
        {
          "output_type": "stream",
          "text": [
            "   vehicle_number  vehicle_missing  cause_missing\n",
            "0               1                0              0\n",
            "1               2             3793            223\n",
            "2               3              242             24\n",
            "3               4               50              3\n",
            "4               5               10              0\n"
          ],
          "name": "stdout"
        }
      ]
    },
    {
      "cell_type": "markdown",
      "metadata": {
        "id": "-OVCmpLAPkWs"
      },
      "source": [
        "**Instructions:**\n",
        "\n",
        "In addition to the helper function, we provided the start of the loop you are going to build, including code that generates each column name as a string.\n",
        "\n",
        "1. Uncomment the commented lines (you might want to [use this keyboard shortcut](https://community.dataquest.io/t/do-you-have-any-keyboard-shortcuts#heading--comment-one-more-lines)).\n",
        "2. Add code to the body of the loop that:\n",
        " - Creates a boolean mask for values where the vehicle column is null and the cause column is non-null.\n",
        " - Creates a boolean mask for values where the cause column is null and the vehicle column is non-null.\n",
        " - Uses the first boolean mask to fill matching values from the vehicle column with the string `Unspecified`.\n",
        " - Uses the second boolean mask to fill matching values from the cause column with the string `Unspecified`.\n",
        "3. Outside the loop, use the `summarize_missing()` function to check that you have removed all matching values. Assign the result to `summary_after`."
      ]
    },
    {
      "cell_type": "code",
      "metadata": {
        "id": "auZXnCuXP1yf"
      },
      "source": [
        "# Provided code\n",
        "\n",
        "# for v in range(1,6):\n",
        "#     v_col = 'vehicle_{}'.format(v)\n",
        "#     c_col = 'cause_vehicle_{}'.format(v)"
      ],
      "execution_count": null,
      "outputs": []
    },
    {
      "cell_type": "markdown",
      "metadata": {
        "id": "ZZ66Zvek3aDE"
      },
      "source": [
        "## 9. Missing Data in the \"Location\" Columns"
      ]
    },
    {
      "cell_type": "markdown",
      "metadata": {
        "id": "9zQcQWgX3aJc"
      },
      "source": [
        "Let's view the work we've done across the past few screens by looking at the null correlation plot for the last 10 columns:"
      ]
    },
    {
      "cell_type": "code",
      "metadata": {
        "colab": {
          "base_uri": "https://localhost:8080/"
        },
        "id": "EPXPb7w0kXbx",
        "outputId": "08e8558c-d5b2-442e-c560-5cc2aca6eddb"
      },
      "source": [
        "veh_cols = [c for c in mvc.columns if 'vehicle' in c]\n",
        "plot_null_correlations(mvc[veh_cols])"
      ],
      "execution_count": null,
      "outputs": [
        {
          "output_type": "display_data",
          "data": {
            "image/png": "[encoded data removed]",
            "text/plain": [
              "<Figure size 1440x1008 with 1 Axes>"
            ]
          },
          "metadata": {
            "tags": [],
            "needs_background": "light"
          }
        }
      ]
    },
    {
      "cell_type": "markdown",
      "metadata": {
        "id": "YaPyi3nmkdvu"
      },
      "source": [
        "You can see the perfect correlation between each pair of vehicle/cause columns represented by 1.0 in each square, which means that there is a perfect relationship between the five pairs of vehicle/cause columns.\n",
        "\n",
        "Let's now turn our focus to the final set of columns that contain missing values — the columns that relate to the location of the accident. We'll start by looking at the first few rows to refamiliarize ourselves with the data:\n",
        "\n"
      ]
    },
    {
      "cell_type": "code",
      "metadata": {
        "colab": {
          "base_uri": "https://localhost:8080/"
        },
        "id": "WOK8bTMNki6c",
        "outputId": "80c2e4c5-08a6-478b-d113-8682dbcf4af5"
      },
      "source": [
        "loc_cols = ['borough', 'location', 'on_street', 'off_street', 'cross_street']\n",
        "location_data = mvc[loc_cols]\n",
        "print(location_data.head())"
      ],
      "execution_count": null,
      "outputs": [
        {
          "output_type": "stream",
          "text": [
            "     borough  ...    cross_street\n",
            "0  MANHATTAN  ...       10 AVENUE\n",
            "1   BROOKLYN  ...       62 STREET\n",
            "2        NaN  ...             NaN\n",
            "3     QUEENS  ...  VANLOON STREET\n",
            "4      BRONX  ...             NaN\n",
            "\n",
            "[5 rows x 5 columns]\n"
          ],
          "name": "stdout"
        }
      ]
    },
    {
      "cell_type": "markdown",
      "metadata": {
        "id": "3NcZ30iUkom2"
      },
      "source": [
        "Next, let's look at counts of the null values in each column:\n",
        "\n"
      ]
    },
    {
      "cell_type": "code",
      "metadata": {
        "colab": {
          "base_uri": "https://localhost:8080/"
        },
        "id": "LEu5FdARkpRc",
        "outputId": "24ecbf39-69d9-43af-f573-9a3f41374d0e"
      },
      "source": [
        "print(location_data.isnull().sum())"
      ],
      "execution_count": null,
      "outputs": [
        {
          "output_type": "stream",
          "text": [
            "borough         20646\n",
            "location         3885\n",
            "on_street       13961\n",
            "off_street      44093\n",
            "cross_street    29249\n",
            "dtype: int64\n"
          ],
          "name": "stdout"
        }
      ]
    },
    {
      "cell_type": "markdown",
      "metadata": {
        "id": "AisJeBVaksyJ"
      },
      "source": [
        "These columns have a lot of missing values! Keep in mind that all of these five columns represent the same thing — the location of the collision. We can potentially use the non-null values to impute some of the null values.\n",
        "\n",
        "To see where we might be able to do this, let's look for correlations between the missing values:"
      ]
    },
    {
      "cell_type": "code",
      "metadata": {
        "colab": {
          "base_uri": "https://localhost:8080/"
        },
        "id": "QUPytn14kujZ",
        "outputId": "05ba2495-b311-4fdd-b555-c9aa16d53213"
      },
      "source": [
        "plot_null_correlations(location_data)"
      ],
      "execution_count": null,
      "outputs": [
        {
          "output_type": "display_data",
          "data": {
            "image/png": "[encoded data removed]",
            "text/plain": [
              "<Figure size 1440x1008 with 1 Axes>"
            ]
          },
          "metadata": {
            "tags": [],
            "needs_background": "light"
          }
        }
      ]
    },
    {
      "cell_type": "markdown",
      "metadata": {
        "id": "glSF8Q1Hkwy8"
      },
      "source": [
        "None of these columns have strong correlations except for `off_street` and `on_street` which have a near perfect negative correlation. That means for almost every row that has a null value in one column, the other has a non-null value and vice-versa.\n",
        "\n",
        "The final way we'll look at the null values in these columns is to plot a null matrix, but we'll sort the data first. This will gather some of the null and non-null values together and make patterns more obvious:"
      ]
    },
    {
      "cell_type": "code",
      "metadata": {
        "colab": {
          "base_uri": "https://localhost:8080/"
        },
        "id": "xzMTn9kfk46t",
        "outputId": "dc5dffb8-b99f-43bb-c9e7-018982b3304b"
      },
      "source": [
        "sorted_location_data = location_data.sort_values(loc_cols)\n",
        "plot_null_matrix(sorted_location_data)"
      ],
      "execution_count": null,
      "outputs": [
        {
          "output_type": "display_data",
          "data": {
            "image/png": "[encoded data removed]",
            "text/plain": [
              "<Figure size 1296x1080 with 1 Axes>"
            ]
          },
          "metadata": {
            "tags": [],
            "needs_background": "light"
          }
        }
      ]
    },
    {
      "cell_type": "markdown",
      "metadata": {
        "id": "TiauCzmalGfs"
      },
      "source": [
        "Let's make some observations about the missing values across these columns:\n",
        "\n",
        "1. About two-thirds of rows have non-null values for `borough`, but of those values that are missing, most have non-null values for `location` and one or more of the street name columns.\n",
        "2. Less than one-tenth of rows have missing values in the `location` column, but most of these have non-null values in one or more of the street name columns.\n",
        "3. Most rows have a non-null value for either `on_street` or `off_street`, and some also have a value for `cross_street`.\n"
      ]
    },
    {
      "cell_type": "markdown",
      "metadata": {
        "id": "tIQCe64MlSG0"
      },
      "source": [
        "Combined, this means that we will be able to impute a lot of the missing values by using the other columns in each row. To do this, we can use geolocation APIs that take either an address or location coordinates, and return information about that location.\n",
        "\n",
        "Because the focus of this mission is working with missing data, we have pre-prepared supplemental data using APIs. On the next screen, we'll learn more about how that data was prepared and then use it to fill in missing values."
      ]
    },
    {
      "cell_type": "markdown",
      "metadata": {
        "id": "x68M_JvG3l_Q"
      },
      "source": [
        "## 10. Imputing Location Data"
      ]
    },
    {
      "cell_type": "markdown",
      "metadata": {
        "id": "LY0zriW-3n2u"
      },
      "source": [
        "We prepared the supplemental data using the [GeoPy](http://geopy.readthedocs.io/en/latest/) package, which makes working with Geocoding APIs like the Google Maps API easier. Here's the strategy we used to prepare the supplemental data:\n",
        "\n",
        "- For rows with `location` values but missing values in either `borough` or the street name columns, we used geocoding APIs to look up the `location` coordinates to find the missing data.\n",
        "- For rows with values in the street name columns missing `borough` and/or `location` data, we used geocoding APIs to look up the address to find the missing data.\n"
      ]
    },
    {
      "cell_type": "markdown",
      "metadata": {
        "id": "eizP9pev37Kp"
      },
      "source": [
        "You can learn more about working with APIs in our [APIs and Web Scraping](https://app.dataquest.io/course/apis-and-scraping) course.\n",
        "\n",
        "The supplemental data is in a CSV called `supplemental_data.csv`, let's read this into a pandas dataframe and familiarize ourself with the data:"
      ]
    },
    {
      "cell_type": "code",
      "metadata": {
        "id": "SzR-06l4hQ_q"
      },
      "source": [
        "# Find the CSV file in Google Drive, right-click on it and select “Get shareable link”, and cut out the unique id in the link.\n",
        "# https://drive.google.com/file/d/111gD0MnU_ekqTMK-KYgNt7uP5WEVZJCl/view?usp=sharing\n",
        "id = \"111gD0MnU_ekqTMK-KYgNt7uP5WEVZJCl\""
      ],
      "execution_count": null,
      "outputs": []
    },
    {
      "cell_type": "code",
      "metadata": {
        "id": "tronbm5whSbv"
      },
      "source": [
        "# Download the dataset\n",
        "downloaded = drive.CreateFile({'id':id}) \n",
        "downloaded.GetContentFile('supplemental_data.csv')"
      ],
      "execution_count": null,
      "outputs": []
    },
    {
      "cell_type": "code",
      "metadata": {
        "colab": {
          "base_uri": "https://localhost:8080/",
          "height": 198
        },
        "id": "1T8EoYC14GqF",
        "outputId": "de1b430b-cd78-4c10-b543-fa8b786d05a7"
      },
      "source": [
        "# Read the data file into a pandas dataframe\n",
        "sup_data = pd.read_csv('supplemental_data.csv')\n",
        "sup_data.head()"
      ],
      "execution_count": null,
      "outputs": [
        {
          "output_type": "execute_result",
          "data": {
            "text/html": [
              "<div>\n",
              "<style scoped>\n",
              "    .dataframe tbody tr th:only-of-type {\n",
              "        vertical-align: middle;\n",
              "    }\n",
              "\n",
              "    .dataframe tbody tr th {\n",
              "        vertical-align: top;\n",
              "    }\n",
              "\n",
              "    .dataframe thead th {\n",
              "        text-align: right;\n",
              "    }\n",
              "</style>\n",
              "<table border=\"1\" class=\"dataframe\">\n",
              "  <thead>\n",
              "    <tr style=\"text-align: right;\">\n",
              "      <th></th>\n",
              "      <th>unique_key</th>\n",
              "      <th>location</th>\n",
              "      <th>on_street</th>\n",
              "      <th>off_street</th>\n",
              "      <th>borough</th>\n",
              "    </tr>\n",
              "  </thead>\n",
              "  <tbody>\n",
              "    <tr>\n",
              "      <th>0</th>\n",
              "      <td>3869058</td>\n",
              "      <td>NaN</td>\n",
              "      <td>NaN</td>\n",
              "      <td>NaN</td>\n",
              "      <td>NaN</td>\n",
              "    </tr>\n",
              "    <tr>\n",
              "      <th>1</th>\n",
              "      <td>3847947</td>\n",
              "      <td>NaN</td>\n",
              "      <td>NaN</td>\n",
              "      <td>NaN</td>\n",
              "      <td>NaN</td>\n",
              "    </tr>\n",
              "    <tr>\n",
              "      <th>2</th>\n",
              "      <td>3914294</td>\n",
              "      <td>NaN</td>\n",
              "      <td>BELT PARKWAY</td>\n",
              "      <td>NaN</td>\n",
              "      <td>BROOKLYN</td>\n",
              "    </tr>\n",
              "    <tr>\n",
              "      <th>3</th>\n",
              "      <td>3915069</td>\n",
              "      <td>NaN</td>\n",
              "      <td>NaN</td>\n",
              "      <td>NaN</td>\n",
              "      <td>NaN</td>\n",
              "    </tr>\n",
              "    <tr>\n",
              "      <th>4</th>\n",
              "      <td>3923123</td>\n",
              "      <td>NaN</td>\n",
              "      <td>NaN</td>\n",
              "      <td>NaN</td>\n",
              "      <td>NaN</td>\n",
              "    </tr>\n",
              "  </tbody>\n",
              "</table>\n",
              "</div>"
            ],
            "text/plain": [
              "   unique_key location     on_street off_street   borough\n",
              "0     3869058      NaN           NaN        NaN       NaN\n",
              "1     3847947      NaN           NaN        NaN       NaN\n",
              "2     3914294      NaN  BELT PARKWAY        NaN  BROOKLYN\n",
              "3     3915069      NaN           NaN        NaN       NaN\n",
              "4     3923123      NaN           NaN        NaN       NaN"
            ]
          },
          "metadata": {
            "tags": []
          },
          "execution_count": 47
        }
      ]
    },
    {
      "cell_type": "markdown",
      "metadata": {
        "id": "wNVExbZ_4REH"
      },
      "source": [
        "The supplemental data has five columns from our original data set — the `unique_key` that identifies each collision, and four of the five location columns. The `cross_street` column is not included because the geocoding APIs we used don't include data on the nearest cross street to any single location.\n",
        "\n",
        "Let's take a look at a null matrix for the supplemental data:\n",
        "\n"
      ]
    },
    {
      "cell_type": "code",
      "metadata": {
        "colab": {
          "base_uri": "https://localhost:8080/",
          "height": 596
        },
        "id": "r84auG0z4nyv",
        "outputId": "51d1b165-146f-4c7e-99a8-ac28584c7cc0"
      },
      "source": [
        "plot_null_matrix(sup_data)"
      ],
      "execution_count": null,
      "outputs": [
        {
          "output_type": "display_data",
          "data": {
            "image/png": "[encoded data removed]",
            "text/plain": [
              "<Figure size 1296x1080 with 1 Axes>"
            ]
          },
          "metadata": {
            "tags": [],
            "needs_background": "light"
          }
        }
      ]
    },
    {
      "cell_type": "markdown",
      "metadata": {
        "id": "B_PbKUiC4qNa"
      },
      "source": [
        "Apart from the `unique_key` column, you'll notice that there are a lot more missing values than our main data set. This makes sense, as we didn't prepare supplemental data where the original data set had non-null values.\n",
        "\n",
        "If the `unique_key` column in both the original and supplemental data has the same values in the same order, we'll be able to use `Series.mask()` to add our supplemental data to our original data. We can check this using the `Series.equals()` [method](http://pandas.pydata.org/pandas-docs/stable/reference/api/pandas.Series.equals.html):\n",
        "\n"
      ]
    },
    {
      "cell_type": "code",
      "metadata": {
        "colab": {
          "base_uri": "https://localhost:8080/"
        },
        "id": "HEPNacU455zc",
        "outputId": "94362dfc-0289-4c23-d348-d0e92461bf6a"
      },
      "source": [
        "mvc_keys = mvc['unique_key']\n",
        "sup_keys = sup_data['unique_key']\n",
        "\n",
        "is_equal = mvc_keys.equals(sup_keys)\n",
        "print(is_equal)"
      ],
      "execution_count": null,
      "outputs": [
        {
          "output_type": "stream",
          "text": [
            "True\n"
          ],
          "name": "stdout"
        }
      ]
    },
    {
      "cell_type": "markdown",
      "metadata": {
        "id": "6nV61n_b596w"
      },
      "source": [
        "Now that we've verified the data, it's time to use it to impute missing values."
      ]
    },
    {
      "cell_type": "markdown",
      "metadata": {
        "id": "vZ8R5p1K5_WB"
      },
      "source": [
        "**Instructions:**\n",
        "\n",
        "We read the supplemental data into a dataframe called `sup_data`. Additionally, we provided a list of the location columns, `location_cols`, and calculated the number of null values in these columns.\n",
        "\n",
        "1. Loop over the column names in `location_cols`. In each iteration of the loop, use `Series.mask()` to replace values in the column in the `mvc` dataframe:\n",
        " - The mask should represent whether the values in column in the `mvc` has a null value or not.\n",
        " - Where the mask is true, the value should be replaced with the equivalent value in `sup_data`.\n",
        "2. Calculate the number of null values across the `location_cols` columns in `mvc` after you adding the supplemental data. Assign the result to `null_after`."
      ]
    },
    {
      "cell_type": "code",
      "metadata": {
        "id": "iPY-rRT16Tsv"
      },
      "source": [
        "# Code provided\n",
        "location_cols = ['location', 'on_street', 'off_street', 'borough']\n",
        "null_before = mvc[location_cols].isnull().sum()"
      ],
      "execution_count": null,
      "outputs": []
    },
    {
      "cell_type": "code",
      "metadata": {
        "id": "ARUE_22Uvt9H"
      },
      "source": [
        "# Answer\n"
      ],
      "execution_count": null,
      "outputs": []
    }
  ]
}