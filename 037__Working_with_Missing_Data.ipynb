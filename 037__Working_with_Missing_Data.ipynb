{
  "nbformat": 4,
  "nbformat_minor": 0,
  "metadata": {
    "colab": {
      "name": "037__Working_with_Missing_Data.ipynb",
      "provenance": [],
      "authorship_tag": "ABX9TyOQyBensC18U2yZtPLeeR6Z",
      "include_colab_link": true
    },
    "kernelspec": {
      "name": "python3",
      "display_name": "Python 3"
    }
  },
  "cells": [
    {
      "cell_type": "markdown",
      "metadata": {
        "id": "view-in-github",
        "colab_type": "text"
      },
      "source": [
        "<a href=\"https://colab.research.google.com/github/Rossel/DataQuest_Courses/blob/master/037__Working_with_Missing_Data.ipynb\" target=\"_parent\"><img src=\"https://colab.research.google.com/assets/colab-badge.svg\" alt=\"Open In Colab\"/></a>"
      ]
    },
    {
      "cell_type": "markdown",
      "metadata": {
        "id": "6PWQ-EVGT2s_"
      },
      "source": [
        "# COURSE 5/6: DATA CLEANING IN PYTHON: ADVANCED"
      ]
    },
    {
      "cell_type": "markdown",
      "metadata": {
        "id": "THaX315BT2wD"
      },
      "source": [
        "# MISSION 4: Working with Missing Data"
      ]
    },
    {
      "cell_type": "markdown",
      "metadata": {
        "id": "HCtUhKGVV2Fl"
      },
      "source": [
        "Identify and deal with missing and incorrect data.\n"
      ]
    },
    {
      "cell_type": "markdown",
      "metadata": {
        "id": "nfk12M-4TwZU"
      },
      "source": [
        "## 1. Introduction"
      ]
    },
    {
      "cell_type": "markdown",
      "metadata": {
        "id": "B1XTUbRXeCo5"
      },
      "source": [
        "In the last mission of this course, we're going to learn more about working with missing data. As we learned in [Working with Missing and Duplicate Data](https://app.dataquest.io/m/347/working-with-missing-and-duplicate-data), data can be missing for a variety of reasons.\n",
        "\n",
        "In this mission, we'll learn how to handle missing data without having to drop rows and columns using data on motor vehicle collisions released by [New York City](https://data.cityofnewyork.us/Public-Safety/NYPD-Motor-Vehicle-Collisions/h9gi-nx95) and published on the NYC OpenData website. There is data on over 1.5 million collisions dating back to 2012, with additional data continuously added."
      ]
    },
    {
      "cell_type": "markdown",
      "metadata": {
        "id": "gPuLjPelec0n"
      },
      "source": [
        "We'll work with an extract of the full data: Crashes from the year 2018. We made several modifications to the data for teaching purposes, including randomly sampling the data to reduce its size. You can download the data set from this mission by using the data set preview tool at the top of the \"script.py\" codebox on the right."
      ]
    },
    {
      "cell_type": "markdown",
      "metadata": {
        "id": "TEYXuQD3ej73"
      },
      "source": [
        "Our data set is in a CSV called `nypd_mvc_2018.csv`. We can read our data into a pandas dataframe and inspect the first few rows of the data:"
      ]
    },
    {
      "cell_type": "code",
      "metadata": {
        "id": "7zbhVrbR2n44"
      },
      "source": [
        "# Code to read csv file into Colaboratory:\n",
        "!pip install -U -q PyDrive\n",
        "from pydrive.auth import GoogleAuth\n",
        "from pydrive.drive import GoogleDrive\n",
        "from google.colab import auth\n",
        "from oauth2client.client import GoogleCredentials\n",
        "# Authenticate and create the PyDrive client.\n",
        "auth.authenticate_user()\n",
        "gauth = GoogleAuth()\n",
        "gauth.credentials = GoogleCredentials.get_application_default()\n",
        "drive = GoogleDrive(gauth)"
      ],
      "execution_count": 1,
      "outputs": []
    },
    {
      "cell_type": "code",
      "metadata": {
        "id": "mQVsg_sh2o4j"
      },
      "source": [
        "# Once you have completed verification, go to the CSV file in Google Drive, right-click on it and select “Get shareable link”, and cut out the unique id in the link.\n",
        "# https://drive.google.com/file/d/137_5T2t59aksuPV2aLP5VldshtCb9vN1/view?usp=sharing\n",
        "id = \"137_5T2t59aksuPV2aLP5VldshtCb9vN1\""
      ],
      "execution_count": 2,
      "outputs": []
    },
    {
      "cell_type": "code",
      "metadata": {
        "id": "qgFvCD-32wdh"
      },
      "source": [
        "# Download the dataset\n",
        "downloaded = drive.CreateFile({'id':id}) \n",
        "downloaded.GetContentFile('nypd_mvc_2018.csv')"
      ],
      "execution_count": 3,
      "outputs": []
    },
    {
      "cell_type": "code",
      "metadata": {
        "id": "SzR-06l4hQ_q"
      },
      "source": [
        "# Once you have completed verification, go to the CSV file in Google Drive, right-click on it and select “Get shareable link”, and cut out the unique id in the link.\n",
        "# https://drive.google.com/file/d/111gD0MnU_ekqTMK-KYgNt7uP5WEVZJCl/view?usp=sharing\n",
        "id = \"111gD0MnU_ekqTMK-KYgNt7uP5WEVZJCl\""
      ],
      "execution_count": 4,
      "outputs": []
    },
    {
      "cell_type": "code",
      "metadata": {
        "id": "tronbm5whSbv"
      },
      "source": [
        "# Download the dataset\n",
        "downloaded = drive.CreateFile({'id':id}) \n",
        "downloaded.GetContentFile('supplemental_data.csv')"
      ],
      "execution_count": 5,
      "outputs": []
    },
    {
      "cell_type": "code",
      "metadata": {
        "colab": {
          "base_uri": "https://localhost:8080/"
        },
        "id": "Y1hsGcc_gVSW",
        "outputId": "48cb0a4a-38f0-4e07-dc26-d3b1a8f3ad63"
      },
      "source": [
        "import pandas as pd\n",
        "mvc = pd.read_csv(\"nypd_mvc_2018.csv\")\n",
        "\n",
        "print(mvc)"
      ],
      "execution_count": 6,
      "outputs": [
        {
          "output_type": "stream",
          "text": [
            "       unique_key        date  ... cause_vehicle_4 cause_vehicle_5\n",
            "0         3869058  2018-03-23  ...             NaN             NaN\n",
            "1         3847947  2018-02-13  ...             NaN             NaN\n",
            "2         3914294  2018-06-04  ...             NaN             NaN\n",
            "3         3915069  2018-06-05  ...             NaN             NaN\n",
            "4         3923123  2018-06-16  ...             NaN             NaN\n",
            "...           ...         ...  ...             ...             ...\n",
            "57859     3835191  2018-01-26  ...             NaN             NaN\n",
            "57860     3890674  2018-04-29  ...             NaN             NaN\n",
            "57861     3946458  2018-07-21  ...             NaN             NaN\n",
            "57862     3914574  2018-06-04  ...             NaN             NaN\n",
            "57863     4034882  2018-11-29  ...             NaN             NaN\n",
            "\n",
            "[57864 rows x 26 columns]\n"
          ],
          "name": "stdout"
        }
      ]
    },
    {
      "cell_type": "markdown",
      "metadata": {
        "id": "ZQf19WbclIIW"
      },
      "source": [
        "A summary of the columns and their data is below:\n",
        "\n",
        "- `unique_key`: A unique identifier for each collision.\n",
        "- `date`, `time`: Date and time of the collision.\n",
        "- `borough`: The [borough](https://en.wikipedia.org/wiki/Boroughs_of_New_York_City), or area of New York City, where the collision occurred.\n",
        "- `location`: Latitude and longitude coordinates for the collision.\n",
        "- `on_street`, `cross_street`, `off_street`: Details of the street or intersection where the collision occurred.\n",
        "- `pedestrians_injured`: Number of pedestrians who were injured.\n",
        "- `cyclist_injured`: Number of people traveling on a bicycle who were injured.\n",
        "- `motorist_injured`: Number of people traveling in a vehicle who were injured.\n",
        "- `total_injured`: Total number of people injured.\n",
        "- `pedestrians_killed`: Number of pedestrians who were killed.\n",
        "- `cyclist_killed`: Number of people traveling on a bicycle who were killed.\n",
        "- `motorist_killed`: Number of people traveling in a vehicle who were killed.\n",
        "- `total_killed`: Total number of people killed.\n",
        "- `vehicle_1` through `vehicle_5`: Type of each vehicle involved in the accident.\n",
        "- `cause_vehicle_1` through `cause_vehicle_5`: Contributing factor for each vehicle in the accident."
      ]
    },
    {
      "cell_type": "markdown",
      "metadata": {
        "id": "nm4MS7lplwzU"
      },
      "source": [
        "Let's quickly recap how to count missing values. We'll start by creating a dataframe with random null values:"
      ]
    },
    {
      "cell_type": "code",
      "metadata": {
        "id": "VU1hjhTKoV5m"
      },
      "source": [
        "data = np.random.choice([1.0, np.nan],\n",
        "                        size=(3, 3),\n",
        "                        p=[.3, .7])\n",
        "df = pd.DataFrame(data, columns=['A','B','C'])\n",
        "print(df)"
      ],
      "execution_count": null,
      "outputs": []
    },
    {
      "cell_type": "markdown",
      "metadata": {
        "id": "pDic64LCoZdZ"
      },
      "source": [
        "Next, we can use the `DataFrame.isnull()` [method](http://pandas.pydata.org/pandas-docs/stable/reference/api/pandas.DataFrame.isnull.html) to identify which values are null:"
      ]
    },
    {
      "cell_type": "code",
      "metadata": {
        "id": "itqGgP0joeaW"
      },
      "source": [
        "print(df.isnull())"
      ],
      "execution_count": null,
      "outputs": []
    },
    {
      "cell_type": "markdown",
      "metadata": {
        "id": "szKgvo21okSh"
      },
      "source": [
        "We can chain the result to `DataFrame.sum()` [method](http://pandas.pydata.org/pandas-docs/stable/reference/api/pandas.DataFrame.sum.html) to count the number of null values in each column:"
      ]
    },
    {
      "cell_type": "code",
      "metadata": {
        "id": "FJvxmjtBoq2q"
      },
      "source": [
        "print(df.isnull().sum())"
      ],
      "execution_count": null,
      "outputs": []
    },
    {
      "cell_type": "markdown",
      "metadata": {
        "id": "Ltv_RxLNosSA"
      },
      "source": [
        "Let's use this technique to count the null values in our data set."
      ]
    }
  ]
}