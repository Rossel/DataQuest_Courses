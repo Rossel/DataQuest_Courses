{
  "nbformat": 4,
  "nbformat_minor": 0,
  "metadata": {
    "colab": {
      "name": "037__Working_with_Missing_Data.ipynb",
      "provenance": [],
      "authorship_tag": "ABX9TyMBFMMBJ+/N090HMl5x/Eir",
      "include_colab_link": true
    },
    "kernelspec": {
      "name": "python3",
      "display_name": "Python 3"
    }
  },
  "cells": [
    {
      "cell_type": "markdown",
      "metadata": {
        "id": "view-in-github",
        "colab_type": "text"
      },
      "source": [
        "<a href=\"https://colab.research.google.com/github/Rossel/DataQuest_Courses/blob/master/037__Working_with_Missing_Data.ipynb\" target=\"_parent\"><img src=\"https://colab.research.google.com/assets/colab-badge.svg\" alt=\"Open In Colab\"/></a>"
      ]
    },
    {
      "cell_type": "markdown",
      "metadata": {
        "id": "6PWQ-EVGT2s_"
      },
      "source": [
        "# COURSE 5/6: DATA CLEANING IN PYTHON: ADVANCED"
      ]
    },
    {
      "cell_type": "markdown",
      "metadata": {
        "id": "THaX315BT2wD"
      },
      "source": [
        "# MISSION 4: Working with Missing Data"
      ]
    },
    {
      "cell_type": "markdown",
      "metadata": {
        "id": "HCtUhKGVV2Fl"
      },
      "source": [
        "Identify and deal with missing and incorrect data.\n"
      ]
    },
    {
      "cell_type": "markdown",
      "metadata": {
        "id": "nfk12M-4TwZU"
      },
      "source": [
        "## 1. Introduction"
      ]
    }
  ]
}