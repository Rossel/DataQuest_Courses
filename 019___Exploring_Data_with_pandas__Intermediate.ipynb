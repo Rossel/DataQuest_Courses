{
  "nbformat": 4,
  "nbformat_minor": 0,
  "metadata": {
    "colab": {
      "name": "019__ Exploring_Data_with_pandas:_Intermediate",
      "provenance": [],
      "collapsed_sections": [],
      "authorship_tag": "ABX9TyPeXoXwIPE9TPoStBIczy3S",
      "include_colab_link": true
    },
    "kernelspec": {
      "name": "python3",
      "display_name": "Python 3"
    }
  },
  "cells": [
    {
      "cell_type": "markdown",
      "metadata": {
        "id": "view-in-github",
        "colab_type": "text"
      },
      "source": [
        "<a href=\"https://colab.research.google.com/github/dbro-dev/DataQuest_Courses/blob/master/019___Exploring_Data_with_pandas__Intermediate.ipynb\" target=\"_parent\"><img src=\"https://colab.research.google.com/assets/colab-badge.svg\" alt=\"Open In Colab\"/></a>"
      ]
    },
    {
      "cell_type": "markdown",
      "metadata": {
        "id": "vUOcGywRgge4",
        "colab_type": "text"
      },
      "source": [
        "# **MISSION 5: Exploring Data with pandas: Intermediate**"
      ]
    },
    {
      "cell_type": "markdown",
      "metadata": {
        "id": "Lx-e_HcDg3ZM",
        "colab_type": "text"
      },
      "source": [
        "*Learn more techniques for selecting and analyzing data in pandas.*"
      ]
    },
    {
      "cell_type": "markdown",
      "metadata": {
        "id": "jj6LU3tYglK5",
        "colab_type": "text"
      },
      "source": [
        "In this mission, we will learn how to:\n",
        "\n",
        "* Select columns, rows and individual items using their integer location.\n",
        "* Use `pd.read_csv()` to read CSV files in pandas.\n",
        "* Work with integer axis labels.\n",
        "* How to use pandas methods to produce boolean arrays.\n",
        "* Use boolean operators to combine boolean comparisons to perform more complex analysis.\n",
        "* Use index labels to align data.\n",
        "* Use aggregation to perform advanced analysis using loops."
      ]
    },
    {
      "cell_type": "markdown",
      "metadata": {
        "id": "a9kLHOoDghWx",
        "colab_type": "text"
      },
      "source": [
        "## **1. Introduction**"
      ]
    },
    {
      "cell_type": "markdown",
      "metadata": {
        "id": "BOjBzLLJgkS0",
        "colab_type": "text"
      },
      "source": [
        "We'll continue working with a data set from [Fortune](https://fortune.com/) magazine's 2017 [Global 500 list](https://en.wikipedia.org/wiki/Fortune_Global_500), which ranks the top 500 corporations worldwide by revenue. The data set was originally compiled [here](https://data.world/chasewillden/fortune-500-companies-2017); however, we modified the original data set to make it more accessible. [Click here](https://github.com/dbro-dev/DataQuest_Courses/blob/master/datasets/f500.csv) or [here](https://drive.google.com/file/d/1sp668oBm1G7vQbgCpw8zH-fnD1IJd9Ut/view?usp=sharing) for the current version used in this notebook (*as my Github username may change in the future*).\n",
        "\n",
        "![Fortune_500_logo](https://s3.amazonaws.com/dq-content/291/fortune-500.jpg)"
      ]
    },
    {
      "cell_type": "markdown",
      "metadata": {
        "id": "HTbanmPm_QuY",
        "colab_type": "text"
      },
      "source": [
        "Below is the code to import pandas and use the pandas.read_csv() function to read the CSV into a dataframe and assign it to the variable name f500. \n",
        "\n",
        "```\n",
        "import pandas as pd\n",
        "f500 = pd.read_csv('f500.csv',index_col=0)\n",
        "f500.index.name = None\n",
        "\n",
        "\n",
        "```"
      ]
    },
    {
      "cell_type": "markdown",
      "metadata": {
        "id": "DrVOERTi_UW7",
        "colab_type": "text"
      },
      "source": [
        "In Google Colab however, it is a bit more complicated to load a .csv to work with. The fields below show how it is done:"
      ]
    },
    {
      "cell_type": "code",
      "metadata": {
        "id": "2nev09qP_drf",
        "colab_type": "code",
        "colab": {}
      },
      "source": [
        "# Code to read csv file into Colaboratory:\n",
        "!pip install -U -q PyDrive\n",
        "from pydrive.auth import GoogleAuth\n",
        "from pydrive.drive import GoogleDrive\n",
        "from google.colab import auth\n",
        "from oauth2client.client import GoogleCredentials\n",
        "# Authenticate and create the PyDrive client.\n",
        "auth.authenticate_user()\n",
        "gauth = GoogleAuth()\n",
        "gauth.credentials = GoogleCredentials.get_application_default()\n",
        "drive = GoogleDrive(gauth)"
      ],
      "execution_count": null,
      "outputs": []
    },
    {
      "cell_type": "code",
      "metadata": {
        "id": "M2mID70P_h7R",
        "colab_type": "code",
        "colab": {}
      },
      "source": [
        "# Once you have completed verification, go to the CSV file in Google Drive, right-click on it and select “Get shareable link”, and cut out the unique id in the link.\n",
        "id = \"1sp668oBm1G7vQbgCpw8zH-fnD1IJd9Ut\""
      ],
      "execution_count": null,
      "outputs": []
    },
    {
      "cell_type": "code",
      "metadata": {
        "id": "YfOs-qxX_kNY",
        "colab_type": "code",
        "colab": {}
      },
      "source": [
        "# Download the dataset\n",
        "downloaded = drive.CreateFile({'id':id}) \n",
        "downloaded.GetContentFile('f500.csv')"
      ],
      "execution_count": null,
      "outputs": []
    },
    {
      "cell_type": "code",
      "metadata": {
        "id": "zp-j5QG2_ngq",
        "colab_type": "code",
        "colab": {}
      },
      "source": [
        "# Import code which resembles the original code above\n",
        "import pandas as pd\n",
        "import numpy as np\n",
        "\n",
        "f500 = pd.read_csv('f500.csv',index_col=0)\n",
        "f500.index.name = None"
      ],
      "execution_count": null,
      "outputs": []
    },
    {
      "cell_type": "code",
      "metadata": {
        "id": "1mMCh6tsANIA",
        "colab_type": "code",
        "colab": {}
      },
      "source": [
        "# replace 0 values in the \"previous_rank\" column with NaN\n",
        "f500.loc[f500[\"previous_rank\"] == 0, \"previous_rank\"] = np.nan"
      ],
      "execution_count": null,
      "outputs": []
    },
    {
      "cell_type": "markdown",
      "metadata": {
        "id": "AxlvHKrrAPWp",
        "colab_type": "text"
      },
      "source": [
        "Select the `rank`, `revenues`, and `revenue_change` columns in `f500`. Then, use the `DataFrame.head()` method to select the first five rows. Assign the result to `f500_selection`.\n"
      ]
    },
    {
      "cell_type": "code",
      "metadata": {
        "id": "sbESp_LYAOXn",
        "colab_type": "code",
        "colab": {
          "base_uri": "https://localhost:8080/",
          "height": 123
        },
        "outputId": "7a5a19a4-a8a9-4f09-c18f-f083540aa4b0"
      },
      "source": [
        "f500_selection = f500[['rank', 'revenues', 'revenue_change']].head(5)\n",
        "print(f500_selection)"
      ],
      "execution_count": null,
      "outputs": [
        {
          "output_type": "stream",
          "text": [
            "                          rank  revenues  revenue_change\n",
            "Walmart                      1    485873             0.8\n",
            "State Grid                   2    315199            -4.4\n",
            "Sinopec Group                3    267518            -9.1\n",
            "China National Petroleum     4    262573           -12.3\n",
            "Toyota Motor                 5    254694             7.7\n"
          ],
          "name": "stdout"
        }
      ]
    },
    {
      "cell_type": "markdown",
      "metadata": {
        "id": "OWS06bgS_p60",
        "colab_type": "text"
      },
      "source": [
        "Note how a few steps before we used this code to load the .csv file. \n",
        "\n",
        "\n",
        "\n",
        "```\n",
        "f500 = pd.read_csv('f500.csv',index_col=0)\n",
        "f500.index.name = None\n",
        "```\n",
        "Using this code, the index axis labels are actually the values from the first column in the data set, company. \n",
        "\n",
        "\n",
        "\n",
        "The `index_col` parameter is an optional argument and should specify which column to use as the row labels for the dataframe. When we used a value of 0, we specified that we wanted to use the first column as the row labels."
      ]
    },
    {
      "cell_type": "markdown",
      "metadata": {
        "id": "LBeBzyuFDqlN",
        "colab_type": "text"
      },
      "source": [
        "If we remove the second line: `f500.index.name = None`. Both the column and index axes can have names assigned to them. However, we originally used the code below to access the name of the index axes and set it to None, so our dataframe didn't have a name for the index axis."
      ]
    },
    {
      "cell_type": "markdown",
      "metadata": {
        "id": "2ANI2eeHg9GM",
        "colab_type": "text"
      },
      "source": [
        "## **2. Reading CSV files with pandas**"
      ]
    },
    {
      "cell_type": "markdown",
      "metadata": {
        "id": "Y_-Y7HL9KHew",
        "colab_type": "text"
      },
      "source": [
        "The more conventional way to read in a dataframe is this:"
      ]
    },
    {
      "cell_type": "code",
      "metadata": {
        "id": "P1oTpwvAKV-e",
        "colab_type": "code",
        "colab": {}
      },
      "source": [
        "f500 = pd.read_csv(\"f500.csv\")"
      ],
      "execution_count": null,
      "outputs": []
    },
    {
      "cell_type": "markdown",
      "metadata": {
        "id": "Qm_Ah8cyg9JV",
        "colab_type": "text"
      },
      "source": [
        "\n",
        "\n",
        "There are two differences with this approach:\n",
        "\n",
        "* The company column is now included as a regular column, instead of being used for the index.\n",
        "* The index labels are now integers starting from 0.\n"
      ]
    },
    {
      "cell_type": "markdown",
      "metadata": {
        "id": "GlImPkHRg9Xt",
        "colab_type": "text"
      },
      "source": [
        "## **3. Using `iloc` to select by integer position**"
      ]
    },
    {
      "cell_type": "markdown",
      "metadata": {
        "id": "wRYUF8oYg9Qh",
        "colab_type": "text"
      },
      "source": [
        "Recall that when we worked with a dataframe with string index labels, we used `loc[]` to select data:\n",
        "\n",
        "![alt text](https://s3.amazonaws.com/dq-content/292/selection_loc.svg)\n",
        "\n",
        "Just like in NumPy, we can also use integer positions to select data using `Dataframe.iloc[]` and `Series.iloc[]`. It's easy to get `loc[]` and `iloc[]` confused at first, but the easiest way is to remember the first letter of each method:\n",
        "\n",
        "* `loc`: **l**abel based selection\n",
        "* `iloc`: **i**nteger position based selection\n"
      ]
    },
    {
      "cell_type": "markdown",
      "metadata": {
        "id": "OpltdNGzEcW0",
        "colab_type": "text"
      },
      "source": [
        "Using `iloc[]` is almost identical to indexing with NumPy, with integer positions starting at `0` like ndarrays and Python lists. This is how we would perform the selection above using `iloc[]`:\n",
        "\n",
        "![alt text](https://s3.amazonaws.com/dq-content/292/selection_iloc.svg)\n",
        "\n",
        "As you can see, `DataFrame.iloc[]` behaves similarly to `DataFrame.loc[]`. The full syntax for `DataFrame.iloc[]`, in pseudocode, is:\n",
        "\n",
        "\n",
        "\n",
        "```\n",
        "df.iloc[row_index, column_index]\n",
        "```\n",
        "\n"
      ]
    },
    {
      "cell_type": "markdown",
      "metadata": {
        "id": "6jGOZJsQE1JH",
        "colab_type": "text"
      },
      "source": [
        "Practice:\n",
        "\n",
        "1. Select just the fifth row of the `f500` dataframe. Assign the result to `fifth_row`."
      ]
    },
    {
      "cell_type": "code",
      "metadata": {
        "id": "5eukinoWFiFT",
        "colab_type": "code",
        "colab": {}
      },
      "source": [
        "fifth_row = f500.iloc[4]"
      ],
      "execution_count": null,
      "outputs": []
    },
    {
      "cell_type": "markdown",
      "metadata": {
        "id": "8AxNgKYEFrrR",
        "colab_type": "text"
      },
      "source": [
        "2. Select the value in first row of the `company` column. Assign the result to `company_value`."
      ]
    },
    {
      "cell_type": "code",
      "metadata": {
        "id": "4Z3Be6tyFr56",
        "colab_type": "code",
        "colab": {}
      },
      "source": [
        "company_value = f500.iloc[0, 0]"
      ],
      "execution_count": null,
      "outputs": []
    },
    {
      "cell_type": "markdown",
      "metadata": {
        "id": "Yp9FfTkqg8ni",
        "colab_type": "text"
      },
      "source": [
        "## **4. Using `iloc` to select by integer position continued**"
      ]
    },
    {
      "cell_type": "markdown",
      "metadata": {
        "id": "aLUeCvSZFwA9",
        "colab_type": "text"
      },
      "source": [
        "To select just the first column from our `f500` dataframe, we use `:` (a colon) to specify all rows, and then use the integer `0` to specify the first column:\n",
        "\n"
      ]
    },
    {
      "cell_type": "code",
      "metadata": {
        "id": "aL9B5F3jHsZI",
        "colab_type": "code",
        "colab": {
          "base_uri": "https://localhost:8080/",
          "height": 230
        },
        "outputId": "fb02df9a-b53b-40d5-ad79-c28a6fc55606"
      },
      "source": [
        "first_column = f500.iloc[:,0]\n",
        "print(first_column)"
      ],
      "execution_count": null,
      "outputs": [
        {
          "output_type": "stream",
          "text": [
            "0                             Walmart\n",
            "1                          State Grid\n",
            "2                       Sinopec Group\n",
            "3            China National Petroleum\n",
            "4                        Toyota Motor\n",
            "                    ...              \n",
            "495    Teva Pharmaceutical Industries\n",
            "496          New China Life Insurance\n",
            "497         Wm. Morrison Supermarkets\n",
            "498                               TUI\n",
            "499                        AutoNation\n",
            "Name: company, Length: 500, dtype: object\n"
          ],
          "name": "stdout"
        }
      ]
    },
    {
      "cell_type": "markdown",
      "metadata": {
        "id": "ItrEtzKfg9ew",
        "colab_type": "text"
      },
      "source": [
        "Slicing: select the rows between index positions one to four (inclusive)"
      ]
    },
    {
      "cell_type": "code",
      "metadata": {
        "id": "SvAt6XpQINCf",
        "colab_type": "code",
        "colab": {}
      },
      "source": [
        "second_to_sixth_rows = f500[1:5]"
      ],
      "execution_count": null,
      "outputs": []
    },
    {
      "cell_type": "markdown",
      "metadata": {
        "id": "kERBjVtUIVSz",
        "colab_type": "text"
      },
      "source": [
        "\n",
        "\n",
        "```\n",
        "company  rank  revenues ... employees  total_stockholder_equity\n",
        "1         State Grid     2    315199 ...    926067                    209456\n",
        "2      Sinopec Group     3    267518 ...    713288                    106523\n",
        "3  China National...     4    262573 ...   1512048                    301893\n",
        "4       Toyota Motor     5    254694 ...    364445                    157210\n",
        "```\n",
        "\n"
      ]
    },
    {
      "cell_type": "markdown",
      "metadata": {
        "id": "Rx7-jz9uIZSJ",
        "colab_type": "text"
      },
      "source": [
        "In the example above, the row at index position `5` is not included, just as if we were slicing with a Python list or NumPy ndarray. Recall that `loc[]` handles slicing differently:\n",
        "\n",
        "* With `loc[]`, the ending slice is included.\n",
        "* With `iloc[]`, the ending slice is not included.\n"
      ]
    },
    {
      "cell_type": "markdown",
      "metadata": {
        "id": "x6pL3wSqIoZz",
        "colab_type": "text"
      },
      "source": [
        "The table below summarizes how we can use `DataFrame.iloc[]` and `Series.iloc[]` to select by integer position:\n",
        "\n",
        "\n",
        "|Select by integer position\t| Explicit Syntax\t| Shorthand Convention|\n",
        "| --- | --- | --- |\n",
        "Single column from dataframe|\tdf.iloc[:,3]\t\n",
        "List of columns from dataframe|\tdf.iloc[:,[3,5,6]]\t\n",
        "Slice of columns from dataframe|\tdf.iloc[:,3:7]\t\n",
        "Single row from dataframe|\tdf.iloc[20]\t\n",
        "List of rows from dataframe|\tdf.iloc[[0,3,8]]\t\n",
        "Slice of rows from dataframe|\tdf.iloc[3:5]|\tdf[3:5]\n",
        "Single items from series|\ts.iloc[8]|\ts[8]\n",
        "List of item from series|\ts.iloc[[2,8,1]]|\ts[[2,8,1]]\n",
        "Slice of items from series|\ts.iloc[5:10]|\ts[5:10]\n",
        "\n"
      ]
    },
    {
      "cell_type": "markdown",
      "metadata": {
        "id": "MtGEkcgtJNcK",
        "colab_type": "text"
      },
      "source": [
        "Practice:\n",
        "1. Select the first three rows of the `f500` dataframe. Assign the result to `first_three_rows`.\n"
      ]
    },
    {
      "cell_type": "code",
      "metadata": {
        "id": "Galg_jyuIPo4",
        "colab_type": "code",
        "colab": {
          "base_uri": "https://localhost:8080/",
          "height": 123
        },
        "outputId": "9ffed3dd-024d-402f-af09-a617abf54a4a"
      },
      "source": [
        "first_three_rows = f500.iloc[:3]\n",
        "print(first_three_rows)"
      ],
      "execution_count": null,
      "outputs": [
        {
          "output_type": "stream",
          "text": [
            "         company  rank  ...  employees  total_stockholder_equity\n",
            "0        Walmart     1  ...    2300000                     77798\n",
            "1     State Grid     2  ...     926067                    209456\n",
            "2  Sinopec Group     3  ...     713288                    106523\n",
            "\n",
            "[3 rows x 17 columns]\n"
          ],
          "name": "stdout"
        }
      ]
    },
    {
      "cell_type": "markdown",
      "metadata": {
        "id": "y_XT9CW9Jbhu",
        "colab_type": "text"
      },
      "source": [
        "2. Select the first and seventh rows and the first five columns of the `f500` dataframe. Assign the result to `first_seventh_row_slice`."
      ]
    },
    {
      "cell_type": "code",
      "metadata": {
        "id": "vjj6FVbcJb47",
        "colab_type": "code",
        "colab": {
          "base_uri": "https://localhost:8080/",
          "height": 70
        },
        "outputId": "3c45d980-b16b-4904-e722-ed69d5f82507"
      },
      "source": [
        "first_seventh_row_slice = f500.iloc[[0,6], :5]\n",
        "print(first_seventh_row_slice)"
      ],
      "execution_count": null,
      "outputs": [
        {
          "output_type": "stream",
          "text": [
            "             company  rank  revenues  revenue_change  profits\n",
            "0            Walmart     1    485873             0.8  13643.0\n",
            "6  Royal Dutch Shell     7    240033           -11.8   4575.0\n"
          ],
          "name": "stdout"
        }
      ]
    },
    {
      "cell_type": "markdown",
      "metadata": {
        "id": "KKbrQzthg9lE",
        "colab_type": "text"
      },
      "source": [
        "## **5. Using pandas methods to create boolean masks**"
      ]
    },
    {
      "cell_type": "markdown",
      "metadata": {
        "id": "CLBzuhhFg9rz",
        "colab_type": "text"
      },
      "source": [
        "Besides >, <, and == there are other pandas methods that return boolean masks, two examples are:\n",
        "* `Series.isnull()` [method](http://pandas.pydata.org/pandas-docs/stable/generated/pandas.Series.isnull.html)\n",
        "* `Series.notnull()` [method](http://pandas.pydata.org/pandas-docs/stable/generated/pandas.Series.notnull.html)"
      ]
    },
    {
      "cell_type": "markdown",
      "metadata": {
        "id": "EnrJOUcD0xKy",
        "colab_type": "text"
      },
      "source": [
        "First, let's use the `Series.isnull()` method to view rows with null values in the `revenue_change` column:"
      ]
    },
    {
      "cell_type": "code",
      "metadata": {
        "id": "4UIY3Doe1bBZ",
        "colab_type": "code",
        "colab": {
          "base_uri": "https://localhost:8080/",
          "height": 123
        },
        "outputId": "335441db-2fec-4d3b-b064-a6bdc0b8df2d"
      },
      "source": [
        "rev_is_null = f500[\"revenue_change\"].isnull()\n",
        "print(rev_is_null.head())"
      ],
      "execution_count": null,
      "outputs": [
        {
          "output_type": "stream",
          "text": [
            "0    False\n",
            "1    False\n",
            "2    False\n",
            "3    False\n",
            "4    False\n",
            "Name: revenue_change, dtype: bool\n"
          ],
          "name": "stdout"
        }
      ]
    },
    {
      "cell_type": "markdown",
      "metadata": {
        "id": "fjt6cJdh6WMG",
        "colab_type": "text"
      },
      "source": [
        "Just like in NumPy, we can use this series to filter our dataframe, `f500`:"
      ]
    },
    {
      "cell_type": "code",
      "metadata": {
        "id": "VmiQv4fu6ccJ",
        "colab_type": "code",
        "colab": {
          "base_uri": "https://localhost:8080/",
          "height": 70
        },
        "outputId": "568dd097-70b2-4b6c-dcf1-a8ea62a58eb6"
      },
      "source": [
        "rev_change_null = f500[rev_is_null]\n",
        "print(rev_change_null[[\"company\",\"country\",\"sector\"]])"
      ],
      "execution_count": null,
      "outputs": [
        {
          "output_type": "stream",
          "text": [
            "                        company  country      sector\n",
            "90                       Uniper  Germany      Energy\n",
            "180  Hewlett Packard Enterprise      USA  Technology\n"
          ],
          "name": "stdout"
        }
      ]
    },
    {
      "cell_type": "markdown",
      "metadata": {
        "id": "m8yNVFFm6fhX",
        "colab_type": "text"
      },
      "source": [
        "We can confirm that the two companies with missing values for the revenue_change column are Uniper, a German energy company, and Hewlett Parkard Enterprise, an American technology company."
      ]
    },
    {
      "cell_type": "markdown",
      "metadata": {
        "id": "mYANXf8N6kht",
        "colab_type": "text"
      },
      "source": [
        "Let's use what we've learned to find the null values in the `previous_rank` column next:\n",
        "\n",
        "Use the `Series.isnull()` method to select all rows from `f500` that have a null value for the `previous_rank` column. Select only the `company`, `rank`, and `previous_rank` columns. Assign the result to `null_previous_rank`.\n",
        "\n"
      ]
    },
    {
      "cell_type": "code",
      "metadata": {
        "id": "XTJ7rdXqvwCJ",
        "colab_type": "code",
        "colab": {
          "base_uri": "https://localhost:8080/",
          "height": 194
        },
        "outputId": "71c7904e-70a3-4727-f1d5-5d64fdc5a6cc"
      },
      "source": [
        "isnul = f500[\"previous_rank\"].isnull()\n",
        "null_previous_rank = f500[isnul][[\"company\", \"rank\", \"previous_rank\"]]\n",
        "\n",
        "null_previous_rank.info()\n",
        "\n"
      ],
      "execution_count": null,
      "outputs": [
        {
          "output_type": "stream",
          "text": [
            "<class 'pandas.core.frame.DataFrame'>\n",
            "Int64Index: 0 entries\n",
            "Data columns (total 3 columns):\n",
            " #   Column         Non-Null Count  Dtype \n",
            "---  ------         --------------  ----- \n",
            " 0   company        0 non-null      object\n",
            " 1   rank           0 non-null      int64 \n",
            " 2   previous_rank  0 non-null      int64 \n",
            "dtypes: int64(2), object(1)\n",
            "memory usage: 0.0+ bytes\n"
          ],
          "name": "stdout"
        }
      ]
    },
    {
      "cell_type": "code",
      "metadata": {
        "id": "OtOYZtDe69mx",
        "colab_type": "code",
        "colab": {
          "base_uri": "https://localhost:8080/",
          "height": 70
        },
        "outputId": "9a09fe0e-88b4-49eb-b791-b3a366f2c119"
      },
      "source": [
        "print(null_previous_rank.head())"
      ],
      "execution_count": null,
      "outputs": [
        {
          "output_type": "stream",
          "text": [
            "Empty DataFrame\n",
            "Columns: [company, rank, previous_rank]\n",
            "Index: []\n"
          ],
          "name": "stdout"
        }
      ]
    },
    {
      "cell_type": "markdown",
      "metadata": {
        "id": "eP4yOQh96_uS",
        "colab_type": "text"
      },
      "source": [
        "# *To be completed when I come back from holiday in 2 weeks*"
      ]
    },
    {
      "cell_type": "markdown",
      "metadata": {
        "id": "j4HGAfNxg9yF",
        "colab_type": "text"
      },
      "source": [
        "## **6. Working with Integer Labels**"
      ]
    },
    {
      "cell_type": "markdown",
      "metadata": {
        "id": "0cv-MTYwg95I",
        "colab_type": "text"
      },
      "source": [
        ""
      ]
    },
    {
      "cell_type": "markdown",
      "metadata": {
        "id": "Xuf9CSCKg996",
        "colab_type": "text"
      },
      "source": [
        "## **7. Pandas Index Alignment**"
      ]
    },
    {
      "cell_type": "markdown",
      "metadata": {
        "id": "Fp32FvXEg-Bv",
        "colab_type": "text"
      },
      "source": [
        ""
      ]
    },
    {
      "cell_type": "markdown",
      "metadata": {
        "id": "aSYUIkCTg-Hj",
        "colab_type": "text"
      },
      "source": [
        "## **8. Using Boolean Operators**"
      ]
    },
    {
      "cell_type": "markdown",
      "metadata": {
        "id": "VSQUXM-2g-Oa",
        "colab_type": "text"
      },
      "source": [
        "##"
      ]
    },
    {
      "cell_type": "markdown",
      "metadata": {
        "id": "vn_wgQc-g-UY",
        "colab_type": "text"
      },
      "source": [
        "## **9. Using Boolean Operators Continued**"
      ]
    },
    {
      "cell_type": "markdown",
      "metadata": {
        "id": "kTGWet_6g-dV",
        "colab_type": "text"
      },
      "source": [
        ""
      ]
    },
    {
      "cell_type": "markdown",
      "metadata": {
        "id": "17WnVq1lg-ku",
        "colab_type": "text"
      },
      "source": [
        "## **10. Sorting Values**"
      ]
    },
    {
      "cell_type": "markdown",
      "metadata": {
        "id": "YMbHtVz6g-rl",
        "colab_type": "text"
      },
      "source": [
        ""
      ]
    },
    {
      "cell_type": "markdown",
      "metadata": {
        "id": "3krCiokMg-yx",
        "colab_type": "text"
      },
      "source": [
        "## **11. Using Loops with pandas**"
      ]
    },
    {
      "cell_type": "markdown",
      "metadata": {
        "id": "e7uR9Keig-5R",
        "colab_type": "text"
      },
      "source": [
        ""
      ]
    },
    {
      "cell_type": "markdown",
      "metadata": {
        "id": "TH8lGuDIg-9k",
        "colab_type": "text"
      },
      "source": [
        "## **12. Challenge: Calculating Return on Assets by Country**"
      ]
    },
    {
      "cell_type": "markdown",
      "metadata": {
        "id": "mOFFpcaOg_Di",
        "colab_type": "text"
      },
      "source": [
        ""
      ]
    },
    {
      "cell_type": "markdown",
      "metadata": {
        "id": "VveLEekHg_Iy",
        "colab_type": "text"
      },
      "source": [
        ""
      ]
    },
    {
      "cell_type": "markdown",
      "metadata": {
        "id": "rw3bfJ6zg_Nw",
        "colab_type": "text"
      },
      "source": [
        ""
      ]
    },
    {
      "cell_type": "markdown",
      "metadata": {
        "id": "2pGeTLodg_UB",
        "colab_type": "text"
      },
      "source": [
        ""
      ]
    },
    {
      "cell_type": "markdown",
      "metadata": {
        "id": "0LQjsF13g_sS",
        "colab_type": "text"
      },
      "source": [
        ""
      ]
    },
    {
      "cell_type": "markdown",
      "metadata": {
        "id": "3lHHgQixg_yl",
        "colab_type": "text"
      },
      "source": [
        ""
      ]
    },
    {
      "cell_type": "markdown",
      "metadata": {
        "id": "QoRX1xcng_22",
        "colab_type": "text"
      },
      "source": [
        ""
      ]
    }
  ]
}