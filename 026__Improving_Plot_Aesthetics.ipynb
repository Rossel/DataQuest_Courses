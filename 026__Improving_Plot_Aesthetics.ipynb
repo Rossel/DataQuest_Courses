{
  "nbformat": 4,
  "nbformat_minor": 0,
  "metadata": {
    "colab": {
      "name": "026__Improving_Plot_Aesthetics.ipynb",
      "provenance": [],
      "authorship_tag": "ABX9TyORdR/isZTrorP2y3Zsy42X",
      "include_colab_link": true
    },
    "kernelspec": {
      "name": "python3",
      "display_name": "Python 3"
    }
  },
  "cells": [
    {
      "cell_type": "markdown",
      "metadata": {
        "id": "view-in-github",
        "colab_type": "text"
      },
      "source": [
        "<a href=\"https://colab.research.google.com/github/Rossel/DataQuest_Courses/blob/master/026__Improving_Plot_Aesthetics.ipynb\" target=\"_parent\"><img src=\"https://colab.research.google.com/assets/colab-badge.svg\" alt=\"Open In Colab\"/></a>"
      ]
    },
    {
      "cell_type": "markdown",
      "metadata": {
        "id": "JsvCUnTOI4Cy",
        "colab_type": "text"
      },
      "source": [
        "# COURSE 3/6: STORYTELLING THROUGH DATA VISUALIZATION"
      ]
    },
    {
      "cell_type": "markdown",
      "metadata": {
        "id": "3nJFS3FOI_3V",
        "colab_type": "text"
      },
      "source": [
        "# MISSION 1: Improving Plot Aesthetics"
      ]
    },
    {
      "cell_type": "markdown",
      "metadata": {
        "id": "7W70k5-SJCrh",
        "colab_type": "text"
      },
      "source": [
        "In this mission, we will explore how to enhance a chart's storytelling capabilities by minimizing chartjunk and encouraging comparison."
      ]
    },
    {
      "cell_type": "markdown",
      "metadata": {
        "id": "tQBrAPM9JEko",
        "colab_type": "text"
      },
      "source": [
        "## 1. Aesthetics"
      ]
    },
    {
      "cell_type": "markdown",
      "metadata": {
        "id": "jd9WmBiyJFOK",
        "colab_type": "text"
      },
      "source": [
        "In the **Exploratory Data Visualization** course, we learned how to use visualizations to explore and understand data. Because we were focused on exploring trends and getting familiar with the data, we didn't focus much on tweaking the appearance of the plots to make them more presentable to others. We instead focused on the workflow of quickly creating, tweaking, displaying, and iterating on plots.\n",
        "\n",
        "In this course, we'll focus on how to use data visualization to communicate insights and tell stories. In this mission, we'll start with a standard matplotlib plot and improve its appearance to better communicate the patterns we want a viewer to understand. Along the way, we'll introduce the principles that informed those changes and provide a framework for you to apply them in the future. Here's a preview that demonstrates some of the improvements we make in this course:\n",
        "\n",
        "![alt text](https://s3.amazonaws.com/dq-content/storytelling_course_overview.png)"
      ]
    },
    {
      "cell_type": "markdown",
      "metadata": {
        "id": "1at2mG5eJH6m",
        "colab_type": "text"
      },
      "source": [
        "## 2. Introduction To The Data"
      ]
    },
    {
      "cell_type": "markdown",
      "metadata": {
        "id": "bTFt_UwLJIC1",
        "colab_type": "text"
      },
      "source": [
        "![alt text](https://4.bp.blogspot.com/-lCtQeIIIONg/WLbueq0brLI/AAAAAAAAQJo/NaQUEES3kOUelpfFDB4tcIv-TTs8EvFzQCLcB/s1600/NCES_logo.png)\n",
        "\n",
        "The [Department of Education Statistics](http://nces.ed.gov/programs/digest/2013menu_tables.asp) releases a data set annually containing the percentage of bachelor's degrees granted to women from 1970 to 2012. The data set is broken up into 17 categories of degrees, with each column as a separate category.\n",
        "\n",
        "Randal Olson, a data scientist at University of Pennsylvania, has cleaned the data set and made it available on his personal website. You can download the dataset Randal compiled [here](http://www.randalolson.com/wp-content/uploads/percent-bachelors-degrees-women-usa.csv). \n",
        "\n",
        "Randal compiled this data set to explore the gender gap in STEM fields, which stands for science, technology, engineering, and mathematics. This gap is reported on often [in the news](https://www.google.com/search?hl=en&gl=us&tbm=nws&authuser=0&q=gender+gap+stem&oq=gender+gap+stem&gs_l=news) and [not everyone agrees](http://www.pbs.org/newshour/making-sense/truth-women-stem-careers/) that there is a gap.\n",
        "\n",
        "In this mission and the next few missions, we'll explore how we can communicate the nuanced narrative of gender gap using effective data visualization. Let's first generate a standard matplotlib plot."
      ]
    },
    {
      "cell_type": "markdown",
      "metadata": {
        "id": "oMl5vrncJIIH",
        "colab_type": "text"
      },
      "source": [
        "## 3. Introduction To The Data"
      ]
    },
    {
      "cell_type": "markdown",
      "metadata": {
        "id": "sVjcjZ9VJIK7",
        "colab_type": "text"
      },
      "source": [
        ""
      ]
    },
    {
      "cell_type": "code",
      "metadata": {
        "id": "W9YlLXuDNouS",
        "colab_type": "code",
        "colab": {}
      },
      "source": [
        ""
      ],
      "execution_count": null,
      "outputs": []
    },
    {
      "cell_type": "markdown",
      "metadata": {
        "id": "ccLfWrILJINa",
        "colab_type": "text"
      },
      "source": [
        "## 4. Visualizing The Gender Gap"
      ]
    },
    {
      "cell_type": "markdown",
      "metadata": {
        "id": "MaaGPT6-JIQT",
        "colab_type": "text"
      },
      "source": [
        "From the plot, we can tell that Biology degrees increased steadily from 1970 and peaked in the early 2000's. We can also tell that the percentage has stayed above 50% since around 1987. While it's helpful to visualize the trend of Biology degrees awarded to women, it only tells half the story. If we want the gender gap to be apparent and emphasized in the plot, we need a visual analogy to the difference in the percentages between the genders.\n",
        "\n",
        "If we visualize the trend of Biology degrees awarded to men on the same plot, a viewer can observe the space between the lines for each gender. We can calculate the percentages of Biology degrees awarded to men by subtracting each value in the `Biology` column from `100`. Once we have the male percentages, we can generate two line charts as part of the same diagram.\n",
        "\n",
        "Let's now create a diagram containing both the line charts we just described."
      ]
    },
    {
      "cell_type": "code",
      "metadata": {
        "id": "dZtq6aHmNplG",
        "colab_type": "code",
        "colab": {}
      },
      "source": [
        ""
      ],
      "execution_count": null,
      "outputs": []
    },
    {
      "cell_type": "markdown",
      "metadata": {
        "id": "Sno034IoJIS4",
        "colab_type": "text"
      },
      "source": [
        "## 5. Data-Ink Ratio"
      ]
    },
    {
      "cell_type": "markdown",
      "metadata": {
        "id": "YHjETvAaJIVS",
        "colab_type": "text"
      },
      "source": [
        "The chart containing both line charts tells a more complete story than the one containing just the line chart that visualized just the women percentages. This plot instead tells the story of two distinct periods. In the first period, from 1970 to around 1987, women were a minority when it came to majoring in Biology while in the second period, from around 1987 to around 2012, women became a majority. You can see the point where women overtook men where the lines intersect. While a viewer could have reached the same conclusions using the individual line chart of just the women percentages, it would have required more effort and mental processing on their part.\n",
        "\n",
        "Although our plot is better, it still contains some extra visual elements that aren't necessary to understand the data. We're interested in helping people understand the gender gap in different fields across time. These excess elements, sometimes known as [chartjunk](https://en.wikipedia.org/wiki/Chartjunk), increase as we add more plots for visualizing the other degrees, making it harder for anyone trying to interpret our charts. In general, we want to maximize the [data-ink ratio](https://infovis-wiki.net/wiki/Data-Ink_Ratio), which is the fractional amount of the plotting area dedicated to displaying the data.\n",
        "\n",
        "The following is an animated GIF by [Darkhorse Analytics](https://www.darkhorseanalytics.com/blog/data-looks-better-naked) that shows a series of tweaks for boosting the data-ink ratio:\n",
        "\n",
        "![alt text](https://s3.amazonaws.com/dq-content/147/data-ink.gif)"
      ]
    },
    {
      "cell_type": "markdown",
      "metadata": {
        "id": "YxZ5-DrLOP8U",
        "colab_type": "text"
      },
      "source": [
        "Non-data ink includes any elements in the chart that don't directly display data points. This includes tick markers, tick labels, and legends. Data ink includes any elements that display and depend on the data points underlying the chart. In a line chart, data ink would primarily be the lines and in a scatter plot, the data ink would primarily be in the markers. As we increase the data-ink ratio, we decrease non-data ink that can help a viewer understand certain aspects of the plots. We need to be mindful of this trade-off as we work on tweaking the appearance of plots to tell a story, because plots we create could end up telling the wrong story.\n",
        "\n",
        "This principle was originally set forth by [Edward Tufte](https://en.wikipedia.org/wiki/Edward_Tufte), a pioneer of the field of data visualization. Tufte's first book, [The Visual Display of Quantitative Information](https://www.edwardtufte.com/tufte/books_vdqi), is considered a bible among information designers. We cover some of the ideas presented in the book in this course, but we recommend going through the entire book for more depth.\n",
        "\n",
        "To improve the data-ink ratio, let's make the following changes to the plot we created in the last step:\n",
        "\n",
        "Remove all of the axis tick marks.\n",
        "Hide the spines, which are the lines that connects the tick marks, on each axis.\n"
      ]
    },
    {
      "cell_type": "markdown",
      "metadata": {
        "id": "NC5ALnahJIX7",
        "colab_type": "text"
      },
      "source": [
        "## 6. Hiding Tick Marks"
      ]
    },
    {
      "cell_type": "markdown",
      "metadata": {
        "id": "ccCTS3K8JIag",
        "colab_type": "text"
      },
      "source": [
        "To customize the appearance of the ticks, we use the [Axes.tick_params()](http://matplotlib.org/api/axes_api.html#matplotlib.axes.Axes.tick_params) method. Using this method, we can modify which tick marks and tick labels are displayed. By default, matplotlib displays the tick marks on all four sides of the plot. Here are the four sides for a standard line chart:\n",
        "\n",
        "The left side is the y-axis.\n",
        "The bottom side is the x-axis.\n",
        "The top side is across from the x-axis.\n",
        "The right side is across from the y-axis.\n",
        "The parameters for enabling or disabling tick marks are conveniently named after the sides. To hide all of them, we need to pass in the following values for each parameter when we call `Axes.tick_params()`:\n",
        "\n",
        "- `bottom`: `\"off\"`\n",
        "- `top`: `\"off\"`\n",
        "- `left`: `\"off\"`\n",
        "- `right`: `\"off\"`\n"
      ]
    },
    {
      "cell_type": "code",
      "metadata": {
        "id": "I8wq-mj7Or8s",
        "colab_type": "code",
        "colab": {}
      },
      "source": [
        ""
      ],
      "execution_count": null,
      "outputs": []
    },
    {
      "cell_type": "markdown",
      "metadata": {
        "id": "QrXH10flJIdE",
        "colab_type": "text"
      },
      "source": [
        "## 7. Hiding Spines"
      ]
    },
    {
      "cell_type": "markdown",
      "metadata": {
        "id": "L3q1ssfgJIf8",
        "colab_type": "text"
      },
      "source": [
        "With the axis tick marks gone, the data-ink ratio is improved and the chart looks much cleaner. In addition, the spines in the chart now are no longer necessary. When we're exploring data, the spines and the ticks complement each other to help us refer back to specific data points or ranges. When a viewer is viewing our chart and trying to understand the insight we're presenting, the ticks and spines can get in the way. As we mentioned earlier, chartjunk becomes much more noticeable when you have multiple plots in the same chart. By keeping the axis tick labels but not the spines or tick marks, we strike an appropriate balance between hiding chartjunk and making the data visible.\n",
        "\n",
        "In matplotlib, the spines are represented using the [matplotlib.spines.Spine](http://matplotlib.org/api/spines_api.html) class. When we create an Axes instance, four Spine objects are created for us. If you run `print(ax.spines)`, you'll get back a dictionary of the Spine objects:\n",
        "```\n",
        "{'right': <matplotlib.spines.Spine object at 0x111089c18>, 'bottom': \n",
        "<matplotlib.spines.Spine object at 0x111060898>, 'top': \n",
        "<matplotlib.spines.Spine object at 0x1110606a0>, 'left': \n",
        "<matplotlib.spines.Spine object at 0x11107cd30>}\n",
        "```\n",
        "To hide all of the spines, we need to:\n",
        "\n",
        "- access each Spine object in the dictionary\n",
        "- call the `Spine.set_visible()` method\n",
        "- pass in the Boolean value `False`\n",
        "\n",
        "The following line of code removes the spines for the right axis:\n",
        "```\n",
        "ax.spines[\"right\"].set_visible(False)\n",
        "```"
      ]
    },
    {
      "cell_type": "code",
      "metadata": {
        "id": "_We7umocTV-i",
        "colab_type": "code",
        "colab": {}
      },
      "source": [
        ""
      ],
      "execution_count": null,
      "outputs": []
    },
    {
      "cell_type": "markdown",
      "metadata": {
        "id": "7hDT-pjCJIit",
        "colab_type": "text"
      },
      "source": [
        "## 8. Comparing Gender Gap Across Degree Categories"
      ]
    },
    {
      "cell_type": "markdown",
      "metadata": {
        "id": "5c4wHIYOJIlN",
        "colab_type": "text"
      },
      "source": [
        "So far, matplotlib has set the limits automatically for each axis and this hasn't had any negative effect on communicating our story with data. If we want to generate charts to compare multiple degree categories, the axis ranges need to be consistent. Inconsistent data ranges can distort the story our charts are telling and fool the viewer.\n",
        "\n",
        "Edward Tufte often preaches that a good chart encourages comparison over just description. A good chart uses a consistent style for the elements that aren't directly conveying the data points. These elements are part of the non-data ink in the chart. By keeping the non-data ink as consistent as possible across multiple plots, differences in those elements stick out easily to the viewer. This is because our visual processing systems are excellent at discerning differences quickly and brings them to the front of our thought process. The similarities naturally fade to the back of our thought process.\n",
        "\n",
        "Let's generate line charts for four STEM degree categories on a grid to encourage comparison. Our instructions for generating the chart are cumbersome. Here's what the final chart looks like, so you can refer to it as you write your code:\n",
        "\n",
        "![alt text](https://s3.amazonaws.com/dq-content/four_major_categories_plots.png)\n",
        "\n",
        "We've also added some starter code to help you generate the chart. This code uses a for loop to generate the line charts for each subplot in the chart. We can save space this way and easily tweak the code to generate other variations of the chart."
      ]
    },
    {
      "cell_type": "code",
      "metadata": {
        "id": "_GYqSJTKTW8X",
        "colab_type": "code",
        "colab": {}
      },
      "source": [
        ""
      ],
      "execution_count": null,
      "outputs": []
    },
    {
      "cell_type": "markdown",
      "metadata": {
        "id": "9lPDTzkFJIoE",
        "colab_type": "text"
      },
      "source": [
        "By spending just a few seconds reading the chart, we can conclude that the gender gap in Computer Science and Engineering have big gender gaps while the gap in Biology and Math and Statistics is quite small. In addition, the first two degree categories are dominated by men while the latter degree categories are much more balanced. This chart can still be improved, however, and we'll explore more techniques in the next mission.\n",
        "\n",
        "In this mission, we explored how to enhance a chart's storytelling capabilities by minimizing chartjunk and encouraging comparison. In the next mission, we'll explore how to use color, spacing, and weights to further enhance the storytelling capability of the plots."
      ]
    },
    {
      "cell_type": "code",
      "metadata": {
        "id": "B6ulrQjjTlyy",
        "colab_type": "code",
        "colab": {}
      },
      "source": [
        ""
      ],
      "execution_count": null,
      "outputs": []
    }
  ]
}