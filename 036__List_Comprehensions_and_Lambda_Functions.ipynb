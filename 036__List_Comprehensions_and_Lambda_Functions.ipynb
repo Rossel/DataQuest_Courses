{
  "nbformat": 4,
  "nbformat_minor": 0,
  "metadata": {
    "colab": {
      "name": "036__List_Comprehensions_and_Lambda_Functions.ipynb",
      "provenance": [],
      "authorship_tag": "ABX9TyM/xCj8XojVzKwHUnhsX8qA",
      "include_colab_link": true
    },
    "kernelspec": {
      "name": "python3",
      "display_name": "Python 3"
    }
  },
  "cells": [
    {
      "cell_type": "markdown",
      "metadata": {
        "id": "view-in-github",
        "colab_type": "text"
      },
      "source": [
        "<a href=\"https://colab.research.google.com/github/Rossel/DataQuest_Courses/blob/master/036__List_Comprehensions_and_Lambda_Functions.ipynb\" target=\"_parent\"><img src=\"https://colab.research.google.com/assets/colab-badge.svg\" alt=\"Open In Colab\"/></a>"
      ]
    },
    {
      "cell_type": "markdown",
      "metadata": {
        "id": "6PWQ-EVGT2s_"
      },
      "source": [
        "# COURSE 5/6: DATA CLEANING IN PYTHON: ADVANCED"
      ]
    },
    {
      "cell_type": "markdown",
      "metadata": {
        "id": "THaX315BT2wD"
      },
      "source": [
        "# MISSION 3: List Comprehensions and Lambda Functions"
      ]
    },
    {
      "cell_type": "markdown",
      "metadata": {
        "id": "YxK6_yCfTJak"
      },
      "source": [
        "Learn techniques to turbo-charge working with data in Python"
      ]
    },
    {
      "cell_type": "markdown",
      "metadata": {
        "id": "nfk12M-4TwZU"
      },
      "source": [
        "## 1. The JSON Format"
      ]
    },
    {
      "cell_type": "markdown",
      "metadata": {
        "id": "S1EKg_6cTwuj"
      },
      "source": [
        "So far, we've learned how to use regular expressions to make cleaning and analyzing text data easier.\n",
        "\n",
        "In this mission, we'll learn some tips and syntax shortcuts we can use on top of everything we've learned, including:\n",
        "\n",
        "- Creating list comprehensions to replace loops with a single line of code.\n",
        "- Creating single use functions called lambda functions.\n",
        "\n",
        "The data set we'll use in this mission is in a format called [JavaScript Object Notation](https://www.json.org/) (JSON). As the name indicates, JSON originated from the JavaScript language, but has now become a language-independent format.\n",
        "\n",
        "From a Python perspective, JSON can be thought as a collection of Python objects nested inside each other.\n",
        "\n",
        "![img](https://s3.amazonaws.com/dq-content/355/json.svg)"
      ]
    },
    {
      "cell_type": "markdown",
      "metadata": {
        "id": "jGbUCUHMW71T"
      },
      "source": [
        "The JSON above is a list, where each element in the list is a dictionary. Each of the dictionaries have the same keys, and one of the values of each dictionary is itself a list.\n",
        "\n",
        "The Python `json` [module](https://docs.python.org/3.7/library/json.html#module-json) contains a number of functions to make working with JSON objects easier. We can use the `json.loads()` [method](https://docs.python.org/3.7/library/json.html#json.loads) to convert JSON data contained in a string to the equivalent set of Python objects:"
      ]
    },
    {
      "cell_type": "code",
      "metadata": {
        "colab": {
          "base_uri": "https://localhost:8080/"
        },
        "id": "IaMyYHmhXY6f",
        "outputId": "bc6558c5-4eba-4ce5-9f82-b1adbd830693"
      },
      "source": [
        "json_string = \"\"\"\n",
        "[\n",
        "  {\n",
        "    \"name\": \"Sabine\",\n",
        "    \"age\": 36,\n",
        "    \"favorite_foods\": [\"Pumpkin\", \"Oatmeal\"]\n",
        "  },\n",
        "  {\n",
        "    \"name\": \"Zoe\",\n",
        "    \"age\": 40,\n",
        "    \"favorite_foods\": [\"Chicken\", \"Pizza\", \"Chocolate\"]\n",
        "  },\n",
        "  {\n",
        "    \"name\": \"Heidi\",\n",
        "    \"age\": 40,\n",
        "    \"favorite_foods\": [\"Caesar Salad\"]\n",
        "  }\n",
        "]\n",
        "\"\"\"\n",
        "\n",
        "import json\n",
        "json_obj = json.loads(json_string)\n",
        "print(type(json_obj))"
      ],
      "execution_count": null,
      "outputs": [
        {
          "output_type": "stream",
          "text": [
            "<class 'list'>\n"
          ],
          "name": "stdout"
        }
      ]
    },
    {
      "cell_type": "markdown",
      "metadata": {
        "id": "ORdvjlI8Xifa"
      },
      "source": [
        "We can see that `json_string` has turned into a list. Let's take a look at the values in the list:\n",
        "\n"
      ]
    },
    {
      "cell_type": "code",
      "metadata": {
        "colab": {
          "base_uri": "https://localhost:8080/"
        },
        "id": "Gnb2SVEoXlKH",
        "outputId": "38466d98-3ea9-4e92-beb4-799f963caa8d"
      },
      "source": [
        "print(json_obj)"
      ],
      "execution_count": null,
      "outputs": [
        {
          "output_type": "stream",
          "text": [
            "[{'name': 'Sabine', 'age': 36, 'favorite_foods': ['Pumpkin', 'Oatmeal']}, {'name': 'Zoe', 'age': 40, 'favorite_foods': ['Chicken', 'Pizza', 'Chocolate']}, {'name': 'Heidi', 'age': 40, 'favorite_foods': ['Caesar Salad']}]\n"
          ],
          "name": "stdout"
        }
      ]
    },
    {
      "cell_type": "markdown",
      "metadata": {
        "id": "VoH0n-pJXqRQ"
      },
      "source": [
        "We can observe a few things:\n",
        "\n",
        "- The formatting from our original string is gone. This is because printing Python lists and dictionaries has a simple formatting structure.\n",
        "- The order of the keys in the dictionary have changed. This is because (prior to version 3.6) Python dictionaries don't have fixed order.\n",
        "\n",
        "Let's practice using `json.loads()` to convert JSON data from a string to Python objects!\n",
        "\n"
      ]
    },
    {
      "cell_type": "markdown",
      "metadata": {
        "id": "VnGl6VCaXu77"
      },
      "source": [
        "**Instructions:**\n",
        "\n",
        "We have created a JSON string, `world_cup_str`, which contains data about games from the 2018 Football World Cup.\n",
        "\n",
        "1. Import the `json` module.\n",
        "2. Use `json.loads()` to convert `world_cup_str` to a Python object. Assign the result to world_cup_obj."
      ]
    },
    {
      "cell_type": "code",
      "metadata": {
        "id": "k2EgcIL40Wx-"
      },
      "source": [
        ""
      ],
      "execution_count": null,
      "outputs": []
    },
    {
      "cell_type": "code",
      "metadata": {
        "id": "7zbhVrbR2n44"
      },
      "source": [
        "# Code to read csv file into Colaboratory:\n",
        "!pip install -U -q PyDrive\n",
        "from pydrive.auth import GoogleAuth\n",
        "from pydrive.drive import GoogleDrive\n",
        "from google.colab import auth\n",
        "from oauth2client.client import GoogleCredentials\n",
        "# Authenticate and create the PyDrive client.\n",
        "auth.authenticate_user()\n",
        "gauth = GoogleAuth()\n",
        "gauth.credentials = GoogleCredentials.get_application_default()\n",
        "drive = GoogleDrive(gauth)"
      ],
      "execution_count": null,
      "outputs": []
    },
    {
      "cell_type": "code",
      "metadata": {
        "id": "mQVsg_sh2o4j"
      },
      "source": [
        "# Once you have completed verification, go to the CSV file in Google Drive, right-click on it and select “Get shareable link”, and cut out the unique id in the link.\n",
        "# https://drive.google.com/file/d/1J3gYozddULmvWfprsTXK9Ga3V74UpaJe/view?usp=sharing\n",
        "id = \"1J3gYozddULmvWfprsTXK9Ga3V74UpaJe\""
      ],
      "execution_count": null,
      "outputs": []
    },
    {
      "cell_type": "code",
      "metadata": {
        "id": "qgFvCD-32wdh"
      },
      "source": [
        "# Download the dataset\n",
        "downloaded = drive.CreateFile({'id':id}) \n",
        "downloaded.GetContentFile('hn_2014.json')"
      ],
      "execution_count": null,
      "outputs": []
    },
    {
      "cell_type": "markdown",
      "metadata": {
        "id": "xJ8x3VsFTwyw"
      },
      "source": [
        "## 2. Reading a JSON file"
      ]
    },
    {
      "cell_type": "markdown",
      "metadata": {
        "id": "J1rmPpKITw17"
      },
      "source": [
        "One of the places where the JSON format is commonly used is in the results returned by an [Application programming interface](https://en.wikipedia.org/wiki/Application_programming_interface) (**API**). APIs are interfaces that can be used to send and transmit data between different computer systems. We'll learn about how to work with APIs in a later course."
      ]
    },
    {
      "cell_type": "markdown",
      "metadata": {
        "id": "zPGYt9e-0hST"
      },
      "source": [
        "The data set from this mission — `hn_2014.json` — was downloaded from the Hacker News API. It's a different set of data from the CSV we've been using in the previous two missions, and it contains data about stories from Hacker News in 2014."
      ]
    },
    {
      "cell_type": "markdown",
      "metadata": {
        "id": "Of0SO5Dj00FV"
      },
      "source": [
        "To read a file from JSON format, we use the `json.load()` [function](https://docs.python.org/3.7/library/json.html#json.load). Note that the function is `json.load()` without an \"s\" at the end. The `json.loads()` function is used for loading JSON data from a string (\"loads\" is short for \"load string\"), whereas the `json.load()` function is used to load from a file object. Let's look at how we would read that in our data:\n",
        "\n"
      ]
    },
    {
      "cell_type": "code",
      "metadata": {
        "colab": {
          "base_uri": "https://localhost:8080/"
        },
        "id": "-u5tJgpT089S",
        "outputId": "d77b27cd-f830-4b3d-b232-1c49bdc71d11"
      },
      "source": [
        "import json\n",
        "file = open(\"hn_2014.json\")\n",
        "hn = json.load(file)\n",
        "\n",
        "print(type(hn))"
      ],
      "execution_count": null,
      "outputs": [
        {
          "output_type": "stream",
          "text": [
            "<class 'list'>\n"
          ],
          "name": "stdout"
        }
      ]
    },
    {
      "cell_type": "markdown",
      "metadata": {
        "id": "p0WzSS3uRRjq"
      },
      "source": [
        "Our `hn` variable is a list. Let's find out how many objects are in the list, and the type of the first object (which will almost always be the type of every object in the list in JSON data):"
      ]
    },
    {
      "cell_type": "code",
      "metadata": {
        "colab": {
          "base_uri": "https://localhost:8080/"
        },
        "id": "rFlrxPL6RWML",
        "outputId": "5d9ba5cd-d11d-4d5f-cb15-f0cee61708e2"
      },
      "source": [
        "print(len(hn))\n",
        "print(type(hn[0]))"
      ],
      "execution_count": null,
      "outputs": [
        {
          "output_type": "stream",
          "text": [
            "35806\n",
            "<class 'dict'>\n"
          ],
          "name": "stdout"
        }
      ]
    },
    {
      "cell_type": "markdown",
      "metadata": {
        "id": "haXNrIDgRnio"
      },
      "source": [
        "Our data set contains 35,806 dictionary objects, each representing a Hacker News story. In order to understand the format of our data set, we'll print the keys of the first dictionary:"
      ]
    },
    {
      "cell_type": "code",
      "metadata": {
        "colab": {
          "base_uri": "https://localhost:8080/"
        },
        "id": "bq_SJDZ7RqBc",
        "outputId": "ac1c7fbf-25de-4713-8020-d564ea5404cf"
      },
      "source": [
        "print(hn[0].keys())"
      ],
      "execution_count": null,
      "outputs": [
        {
          "output_type": "stream",
          "text": [
            "dict_keys(['author', 'numComments', 'points', 'url', 'storyText', 'createdAt', 'tags', 'createdAtI', 'title', 'objectId'])\n"
          ],
          "name": "stdout"
        }
      ]
    },
    {
      "cell_type": "markdown",
      "metadata": {
        "id": "P0LUAcwtRpiz"
      },
      "source": [
        "If we recall the data set we used in the previous two missions, we can see some similarities. There are keys representing the title, URL, points, number of comments, and date, as well as some others that are less familiar to us. Here is a summary of the keys and the data that they contain:\n",
        "\n",
        "- `author`: The username of the person who submitted the story.\n",
        "- `createdAt`: The date and time at which the story was created.\n",
        "- `createdAtI`: An integer value representing the date and time at which the story was created.\n",
        "- `numComments`: The number of comments that were made on the story.\n",
        "- `objectId`: The unique identifier from Hacker News for the story.\n",
        "- `points`: The number of points the story acquired, calculated as the total number of upvotes minus the total number of downvotes.\n",
        "- `storyText`: The text of the story (if the story contains text).\n",
        "- `tags`: A list of tags associated with the story.\n",
        "- `title`: The title of the story.\n",
        "- `url`: The URL that the story links to (if the story links to a URL).\n",
        "\n",
        "Let's start by reading our Hacker News JSON file:\n",
        "\n"
      ]
    },
    {
      "cell_type": "markdown",
      "metadata": {
        "id": "YqU1Vrd8SJYj"
      },
      "source": [
        "**Instructions:**\n",
        "\n",
        "The json module remains imported from the previous screen.\n",
        "\n",
        "1. Use the `open()` [function](https://docs.python.org/3.7/library/functions.html#open) to open the `hn_2014.json` file as a file object.\n",
        "2. Use the `json.load()` function to parse the file object and assign the result to `hn`."
      ]
    },
    {
      "cell_type": "code",
      "metadata": {
        "id": "1mktA-N_nM8a"
      },
      "source": [
        ""
      ],
      "execution_count": null,
      "outputs": []
    },
    {
      "cell_type": "markdown",
      "metadata": {
        "id": "ot9J9gZWTw82"
      },
      "source": [
        "## 3. Deleting Dictionary Keys"
      ]
    },
    {
      "cell_type": "markdown",
      "metadata": {
        "id": "0YD_LUTGnNfs"
      },
      "source": [
        "Let's look at the first dictionary in full. To make it easier to understand, we're going to create a function which will print a JSON object with formatting to make it easier to read.\n",
        "\n",
        "The function will use the `json.dumps()` [function](https://docs.python.org/3.7/library/json.html#json.dumps) (\"dump string\") which does the opposite of the `json.loads()` function — it takes a JSON object and returns a string version of it. The `json.dumps()` function accepts arguments that can specify formatting for the string, which we'll use to make things easier to read:\n",
        "\n"
      ]
    },
    {
      "cell_type": "code",
      "metadata": {
        "colab": {
          "base_uri": "https://localhost:8080/"
        },
        "id": "ekkwootqnZvm",
        "outputId": "110d0477-f531-40fd-eae3-4a9bbb74eec8"
      },
      "source": [
        "def jprint(obj):\n",
        "    # create a formatted string of the Python JSON object\n",
        "    text = json.dumps(obj, sort_keys=True, indent=4)\n",
        "    print(text)\n",
        "\n",
        "first_story = hn[0]\n",
        "jprint(first_story)"
      ],
      "execution_count": null,
      "outputs": [
        {
          "output_type": "stream",
          "text": [
            "{\n",
            "    \"author\": \"dragongraphics\",\n",
            "    \"createdAt\": \"2014-05-29T08:07:50Z\",\n",
            "    \"createdAtI\": 1401350870,\n",
            "    \"numComments\": 0,\n",
            "    \"objectId\": \"7815238\",\n",
            "    \"points\": 2,\n",
            "    \"storyText\": \"\",\n",
            "    \"tags\": [\n",
            "        \"story\",\n",
            "        \"author_dragongraphics\",\n",
            "        \"story_7815238\"\n",
            "    ],\n",
            "    \"title\": \"Are we getting too Sassy? Weighing up micro-optimisation vs. maintainability\",\n",
            "    \"url\": \"http://ashleynolan.co.uk/blog/are-we-getting-too-sassy\"\n",
            "}\n"
          ],
          "name": "stdout"
        }
      ]
    },
    {
      "cell_type": "markdown",
      "metadata": {
        "id": "s4jePb1Pqm3q"
      },
      "source": [
        "You may notice that the `createdAt` and `createdAtI` keys both have the date and time data in two different formats. Because the format of `createdAt` is much easier to understand, let's do some data cleaning by deleting the `createdAtI` key from every dictionary.\n",
        "\n",
        "To delete a key from a dictionary, we can use the `del` [statement](https://docs.python.org/3.7/reference/simple_stmts.html#del). Let's learn the syntax by looking at a simple example:"
      ]
    },
    {
      "cell_type": "code",
      "metadata": {
        "colab": {
          "base_uri": "https://localhost:8080/"
        },
        "id": "yINCl0ksqxvY",
        "outputId": "03e63c06-24f2-41ce-9f0d-668cac2e419c"
      },
      "source": [
        "d = {'a': 1, 'b': 2, 'c': 3}\n",
        "del d['a']\n",
        "print(d)"
      ],
      "execution_count": null,
      "outputs": [
        {
          "output_type": "stream",
          "text": [
            "{'b': 2, 'c': 3}\n"
          ],
          "name": "stdout"
        }
      ]
    },
    {
      "cell_type": "markdown",
      "metadata": {
        "id": "e4xRiaYqq3tP"
      },
      "source": [
        "We can create a function using `del` that will return a copy of our dictionary with the key removed:"
      ]
    },
    {
      "cell_type": "code",
      "metadata": {
        "id": "MLw9yj9sq6mQ"
      },
      "source": [
        "def del_key(dict_, key):\n",
        "    # create a copy so we don't\n",
        "    # modify the original dict\n",
        "    modified_dict = dict_.copy()\n",
        "    del modified_dict[key]\n",
        "    return modified_dict"
      ],
      "execution_count": null,
      "outputs": []
    },
    {
      "cell_type": "markdown",
      "metadata": {
        "id": "2C_smGbEq_J7"
      },
      "source": [
        "Let's use this function to delete the `createdAtI` key from first_story:"
      ]
    },
    {
      "cell_type": "code",
      "metadata": {
        "colab": {
          "base_uri": "https://localhost:8080/"
        },
        "id": "8gcXhgVPrAxd",
        "outputId": "de3d6ac5-fdb8-45dc-bf6a-e34cc991f818"
      },
      "source": [
        "first_story = del_key(first_story, 'createdAtI')\n",
        "jprint(first_story)"
      ],
      "execution_count": null,
      "outputs": [
        {
          "output_type": "stream",
          "text": [
            "{\n",
            "    \"author\": \"dragongraphics\",\n",
            "    \"createdAt\": \"2014-05-29T08:07:50Z\",\n",
            "    \"numComments\": 0,\n",
            "    \"objectId\": \"7815238\",\n",
            "    \"points\": 2,\n",
            "    \"storyText\": \"\",\n",
            "    \"tags\": [\n",
            "        \"story\",\n",
            "        \"author_dragongraphics\",\n",
            "        \"story_7815238\"\n",
            "    ],\n",
            "    \"title\": \"Are we getting too Sassy? Weighing up micro-optimisation vs. maintainability\",\n",
            "    \"url\": \"http://ashleynolan.co.uk/blog/are-we-getting-too-sassy\"\n",
            "}\n"
          ],
          "name": "stdout"
        }
      ]
    },
    {
      "cell_type": "markdown",
      "metadata": {
        "id": "HxLILD_mrD4l"
      },
      "source": [
        "The dictionary returned by the function no longer includes the `createdAtI` key.\n",
        "\n",
        "Let's use a loop and the `del_key()` function to remove the `createdAtI` key from every story in our Hacker News data set"
      ]
    },
    {
      "cell_type": "markdown",
      "metadata": {
        "id": "S_Ti1ZMNncJV"
      },
      "source": [
        "**Instructions:**\n",
        "\n",
        "We have provided the code for the `del_key()` function.\n",
        "\n",
        "1. Create an empty list, `hn_clean` to store the cleaned data set.\n",
        "2. Loop over the dictionaries in the `hn` list. In each iteration:\n",
        " - Use the `del_key()` function to delete the `createdAtI` key from the dictionary.\n",
        " - Append the cleaned dictionary to `hn_clean`."
      ]
    },
    {
      "cell_type": "code",
      "metadata": {
        "id": "nY3nta3CSdrm"
      },
      "source": [
        "# Answer so the next code works\n",
        "\n",
        "def del_key(dict_, key):\n",
        "    # create a copy so we don't\n",
        "    # modify the original dict\n",
        "    modified_dict = dict_.copy()\n",
        "    del modified_dict[key]\n",
        "    return modified_dict\n",
        "hn_clean = []\n",
        "\n",
        "for d in hn:\n",
        "    new_d = del_key(d, 'createdAtI')\n",
        "    hn_clean.append(new_d)"
      ],
      "execution_count": null,
      "outputs": []
    },
    {
      "cell_type": "markdown",
      "metadata": {
        "id": "Ls6_17KFnHGG"
      },
      "source": [
        "## 4. Writing List Comprehensions"
      ]
    },
    {
      "cell_type": "markdown",
      "metadata": {
        "id": "tfmXU6cZTxAL"
      },
      "source": [
        "Here is the solution code from the previous screen:"
      ]
    },
    {
      "cell_type": "code",
      "metadata": {
        "id": "vBpIZP8iX4Ac"
      },
      "source": [
        "hn_clean = []\n",
        "\n",
        "for d in hn:\n",
        "    new_d = del_key(d, 'createdAtI')\n",
        "    hn_clean.append(new_d)"
      ],
      "execution_count": null,
      "outputs": []
    },
    {
      "cell_type": "markdown",
      "metadata": {
        "id": "QuGDU0-jYf1W"
      },
      "source": [
        "The task we performed is an extremely common one. Specifically, we:\n",
        "\n",
        "- Iterated over values in a list.\n",
        "- Performed a transformation on those values.\n",
        "- Assigned the result to a new list.\n",
        "\n",
        "Python includes a special syntax shortcut for tasks that meet these criteria: **List Comprehensions**. A list comprehension provides a concise way of creating lists in a single line of code.\n",
        "\n"
      ]
    },
    {
      "cell_type": "markdown",
      "metadata": {
        "id": "hJl3vMgQYlN2"
      },
      "source": [
        "List comprehensions can look complex at first, but we are simply reordering the elements of our for loop code. To keep things simple, we'll start with a basic example, where we want to add 1 to each item in a list of integers."
      ]
    },
    {
      "cell_type": "code",
      "metadata": {
        "colab": {
          "base_uri": "https://localhost:8080/"
        },
        "id": "eZn51F27YpmH",
        "outputId": "b959a492-7950-426a-cf7d-0c4d0a1a6e6f"
      },
      "source": [
        "ints = [1, 2, 3, 4]\n",
        "\n",
        "plus_one = []\n",
        "for i in ints:\n",
        "    plus_one.append(i + 1)\n",
        "\n",
        "print(plus_one)"
      ],
      "execution_count": null,
      "outputs": [
        {
          "output_type": "stream",
          "text": [
            "[2, 3, 4, 5]\n"
          ],
          "name": "stdout"
        }
      ]
    },
    {
      "cell_type": "markdown",
      "metadata": {
        "id": "izRZ75FgYu7W"
      },
      "source": [
        "Let's start by labeling the three main parts of our loop:\n",
        "![img](https://s3.amazonaws.com/dq-content/355/loop_components.svg)\n",
        "\n",
        "To transform this structure into a list comprehension, we do the following within brackets:\n",
        "\n",
        "- Start with the code that transforms each item.\n",
        "- Continue with our for statement (without a colon)."
      ]
    },
    {
      "cell_type": "markdown",
      "metadata": {
        "id": "PVIcSsbWYy4k"
      },
      "source": [
        "We can then assign the list comprehension to a variable name. The animation below shows how we convert the manual loop version to a list comprehension.\n",
        "![img](https://s3.amazonaws.com/dq-content/355/list_comp_anim.svg)"
      ]
    },
    {
      "cell_type": "markdown",
      "metadata": {
        "id": "T-kTVMPrZEXl"
      },
      "source": [
        "Let's look at a second example, where we want to multiply each item in the list by 10:"
      ]
    },
    {
      "cell_type": "code",
      "metadata": {
        "colab": {
          "base_uri": "https://localhost:8080/"
        },
        "id": "UeyPdanMZFoe",
        "outputId": "5d27e07d-24be-41b3-efa7-509e695d634c"
      },
      "source": [
        "times_ten = []\n",
        "for i in ints:\n",
        "    times_ten.append(i * 10)\n",
        "\n",
        "print(times_ten)"
      ],
      "execution_count": null,
      "outputs": [
        {
          "output_type": "stream",
          "text": [
            "[10, 20, 30, 40]\n"
          ],
          "name": "stdout"
        }
      ]
    },
    {
      "cell_type": "markdown",
      "metadata": {
        "id": "Y-Pb1MMWZJdG"
      },
      "source": [
        "To convert this to a list comprehension, we follow the same pattern:\n",
        "![img](https://s3.amazonaws.com/dq-content/355/loop_vs_lc_2.svg)"
      ]
    },
    {
      "cell_type": "markdown",
      "metadata": {
        "id": "uWlMGnrAZNFY"
      },
      "source": [
        "The \"transformation\" step of our list comprehension can be anything, including a function or method. In the example below, we are applying a function to a list of floats to round them to integers:"
      ]
    },
    {
      "cell_type": "code",
      "metadata": {
        "colab": {
          "base_uri": "https://localhost:8080/"
        },
        "id": "gOa3Tz_DZTSp",
        "outputId": "8a0294d7-3085-4c71-9fa0-38d6cb1cde0a"
      },
      "source": [
        "floats = [2.1, 8.7, 4.2, 8.9]\n",
        "\n",
        "rounded = []\n",
        "for f in floats:\n",
        "    rounded.append(round(f))\n",
        "\n",
        "print(rounded)"
      ],
      "execution_count": null,
      "outputs": [
        {
          "output_type": "stream",
          "text": [
            "[2, 9, 4, 9]\n"
          ],
          "name": "stdout"
        }
      ]
    },
    {
      "cell_type": "markdown",
      "metadata": {
        "id": "lKNY7JvUZXEP"
      },
      "source": [
        "To convert to a list comprehension, we simply rearrange the components:\n",
        "![img](https://s3.amazonaws.com/dq-content/355/loop_vs_lc_3.svg)"
      ]
    },
    {
      "cell_type": "markdown",
      "metadata": {
        "id": "mOYWo4VWZa2-"
      },
      "source": [
        "Just like in a normal loop, we can use any name for our iterator variable. Here, we have used `f`.\n",
        "\n",
        "For the last example, we'll apply a method to each string in a list to capitalize it. We won't color the different components, so we can get used to how that looks.\n",
        "\n"
      ]
    },
    {
      "cell_type": "code",
      "metadata": {
        "id": "45EBQKIl75b5"
      },
      "source": [
        "letters = ['a', 'b', 'c', 'd']\n",
        "\n",
        "caps = []\n",
        "for l in letters:\n",
        "    caps.append(l.upper())"
      ],
      "execution_count": null,
      "outputs": []
    },
    {
      "cell_type": "markdown",
      "metadata": {
        "id": "YF1uUjhX8BKm"
      },
      "source": [
        "Even though we've used a different kind of transformation, the ordering of the list comprehension remains the same:"
      ]
    },
    {
      "cell_type": "code",
      "metadata": {
        "colab": {
          "base_uri": "https://localhost:8080/"
        },
        "id": "m8kbhpwm8D_a",
        "outputId": "98c3ecbd-9d18-43fa-fbe8-5d088ec3fa5e"
      },
      "source": [
        "caps = [l.upper() for l in letters]\n",
        "print(caps)"
      ],
      "execution_count": null,
      "outputs": [
        {
          "output_type": "stream",
          "text": [
            "['A', 'B', 'C', 'D']\n"
          ],
          "name": "stdout"
        }
      ]
    },
    {
      "cell_type": "markdown",
      "metadata": {
        "id": "d4-dHqZS8OWD"
      },
      "source": [
        "Let's recap what we have learned so far. A list comprehension can be used where we:\n",
        "\n",
        "- Iterated over values in a list.\n",
        "- Performed a transformation on those values.\n",
        "- Assigned the result to a new list.\n",
        "\n",
        "To transform a loop to a list comprehension, in brackets we:\n",
        "\n",
        "- Start with the code that transforms each item.\n",
        "- Continue with our for statement (without a colon).\n"
      ]
    },
    {
      "cell_type": "markdown",
      "metadata": {
        "id": "hVZ1K5j-8Xdj"
      },
      "source": [
        "We are going to write a list comprehension version of the code from the previous screen. To help, we've provided a copy of the code with the components labeled.\n",
        "\n",
        "![img](https://s3.amazonaws.com/dq-content/355/loop_components_hn.svg)"
      ]
    },
    {
      "cell_type": "markdown",
      "metadata": {
        "id": "uCgMbrVT8kpO"
      },
      "source": [
        "**Instructions:**\n",
        "\n",
        "We've provided the solution for the previous screen in comments for you to use as a reference.\n",
        "\n",
        "1. Create a list comprehension representation of the loop from the previous screen:\n",
        " - Call the `del_key()` function to remove the `createdAtI` value from each dictionary in the `hn` list.\n",
        " - Assign the results to a new list, `hn_clean`."
      ]
    },
    {
      "cell_type": "code",
      "metadata": {
        "id": "M9a7N5HI8vUJ"
      },
      "source": [
        ""
      ],
      "execution_count": null,
      "outputs": []
    },
    {
      "cell_type": "markdown",
      "metadata": {
        "id": "Z7o7S_srTxKM"
      },
      "source": [
        "## 5. Using List Comprehensions to Transform and Create Lists"
      ]
    },
    {
      "cell_type": "markdown",
      "metadata": {
        "id": "H2IGl0l8TxNK"
      },
      "source": [
        "List comprehensions can be used for many different things. Three common applications are:\n",
        "\n",
        "1. Transforming a list\n",
        "2. Creating a new list\n",
        "3. Reducing a list\n",
        "\n",
        "On this screen, we're going to look at the first two of these applications.\n",
        "\n",
        "The first application, **transforming a list**, is the category that all the examples you've seen so far fit under. You are taking an existing list, applying a transformation to every value, and assigning it to a variable.\n",
        "\n"
      ]
    },
    {
      "cell_type": "markdown",
      "metadata": {
        "id": "IDWzM-JYCdlZ"
      },
      "source": [
        "The example below uses a list comprehension to transform a list of square numbers into their \"square roots\":\n",
        "\n",
        "![img](https://s3.amazonaws.com/dq-content/355/lc_application_1.svg)"
      ]
    },
    {
      "cell_type": "markdown",
      "metadata": {
        "id": "gTfd1q9bDca-"
      },
      "source": [
        "The second application, **creating a new list**, is useful for creating test data or data that is based on a set of numbers.\n",
        "\n",
        "As an example, let's create a list of generic columns names that we could use to create a dataframe using the `range()` [function](https://docs.python.org/3/library/stdtypes.html#range) and the `str.format()` [method](https://docs.python.org/3/library/stdtypes.html#str.format) to combine numbers and text:\n",
        "\n",
        "![img](https://s3.amazonaws.com/dq-content/355/lc_application_2_2.svg)\n"
      ]
    },
    {
      "cell_type": "markdown",
      "metadata": {
        "id": "5fMgOjv4wKUJ"
      },
      "source": [
        "We can then use this to create an empty dataframe with labels:\n",
        "\n",
        "```\n",
        "cols = [\"col_{}\".format(i) for i in range(1,5)]\n",
        "data = np.zeros((4,4))\n",
        "\n",
        "df = pd.DataFrame(data, columns=cols)\n",
        "print(df)\n",
        "```\n",
        "\n"
      ]
    },
    {
      "cell_type": "markdown",
      "metadata": {
        "id": "opak8hapxP2p"
      },
      "source": [
        "```\n",
        "_  col_1  col_2  col_3  col_4\n",
        "0    0.0    0.0    0.0    0.0\n",
        "1    0.0    0.0    0.0    0.0\n",
        "2    0.0    0.0    0.0    0.0\n",
        "3    0.0    0.0    0.0    0.0\n",
        "```"
      ]
    },
    {
      "cell_type": "markdown",
      "metadata": {
        "id": "mgRNALhOwVca"
      },
      "source": [
        "Let's use list comprehension to create a new list containing just the URLs from each story."
      ]
    },
    {
      "cell_type": "markdown",
      "metadata": {
        "id": "KucHqLDxwWYd"
      },
      "source": [
        "**Instructions:**\n",
        "\n",
        "Use a list comprehension to extract the url value from each dictionary in hn_clean. Assign the result to urls."
      ]
    },
    {
      "cell_type": "code",
      "metadata": {
        "id": "Up9ARf_94HH9"
      },
      "source": [
        "urls = [d['url'] for d in hn_clean]"
      ],
      "execution_count": null,
      "outputs": []
    },
    {
      "cell_type": "markdown",
      "metadata": {
        "id": "M-7hogKFTxQs"
      },
      "source": [
        "## 6. Using List Comprehensions to Reduce a List"
      ]
    },
    {
      "cell_type": "markdown",
      "metadata": {
        "id": "nFY3kpEzTxUa"
      },
      "source": [
        "The last common application of list comprehensions is **reducing a list**. Let's say we had a list of integers and we wanted to remove any integers that were smaller than 50. We could do this by adding an if statement to our loop:\n",
        "![img](https://s3.amazonaws.com/dq-content/355/lc_application_3_1.svg)"
      ]
    },
    {
      "cell_type": "markdown",
      "metadata": {
        "id": "dTfj2GOJ4Vtg"
      },
      "source": [
        "Our loop has one new component — the if statement, which we've colored yellow. Notice that instead of a transformation, we have just the list item itself (`i`) in red. Both if statements and transformations are optional in list comprehensions, but we must include some value to populate the elements in the new list.\n",
        "\n",
        "To include an if statement in a list comprehension, we include it at the very end, before the closing bracket:\n",
        "\n",
        "![img](https://s3.amazonaws.com/dq-content/355/lc_application_3_2.svg)\n"
      ]
    },
    {
      "cell_type": "markdown",
      "metadata": {
        "id": "HIpcfl-65e0Y"
      },
      "source": [
        "We can use this technique to quickly and easily filter our data set using an if statement. Let's look at how we could use this to quickly count the number of stories that have comments. We'll start with a version using a loop:"
      ]
    },
    {
      "cell_type": "code",
      "metadata": {
        "colab": {
          "base_uri": "https://localhost:8080/"
        },
        "id": "wKWB89CK5lKk",
        "outputId": "3e6e5a7a-c139-49a7-af77-41df96969333"
      },
      "source": [
        "has_comments = []\n",
        "\n",
        "for d in hn_clean:\n",
        "    if d['numComments'] > 0:\n",
        "        has_comments.append(d)\n",
        "\n",
        "num_comments = len(has_comments)\n",
        "print(num_comments)"
      ],
      "execution_count": null,
      "outputs": [
        {
          "output_type": "stream",
          "text": [
            "9279\n"
          ],
          "name": "stdout"
        }
      ]
    },
    {
      "cell_type": "markdown",
      "metadata": {
        "id": "lzgINB3POFW-"
      },
      "source": [
        "Now, let's use a list comprehension to perform the same calculation:"
      ]
    },
    {
      "cell_type": "code",
      "metadata": {
        "colab": {
          "base_uri": "https://localhost:8080/"
        },
        "id": "QAtvx2ozOGgO",
        "outputId": "d5bdd7ca-f064-4905-c74b-48b4f6b2199e"
      },
      "source": [
        "has_comments = [d for d in hn_clean if d['numComments'] > 0]\n",
        "\n",
        "num_comments = len(has_comments)\n",
        "print(num_comments)"
      ],
      "execution_count": null,
      "outputs": [
        {
          "output_type": "stream",
          "text": [
            "9279\n"
          ],
          "name": "stdout"
        }
      ]
    },
    {
      "cell_type": "markdown",
      "metadata": {
        "id": "JaN--O1SOgXy"
      },
      "source": [
        "Let's use list comprehension to count how many stories have more than 1,000 points."
      ]
    },
    {
      "cell_type": "markdown",
      "metadata": {
        "id": "x9JTAjoCOiKU"
      },
      "source": [
        "**Instructions:**\n",
        "\n",
        "1. Use list comprehension to create a new list, `thousand_points`:\n",
        " - The list should contain values from `hn_clean` where the `points` key has a value greater than 1000.\n",
        "2. Count the number of values in `thousand_points` and assign the result to `num_thousand_points`."
      ]
    },
    {
      "cell_type": "code",
      "metadata": {
        "id": "d9Jwt5EvPZDU"
      },
      "source": [
        ""
      ],
      "execution_count": null,
      "outputs": []
    },
    {
      "cell_type": "markdown",
      "metadata": {
        "id": "v9jQLqKlTxYJ"
      },
      "source": [
        "## 7. Passing Functions as Arguments"
      ]
    },
    {
      "cell_type": "markdown",
      "metadata": {
        "id": "ArL1A7rVTxbe"
      },
      "source": [
        "In previous missions, we learned to use Python's built-in functions to analyze data in lists, like `min()`, `max()`, and `sorted()`.\n",
        "\n",
        "What if we wanted to use these functions to work with data in JSON form? Let's use our demo JSON object to try and see what happens. First, we'll quickly remind ourselves of the data:"
      ]
    },
    {
      "cell_type": "code",
      "metadata": {
        "colab": {
          "base_uri": "https://localhost:8080/"
        },
        "id": "BcTAKDcpPi62",
        "outputId": "54edac35-9a75-4d28-fb65-d96840b63f06"
      },
      "source": [
        "jprint(json_obj)"
      ],
      "execution_count": null,
      "outputs": [
        {
          "output_type": "stream",
          "text": [
            "[\n",
            "    {\n",
            "        \"age\": 36,\n",
            "        \"favorite_foods\": [\n",
            "            \"Pumpkin\",\n",
            "            \"Oatmeal\"\n",
            "        ],\n",
            "        \"name\": \"Sabine\"\n",
            "    },\n",
            "    {\n",
            "        \"age\": 40,\n",
            "        \"favorite_foods\": [\n",
            "            \"Chicken\",\n",
            "            \"Pizza\",\n",
            "            \"Chocolate\"\n",
            "        ],\n",
            "        \"name\": \"Zoe\"\n",
            "    },\n",
            "    {\n",
            "        \"age\": 40,\n",
            "        \"favorite_foods\": [\n",
            "            \"Caesar Salad\"\n",
            "        ],\n",
            "        \"name\": \"Heidi\"\n",
            "    }\n",
            "]\n"
          ],
          "name": "stdout"
        }
      ]
    },
    {
      "cell_type": "markdown",
      "metadata": {
        "id": "Agt_ly4WPsTg"
      },
      "source": [
        "Let's try and use Python to return the dictionary of the person with the lowest age:"
      ]
    },
    {
      "cell_type": "code",
      "metadata": {
        "colab": {
          "base_uri": "https://localhost:8080/",
          "height": 165
        },
        "id": "Ukfu5DTuPtOv",
        "outputId": "2df10a6a-58ef-4d17-a58d-876cec87ecf4"
      },
      "source": [
        "min(json_obj)"
      ],
      "execution_count": null,
      "outputs": [
        {
          "output_type": "error",
          "ename": "TypeError",
          "evalue": "ignored",
          "traceback": [
            "\u001b[0;31m---------------------------------------------------------------------------\u001b[0m",
            "\u001b[0;31mTypeError\u001b[0m                                 Traceback (most recent call last)",
            "\u001b[0;32m<ipython-input-24-60cd4510e136>\u001b[0m in \u001b[0;36m<module>\u001b[0;34m()\u001b[0m\n\u001b[0;32m----> 1\u001b[0;31m \u001b[0mmin\u001b[0m\u001b[0;34m(\u001b[0m\u001b[0mjson_obj\u001b[0m\u001b[0;34m)\u001b[0m\u001b[0;34m\u001b[0m\u001b[0;34m\u001b[0m\u001b[0m\n\u001b[0m",
            "\u001b[0;31mTypeError\u001b[0m: '<' not supported between instances of 'dict' and 'dict'"
          ]
        }
      ]
    },
    {
      "cell_type": "markdown",
      "metadata": {
        "id": "epK3MaQrPwvF"
      },
      "source": [
        "We get an error because Python doesn't have any way to tell whether one dictionary object is \"greater\" than another.\n",
        "\n",
        "There is a way we can actually tell functions like `min()`, `max()`, and `sorted()` how to sort complex objects like dictionaries and lists of lists. We do this by using the optional `key` argument. The official Python documentation contains the following excerpts that describe how the argument works:"
      ]
    },
    {
      "cell_type": "markdown",
      "metadata": {
        "id": "rJerzdbyQ68N"
      },
      "source": [
        "\n",
        "> \"The `key` argument specifies a one-argument ordering function like that used for `list.sort()`. `key` specifies a function of one argument that is used to extract a comparison key from each list element. The key corresponding to each item in the list is calculated once and then used for the entire sorting process.\""
      ]
    },
    {
      "cell_type": "markdown",
      "metadata": {
        "id": "KhQByXjYRWq6"
      },
      "source": [
        "These excerpts tell us we need to specify a function as an argument to control the comparison between values. Up until now, we've only passed variables or values as arguments, but not functions!"
      ]
    },
    {
      "cell_type": "markdown",
      "metadata": {
        "id": "A-U-twcvRaYv"
      },
      "source": [
        "We'll learn the specifics of this particular application in a moment, but for now, we're going to explore how to pass a function as an argument.\n",
        "\n",
        "Let's define a very simple function as an example:"
      ]
    },
    {
      "cell_type": "code",
      "metadata": {
        "colab": {
          "base_uri": "https://localhost:8080/",
          "height": 35
        },
        "id": "nzgj8UOVRcmk",
        "outputId": "f5c8bd9b-d27a-419a-d9fe-36cdee8e7eec"
      },
      "source": [
        "def greet():\n",
        "    return \"hello\"\n",
        "\n",
        "greet()"
      ],
      "execution_count": null,
      "outputs": [
        {
          "output_type": "execute_result",
          "data": {
            "application/vnd.google.colaboratory.intrinsic+json": {
              "type": "string"
            },
            "text/plain": [
              "'hello'"
            ]
          },
          "metadata": {
            "tags": []
          },
          "execution_count": 26
        }
      ]
    },
    {
      "cell_type": "markdown",
      "metadata": {
        "id": "vkEXc0tuRb6J"
      },
      "source": [
        "If we try to examine the type of our function, we are unsuccessful:"
      ]
    },
    {
      "cell_type": "code",
      "metadata": {
        "id": "epY4E-6iRiq4",
        "colab": {
          "base_uri": "https://localhost:8080/"
        },
        "outputId": "b80a79f7-f572-4440-962c-430035c0522b"
      },
      "source": [
        "t = type(greet())\n",
        "print(t)"
      ],
      "execution_count": null,
      "outputs": [
        {
          "output_type": "stream",
          "text": [
            "<class 'str'>\n"
          ],
          "name": "stdout"
        }
      ]
    },
    {
      "cell_type": "markdown",
      "metadata": {
        "id": "M1ET_NhaRm4u"
      },
      "source": [
        "What happens is that `greet()` is executed first; it returns the string `\"hello\"`, and then the `type()` function tells us the type of that string:\n",
        "\n",
        "![img](https://s3.amazonaws.com/dq-content/355/type_of_func_1.svg)"
      ]
    },
    {
      "cell_type": "markdown",
      "metadata": {
        "id": "b2T-s2foXfTE"
      },
      "source": [
        "We need to find a way to look at the function itself, rather than the result of the function. The key to this is the parentheses: `()`.\n",
        "\n",
        "The parentheses are what tells Python to execute the function, so if we **omit the parentheses we can treat a function like a variable**, rather than working with the output of the function:"
      ]
    },
    {
      "cell_type": "code",
      "metadata": {
        "colab": {
          "base_uri": "https://localhost:8080/"
        },
        "id": "sKxBaHAQXzx9",
        "outputId": "c9c16436-0a20-4d5a-8c49-95bfff808f86"
      },
      "source": [
        "t = type(greet)\n",
        "print(t)"
      ],
      "execution_count": null,
      "outputs": [
        {
          "output_type": "stream",
          "text": [
            "<class 'function'>\n"
          ],
          "name": "stdout"
        }
      ]
    },
    {
      "cell_type": "markdown",
      "metadata": {
        "id": "pAXz41uoX4Es"
      },
      "source": [
        "There are other variable-like behaviors we can also use when we omit the parentheses from a function. For instance, we can assign a function to a new variable name:\n",
        "\n"
      ]
    },
    {
      "cell_type": "code",
      "metadata": {
        "colab": {
          "base_uri": "https://localhost:8080/",
          "height": 35
        },
        "id": "3jcrGAJBX5DJ",
        "outputId": "b7355e92-79a9-443e-d71d-952bd68a71ac"
      },
      "source": [
        "greet_2 = greet\n",
        "\n",
        "greet_2()"
      ],
      "execution_count": null,
      "outputs": [
        {
          "output_type": "execute_result",
          "data": {
            "application/vnd.google.colaboratory.intrinsic+json": {
              "type": "string"
            },
            "text/plain": [
              "'hello'"
            ]
          },
          "metadata": {
            "tags": []
          },
          "execution_count": 29
        }
      ]
    },
    {
      "cell_type": "markdown",
      "metadata": {
        "id": "3n9CS_3jYBJT"
      },
      "source": [
        "Now that we understand how to treat a function as variable, let's look at how we can run a function inside another function by passing it as an argument:"
      ]
    },
    {
      "cell_type": "code",
      "metadata": {
        "id": "r_4s3qurYB7c",
        "colab": {
          "base_uri": "https://localhost:8080/",
          "height": 53
        },
        "outputId": "2e5328da-6a29-4823-a4a6-d2009b5b86c6"
      },
      "source": [
        "def run_func(func):\n",
        "    print(\"RUNNING FUNCTION: {}\".format(func))\n",
        "    return func()\n",
        "\n",
        "run_func(greet)"
      ],
      "execution_count": null,
      "outputs": [
        {
          "output_type": "stream",
          "text": [
            "RUNNING FUNCTION: <function greet at 0x7f06c1b03bf8>\n"
          ],
          "name": "stdout"
        },
        {
          "output_type": "execute_result",
          "data": {
            "application/vnd.google.colaboratory.intrinsic+json": {
              "type": "string"
            },
            "text/plain": [
              "'hello'"
            ]
          },
          "metadata": {
            "tags": []
          },
          "execution_count": 30
        }
      ]
    },
    {
      "cell_type": "markdown",
      "metadata": {
        "id": "YNksCaAcqwq6"
      },
      "source": [
        "![img](https://s3.amazonaws.com/dq-content/355/func_as_arg.svg)\n",
        "Now that we have some intuition on how to pass functions as arguments, let's see how we use a function to control the behavior of the `sorted()` function:\n",
        "![img](https://s3.amazonaws.com/dq-content/355/sorted_key.svg)\n",
        "\n",
        "Let's look at the same thing in code form:\n"
      ]
    },
    {
      "cell_type": "code",
      "metadata": {
        "id": "kD9AXYmerB4M"
      },
      "source": [
        ""
      ],
      "execution_count": null,
      "outputs": []
    },
    {
      "cell_type": "markdown",
      "metadata": {
        "id": "vslPY9Dfq-Fn"
      },
      "source": [
        ""
      ]
    },
    {
      "cell_type": "markdown",
      "metadata": {
        "id": "Opy4pKDxTxeY"
      },
      "source": [
        "## 8. Lambda Functions"
      ]
    },
    {
      "cell_type": "markdown",
      "metadata": {
        "id": "eS7qwfPjTxiS"
      },
      "source": [
        ""
      ]
    },
    {
      "cell_type": "markdown",
      "metadata": {
        "id": "uYZ9lx0mTxlq"
      },
      "source": [
        "## 9. Using Lambda Functions to Analyze JSON data"
      ]
    },
    {
      "cell_type": "markdown",
      "metadata": {
        "id": "yie3KLnXTxpA"
      },
      "source": [
        ""
      ]
    },
    {
      "cell_type": "markdown",
      "metadata": {
        "id": "1i3_IxU-TxsP"
      },
      "source": [
        "## 10. Reading JSON files into pandas"
      ]
    },
    {
      "cell_type": "markdown",
      "metadata": {
        "id": "hSaTu5KkTxvv"
      },
      "source": [
        ""
      ]
    },
    {
      "cell_type": "markdown",
      "metadata": {
        "id": "spt9MKRTTxzG"
      },
      "source": [
        "## 11. Exploring Tags Using the Apply Function"
      ]
    },
    {
      "cell_type": "markdown",
      "metadata": {
        "id": "UpkA4xIOTx2B"
      },
      "source": [
        ""
      ]
    },
    {
      "cell_type": "markdown",
      "metadata": {
        "id": "iVIx8gfrTx53"
      },
      "source": [
        "## 12. Extracting Tags Using Apply with a Lambda Function"
      ]
    },
    {
      "cell_type": "markdown",
      "metadata": {
        "id": "2aFTLOyVjN_6"
      },
      "source": [
        ""
      ]
    },
    {
      "cell_type": "markdown",
      "metadata": {
        "id": "yvUZ0RMQjOMB"
      },
      "source": [
        ""
      ]
    },
    {
      "cell_type": "markdown",
      "metadata": {
        "id": "jNbrSnc6jOZM"
      },
      "source": [
        ""
      ]
    }
  ]
}