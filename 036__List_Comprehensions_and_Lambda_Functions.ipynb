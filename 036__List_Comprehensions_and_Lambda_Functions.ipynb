{
  "nbformat": 4,
  "nbformat_minor": 0,
  "metadata": {
    "colab": {
      "name": "036__List_Comprehensions_and_Lambda_Functions.ipynb",
      "provenance": [],
      "authorship_tag": "ABX9TyOKvKaonwy8rgKUOXWCj1Hi",
      "include_colab_link": true
    },
    "kernelspec": {
      "name": "python3",
      "display_name": "Python 3"
    }
  },
  "cells": [
    {
      "cell_type": "markdown",
      "metadata": {
        "id": "view-in-github",
        "colab_type": "text"
      },
      "source": [
        "<a href=\"https://colab.research.google.com/github/Rossel/DataQuest_Courses/blob/master/036__List_Comprehensions_and_Lambda_Functions.ipynb\" target=\"_parent\"><img src=\"https://colab.research.google.com/assets/colab-badge.svg\" alt=\"Open In Colab\"/></a>"
      ]
    },
    {
      "cell_type": "markdown",
      "metadata": {
        "id": "6PWQ-EVGT2s_"
      },
      "source": [
        "# COURSE 5/6: DATA CLEANING IN PYTHON: ADVANCED"
      ]
    },
    {
      "cell_type": "markdown",
      "metadata": {
        "id": "THaX315BT2wD"
      },
      "source": [
        "# MISSION 3: List Comprehensions and Lambda Functions"
      ]
    },
    {
      "cell_type": "markdown",
      "metadata": {
        "id": "YxK6_yCfTJak"
      },
      "source": [
        "Learn techniques to turbo-charge working with data in Python"
      ]
    },
    {
      "cell_type": "markdown",
      "metadata": {
        "id": "nfk12M-4TwZU"
      },
      "source": [
        "## 1. The JSON Format"
      ]
    },
    {
      "cell_type": "markdown",
      "metadata": {
        "id": "S1EKg_6cTwuj"
      },
      "source": [
        "So far, we've learned how to use regular expressions to make cleaning and analyzing text data easier.\n",
        "\n",
        "In this mission, we'll learn some tips and syntax shortcuts we can use on top of everything we've learned, including:\n",
        "\n",
        "- Creating list comprehensions to replace loops with a single line of code.\n",
        "- Creating single use functions called lambda functions.\n",
        "\n",
        "The data set we'll use in this mission is in a format called [JavaScript Object Notation](https://www.json.org/) (JSON). As the name indicates, JSON originated from the JavaScript language, but has now become a language-independent format.\n",
        "\n",
        "From a Python perspective, JSON can be thought as a collection of Python objects nested inside each other.\n",
        "\n",
        "![img](https://s3.amazonaws.com/dq-content/355/json.svg)"
      ]
    },
    {
      "cell_type": "markdown",
      "metadata": {
        "id": "jGbUCUHMW71T"
      },
      "source": [
        "The JSON above is a list, where each element in the list is a dictionary. Each of the dictionaries have the same keys, and one of the values of each dictionary is itself a list.\n",
        "\n",
        "The Python `json` [module](https://docs.python.org/3.7/library/json.html#module-json) contains a number of functions to make working with JSON objects easier. We can use the `json.loads()` [method](https://docs.python.org/3.7/library/json.html#json.loads) to convert JSON data contained in a string to the equivalent set of Python objects:"
      ]
    },
    {
      "cell_type": "code",
      "metadata": {
        "colab": {
          "base_uri": "https://localhost:8080/"
        },
        "id": "IaMyYHmhXY6f",
        "outputId": "91c39356-bceb-483c-b3fa-ed29f9afffd9"
      },
      "source": [
        "json_string = \"\"\"\n",
        "[\n",
        "  {\n",
        "    \"name\": \"Sabine\",\n",
        "    \"age\": 36,\n",
        "    \"favorite_foods\": [\"Pumpkin\", \"Oatmeal\"]\n",
        "  },\n",
        "  {\n",
        "    \"name\": \"Zoe\",\n",
        "    \"age\": 40,\n",
        "    \"favorite_foods\": [\"Chicken\", \"Pizza\", \"Chocolate\"]\n",
        "  },\n",
        "  {\n",
        "    \"name\": \"Heidi\",\n",
        "    \"age\": 40,\n",
        "    \"favorite_foods\": [\"Caesar Salad\"]\n",
        "  }\n",
        "]\n",
        "\"\"\"\n",
        "\n",
        "import json\n",
        "json_obj = json.loads(json_string)\n",
        "print(type(json_obj))"
      ],
      "execution_count": null,
      "outputs": [
        {
          "output_type": "stream",
          "text": [
            "<class 'list'>\n"
          ],
          "name": "stdout"
        }
      ]
    },
    {
      "cell_type": "markdown",
      "metadata": {
        "id": "ORdvjlI8Xifa"
      },
      "source": [
        "We can see that `json_string` has turned into a list. Let's take a look at the values in the list:\n",
        "\n"
      ]
    },
    {
      "cell_type": "code",
      "metadata": {
        "colab": {
          "base_uri": "https://localhost:8080/"
        },
        "id": "Gnb2SVEoXlKH",
        "outputId": "97f4767a-c023-4bf6-f738-ed17afce9412"
      },
      "source": [
        "print(json_obj)"
      ],
      "execution_count": null,
      "outputs": [
        {
          "output_type": "stream",
          "text": [
            "[{'name': 'Sabine', 'age': 36, 'favorite_foods': ['Pumpkin', 'Oatmeal']}, {'name': 'Zoe', 'age': 40, 'favorite_foods': ['Chicken', 'Pizza', 'Chocolate']}, {'name': 'Heidi', 'age': 40, 'favorite_foods': ['Caesar Salad']}]\n"
          ],
          "name": "stdout"
        }
      ]
    },
    {
      "cell_type": "markdown",
      "metadata": {
        "id": "VoH0n-pJXqRQ"
      },
      "source": [
        "We can observe a few things:\n",
        "\n",
        "- The formatting from our original string is gone. This is because printing Python lists and dictionaries has a simple formatting structure.\n",
        "- The order of the keys in the dictionary have changed. This is because (prior to version 3.6) Python dictionaries don't have fixed order.\n",
        "\n",
        "Let's practice using `json.loads()` to convert JSON data from a string to Python objects!\n",
        "\n"
      ]
    },
    {
      "cell_type": "markdown",
      "metadata": {
        "id": "VnGl6VCaXu77"
      },
      "source": [
        "**Instructions:**\n",
        "\n",
        "We have created a JSON string, `world_cup_str`, which contains data about games from the 2018 Football World Cup.\n",
        "\n",
        "1. Import the `json` module.\n",
        "2. Use `json.loads()` to convert `world_cup_str` to a Python object. Assign the result to world_cup_obj."
      ]
    },
    {
      "cell_type": "code",
      "metadata": {
        "id": "7zbhVrbR2n44"
      },
      "source": [
        "# Code to read csv file into Colaboratory:\n",
        "!pip install -U -q PyDrive\n",
        "from pydrive.auth import GoogleAuth\n",
        "from pydrive.drive import GoogleDrive\n",
        "from google.colab import auth\n",
        "from oauth2client.client import GoogleCredentials\n",
        "# Authenticate and create the PyDrive client.\n",
        "auth.authenticate_user()\n",
        "gauth = GoogleAuth()\n",
        "gauth.credentials = GoogleCredentials.get_application_default()\n",
        "drive = GoogleDrive(gauth)"
      ],
      "execution_count": null,
      "outputs": []
    },
    {
      "cell_type": "code",
      "metadata": {
        "id": "mQVsg_sh2o4j"
      },
      "source": [
        "# Once you have completed verification, go to the CSV file in Google Drive, right-click on it and select “Get shareable link”, and cut out the unique id in the link.\n",
        "# https://drive.google.com/file/d/1J3gYozddULmvWfprsTXK9Ga3V74UpaJe/view?usp=sharing\n",
        "id = \"1J3gYozddULmvWfprsTXK9Ga3V74UpaJe\""
      ],
      "execution_count": null,
      "outputs": []
    },
    {
      "cell_type": "code",
      "metadata": {
        "id": "qgFvCD-32wdh"
      },
      "source": [
        "# Download the dataset\n",
        "downloaded = drive.CreateFile({'id':id}) \n",
        "downloaded.GetContentFile('hn_2014.json')"
      ],
      "execution_count": null,
      "outputs": []
    },
    {
      "cell_type": "code",
      "metadata": {
        "id": "k2EgcIL40Wx-"
      },
      "source": [
        "# Provided code for exercise\n",
        "world_cup_str = \"\"\"\n",
        "[\n",
        "    {\n",
        "        \"team_1\": \"France\",\n",
        "        \"team_2\": \"Croatia\",\n",
        "        \"game_type\": \"Final\",\n",
        "        \"score\" : [4, 2]\n",
        "    },\n",
        "    {\n",
        "        \"team_1\": \"Belgium\",\n",
        "        \"team_2\": \"England\",\n",
        "        \"game_type\": \"3rd/4th Playoff\",\n",
        "        \"score\" : [2, 0]\n",
        "    }\n",
        "]\n",
        "\"\"\""
      ],
      "execution_count": null,
      "outputs": []
    },
    {
      "cell_type": "code",
      "metadata": {
        "id": "iYz3up2swAU7"
      },
      "source": [
        "# Answer\n",
        "\n",
        "\"\"\"\n",
        "import json\n",
        "world_cup_obj = json.loads(world_cup_str)"
      ],
      "execution_count": null,
      "outputs": []
    },
    {
      "cell_type": "markdown",
      "metadata": {
        "id": "xJ8x3VsFTwyw"
      },
      "source": [
        "## 2. Reading a JSON file"
      ]
    },
    {
      "cell_type": "markdown",
      "metadata": {
        "id": "J1rmPpKITw17"
      },
      "source": [
        "One of the places where the JSON format is commonly used is in the results returned by an [Application programming interface](https://en.wikipedia.org/wiki/Application_programming_interface) (**API**). APIs are interfaces that can be used to send and transmit data between different computer systems. We'll learn about how to work with APIs in a later course."
      ]
    },
    {
      "cell_type": "markdown",
      "metadata": {
        "id": "zPGYt9e-0hST"
      },
      "source": [
        "The data set from this mission — `hn_2014.json` — was downloaded from the Hacker News API. It's a different set of data from the CSV we've been using in the previous two missions, and it contains data about stories from Hacker News in 2014."
      ]
    },
    {
      "cell_type": "markdown",
      "metadata": {
        "id": "Of0SO5Dj00FV"
      },
      "source": [
        "To read a file from JSON format, we use the `json.load()` [function](https://docs.python.org/3.7/library/json.html#json.load). Note that the function is `json.load()` without an \"s\" at the end. The `json.loads()` function is used for loading JSON data from a string (\"loads\" is short for \"load string\"), whereas the `json.load()` function is used to load from a file object. Let's look at how we would read that in our data:\n",
        "\n"
      ]
    },
    {
      "cell_type": "code",
      "metadata": {
        "colab": {
          "base_uri": "https://localhost:8080/"
        },
        "id": "-u5tJgpT089S",
        "outputId": "19814d2d-3ae1-4299-808c-5fb01268697c"
      },
      "source": [
        "import json\n",
        "file = open(\"hn_2014.json\")\n",
        "hn = json.load(file)\n",
        "\n",
        "print(type(hn))"
      ],
      "execution_count": null,
      "outputs": [
        {
          "output_type": "stream",
          "text": [
            "<class 'list'>\n"
          ],
          "name": "stdout"
        }
      ]
    },
    {
      "cell_type": "markdown",
      "metadata": {
        "id": "p0WzSS3uRRjq"
      },
      "source": [
        "Our `hn` variable is a list. Let's find out how many objects are in the list, and the type of the first object (which will almost always be the type of every object in the list in JSON data):"
      ]
    },
    {
      "cell_type": "code",
      "metadata": {
        "colab": {
          "base_uri": "https://localhost:8080/"
        },
        "id": "rFlrxPL6RWML",
        "outputId": "3e4798c5-a4ec-4dd9-a5e1-45916ce791f1"
      },
      "source": [
        "print(len(hn))\n",
        "print(type(hn[0]))"
      ],
      "execution_count": null,
      "outputs": [
        {
          "output_type": "stream",
          "text": [
            "35806\n",
            "<class 'dict'>\n"
          ],
          "name": "stdout"
        }
      ]
    },
    {
      "cell_type": "markdown",
      "metadata": {
        "id": "haXNrIDgRnio"
      },
      "source": [
        "Our data set contains 35,806 dictionary objects, each representing a Hacker News story. In order to understand the format of our data set, we'll print the keys of the first dictionary:"
      ]
    },
    {
      "cell_type": "code",
      "metadata": {
        "colab": {
          "base_uri": "https://localhost:8080/"
        },
        "id": "bq_SJDZ7RqBc",
        "outputId": "4f29e1c4-1e52-4dea-f43c-50bd99f11319"
      },
      "source": [
        "print(hn[0].keys())"
      ],
      "execution_count": null,
      "outputs": [
        {
          "output_type": "stream",
          "text": [
            "dict_keys(['author', 'numComments', 'points', 'url', 'storyText', 'createdAt', 'tags', 'createdAtI', 'title', 'objectId'])\n"
          ],
          "name": "stdout"
        }
      ]
    },
    {
      "cell_type": "markdown",
      "metadata": {
        "id": "P0LUAcwtRpiz"
      },
      "source": [
        "If we recall the data set we used in the previous two missions, we can see some similarities. There are keys representing the title, URL, points, number of comments, and date, as well as some others that are less familiar to us. Here is a summary of the keys and the data that they contain:\n",
        "\n",
        "- `author`: The username of the person who submitted the story.\n",
        "- `createdAt`: The date and time at which the story was created.\n",
        "- `createdAtI`: An integer value representing the date and time at which the story was created.\n",
        "- `numComments`: The number of comments that were made on the story.\n",
        "- `objectId`: The unique identifier from Hacker News for the story.\n",
        "- `points`: The number of points the story acquired, calculated as the total number of upvotes minus the total number of downvotes.\n",
        "- `storyText`: The text of the story (if the story contains text).\n",
        "- `tags`: A list of tags associated with the story.\n",
        "- `title`: The title of the story.\n",
        "- `url`: The URL that the story links to (if the story links to a URL).\n",
        "\n",
        "Let's start by reading our Hacker News JSON file:\n",
        "\n"
      ]
    },
    {
      "cell_type": "markdown",
      "metadata": {
        "id": "YqU1Vrd8SJYj"
      },
      "source": [
        "**Instructions:**\n",
        "\n",
        "The json module remains imported from the previous screen.\n",
        "\n",
        "1. Use the `open()` [function](https://docs.python.org/3.7/library/functions.html#open) to open the `hn_2014.json` file as a file object.\n",
        "2. Use the `json.load()` function to parse the file object and assign the result to `hn`."
      ]
    },
    {
      "cell_type": "code",
      "metadata": {
        "id": "1mktA-N_nM8a"
      },
      "source": [
        "# Solution\n",
        "\n",
        "file = open(\"hn_2014.json\")\n",
        "hn = json.load(file)"
      ],
      "execution_count": null,
      "outputs": []
    },
    {
      "cell_type": "markdown",
      "metadata": {
        "id": "ot9J9gZWTw82"
      },
      "source": [
        "## 3. Deleting Dictionary Keys"
      ]
    },
    {
      "cell_type": "markdown",
      "metadata": {
        "id": "0YD_LUTGnNfs"
      },
      "source": [
        "Let's look at the first dictionary in full. To make it easier to understand, we're going to create a function which will print a JSON object with formatting to make it easier to read.\n",
        "\n",
        "The function will use the `json.dumps()` [function](https://docs.python.org/3.7/library/json.html#json.dumps) (\"dump string\") which does the opposite of the `json.loads()` function — it takes a JSON object and returns a string version of it. The `json.dumps()` function accepts arguments that can specify formatting for the string, which we'll use to make things easier to read:\n",
        "\n"
      ]
    },
    {
      "cell_type": "code",
      "metadata": {
        "colab": {
          "base_uri": "https://localhost:8080/"
        },
        "id": "ekkwootqnZvm",
        "outputId": "27870e83-ef6d-48c5-9c94-d8bdb5f644f4"
      },
      "source": [
        "def jprint(obj):\n",
        "    # create a formatted string of the Python JSON object\n",
        "    text = json.dumps(obj, sort_keys=True, indent=4)\n",
        "    print(text)\n",
        "\n",
        "first_story = hn[0]\n",
        "jprint(first_story)"
      ],
      "execution_count": null,
      "outputs": [
        {
          "output_type": "stream",
          "text": [
            "{\n",
            "    \"author\": \"dragongraphics\",\n",
            "    \"createdAt\": \"2014-05-29T08:07:50Z\",\n",
            "    \"createdAtI\": 1401350870,\n",
            "    \"numComments\": 0,\n",
            "    \"objectId\": \"7815238\",\n",
            "    \"points\": 2,\n",
            "    \"storyText\": \"\",\n",
            "    \"tags\": [\n",
            "        \"story\",\n",
            "        \"author_dragongraphics\",\n",
            "        \"story_7815238\"\n",
            "    ],\n",
            "    \"title\": \"Are we getting too Sassy? Weighing up micro-optimisation vs. maintainability\",\n",
            "    \"url\": \"http://ashleynolan.co.uk/blog/are-we-getting-too-sassy\"\n",
            "}\n"
          ],
          "name": "stdout"
        }
      ]
    },
    {
      "cell_type": "markdown",
      "metadata": {
        "id": "s4jePb1Pqm3q"
      },
      "source": [
        "You may notice that the `createdAt` and `createdAtI` keys both have the date and time data in two different formats. Because the format of `createdAt` is much easier to understand, let's do some data cleaning by deleting the `createdAtI` key from every dictionary.\n",
        "\n",
        "To delete a key from a dictionary, we can use the `del` [statement](https://docs.python.org/3.7/reference/simple_stmts.html#del). Let's learn the syntax by looking at a simple example:"
      ]
    },
    {
      "cell_type": "code",
      "metadata": {
        "colab": {
          "base_uri": "https://localhost:8080/"
        },
        "id": "yINCl0ksqxvY",
        "outputId": "1126b405-3ca2-49f8-d354-9c5dbcfb5002"
      },
      "source": [
        "d = {'a': 1, 'b': 2, 'c': 3}\n",
        "del d['a']\n",
        "print(d)"
      ],
      "execution_count": null,
      "outputs": [
        {
          "output_type": "stream",
          "text": [
            "{'b': 2, 'c': 3}\n"
          ],
          "name": "stdout"
        }
      ]
    },
    {
      "cell_type": "markdown",
      "metadata": {
        "id": "e4xRiaYqq3tP"
      },
      "source": [
        "We can create a function using `del` that will return a copy of our dictionary with the key removed:"
      ]
    },
    {
      "cell_type": "code",
      "metadata": {
        "id": "MLw9yj9sq6mQ"
      },
      "source": [
        "def del_key(dict_, key):\n",
        "    # create a copy so we don't\n",
        "    # modify the original dict\n",
        "    modified_dict = dict_.copy()\n",
        "    del modified_dict[key]\n",
        "    return modified_dict"
      ],
      "execution_count": null,
      "outputs": []
    },
    {
      "cell_type": "markdown",
      "metadata": {
        "id": "2C_smGbEq_J7"
      },
      "source": [
        "Let's use this function to delete the `createdAtI` key from first_story:"
      ]
    },
    {
      "cell_type": "code",
      "metadata": {
        "colab": {
          "base_uri": "https://localhost:8080/"
        },
        "id": "8gcXhgVPrAxd",
        "outputId": "d0487980-6c15-4e96-8710-cfb195bb3018"
      },
      "source": [
        "first_story = del_key(first_story, 'createdAtI')\n",
        "jprint(first_story)"
      ],
      "execution_count": null,
      "outputs": [
        {
          "output_type": "stream",
          "text": [
            "{\n",
            "    \"author\": \"dragongraphics\",\n",
            "    \"createdAt\": \"2014-05-29T08:07:50Z\",\n",
            "    \"numComments\": 0,\n",
            "    \"objectId\": \"7815238\",\n",
            "    \"points\": 2,\n",
            "    \"storyText\": \"\",\n",
            "    \"tags\": [\n",
            "        \"story\",\n",
            "        \"author_dragongraphics\",\n",
            "        \"story_7815238\"\n",
            "    ],\n",
            "    \"title\": \"Are we getting too Sassy? Weighing up micro-optimisation vs. maintainability\",\n",
            "    \"url\": \"http://ashleynolan.co.uk/blog/are-we-getting-too-sassy\"\n",
            "}\n"
          ],
          "name": "stdout"
        }
      ]
    },
    {
      "cell_type": "markdown",
      "metadata": {
        "id": "HxLILD_mrD4l"
      },
      "source": [
        "The dictionary returned by the function no longer includes the `createdAtI` key.\n",
        "\n",
        "Let's use a loop and the `del_key()` function to remove the `createdAtI` key from every story in our Hacker News data set"
      ]
    },
    {
      "cell_type": "markdown",
      "metadata": {
        "id": "S_Ti1ZMNncJV"
      },
      "source": [
        "**Instructions:**\n",
        "\n",
        "We have provided the code for the `del_key()` function.\n",
        "\n",
        "1. Create an empty list, `hn_clean` to store the cleaned data set.\n",
        "2. Loop over the dictionaries in the `hn` list. In each iteration:\n",
        " - Use the `del_key()` function to delete the `createdAtI` key from the dictionary.\n",
        " - Append the cleaned dictionary to `hn_clean`."
      ]
    },
    {
      "cell_type": "code",
      "metadata": {
        "id": "nY3nta3CSdrm"
      },
      "source": [
        "# Answer so the next code works\n",
        "\n",
        "def del_key(dict_, key):\n",
        "    # create a copy so we don't\n",
        "    # modify the original dict\n",
        "    modified_dict = dict_.copy()\n",
        "    del modified_dict[key]\n",
        "    return modified_dict\n",
        "hn_clean = []\n",
        "\n",
        "for d in hn:\n",
        "    new_d = del_key(d, 'createdAtI')\n",
        "    hn_clean.append(new_d)"
      ],
      "execution_count": null,
      "outputs": []
    },
    {
      "cell_type": "markdown",
      "metadata": {
        "id": "Ls6_17KFnHGG"
      },
      "source": [
        "## 4. Writing List Comprehensions"
      ]
    },
    {
      "cell_type": "markdown",
      "metadata": {
        "id": "tfmXU6cZTxAL"
      },
      "source": [
        "Here is the solution code from the previous screen:"
      ]
    },
    {
      "cell_type": "code",
      "metadata": {
        "id": "vBpIZP8iX4Ac"
      },
      "source": [
        "hn_clean = []\n",
        "\n",
        "for d in hn:\n",
        "    new_d = del_key(d, 'createdAtI')\n",
        "    hn_clean.append(new_d)"
      ],
      "execution_count": null,
      "outputs": []
    },
    {
      "cell_type": "markdown",
      "metadata": {
        "id": "QuGDU0-jYf1W"
      },
      "source": [
        "The task we performed is an extremely common one. Specifically, we:\n",
        "\n",
        "- Iterated over values in a list.\n",
        "- Performed a transformation on those values.\n",
        "- Assigned the result to a new list.\n",
        "\n",
        "Python includes a special syntax shortcut for tasks that meet these criteria: **List Comprehensions**. A list comprehension provides a concise way of creating lists in a single line of code.\n",
        "\n"
      ]
    },
    {
      "cell_type": "markdown",
      "metadata": {
        "id": "hJl3vMgQYlN2"
      },
      "source": [
        "List comprehensions can look complex at first, but we are simply reordering the elements of our for loop code. To keep things simple, we'll start with a basic example, where we want to add 1 to each item in a list of integers."
      ]
    },
    {
      "cell_type": "code",
      "metadata": {
        "colab": {
          "base_uri": "https://localhost:8080/"
        },
        "id": "eZn51F27YpmH",
        "outputId": "ce5aebd3-3ff0-41c1-96d5-d126987ec8c4"
      },
      "source": [
        "ints = [1, 2, 3, 4]\n",
        "\n",
        "plus_one = []\n",
        "for i in ints:\n",
        "    plus_one.append(i + 1)\n",
        "\n",
        "print(plus_one)"
      ],
      "execution_count": null,
      "outputs": [
        {
          "output_type": "stream",
          "text": [
            "[2, 3, 4, 5]\n"
          ],
          "name": "stdout"
        }
      ]
    },
    {
      "cell_type": "markdown",
      "metadata": {
        "id": "izRZ75FgYu7W"
      },
      "source": [
        "Let's start by labeling the three main parts of our loop:\n",
        "![img](https://s3.amazonaws.com/dq-content/355/loop_components.svg)\n",
        "\n",
        "To transform this structure into a list comprehension, we do the following within brackets:\n",
        "\n",
        "- Start with the code that transforms each item.\n",
        "- Continue with our for statement (without a colon)."
      ]
    },
    {
      "cell_type": "markdown",
      "metadata": {
        "id": "PVIcSsbWYy4k"
      },
      "source": [
        "We can then assign the list comprehension to a variable name. The animation below shows how we convert the manual loop version to a list comprehension.\n",
        "![img](https://s3.amazonaws.com/dq-content/355/list_comp_anim.svg)"
      ]
    },
    {
      "cell_type": "markdown",
      "metadata": {
        "id": "T-kTVMPrZEXl"
      },
      "source": [
        "Let's look at a second example, where we want to multiply each item in the list by 10:"
      ]
    },
    {
      "cell_type": "code",
      "metadata": {
        "colab": {
          "base_uri": "https://localhost:8080/"
        },
        "id": "UeyPdanMZFoe",
        "outputId": "08a77346-8a18-4bc4-cf1c-c296428aec04"
      },
      "source": [
        "times_ten = []\n",
        "for i in ints:\n",
        "    times_ten.append(i * 10)\n",
        "\n",
        "print(times_ten)"
      ],
      "execution_count": null,
      "outputs": [
        {
          "output_type": "stream",
          "text": [
            "[10, 20, 30, 40]\n"
          ],
          "name": "stdout"
        }
      ]
    },
    {
      "cell_type": "markdown",
      "metadata": {
        "id": "Y-Pb1MMWZJdG"
      },
      "source": [
        "To convert this to a list comprehension, we follow the same pattern:\n",
        "![img](https://s3.amazonaws.com/dq-content/355/loop_vs_lc_2.svg)"
      ]
    },
    {
      "cell_type": "markdown",
      "metadata": {
        "id": "uWlMGnrAZNFY"
      },
      "source": [
        "The \"transformation\" step of our list comprehension can be anything, including a function or method. In the example below, we are applying a function to a list of floats to round them to integers:"
      ]
    },
    {
      "cell_type": "code",
      "metadata": {
        "colab": {
          "base_uri": "https://localhost:8080/"
        },
        "id": "gOa3Tz_DZTSp",
        "outputId": "3260c424-0b08-4722-b97e-7f7e672fc003"
      },
      "source": [
        "floats = [2.1, 8.7, 4.2, 8.9]\n",
        "\n",
        "rounded = []\n",
        "for f in floats:\n",
        "    rounded.append(round(f))\n",
        "\n",
        "print(rounded)"
      ],
      "execution_count": null,
      "outputs": [
        {
          "output_type": "stream",
          "text": [
            "[2, 9, 4, 9]\n"
          ],
          "name": "stdout"
        }
      ]
    },
    {
      "cell_type": "markdown",
      "metadata": {
        "id": "lKNY7JvUZXEP"
      },
      "source": [
        "To convert to a list comprehension, we simply rearrange the components:\n",
        "![img](https://s3.amazonaws.com/dq-content/355/loop_vs_lc_3.svg)"
      ]
    },
    {
      "cell_type": "markdown",
      "metadata": {
        "id": "mOYWo4VWZa2-"
      },
      "source": [
        "Just like in a normal loop, we can use any name for our iterator variable. Here, we have used `f`.\n",
        "\n",
        "For the last example, we'll apply a method to each string in a list to capitalize it. We won't color the different components, so we can get used to how that looks.\n",
        "\n"
      ]
    },
    {
      "cell_type": "code",
      "metadata": {
        "id": "45EBQKIl75b5"
      },
      "source": [
        "letters = ['a', 'b', 'c', 'd']\n",
        "\n",
        "caps = []\n",
        "for l in letters:\n",
        "    caps.append(l.upper())"
      ],
      "execution_count": null,
      "outputs": []
    },
    {
      "cell_type": "markdown",
      "metadata": {
        "id": "YF1uUjhX8BKm"
      },
      "source": [
        "Even though we've used a different kind of transformation, the ordering of the list comprehension remains the same:"
      ]
    },
    {
      "cell_type": "code",
      "metadata": {
        "colab": {
          "base_uri": "https://localhost:8080/"
        },
        "id": "m8kbhpwm8D_a",
        "outputId": "4d6c44b1-1eb0-4b91-c0b3-d98aa80d94a0"
      },
      "source": [
        "caps = [l.upper() for l in letters]\n",
        "print(caps)"
      ],
      "execution_count": null,
      "outputs": [
        {
          "output_type": "stream",
          "text": [
            "['A', 'B', 'C', 'D']\n"
          ],
          "name": "stdout"
        }
      ]
    },
    {
      "cell_type": "markdown",
      "metadata": {
        "id": "d4-dHqZS8OWD"
      },
      "source": [
        "Let's recap what we have learned so far. A list comprehension can be used where we:\n",
        "\n",
        "- Iterated over values in a list.\n",
        "- Performed a transformation on those values.\n",
        "- Assigned the result to a new list.\n",
        "\n",
        "To transform a loop to a list comprehension, in brackets we:\n",
        "\n",
        "- Start with the code that transforms each item.\n",
        "- Continue with our for statement (without a colon).\n"
      ]
    },
    {
      "cell_type": "markdown",
      "metadata": {
        "id": "hVZ1K5j-8Xdj"
      },
      "source": [
        "We are going to write a list comprehension version of the code from the previous screen. To help, we've provided a copy of the code with the components labeled.\n",
        "\n",
        "![img](https://s3.amazonaws.com/dq-content/355/loop_components_hn.svg)"
      ]
    },
    {
      "cell_type": "markdown",
      "metadata": {
        "id": "uCgMbrVT8kpO"
      },
      "source": [
        "**Instructions:**\n",
        "\n",
        "We've provided the solution for the previous screen in comments for you to use as a reference.\n",
        "\n",
        "1. Create a list comprehension representation of the loop from the previous screen:\n",
        " - Call the `del_key()` function to remove the `createdAtI` value from each dictionary in the `hn` list.\n",
        " - Assign the results to a new list, `hn_clean`."
      ]
    },
    {
      "cell_type": "code",
      "metadata": {
        "id": "M9a7N5HI8vUJ"
      },
      "source": [
        "# Provided code:\n",
        "\n",
        "LOOP VERSION\n",
        "\n",
        "hn_clean = []\n",
        "\n",
        "for d in hn:\n",
        "    new_d = del_key(d, 'createdAtI')\n",
        "    hn_clean.append(new_d)"
      ],
      "execution_count": null,
      "outputs": []
    },
    {
      "cell_type": "code",
      "metadata": {
        "id": "Qz5kLB4IwcON"
      },
      "source": [
        "# Solution\n",
        "\n",
        "hn_clean = [del_key(d, 'createdAtI') for d in hn]"
      ],
      "execution_count": null,
      "outputs": []
    },
    {
      "cell_type": "markdown",
      "metadata": {
        "id": "Z7o7S_srTxKM"
      },
      "source": [
        "## 5. Using List Comprehensions to Transform and Create Lists"
      ]
    },
    {
      "cell_type": "markdown",
      "metadata": {
        "id": "H2IGl0l8TxNK"
      },
      "source": [
        "List comprehensions can be used for many different things. Three common applications are:\n",
        "\n",
        "1. Transforming a list\n",
        "2. Creating a new list\n",
        "3. Reducing a list\n",
        "\n",
        "On this screen, we're going to look at the first two of these applications.\n",
        "\n",
        "The first application, **transforming a list**, is the category that all the examples you've seen so far fit under. You are taking an existing list, applying a transformation to every value, and assigning it to a variable.\n",
        "\n"
      ]
    },
    {
      "cell_type": "markdown",
      "metadata": {
        "id": "IDWzM-JYCdlZ"
      },
      "source": [
        "The example below uses a list comprehension to transform a list of square numbers into their \"square roots\":\n",
        "\n",
        "![img](https://s3.amazonaws.com/dq-content/355/lc_application_1.svg)"
      ]
    },
    {
      "cell_type": "markdown",
      "metadata": {
        "id": "gTfd1q9bDca-"
      },
      "source": [
        "The second application, **creating a new list**, is useful for creating test data or data that is based on a set of numbers.\n",
        "\n",
        "As an example, let's create a list of generic columns names that we could use to create a dataframe using the `range()` [function](https://docs.python.org/3/library/stdtypes.html#range) and the `str.format()` [method](https://docs.python.org/3/library/stdtypes.html#str.format) to combine numbers and text:\n",
        "\n",
        "![img](https://s3.amazonaws.com/dq-content/355/lc_application_2_2.svg)\n"
      ]
    },
    {
      "cell_type": "markdown",
      "metadata": {
        "id": "5fMgOjv4wKUJ"
      },
      "source": [
        "We can then use this to create an empty dataframe with labels:\n",
        "\n",
        "```\n",
        "cols = [\"col_{}\".format(i) for i in range(1,5)]\n",
        "data = np.zeros((4,4))\n",
        "\n",
        "df = pd.DataFrame(data, columns=cols)\n",
        "print(df)\n",
        "```\n",
        "\n"
      ]
    },
    {
      "cell_type": "markdown",
      "metadata": {
        "id": "opak8hapxP2p"
      },
      "source": [
        "```\n",
        "_  col_1  col_2  col_3  col_4\n",
        "0    0.0    0.0    0.0    0.0\n",
        "1    0.0    0.0    0.0    0.0\n",
        "2    0.0    0.0    0.0    0.0\n",
        "3    0.0    0.0    0.0    0.0\n",
        "```"
      ]
    },
    {
      "cell_type": "markdown",
      "metadata": {
        "id": "mgRNALhOwVca"
      },
      "source": [
        "Let's use list comprehension to create a new list containing just the URLs from each story."
      ]
    },
    {
      "cell_type": "markdown",
      "metadata": {
        "id": "KucHqLDxwWYd"
      },
      "source": [
        "**Instructions:**\n",
        "\n",
        "Use a list comprehension to extract the url value from each dictionary in hn_clean. Assign the result to urls."
      ]
    },
    {
      "cell_type": "code",
      "metadata": {
        "id": "Up9ARf_94HH9"
      },
      "source": [
        "# Solution\n",
        "\n",
        "urls = [d['url'] for d in hn_clean]"
      ],
      "execution_count": null,
      "outputs": []
    },
    {
      "cell_type": "markdown",
      "metadata": {
        "id": "M-7hogKFTxQs"
      },
      "source": [
        "## 6. Using List Comprehensions to Reduce a List"
      ]
    },
    {
      "cell_type": "markdown",
      "metadata": {
        "id": "nFY3kpEzTxUa"
      },
      "source": [
        "The last common application of list comprehensions is **reducing a list**. Let's say we had a list of integers and we wanted to remove any integers that were smaller than 50. We could do this by adding an if statement to our loop:\n",
        "![img](https://s3.amazonaws.com/dq-content/355/lc_application_3_1.svg)"
      ]
    },
    {
      "cell_type": "markdown",
      "metadata": {
        "id": "dTfj2GOJ4Vtg"
      },
      "source": [
        "Our loop has one new component — the if statement, which we've colored yellow. Notice that instead of a transformation, we have just the list item itself (`i`) in red. Both if statements and transformations are optional in list comprehensions, but we must include some value to populate the elements in the new list.\n",
        "\n",
        "To include an if statement in a list comprehension, we include it at the very end, before the closing bracket:\n",
        "\n",
        "![img](https://s3.amazonaws.com/dq-content/355/lc_application_3_2.svg)\n"
      ]
    },
    {
      "cell_type": "markdown",
      "metadata": {
        "id": "HIpcfl-65e0Y"
      },
      "source": [
        "We can use this technique to quickly and easily filter our data set using an if statement. Let's look at how we could use this to quickly count the number of stories that have comments. We'll start with a version using a loop:"
      ]
    },
    {
      "cell_type": "code",
      "metadata": {
        "colab": {
          "base_uri": "https://localhost:8080/"
        },
        "id": "wKWB89CK5lKk",
        "outputId": "245ca73e-c3c2-4c1f-8105-00e1add0dbf4"
      },
      "source": [
        "has_comments = []\n",
        "\n",
        "for d in hn_clean:\n",
        "    if d['numComments'] > 0:\n",
        "        has_comments.append(d)\n",
        "\n",
        "num_comments = len(has_comments)\n",
        "print(num_comments)"
      ],
      "execution_count": null,
      "outputs": [
        {
          "output_type": "stream",
          "text": [
            "9279\n"
          ],
          "name": "stdout"
        }
      ]
    },
    {
      "cell_type": "markdown",
      "metadata": {
        "id": "lzgINB3POFW-"
      },
      "source": [
        "Now, let's use a list comprehension to perform the same calculation:"
      ]
    },
    {
      "cell_type": "code",
      "metadata": {
        "colab": {
          "base_uri": "https://localhost:8080/"
        },
        "id": "QAtvx2ozOGgO",
        "outputId": "df4f3b0d-6489-4d19-ce38-cb181da21cf3"
      },
      "source": [
        "has_comments = [d for d in hn_clean if d['numComments'] > 0]\n",
        "\n",
        "num_comments = len(has_comments)\n",
        "print(num_comments)"
      ],
      "execution_count": null,
      "outputs": [
        {
          "output_type": "stream",
          "text": [
            "9279\n"
          ],
          "name": "stdout"
        }
      ]
    },
    {
      "cell_type": "markdown",
      "metadata": {
        "id": "JaN--O1SOgXy"
      },
      "source": [
        "Let's use list comprehension to count how many stories have more than 1,000 points."
      ]
    },
    {
      "cell_type": "markdown",
      "metadata": {
        "id": "x9JTAjoCOiKU"
      },
      "source": [
        "**Instructions:**\n",
        "\n",
        "1. Use list comprehension to create a new list, `thousand_points`:\n",
        " - The list should contain values from `hn_clean` where the `points` key has a value greater than 1000.\n",
        "2. Count the number of values in `thousand_points` and assign the result to `num_thousand_points`."
      ]
    },
    {
      "cell_type": "code",
      "metadata": {
        "id": "d9Jwt5EvPZDU"
      },
      "source": [
        "# Solution\n",
        "\n",
        "thousand_points = [d for d in hn_clean if d['points'] > 1000]\n",
        "num_thousand_points = len(thousand_points)"
      ],
      "execution_count": null,
      "outputs": []
    },
    {
      "cell_type": "markdown",
      "metadata": {
        "id": "v9jQLqKlTxYJ"
      },
      "source": [
        "## 7. Passing Functions as Arguments"
      ]
    },
    {
      "cell_type": "markdown",
      "metadata": {
        "id": "ArL1A7rVTxbe"
      },
      "source": [
        "In previous missions, we learned to use Python's built-in functions to analyze data in lists, like `min()`, `max()`, and `sorted()`.\n",
        "\n",
        "What if we wanted to use these functions to work with data in JSON form? Let's use our demo JSON object to try and see what happens. First, we'll quickly remind ourselves of the data:"
      ]
    },
    {
      "cell_type": "code",
      "metadata": {
        "colab": {
          "base_uri": "https://localhost:8080/"
        },
        "id": "BcTAKDcpPi62",
        "outputId": "81efb742-7c0f-443f-bca4-52d58bf8fea2"
      },
      "source": [
        "jprint(json_obj)"
      ],
      "execution_count": null,
      "outputs": [
        {
          "output_type": "stream",
          "text": [
            "[\n",
            "    {\n",
            "        \"age\": 36,\n",
            "        \"favorite_foods\": [\n",
            "            \"Pumpkin\",\n",
            "            \"Oatmeal\"\n",
            "        ],\n",
            "        \"name\": \"Sabine\"\n",
            "    },\n",
            "    {\n",
            "        \"age\": 40,\n",
            "        \"favorite_foods\": [\n",
            "            \"Chicken\",\n",
            "            \"Pizza\",\n",
            "            \"Chocolate\"\n",
            "        ],\n",
            "        \"name\": \"Zoe\"\n",
            "    },\n",
            "    {\n",
            "        \"age\": 40,\n",
            "        \"favorite_foods\": [\n",
            "            \"Caesar Salad\"\n",
            "        ],\n",
            "        \"name\": \"Heidi\"\n",
            "    }\n",
            "]\n"
          ],
          "name": "stdout"
        }
      ]
    },
    {
      "cell_type": "markdown",
      "metadata": {
        "id": "Agt_ly4WPsTg"
      },
      "source": [
        "Let's try and use Python to return the dictionary of the person with the lowest age:"
      ]
    },
    {
      "cell_type": "code",
      "metadata": {
        "colab": {
          "base_uri": "https://localhost:8080/",
          "height": 165
        },
        "id": "Ukfu5DTuPtOv",
        "outputId": "4316ba1b-f493-445e-cfc6-f1afb924574e"
      },
      "source": [
        "min(json_obj)"
      ],
      "execution_count": null,
      "outputs": [
        {
          "output_type": "error",
          "ename": "TypeError",
          "evalue": "ignored",
          "traceback": [
            "\u001b[0;31m---------------------------------------------------------------------------\u001b[0m",
            "\u001b[0;31mTypeError\u001b[0m                                 Traceback (most recent call last)",
            "\u001b[0;32m<ipython-input-24-60cd4510e136>\u001b[0m in \u001b[0;36m<module>\u001b[0;34m()\u001b[0m\n\u001b[0;32m----> 1\u001b[0;31m \u001b[0mmin\u001b[0m\u001b[0;34m(\u001b[0m\u001b[0mjson_obj\u001b[0m\u001b[0;34m)\u001b[0m\u001b[0;34m\u001b[0m\u001b[0;34m\u001b[0m\u001b[0m\n\u001b[0m",
            "\u001b[0;31mTypeError\u001b[0m: '<' not supported between instances of 'dict' and 'dict'"
          ]
        }
      ]
    },
    {
      "cell_type": "markdown",
      "metadata": {
        "id": "epK3MaQrPwvF"
      },
      "source": [
        "We get an error because Python doesn't have any way to tell whether one dictionary object is \"greater\" than another.\n",
        "\n",
        "There is a way we can actually tell functions like `min()`, `max()`, and `sorted()` how to sort complex objects like dictionaries and lists of lists. We do this by using the optional `key` argument. The official Python documentation contains the following excerpts that describe how the argument works:"
      ]
    },
    {
      "cell_type": "markdown",
      "metadata": {
        "id": "rJerzdbyQ68N"
      },
      "source": [
        "\n",
        "> \"The `key` argument specifies a one-argument ordering function like that used for `list.sort()`. `key` specifies a function of one argument that is used to extract a comparison key from each list element. The key corresponding to each item in the list is calculated once and then used for the entire sorting process.\""
      ]
    },
    {
      "cell_type": "markdown",
      "metadata": {
        "id": "KhQByXjYRWq6"
      },
      "source": [
        "These excerpts tell us we need to specify a function as an argument to control the comparison between values. Up until now, we've only passed variables or values as arguments, but not functions!"
      ]
    },
    {
      "cell_type": "markdown",
      "metadata": {
        "id": "A-U-twcvRaYv"
      },
      "source": [
        "We'll learn the specifics of this particular application in a moment, but for now, we're going to explore how to pass a function as an argument.\n",
        "\n",
        "Let's define a very simple function as an example:"
      ]
    },
    {
      "cell_type": "code",
      "metadata": {
        "id": "nzgj8UOVRcmk",
        "colab": {
          "base_uri": "https://localhost:8080/",
          "height": 35
        },
        "outputId": "8d68cbba-b4e6-4a1a-d66d-e99c5f4c45a8"
      },
      "source": [
        "def greet():\n",
        "    return \"hello\"\n",
        "\n",
        "greet()"
      ],
      "execution_count": null,
      "outputs": [
        {
          "output_type": "execute_result",
          "data": {
            "application/vnd.google.colaboratory.intrinsic+json": {
              "type": "string"
            },
            "text/plain": [
              "'hello'"
            ]
          },
          "metadata": {
            "tags": []
          },
          "execution_count": 25
        }
      ]
    },
    {
      "cell_type": "markdown",
      "metadata": {
        "id": "vkEXc0tuRb6J"
      },
      "source": [
        "If we try to examine the type of our function, we are unsuccessful:"
      ]
    },
    {
      "cell_type": "code",
      "metadata": {
        "id": "epY4E-6iRiq4",
        "colab": {
          "base_uri": "https://localhost:8080/"
        },
        "outputId": "2f901c08-3b72-4714-829a-85af85886375"
      },
      "source": [
        "t = type(greet())\n",
        "print(t)"
      ],
      "execution_count": null,
      "outputs": [
        {
          "output_type": "stream",
          "text": [
            "<class 'str'>\n"
          ],
          "name": "stdout"
        }
      ]
    },
    {
      "cell_type": "markdown",
      "metadata": {
        "id": "M1ET_NhaRm4u"
      },
      "source": [
        "What happens is that `greet()` is executed first; it returns the string `\"hello\"`, and then the `type()` function tells us the type of that string:\n",
        "\n",
        "![img](https://s3.amazonaws.com/dq-content/355/type_of_func_1.svg)"
      ]
    },
    {
      "cell_type": "markdown",
      "metadata": {
        "id": "b2T-s2foXfTE"
      },
      "source": [
        "We need to find a way to look at the function itself, rather than the result of the function. The key to this is the parentheses: `()`.\n",
        "\n",
        "The parentheses are what tells Python to execute the function, so if we **omit the parentheses we can treat a function like a variable**, rather than working with the output of the function:"
      ]
    },
    {
      "cell_type": "code",
      "metadata": {
        "id": "sKxBaHAQXzx9",
        "colab": {
          "base_uri": "https://localhost:8080/"
        },
        "outputId": "84035329-8086-4a65-c91c-c16b00381e2a"
      },
      "source": [
        "t = type(greet)\n",
        "print(t)"
      ],
      "execution_count": null,
      "outputs": [
        {
          "output_type": "stream",
          "text": [
            "<class 'function'>\n"
          ],
          "name": "stdout"
        }
      ]
    },
    {
      "cell_type": "markdown",
      "metadata": {
        "id": "pAXz41uoX4Es"
      },
      "source": [
        "There are other variable-like behaviors we can also use when we omit the parentheses from a function. For instance, we can assign a function to a new variable name:\n",
        "\n"
      ]
    },
    {
      "cell_type": "code",
      "metadata": {
        "id": "3jcrGAJBX5DJ",
        "colab": {
          "base_uri": "https://localhost:8080/",
          "height": 35
        },
        "outputId": "cb14fec9-64be-4d67-86de-ac88523355e8"
      },
      "source": [
        "greet_2 = greet\n",
        "\n",
        "greet_2()"
      ],
      "execution_count": null,
      "outputs": [
        {
          "output_type": "execute_result",
          "data": {
            "application/vnd.google.colaboratory.intrinsic+json": {
              "type": "string"
            },
            "text/plain": [
              "'hello'"
            ]
          },
          "metadata": {
            "tags": []
          },
          "execution_count": 28
        }
      ]
    },
    {
      "cell_type": "markdown",
      "metadata": {
        "id": "3n9CS_3jYBJT"
      },
      "source": [
        "Now that we understand how to treat a function as variable, let's look at how we can run a function inside another function by passing it as an argument:"
      ]
    },
    {
      "cell_type": "code",
      "metadata": {
        "id": "r_4s3qurYB7c",
        "colab": {
          "base_uri": "https://localhost:8080/",
          "height": 53
        },
        "outputId": "8e4f34d8-8cdb-440e-c2cd-f7c91f73d0ff"
      },
      "source": [
        "def run_func(func):\n",
        "    print(\"RUNNING FUNCTION: {}\".format(func))\n",
        "    return func()\n",
        "\n",
        "run_func(greet)"
      ],
      "execution_count": null,
      "outputs": [
        {
          "output_type": "stream",
          "text": [
            "RUNNING FUNCTION: <function greet at 0x7f2b90e13d90>\n"
          ],
          "name": "stdout"
        },
        {
          "output_type": "execute_result",
          "data": {
            "application/vnd.google.colaboratory.intrinsic+json": {
              "type": "string"
            },
            "text/plain": [
              "'hello'"
            ]
          },
          "metadata": {
            "tags": []
          },
          "execution_count": 29
        }
      ]
    },
    {
      "cell_type": "markdown",
      "metadata": {
        "id": "YNksCaAcqwq6"
      },
      "source": [
        "![img](https://s3.amazonaws.com/dq-content/355/func_as_arg.svg)\n",
        "Now that we have some intuition on how to pass functions as arguments, let's see how we use a function to control the behavior of the `sorted()` function:\n",
        "![img](https://s3.amazonaws.com/dq-content/355/sorted_key.svg)\n",
        "\n",
        "Let's look at the same thing in code form:\n"
      ]
    },
    {
      "cell_type": "code",
      "metadata": {
        "id": "kD9AXYmerB4M",
        "colab": {
          "base_uri": "https://localhost:8080/"
        },
        "outputId": "0c684eef-7d4d-45fa-8427-38deb4a0b28c"
      },
      "source": [
        "def get_age(json_dict):\n",
        "    return json_dict['age']\n",
        "\n",
        "youngest = min(json_obj, key=get_age)\n",
        "jprint(youngest)"
      ],
      "execution_count": null,
      "outputs": [
        {
          "output_type": "stream",
          "text": [
            "{\n",
            "    \"age\": 36,\n",
            "    \"favorite_foods\": [\n",
            "        \"Pumpkin\",\n",
            "        \"Oatmeal\"\n",
            "    ],\n",
            "    \"name\": \"Sabine\"\n",
            "}\n"
          ],
          "name": "stdout"
        }
      ]
    },
    {
      "cell_type": "markdown",
      "metadata": {
        "id": "vslPY9Dfq-Fn"
      },
      "source": [
        "Let's use this technique to find the story that has the greatest number of comments."
      ]
    },
    {
      "cell_type": "markdown",
      "metadata": {
        "id": "ZYNcnWbXrVRw"
      },
      "source": [
        "**Instructions:**\n",
        "\n",
        "1. Create a \"key function\" that accepts a single dictionary and returns the value from the `numComments` key.\n",
        "2. Use the `max()` function with the \"key function\" you just created to find the value from the `hn_clean` list with the most comments:\n",
        " - Assign the result to the variable `most_comments`."
      ]
    },
    {
      "cell_type": "code",
      "metadata": {
        "id": "5GbsG5xgrh1G"
      },
      "source": [
        "# Solution\n",
        "\n",
        "def get_num_comments(story):\n",
        "    return story['numComments']\n",
        "\n",
        "most_comments = max(hn_clean, key=get_num_comments)\n"
      ],
      "execution_count": null,
      "outputs": []
    },
    {
      "cell_type": "markdown",
      "metadata": {
        "id": "Opy4pKDxTxeY"
      },
      "source": [
        "## 8. Lambda Functions"
      ]
    },
    {
      "cell_type": "markdown",
      "metadata": {
        "id": "eS7qwfPjTxiS"
      },
      "source": [
        "Usually, we create functions when we want to perform the same task many times. In the previous exercise, we created a function to use just once — as an argument to `max()`.\n",
        "\n",
        "Python provides a special syntax to create temporary functions for situations like these. These functions are called **lambda functions**. Lambda functions can be defined in a single line, which allows you to define a function you want to pass as an argument at the time you need it.\n",
        "\n",
        "While it's unusual to assign a lamdba function to a variable name, we'll do that while we learn lambda functions through some simple examples. We'll start with a function that returns a single argument without modifying it:\n",
        "\n"
      ]
    },
    {
      "cell_type": "code",
      "metadata": {
        "id": "eoVSK243rud5"
      },
      "source": [
        "def unchanged(x):\n",
        "    return x"
      ],
      "execution_count": null,
      "outputs": []
    },
    {
      "cell_type": "markdown",
      "metadata": {
        "id": "Fj58-MP0OR6m"
      },
      "source": [
        "Let's give each component of the function a name so we can more easily talk about it:\n",
        "![img](https://s3.amazonaws.com/dq-content/355/lambda_1_components.svg)"
      ]
    },
    {
      "cell_type": "markdown",
      "metadata": {
        "id": "1czaLRjDOWa1"
      },
      "source": [
        "We're calling the returned element \"transformation,\" even though there is no transformation. This will make sense as we introduce more complex examples.\n",
        "\n",
        "To create a lambda function equivalent of this function, we:\n",
        "\n",
        "- Use the lambda keyword, followed by\n",
        "- The parameter and a colon, and then\n",
        "- The transformation we wish to perform on our argument\n",
        "\n",
        "We can then assign that to the function name:\n",
        "![img](https://s3.amazonaws.com/dq-content/355/lambda_1_anim.svg)\n"
      ]
    },
    {
      "cell_type": "markdown",
      "metadata": {
        "id": "jVW-oT6kOzQo"
      },
      "source": [
        "Let's look at a comparison of the original function and its lamdba equivalent:\n",
        "![img](https://s3.amazonaws.com/dq-content/355/lambda_1_comparison.svg)\n",
        "\n",
        "Now let's look at a second example, where we add a simple transformation to the argument:\n",
        "\n",
        "![img](https://s3.amazonaws.com/dq-content/355/lambda_2_components.svg)\n",
        "\n"
      ]
    },
    {
      "cell_type": "markdown",
      "metadata": {
        "id": "j3dQwWA0Jefm"
      },
      "source": [
        "We follow exactly the same steps to make a lambda function:\n",
        "\n",
        "![img](https://s3.amazonaws.com/dq-content/355/lambda_2_comparison.svg)\n",
        "\n",
        "If we want to create a lambda that has multiple parameters, we follow exactly the same steps:\n",
        "\n",
        "![img](https://s3.amazonaws.com/dq-content/355/lambda_3_components.svg)"
      ]
    },
    {
      "cell_type": "markdown",
      "metadata": {
        "id": "yskMhQMoJ8qC"
      },
      "source": [
        "Where we have multiple parameters, they transfer in the same format to where a single parameter would exist in our lambda function:\n",
        "![img](https://s3.amazonaws.com/dq-content/355/lambda_3_comparison.svg)\n",
        "\n",
        "If a function is particularly complex, it may be a better choice to define a regular function rather than create a lambda, even if it will only be used once. For instance, this function below, which extracts digits from a string and then adds one to the resultant integer:\n",
        "\n"
      ]
    },
    {
      "cell_type": "code",
      "metadata": {
        "id": "E5ovKPefKFWo"
      },
      "source": [
        "def extract_and_increment(string):\n",
        "    digits = re.search(r\"\\d+\", string).group()\n",
        "    incremented = int(digits) + 1\n",
        "    return incremented"
      ],
      "execution_count": null,
      "outputs": []
    },
    {
      "cell_type": "markdown",
      "metadata": {
        "id": "YI3rW3zeKKr6"
      },
      "source": [
        "It becomes tough to understand in its lambda form:"
      ]
    },
    {
      "cell_type": "code",
      "metadata": {
        "id": "puek6Zl5KOKO"
      },
      "source": [
        "extract_and_increment = lambda string: int(re.search(r\"\\d+\", string).group()) + 1"
      ],
      "execution_count": null,
      "outputs": []
    },
    {
      "cell_type": "markdown",
      "metadata": {
        "id": "OrCibZtXKPTj"
      },
      "source": [
        "Being mindful of this will ensure our code remains easy to read and understand.\n",
        "\n",
        "Let's practice creating a lambda function version of a simple function:"
      ]
    },
    {
      "cell_type": "markdown",
      "metadata": {
        "id": "L6dHse9hKYrL"
      },
      "source": [
        "**Instructions:**\n",
        "\n",
        "1. In the display code, we have defined (in comments) a function `multiply()` using traditional syntax.\n",
        "2. Create a lambda function that performs the same operation. Assign it to the variable name `multiply`."
      ]
    },
    {
      "cell_type": "code",
      "metadata": {
        "id": "RZ26Ga6CKh4Q"
      },
      "source": [
        "# Provided code\n",
        "\n",
        "def multiply(a, b):\n",
        "   return a * b"
      ],
      "execution_count": null,
      "outputs": []
    },
    {
      "cell_type": "code",
      "metadata": {
        "id": "3HgWaKe6woeN"
      },
      "source": [
        "# Answer:\n"
      ],
      "execution_count": null,
      "outputs": []
    },
    {
      "cell_type": "markdown",
      "metadata": {
        "id": "uYZ9lx0mTxlq"
      },
      "source": [
        "## 9. Using Lambda Functions to Analyze JSON data"
      ]
    },
    {
      "cell_type": "markdown",
      "metadata": {
        "id": "yie3KLnXTxpA"
      },
      "source": [
        "As we mentioned briefly on the previous screen, assigning a lambda to a variable so it can be called by name is a pretty uncommon pattern. The primary use of lambda functions is to define a function in place, like when we are providing a function as an argument.\n",
        "\n",
        "So we have a more precise understanding of how a lambda function works, let's look at how our solution from the previous screen is executed:\n",
        "![img](https://s3.amazonaws.com/dq-content/355/lambda_in_place_1.svg)"
      ]
    },
    {
      "cell_type": "markdown",
      "metadata": {
        "id": "Sfpx3yelGInE"
      },
      "source": [
        "Let's look at how this works in common usage with `min()`, `max()`, and `sorted()`. We'll use the JSON object from the previous few screens so it's easier to observe what is happening:\n"
      ]
    },
    {
      "cell_type": "code",
      "metadata": {
        "id": "rqurzn-RGYKC",
        "colab": {
          "base_uri": "https://localhost:8080/"
        },
        "outputId": "bde192f5-2510-4b56-d179-7eb345fe5a91"
      },
      "source": [
        "jprint(json_obj)"
      ],
      "execution_count": null,
      "outputs": [
        {
          "output_type": "stream",
          "text": [
            "[\n",
            "    {\n",
            "        \"age\": 36,\n",
            "        \"favorite_foods\": [\n",
            "            \"Pumpkin\",\n",
            "            \"Oatmeal\"\n",
            "        ],\n",
            "        \"name\": \"Sabine\"\n",
            "    },\n",
            "    {\n",
            "        \"age\": 40,\n",
            "        \"favorite_foods\": [\n",
            "            \"Chicken\",\n",
            "            \"Pizza\",\n",
            "            \"Chocolate\"\n",
            "        ],\n",
            "        \"name\": \"Zoe\"\n",
            "    },\n",
            "    {\n",
            "        \"age\": 40,\n",
            "        \"favorite_foods\": [\n",
            "            \"Caesar Salad\"\n",
            "        ],\n",
            "        \"name\": \"Heidi\"\n",
            "    }\n",
            "]\n"
          ],
          "name": "stdout"
        }
      ]
    },
    {
      "cell_type": "markdown",
      "metadata": {
        "id": "Of9DHJytGaLF"
      },
      "source": [
        "Let's start by using a lambda function with `sorted()` to sort the items in our JSON list alphabetically by name:\n",
        "\n",
        "![img](https://s3.amazonaws.com/dq-content/355/lambda_example_1.svg)"
      ]
    },
    {
      "cell_type": "markdown",
      "metadata": {
        "id": "qDlOx5L6Ghl1"
      },
      "source": [
        "Next, we'll use a lambda function with `min()` to calculate the item in our JSON list with the smallest age:\n",
        "![img](https://s3.amazonaws.com/dq-content/355/lambda_example_2.svg)\n",
        "\n",
        "Lastly, we'll use a lambda function with `max()` to calculate the item in our JSON list with the largest number of favorite foods:\n",
        "\n",
        "![img](https://s3.amazonaws.com/dq-content/355/lambda_example_3.svg)\n"
      ]
    },
    {
      "cell_type": "markdown",
      "metadata": {
        "id": "au_CWdEkGyN2"
      },
      "source": [
        "Over the past three screens, we have:\n",
        "\n",
        "- Learned that functions can be passed as arguments.\n",
        "- Created functions and used them to calculate the minimum, maximum, and to sort lists of lists.\n",
        "- Learned about lambda functions and how to create them.\n",
        "- Learned how to use a lambda function to pass an argument in place when calculating minimums, maximums, and sorting lists of lists.\n",
        "\n",
        "We can now apply all of this new knowledge to our Hacker News data to calculate the posts that had the most points in 2014!\n",
        "\n"
      ]
    },
    {
      "cell_type": "markdown",
      "metadata": {
        "id": "3Hw2zvgm2BxA"
      },
      "source": [
        "**Instructions:**\n",
        "\n",
        "1. Using `sorted()` and a lambda function, sort the `hn_clean` JSON list by the number of points (dictionary key `points`) from highest to lowest:\n",
        " - Check [the documentation for](https://docs.python.org/3.7/library/functions.html#sorted) `sorted()` to see how to reverse the order to highest to lowest.\n",
        " - Assign the result to `hn_sorted_points`.\n",
        "2. Use a list comprehension to return a list of the five post titles (dictionary key title) that have the most points in our data set:\n",
        "Assign the result to top_5_titles."
      ]
    },
    {
      "cell_type": "code",
      "metadata": {
        "id": "RKzOCwJn2h_P"
      },
      "source": [
        ""
      ],
      "execution_count": null,
      "outputs": []
    },
    {
      "cell_type": "markdown",
      "metadata": {
        "id": "1i3_IxU-TxsP"
      },
      "source": [
        "## 10. Reading JSON files into pandas"
      ]
    },
    {
      "cell_type": "markdown",
      "metadata": {
        "id": "hSaTu5KkTxvv"
      },
      "source": [
        "So far, we've worked with our JSON data using pure Python. One other option available to us is to convert the JSON to a pandas dataframe and then use pandas methods to manipulate it.\n",
        "\n",
        "Pandas has the `pandas.read_json()` [function](http://pandas.pydata.org/pandas-docs/stable/reference/api/pandas.read_json.html), which is designed to read JSON from either a file or a JSON string. In our case, our JSON exists as Python objects already, so we don't need to use this function."
      ]
    },
    {
      "cell_type": "markdown",
      "metadata": {
        "id": "BrRF8WqA2uFj"
      },
      "source": [
        "Because the structure of JSON objects can vary a lot, sometimes you will need to prepare your data in order to be able to convert it to a tabular form. In our case, our data is a list of dictionaries, which pandas is easily able to convert to a dataframe.\n",
        "\n",
        "Let's look at an our example JSON again:"
      ]
    },
    {
      "cell_type": "code",
      "metadata": {
        "colab": {
          "base_uri": "https://localhost:8080/"
        },
        "id": "BxdAYlIB2wuS",
        "outputId": "5870bf08-110f-40ee-bc87-a3fdd576fc30"
      },
      "source": [
        "jprint(json_obj)"
      ],
      "execution_count": null,
      "outputs": [
        {
          "output_type": "stream",
          "text": [
            "[\n",
            "    {\n",
            "        \"age\": 36,\n",
            "        \"favorite_foods\": [\n",
            "            \"Pumpkin\",\n",
            "            \"Oatmeal\"\n",
            "        ],\n",
            "        \"name\": \"Sabine\"\n",
            "    },\n",
            "    {\n",
            "        \"age\": 40,\n",
            "        \"favorite_foods\": [\n",
            "            \"Chicken\",\n",
            "            \"Pizza\",\n",
            "            \"Chocolate\"\n",
            "        ],\n",
            "        \"name\": \"Zoe\"\n",
            "    },\n",
            "    {\n",
            "        \"age\": 40,\n",
            "        \"favorite_foods\": [\n",
            "            \"Caesar Salad\"\n",
            "        ],\n",
            "        \"name\": \"Heidi\"\n",
            "    }\n",
            "]\n"
          ],
          "name": "stdout"
        }
      ]
    },
    {
      "cell_type": "markdown",
      "metadata": {
        "id": "K92iTxP-25cO"
      },
      "source": [
        "Each of the dictionaries will become a row in the dataframe, with each key corresponding to a column name.\n",
        "\n",
        "![img](https://s3.amazonaws.com/dq-content/355/json_to_df.svg)"
      ]
    },
    {
      "cell_type": "markdown",
      "metadata": {
        "id": "OWCbBhMQ2_Sy"
      },
      "source": [
        "We can use the `pandas.DataFrame()` [constructor](http://pandas.pydata.org/pandas-docs/stable/reference/api/pandas.DataFrame.html#pandas.DataFrame) and pass the list of dictionaries directly to it to convert the JSON to a dataframe:\n",
        "\n"
      ]
    },
    {
      "cell_type": "markdown",
      "metadata": {
        "id": "yVLyCZaM4XE1"
      },
      "source": [
        "```\n",
        "json_df = pd.DataFrame(json_obj)\n",
        "print(json_df)\n",
        "```"
      ]
    },
    {
      "cell_type": "markdown",
      "metadata": {
        "id": "lvGfNfpX4KgR"
      },
      "source": [
        "```\n",
        "age                 favorite_foods    name\n",
        "0   36             [Pumpkin, Oatmeal]  Sabine\n",
        "1   40    [Chicken, Pizza, Chocolate]     Zoe\n",
        "2   40                 [Caesar Salad]   Heidi\n",
        "```"
      ]
    },
    {
      "cell_type": "markdown",
      "metadata": {
        "id": "HP7MTvA03K7X"
      },
      "source": [
        "In this case, the `favorite_foods` column contains the list from the JSON. We'll see a similar thing with the `tags` column for our Hacker News data. We'll learn how to correct that on the next screen, but for now, let's convert our data to a pandas dataframe."
      ]
    },
    {
      "cell_type": "markdown",
      "metadata": {
        "id": "xVXQhjHD3Rkz"
      },
      "source": [
        "**Instructions:**\n",
        "\n",
        "1. Import the pandas library.\n",
        "2. Use the `pandas.DataFrame()` constructor to create a dataframe version of the `hn_clean` JSON list. Assign the result to `hn_df`."
      ]
    },
    {
      "cell_type": "code",
      "metadata": {
        "id": "b53Xvz4o3YM0"
      },
      "source": [
        "import pandas as pd\n",
        "\n",
        "hn_df = pd.DataFrame(hn_clean)"
      ],
      "execution_count": null,
      "outputs": []
    },
    {
      "cell_type": "markdown",
      "metadata": {
        "id": "spt9MKRTTxzG"
      },
      "source": [
        "## 11. Exploring Tags Using the Apply Function"
      ]
    },
    {
      "cell_type": "markdown",
      "metadata": {
        "id": "UpkA4xIOTx2B"
      },
      "source": [
        "Let's look at the first few rows of our new `hn_df` dataframe:"
      ]
    },
    {
      "cell_type": "code",
      "metadata": {
        "colab": {
          "base_uri": "https://localhost:8080/",
          "height": 980
        },
        "id": "nJBOZIkdux_R",
        "outputId": "a5b315a3-69f4-48ff-c93c-8652e55a76ea"
      },
      "source": [
        "hn_df"
      ],
      "execution_count": null,
      "outputs": [
        {
          "output_type": "execute_result",
          "data": {
            "text/html": [
              "<div>\n",
              "<style scoped>\n",
              "    .dataframe tbody tr th:only-of-type {\n",
              "        vertical-align: middle;\n",
              "    }\n",
              "\n",
              "    .dataframe tbody tr th {\n",
              "        vertical-align: top;\n",
              "    }\n",
              "\n",
              "    .dataframe thead th {\n",
              "        text-align: right;\n",
              "    }\n",
              "</style>\n",
              "<table border=\"1\" class=\"dataframe\">\n",
              "  <thead>\n",
              "    <tr style=\"text-align: right;\">\n",
              "      <th></th>\n",
              "      <th>author</th>\n",
              "      <th>numComments</th>\n",
              "      <th>points</th>\n",
              "      <th>url</th>\n",
              "      <th>storyText</th>\n",
              "      <th>createdAt</th>\n",
              "      <th>tags</th>\n",
              "      <th>title</th>\n",
              "      <th>objectId</th>\n",
              "    </tr>\n",
              "  </thead>\n",
              "  <tbody>\n",
              "    <tr>\n",
              "      <th>0</th>\n",
              "      <td>dragongraphics</td>\n",
              "      <td>0</td>\n",
              "      <td>2</td>\n",
              "      <td>http://ashleynolan.co.uk/blog/are-we-getting-t...</td>\n",
              "      <td></td>\n",
              "      <td>2014-05-29T08:07:50Z</td>\n",
              "      <td>[story, author_dragongraphics, story_7815238]</td>\n",
              "      <td>Are we getting too Sassy? Weighing up micro-op...</td>\n",
              "      <td>7815238</td>\n",
              "    </tr>\n",
              "    <tr>\n",
              "      <th>1</th>\n",
              "      <td>jcr</td>\n",
              "      <td>0</td>\n",
              "      <td>1</td>\n",
              "      <td>http://spectrum.ieee.org/automaton/robotics/ho...</td>\n",
              "      <td></td>\n",
              "      <td>2014-05-29T08:05:58Z</td>\n",
              "      <td>[story, author_jcr, story_7815234]</td>\n",
              "      <td>Telemba Turns Your Old Roomba and Tablet Into ...</td>\n",
              "      <td>7815234</td>\n",
              "    </tr>\n",
              "    <tr>\n",
              "      <th>2</th>\n",
              "      <td>callum85</td>\n",
              "      <td>0</td>\n",
              "      <td>1</td>\n",
              "      <td>http://online.wsj.com/articles/apple-to-buy-be...</td>\n",
              "      <td></td>\n",
              "      <td>2014-05-29T08:05:06Z</td>\n",
              "      <td>[story, author_callum85, story_7815230]</td>\n",
              "      <td>Apple Agrees to Buy Beats for $3 Billion</td>\n",
              "      <td>7815230</td>\n",
              "    </tr>\n",
              "    <tr>\n",
              "      <th>3</th>\n",
              "      <td>d3v3r0</td>\n",
              "      <td>0</td>\n",
              "      <td>1</td>\n",
              "      <td>http://alexsblog.org/2014/05/29/dont-wait-for-...</td>\n",
              "      <td></td>\n",
              "      <td>2014-05-29T08:00:08Z</td>\n",
              "      <td>[story, author_d3v3r0, story_7815222]</td>\n",
              "      <td>Don’t wait for inspiration</td>\n",
              "      <td>7815222</td>\n",
              "    </tr>\n",
              "    <tr>\n",
              "      <th>4</th>\n",
              "      <td>timmipetit</td>\n",
              "      <td>0</td>\n",
              "      <td>1</td>\n",
              "      <td>http://techcrunch.com/2014/05/28/hackerone-get...</td>\n",
              "      <td></td>\n",
              "      <td>2014-05-29T07:46:19Z</td>\n",
              "      <td>[story, author_timmipetit, story_7815191]</td>\n",
              "      <td>HackerOne Get $9M In Series A Funding To Build...</td>\n",
              "      <td>7815191</td>\n",
              "    </tr>\n",
              "    <tr>\n",
              "      <th>...</th>\n",
              "      <td>...</td>\n",
              "      <td>...</td>\n",
              "      <td>...</td>\n",
              "      <td>...</td>\n",
              "      <td>...</td>\n",
              "      <td>...</td>\n",
              "      <td>...</td>\n",
              "      <td>...</td>\n",
              "      <td>...</td>\n",
              "    </tr>\n",
              "    <tr>\n",
              "      <th>35801</th>\n",
              "      <td>lispython</td>\n",
              "      <td>0</td>\n",
              "      <td>3</td>\n",
              "      <td>https://medium.com/p/ff5f4c9b16bd</td>\n",
              "      <td>None</td>\n",
              "      <td>2014-01-01T00:33:42Z</td>\n",
              "      <td>[story, author_lispython, story_6993601]</td>\n",
              "      <td>Engelbart and Kay</td>\n",
              "      <td>6993601</td>\n",
              "    </tr>\n",
              "    <tr>\n",
              "      <th>35802</th>\n",
              "      <td>co_pl_te</td>\n",
              "      <td>0</td>\n",
              "      <td>3</td>\n",
              "      <td>http://allthingsd.com/20131231/you-say-goodbye...</td>\n",
              "      <td></td>\n",
              "      <td>2014-01-01T00:19:47Z</td>\n",
              "      <td>[story, author_co_pl_te, story_6993568]</td>\n",
              "      <td>You Say Goodbye and We Say Hello</td>\n",
              "      <td>6993568</td>\n",
              "    </tr>\n",
              "    <tr>\n",
              "      <th>35803</th>\n",
              "      <td>maurorm</td>\n",
              "      <td>0</td>\n",
              "      <td>1</td>\n",
              "      <td>http://ghiraldelli.pro.br/jesus-e-eu/</td>\n",
              "      <td>None</td>\n",
              "      <td>2014-01-01T00:11:06Z</td>\n",
              "      <td>[story, author_maurorm, story_6993544]</td>\n",
              "      <td>Jesus e eu</td>\n",
              "      <td>6993544</td>\n",
              "    </tr>\n",
              "    <tr>\n",
              "      <th>35804</th>\n",
              "      <td>yeukhon</td>\n",
              "      <td>0</td>\n",
              "      <td>1</td>\n",
              "      <td></td>\n",
              "      <td>https:&amp;#x2F;&amp;#x2F;fundraising.mozilla.org&amp;#x2F;</td>\n",
              "      <td>2014-01-01T00:06:59Z</td>\n",
              "      <td>[story, author_yeukhon, story_6993536]</td>\n",
              "      <td>Mozilla end-of-year fundraising jumps from $75...</td>\n",
              "      <td>6993536</td>\n",
              "    </tr>\n",
              "    <tr>\n",
              "      <th>35805</th>\n",
              "      <td>Strilanc</td>\n",
              "      <td>0</td>\n",
              "      <td>1</td>\n",
              "      <td>http://twistedoakstudios.com/blog/Post8565_col...</td>\n",
              "      <td></td>\n",
              "      <td>2014-01-01T00:01:00Z</td>\n",
              "      <td>[story, author_Strilanc, story_6993523]</td>\n",
              "      <td>Collection Equality is Hard</td>\n",
              "      <td>6993523</td>\n",
              "    </tr>\n",
              "  </tbody>\n",
              "</table>\n",
              "<p>35806 rows × 9 columns</p>\n",
              "</div>"
            ],
            "text/plain": [
              "               author  ...  objectId\n",
              "0      dragongraphics  ...   7815238\n",
              "1                 jcr  ...   7815234\n",
              "2            callum85  ...   7815230\n",
              "3              d3v3r0  ...   7815222\n",
              "4          timmipetit  ...   7815191\n",
              "...               ...  ...       ...\n",
              "35801       lispython  ...   6993601\n",
              "35802        co_pl_te  ...   6993568\n",
              "35803         maurorm  ...   6993544\n",
              "35804         yeukhon  ...   6993536\n",
              "35805        Strilanc  ...   6993523\n",
              "\n",
              "[35806 rows x 9 columns]"
            ]
          },
          "metadata": {
            "tags": []
          },
          "execution_count": 37
        }
      ]
    },
    {
      "cell_type": "markdown",
      "metadata": {
        "id": "bquUzsWGvLeo"
      },
      "source": [
        "Just like the `favorite_food` column in our example data on the previous screen, the `tags` column is a column where each item contains the list of data from our original JSON.\n",
        "\n",
        "At first glance, it looks like each values in this JSON list contain three items:\n",
        "\n",
        "1. The string story\n",
        "2. The name of the author\n",
        "3. The story ID\n",
        "\n",
        "If that's the case, then the column doesn't contain any unique data, and we can remove it. We're going to analyze this column to make sure that's the case.\n",
        "\n",
        "Let's start by exploring how pandas is storing that data. First, we'll extract the column as a series, and check its type:\n",
        "\n"
      ]
    },
    {
      "cell_type": "code",
      "metadata": {
        "id": "AiT6vC0jvS38",
        "colab": {
          "base_uri": "https://localhost:8080/"
        },
        "outputId": "e49760ac-76d3-4296-c983-3829a5cb5c7b"
      },
      "source": [
        "tags = hn_df['tags']\n",
        "print(tags.dtype)"
      ],
      "execution_count": null,
      "outputs": [
        {
          "output_type": "stream",
          "text": [
            "object\n"
          ],
          "name": "stdout"
        }
      ]
    },
    {
      "cell_type": "markdown",
      "metadata": {
        "id": "qq2criMcFjDZ"
      },
      "source": [
        "The tags column is stored as an object type. Whenever pandas uses the object type, each item in the series uses a Python object to store the data. Most commonly we see this type used for string data.\n",
        "\n",
        "We previously learned that we could use the `Series.apply()` [method](http://pandas.pydata.org/pandas-docs/stable/reference/api/pandas.Series.apply.html#pandas.Series.apply) to apply a function to every item in a series. Let's look at what we get when we pass the `type()` function as an argument to the column:"
      ]
    },
    {
      "cell_type": "code",
      "metadata": {
        "id": "dJ0WugntFvuO",
        "colab": {
          "base_uri": "https://localhost:8080/"
        },
        "outputId": "a2b1345f-888e-43df-dc88-d02901c9019e"
      },
      "source": [
        "tags_types = tags.apply(type)\n",
        "type_counts = tags_types.value_counts(dropna=False)\n",
        "print(type_counts)"
      ],
      "execution_count": null,
      "outputs": [
        {
          "output_type": "stream",
          "text": [
            "<class 'list'>    35806\n",
            "Name: tags, dtype: int64\n"
          ],
          "name": "stdout"
        }
      ]
    },
    {
      "cell_type": "markdown",
      "metadata": {
        "id": "0bIW0MZiFydc"
      },
      "source": [
        "All 35,806 items in the column are a Python list type.\n",
        "\n",
        "Next, let's use `Series.apply()` to check the length of each of those lists. If our hypothesis from earlier is correct, every row will have a list containing three items:"
      ]
    },
    {
      "cell_type": "code",
      "metadata": {
        "id": "qZCfv6rsF5Vz",
        "colab": {
          "base_uri": "https://localhost:8080/"
        },
        "outputId": "8e99a653-a734-4570-ae89-8a2e6209f058"
      },
      "source": [
        "tags_types = tags.apply(len)\n",
        "type_lengths = tags_types.value_counts(dropna=False)\n",
        "print(type_lengths)"
      ],
      "execution_count": null,
      "outputs": [
        {
          "output_type": "stream",
          "text": [
            "3    33459\n",
            "4     2347\n",
            "Name: tags, dtype: int64\n"
          ],
          "name": "stdout"
        }
      ]
    },
    {
      "cell_type": "markdown",
      "metadata": {
        "id": "9w0SPPb1HGgI"
      },
      "source": [
        "While most of the item have three values in the list, about 2,000 values contain four values. Let's use a boolean mask to look at the items where the list has four items:"
      ]
    },
    {
      "cell_type": "markdown",
      "metadata": {
        "id": "m8Qgw7byHIod"
      },
      "source": [
        "**Instructions:**\n",
        "\n",
        "1. Use `Series.apply()` and `len()` to create a boolean mask based on whether each item in `tags` has a length of `4`.\n",
        "2. Use the boolean mask to filter `tags`. Assign the result to `four_tags`."
      ]
    },
    {
      "cell_type": "code",
      "metadata": {
        "id": "WE6B9cqqHSG7"
      },
      "source": [
        "tags = hn_df['tags']\n",
        "has_four_tags = tags.apply(len) == 4\n",
        "four_tags = tags[has_four_tags]"
      ],
      "execution_count": null,
      "outputs": []
    },
    {
      "cell_type": "markdown",
      "metadata": {
        "id": "iVIx8gfrTx53"
      },
      "source": [
        "## 12. Extracting Tags Using Apply with a Lambda Function"
      ]
    },
    {
      "cell_type": "markdown",
      "metadata": {
        "id": "2aFTLOyVjN_6"
      },
      "source": [
        "Let's look at the first few items in the four_tags series we just created:"
      ]
    },
    {
      "cell_type": "code",
      "metadata": {
        "id": "J6WEVQFkHanC",
        "colab": {
          "base_uri": "https://localhost:8080/"
        },
        "outputId": "a683b4c0-2c90-44c5-e842-40b08b82aaec"
      },
      "source": [
        "print(four_tags.head())"
      ],
      "execution_count": null,
      "outputs": [
        {
          "output_type": "stream",
          "text": [
            "43     [story, author_alamgir_mand, story_7813869, sh...\n",
            "86       [story, author_cweagans, story_7812404, ask_hn]\n",
            "104    [story, author_nightstrike789, story_7812099, ...\n",
            "107    [story, author_ISeemToBeAVerb, story_7812048, ...\n",
            "109       [story, author_Swizec, story_7812018, show_hn]\n",
            "Name: tags, dtype: object\n"
          ],
          "name": "stdout"
        }
      ]
    },
    {
      "cell_type": "markdown",
      "metadata": {
        "id": "_pwnpX2DHc8x"
      },
      "source": [
        "It looks like whenever there are four tags, the extra tag is the last of the four. In this final exercise of the mission, we're going to use a lambda function to extract this fourth value in cases where there is one. To do this for any single list, we'll need to:\n",
        "- Check the length of the list.\n",
        "- If the length of the list is equal to four, return the last value.\n",
        "- If the length of the list isn't equal to four, return a null value."
      ]
    },
    {
      "cell_type": "markdown",
      "metadata": {
        "id": "yvUZ0RMQjOMB"
      },
      "source": [
        "This is how we could create this as a standard function:"
      ]
    },
    {
      "cell_type": "code",
      "metadata": {
        "id": "GQrT-zazHpuf"
      },
      "source": [
        "def extract_tag(l):\n",
        "    if len(l) == 4:\n",
        "        return l[-1]\n",
        "    else:\n",
        "        return None"
      ],
      "execution_count": null,
      "outputs": []
    },
    {
      "cell_type": "markdown",
      "metadata": {
        "id": "jNbrSnc6jOZM"
      },
      "source": [
        "We could use `Series.apply()` to apply this function as is, but to practice working with lambda functions, let's look at how we can complete this operation in a single line.\n",
        "\n"
      ]
    },
    {
      "cell_type": "markdown",
      "metadata": {
        "id": "OmHWZuRBHwYO"
      },
      "source": [
        "To achieve this, we'll have to use a special version of an if statement known as a **ternary operator**. You can use the ternary operator whenever you need to return one of two values depending on a boolean expression. The syntax is as follows:\n",
        "```\n",
        "[on_true] if [expression] else [on_false]\n",
        "```"
      ]
    },
    {
      "cell_type": "markdown",
      "metadata": {
        "id": "EHFPX_jXH4r-"
      },
      "source": [
        "The diagram below shows our function using an if statement and its ternary operator equivalent:\n",
        "\n",
        "![img](https://s3.amazonaws.com/dq-content/355/ternary_operator_eg.svg)"
      ]
    },
    {
      "cell_type": "markdown",
      "metadata": {
        "id": "3o9sDl0vH_SO"
      },
      "source": [
        "Let's finish by creating a lambda function version of this function and using apply to extract the tags."
      ]
    },
    {
      "cell_type": "markdown",
      "metadata": {
        "id": "cGTbaW3iIAZw"
      },
      "source": [
        "**Instructions:**\n",
        "\n",
        "We have provided a function that uses a ternary operator to provide the logic to extract the tags.\n",
        "\n",
        "1. Use `Series.apply()` and a lambda function to extract the tag data from `tags`:\n",
        " - Where the item is a list with length four, return the last item.\n",
        " - In all other cases, return `None`.\n",
        " - Assign the result to `cleaned_tags`.\n",
        "2. Assign the `cleaned_tags` series to the `tags` column of the `hn_df` dataframe."
      ]
    },
    {
      "cell_type": "code",
      "metadata": {
        "id": "e9djNmgsIPbu"
      },
      "source": [
        "# Provided code\n",
        "def extract_tag(l):\n",
        "    return l[-1] if len(l) == 4 else None"
      ],
      "execution_count": null,
      "outputs": []
    },
    {
      "cell_type": "code",
      "metadata": {
        "id": "L2hWS4M1w2Ls"
      },
      "source": [
        "# Answer:\n"
      ],
      "execution_count": null,
      "outputs": []
    },
    {
      "cell_type": "markdown",
      "metadata": {
        "id": "N6f6hM58ITma"
      },
      "source": [
        "---\n",
        "\n",
        "Congratulations, you've reached the end of the mission! Let's quickly recap the techniques we learned:\n",
        "\n",
        "- How to read and work with JSON data.\n",
        "- How to use list comprehensions to extract specific values from JSON objects\n",
        "- Some of the theory behind passing functions as arguments.\n",
        "- How to create single-use lambda functions.\n",
        "- How to use lambda functions in pandas to extract tags from Hacker News stories.\n",
        "\n",
        "A lot of these techniques allow us to take code that was three to four lines long and write it in a single line of code. This is a really neat trick, and it can be tempting to start trying to write your code in as few lines as possible.\n",
        "\n",
        "While this can be fun, it's useful to keep in mind you should always balance brevity with readability. When you write code, one of your highest priorities should be to make it readable. The importance of making your code accessible to others shouldn't be underrated; the person reading your code might be a colleague you're collaborating with, a potential employer looking at your portfolio, or yourself in six months when you have forgotten the details of why you wrote what.\n",
        "\n",
        "In some cases, employing the techniques you will learn in this mission will make your code more readable, but using them for more complex scenarios can have the opposite effect. Try to keep this in mind as you continue to work through missions and when employing these techniques outside Dataquest.\n",
        "\n",
        "In the final mission of the course, we'll learn techniques to fill missing values in data."
      ]
    }
  ]
}