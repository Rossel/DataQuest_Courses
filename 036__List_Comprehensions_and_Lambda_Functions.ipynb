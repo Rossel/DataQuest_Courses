{
  "nbformat": 4,
  "nbformat_minor": 0,
  "metadata": {
    "colab": {
      "name": "036__List_Comprehensions_and_Lambda_Functions.ipynb",
      "provenance": [],
      "authorship_tag": "ABX9TyNZO4ZyhGJnbh4JXIThAUfW",
      "include_colab_link": true
    },
    "kernelspec": {
      "name": "python3",
      "display_name": "Python 3"
    }
  },
  "cells": [
    {
      "cell_type": "markdown",
      "metadata": {
        "id": "view-in-github",
        "colab_type": "text"
      },
      "source": [
        "<a href=\"https://colab.research.google.com/github/Rossel/DataQuest_Courses/blob/master/036__List_Comprehensions_and_Lambda_Functions.ipynb\" target=\"_parent\"><img src=\"https://colab.research.google.com/assets/colab-badge.svg\" alt=\"Open In Colab\"/></a>"
      ]
    },
    {
      "cell_type": "markdown",
      "metadata": {
        "id": "6PWQ-EVGT2s_"
      },
      "source": [
        "# COURSE 5/6: DATA CLEANING IN PYTHON: ADVANCED"
      ]
    },
    {
      "cell_type": "markdown",
      "metadata": {
        "id": "THaX315BT2wD"
      },
      "source": [
        "# MISSION 3: List Comprehensions and Lambda Functions"
      ]
    },
    {
      "cell_type": "markdown",
      "metadata": {
        "id": "YxK6_yCfTJak"
      },
      "source": [
        "Learn techniques to turbo-charge working with data in Python"
      ]
    },
    {
      "cell_type": "markdown",
      "metadata": {
        "id": "nfk12M-4TwZU"
      },
      "source": [
        "## 1. The JSON Format"
      ]
    },
    {
      "cell_type": "markdown",
      "metadata": {
        "id": "S1EKg_6cTwuj"
      },
      "source": [
        ""
      ]
    },
    {
      "cell_type": "markdown",
      "metadata": {
        "id": "xJ8x3VsFTwyw"
      },
      "source": [
        "## 2. Reading a JSON file"
      ]
    },
    {
      "cell_type": "markdown",
      "metadata": {
        "id": "J1rmPpKITw17"
      },
      "source": [
        ""
      ]
    },
    {
      "cell_type": "markdown",
      "metadata": {
        "id": "ot9J9gZWTw82"
      },
      "source": [
        "## 3. Deleting Dictionary Keys"
      ]
    },
    {
      "cell_type": "markdown",
      "metadata": {
        "id": "tfmXU6cZTxAL"
      },
      "source": [
        ""
      ]
    },
    {
      "cell_type": "markdown",
      "metadata": {
        "id": "Ydw0C16ETxDq"
      },
      "source": [
        "## 4. Writing List Comprehensions"
      ]
    },
    {
      "cell_type": "markdown",
      "metadata": {
        "id": "Xl3ZY9YBTxGx"
      },
      "source": [
        ""
      ]
    },
    {
      "cell_type": "markdown",
      "metadata": {
        "id": "Z7o7S_srTxKM"
      },
      "source": [
        "## 5. Using List Comprehensions to Transform and Create Lists"
      ]
    },
    {
      "cell_type": "markdown",
      "metadata": {
        "id": "H2IGl0l8TxNK"
      },
      "source": [
        ""
      ]
    },
    {
      "cell_type": "markdown",
      "metadata": {
        "id": "M-7hogKFTxQs"
      },
      "source": [
        "## 6. Using List Comprehensions to Reduce a List"
      ]
    },
    {
      "cell_type": "markdown",
      "metadata": {
        "id": "nFY3kpEzTxUa"
      },
      "source": [
        ""
      ]
    },
    {
      "cell_type": "markdown",
      "metadata": {
        "id": "v9jQLqKlTxYJ"
      },
      "source": [
        "## 7. Passing Functions as Arguments"
      ]
    },
    {
      "cell_type": "markdown",
      "metadata": {
        "id": "ArL1A7rVTxbe"
      },
      "source": [
        ""
      ]
    },
    {
      "cell_type": "markdown",
      "metadata": {
        "id": "Opy4pKDxTxeY"
      },
      "source": [
        "## 8. Lambda Functions"
      ]
    },
    {
      "cell_type": "markdown",
      "metadata": {
        "id": "eS7qwfPjTxiS"
      },
      "source": [
        ""
      ]
    },
    {
      "cell_type": "markdown",
      "metadata": {
        "id": "uYZ9lx0mTxlq"
      },
      "source": [
        "## 9. Using Lambda Functions to Analyze JSON data"
      ]
    },
    {
      "cell_type": "markdown",
      "metadata": {
        "id": "yie3KLnXTxpA"
      },
      "source": [
        ""
      ]
    },
    {
      "cell_type": "markdown",
      "metadata": {
        "id": "1i3_IxU-TxsP"
      },
      "source": [
        "## 10. Reading JSON files into pandas"
      ]
    },
    {
      "cell_type": "markdown",
      "metadata": {
        "id": "hSaTu5KkTxvv"
      },
      "source": [
        ""
      ]
    },
    {
      "cell_type": "markdown",
      "metadata": {
        "id": "spt9MKRTTxzG"
      },
      "source": [
        "## 11. Exploring Tags Using the Apply Function"
      ]
    },
    {
      "cell_type": "markdown",
      "metadata": {
        "id": "UpkA4xIOTx2B"
      },
      "source": [
        ""
      ]
    },
    {
      "cell_type": "markdown",
      "metadata": {
        "id": "iVIx8gfrTx53"
      },
      "source": [
        "## 12. Extracting Tags Using Apply with a Lambda Function"
      ]
    },
    {
      "cell_type": "markdown",
      "metadata": {
        "id": "2aFTLOyVjN_6"
      },
      "source": [
        ""
      ]
    },
    {
      "cell_type": "markdown",
      "metadata": {
        "id": "yvUZ0RMQjOMB"
      },
      "source": [
        ""
      ]
    },
    {
      "cell_type": "markdown",
      "metadata": {
        "id": "jNbrSnc6jOZM"
      },
      "source": [
        ""
      ]
    }
  ]
}