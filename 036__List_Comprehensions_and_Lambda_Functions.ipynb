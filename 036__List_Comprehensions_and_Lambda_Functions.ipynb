{
  "nbformat": 4,
  "nbformat_minor": 0,
  "metadata": {
    "colab": {
      "name": "036__List_Comprehensions_and_Lambda_Functions.ipynb",
      "provenance": [],
      "authorship_tag": "ABX9TyMEY6Peg80ORqmu3BDM+p51",
      "include_colab_link": true
    },
    "kernelspec": {
      "name": "python3",
      "display_name": "Python 3"
    }
  },
  "cells": [
    {
      "cell_type": "markdown",
      "metadata": {
        "id": "view-in-github",
        "colab_type": "text"
      },
      "source": [
        "<a href=\"https://colab.research.google.com/github/Rossel/DataQuest_Courses/blob/master/036__List_Comprehensions_and_Lambda_Functions.ipynb\" target=\"_parent\"><img src=\"https://colab.research.google.com/assets/colab-badge.svg\" alt=\"Open In Colab\"/></a>"
      ]
    },
    {
      "cell_type": "markdown",
      "metadata": {
        "id": "6PWQ-EVGT2s_"
      },
      "source": [
        "# COURSE 5/6: DATA CLEANING IN PYTHON: ADVANCED"
      ]
    },
    {
      "cell_type": "markdown",
      "metadata": {
        "id": "THaX315BT2wD"
      },
      "source": [
        "# MISSION 3: List Comprehensions and Lambda Functions"
      ]
    },
    {
      "cell_type": "markdown",
      "metadata": {
        "id": "YxK6_yCfTJak"
      },
      "source": [
        "Learn techniques to turbo-charge working with data in Python"
      ]
    },
    {
      "cell_type": "markdown",
      "metadata": {
        "id": "nfk12M-4TwZU"
      },
      "source": [
        "## 1. The JSON Format"
      ]
    },
    {
      "cell_type": "markdown",
      "metadata": {
        "id": "S1EKg_6cTwuj"
      },
      "source": [
        "So far, we've learned how to use regular expressions to make cleaning and analyzing text data easier.\n",
        "\n",
        "In this mission, we'll learn some tips and syntax shortcuts we can use on top of everything we've learned, including:\n",
        "\n",
        "- Creating list comprehensions to replace loops with a single line of code.\n",
        "- Creating single use functions called lambda functions.\n",
        "\n",
        "The data set we'll use in this mission is in a format called [JavaScript Object Notation](https://www.json.org/) (JSON). As the name indicates, JSON originated from the JavaScript language, but has now become a language-independent format.\n",
        "\n",
        "From a Python perspective, JSON can be thought as a collection of Python objects nested inside each other.\n",
        "\n",
        "![img](https://s3.amazonaws.com/dq-content/355/json.svg)"
      ]
    },
    {
      "cell_type": "markdown",
      "metadata": {
        "id": "jGbUCUHMW71T"
      },
      "source": [
        "The JSON above is a list, where each element in the list is a dictionary. Each of the dictionaries have the same keys, and one of the values of each dictionary is itself a list.\n",
        "\n",
        "The Python `json` [module](https://docs.python.org/3.7/library/json.html#module-json) contains a number of functions to make working with JSON objects easier. We can use the `json.loads()` [method](https://docs.python.org/3.7/library/json.html#json.loads) to convert JSON data contained in a string to the equivalent set of Python objects:"
      ]
    },
    {
      "cell_type": "code",
      "metadata": {
        "colab": {
          "base_uri": "https://localhost:8080/"
        },
        "id": "IaMyYHmhXY6f",
        "outputId": "ec47eb2d-81f9-411b-fab9-9ce2b4e60a02"
      },
      "source": [
        "json_string = \"\"\"\n",
        "[\n",
        "  {\n",
        "    \"name\": \"Sabine\",\n",
        "    \"age\": 36,\n",
        "    \"favorite_foods\": [\"Pumpkin\", \"Oatmeal\"]\n",
        "  },\n",
        "  {\n",
        "    \"name\": \"Zoe\",\n",
        "    \"age\": 40,\n",
        "    \"favorite_foods\": [\"Chicken\", \"Pizza\", \"Chocolate\"]\n",
        "  },\n",
        "  {\n",
        "    \"name\": \"Heidi\",\n",
        "    \"age\": 40,\n",
        "    \"favorite_foods\": [\"Caesar Salad\"]\n",
        "  }\n",
        "]\n",
        "\"\"\"\n",
        "\n",
        "import json\n",
        "json_obj = json.loads(json_string)\n",
        "print(type(json_obj))"
      ],
      "execution_count": 1,
      "outputs": [
        {
          "output_type": "stream",
          "text": [
            "<class 'list'>\n"
          ],
          "name": "stdout"
        }
      ]
    },
    {
      "cell_type": "markdown",
      "metadata": {
        "id": "ORdvjlI8Xifa"
      },
      "source": [
        "We can see that `json_string` has turned into a list. Let's take a look at the values in the list:\n",
        "\n"
      ]
    },
    {
      "cell_type": "code",
      "metadata": {
        "colab": {
          "base_uri": "https://localhost:8080/"
        },
        "id": "Gnb2SVEoXlKH",
        "outputId": "37d2248e-3f05-4c4c-fb8a-a24e8a8b2c5a"
      },
      "source": [
        "print(json_obj)"
      ],
      "execution_count": 2,
      "outputs": [
        {
          "output_type": "stream",
          "text": [
            "[{'name': 'Sabine', 'age': 36, 'favorite_foods': ['Pumpkin', 'Oatmeal']}, {'name': 'Zoe', 'age': 40, 'favorite_foods': ['Chicken', 'Pizza', 'Chocolate']}, {'name': 'Heidi', 'age': 40, 'favorite_foods': ['Caesar Salad']}]\n"
          ],
          "name": "stdout"
        }
      ]
    },
    {
      "cell_type": "markdown",
      "metadata": {
        "id": "VoH0n-pJXqRQ"
      },
      "source": [
        "We can observe a few things:\n",
        "\n",
        "- The formatting from our original string is gone. This is because printing Python lists and dictionaries has a simple formatting structure.\n",
        "- The order of the keys in the dictionary have changed. This is because (prior to version 3.6) Python dictionaries don't have fixed order.\n",
        "\n",
        "Let's practice using `json.loads()` to convert JSON data from a string to Python objects!\n",
        "\n"
      ]
    },
    {
      "cell_type": "markdown",
      "metadata": {
        "id": "VnGl6VCaXu77"
      },
      "source": [
        "**Instructions:**\n",
        "\n",
        "We have created a JSON string, `world_cup_str`, which contains data about games from the 2018 Football World Cup.\n",
        "\n",
        "1. Import the `json` module.\n",
        "2. Use `json.loads()` to convert `world_cup_str` to a Python object. Assign the result to world_cup_obj."
      ]
    },
    {
      "cell_type": "code",
      "metadata": {
        "id": "k2EgcIL40Wx-"
      },
      "source": [
        ""
      ],
      "execution_count": 2,
      "outputs": []
    },
    {
      "cell_type": "code",
      "metadata": {
        "id": "7zbhVrbR2n44"
      },
      "source": [
        "# Code to read csv file into Colaboratory:\n",
        "!pip install -U -q PyDrive\n",
        "from pydrive.auth import GoogleAuth\n",
        "from pydrive.drive import GoogleDrive\n",
        "from google.colab import auth\n",
        "from oauth2client.client import GoogleCredentials\n",
        "# Authenticate and create the PyDrive client.\n",
        "auth.authenticate_user()\n",
        "gauth = GoogleAuth()\n",
        "gauth.credentials = GoogleCredentials.get_application_default()\n",
        "drive = GoogleDrive(gauth)"
      ],
      "execution_count": 3,
      "outputs": []
    },
    {
      "cell_type": "code",
      "metadata": {
        "id": "mQVsg_sh2o4j"
      },
      "source": [
        "# Once you have completed verification, go to the CSV file in Google Drive, right-click on it and select “Get shareable link”, and cut out the unique id in the link.\n",
        "# https://drive.google.com/file/d/1J3gYozddULmvWfprsTXK9Ga3V74UpaJe/view?usp=sharing\n",
        "id = \"1J3gYozddULmvWfprsTXK9Ga3V74UpaJe\""
      ],
      "execution_count": 4,
      "outputs": []
    },
    {
      "cell_type": "code",
      "metadata": {
        "id": "qgFvCD-32wdh"
      },
      "source": [
        "# Download the dataset\n",
        "downloaded = drive.CreateFile({'id':id}) \n",
        "downloaded.GetContentFile('hn_2014.json')"
      ],
      "execution_count": 5,
      "outputs": []
    },
    {
      "cell_type": "markdown",
      "metadata": {
        "id": "xJ8x3VsFTwyw"
      },
      "source": [
        "## 2. Reading a JSON file"
      ]
    },
    {
      "cell_type": "markdown",
      "metadata": {
        "id": "J1rmPpKITw17"
      },
      "source": [
        "One of the places where the JSON format is commonly used is in the results returned by an [Application programming interface](https://en.wikipedia.org/wiki/Application_programming_interface) (**API**). APIs are interfaces that can be used to send and transmit data between different computer systems. We'll learn about how to work with APIs in a later course."
      ]
    },
    {
      "cell_type": "markdown",
      "metadata": {
        "id": "zPGYt9e-0hST"
      },
      "source": [
        "The data set from this mission — `hn_2014.json` — was downloaded from the Hacker News API. It's a different set of data from the CSV we've been using in the previous two missions, and it contains data about stories from Hacker News in 2014."
      ]
    },
    {
      "cell_type": "markdown",
      "metadata": {
        "id": "Of0SO5Dj00FV"
      },
      "source": [
        "To read a file from JSON format, we use the `json.load()` [function](https://docs.python.org/3.7/library/json.html#json.load). Note that the function is `json.load()` without an \"s\" at the end. The `json.loads()` function is used for loading JSON data from a string (\"loads\" is short for \"load string\"), whereas the `json.load()` function is used to load from a file object. Let's look at how we would read that in our data:\n",
        "\n"
      ]
    },
    {
      "cell_type": "code",
      "metadata": {
        "colab": {
          "base_uri": "https://localhost:8080/"
        },
        "id": "-u5tJgpT089S",
        "outputId": "5b436f9a-90cd-45f5-8814-e39106bb57f5"
      },
      "source": [
        "import json\n",
        "file = open(\"hn_2014.json\")\n",
        "hn = json.load(file)\n",
        "\n",
        "print(type(hn))"
      ],
      "execution_count": 6,
      "outputs": [
        {
          "output_type": "stream",
          "text": [
            "<class 'list'>\n"
          ],
          "name": "stdout"
        }
      ]
    },
    {
      "cell_type": "markdown",
      "metadata": {
        "id": "p0WzSS3uRRjq"
      },
      "source": [
        "Our `hn` variable is a list. Let's find out how many objects are in the list, and the type of the first object (which will almost always be the type of every object in the list in JSON data):"
      ]
    },
    {
      "cell_type": "code",
      "metadata": {
        "colab": {
          "base_uri": "https://localhost:8080/"
        },
        "id": "rFlrxPL6RWML",
        "outputId": "ab89aac9-65db-4a8b-c3e7-6b8bf6e8d8ef"
      },
      "source": [
        "print(len(hn))\n",
        "print(type(hn[0]))"
      ],
      "execution_count": 7,
      "outputs": [
        {
          "output_type": "stream",
          "text": [
            "35806\n",
            "<class 'dict'>\n"
          ],
          "name": "stdout"
        }
      ]
    },
    {
      "cell_type": "markdown",
      "metadata": {
        "id": "haXNrIDgRnio"
      },
      "source": [
        "Our data set contains 35,806 dictionary objects, each representing a Hacker News story. In order to understand the format of our data set, we'll print the keys of the first dictionary:"
      ]
    },
    {
      "cell_type": "code",
      "metadata": {
        "colab": {
          "base_uri": "https://localhost:8080/"
        },
        "id": "bq_SJDZ7RqBc",
        "outputId": "0f100553-eaf7-4a33-b78c-8f8a3c383819"
      },
      "source": [
        "print(hn[0].keys())"
      ],
      "execution_count": 8,
      "outputs": [
        {
          "output_type": "stream",
          "text": [
            "dict_keys(['author', 'numComments', 'points', 'url', 'storyText', 'createdAt', 'tags', 'createdAtI', 'title', 'objectId'])\n"
          ],
          "name": "stdout"
        }
      ]
    },
    {
      "cell_type": "markdown",
      "metadata": {
        "id": "P0LUAcwtRpiz"
      },
      "source": [
        "If we recall the data set we used in the previous two missions, we can see some similarities. There are keys representing the title, URL, points, number of comments, and date, as well as some others that are less familiar to us. Here is a summary of the keys and the data that they contain:\n",
        "\n",
        "- `author`: The username of the person who submitted the story.\n",
        "- `createdAt`: The date and time at which the story was created.\n",
        "- `createdAtI`: An integer value representing the date and time at which the story was created.\n",
        "- `numComments`: The number of comments that were made on the story.\n",
        "- `objectId`: The unique identifier from Hacker News for the story.\n",
        "- `points`: The number of points the story acquired, calculated as the total number of upvotes minus the total number of downvotes.\n",
        "- `storyText`: The text of the story (if the story contains text).\n",
        "- `tags`: A list of tags associated with the story.\n",
        "- `title`: The title of the story.\n",
        "- `url`: The URL that the story links to (if the story links to a URL).\n",
        "\n",
        "Let's start by reading our Hacker News JSON file:\n",
        "\n"
      ]
    },
    {
      "cell_type": "markdown",
      "metadata": {
        "id": "YqU1Vrd8SJYj"
      },
      "source": [
        "**Instructions:**\n",
        "\n",
        "The json module remains imported from the previous screen.\n",
        "\n",
        "1. Use the `open()` [function](https://docs.python.org/3.7/library/functions.html#open) to open the `hn_2014.json` file as a file object.\n",
        "2. Use the `json.load()` function to parse the file object and assign the result to `hn`."
      ]
    },
    {
      "cell_type": "code",
      "metadata": {
        "id": "1mktA-N_nM8a"
      },
      "source": [
        ""
      ],
      "execution_count": 8,
      "outputs": []
    },
    {
      "cell_type": "markdown",
      "metadata": {
        "id": "ot9J9gZWTw82"
      },
      "source": [
        "## 3. Deleting Dictionary Keys"
      ]
    },
    {
      "cell_type": "markdown",
      "metadata": {
        "id": "0YD_LUTGnNfs"
      },
      "source": [
        "Let's look at the first dictionary in full. To make it easier to understand, we're going to create a function which will print a JSON object with formatting to make it easier to read.\n",
        "\n",
        "The function will use the `json.dumps()` [function](https://docs.python.org/3.7/library/json.html#json.dumps) (\"dump string\") which does the opposite of the `json.loads()` function — it takes a JSON object and returns a string version of it. The `json.dumps()` function accepts arguments that can specify formatting for the string, which we'll use to make things easier to read:\n",
        "\n"
      ]
    },
    {
      "cell_type": "code",
      "metadata": {
        "colab": {
          "base_uri": "https://localhost:8080/"
        },
        "id": "ekkwootqnZvm",
        "outputId": "77cdc73b-4917-4eef-bd6e-34db07c820ae"
      },
      "source": [
        "def jprint(obj):\n",
        "    # create a formatted string of the Python JSON object\n",
        "    text = json.dumps(obj, sort_keys=True, indent=4)\n",
        "    print(text)\n",
        "\n",
        "first_story = hn[0]\n",
        "jprint(first_story)"
      ],
      "execution_count": 9,
      "outputs": [
        {
          "output_type": "stream",
          "text": [
            "{\n",
            "    \"author\": \"dragongraphics\",\n",
            "    \"createdAt\": \"2014-05-29T08:07:50Z\",\n",
            "    \"createdAtI\": 1401350870,\n",
            "    \"numComments\": 0,\n",
            "    \"objectId\": \"7815238\",\n",
            "    \"points\": 2,\n",
            "    \"storyText\": \"\",\n",
            "    \"tags\": [\n",
            "        \"story\",\n",
            "        \"author_dragongraphics\",\n",
            "        \"story_7815238\"\n",
            "    ],\n",
            "    \"title\": \"Are we getting too Sassy? Weighing up micro-optimisation vs. maintainability\",\n",
            "    \"url\": \"http://ashleynolan.co.uk/blog/are-we-getting-too-sassy\"\n",
            "}\n"
          ],
          "name": "stdout"
        }
      ]
    },
    {
      "cell_type": "markdown",
      "metadata": {
        "id": "s4jePb1Pqm3q"
      },
      "source": [
        "You may notice that the `createdAt` and `createdAtI` keys both have the date and time data in two different formats. Because the format of `createdAt` is much easier to understand, let's do some data cleaning by deleting the `createdAtI` key from every dictionary.\n",
        "\n",
        "To delete a key from a dictionary, we can use the `del` [statement](https://docs.python.org/3.7/reference/simple_stmts.html#del). Let's learn the syntax by looking at a simple example:"
      ]
    },
    {
      "cell_type": "code",
      "metadata": {
        "colab": {
          "base_uri": "https://localhost:8080/"
        },
        "id": "yINCl0ksqxvY",
        "outputId": "1819e38c-2e7a-432a-d82e-a0d7667cf4c9"
      },
      "source": [
        "d = {'a': 1, 'b': 2, 'c': 3}\n",
        "del d['a']\n",
        "print(d)"
      ],
      "execution_count": 15,
      "outputs": [
        {
          "output_type": "stream",
          "text": [
            "{'b': 2, 'c': 3}\n"
          ],
          "name": "stdout"
        }
      ]
    },
    {
      "cell_type": "markdown",
      "metadata": {
        "id": "e4xRiaYqq3tP"
      },
      "source": [
        "We can create a function using `del` that will return a copy of our dictionary with the key removed:"
      ]
    },
    {
      "cell_type": "code",
      "metadata": {
        "id": "MLw9yj9sq6mQ"
      },
      "source": [
        "def del_key(dict_, key):\n",
        "    # create a copy so we don't\n",
        "    # modify the original dict\n",
        "    modified_dict = dict_.copy()\n",
        "    del modified_dict[key]\n",
        "    return modified_dict"
      ],
      "execution_count": 16,
      "outputs": []
    },
    {
      "cell_type": "markdown",
      "metadata": {
        "id": "2C_smGbEq_J7"
      },
      "source": [
        "Let's use this function to delete the `createdAtI` key from first_story:"
      ]
    },
    {
      "cell_type": "code",
      "metadata": {
        "colab": {
          "base_uri": "https://localhost:8080/"
        },
        "id": "8gcXhgVPrAxd",
        "outputId": "6d8d8edd-c36f-45d7-9fd7-f1b62554cf21"
      },
      "source": [
        "first_story = del_key(first_story, 'createdAtI')\n",
        "jprint(first_story)"
      ],
      "execution_count": 17,
      "outputs": [
        {
          "output_type": "stream",
          "text": [
            "{\n",
            "    \"author\": \"dragongraphics\",\n",
            "    \"createdAt\": \"2014-05-29T08:07:50Z\",\n",
            "    \"numComments\": 0,\n",
            "    \"objectId\": \"7815238\",\n",
            "    \"points\": 2,\n",
            "    \"storyText\": \"\",\n",
            "    \"tags\": [\n",
            "        \"story\",\n",
            "        \"author_dragongraphics\",\n",
            "        \"story_7815238\"\n",
            "    ],\n",
            "    \"title\": \"Are we getting too Sassy? Weighing up micro-optimisation vs. maintainability\",\n",
            "    \"url\": \"http://ashleynolan.co.uk/blog/are-we-getting-too-sassy\"\n",
            "}\n"
          ],
          "name": "stdout"
        }
      ]
    },
    {
      "cell_type": "markdown",
      "metadata": {
        "id": "HxLILD_mrD4l"
      },
      "source": [
        "The dictionary returned by the function no longer includes the `createdAtI` key.\n",
        "\n",
        "Let's use a loop and the `del_key()` function to remove the `createdAtI` key from every story in our Hacker News data set"
      ]
    },
    {
      "cell_type": "markdown",
      "metadata": {
        "id": "S_Ti1ZMNncJV"
      },
      "source": [
        "**Instructions:**\n",
        "\n"
      ]
    },
    {
      "cell_type": "code",
      "metadata": {
        "id": "nY3nta3CSdrm"
      },
      "source": [
        "# Answer so the next code works\n",
        "\n",
        "def del_key(dict_, key):\n",
        "    # create a copy so we don't\n",
        "    # modify the original dict\n",
        "    modified_dict = dict_.copy()\n",
        "    del modified_dict[key]\n",
        "    return modified_dict\n",
        "hn_clean = []\n",
        "\n",
        "for d in hn:\n",
        "    new_d = del_key(d, 'createdAtI')\n",
        "    hn_clean.append(new_d)"
      ],
      "execution_count": 10,
      "outputs": []
    },
    {
      "cell_type": "markdown",
      "metadata": {
        "id": "Ls6_17KFnHGG"
      },
      "source": [
        "## 4. Writing List Comprehensions"
      ]
    },
    {
      "cell_type": "markdown",
      "metadata": {
        "id": "hdZMwCOEnHGM"
      },
      "source": [
        ""
      ]
    },
    {
      "cell_type": "markdown",
      "metadata": {
        "id": "tfmXU6cZTxAL"
      },
      "source": [
        "Here is the solution code from the previous screen:"
      ]
    },
    {
      "cell_type": "code",
      "metadata": {
        "id": "vBpIZP8iX4Ac"
      },
      "source": [
        "hn_clean = []\n",
        "\n",
        "for d in hn:\n",
        "    new_d = del_key(d, 'createdAtI')\n",
        "    hn_clean.append(new_d)"
      ],
      "execution_count": 11,
      "outputs": []
    },
    {
      "cell_type": "markdown",
      "metadata": {
        "id": "QuGDU0-jYf1W"
      },
      "source": [
        "The task we performed is an extremely common one. Specifically, we:\n",
        "\n",
        "- Iterated over values in a list.\n",
        "- Performed a transformation on those values.\n",
        "- Assigned the result to a new list.\n",
        "\n",
        "Python includes a special syntax shortcut for tasks that meet these criteria: **List Comprehensions**. A list comprehension provides a concise way of creating lists in a single line of code.\n",
        "\n"
      ]
    },
    {
      "cell_type": "markdown",
      "metadata": {
        "id": "hJl3vMgQYlN2"
      },
      "source": [
        "List comprehensions can look complex at first, but we are simply reordering the elements of our for loop code. To keep things simple, we'll start with a basic example, where we want to add 1 to each item in a list of integers."
      ]
    },
    {
      "cell_type": "code",
      "metadata": {
        "colab": {
          "base_uri": "https://localhost:8080/"
        },
        "id": "eZn51F27YpmH",
        "outputId": "8718f410-1452-469e-a011-d7967f41431e"
      },
      "source": [
        "ints = [1, 2, 3, 4]\n",
        "\n",
        "plus_one = []\n",
        "for i in ints:\n",
        "    plus_one.append(i + 1)\n",
        "\n",
        "print(plus_one)"
      ],
      "execution_count": 12,
      "outputs": [
        {
          "output_type": "stream",
          "text": [
            "[2, 3, 4, 5]\n"
          ],
          "name": "stdout"
        }
      ]
    },
    {
      "cell_type": "markdown",
      "metadata": {
        "id": "izRZ75FgYu7W"
      },
      "source": [
        "Let's start by labeling the three main parts of our loop:\n",
        "![img](https://s3.amazonaws.com/dq-content/355/loop_components.svg)\n",
        "\n",
        "To transform this structure into a list comprehension, we do the following within brackets:\n",
        "\n",
        "- Start with the code that transforms each item.\n",
        "- Continue with our for statement (without a colon)."
      ]
    },
    {
      "cell_type": "markdown",
      "metadata": {
        "id": "PVIcSsbWYy4k"
      },
      "source": [
        "We can then assign the list comprehension to a variable name. The animation below shows how we convert the manual loop version to a list comprehension.\n",
        "![img](https://s3.amazonaws.com/dq-content/355/list_comp_anim.svg)"
      ]
    },
    {
      "cell_type": "markdown",
      "metadata": {
        "id": "T-kTVMPrZEXl"
      },
      "source": [
        "Let's look at a second example, where we want to multiply each item in the list by 10:"
      ]
    },
    {
      "cell_type": "code",
      "metadata": {
        "colab": {
          "base_uri": "https://localhost:8080/"
        },
        "id": "UeyPdanMZFoe",
        "outputId": "0e93485e-4c0b-4309-c43a-3bd625d2447e"
      },
      "source": [
        "times_ten = []\n",
        "for i in ints:\n",
        "    times_ten.append(i * 10)\n",
        "\n",
        "print(times_ten)"
      ],
      "execution_count": 13,
      "outputs": [
        {
          "output_type": "stream",
          "text": [
            "[10, 20, 30, 40]\n"
          ],
          "name": "stdout"
        }
      ]
    },
    {
      "cell_type": "markdown",
      "metadata": {
        "id": "Y-Pb1MMWZJdG"
      },
      "source": [
        "To convert this to a list comprehension, we follow the same pattern:\n",
        "![img](https://s3.amazonaws.com/dq-content/355/loop_vs_lc_2.svg)"
      ]
    },
    {
      "cell_type": "markdown",
      "metadata": {
        "id": "uWlMGnrAZNFY"
      },
      "source": [
        "The \"transformation\" step of our list comprehension can be anything, including a function or method. In the example below, we are applying a function to a list of floats to round them to integers:"
      ]
    },
    {
      "cell_type": "code",
      "metadata": {
        "colab": {
          "base_uri": "https://localhost:8080/"
        },
        "id": "gOa3Tz_DZTSp",
        "outputId": "f562a99b-2221-4a71-b101-652e87edd633"
      },
      "source": [
        "floats = [2.1, 8.7, 4.2, 8.9]\n",
        "\n",
        "rounded = []\n",
        "for f in floats:\n",
        "    rounded.append(round(f))\n",
        "\n",
        "print(rounded)"
      ],
      "execution_count": 14,
      "outputs": [
        {
          "output_type": "stream",
          "text": [
            "[2, 9, 4, 9]\n"
          ],
          "name": "stdout"
        }
      ]
    },
    {
      "cell_type": "markdown",
      "metadata": {
        "id": "lKNY7JvUZXEP"
      },
      "source": [
        "To convert to a list comprehension, we simply rearrange the components:\n",
        "![img](https://s3.amazonaws.com/dq-content/355/loop_vs_lc_3.svg)"
      ]
    },
    {
      "cell_type": "markdown",
      "metadata": {
        "id": "mOYWo4VWZa2-"
      },
      "source": [
        "Just like in a normal loop, we can use any name for our iterator variable. Here, we have used `f`.\n",
        "\n",
        "For the last example, we'll apply a method to each string in a list to capitalize it. We won't color the different components, so we can get used to how that looks.\n",
        "\n"
      ]
    },
    {
      "cell_type": "markdown",
      "metadata": {
        "id": "Z7o7S_srTxKM"
      },
      "source": [
        "## 5. Using List Comprehensions to Transform and Create Lists"
      ]
    },
    {
      "cell_type": "markdown",
      "metadata": {
        "id": "H2IGl0l8TxNK"
      },
      "source": [
        ""
      ]
    },
    {
      "cell_type": "markdown",
      "metadata": {
        "id": "M-7hogKFTxQs"
      },
      "source": [
        "## 6. Using List Comprehensions to Reduce a List"
      ]
    },
    {
      "cell_type": "markdown",
      "metadata": {
        "id": "nFY3kpEzTxUa"
      },
      "source": [
        ""
      ]
    },
    {
      "cell_type": "markdown",
      "metadata": {
        "id": "v9jQLqKlTxYJ"
      },
      "source": [
        "## 7. Passing Functions as Arguments"
      ]
    },
    {
      "cell_type": "markdown",
      "metadata": {
        "id": "ArL1A7rVTxbe"
      },
      "source": [
        ""
      ]
    },
    {
      "cell_type": "markdown",
      "metadata": {
        "id": "Opy4pKDxTxeY"
      },
      "source": [
        "## 8. Lambda Functions"
      ]
    },
    {
      "cell_type": "markdown",
      "metadata": {
        "id": "eS7qwfPjTxiS"
      },
      "source": [
        ""
      ]
    },
    {
      "cell_type": "markdown",
      "metadata": {
        "id": "uYZ9lx0mTxlq"
      },
      "source": [
        "## 9. Using Lambda Functions to Analyze JSON data"
      ]
    },
    {
      "cell_type": "markdown",
      "metadata": {
        "id": "yie3KLnXTxpA"
      },
      "source": [
        ""
      ]
    },
    {
      "cell_type": "markdown",
      "metadata": {
        "id": "1i3_IxU-TxsP"
      },
      "source": [
        "## 10. Reading JSON files into pandas"
      ]
    },
    {
      "cell_type": "markdown",
      "metadata": {
        "id": "hSaTu5KkTxvv"
      },
      "source": [
        ""
      ]
    },
    {
      "cell_type": "markdown",
      "metadata": {
        "id": "spt9MKRTTxzG"
      },
      "source": [
        "## 11. Exploring Tags Using the Apply Function"
      ]
    },
    {
      "cell_type": "markdown",
      "metadata": {
        "id": "UpkA4xIOTx2B"
      },
      "source": [
        ""
      ]
    },
    {
      "cell_type": "markdown",
      "metadata": {
        "id": "iVIx8gfrTx53"
      },
      "source": [
        "## 12. Extracting Tags Using Apply with a Lambda Function"
      ]
    },
    {
      "cell_type": "markdown",
      "metadata": {
        "id": "2aFTLOyVjN_6"
      },
      "source": [
        ""
      ]
    },
    {
      "cell_type": "markdown",
      "metadata": {
        "id": "yvUZ0RMQjOMB"
      },
      "source": [
        ""
      ]
    },
    {
      "cell_type": "markdown",
      "metadata": {
        "id": "jNbrSnc6jOZM"
      },
      "source": [
        ""
      ]
    }
  ]
}