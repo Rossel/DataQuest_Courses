{
  "nbformat": 4,
  "nbformat_minor": 0,
  "metadata": {
    "colab": {
      "name": "036__List_Comprehensions_and_Lambda_Functions.ipynb",
      "provenance": [],
      "authorship_tag": "ABX9TyPmLCfXW7Bu/yvCgS9bsiHd",
      "include_colab_link": true
    },
    "kernelspec": {
      "name": "python3",
      "display_name": "Python 3"
    }
  },
  "cells": [
    {
      "cell_type": "markdown",
      "metadata": {
        "id": "view-in-github",
        "colab_type": "text"
      },
      "source": [
        "<a href=\"https://colab.research.google.com/github/Rossel/DataQuest_Courses/blob/master/036__List_Comprehensions_and_Lambda_Functions.ipynb\" target=\"_parent\"><img src=\"https://colab.research.google.com/assets/colab-badge.svg\" alt=\"Open In Colab\"/></a>"
      ]
    },
    {
      "cell_type": "markdown",
      "metadata": {
        "id": "6PWQ-EVGT2s_"
      },
      "source": [
        "# COURSE 5/6: DATA CLEANING IN PYTHON: ADVANCED"
      ]
    },
    {
      "cell_type": "markdown",
      "metadata": {
        "id": "THaX315BT2wD"
      },
      "source": [
        "# MISSION 3: List Comprehensions and Lambda Functions"
      ]
    },
    {
      "cell_type": "markdown",
      "metadata": {
        "id": "YxK6_yCfTJak"
      },
      "source": [
        "Learn techniques to turbo-charge working with data in Python"
      ]
    },
    {
      "cell_type": "markdown",
      "metadata": {
        "id": "nfk12M-4TwZU"
      },
      "source": [
        "## 1. The JSON Format"
      ]
    },
    {
      "cell_type": "markdown",
      "metadata": {
        "id": "S1EKg_6cTwuj"
      },
      "source": [
        "So far, we've learned how to use regular expressions to make cleaning and analyzing text data easier.\n",
        "\n",
        "In this mission, we'll learn some tips and syntax shortcuts we can use on top of everything we've learned, including:\n",
        "\n",
        "- Creating list comprehensions to replace loops with a single line of code.\n",
        "- Creating single use functions called lambda functions.\n",
        "\n",
        "The data set we'll use in this mission is in a format called [JavaScript Object Notation](https://www.json.org/) (JSON). As the name indicates, JSON originated from the JavaScript language, but has now become a language-independent format.\n",
        "\n",
        "From a Python perspective, JSON can be thought as a collection of Python objects nested inside each other.\n",
        "\n",
        "![img](https://s3.amazonaws.com/dq-content/355/json.svg)"
      ]
    },
    {
      "cell_type": "markdown",
      "metadata": {
        "id": "jGbUCUHMW71T"
      },
      "source": [
        "The JSON above is a list, where each element in the list is a dictionary. Each of the dictionaries have the same keys, and one of the values of each dictionary is itself a list.\n",
        "\n",
        "The Python `json` [module](https://docs.python.org/3.7/library/json.html#module-json) contains a number of functions to make working with JSON objects easier. We can use the `json.loads()` [method](https://docs.python.org/3.7/library/json.html#json.loads) to convert JSON data contained in a string to the equivalent set of Python objects:"
      ]
    },
    {
      "cell_type": "code",
      "metadata": {
        "colab": {
          "base_uri": "https://localhost:8080/"
        },
        "id": "IaMyYHmhXY6f",
        "outputId": "772f3387-afde-4bdb-e9b6-4253d405dfa9"
      },
      "source": [
        "json_string = \"\"\"\n",
        "[\n",
        "  {\n",
        "    \"name\": \"Sabine\",\n",
        "    \"age\": 36,\n",
        "    \"favorite_foods\": [\"Pumpkin\", \"Oatmeal\"]\n",
        "  },\n",
        "  {\n",
        "    \"name\": \"Zoe\",\n",
        "    \"age\": 40,\n",
        "    \"favorite_foods\": [\"Chicken\", \"Pizza\", \"Chocolate\"]\n",
        "  },\n",
        "  {\n",
        "    \"name\": \"Heidi\",\n",
        "    \"age\": 40,\n",
        "    \"favorite_foods\": [\"Caesar Salad\"]\n",
        "  }\n",
        "]\n",
        "\"\"\"\n",
        "\n",
        "import json\n",
        "json_obj = json.loads(json_string)\n",
        "print(type(json_obj))"
      ],
      "execution_count": 1,
      "outputs": [
        {
          "output_type": "stream",
          "text": [
            "<class 'list'>\n"
          ],
          "name": "stdout"
        }
      ]
    },
    {
      "cell_type": "markdown",
      "metadata": {
        "id": "xJ8x3VsFTwyw"
      },
      "source": [
        "## 2. Reading a JSON file"
      ]
    },
    {
      "cell_type": "markdown",
      "metadata": {
        "id": "J1rmPpKITw17"
      },
      "source": [
        ""
      ]
    },
    {
      "cell_type": "markdown",
      "metadata": {
        "id": "ot9J9gZWTw82"
      },
      "source": [
        "## 3. Deleting Dictionary Keys"
      ]
    },
    {
      "cell_type": "markdown",
      "metadata": {
        "id": "tfmXU6cZTxAL"
      },
      "source": [
        ""
      ]
    },
    {
      "cell_type": "markdown",
      "metadata": {
        "id": "Ydw0C16ETxDq"
      },
      "source": [
        "## 4. Writing List Comprehensions"
      ]
    },
    {
      "cell_type": "markdown",
      "metadata": {
        "id": "Xl3ZY9YBTxGx"
      },
      "source": [
        ""
      ]
    },
    {
      "cell_type": "markdown",
      "metadata": {
        "id": "Z7o7S_srTxKM"
      },
      "source": [
        "## 5. Using List Comprehensions to Transform and Create Lists"
      ]
    },
    {
      "cell_type": "markdown",
      "metadata": {
        "id": "H2IGl0l8TxNK"
      },
      "source": [
        ""
      ]
    },
    {
      "cell_type": "markdown",
      "metadata": {
        "id": "M-7hogKFTxQs"
      },
      "source": [
        "## 6. Using List Comprehensions to Reduce a List"
      ]
    },
    {
      "cell_type": "markdown",
      "metadata": {
        "id": "nFY3kpEzTxUa"
      },
      "source": [
        ""
      ]
    },
    {
      "cell_type": "markdown",
      "metadata": {
        "id": "v9jQLqKlTxYJ"
      },
      "source": [
        "## 7. Passing Functions as Arguments"
      ]
    },
    {
      "cell_type": "markdown",
      "metadata": {
        "id": "ArL1A7rVTxbe"
      },
      "source": [
        ""
      ]
    },
    {
      "cell_type": "markdown",
      "metadata": {
        "id": "Opy4pKDxTxeY"
      },
      "source": [
        "## 8. Lambda Functions"
      ]
    },
    {
      "cell_type": "markdown",
      "metadata": {
        "id": "eS7qwfPjTxiS"
      },
      "source": [
        ""
      ]
    },
    {
      "cell_type": "markdown",
      "metadata": {
        "id": "uYZ9lx0mTxlq"
      },
      "source": [
        "## 9. Using Lambda Functions to Analyze JSON data"
      ]
    },
    {
      "cell_type": "markdown",
      "metadata": {
        "id": "yie3KLnXTxpA"
      },
      "source": [
        ""
      ]
    },
    {
      "cell_type": "markdown",
      "metadata": {
        "id": "1i3_IxU-TxsP"
      },
      "source": [
        "## 10. Reading JSON files into pandas"
      ]
    },
    {
      "cell_type": "markdown",
      "metadata": {
        "id": "hSaTu5KkTxvv"
      },
      "source": [
        ""
      ]
    },
    {
      "cell_type": "markdown",
      "metadata": {
        "id": "spt9MKRTTxzG"
      },
      "source": [
        "## 11. Exploring Tags Using the Apply Function"
      ]
    },
    {
      "cell_type": "markdown",
      "metadata": {
        "id": "UpkA4xIOTx2B"
      },
      "source": [
        ""
      ]
    },
    {
      "cell_type": "markdown",
      "metadata": {
        "id": "iVIx8gfrTx53"
      },
      "source": [
        "## 12. Extracting Tags Using Apply with a Lambda Function"
      ]
    },
    {
      "cell_type": "markdown",
      "metadata": {
        "id": "2aFTLOyVjN_6"
      },
      "source": [
        ""
      ]
    },
    {
      "cell_type": "markdown",
      "metadata": {
        "id": "yvUZ0RMQjOMB"
      },
      "source": [
        ""
      ]
    },
    {
      "cell_type": "markdown",
      "metadata": {
        "id": "jNbrSnc6jOZM"
      },
      "source": [
        ""
      ]
    }
  ]
}