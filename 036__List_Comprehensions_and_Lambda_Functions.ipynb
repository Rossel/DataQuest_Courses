{
  "nbformat": 4,
  "nbformat_minor": 0,
  "metadata": {
    "colab": {
      "name": "036__List_Comprehensions_and_Lambda_Functions.ipynb",
      "provenance": [],
      "authorship_tag": "ABX9TyOBbe1cSEZBaAY2OXl5bzjT",
      "include_colab_link": true
    },
    "kernelspec": {
      "name": "python3",
      "display_name": "Python 3"
    }
  },
  "cells": [
    {
      "cell_type": "markdown",
      "metadata": {
        "id": "view-in-github",
        "colab_type": "text"
      },
      "source": [
        "<a href=\"https://colab.research.google.com/github/Rossel/DataQuest_Courses/blob/master/036__List_Comprehensions_and_Lambda_Functions.ipynb\" target=\"_parent\"><img src=\"https://colab.research.google.com/assets/colab-badge.svg\" alt=\"Open In Colab\"/></a>"
      ]
    },
    {
      "cell_type": "markdown",
      "metadata": {
        "id": "6PWQ-EVGT2s_"
      },
      "source": [
        "# COURSE 5/6: DATA CLEANING IN PYTHON: ADVANCED"
      ]
    },
    {
      "cell_type": "markdown",
      "metadata": {
        "id": "THaX315BT2wD"
      },
      "source": [
        "# MISSION 3: List Comprehensions and Lambda Functions"
      ]
    },
    {
      "cell_type": "markdown",
      "metadata": {
        "id": "YxK6_yCfTJak"
      },
      "source": [
        "Learn techniques to turbo-charge working with data in Python"
      ]
    },
    {
      "cell_type": "markdown",
      "metadata": {
        "id": "nfk12M-4TwZU"
      },
      "source": [
        "## 1. The JSON Format"
      ]
    },
    {
      "cell_type": "markdown",
      "metadata": {
        "id": "S1EKg_6cTwuj"
      },
      "source": [
        "So far, we've learned how to use regular expressions to make cleaning and analyzing text data easier.\n",
        "\n",
        "In this mission, we'll learn some tips and syntax shortcuts we can use on top of everything we've learned, including:\n",
        "\n",
        "- Creating list comprehensions to replace loops with a single line of code.\n",
        "- Creating single use functions called lambda functions.\n",
        "\n",
        "The data set we'll use in this mission is in a format called [JavaScript Object Notation](https://www.json.org/) (JSON). As the name indicates, JSON originated from the JavaScript language, but has now become a language-independent format.\n",
        "\n",
        "From a Python perspective, JSON can be thought as a collection of Python objects nested inside each other.\n",
        "\n",
        "![img](https://s3.amazonaws.com/dq-content/355/json.svg)"
      ]
    },
    {
      "cell_type": "markdown",
      "metadata": {
        "id": "jGbUCUHMW71T"
      },
      "source": [
        "The JSON above is a list, where each element in the list is a dictionary. Each of the dictionaries have the same keys, and one of the values of each dictionary is itself a list.\n",
        "\n",
        "The Python `json` [module](https://docs.python.org/3.7/library/json.html#module-json) contains a number of functions to make working with JSON objects easier. We can use the `json.loads()` [method](https://docs.python.org/3.7/library/json.html#json.loads) to convert JSON data contained in a string to the equivalent set of Python objects:"
      ]
    },
    {
      "cell_type": "code",
      "metadata": {
        "colab": {
          "base_uri": "https://localhost:8080/"
        },
        "id": "IaMyYHmhXY6f",
        "outputId": "4be820c9-f56a-445a-8fe8-ca9f2510e06e"
      },
      "source": [
        "json_string = \"\"\"\n",
        "[\n",
        "  {\n",
        "    \"name\": \"Sabine\",\n",
        "    \"age\": 36,\n",
        "    \"favorite_foods\": [\"Pumpkin\", \"Oatmeal\"]\n",
        "  },\n",
        "  {\n",
        "    \"name\": \"Zoe\",\n",
        "    \"age\": 40,\n",
        "    \"favorite_foods\": [\"Chicken\", \"Pizza\", \"Chocolate\"]\n",
        "  },\n",
        "  {\n",
        "    \"name\": \"Heidi\",\n",
        "    \"age\": 40,\n",
        "    \"favorite_foods\": [\"Caesar Salad\"]\n",
        "  }\n",
        "]\n",
        "\"\"\"\n",
        "\n",
        "import json\n",
        "json_obj = json.loads(json_string)\n",
        "print(type(json_obj))"
      ],
      "execution_count": 6,
      "outputs": [
        {
          "output_type": "stream",
          "text": [
            "<class 'list'>\n"
          ],
          "name": "stdout"
        }
      ]
    },
    {
      "cell_type": "markdown",
      "metadata": {
        "id": "ORdvjlI8Xifa"
      },
      "source": [
        "We can see that `json_string` has turned into a list. Let's take a look at the values in the list:\n",
        "\n"
      ]
    },
    {
      "cell_type": "code",
      "metadata": {
        "colab": {
          "base_uri": "https://localhost:8080/"
        },
        "id": "Gnb2SVEoXlKH",
        "outputId": "83f640d6-8b06-45bf-f70f-cd8d20a96398"
      },
      "source": [
        "print(json_obj)"
      ],
      "execution_count": 7,
      "outputs": [
        {
          "output_type": "stream",
          "text": [
            "[{'name': 'Sabine', 'age': 36, 'favorite_foods': ['Pumpkin', 'Oatmeal']}, {'name': 'Zoe', 'age': 40, 'favorite_foods': ['Chicken', 'Pizza', 'Chocolate']}, {'name': 'Heidi', 'age': 40, 'favorite_foods': ['Caesar Salad']}]\n"
          ],
          "name": "stdout"
        }
      ]
    },
    {
      "cell_type": "markdown",
      "metadata": {
        "id": "VoH0n-pJXqRQ"
      },
      "source": [
        "We can observe a few things:\n",
        "\n",
        "- The formatting from our original string is gone. This is because printing Python lists and dictionaries has a simple formatting structure.\n",
        "- The order of the keys in the dictionary have changed. This is because (prior to version 3.6) Python dictionaries don't have fixed order.\n",
        "\n",
        "Let's practice using `json.loads()` to convert JSON data from a string to Python objects!\n",
        "\n"
      ]
    },
    {
      "cell_type": "markdown",
      "metadata": {
        "id": "VnGl6VCaXu77"
      },
      "source": [
        "**Instructions:**\n",
        "\n",
        "We have created a JSON string, `world_cup_str`, which contains data about games from the 2018 Football World Cup.\n",
        "\n",
        "1. Import the `json` module.\n",
        "2. Use `json.loads()` to convert `world_cup_str` to a Python object. Assign the result to world_cup_obj."
      ]
    },
    {
      "cell_type": "code",
      "metadata": {
        "id": "k2EgcIL40Wx-"
      },
      "source": [
        ""
      ],
      "execution_count": 7,
      "outputs": []
    },
    {
      "cell_type": "code",
      "metadata": {
        "id": "7zbhVrbR2n44"
      },
      "source": [
        "# Code to read csv file into Colaboratory:\n",
        "!pip install -U -q PyDrive\n",
        "from pydrive.auth import GoogleAuth\n",
        "from pydrive.drive import GoogleDrive\n",
        "from google.colab import auth\n",
        "from oauth2client.client import GoogleCredentials\n",
        "# Authenticate and create the PyDrive client.\n",
        "auth.authenticate_user()\n",
        "gauth = GoogleAuth()\n",
        "gauth.credentials = GoogleCredentials.get_application_default()\n",
        "drive = GoogleDrive(gauth)"
      ],
      "execution_count": 8,
      "outputs": []
    },
    {
      "cell_type": "code",
      "metadata": {
        "id": "mQVsg_sh2o4j"
      },
      "source": [
        "# Once you have completed verification, go to the CSV file in Google Drive, right-click on it and select “Get shareable link”, and cut out the unique id in the link.\n",
        "# https://drive.google.com/file/d/1J3gYozddULmvWfprsTXK9Ga3V74UpaJe/view?usp=sharing\n",
        "id = \"1J3gYozddULmvWfprsTXK9Ga3V74UpaJe\""
      ],
      "execution_count": 9,
      "outputs": []
    },
    {
      "cell_type": "code",
      "metadata": {
        "id": "qgFvCD-32wdh"
      },
      "source": [
        "# Download the dataset\n",
        "downloaded = drive.CreateFile({'id':id}) \n",
        "downloaded.GetContentFile('hn_2014.json')"
      ],
      "execution_count": 10,
      "outputs": []
    },
    {
      "cell_type": "markdown",
      "metadata": {
        "id": "xJ8x3VsFTwyw"
      },
      "source": [
        "## 2. Reading a JSON file"
      ]
    },
    {
      "cell_type": "markdown",
      "metadata": {
        "id": "J1rmPpKITw17"
      },
      "source": [
        "One of the places where the JSON format is commonly used is in the results returned by an [Application programming interface](https://en.wikipedia.org/wiki/Application_programming_interface) (**API**). APIs are interfaces that can be used to send and transmit data between different computer systems. We'll learn about how to work with APIs in a later course."
      ]
    },
    {
      "cell_type": "markdown",
      "metadata": {
        "id": "zPGYt9e-0hST"
      },
      "source": [
        "The data set from this mission — `hn_2014.json` — was downloaded from the Hacker News API. It's a different set of data from the CSV we've been using in the previous two missions, and it contains data about stories from Hacker News in 2014."
      ]
    },
    {
      "cell_type": "markdown",
      "metadata": {
        "id": "Of0SO5Dj00FV"
      },
      "source": [
        "To read a file from JSON format, we use the `json.load()` [function](https://docs.python.org/3.7/library/json.html#json.load). Note that the function is `json.load()` without an \"s\" at the end. The `json.loads()` function is used for loading JSON data from a string (\"loads\" is short for \"load string\"), whereas the `json.load()` function is used to load from a file object. Let's look at how we would read that in our data:\n",
        "\n"
      ]
    },
    {
      "cell_type": "code",
      "metadata": {
        "colab": {
          "base_uri": "https://localhost:8080/"
        },
        "id": "-u5tJgpT089S",
        "outputId": "ef2f4995-e48e-468a-c7c8-454c89307a50"
      },
      "source": [
        "import json\n",
        "file = open(\"hn_2014.json\")\n",
        "hn = json.load(file)\n",
        "\n",
        "print(type(hn))"
      ],
      "execution_count": 11,
      "outputs": [
        {
          "output_type": "stream",
          "text": [
            "<class 'list'>\n"
          ],
          "name": "stdout"
        }
      ]
    },
    {
      "cell_type": "markdown",
      "metadata": {
        "id": "ot9J9gZWTw82"
      },
      "source": [
        "## 3. Deleting Dictionary Keys"
      ]
    },
    {
      "cell_type": "markdown",
      "metadata": {
        "id": "tfmXU6cZTxAL"
      },
      "source": [
        ""
      ]
    },
    {
      "cell_type": "markdown",
      "metadata": {
        "id": "Ydw0C16ETxDq"
      },
      "source": [
        "## 4. Writing List Comprehensions"
      ]
    },
    {
      "cell_type": "markdown",
      "metadata": {
        "id": "Xl3ZY9YBTxGx"
      },
      "source": [
        ""
      ]
    },
    {
      "cell_type": "markdown",
      "metadata": {
        "id": "Z7o7S_srTxKM"
      },
      "source": [
        "## 5. Using List Comprehensions to Transform and Create Lists"
      ]
    },
    {
      "cell_type": "markdown",
      "metadata": {
        "id": "H2IGl0l8TxNK"
      },
      "source": [
        ""
      ]
    },
    {
      "cell_type": "markdown",
      "metadata": {
        "id": "M-7hogKFTxQs"
      },
      "source": [
        "## 6. Using List Comprehensions to Reduce a List"
      ]
    },
    {
      "cell_type": "markdown",
      "metadata": {
        "id": "nFY3kpEzTxUa"
      },
      "source": [
        ""
      ]
    },
    {
      "cell_type": "markdown",
      "metadata": {
        "id": "v9jQLqKlTxYJ"
      },
      "source": [
        "## 7. Passing Functions as Arguments"
      ]
    },
    {
      "cell_type": "markdown",
      "metadata": {
        "id": "ArL1A7rVTxbe"
      },
      "source": [
        ""
      ]
    },
    {
      "cell_type": "markdown",
      "metadata": {
        "id": "Opy4pKDxTxeY"
      },
      "source": [
        "## 8. Lambda Functions"
      ]
    },
    {
      "cell_type": "markdown",
      "metadata": {
        "id": "eS7qwfPjTxiS"
      },
      "source": [
        ""
      ]
    },
    {
      "cell_type": "markdown",
      "metadata": {
        "id": "uYZ9lx0mTxlq"
      },
      "source": [
        "## 9. Using Lambda Functions to Analyze JSON data"
      ]
    },
    {
      "cell_type": "markdown",
      "metadata": {
        "id": "yie3KLnXTxpA"
      },
      "source": [
        ""
      ]
    },
    {
      "cell_type": "markdown",
      "metadata": {
        "id": "1i3_IxU-TxsP"
      },
      "source": [
        "## 10. Reading JSON files into pandas"
      ]
    },
    {
      "cell_type": "markdown",
      "metadata": {
        "id": "hSaTu5KkTxvv"
      },
      "source": [
        ""
      ]
    },
    {
      "cell_type": "markdown",
      "metadata": {
        "id": "spt9MKRTTxzG"
      },
      "source": [
        "## 11. Exploring Tags Using the Apply Function"
      ]
    },
    {
      "cell_type": "markdown",
      "metadata": {
        "id": "UpkA4xIOTx2B"
      },
      "source": [
        ""
      ]
    },
    {
      "cell_type": "markdown",
      "metadata": {
        "id": "iVIx8gfrTx53"
      },
      "source": [
        "## 12. Extracting Tags Using Apply with a Lambda Function"
      ]
    },
    {
      "cell_type": "markdown",
      "metadata": {
        "id": "2aFTLOyVjN_6"
      },
      "source": [
        ""
      ]
    },
    {
      "cell_type": "markdown",
      "metadata": {
        "id": "yvUZ0RMQjOMB"
      },
      "source": [
        ""
      ]
    },
    {
      "cell_type": "markdown",
      "metadata": {
        "id": "jNbrSnc6jOZM"
      },
      "source": [
        ""
      ]
    }
  ]
}