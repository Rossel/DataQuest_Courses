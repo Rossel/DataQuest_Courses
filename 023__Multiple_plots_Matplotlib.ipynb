{
  "nbformat": 4,
  "nbformat_minor": 0,
  "metadata": {
    "colab": {
      "name": "023__Multiple_plots_Matplotlib.ipynb",
      "provenance": [],
      "authorship_tag": "ABX9TyOup1nDtg/Ku4FI/fLI3MnB",
      "include_colab_link": true
    },
    "kernelspec": {
      "name": "python3",
      "display_name": "Python 3"
    }
  },
  "cells": [
    {
      "cell_type": "markdown",
      "metadata": {
        "id": "view-in-github",
        "colab_type": "text"
      },
      "source": [
        "<a href=\"https://colab.research.google.com/github/Rossel/DataQuest_Courses/blob/master/023__Multiple_plots_Matplotlib.ipynb\" target=\"_parent\"><img src=\"https://colab.research.google.com/assets/colab-badge.svg\" alt=\"Open In Colab\"/></a>"
      ]
    },
    {
      "cell_type": "markdown",
      "metadata": {
        "id": "j60_M52uvwEb",
        "colab_type": "text"
      },
      "source": [
        "# COURSE 2/6: EXPLORATORY DATA VISUALIZATION"
      ]
    },
    {
      "cell_type": "markdown",
      "metadata": {
        "id": "sS_hyJpFvzQp",
        "colab_type": "text"
      },
      "source": [
        "# MISSION 2: Multiple plots"
      ]
    },
    {
      "cell_type": "markdown",
      "metadata": {
        "id": "J2Q53umcv0qq",
        "colab_type": "text"
      },
      "source": [
        "*Learn how matplotlib represents plots to work with multiple plots.*\n",
        "\n",
        "In this mission, we will learn about the important matplotlib building blocks and used them to experiment with creating multiple line charts. \n"
      ]
    },
    {
      "cell_type": "markdown",
      "metadata": {
        "id": "gwp9rEwW0fBI",
        "colab_type": "text"
      },
      "source": [
        ""
      ]
    },
    {
      "cell_type": "markdown",
      "metadata": {
        "id": "6nFZvDBVv0te",
        "colab_type": "text"
      },
      "source": [
        "## 1. Recap\n"
      ]
    },
    {
      "cell_type": "markdown",
      "metadata": {
        "id": "oh3dE0CZv0v9",
        "colab_type": "text"
      },
      "source": [
        "In the previous mission, we explored how a visual representation of data can help us reach observations about data more quickly than a table representation of the same data. We learned how to work with the pyplot module, which provides a high-level interface to the matplotlib library, to create and customize a line chart of unemployment data. To look for potential seasonality, we started by creating a line chart of unemployment rates from 1948.\n",
        "\n",
        "In this mission, we'll dive a bit deeper into matplotlib to learn how to create multiple line charts to help us compare monthly unemployment trends across time. "
      ]
    },
    {
      "cell_type": "markdown",
      "metadata": {
        "id": "debf7jU61_i1",
        "colab_type": "text"
      },
      "source": [
        "### Introduction to the Data\n",
        "\n",
        "![BLS logo](https://www.nccaom.org/wp-content/uploads/2016/12/BLS-Timeline-Main.jpg)\n",
        "\n",
        "Just like in the last mission, we will use a specific type of data visualization to understand U.S. unemployment data. The United States [Bureau of Labor Statistics (BLS)](https://www.bls.gov/) surveys and calculates the monthly unemployment rate. The unemployment rate is the percentage of individuals in the labor force without a job. To find more information about how the BLS calculates the unemployment rate click [here](http://www.bls.gov/cps/cps_htgm.htm).\n",
        "\n",
        "The BLS releases monthly unemployment data available for download as an Excel file, with the `.xlsx` file extension. While the pandas library can read in XLSX files, it relies on an external library for actually parsing the format. Let's instead download the same dataset as a CSV file [here](https://drive.google.com/file/d/1ccblpyB_BGKKtkAL8XbwOpJWtEBqdn8p/view?usp=sharing) or [here](https://github.com/Rossel/DataQuest_Courses/blob/master/datasets/unrate.csv). \n",
        "\n",
        "The dataset contains the monthly unemployment rate as a CSV from January 1948 to August 2016 and is saved as `unrate.csv`. Before we get into visual representations of data, let's first read this CSV file into pandas to explore the table representation of this data. The dataset we'll be working with is a [time series](https://en.wikipedia.org/wiki/Time_series) dataset, which means the data points (monthly unemployment rates) are ordered by time."
      ]
    },
    {
      "cell_type": "markdown",
      "metadata": {
        "id": "zQhpY9yK2bz_",
        "colab_type": "text"
      },
      "source": [
        "Let's start by importing the libraries we need and reading the dataset into pandas using Google Colab."
      ]
    },
    {
      "cell_type": "code",
      "metadata": {
        "id": "4f6FI7oF2ic4",
        "colab_type": "code",
        "colab": {}
      },
      "source": [
        "# Import functions from Google modules into Colaboratory\n",
        "!pip install -U -q PyDrive\n",
        "from pydrive.auth import GoogleAuth\n",
        "from pydrive.drive import GoogleDrive\n",
        "from google.colab import auth\n",
        "from oauth2client.client import GoogleCredentials\n",
        "\n",
        "# Authenticate and create the PyDrive client\n",
        "auth.authenticate_user()\n",
        "gauth = GoogleAuth()\n",
        "gauth.credentials = GoogleCredentials.get_application_default()\n",
        "drive = GoogleDrive(gauth)"
      ],
      "execution_count": 2,
      "outputs": []
    },
    {
      "cell_type": "code",
      "metadata": {
        "id": "U4hdKum92kea",
        "colab_type": "code",
        "colab": {}
      },
      "source": [
        "# Insert file id from Google Drive shareable link:\n",
        "# https://drive.google.com/file/d/1ccblpyB_BGKKtkAL8XbwOpJWtEBqdn8p/view?usp=sharing\n",
        "id = \"1ccblpyB_BGKKtkAL8XbwOpJWtEBqdn8p\""
      ],
      "execution_count": 3,
      "outputs": []
    },
    {
      "cell_type": "code",
      "metadata": {
        "id": "0Nl0jtw42kwg",
        "colab_type": "code",
        "colab": {}
      },
      "source": [
        "# Download the dataset\n",
        "downloaded = drive.CreateFile({'id':id}) \n",
        "downloaded.GetContentFile('unrate.csv')"
      ],
      "execution_count": 4,
      "outputs": []
    },
    {
      "cell_type": "code",
      "metadata": {
        "id": "yl_KrNeL2kDK",
        "colab_type": "code",
        "colab": {}
      },
      "source": [
        "# Import pandas library and read csv\n",
        "import pandas as pd\n",
        "unrate = pd.read_csv('unrate.csv')"
      ],
      "execution_count": 5,
      "outputs": []
    },
    {
      "cell_type": "code",
      "metadata": {
        "id": "cMY_EiD12vZU",
        "colab_type": "code",
        "colab": {}
      },
      "source": [
        "# Convert the DATE column into a series of datetime values\n",
        "unrate['DATE'] = pd.to_datetime(unrate['DATE'])"
      ],
      "execution_count": 6,
      "outputs": []
    },
    {
      "cell_type": "code",
      "metadata": {
        "id": "_gYOMkdI2xB6",
        "colab_type": "code",
        "colab": {
          "base_uri": "https://localhost:8080/",
          "height": 170
        },
        "outputId": "bdf47f2b-d772-40c1-9f62-28e45dea1c4c"
      },
      "source": [
        "# Retrieve info on the unrate dataframe\n",
        "unrate.info()"
      ],
      "execution_count": 7,
      "outputs": [
        {
          "output_type": "stream",
          "text": [
            "<class 'pandas.core.frame.DataFrame'>\n",
            "RangeIndex: 824 entries, 0 to 823\n",
            "Data columns (total 2 columns):\n",
            " #   Column  Non-Null Count  Dtype         \n",
            "---  ------  --------------  -----         \n",
            " 0   DATE    824 non-null    datetime64[ns]\n",
            " 1   VALUE   824 non-null    float64       \n",
            "dtypes: datetime64[ns](1), float64(1)\n",
            "memory usage: 13.0 KB\n"
          ],
          "name": "stdout"
        }
      ]
    },
    {
      "cell_type": "markdown",
      "metadata": {
        "id": "JwikLDoa20JX",
        "colab_type": "text"
      },
      "source": [
        "We can see here that the `DATE` column is of the `datetime64` Dtype."
      ]
    },
    {
      "cell_type": "code",
      "metadata": {
        "id": "kHx1xwyX2xlF",
        "colab_type": "code",
        "colab": {
          "base_uri": "https://localhost:8080/",
          "height": 421
        },
        "outputId": "a16dd492-faf0-4155-a23b-82b3f6b31e24"
      },
      "source": [
        "# Print the first 12 rows\n",
        "unrate.head(12)"
      ],
      "execution_count": 8,
      "outputs": [
        {
          "output_type": "execute_result",
          "data": {
            "text/html": [
              "<div>\n",
              "<style scoped>\n",
              "    .dataframe tbody tr th:only-of-type {\n",
              "        vertical-align: middle;\n",
              "    }\n",
              "\n",
              "    .dataframe tbody tr th {\n",
              "        vertical-align: top;\n",
              "    }\n",
              "\n",
              "    .dataframe thead th {\n",
              "        text-align: right;\n",
              "    }\n",
              "</style>\n",
              "<table border=\"1\" class=\"dataframe\">\n",
              "  <thead>\n",
              "    <tr style=\"text-align: right;\">\n",
              "      <th></th>\n",
              "      <th>DATE</th>\n",
              "      <th>VALUE</th>\n",
              "    </tr>\n",
              "  </thead>\n",
              "  <tbody>\n",
              "    <tr>\n",
              "      <th>0</th>\n",
              "      <td>1948-01-01</td>\n",
              "      <td>3.4</td>\n",
              "    </tr>\n",
              "    <tr>\n",
              "      <th>1</th>\n",
              "      <td>1948-02-01</td>\n",
              "      <td>3.8</td>\n",
              "    </tr>\n",
              "    <tr>\n",
              "      <th>2</th>\n",
              "      <td>1948-03-01</td>\n",
              "      <td>4.0</td>\n",
              "    </tr>\n",
              "    <tr>\n",
              "      <th>3</th>\n",
              "      <td>1948-04-01</td>\n",
              "      <td>3.9</td>\n",
              "    </tr>\n",
              "    <tr>\n",
              "      <th>4</th>\n",
              "      <td>1948-05-01</td>\n",
              "      <td>3.5</td>\n",
              "    </tr>\n",
              "    <tr>\n",
              "      <th>5</th>\n",
              "      <td>1948-06-01</td>\n",
              "      <td>3.6</td>\n",
              "    </tr>\n",
              "    <tr>\n",
              "      <th>6</th>\n",
              "      <td>1948-07-01</td>\n",
              "      <td>3.6</td>\n",
              "    </tr>\n",
              "    <tr>\n",
              "      <th>7</th>\n",
              "      <td>1948-08-01</td>\n",
              "      <td>3.9</td>\n",
              "    </tr>\n",
              "    <tr>\n",
              "      <th>8</th>\n",
              "      <td>1948-09-01</td>\n",
              "      <td>3.8</td>\n",
              "    </tr>\n",
              "    <tr>\n",
              "      <th>9</th>\n",
              "      <td>1948-10-01</td>\n",
              "      <td>3.7</td>\n",
              "    </tr>\n",
              "    <tr>\n",
              "      <th>10</th>\n",
              "      <td>1948-11-01</td>\n",
              "      <td>3.8</td>\n",
              "    </tr>\n",
              "    <tr>\n",
              "      <th>11</th>\n",
              "      <td>1948-12-01</td>\n",
              "      <td>4.0</td>\n",
              "    </tr>\n",
              "  </tbody>\n",
              "</table>\n",
              "</div>"
            ],
            "text/plain": [
              "         DATE  VALUE\n",
              "0  1948-01-01    3.4\n",
              "1  1948-02-01    3.8\n",
              "2  1948-03-01    4.0\n",
              "3  1948-04-01    3.9\n",
              "4  1948-05-01    3.5\n",
              "5  1948-06-01    3.6\n",
              "6  1948-07-01    3.6\n",
              "7  1948-08-01    3.9\n",
              "8  1948-09-01    3.8\n",
              "9  1948-10-01    3.7\n",
              "10 1948-11-01    3.8\n",
              "11 1948-12-01    4.0"
            ]
          },
          "metadata": {
            "tags": []
          },
          "execution_count": 8
        }
      ]
    },
    {
      "cell_type": "code",
      "metadata": {
        "id": "g_YzazD12230",
        "colab_type": "code",
        "colab": {
          "base_uri": "https://localhost:8080/",
          "height": 34
        },
        "outputId": "4243a378-5a6f-4fc1-c2c1-9afc1fa7282e"
      },
      "source": [
        "# Print dataframe dimensions\n",
        "print(unrate.shape)"
      ],
      "execution_count": 9,
      "outputs": [
        {
          "output_type": "stream",
          "text": [
            "(824, 2)\n"
          ],
          "name": "stdout"
        }
      ]
    },
    {
      "cell_type": "markdown",
      "metadata": {
        "id": "SHGMk-gs17ke",
        "colab_type": "text"
      },
      "source": [
        "## Recap from Last Mission\n",
        "Let's practice what you learned in the previous mission:"
      ]
    },
    {
      "cell_type": "code",
      "metadata": {
        "id": "OOBS7-lO4nVc",
        "colab_type": "code",
        "colab": {}
      },
      "source": [
        "# Import the matplotlib library\n",
        "import matplotlib as mpl\n",
        "import matplotlib.pyplot as plt"
      ],
      "execution_count": 10,
      "outputs": []
    },
    {
      "cell_type": "code",
      "metadata": {
        "id": "isEIoFq70iiJ",
        "colab_type": "code",
        "colab": {
          "base_uri": "https://localhost:8080/",
          "height": 327
        },
        "outputId": "d9e74d94-7f23-4eb9-d4b9-91a330ef9d35"
      },
      "source": [
        "# Assign the first 12 rows to a variable \n",
        "first_twelve = unrate[:12]\n",
        "\n",
        "# Generate a line chart that visualizes the unemployment rates from 1948\n",
        "plt.plot(first_twelve['DATE'], first_twelve['VALUE'])\n",
        "\n",
        "# Rotate the x-axis tick labels by 90 degrees\n",
        "plt.xticks(rotation = 90)\n",
        "\n",
        "# Set the x-axis label to \"Month\"\n",
        "plt.xlabel('Month')\n",
        "\n",
        "# Set the y-axis label to \"Unemployment Rate\"\n",
        "plt.ylabel('Unemployment Rate')\n",
        "\n",
        "# Set the plot title to \"Monthly Unemployment Trends, 1948\"\n",
        "plt.title('Monthly Unemployment Trends, 1948')\n",
        "\n",
        "# Display the plot\n",
        "plt.show()"
      ],
      "execution_count": 11,
      "outputs": [
        {
          "output_type": "display_data",
          "data": {
            "image/png": "[encoded data removed]",
            "text/plain": [
              "<Figure size 432x288 with 1 Axes>"
            ]
          },
          "metadata": {
            "tags": [],
            "needs_background": "light"
          }
        }
      ]
    },
    {
      "cell_type": "markdown",
      "metadata": {
        "id": "UCarQf3DxXTB",
        "colab_type": "text"
      },
      "source": [
        "## 2. Matplotlib Classes"
      ]
    },
    {
      "cell_type": "markdown",
      "metadata": {
        "id": "bSkQldl9xXbP",
        "colab_type": "text"
      },
      "source": [
        "When we were working with a single plot, pyplot was storing and updating the state of that single plot. We could tweak the plot just using the functions in the pyplot module. \n",
        "\n",
        "When we want to work with multiple plots, however, we need to be more explicit about which plot we're making changes to. This means we need to understand the matplotlib classes that pyplot uses internally to maintain state so we can interact with them directly. \n",
        "\n",
        "Let's first start by understanding what pyplot was automatically storing under the hood when we create a single plot:\n",
        "\n",
        "1. a container for all plots was created (returned as a [Figure object](http://matplotlib.org/api/figure_api.html#matplotlib.figure.Figure))\n",
        "2. a container for the plot was positioned on a grid (the plot returned as an [Axes object](http://matplotlib.org/api/axes_api.html#matplotlib-axes))\n",
        "3. visual symbols were added to the plot (using the Axes methods)\n",
        "\n",
        "A **figure** acts as a container for all of our plots and has methods for customizing the appearance and behavior for the plots within that container. Some examples include changing the overall width and height of the plotting area and the spacing between plots.\n",
        "\n",
        "We can manually create a figure by calling [pyplot.figure()](http://matplotlib.org/api/pyplot_api.html#matplotlib.pyplot.figure):\n",
        "\n",
        "\n",
        "```\n",
        "fig = plt.figure()\n",
        "```\n",
        "\n",
        "\n"
      ]
    },
    {
      "cell_type": "markdown",
      "metadata": {
        "id": "Ix_pwDA672cp",
        "colab_type": "text"
      },
      "source": [
        "Instead of only calling the pyplot function, we assigned its return value to a variable (`fig`). After a figure is created, an axes for a single plot containing no data is created within the context of the figure. When rendered without data, the plot will resemble the empty plot from the previous mission. The **Axes object acts as its own container for the various components of the plot**, such as:\n",
        "\n",
        "- **values** on the x-axis and y-axis\n",
        "- **ticks** on the x-axis and y-axis\n",
        "- all visual symbols, such as:\n",
        "  - **markers**\n",
        "  - **lines**\n",
        "  - **gridlines**"
      ]
    },
    {
      "cell_type": "markdown",
      "metadata": {
        "id": "eVfeUmtPOdmZ",
        "colab_type": "text"
      },
      "source": [
        "While plots are represented using instances of the Axes class, they're also often referred to as subplots in matplotlib. To add a new subplot to an existing figure, use [Figure.add_subplot](https://matplotlib.org/api/_as_gen/matplotlib.figure.Figure.html#matplotlib.figure.Figure.add_subplot). This will return a new Axes object, which needs to be assigned to a variable:\n",
        "```\n",
        "axes_obj = fig.add_subplot(nrows, ncols, plot_number)\n",
        "```\n",
        "If we want the figure to contain 2 plots, one above the other, we need to write:\n",
        "```\n",
        "ax1 = fig.add_subplot(2,1,1)\n",
        "ax2 = fig.add_subplot(2,1,2)\n",
        "```\n",
        "This will create a grid, 2 rows by 1 column, of plots."
      ]
    },
    {
      "cell_type": "markdown",
      "metadata": {
        "id": "xi6kUMTKxavl",
        "colab_type": "text"
      },
      "source": [
        "## 3. Matplotlib Classes"
      ]
    },
    {
      "cell_type": "markdown",
      "metadata": {
        "id": "KT407Rnz-nRK",
        "colab_type": "text"
      },
      "source": [
        "Let's create a figure, add subplots to it, and display it."
      ]
    },
    {
      "cell_type": "code",
      "metadata": {
        "id": "D3t-NssT9hXu",
        "colab_type": "code",
        "colab": {
          "base_uri": "https://localhost:8080/",
          "height": 269
        },
        "outputId": "785530a3-cb63-40e4-cfd1-3033475dc9ad"
      },
      "source": [
        "# Create a figure and assign to fig\n",
        "fig = plt.figure()\n",
        "\n",
        "# Create two subplots above and below each other\n",
        "ax1 = fig.add_subplot(2,1,1)\n",
        "ax2 = fig.add_subplot(2,1,2)\n",
        "\n",
        "# Display the resulting plot \n",
        "plt.show()"
      ],
      "execution_count": 12,
      "outputs": [
        {
          "output_type": "display_data",
          "data": {
            "image/png": "[encoded data removed]",
            "text/plain": [
              "<Figure size 432x288 with 2 Axes>"
            ]
          },
          "metadata": {
            "tags": [],
            "needs_background": "light"
          }
        }
      ]
    },
    {
      "cell_type": "markdown",
      "metadata": {
        "id": "p7wLT9nAxXj2",
        "colab_type": "text"
      },
      "source": [
        "## 4. Grid Positioning"
      ]
    },
    {
      "cell_type": "markdown",
      "metadata": {
        "id": "LY61zaMexXme",
        "colab_type": "text"
      },
      "source": [
        "For each subplot, matplotlib generated a coordinate grid that was similar to the one we generated in the last mission using the `plot()` function:\n",
        "\n",
        "- the x-axis and y-axis values ranging from 0.0 to 1.0\n",
        "- no gridlines\n",
        "- no data\n",
        "\n",
        "The main difference is that this plot ranged from `0.0` to `1.0` instead of from `-0.06` to `0.06`, which is a quirk suggested by a difference in default properties.\n",
        "\n",
        "Now that we have a basic understanding of the important matplotlib classes, we can create multiple plots to compare monthly unemployment trends. If you recall, we need to specify the position of each subplot on a grid. Here's a diagram that demonstrates how a 2 by 2 subplot layout would look like:\n",
        "\n",
        "![alt text](https://s3.amazonaws.com/dq-content/multiple_subplots.png)"
      ]
    },
    {
      "cell_type": "markdown",
      "metadata": {
        "id": "gHZ5Dbm5_8Gx",
        "colab_type": "text"
      },
      "source": [
        "When the first subplot is created, matplotlib knows to create a grid with 2 rows and 2 columns. As we add each subplot, we specify the plot number we want returned and the corresponding Axes object is created and returned. In matplotlib, the plot number starts at the top left position in the grid (left-most plot on the top row), moves through the remaining positions in that row, then jumps to the left-most plot in the second row, and so forth.\n",
        "![alt text](https://s3.amazonaws.com/dq-content/subplot_grid.png)\n",
        "\n",
        "If we created a grid of 4 subplots but don't create a subplot for each position in the grid, areas without axes are left blank:\n",
        "![alt text](https://s3.amazonaws.com/dq-content/multiple_subplots_missing_one_plot.png)"
      ]
    },
    {
      "cell_type": "markdown",
      "metadata": {
        "id": "Gar7kkRGxXo9",
        "colab_type": "text"
      },
      "source": [
        "## 5. Adding Data"
      ]
    },
    {
      "cell_type": "markdown",
      "metadata": {
        "id": "bYKOE7pGxXrq",
        "colab_type": "text"
      },
      "source": [
        "To generate a line chart within an Axes object, we need to call `Axes.plot()` and pass in the data you want plotted:\n",
        "```\n",
        "x_values = [0.0, 0.5, 1.0]\n",
        "y_values = [10, 20, 40]\n",
        "ax1.plot(x_values, y_values)\n",
        "```\n",
        "Like `pyplot.plot()`, the `Axes.plot()` will accept any iterable object for these parameters, including NumPy arrays and pandas Series objects. It will also generate a line chart by default from the values passed in. Each time we want to generate a line chart, we need to call `Axes.plot()` and pass in the data we want to use in that plot."
      ]
    },
    {
      "cell_type": "markdown",
      "metadata": {
        "id": "b7GBPh4eDlDh",
        "colab_type": "text"
      },
      "source": [
        "Instructions:\n",
        "\n",
        "Create 2 line subplots in a 2 row by 1 column layout:\n",
        "\n",
        "- In the top subplot, plot the data from 1948.\n",
        "  - For the x-axis, use the first 12 values in the `DATE` column.\n",
        "  - For the y-axis, use the first 12 values in the `VALUE` column.\n",
        "- In the bottom subplot, plot the data from 1949.\n",
        "  - For the x-axis, use the values from index 12 to 23 in the `DATE` column.\n",
        "  - For the y-axis, use the values from index 12 to 23 in the `VALUE` column.\n",
        "Use `plt.show()` to display all the plots."
      ]
    },
    {
      "cell_type": "code",
      "metadata": {
        "id": "61Un8L6zDkNZ",
        "colab_type": "code",
        "colab": {
          "base_uri": "https://localhost:8080/",
          "height": 265
        },
        "outputId": "80805466-7250-4ce2-a659-c496ff0d16a3"
      },
      "source": [
        "# Create a figure and assign to fig\n",
        "fig = plt.figure()\n",
        "\n",
        "# In the top subplot plot the data from 1948\n",
        "ax1 = fig.add_subplot(2,1,1)\n",
        "ax1.plot(unrate[0:12]['DATE'], unrate[0:12]['VALUE'])\n",
        "\n",
        "# In the bottom subplot, plot the data from 1949\n",
        "ax2.plot(unrate[12:24]['DATE'], unrate[12:24]['VALUE'])\n",
        "ax2 = fig.add_subplot(2,1,2)\n",
        "\n",
        "# Display the resulting plots\n",
        "plt.show()"
      ],
      "execution_count": 13,
      "outputs": [
        {
          "output_type": "display_data",
          "data": {
            "image/png": "[encoded data removed]",
            "text/plain": [
              "<Figure size 432x288 with 2 Axes>"
            ]
          },
          "metadata": {
            "tags": [],
            "needs_background": "light"
          }
        }
      ]
    },
    {
      "cell_type": "markdown",
      "metadata": {
        "id": "7ykphDvFxXwr",
        "colab_type": "text"
      },
      "source": [
        "## 6. Formatting And Spacing"
      ]
    },
    {
      "cell_type": "markdown",
      "metadata": {
        "id": "ELfFWCI7xXz7",
        "colab_type": "text"
      },
      "source": [
        "One issue with the 2 plots is that the x-axis ticks labels are unreadable. The other issue is that the plots are squeezed together vertically and hard to interpret. Even though now we generated 2 line charts, the total plotting area for the figure remained the same:\n",
        "![alt text](https://s3.amazonaws.com/dq-content/plotting_area_stays_same.png)"
      ]
    },
    {
      "cell_type": "markdown",
      "metadata": {
        "id": "RL9LCWu9aP5a",
        "colab_type": "text"
      },
      "source": [
        "This is because matplotlib used the default dimensions for the total plotting area instead of resizing it to accommodate the plots. If we want to expand the plotting area, we have to specify this ourselves when we create the figure. To tweak the dimensions of the plotting area, we need to use the `figsize` parameter when we call `plt.figure()`:\n",
        "\n",
        "This parameter takes in a tuple of floats:\n",
        "\n",
        "```\n",
        "fig = plt.figure(figsize=(width, height))\n",
        "```"
      ]
    },
    {
      "cell_type": "markdown",
      "metadata": {
        "id": "WeE7oIdlaisP",
        "colab_type": "text"
      },
      "source": [
        "The unit for both width and height values is inches. The `dpi` parameter, or dots per inch, and the `figsize` parameter determine how much space on your display a plot takes up. By increasing the width and the height of the plotting area, we can address both issues."
      ]
    },
    {
      "cell_type": "markdown",
      "metadata": {
        "id": "qGbO0X8tauvv",
        "colab_type": "text"
      },
      "source": [
        "Instructions:\n",
        "\n",
        "For the plot we generated on the last screen, set the width of the plotting area to `12` inches and the height to `8` inches."
      ]
    },
    {
      "cell_type": "code",
      "metadata": {
        "id": "_GfND4YSa4cN",
        "colab_type": "code",
        "colab": {
          "base_uri": "https://localhost:8080/",
          "height": 499
        },
        "outputId": "dd56dbef-b0e2-43f1-94f3-5868ccbe0916"
      },
      "source": [
        "# Set the width of the plotting area to 12 inches and the height to 8 inches\n",
        "fig = plt.figure(figsize=(12, 8))\n",
        "\n",
        "ax1 = fig.add_subplot(2,1,1)\n",
        "ax2 = fig.add_subplot(2,1,2)\n",
        "ax1.plot(unrate[0:12]['DATE'], unrate[0:12]['VALUE'])\n",
        "ax1.set_title('Monthly Unemployment Rate, 1948')\n",
        "ax2.plot(unrate[12:24]['DATE'], unrate[12:24]['VALUE'])\n",
        "ax2.set_title('Monthly Unemployment Rate, 1949')\n",
        "plt.show()"
      ],
      "execution_count": 16,
      "outputs": [
        {
          "output_type": "display_data",
          "data": {
            "image/png": "[encoded data removed]",
            "text/plain": [
              "<Figure size 864x576 with 2 Axes>"
            ]
          },
          "metadata": {
            "tags": [],
            "needs_background": "light"
          }
        }
      ]
    },
    {
      "cell_type": "markdown",
      "metadata": {
        "id": "DUerLZ5RxX4m",
        "colab_type": "text"
      },
      "source": [
        "## 7. Comparing Across More Years"
      ]
    },
    {
      "cell_type": "markdown",
      "metadata": {
        "id": "LHxwE1PyxX7y",
        "colab_type": "text"
      },
      "source": [
        "Instead of having to rotate the x-axis tick labels, we were able to horizontally extend the entire plotting area to make the labels more readable. Because the goal is to be able to look for any visual similarities between the lines in the plots, we want the space between the 2 plots to be as small as possible. If we had rotated the labels by 90 degrees instead, like we did in the last mission, we'd need to increase the spacing between the plots to keep them from overlapping. Expanding the plotting area horizontally improved the readability of the x-axis tick labels and minimized the amount of space between the 2 line charts.\n",
        "\n",
        "If you recall, we generated these 2 line charts because we were interested in looking for any seasonality in the monthly unemployment trends. If you spend some time visually analyzing both line charts, you'll discover that there's no changes in unemployment trends that are occurring in the same month in both years.\n",
        "\n",
        "On this screen, we're going to visualize data from a few more years to see if we find any evidence for seasonality between those years. Because we're going to need to plot multiple years, we can use a loop so that we're not repeating unnecessary code. In order to generate values for the loop, we'll use Python's range() function, which produces a list of numbers. Let's start by seeing how the function works:\n",
        "\n",
        "\n",
        "```\n",
        "for i in range(5):\n",
        "    print(i)\n",
        "```\n",
        "\n",
        "\n",
        "```\n",
        "0\n",
        "1\n",
        "2\n",
        "3\n",
        "4\n",
        "```\n",
        "\n",
        "\n"
      ]
    },
    {
      "cell_type": "markdown",
      "metadata": {
        "id": "LU4Bl42vegXr",
        "colab_type": "text"
      },
      "source": [
        "We provide an integer argument to `range()`, and it produces a sequence of integers starting at zero, and going up to (but not including) the argument's value. Let's use this technique to plot five years of data.\n",
        "\n"
      ]
    },
    {
      "cell_type": "code",
      "metadata": {
        "id": "uynfi7SYevmI",
        "colab_type": "code",
        "colab": {
          "base_uri": "https://localhost:8080/",
          "height": 700
        },
        "outputId": "066c63c7-4314-4574-fc12-1e8f131ae32c"
      },
      "source": [
        "fig = plt.figure(figsize=(12,12))\n",
        "\n",
        "for i in range(5):\n",
        "    ax = fig.add_subplot(5,1,i+1)\n",
        "    start_index = i*12\n",
        "    end_index = (i+1)*12\n",
        "    subset = unrate[start_index:end_index]\n",
        "    ax.plot(subset['DATE'], subset['VALUE'])\n",
        "                                   \n",
        "plt.show()"
      ],
      "execution_count": 17,
      "outputs": [
        {
          "output_type": "display_data",
          "data": {
            "image/png": "[encoded data removed]",
            "text/plain": [
              "<Figure size 864x864 with 5 Axes>"
            ]
          },
          "metadata": {
            "tags": [],
            "needs_background": "light"
          }
        }
      ]
    },
    {
      "cell_type": "markdown",
      "metadata": {
        "id": "HR7uWHwmxX2x",
        "colab_type": "text"
      },
      "source": [
        "## 8. Overlaying Line Charts"
      ]
    },
    {
      "cell_type": "markdown",
      "metadata": {
        "id": "g9wInLGRxXuw",
        "colab_type": "text"
      },
      "source": [
        ""
      ]
    },
    {
      "cell_type": "markdown",
      "metadata": {
        "id": "SztTNhj0v0y0",
        "colab_type": "text"
      },
      "source": [
        "## 9. Adding More Lines"
      ]
    },
    {
      "cell_type": "markdown",
      "metadata": {
        "id": "CK0guDEBv05q",
        "colab_type": "text"
      },
      "source": [
        ""
      ]
    },
    {
      "cell_type": "markdown",
      "metadata": {
        "id": "-3yHYRpDxxAF",
        "colab_type": "text"
      },
      "source": [
        "## 10. Adding A Legend"
      ]
    },
    {
      "cell_type": "markdown",
      "metadata": {
        "id": "46LJSsFIxy24",
        "colab_type": "text"
      },
      "source": [
        ""
      ]
    },
    {
      "cell_type": "markdown",
      "metadata": {
        "id": "ykV2VShQxzaV",
        "colab_type": "text"
      },
      "source": [
        "## 11. Final Tweaks"
      ]
    },
    {
      "cell_type": "markdown",
      "metadata": {
        "id": "eoTcrDLqx2KS",
        "colab_type": "text"
      },
      "source": [
        ""
      ]
    },
    {
      "cell_type": "markdown",
      "metadata": {
        "id": "CJGoCcPox1cN",
        "colab_type": "text"
      },
      "source": [
        "\n",
        "\n",
        "---\n",
        "\n"
      ]
    },
    {
      "cell_type": "markdown",
      "metadata": {
        "id": "B8zei8HPv1Ae",
        "colab_type": "text"
      },
      "source": [
        "In the next mission, we'll explore plots that allow us to visualize discrete data.\n",
        "\n"
      ]
    }
  ]
}