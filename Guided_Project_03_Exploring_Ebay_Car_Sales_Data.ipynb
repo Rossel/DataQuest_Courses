{
  "nbformat": 4,
  "nbformat_minor": 0,
  "metadata": {
    "colab": {
      "name": "Guided Project 03: Exploring Ebay Car Sales Data.ipynb",
      "provenance": [],
      "collapsed_sections": [],
      "authorship_tag": "ABX9TyNFfCMT1Zcp++dTVzr1fE8E",
      "include_colab_link": true
    },
    "kernelspec": {
      "name": "python3",
      "display_name": "Python 3"
    }
  },
  "cells": [
    {
      "cell_type": "markdown",
      "metadata": {
        "id": "view-in-github",
        "colab_type": "text"
      },
      "source": [
        "<a href=\"https://colab.research.google.com/github/Rossel/DataQuest_Courses/blob/master/Guided_Project_03_Exploring_Ebay_Car_Sales_Data.ipynb\" target=\"_parent\"><img src=\"https://colab.research.google.com/assets/colab-badge.svg\" alt=\"Open In Colab\"/></a>"
      ]
    },
    {
      "cell_type": "markdown",
      "metadata": {
        "id": "Wyme_OK2EpF7",
        "colab_type": "text"
      },
      "source": [
        "# Guided Project: Exploring Ebay Car Sales Data\n",
        "*Practice data cleaning and data explorationg using pandas in order to obtain useful insights in the market for second hand cars.*\n",
        "\n",
        "![eBay logo](https://static.ebayinc.com/static/assets/Uploads/Content/_resampled/FillWyIzMzciLCIxOTAiXQ/eBay-Logo-Preview12.png)\n"
      ]
    },
    {
      "cell_type": "markdown",
      "metadata": {
        "id": "h60lAEbyEpVE",
        "colab_type": "text"
      },
      "source": [
        "## 1. Introduction"
      ]
    },
    {
      "cell_type": "markdown",
      "metadata": {
        "id": "0kEEwCZe1NXr",
        "colab_type": "text"
      },
      "source": [
        "\n",
        "\n",
        "![car image](https://s3.caradvice.com.au/wp-content/uploads/2015/12/BMW-M4-GTS.jpg)"
      ]
    },
    {
      "cell_type": "markdown",
      "metadata": {
        "id": "wUZsB_koEpYB",
        "colab_type": "text"
      },
      "source": [
        "In this guided project, we'll work with a dataset of used cars from *eBay Kleinanzeigen*, a [classifieds](https://en.wikipedia.org/wiki/Classified_advertising) section of the German eBay website. The data is written in German language, but will be translated where necessary for better understanding.\n",
        "\n",
        "The dataset was originally scraped and uploaded to [Kaggle](https://www.kaggle.com/orgesleka/used-cars-database/data). DataQuest made the following modifications to the original dataset:\n",
        "\n",
        "* DataQuest sampled 50,000 data points from the full dataset, to ensure your code runs quickly in our hosted environment\n",
        "* DataQuest dirtied the dataset a bit to more closely resemble what you would expect from a scraped dataset (the version uploaded to Kaggle was cleaned to be easier to work with)\n",
        "\n",
        "The dataset can be downloaded [here](https://drive.google.com/file/d/1H8-SUpdMpteA-Qvxn0F1Ad3Ek3z8lU1t/view?usp=sharing). The data dictionary provided with data is as follows:\n",
        "\n",
        "* `dateCrawled` - When this ad was first crawled. All field-values are taken from this date.\n",
        "* `name` - Name of the car.\n",
        "* `seller` - Whether the seller is private or a dealer.\n",
        "* `offerType` - The type of listing\n",
        "* `price` - The price on the ad to sell the car.\n",
        "* `abtest` - Whether the listing is included in an A/B test.\n",
        "* `vehicleType` - The vehicle Type.\n",
        "* `yearOfRegistration` - The year in which the car was first registered.\n",
        "* `gearbox` - The transmission type.\n",
        "* `powerPS` - The power of the car in PS.\n",
        "* `model` - The car model name.\n",
        "* `kilometer` - How many kilometers the car has driven.\n",
        "* `monthOfRegistration` - The month in which the car was first registered.\n",
        "* `fuelType` - What type of fuel the car uses.\n",
        "* `brand`- The brand of the car.\n",
        "* `notRepairedDamage` - If the car has a damage which is not yet repaired.\n",
        "* `dateCreated` - The date on which the eBay listing was created.\n",
        "* `nrOfPictures` - The number of pictures in the ad.\n",
        "* `postalCode` - The postal code for the location of the vehicle.\n",
        "* `lastSeenOnline` - When the crawler saw this ad last online.\n",
        "\n",
        "The aim of this project is to clean the data and analyze the included used car listings. We will also become more familiar with some of the unique benefits Jupyter notebook (or Google Colab) provides for pandas.\n"
      ]
    },
    {
      "cell_type": "markdown",
      "metadata": {
        "id": "3MsDzjg41MTR",
        "colab_type": "text"
      },
      "source": [
        "Let's start by importing the libraries we need and reading the dataset into pandas using Google Colab.\n"
      ]
    },
    {
      "cell_type": "code",
      "metadata": {
        "id": "I5rPveR_TFl5",
        "colab_type": "code",
        "colab": {}
      },
      "source": [
        "!pip install -U -q PyDrive\n",
        "from pydrive.auth import GoogleAuth\n",
        "from pydrive.drive import GoogleDrive\n",
        "from google.colab import auth\n",
        "from oauth2client.client import GoogleCredentials\n",
        "\n",
        "auth.authenticate_user()\n",
        "gauth = GoogleAuth()\n",
        "gauth.credentials = GoogleCredentials.get_application_default()\n",
        "drive = GoogleDrive(gauth)"
      ],
      "execution_count": null,
      "outputs": []
    },
    {
      "cell_type": "code",
      "metadata": {
        "id": "q1ziSWGBiq-x",
        "colab_type": "code",
        "colab": {}
      },
      "source": [
        "id = \"1H8-SUpdMpteA-Qvxn0F1Ad3Ek3z8lU1t\""
      ],
      "execution_count": null,
      "outputs": []
    },
    {
      "cell_type": "code",
      "metadata": {
        "id": "k2TsUUiUi1tE",
        "colab_type": "code",
        "colab": {}
      },
      "source": [
        "downloaded = drive.CreateFile({'id':id}) \n",
        "downloaded.GetContentFile('autos.csv')"
      ],
      "execution_count": null,
      "outputs": []
    },
    {
      "cell_type": "code",
      "metadata": {
        "id": "RblOqgYLi5Uu",
        "colab_type": "code",
        "colab": {}
      },
      "source": [
        "import pandas as pd\n",
        "import numpy as np"
      ],
      "execution_count": null,
      "outputs": []
    },
    {
      "cell_type": "markdown",
      "metadata": {
        "id": "iaSUWlFjmQmb",
        "colab_type": "text"
      },
      "source": [
        "The dataset could not be read using \"UTF-8\" or \"Windows-1252\" encoding, so we used \"Latin-1\"."
      ]
    },
    {
      "cell_type": "code",
      "metadata": {
        "id": "oOmAWg2Ilcv4",
        "colab_type": "code",
        "colab": {}
      },
      "source": [
        "autos = pd.read_csv(\"autos.csv\", encoding='Latin-1')"
      ],
      "execution_count": null,
      "outputs": []
    },
    {
      "cell_type": "markdown",
      "metadata": {
        "id": "LmoXZP6Djxg7",
        "colab_type": "text"
      },
      "source": [
        "Let's render the first few and last few values of this pandas object, by running the `autos` variable in a separate cell."
      ]
    },
    {
      "cell_type": "code",
      "metadata": {
        "id": "bb5VqZ8emx3w",
        "colab_type": "code",
        "colab": {
          "base_uri": "https://localhost:8080/",
          "height": 760
        },
        "outputId": "901d5ab7-3a39-4994-cfe4-8f21cdad638c"
      },
      "source": [
        "autos"
      ],
      "execution_count": null,
      "outputs": [
        {
          "output_type": "execute_result",
          "data": {
            "text/html": [
              "<div>\n",
              "<style scoped>\n",
              "    .dataframe tbody tr th:only-of-type {\n",
              "        vertical-align: middle;\n",
              "    }\n",
              "\n",
              "    .dataframe tbody tr th {\n",
              "        vertical-align: top;\n",
              "    }\n",
              "\n",
              "    .dataframe thead th {\n",
              "        text-align: right;\n",
              "    }\n",
              "</style>\n",
              "<table border=\"1\" class=\"dataframe\">\n",
              "  <thead>\n",
              "    <tr style=\"text-align: right;\">\n",
              "      <th></th>\n",
              "      <th>dateCrawled</th>\n",
              "      <th>name</th>\n",
              "      <th>seller</th>\n",
              "      <th>offerType</th>\n",
              "      <th>price</th>\n",
              "      <th>abtest</th>\n",
              "      <th>vehicleType</th>\n",
              "      <th>yearOfRegistration</th>\n",
              "      <th>gearbox</th>\n",
              "      <th>powerPS</th>\n",
              "      <th>model</th>\n",
              "      <th>odometer</th>\n",
              "      <th>monthOfRegistration</th>\n",
              "      <th>fuelType</th>\n",
              "      <th>brand</th>\n",
              "      <th>notRepairedDamage</th>\n",
              "      <th>dateCreated</th>\n",
              "      <th>nrOfPictures</th>\n",
              "      <th>postalCode</th>\n",
              "      <th>lastSeen</th>\n",
              "    </tr>\n",
              "  </thead>\n",
              "  <tbody>\n",
              "    <tr>\n",
              "      <th>0</th>\n",
              "      <td>2016-03-26 17:47:46</td>\n",
              "      <td>Peugeot_807_160_NAVTECH_ON_BOARD</td>\n",
              "      <td>privat</td>\n",
              "      <td>Angebot</td>\n",
              "      <td>$5,000</td>\n",
              "      <td>control</td>\n",
              "      <td>bus</td>\n",
              "      <td>2004</td>\n",
              "      <td>manuell</td>\n",
              "      <td>158</td>\n",
              "      <td>andere</td>\n",
              "      <td>150,000km</td>\n",
              "      <td>3</td>\n",
              "      <td>lpg</td>\n",
              "      <td>peugeot</td>\n",
              "      <td>nein</td>\n",
              "      <td>2016-03-26 00:00:00</td>\n",
              "      <td>0</td>\n",
              "      <td>79588</td>\n",
              "      <td>2016-04-06 06:45:54</td>\n",
              "    </tr>\n",
              "    <tr>\n",
              "      <th>1</th>\n",
              "      <td>2016-04-04 13:38:56</td>\n",
              "      <td>BMW_740i_4_4_Liter_HAMANN_UMBAU_Mega_Optik</td>\n",
              "      <td>privat</td>\n",
              "      <td>Angebot</td>\n",
              "      <td>$8,500</td>\n",
              "      <td>control</td>\n",
              "      <td>limousine</td>\n",
              "      <td>1997</td>\n",
              "      <td>automatik</td>\n",
              "      <td>286</td>\n",
              "      <td>7er</td>\n",
              "      <td>150,000km</td>\n",
              "      <td>6</td>\n",
              "      <td>benzin</td>\n",
              "      <td>bmw</td>\n",
              "      <td>nein</td>\n",
              "      <td>2016-04-04 00:00:00</td>\n",
              "      <td>0</td>\n",
              "      <td>71034</td>\n",
              "      <td>2016-04-06 14:45:08</td>\n",
              "    </tr>\n",
              "    <tr>\n",
              "      <th>2</th>\n",
              "      <td>2016-03-26 18:57:24</td>\n",
              "      <td>Volkswagen_Golf_1.6_United</td>\n",
              "      <td>privat</td>\n",
              "      <td>Angebot</td>\n",
              "      <td>$8,990</td>\n",
              "      <td>test</td>\n",
              "      <td>limousine</td>\n",
              "      <td>2009</td>\n",
              "      <td>manuell</td>\n",
              "      <td>102</td>\n",
              "      <td>golf</td>\n",
              "      <td>70,000km</td>\n",
              "      <td>7</td>\n",
              "      <td>benzin</td>\n",
              "      <td>volkswagen</td>\n",
              "      <td>nein</td>\n",
              "      <td>2016-03-26 00:00:00</td>\n",
              "      <td>0</td>\n",
              "      <td>35394</td>\n",
              "      <td>2016-04-06 20:15:37</td>\n",
              "    </tr>\n",
              "    <tr>\n",
              "      <th>3</th>\n",
              "      <td>2016-03-12 16:58:10</td>\n",
              "      <td>Smart_smart_fortwo_coupe_softouch/F1/Klima/Pan...</td>\n",
              "      <td>privat</td>\n",
              "      <td>Angebot</td>\n",
              "      <td>$4,350</td>\n",
              "      <td>control</td>\n",
              "      <td>kleinwagen</td>\n",
              "      <td>2007</td>\n",
              "      <td>automatik</td>\n",
              "      <td>71</td>\n",
              "      <td>fortwo</td>\n",
              "      <td>70,000km</td>\n",
              "      <td>6</td>\n",
              "      <td>benzin</td>\n",
              "      <td>smart</td>\n",
              "      <td>nein</td>\n",
              "      <td>2016-03-12 00:00:00</td>\n",
              "      <td>0</td>\n",
              "      <td>33729</td>\n",
              "      <td>2016-03-15 03:16:28</td>\n",
              "    </tr>\n",
              "    <tr>\n",
              "      <th>4</th>\n",
              "      <td>2016-04-01 14:38:50</td>\n",
              "      <td>Ford_Focus_1_6_Benzin_TÜV_neu_ist_sehr_gepfleg...</td>\n",
              "      <td>privat</td>\n",
              "      <td>Angebot</td>\n",
              "      <td>$1,350</td>\n",
              "      <td>test</td>\n",
              "      <td>kombi</td>\n",
              "      <td>2003</td>\n",
              "      <td>manuell</td>\n",
              "      <td>0</td>\n",
              "      <td>focus</td>\n",
              "      <td>150,000km</td>\n",
              "      <td>7</td>\n",
              "      <td>benzin</td>\n",
              "      <td>ford</td>\n",
              "      <td>nein</td>\n",
              "      <td>2016-04-01 00:00:00</td>\n",
              "      <td>0</td>\n",
              "      <td>39218</td>\n",
              "      <td>2016-04-01 14:38:50</td>\n",
              "    </tr>\n",
              "    <tr>\n",
              "      <th>...</th>\n",
              "      <td>...</td>\n",
              "      <td>...</td>\n",
              "      <td>...</td>\n",
              "      <td>...</td>\n",
              "      <td>...</td>\n",
              "      <td>...</td>\n",
              "      <td>...</td>\n",
              "      <td>...</td>\n",
              "      <td>...</td>\n",
              "      <td>...</td>\n",
              "      <td>...</td>\n",
              "      <td>...</td>\n",
              "      <td>...</td>\n",
              "      <td>...</td>\n",
              "      <td>...</td>\n",
              "      <td>...</td>\n",
              "      <td>...</td>\n",
              "      <td>...</td>\n",
              "      <td>...</td>\n",
              "      <td>...</td>\n",
              "    </tr>\n",
              "    <tr>\n",
              "      <th>49995</th>\n",
              "      <td>2016-03-27 14:38:19</td>\n",
              "      <td>Audi_Q5_3.0_TDI_qu._S_tr.__Navi__Panorama__Xenon</td>\n",
              "      <td>privat</td>\n",
              "      <td>Angebot</td>\n",
              "      <td>$24,900</td>\n",
              "      <td>control</td>\n",
              "      <td>limousine</td>\n",
              "      <td>2011</td>\n",
              "      <td>automatik</td>\n",
              "      <td>239</td>\n",
              "      <td>q5</td>\n",
              "      <td>100,000km</td>\n",
              "      <td>1</td>\n",
              "      <td>diesel</td>\n",
              "      <td>audi</td>\n",
              "      <td>nein</td>\n",
              "      <td>2016-03-27 00:00:00</td>\n",
              "      <td>0</td>\n",
              "      <td>82131</td>\n",
              "      <td>2016-04-01 13:47:40</td>\n",
              "    </tr>\n",
              "    <tr>\n",
              "      <th>49996</th>\n",
              "      <td>2016-03-28 10:50:25</td>\n",
              "      <td>Opel_Astra_F_Cabrio_Bertone_Edition___TÜV_neu+...</td>\n",
              "      <td>privat</td>\n",
              "      <td>Angebot</td>\n",
              "      <td>$1,980</td>\n",
              "      <td>control</td>\n",
              "      <td>cabrio</td>\n",
              "      <td>1996</td>\n",
              "      <td>manuell</td>\n",
              "      <td>75</td>\n",
              "      <td>astra</td>\n",
              "      <td>150,000km</td>\n",
              "      <td>5</td>\n",
              "      <td>benzin</td>\n",
              "      <td>opel</td>\n",
              "      <td>nein</td>\n",
              "      <td>2016-03-28 00:00:00</td>\n",
              "      <td>0</td>\n",
              "      <td>44807</td>\n",
              "      <td>2016-04-02 14:18:02</td>\n",
              "    </tr>\n",
              "    <tr>\n",
              "      <th>49997</th>\n",
              "      <td>2016-04-02 14:44:48</td>\n",
              "      <td>Fiat_500_C_1.2_Dualogic_Lounge</td>\n",
              "      <td>privat</td>\n",
              "      <td>Angebot</td>\n",
              "      <td>$13,200</td>\n",
              "      <td>test</td>\n",
              "      <td>cabrio</td>\n",
              "      <td>2014</td>\n",
              "      <td>automatik</td>\n",
              "      <td>69</td>\n",
              "      <td>500</td>\n",
              "      <td>5,000km</td>\n",
              "      <td>11</td>\n",
              "      <td>benzin</td>\n",
              "      <td>fiat</td>\n",
              "      <td>nein</td>\n",
              "      <td>2016-04-02 00:00:00</td>\n",
              "      <td>0</td>\n",
              "      <td>73430</td>\n",
              "      <td>2016-04-04 11:47:27</td>\n",
              "    </tr>\n",
              "    <tr>\n",
              "      <th>49998</th>\n",
              "      <td>2016-03-08 19:25:42</td>\n",
              "      <td>Audi_A3_2.0_TDI_Sportback_Ambition</td>\n",
              "      <td>privat</td>\n",
              "      <td>Angebot</td>\n",
              "      <td>$22,900</td>\n",
              "      <td>control</td>\n",
              "      <td>kombi</td>\n",
              "      <td>2013</td>\n",
              "      <td>manuell</td>\n",
              "      <td>150</td>\n",
              "      <td>a3</td>\n",
              "      <td>40,000km</td>\n",
              "      <td>11</td>\n",
              "      <td>diesel</td>\n",
              "      <td>audi</td>\n",
              "      <td>nein</td>\n",
              "      <td>2016-03-08 00:00:00</td>\n",
              "      <td>0</td>\n",
              "      <td>35683</td>\n",
              "      <td>2016-04-05 16:45:07</td>\n",
              "    </tr>\n",
              "    <tr>\n",
              "      <th>49999</th>\n",
              "      <td>2016-03-14 00:42:12</td>\n",
              "      <td>Opel_Vectra_1.6_16V</td>\n",
              "      <td>privat</td>\n",
              "      <td>Angebot</td>\n",
              "      <td>$1,250</td>\n",
              "      <td>control</td>\n",
              "      <td>limousine</td>\n",
              "      <td>1996</td>\n",
              "      <td>manuell</td>\n",
              "      <td>101</td>\n",
              "      <td>vectra</td>\n",
              "      <td>150,000km</td>\n",
              "      <td>1</td>\n",
              "      <td>benzin</td>\n",
              "      <td>opel</td>\n",
              "      <td>nein</td>\n",
              "      <td>2016-03-13 00:00:00</td>\n",
              "      <td>0</td>\n",
              "      <td>45897</td>\n",
              "      <td>2016-04-06 21:18:48</td>\n",
              "    </tr>\n",
              "  </tbody>\n",
              "</table>\n",
              "<p>50000 rows × 20 columns</p>\n",
              "</div>"
            ],
            "text/plain": [
              "               dateCrawled  ...             lastSeen\n",
              "0      2016-03-26 17:47:46  ...  2016-04-06 06:45:54\n",
              "1      2016-04-04 13:38:56  ...  2016-04-06 14:45:08\n",
              "2      2016-03-26 18:57:24  ...  2016-04-06 20:15:37\n",
              "3      2016-03-12 16:58:10  ...  2016-03-15 03:16:28\n",
              "4      2016-04-01 14:38:50  ...  2016-04-01 14:38:50\n",
              "...                    ...  ...                  ...\n",
              "49995  2016-03-27 14:38:19  ...  2016-04-01 13:47:40\n",
              "49996  2016-03-28 10:50:25  ...  2016-04-02 14:18:02\n",
              "49997  2016-04-02 14:44:48  ...  2016-04-04 11:47:27\n",
              "49998  2016-03-08 19:25:42  ...  2016-04-05 16:45:07\n",
              "49999  2016-03-14 00:42:12  ...  2016-04-06 21:18:48\n",
              "\n",
              "[50000 rows x 20 columns]"
            ]
          },
          "metadata": {
            "tags": []
          },
          "execution_count": 300
        }
      ]
    },
    {
      "cell_type": "markdown",
      "metadata": {
        "id": "I9pTmkbMm0fH",
        "colab_type": "text"
      },
      "source": [
        "Now we run  the `DataFrame.info()` an `DataFrame.shape()` method to print information about the `autos` dataframe."
      ]
    },
    {
      "cell_type": "code",
      "metadata": {
        "id": "KkTPkVLPm8S3",
        "colab_type": "code",
        "colab": {
          "base_uri": "https://localhost:8080/",
          "height": 496
        },
        "outputId": "480b7ad5-9c20-4002-d2ac-2929ca6f111a"
      },
      "source": [
        "autos.info()"
      ],
      "execution_count": null,
      "outputs": [
        {
          "output_type": "stream",
          "text": [
            "<class 'pandas.core.frame.DataFrame'>\n",
            "RangeIndex: 50000 entries, 0 to 49999\n",
            "Data columns (total 20 columns):\n",
            " #   Column               Non-Null Count  Dtype \n",
            "---  ------               --------------  ----- \n",
            " 0   dateCrawled          50000 non-null  object\n",
            " 1   name                 50000 non-null  object\n",
            " 2   seller               50000 non-null  object\n",
            " 3   offerType            50000 non-null  object\n",
            " 4   price                50000 non-null  object\n",
            " 5   abtest               50000 non-null  object\n",
            " 6   vehicleType          44905 non-null  object\n",
            " 7   yearOfRegistration   50000 non-null  int64 \n",
            " 8   gearbox              47320 non-null  object\n",
            " 9   powerPS              50000 non-null  int64 \n",
            " 10  model                47242 non-null  object\n",
            " 11  odometer             50000 non-null  object\n",
            " 12  monthOfRegistration  50000 non-null  int64 \n",
            " 13  fuelType             45518 non-null  object\n",
            " 14  brand                50000 non-null  object\n",
            " 15  notRepairedDamage    40171 non-null  object\n",
            " 16  dateCreated          50000 non-null  object\n",
            " 17  nrOfPictures         50000 non-null  int64 \n",
            " 18  postalCode           50000 non-null  int64 \n",
            " 19  lastSeen             50000 non-null  object\n",
            "dtypes: int64(5), object(15)\n",
            "memory usage: 7.6+ MB\n"
          ],
          "name": "stdout"
        }
      ]
    },
    {
      "cell_type": "code",
      "metadata": {
        "id": "l9Jt9a8pO2Cq",
        "colab_type": "code",
        "colab": {
          "base_uri": "https://localhost:8080/",
          "height": 34
        },
        "outputId": "3d0a2b40-c376-4901-f030-8c2e2375adef"
      },
      "source": [
        "autos.shape"
      ],
      "execution_count": null,
      "outputs": [
        {
          "output_type": "execute_result",
          "data": {
            "text/plain": [
              "(50000, 20)"
            ]
          },
          "metadata": {
            "tags": []
          },
          "execution_count": 302
        }
      ]
    },
    {
      "cell_type": "markdown",
      "metadata": {
        "id": "FAirWVzXnGaR",
        "colab_type": "text"
      },
      "source": [
        "As expected there are 50.000 records across 20 categories. \n",
        "\n",
        "Other observations are:\n",
        "* Five columns are integers, the others are objects (strings).\n",
        "* Five columns contain null-values, but none have more than ~20% null values. \n",
        "* The column names contain capital letters (\"[camel case](https://en.wikipedia.org/wiki/Camel_case)\" formatting) instead of Python's preferred \"[snakecase](https://en.wikipedia.org/wiki/Snake_case)\", which means we cannot simply replace spaces with underscores.\n",
        "\n",
        " Let's check for duplicates:"
      ]
    },
    {
      "cell_type": "code",
      "metadata": {
        "id": "F8t1vyO6HTXO",
        "colab_type": "code",
        "colab": {
          "base_uri": "https://localhost:8080/",
          "height": 67
        },
        "outputId": "418ff581-f03d-4321-b4d9-5aed5be627be"
      },
      "source": [
        "duplicate_bool = autos.duplicated() \n",
        "autos[duplicate_bool]"
      ],
      "execution_count": null,
      "outputs": [
        {
          "output_type": "execute_result",
          "data": {
            "text/html": [
              "<div>\n",
              "<style scoped>\n",
              "    .dataframe tbody tr th:only-of-type {\n",
              "        vertical-align: middle;\n",
              "    }\n",
              "\n",
              "    .dataframe tbody tr th {\n",
              "        vertical-align: top;\n",
              "    }\n",
              "\n",
              "    .dataframe thead th {\n",
              "        text-align: right;\n",
              "    }\n",
              "</style>\n",
              "<table border=\"1\" class=\"dataframe\">\n",
              "  <thead>\n",
              "    <tr style=\"text-align: right;\">\n",
              "      <th></th>\n",
              "      <th>dateCrawled</th>\n",
              "      <th>name</th>\n",
              "      <th>seller</th>\n",
              "      <th>offerType</th>\n",
              "      <th>price</th>\n",
              "      <th>abtest</th>\n",
              "      <th>vehicleType</th>\n",
              "      <th>yearOfRegistration</th>\n",
              "      <th>gearbox</th>\n",
              "      <th>powerPS</th>\n",
              "      <th>model</th>\n",
              "      <th>odometer</th>\n",
              "      <th>monthOfRegistration</th>\n",
              "      <th>fuelType</th>\n",
              "      <th>brand</th>\n",
              "      <th>notRepairedDamage</th>\n",
              "      <th>dateCreated</th>\n",
              "      <th>nrOfPictures</th>\n",
              "      <th>postalCode</th>\n",
              "      <th>lastSeen</th>\n",
              "    </tr>\n",
              "  </thead>\n",
              "  <tbody>\n",
              "  </tbody>\n",
              "</table>\n",
              "</div>"
            ],
            "text/plain": [
              "Empty DataFrame\n",
              "Columns: [dateCrawled, name, seller, offerType, price, abtest, vehicleType, yearOfRegistration, gearbox, powerPS, model, odometer, monthOfRegistration, fuelType, brand, notRepairedDamage, dateCreated, nrOfPictures, postalCode, lastSeen]\n",
              "Index: []"
            ]
          },
          "metadata": {
            "tags": []
          },
          "execution_count": 268
        }
      ]
    },
    {
      "cell_type": "markdown",
      "metadata": {
        "id": "xGKzbQrXGt2V",
        "colab_type": "text"
      },
      "source": [
        "No duplicates were found given each row represents one unique ad.\n"
      ]
    },
    {
      "cell_type": "markdown",
      "metadata": {
        "id": "oOJOD1Y0EpaW",
        "colab_type": "text"
      },
      "source": [
        "## 2. Cleaning Column Names"
      ]
    },
    {
      "cell_type": "markdown",
      "metadata": {
        "id": "FVx48i_ZEpc3",
        "colab_type": "text"
      },
      "source": [
        "Next we will convert the column names from camelcase to snakecase and reword some of the column names based on the data dictionary to be more descriptive."
      ]
    },
    {
      "cell_type": "markdown",
      "metadata": {
        "id": "yTl887NBvcHW",
        "colab_type": "text"
      },
      "source": [
        "First we print an array of the existing column names:"
      ]
    },
    {
      "cell_type": "code",
      "metadata": {
        "id": "M06ooLjyvXRz",
        "colab_type": "code",
        "colab": {
          "base_uri": "https://localhost:8080/",
          "height": 123
        },
        "outputId": "212b3843-b37c-45fb-8d72-5b4179a6154c"
      },
      "source": [
        "print(autos.columns)"
      ],
      "execution_count": null,
      "outputs": [
        {
          "output_type": "stream",
          "text": [
            "Index(['dateCrawled', 'name', 'seller', 'offerType', 'price', 'abtest',\n",
            "       'vehicleType', 'yearOfRegistration', 'gearbox', 'powerPS', 'model',\n",
            "       'odometer', 'monthOfRegistration', 'fuelType', 'brand',\n",
            "       'notRepairedDamage', 'dateCreated', 'nrOfPictures', 'postalCode',\n",
            "       'lastSeen'],\n",
            "      dtype='object')\n"
          ],
          "name": "stdout"
        }
      ]
    },
    {
      "cell_type": "markdown",
      "metadata": {
        "id": "ZBHU6R4bvqWQ",
        "colab_type": "text"
      },
      "source": [
        "Next we will make the following edits to columns names:\n",
        "* `yearOfRegistration` to `registration_year`\n",
        "* `monthOfRegistration` to `registration_month`\n",
        "* `notRepairedDamage` to `unrepaired_damage`\n",
        "* `dateCreated` to `ad_created`\n",
        "* The rest of the columnn names from camelcase to snakecase."
      ]
    },
    {
      "cell_type": "markdown",
      "metadata": {
        "id": "OEgdJQO2ydLN",
        "colab_type": "text"
      },
      "source": [
        "We could do this quick and clean, by using the following code:\n",
        "```\n",
        "autos.columns = [\n",
        "       'date_crawled', 'name', 'seller', 'offer_type', 'price', 'abtest',\n",
        "       'vehicle_type', 'registration_year', 'gearbox', 'power_ps', 'model',\n",
        "       'odometer', 'registration_month', 'fuel_type', 'brand',\n",
        "       'unrepaired_damage', 'ad_created', 'nr_of_pictures', 'postal_code',\n",
        "       'last_seen'\n",
        "]\n",
        "```\n",
        "\n"
      ]
    },
    {
      "cell_type": "markdown",
      "metadata": {
        "id": "sj_p35nezhC-",
        "colab_type": "text"
      },
      "source": [
        "However, I prefer to use the functions described above which would also work for datasets with more columns."
      ]
    },
    {
      "cell_type": "code",
      "metadata": {
        "id": "ow5x-rPY1M_z",
        "colab_type": "code",
        "colab": {}
      },
      "source": [
        "# Function name: fix_column(col)\n",
        "# Input: The name of a column of the dataset\n",
        "# Output: A standardized version of the column_name\n",
        "# Description: The column names in the dataset are not consistent. This funtion\n",
        "# will rename some of the columns and set all the column names to a common standard.\n",
        "\n",
        "def fix_column(col):\n",
        "    col = col.replace(\"yearOfRegistration\",\"registration_year\")\n",
        "    col = col.replace(\"monthOfRegistration\",\"registration_month\")\n",
        "    col = col.replace(\"notRepairedDamage\", \"unrepaired_damage\")\n",
        "    col = col.replace(\"dateCreated\", \"ad_created\")\n",
        "    col = camel_to_snake(col)\n",
        "    return col"
      ],
      "execution_count": null,
      "outputs": []
    },
    {
      "cell_type": "code",
      "metadata": {
        "id": "LQqr_XKs2N9T",
        "colab_type": "code",
        "colab": {}
      },
      "source": [
        "# Function name: camel_to_snake\n",
        "# Input: The name of a column in the dataset\n",
        "# Output: The given name in snake case\n",
        "# Description: This function converts a given column name to snake case to keep\n",
        "# it consistant with Python conventions and standards.\n",
        "\n",
        "def camel_to_snake(col):\n",
        "    pos = 0\n",
        "    for letter in col:\n",
        "        if letter.isupper() == True:\n",
        "            pos = col.index(letter)\n",
        "            string1 = col[:pos]\n",
        "            string2 = col[pos:]\n",
        "            col = string1+\"_\"+string2\n",
        "    return (col.lower())"
      ],
      "execution_count": null,
      "outputs": []
    },
    {
      "cell_type": "code",
      "metadata": {
        "id": "Op__D-f1v7h3",
        "colab_type": "code",
        "colab": {
          "base_uri": "https://localhost:8080/",
          "height": 123
        },
        "outputId": "86fe928f-71e0-4955-a569-16c66928ffac"
      },
      "source": [
        "autos_columns_fixed = []\n",
        "autos.columns\n",
        "for c in autos.columns:\n",
        "  autos_columns_fixed.append(fix_column(c))\n",
        "\n",
        "autos.columns = autos_columns_fixed\n",
        "\n",
        "autos.columns"
      ],
      "execution_count": null,
      "outputs": [
        {
          "output_type": "execute_result",
          "data": {
            "text/plain": [
              "Index(['date_crawled', 'name', 'seller', 'offer_type', 'price', 'abtest',\n",
              "       'vehicle_type', 'registration_year', 'gearbox', 'power_p_s', 'model',\n",
              "       'odometer', 'registration_month', 'fuel_type', 'brand',\n",
              "       'unrepaired_damage', 'ad_created', 'nr_of_pictures', 'postal_code',\n",
              "       'last_seen'],\n",
              "      dtype='object')"
            ]
          },
          "metadata": {
            "tags": []
          },
          "execution_count": 306
        }
      ]
    },
    {
      "cell_type": "markdown",
      "metadata": {
        "id": "nu6Hbm5EAFLC",
        "colab_type": "text"
      },
      "source": [
        "By adopting the standard Python formatting conventions it will be easier for other developers and data scientists to read the notebook."
      ]
    },
    {
      "cell_type": "markdown",
      "metadata": {
        "id": "kvyDdJmZEpfc",
        "colab_type": "text"
      },
      "source": [
        "## 3. Initial Exploration and Cleaning"
      ]
    },
    {
      "cell_type": "markdown",
      "metadata": {
        "id": "BKwZuP0fEphm",
        "colab_type": "text"
      },
      "source": [
        "Now let's do some basic data exploration to determine what other cleaning tasks need to be done. Initially we will look for: \n",
        "- Text columns where all or almost all values are the same. These can often be dropped as they don't have useful information for analysis. \n",
        "- Examples of numeric data stored as text which can be cleaned and converted.\n",
        "\n"
      ]
    },
    {
      "cell_type": "markdown",
      "metadata": {
        "id": "TIOKo1e3Foc8",
        "colab_type": "text"
      },
      "source": [
        "First, let's take a look at the descriptive statistics for all columns. By entering `include='all'` we will get both categorical and numeric columns:"
      ]
    },
    {
      "cell_type": "code",
      "metadata": {
        "id": "7nfxGI2-F09I",
        "colab_type": "code",
        "colab": {
          "base_uri": "https://localhost:8080/",
          "height": 414
        },
        "outputId": "4b3ae10f-39f4-4d67-f12b-f1640026a15f"
      },
      "source": [
        "autos.describe(include='all')"
      ],
      "execution_count": 307,
      "outputs": [
        {
          "output_type": "execute_result",
          "data": {
            "text/html": [
              "<div>\n",
              "<style scoped>\n",
              "    .dataframe tbody tr th:only-of-type {\n",
              "        vertical-align: middle;\n",
              "    }\n",
              "\n",
              "    .dataframe tbody tr th {\n",
              "        vertical-align: top;\n",
              "    }\n",
              "\n",
              "    .dataframe thead th {\n",
              "        text-align: right;\n",
              "    }\n",
              "</style>\n",
              "<table border=\"1\" class=\"dataframe\">\n",
              "  <thead>\n",
              "    <tr style=\"text-align: right;\">\n",
              "      <th></th>\n",
              "      <th>date_crawled</th>\n",
              "      <th>name</th>\n",
              "      <th>seller</th>\n",
              "      <th>offer_type</th>\n",
              "      <th>price</th>\n",
              "      <th>abtest</th>\n",
              "      <th>vehicle_type</th>\n",
              "      <th>registration_year</th>\n",
              "      <th>gearbox</th>\n",
              "      <th>power_p_s</th>\n",
              "      <th>model</th>\n",
              "      <th>odometer</th>\n",
              "      <th>registration_month</th>\n",
              "      <th>fuel_type</th>\n",
              "      <th>brand</th>\n",
              "      <th>unrepaired_damage</th>\n",
              "      <th>ad_created</th>\n",
              "      <th>nr_of_pictures</th>\n",
              "      <th>postal_code</th>\n",
              "      <th>last_seen</th>\n",
              "    </tr>\n",
              "  </thead>\n",
              "  <tbody>\n",
              "    <tr>\n",
              "      <th>count</th>\n",
              "      <td>50000</td>\n",
              "      <td>50000</td>\n",
              "      <td>50000</td>\n",
              "      <td>50000</td>\n",
              "      <td>50000</td>\n",
              "      <td>50000</td>\n",
              "      <td>44905</td>\n",
              "      <td>50000.000000</td>\n",
              "      <td>47320</td>\n",
              "      <td>50000.000000</td>\n",
              "      <td>47242</td>\n",
              "      <td>50000</td>\n",
              "      <td>50000.000000</td>\n",
              "      <td>45518</td>\n",
              "      <td>50000</td>\n",
              "      <td>40171</td>\n",
              "      <td>50000</td>\n",
              "      <td>50000.0</td>\n",
              "      <td>50000.000000</td>\n",
              "      <td>50000</td>\n",
              "    </tr>\n",
              "    <tr>\n",
              "      <th>unique</th>\n",
              "      <td>48213</td>\n",
              "      <td>38754</td>\n",
              "      <td>2</td>\n",
              "      <td>2</td>\n",
              "      <td>2357</td>\n",
              "      <td>2</td>\n",
              "      <td>8</td>\n",
              "      <td>NaN</td>\n",
              "      <td>2</td>\n",
              "      <td>NaN</td>\n",
              "      <td>245</td>\n",
              "      <td>13</td>\n",
              "      <td>NaN</td>\n",
              "      <td>7</td>\n",
              "      <td>40</td>\n",
              "      <td>2</td>\n",
              "      <td>76</td>\n",
              "      <td>NaN</td>\n",
              "      <td>NaN</td>\n",
              "      <td>39481</td>\n",
              "    </tr>\n",
              "    <tr>\n",
              "      <th>top</th>\n",
              "      <td>2016-03-30 19:48:02</td>\n",
              "      <td>Ford_Fiesta</td>\n",
              "      <td>privat</td>\n",
              "      <td>Angebot</td>\n",
              "      <td>$0</td>\n",
              "      <td>test</td>\n",
              "      <td>limousine</td>\n",
              "      <td>NaN</td>\n",
              "      <td>manuell</td>\n",
              "      <td>NaN</td>\n",
              "      <td>golf</td>\n",
              "      <td>150,000km</td>\n",
              "      <td>NaN</td>\n",
              "      <td>benzin</td>\n",
              "      <td>volkswagen</td>\n",
              "      <td>nein</td>\n",
              "      <td>2016-04-03 00:00:00</td>\n",
              "      <td>NaN</td>\n",
              "      <td>NaN</td>\n",
              "      <td>2016-04-07 06:17:27</td>\n",
              "    </tr>\n",
              "    <tr>\n",
              "      <th>freq</th>\n",
              "      <td>3</td>\n",
              "      <td>78</td>\n",
              "      <td>49999</td>\n",
              "      <td>49999</td>\n",
              "      <td>1421</td>\n",
              "      <td>25756</td>\n",
              "      <td>12859</td>\n",
              "      <td>NaN</td>\n",
              "      <td>36993</td>\n",
              "      <td>NaN</td>\n",
              "      <td>4024</td>\n",
              "      <td>32424</td>\n",
              "      <td>NaN</td>\n",
              "      <td>30107</td>\n",
              "      <td>10687</td>\n",
              "      <td>35232</td>\n",
              "      <td>1946</td>\n",
              "      <td>NaN</td>\n",
              "      <td>NaN</td>\n",
              "      <td>8</td>\n",
              "    </tr>\n",
              "    <tr>\n",
              "      <th>mean</th>\n",
              "      <td>NaN</td>\n",
              "      <td>NaN</td>\n",
              "      <td>NaN</td>\n",
              "      <td>NaN</td>\n",
              "      <td>NaN</td>\n",
              "      <td>NaN</td>\n",
              "      <td>NaN</td>\n",
              "      <td>2005.073280</td>\n",
              "      <td>NaN</td>\n",
              "      <td>116.355920</td>\n",
              "      <td>NaN</td>\n",
              "      <td>NaN</td>\n",
              "      <td>5.723360</td>\n",
              "      <td>NaN</td>\n",
              "      <td>NaN</td>\n",
              "      <td>NaN</td>\n",
              "      <td>NaN</td>\n",
              "      <td>0.0</td>\n",
              "      <td>50813.627300</td>\n",
              "      <td>NaN</td>\n",
              "    </tr>\n",
              "    <tr>\n",
              "      <th>std</th>\n",
              "      <td>NaN</td>\n",
              "      <td>NaN</td>\n",
              "      <td>NaN</td>\n",
              "      <td>NaN</td>\n",
              "      <td>NaN</td>\n",
              "      <td>NaN</td>\n",
              "      <td>NaN</td>\n",
              "      <td>105.712813</td>\n",
              "      <td>NaN</td>\n",
              "      <td>209.216627</td>\n",
              "      <td>NaN</td>\n",
              "      <td>NaN</td>\n",
              "      <td>3.711984</td>\n",
              "      <td>NaN</td>\n",
              "      <td>NaN</td>\n",
              "      <td>NaN</td>\n",
              "      <td>NaN</td>\n",
              "      <td>0.0</td>\n",
              "      <td>25779.747957</td>\n",
              "      <td>NaN</td>\n",
              "    </tr>\n",
              "    <tr>\n",
              "      <th>min</th>\n",
              "      <td>NaN</td>\n",
              "      <td>NaN</td>\n",
              "      <td>NaN</td>\n",
              "      <td>NaN</td>\n",
              "      <td>NaN</td>\n",
              "      <td>NaN</td>\n",
              "      <td>NaN</td>\n",
              "      <td>1000.000000</td>\n",
              "      <td>NaN</td>\n",
              "      <td>0.000000</td>\n",
              "      <td>NaN</td>\n",
              "      <td>NaN</td>\n",
              "      <td>0.000000</td>\n",
              "      <td>NaN</td>\n",
              "      <td>NaN</td>\n",
              "      <td>NaN</td>\n",
              "      <td>NaN</td>\n",
              "      <td>0.0</td>\n",
              "      <td>1067.000000</td>\n",
              "      <td>NaN</td>\n",
              "    </tr>\n",
              "    <tr>\n",
              "      <th>25%</th>\n",
              "      <td>NaN</td>\n",
              "      <td>NaN</td>\n",
              "      <td>NaN</td>\n",
              "      <td>NaN</td>\n",
              "      <td>NaN</td>\n",
              "      <td>NaN</td>\n",
              "      <td>NaN</td>\n",
              "      <td>1999.000000</td>\n",
              "      <td>NaN</td>\n",
              "      <td>70.000000</td>\n",
              "      <td>NaN</td>\n",
              "      <td>NaN</td>\n",
              "      <td>3.000000</td>\n",
              "      <td>NaN</td>\n",
              "      <td>NaN</td>\n",
              "      <td>NaN</td>\n",
              "      <td>NaN</td>\n",
              "      <td>0.0</td>\n",
              "      <td>30451.000000</td>\n",
              "      <td>NaN</td>\n",
              "    </tr>\n",
              "    <tr>\n",
              "      <th>50%</th>\n",
              "      <td>NaN</td>\n",
              "      <td>NaN</td>\n",
              "      <td>NaN</td>\n",
              "      <td>NaN</td>\n",
              "      <td>NaN</td>\n",
              "      <td>NaN</td>\n",
              "      <td>NaN</td>\n",
              "      <td>2003.000000</td>\n",
              "      <td>NaN</td>\n",
              "      <td>105.000000</td>\n",
              "      <td>NaN</td>\n",
              "      <td>NaN</td>\n",
              "      <td>6.000000</td>\n",
              "      <td>NaN</td>\n",
              "      <td>NaN</td>\n",
              "      <td>NaN</td>\n",
              "      <td>NaN</td>\n",
              "      <td>0.0</td>\n",
              "      <td>49577.000000</td>\n",
              "      <td>NaN</td>\n",
              "    </tr>\n",
              "    <tr>\n",
              "      <th>75%</th>\n",
              "      <td>NaN</td>\n",
              "      <td>NaN</td>\n",
              "      <td>NaN</td>\n",
              "      <td>NaN</td>\n",
              "      <td>NaN</td>\n",
              "      <td>NaN</td>\n",
              "      <td>NaN</td>\n",
              "      <td>2008.000000</td>\n",
              "      <td>NaN</td>\n",
              "      <td>150.000000</td>\n",
              "      <td>NaN</td>\n",
              "      <td>NaN</td>\n",
              "      <td>9.000000</td>\n",
              "      <td>NaN</td>\n",
              "      <td>NaN</td>\n",
              "      <td>NaN</td>\n",
              "      <td>NaN</td>\n",
              "      <td>0.0</td>\n",
              "      <td>71540.000000</td>\n",
              "      <td>NaN</td>\n",
              "    </tr>\n",
              "    <tr>\n",
              "      <th>max</th>\n",
              "      <td>NaN</td>\n",
              "      <td>NaN</td>\n",
              "      <td>NaN</td>\n",
              "      <td>NaN</td>\n",
              "      <td>NaN</td>\n",
              "      <td>NaN</td>\n",
              "      <td>NaN</td>\n",
              "      <td>9999.000000</td>\n",
              "      <td>NaN</td>\n",
              "      <td>17700.000000</td>\n",
              "      <td>NaN</td>\n",
              "      <td>NaN</td>\n",
              "      <td>12.000000</td>\n",
              "      <td>NaN</td>\n",
              "      <td>NaN</td>\n",
              "      <td>NaN</td>\n",
              "      <td>NaN</td>\n",
              "      <td>0.0</td>\n",
              "      <td>99998.000000</td>\n",
              "      <td>NaN</td>\n",
              "    </tr>\n",
              "  </tbody>\n",
              "</table>\n",
              "</div>"
            ],
            "text/plain": [
              "               date_crawled         name  ...   postal_code            last_seen\n",
              "count                 50000        50000  ...  50000.000000                50000\n",
              "unique                48213        38754  ...           NaN                39481\n",
              "top     2016-03-30 19:48:02  Ford_Fiesta  ...           NaN  2016-04-07 06:17:27\n",
              "freq                      3           78  ...           NaN                    8\n",
              "mean                    NaN          NaN  ...  50813.627300                  NaN\n",
              "std                     NaN          NaN  ...  25779.747957                  NaN\n",
              "min                     NaN          NaN  ...   1067.000000                  NaN\n",
              "25%                     NaN          NaN  ...  30451.000000                  NaN\n",
              "50%                     NaN          NaN  ...  49577.000000                  NaN\n",
              "75%                     NaN          NaN  ...  71540.000000                  NaN\n",
              "max                     NaN          NaN  ...  99998.000000                  NaN\n",
              "\n",
              "[11 rows x 20 columns]"
            ]
          },
          "metadata": {
            "tags": []
          },
          "execution_count": 307
        }
      ]
    },
    {
      "cell_type": "markdown",
      "metadata": {
        "id": "czg2d4pRKUDz",
        "colab_type": "text"
      },
      "source": [
        "In order to explore the findings, I have executed the code below to get more insights:"
      ]
    },
    {
      "cell_type": "code",
      "metadata": {
        "id": "7GKrIUUvMtIC",
        "colab_type": "code",
        "colab": {}
      },
      "source": [
        "#for cat in autos.columns:\n",
        "#  print(cat.upper())\n",
        "#  print('\\n' * 1)\n",
        "#  print(autos[cat].value_counts())\n",
        "#  print('\\n' * 1)\n",
        "#  print(autos[cat].head(20))\n",
        "#  print('\\n' * 4)"
      ],
      "execution_count": 308,
      "outputs": []
    },
    {
      "cell_type": "markdown",
      "metadata": {
        "id": "vFORd0YmwQoE",
        "colab_type": "text"
      },
      "source": [
        "**Data Exploration Findings**\n",
        "\n",
        "√ `date_crawled`: This is a consistent time stamp, which looks good.\n",
        "\n",
        "√ `name`: The first word seems to be the brand (as with the column `brand`), the second word the model (as with the column `model`). This column can therefore be interpreted as the title of the ad.\n",
        "\n",
        "☐ `seller`: Only one entry has 'gewerblich’, all the rest is 'private’. \n",
        "*Consider dropping this row.*\n",
        "\n",
        "☐ `offer_type`: Only one entry has 'Gesuch' ('Searched'), all the rest is 'Angebot' ('Offered'). \n",
        "*Consider dropping this row.*\n",
        "\n",
        "☐ `price`: This column is not an integer. For further analysis, remove currency sign, move this to column header and turn into `int`. *Change from string to integer.*\n",
        "\n",
        "√ `abtest`: Only two different values 'test' and 'control'. Looks good.\n",
        "\n",
        "☐ `vehicle_type`: 8 different types are mentioned in German, which could be translated to English. There are also 95 NaN values of the 50,000 entries, which is not much. *Consider translating.*\n",
        "\n",
        "√ `registration_year`: Some numbers in this category are out of the logical range. Entries have a minimal value of 1000, and a maximum value of 9999. Most seem fine.\n",
        "\n",
        "☐ `gear_box`: There are 2680 NaN values. The other records have one of two different types of gearbox. *Consider translating.*\n",
        "\n",
        "☐ `power_ps`: 5500 entries have noted 0 horsepower. The maximum value of 17700 is significantly more than the value at 75%, which suggests inaccurate data in this column. *Requires more investigation.*\n",
        "\n",
        "☐ `model`: Looks similar to the second word in the `name` column, just after the first underscore. *Consider translating.*\n",
        "\n",
        "☐ `odometer`: Mileage, where the \"km\" can be removed, in order to make the cells integers. *Change from string to integer.*\n",
        "\n",
        "☐ `registration_month`: The minimum in this column is \"0\" (with 5075 entries), which also suggests inaccurate rows of data.\n",
        "\n",
        "☐ `fuel_type`: Also described in German, but the entries look accurate and fine. *Consider translating.*\n",
        "\n",
        "☐ `brand`: Looks fine, no duplicate names. Some strings are in German. *Consider translating.*\n",
        "\n",
        "☐ `unrepaired_damage`: Almost 10,000 cases of NaN. The other entries are one of two values, written in German. *Consider translating.*\n",
        "\n",
        "☐ `ad_created`: Date stamp seems fine, but the time stamp can be removed as it is 00:00:00 everywhere. *Consider removing time stamp.*\n",
        "\n",
        "☐ `nr_of_pictures`: Zero everywhere so not much meaning, *Consider dropping this row.*\n",
        "\n",
        "☐ `postal_code`: Has an entry of four digits, where usually 5 digits are used. The entry 99998 also seems unusual, as do numbers after the decimal. *Requires more investigation.*\n",
        "\n",
        "√ `last_seen`: Date stamp seems fine."
      ]
    },
    {
      "cell_type": "markdown",
      "metadata": {
        "id": "UuiFQzs5y1xE",
        "colab_type": "text"
      },
      "source": [
        "**Dropping columns with mostly one value**\n",
        "\n",
        "Three columns have excactly the same data for almost every row which will have no significant use for analysis and are therefore being removed."
      ]
    },
    {
      "cell_type": "code",
      "metadata": {
        "id": "a3ymFVsZzCs-",
        "colab_type": "code",
        "colab": {
          "base_uri": "https://localhost:8080/",
          "height": 34
        },
        "outputId": "c9663e65-6a1a-4b2e-d2fb-284bcd5b907d"
      },
      "source": [
        "autos.drop([\"seller\", \"offer_type\", \"nr_of_pictures\"], axis=1, inplace = True)\n",
        "autos.shape"
      ],
      "execution_count": 310,
      "outputs": [
        {
          "output_type": "execute_result",
          "data": {
            "text/plain": [
              "(50000, 17)"
            ]
          },
          "metadata": {
            "tags": []
          },
          "execution_count": 310
        }
      ]
    },
    {
      "cell_type": "markdown",
      "metadata": {
        "id": "Q9f0Vtj1JCgj",
        "colab_type": "text"
      },
      "source": [
        "**Translate German words to English**"
      ]
    },
    {
      "cell_type": "code",
      "metadata": {
        "id": "3L6KmLMwJPFP",
        "colab_type": "code",
        "colab": {
          "base_uri": "https://localhost:8080/",
          "height": 301
        },
        "outputId": "065ecf10-6afe-4972-d433-93637ba2795d"
      },
      "source": [
        "# Function name: translate(string)\n",
        "# Input: Strings of German words using a mapping of translated words\n",
        "# Output: Strings translated to English\n",
        "# Description: Many strings names in the dataset are in German. For better understanding\n",
        "# I will translate these to English.\n",
        "\n",
        "mappings = {\"privat\": \"private\", \"gewerblich\": \"commercial\", \"Angebot\": \"Offer\", \"Gesuch\": \"Search\", \"kleinwagen\":\n",
        "\"mini-car\", \"kombi\":\"station wagon\", \"cabrio\": \"convertible\", \"limousine\": \"sedan\", \"andere\": \"other\" , \"manuell\": \"manual\", \"automatik\":\n",
        "\"automatic\", \"benzin\":\"gas\", \"elektro\": \"electric\", \"sonstige_auto\": \"other\", \"sonstige_autos\": \"other\", \"nein\": \"no\", \"ja\": \"yes\"}\n",
        "\n",
        "def translate(string):\n",
        "  if string in mappings:\n",
        "    return mappings[string]\n",
        "  else:\n",
        "    return string\n",
        "\n",
        "columns_change = [\"vehicle_type\", \"gearbox\", \"model\", \"fuel_type\", \"brand\", \"unrepaired_damage\"]\n",
        "\n",
        "autos[columns_change] = autos[columns_change].applymap(translate)\n",
        "\n",
        "autos.head()"
      ],
      "execution_count": 311,
      "outputs": [
        {
          "output_type": "execute_result",
          "data": {
            "text/html": [
              "<div>\n",
              "<style scoped>\n",
              "    .dataframe tbody tr th:only-of-type {\n",
              "        vertical-align: middle;\n",
              "    }\n",
              "\n",
              "    .dataframe tbody tr th {\n",
              "        vertical-align: top;\n",
              "    }\n",
              "\n",
              "    .dataframe thead th {\n",
              "        text-align: right;\n",
              "    }\n",
              "</style>\n",
              "<table border=\"1\" class=\"dataframe\">\n",
              "  <thead>\n",
              "    <tr style=\"text-align: right;\">\n",
              "      <th></th>\n",
              "      <th>date_crawled</th>\n",
              "      <th>name</th>\n",
              "      <th>price</th>\n",
              "      <th>abtest</th>\n",
              "      <th>vehicle_type</th>\n",
              "      <th>registration_year</th>\n",
              "      <th>gearbox</th>\n",
              "      <th>power_p_s</th>\n",
              "      <th>model</th>\n",
              "      <th>odometer</th>\n",
              "      <th>registration_month</th>\n",
              "      <th>fuel_type</th>\n",
              "      <th>brand</th>\n",
              "      <th>unrepaired_damage</th>\n",
              "      <th>ad_created</th>\n",
              "      <th>postal_code</th>\n",
              "      <th>last_seen</th>\n",
              "    </tr>\n",
              "  </thead>\n",
              "  <tbody>\n",
              "    <tr>\n",
              "      <th>0</th>\n",
              "      <td>2016-03-26 17:47:46</td>\n",
              "      <td>Peugeot_807_160_NAVTECH_ON_BOARD</td>\n",
              "      <td>$5,000</td>\n",
              "      <td>control</td>\n",
              "      <td>bus</td>\n",
              "      <td>2004</td>\n",
              "      <td>manual</td>\n",
              "      <td>158</td>\n",
              "      <td>other</td>\n",
              "      <td>150,000km</td>\n",
              "      <td>3</td>\n",
              "      <td>lpg</td>\n",
              "      <td>peugeot</td>\n",
              "      <td>no</td>\n",
              "      <td>2016-03-26 00:00:00</td>\n",
              "      <td>79588</td>\n",
              "      <td>2016-04-06 06:45:54</td>\n",
              "    </tr>\n",
              "    <tr>\n",
              "      <th>1</th>\n",
              "      <td>2016-04-04 13:38:56</td>\n",
              "      <td>BMW_740i_4_4_Liter_HAMANN_UMBAU_Mega_Optik</td>\n",
              "      <td>$8,500</td>\n",
              "      <td>control</td>\n",
              "      <td>sedan</td>\n",
              "      <td>1997</td>\n",
              "      <td>automatic</td>\n",
              "      <td>286</td>\n",
              "      <td>7er</td>\n",
              "      <td>150,000km</td>\n",
              "      <td>6</td>\n",
              "      <td>gas</td>\n",
              "      <td>bmw</td>\n",
              "      <td>no</td>\n",
              "      <td>2016-04-04 00:00:00</td>\n",
              "      <td>71034</td>\n",
              "      <td>2016-04-06 14:45:08</td>\n",
              "    </tr>\n",
              "    <tr>\n",
              "      <th>2</th>\n",
              "      <td>2016-03-26 18:57:24</td>\n",
              "      <td>Volkswagen_Golf_1.6_United</td>\n",
              "      <td>$8,990</td>\n",
              "      <td>test</td>\n",
              "      <td>sedan</td>\n",
              "      <td>2009</td>\n",
              "      <td>manual</td>\n",
              "      <td>102</td>\n",
              "      <td>golf</td>\n",
              "      <td>70,000km</td>\n",
              "      <td>7</td>\n",
              "      <td>gas</td>\n",
              "      <td>volkswagen</td>\n",
              "      <td>no</td>\n",
              "      <td>2016-03-26 00:00:00</td>\n",
              "      <td>35394</td>\n",
              "      <td>2016-04-06 20:15:37</td>\n",
              "    </tr>\n",
              "    <tr>\n",
              "      <th>3</th>\n",
              "      <td>2016-03-12 16:58:10</td>\n",
              "      <td>Smart_smart_fortwo_coupe_softouch/F1/Klima/Pan...</td>\n",
              "      <td>$4,350</td>\n",
              "      <td>control</td>\n",
              "      <td>mini-car</td>\n",
              "      <td>2007</td>\n",
              "      <td>automatic</td>\n",
              "      <td>71</td>\n",
              "      <td>fortwo</td>\n",
              "      <td>70,000km</td>\n",
              "      <td>6</td>\n",
              "      <td>gas</td>\n",
              "      <td>smart</td>\n",
              "      <td>no</td>\n",
              "      <td>2016-03-12 00:00:00</td>\n",
              "      <td>33729</td>\n",
              "      <td>2016-03-15 03:16:28</td>\n",
              "    </tr>\n",
              "    <tr>\n",
              "      <th>4</th>\n",
              "      <td>2016-04-01 14:38:50</td>\n",
              "      <td>Ford_Focus_1_6_Benzin_TÜV_neu_ist_sehr_gepfleg...</td>\n",
              "      <td>$1,350</td>\n",
              "      <td>test</td>\n",
              "      <td>station wagon</td>\n",
              "      <td>2003</td>\n",
              "      <td>manual</td>\n",
              "      <td>0</td>\n",
              "      <td>focus</td>\n",
              "      <td>150,000km</td>\n",
              "      <td>7</td>\n",
              "      <td>gas</td>\n",
              "      <td>ford</td>\n",
              "      <td>no</td>\n",
              "      <td>2016-04-01 00:00:00</td>\n",
              "      <td>39218</td>\n",
              "      <td>2016-04-01 14:38:50</td>\n",
              "    </tr>\n",
              "  </tbody>\n",
              "</table>\n",
              "</div>"
            ],
            "text/plain": [
              "          date_crawled  ...            last_seen\n",
              "0  2016-03-26 17:47:46  ...  2016-04-06 06:45:54\n",
              "1  2016-04-04 13:38:56  ...  2016-04-06 14:45:08\n",
              "2  2016-03-26 18:57:24  ...  2016-04-06 20:15:37\n",
              "3  2016-03-12 16:58:10  ...  2016-03-15 03:16:28\n",
              "4  2016-04-01 14:38:50  ...  2016-04-01 14:38:50\n",
              "\n",
              "[5 rows x 17 columns]"
            ]
          },
          "metadata": {
            "tags": []
          },
          "execution_count": 311
        }
      ]
    },
    {
      "cell_type": "markdown",
      "metadata": {
        "id": "2-ZQnskhEpkL",
        "colab_type": "text"
      },
      "source": [
        "## 4. Exploring the Odometer and Price Columns"
      ]
    },
    {
      "cell_type": "markdown",
      "metadata": {
        "id": "PhUzicns0EW9",
        "colab_type": "text"
      },
      "source": [
        "Let's begin with the two columns that have numeric values stored as text: `price` and `odometer`. For each column we will:\n",
        "- Remove any non-numeric characters.\n",
        "- Convert the column to a numeric dtype.\n",
        "- Use `DataFrame.rename()` to rename two column to `price_usd` and `odometer_km`."
      ]
    },
    {
      "cell_type": "code",
      "metadata": {
        "id": "H0Ikkq_9rcxF",
        "colab_type": "code",
        "colab": {
          "base_uri": "https://localhost:8080/",
          "height": 194
        },
        "outputId": "b5d311a9-efd7-4ad9-dbd3-5b2f95ee997f"
      },
      "source": [
        "print(\"Price column before conversion:\") \n",
        "print(autos[\"price\"].head(2))\n",
        "# The \"$\" and \",\" characters are removed, and the colomn is converted to integers.\n",
        "autos[\"price\"] = (autos[\"price\"]\n",
        "                  .str.replace(\"$\", \"\")\n",
        "                  .str.replace(\",\", \"\")\n",
        "                  .astype(int))\n",
        "\n",
        "# The column label is changed to \"price_usd\".\n",
        "autos.rename({\"price\": \"price_usd\"}, axis=1, inplace=True)\n",
        "\n",
        "print('\\n' * 1)\n",
        "print(\"Price column after conversion:\") \n",
        "print(autos[\"price_usd\"].head(2))"
      ],
      "execution_count": 314,
      "outputs": [
        {
          "output_type": "stream",
          "text": [
            "Price column before conversion:\n",
            "0    $5,000\n",
            "1    $8,500\n",
            "Name: price, dtype: object\n",
            "\n",
            "\n",
            "Price column after conversion:\n",
            "0    5000\n",
            "1    8500\n",
            "Name: price_usd, dtype: int64\n"
          ],
          "name": "stdout"
        }
      ]
    },
    {
      "cell_type": "code",
      "metadata": {
        "id": "mG5_0-dC0qVg",
        "colab_type": "code",
        "colab": {
          "base_uri": "https://localhost:8080/",
          "height": 194
        },
        "outputId": "070eab42-ce10-45bf-c616-1085d6f11db1"
      },
      "source": [
        "print(\"Odometer column before conversion:\") \n",
        "print(autos[\"odometer\"].head(2))\n",
        "# The \"km\" and \",\" characters are removed, and the colomn is converted to integers.\n",
        "autos[\"odometer\"] = (autos[\"odometer\"]\n",
        "                     .str.replace(\"km\", \"\")\n",
        "                     .str.replace(\",\", \"\")\n",
        "                     .astype(int))\n",
        "# The column label is changed to \"odometer_km\".\n",
        "autos.rename({\"odometer\": \"odometer_km\"}, axis=1, inplace=True)\n",
        "\n",
        "print('\\n' * 1)\n",
        "print(\"Odometer column after conversion:\") \n",
        "print(autos[\"odometer_km\"].head(2))"
      ],
      "execution_count": 315,
      "outputs": [
        {
          "output_type": "stream",
          "text": [
            "Odometer column before conversion:\n",
            "0    150,000km\n",
            "1    150,000km\n",
            "Name: odometer, dtype: object\n",
            "\n",
            "\n",
            "Odometer column after conversion:\n",
            "0    150000\n",
            "1    150000\n",
            "Name: odometer_km, dtype: int64\n"
          ],
          "name": "stdout"
        }
      ]
    },
    {
      "cell_type": "markdown",
      "metadata": {
        "id": "p-OBA7FFEpmd",
        "colab_type": "text"
      },
      "source": [
        "![car image](https://www.motoringresearch.com/wp-content/uploads/2018/12/14_New_Cars_2019.jpg)\n",
        "\n",
        "Let's continue exploring the data, specifically looking for data that doesn't look right. We'll start by analyzing the `odometer_km` and `price` columns.\n"
      ]
    },
    {
      "cell_type": "markdown",
      "metadata": {
        "id": "HkYs0cPWgg_U",
        "colab_type": "text"
      },
      "source": [
        "### **Odometer**"
      ]
    },
    {
      "cell_type": "code",
      "metadata": {
        "id": "EaExRCXb-OSj",
        "colab_type": "code",
        "colab": {
          "base_uri": "https://localhost:8080/",
          "height": 34
        },
        "outputId": "28f7672e-9761-4f9f-e575-9f1b3e5fb262"
      },
      "source": [
        "# Examine how many unique values there are for the odometer_km column.\n",
        "autos[\"odometer_km\"].unique().shape"
      ],
      "execution_count": 322,
      "outputs": [
        {
          "output_type": "execute_result",
          "data": {
            "text/plain": [
              "(13,)"
            ]
          },
          "metadata": {
            "tags": []
          },
          "execution_count": 322
        }
      ]
    },
    {
      "cell_type": "markdown",
      "metadata": {
        "id": "zmk2RDX4-qhY",
        "colab_type": "text"
      },
      "source": [
        "There are 13 unique values in the `odometer_km` column."
      ]
    },
    {
      "cell_type": "code",
      "metadata": {
        "id": "Y29T00n6w0-4",
        "colab_type": "code",
        "colab": {
          "base_uri": "https://localhost:8080/",
          "height": 176
        },
        "outputId": "6d524058-b7e1-421c-ce06-7a6a7a8c6062"
      },
      "source": [
        "# Examine the min/max/median/mean values to look for outliers.\n",
        "autos[\"odometer_km\"].describe()"
      ],
      "execution_count": 323,
      "outputs": [
        {
          "output_type": "execute_result",
          "data": {
            "text/plain": [
              "count     50000.000000\n",
              "mean     125732.700000\n",
              "std       40042.211706\n",
              "min        5000.000000\n",
              "25%      125000.000000\n",
              "50%      150000.000000\n",
              "75%      150000.000000\n",
              "max      150000.000000\n",
              "Name: odometer_km, dtype: float64"
            ]
          },
          "metadata": {
            "tags": []
          },
          "execution_count": 323
        }
      ]
    },
    {
      "cell_type": "code",
      "metadata": {
        "id": "Xz4YQ_Zr-6AT",
        "colab_type": "code",
        "colab": {
          "base_uri": "https://localhost:8080/",
          "height": 265
        },
        "outputId": "b4721eb7-6add-4a51-ee4b-11b3492d0b01"
      },
      "source": [
        "# Examine and sort the various values in the column to look for outliers.\n",
        "autos[\"odometer_km\"].value_counts()"
      ],
      "execution_count": 324,
      "outputs": [
        {
          "output_type": "execute_result",
          "data": {
            "text/plain": [
              "150000    32424\n",
              "125000     5170\n",
              "100000     2169\n",
              "90000      1757\n",
              "80000      1436\n",
              "70000      1230\n",
              "60000      1164\n",
              "50000      1027\n",
              "5000        967\n",
              "40000       819\n",
              "30000       789\n",
              "20000       784\n",
              "10000       264\n",
              "Name: odometer_km, dtype: int64"
            ]
          },
          "metadata": {
            "tags": []
          },
          "execution_count": 324
        }
      ]
    },
    {
      "cell_type": "markdown",
      "metadata": {
        "id": "76zsh1IE-5YZ",
        "colab_type": "text"
      },
      "source": [
        "In the `odometer_km` column, there seem to be **no** values that look unrealistically high or low (outliers) that we might want to remove. We can assume that eBay offers sellers fixed categories for mileage to select for their cars. Most secondhand cars have a mileage of over 150,000km."
      ]
    },
    {
      "cell_type": "markdown",
      "metadata": {
        "id": "_wBY52o-gaU0",
        "colab_type": "text"
      },
      "source": [
        "### **Price**"
      ]
    },
    {
      "cell_type": "code",
      "metadata": {
        "id": "lc8CMQoW_wrc",
        "colab_type": "code",
        "colab": {
          "base_uri": "https://localhost:8080/",
          "height": 34
        },
        "outputId": "dff7567b-ceb6-4bc8-bc87-15845c6a67b1"
      },
      "source": [
        "# Examine how many unique values there are for the price column.\n",
        "autos[\"price_usd\"].unique().shape"
      ],
      "execution_count": 325,
      "outputs": [
        {
          "output_type": "execute_result",
          "data": {
            "text/plain": [
              "(2357,)"
            ]
          },
          "metadata": {
            "tags": []
          },
          "execution_count": 325
        }
      ]
    },
    {
      "cell_type": "markdown",
      "metadata": {
        "id": "HgiTlNEr_XOz",
        "colab_type": "text"
      },
      "source": [
        "There are 2357 unique values in the price column."
      ]
    },
    {
      "cell_type": "code",
      "metadata": {
        "id": "2r3YK-yKBQQZ",
        "colab_type": "code",
        "colab": {
          "base_uri": "https://localhost:8080/",
          "height": 176
        },
        "outputId": "270789cf-179d-4f19-c327-c81fd6183099"
      },
      "source": [
        "# Examine the min/max/median/mean values to look for outliers.\n",
        "autos[\"price_usd\"].describe()"
      ],
      "execution_count": 326,
      "outputs": [
        {
          "output_type": "execute_result",
          "data": {
            "text/plain": [
              "count    5.000000e+04\n",
              "mean     9.840044e+03\n",
              "std      4.811044e+05\n",
              "min      0.000000e+00\n",
              "25%      1.100000e+03\n",
              "50%      2.950000e+03\n",
              "75%      7.200000e+03\n",
              "max      1.000000e+08\n",
              "Name: price_usd, dtype: float64"
            ]
          },
          "metadata": {
            "tags": []
          },
          "execution_count": 326
        }
      ]
    },
    {
      "cell_type": "code",
      "metadata": {
        "id": "wdc8_aKoBuj9",
        "colab_type": "code",
        "colab": {
          "base_uri": "https://localhost:8080/",
          "height": 212
        },
        "outputId": "149bf821-bce4-4a90-95d3-b38dc5f8ea03"
      },
      "source": [
        "# Sort and examine the value counts in ascending order.\n",
        "autos[\"price_usd\"].value_counts().head(10).sort_index(ascending= True)"
      ],
      "execution_count": 327,
      "outputs": [
        {
          "output_type": "execute_result",
          "data": {
            "text/plain": [
              "0       1421\n",
              "500      781\n",
              "600      531\n",
              "800      498\n",
              "1000     639\n",
              "1200     639\n",
              "1500     734\n",
              "2000     460\n",
              "2500     643\n",
              "3500     498\n",
              "Name: price_usd, dtype: int64"
            ]
          },
          "metadata": {
            "tags": []
          },
          "execution_count": 327
        }
      ]
    },
    {
      "cell_type": "code",
      "metadata": {
        "id": "-fhHZYH3lZMM",
        "colab_type": "code",
        "colab": {
          "base_uri": "https://localhost:8080/",
          "height": 390
        },
        "outputId": "a811f419-59e2-40bb-b215-38f61adf9504"
      },
      "source": [
        "# Sort the price column in descending order to see outliers and the most reasonable maximum values.\n",
        "autos[\"price_usd\"].sort_values(ascending= False).iloc[:20]"
      ],
      "execution_count": 328,
      "outputs": [
        {
          "output_type": "execute_result",
          "data": {
            "text/plain": [
              "39705    99999999\n",
              "42221    27322222\n",
              "39377    12345678\n",
              "47598    12345678\n",
              "27371    12345678\n",
              "2897     11111111\n",
              "24384    11111111\n",
              "11137    10000000\n",
              "47634     3890000\n",
              "7814      1300000\n",
              "22947     1234566\n",
              "43049      999999\n",
              "514        999999\n",
              "37585      999990\n",
              "36818      350000\n",
              "14715      345000\n",
              "34723      299000\n",
              "35923      295000\n",
              "12682      265000\n",
              "47337      259000\n",
              "Name: price_usd, dtype: int64"
            ]
          },
          "metadata": {
            "tags": []
          },
          "execution_count": 328
        }
      ]
    },
    {
      "cell_type": "markdown",
      "metadata": {
        "id": "tVwDDUq6mEAK",
        "colab_type": "text"
      },
      "source": [
        "The two calculations help to interpret what the outliers and unrealistic prices are, and reveal that the reasonable prices for second hand cars range between USD 500 and USD 350,000. There are 1421 instances with a price of USD 0. We could reason that eBay is a bidding site, but such outliers do not provide us with good data on current value of second hand cars. Therefor we exclude these from our analysis."
      ]
    },
    {
      "cell_type": "code",
      "metadata": {
        "id": "TNYHqD_hkasV",
        "colab_type": "code",
        "colab": {
          "base_uri": "https://localhost:8080/",
          "height": 176
        },
        "outputId": "776e1f5d-73f8-4217-f49a-c661693af8a2"
      },
      "source": [
        "# Remove outliers from our dataset.\n",
        "# Alternatively: autos[(autos[\"price\"] > 500) & (autos[\"price\"] < 350000))\n",
        "autos = autos[autos[\"price_usd\"].between(500,350000)]\n",
        "autos[\"price_usd\"].describe()"
      ],
      "execution_count": 329,
      "outputs": [
        {
          "output_type": "execute_result",
          "data": {
            "text/plain": [
              "count     45097.000000\n",
              "mean       6320.659600\n",
              "std        9261.841444\n",
              "min         500.000000\n",
              "25%        1500.000000\n",
              "50%        3500.000000\n",
              "75%        7900.000000\n",
              "max      350000.000000\n",
              "Name: price_usd, dtype: float64"
            ]
          },
          "metadata": {
            "tags": []
          },
          "execution_count": 329
        }
      ]
    },
    {
      "cell_type": "markdown",
      "metadata": {
        "id": "_PfkEQRXEpo5",
        "colab_type": "text"
      },
      "source": [
        "## 5. Exploring the date columns"
      ]
    },
    {
      "cell_type": "markdown",
      "metadata": {
        "id": "bOEu78VxEprb",
        "colab_type": "text"
      },
      "source": [
        "Let's now move on to the date columns and understand the date range the data covers.\n",
        "\n",
        "There are 5 columns that should represent date values. Some of these columns were created by the crawler, some came from the website itself. We can differentiate by referring to the data dictionary:\n",
        "\n",
        "\n",
        "\n",
        "```\n",
        "- `date_crawled`: added by the crawler\n",
        "- `last_seen`: added by the crawler\n",
        "- `ad_created`: from the website\n",
        "- `registration_month`: from the website\n",
        "- `registration_year`: from the website\n",
        "```\n",
        "\n",
        "Right now, the `date_crawled`, `last_seen`, and `ad_created` columns are all identified as string values by pandas. Because these three columns are represented as strings, we need to convert the data into a numerical representation so we can understand it quantitatively. The other two columns are represented as numeric values, so we can use methods like `Series.describe()` to understand the distribution without any extra data processing.\n",
        "\n",
        "Let's first understand how the values in the three string columns are formatted. These columns all represent full timestamp values, like so:\n",
        "\n"
      ]
    },
    {
      "cell_type": "code",
      "metadata": {
        "id": "0L1fG3HuDMhs",
        "colab_type": "code",
        "colab": {
          "base_uri": "https://localhost:8080/",
          "height": 197
        },
        "outputId": "5c6ce5d8-c1fa-429e-b75d-25a08c90d091"
      },
      "source": [
        "autos[['date_crawled','ad_created','last_seen']][0:5]"
      ],
      "execution_count": null,
      "outputs": [
        {
          "output_type": "execute_result",
          "data": {
            "text/html": [
              "<div>\n",
              "<style scoped>\n",
              "    .dataframe tbody tr th:only-of-type {\n",
              "        vertical-align: middle;\n",
              "    }\n",
              "\n",
              "    .dataframe tbody tr th {\n",
              "        vertical-align: top;\n",
              "    }\n",
              "\n",
              "    .dataframe thead th {\n",
              "        text-align: right;\n",
              "    }\n",
              "</style>\n",
              "<table border=\"1\" class=\"dataframe\">\n",
              "  <thead>\n",
              "    <tr style=\"text-align: right;\">\n",
              "      <th></th>\n",
              "      <th>date_crawled</th>\n",
              "      <th>ad_created</th>\n",
              "      <th>last_seen</th>\n",
              "    </tr>\n",
              "  </thead>\n",
              "  <tbody>\n",
              "    <tr>\n",
              "      <th>0</th>\n",
              "      <td>2016-03-26 17:47:46</td>\n",
              "      <td>2016-03-26 00:00:00</td>\n",
              "      <td>2016-04-06 06:45:54</td>\n",
              "    </tr>\n",
              "    <tr>\n",
              "      <th>1</th>\n",
              "      <td>2016-04-04 13:38:56</td>\n",
              "      <td>2016-04-04 00:00:00</td>\n",
              "      <td>2016-04-06 14:45:08</td>\n",
              "    </tr>\n",
              "    <tr>\n",
              "      <th>2</th>\n",
              "      <td>2016-03-26 18:57:24</td>\n",
              "      <td>2016-03-26 00:00:00</td>\n",
              "      <td>2016-04-06 20:15:37</td>\n",
              "    </tr>\n",
              "    <tr>\n",
              "      <th>3</th>\n",
              "      <td>2016-03-12 16:58:10</td>\n",
              "      <td>2016-03-12 00:00:00</td>\n",
              "      <td>2016-03-15 03:16:28</td>\n",
              "    </tr>\n",
              "    <tr>\n",
              "      <th>4</th>\n",
              "      <td>2016-04-01 14:38:50</td>\n",
              "      <td>2016-04-01 00:00:00</td>\n",
              "      <td>2016-04-01 14:38:50</td>\n",
              "    </tr>\n",
              "  </tbody>\n",
              "</table>\n",
              "</div>"
            ],
            "text/plain": [
              "          date_crawled           ad_created            last_seen\n",
              "0  2016-03-26 17:47:46  2016-03-26 00:00:00  2016-04-06 06:45:54\n",
              "1  2016-04-04 13:38:56  2016-04-04 00:00:00  2016-04-06 14:45:08\n",
              "2  2016-03-26 18:57:24  2016-03-26 00:00:00  2016-04-06 20:15:37\n",
              "3  2016-03-12 16:58:10  2016-03-12 00:00:00  2016-03-15 03:16:28\n",
              "4  2016-04-01 14:38:50  2016-04-01 00:00:00  2016-04-01 14:38:50"
            ]
          },
          "metadata": {
            "tags": []
          },
          "execution_count": 287
        }
      ]
    },
    {
      "cell_type": "markdown",
      "metadata": {
        "id": "6_hTXbF6DRY-",
        "colab_type": "text"
      },
      "source": [
        "You'll notice that the first 10 characters represent the day (e.g. `2016-03-12`). To understand the date range, we can extract just the date values, use `Series.value_counts()` to generate a distribution, and then sort by the index.\n",
        "\n",
        "To select the first 10 characters in each column, we can use `Series.str[:10]`:\n",
        "\n"
      ]
    },
    {
      "cell_type": "code",
      "metadata": {
        "id": "gMoY4v-NDXFw",
        "colab_type": "code",
        "colab": {
          "base_uri": "https://localhost:8080/",
          "height": 230
        },
        "outputId": "8080e15f-39d0-45e9-f935-163c625a98bf"
      },
      "source": [
        "print(autos['date_crawled'].str[:10])"
      ],
      "execution_count": null,
      "outputs": [
        {
          "output_type": "stream",
          "text": [
            "0        2016-03-26\n",
            "1        2016-04-04\n",
            "2        2016-03-26\n",
            "3        2016-03-12\n",
            "4        2016-04-01\n",
            "            ...    \n",
            "49995    2016-03-27\n",
            "49996    2016-03-28\n",
            "49997    2016-04-02\n",
            "49998    2016-03-08\n",
            "49999    2016-03-14\n",
            "Name: date_crawled, Length: 45097, dtype: object\n"
          ],
          "name": "stdout"
        }
      ]
    },
    {
      "cell_type": "markdown",
      "metadata": {
        "id": "itPJHG4XEpuB",
        "colab_type": "text"
      },
      "source": [
        "## 6. Dealing with Incorrect Registration Year Data"
      ]
    },
    {
      "cell_type": "markdown",
      "metadata": {
        "id": "Ep0oz1MKEpwf",
        "colab_type": "text"
      },
      "source": [
        "![car image](https://cdn2.carbuyer.co.uk/sites/carbuyer_d7/files/f-pace-41_3.jpg)\n",
        "One thing that stands out from the exploration we did in the last screen is that the `registration_year` column contains some odd values:\n",
        "\n",
        "- The minimum value is `1000`, before cars were invented\n",
        "- The maximum value is `9999`, many years into the future\n",
        "\n",
        "Because a car can't be first registered after the listing was seen, any vehicle with a registration year above 2016 is definitely inaccurate. Determining the earliest valid year is more difficult. Realistically, it could be somewhere in the first few decades of the 1900s.\n",
        "\n",
        "Let's count the number of listings with cars that fall outside the 1900 - 2016 interval and see if it's safe to remove those rows entirely, or if we need more custom logic."
      ]
    },
    {
      "cell_type": "markdown",
      "metadata": {
        "id": "ObNg2ooTEpyy",
        "colab_type": "text"
      },
      "source": [
        "## 7. Exploring Price by Brand"
      ]
    },
    {
      "cell_type": "markdown",
      "metadata": {
        "id": "yRSyp4QuEp1a",
        "colab_type": "text"
      },
      "source": [
        "One of the analysis techniques we learned in this course is aggregation. When working with data on cars, it's natural to explore variations across different car brands. We can use aggregation to understand the `brand` column.\n",
        "\n",
        "In an earlier mission, we explored how to use loops to perform aggregation. Here's what the process looks like:\n",
        "\n",
        "\n",
        "```\n",
        "- Identify the unique values we want to aggregate by\n",
        "- Create an empty dictionary to store our aggregate data\n",
        "- Loop over the unique values, and for each:\n",
        "    - Subset the dataframe by the unique values\n",
        "    - Calculate the mean of whichever column we're interested in\n",
        "    - Assign the val/mean to the dict as k/v.\n",
        "```\n",
        "\n",
        "\n"
      ]
    },
    {
      "cell_type": "markdown",
      "metadata": {
        "id": "OpaNwMmAEp4G",
        "colab_type": "text"
      },
      "source": [
        "## 8. Storing Aggregate Data in a DataFrame"
      ]
    },
    {
      "cell_type": "markdown",
      "metadata": {
        "id": "kIRFQbx9Eo8U",
        "colab_type": "text"
      },
      "source": [
        "![car image](https://s3.india.com/auto/wp-content/uploads/2017/04/Maserati-at-NYIAS-2017-Ghibli-Nerissimo-edition-studio-w-1.jpg)\n",
        "\n",
        "In previous part, we aggregated across brands to understand mean price. We observed that in the top 6 brands, there's a distinct price gap.\n",
        "\n",
        "- Audi, BMW and Mercedes Benz are more expensive\n",
        "- Ford and Opel are less expensive\n",
        "- Volkswagen is in between\n",
        "\n",
        "For the top 6 brands, let's use aggregation to understand the average mileage for those cars and if there's any visible link with mean price. While our natural instinct may be to display both aggregated series objects and visually compare them, this has a few limitations:\n",
        "- it's difficult to compare more than two aggregate series objects if we want to extend to more columns\n",
        "- we can't compare more than a few rows from each series object\n",
        "- we can only sort by the index (brand name) of both series objects so we can easily make visual comparisons\n",
        "\n",
        "Instead, we can combine the data from both series objects into a single dataframe (with a shared index) and display the dataframe directly. To do this, we'll need to learn two pandas methods:\n",
        "\n",
        "- [pandas series constructor](https://pandas.pydata.org/pandas-docs/stable/generated/pandas.Series.html)\n",
        "- [pandas dataframe constructor](https://pandas.pydata.org/pandas-docs/stable/generated/pandas.DataFrame.html)\n",
        "\n",
        "Here's an example of the series constructor that uses the `brand_mean_prices` dictionary:\n",
        "\n"
      ]
    },
    {
      "cell_type": "code",
      "metadata": {
        "id": "G7QLyktaET5c",
        "colab_type": "code",
        "colab": {}
      },
      "source": [
        "# bmp_series = pd.Series(brand_mean_prices)\n",
        "# print(bmp_series)"
      ],
      "execution_count": null,
      "outputs": []
    },
    {
      "cell_type": "markdown",
      "metadata": {
        "id": "GvcDttMBEYFr",
        "colab_type": "text"
      },
      "source": [
        "The keys in the dictionary became the index in the series object. We can then create a single-column dataframe from this series object. We need to use the `columns` parameter when calling the dataframe constructor (which accepts a array-like object) to specify the column name (or the column name will be set to `0` by default):\n",
        "\n"
      ]
    },
    {
      "cell_type": "code",
      "metadata": {
        "id": "P9BHnjvYEVLt",
        "colab_type": "code",
        "colab": {}
      },
      "source": [
        "# df = pd.DataFrame(bmp_series, columns=['mean_price'])\n",
        "# df"
      ],
      "execution_count": null,
      "outputs": []
    },
    {
      "cell_type": "markdown",
      "metadata": {
        "id": "w4O01r7FF6cc",
        "colab_type": "text"
      },
      "source": [
        "![car image](https://resources.stuff.co.nz/content/dam/images/1/k/6/9/i/l/image.related.StuffLandscapeSixteenByNine.1420x800.1k6a1a.png/1500346348050.jpg)"
      ]
    },
    {
      "cell_type": "markdown",
      "metadata": {
        "id": "VV3jnL-wwFvf",
        "colab_type": "text"
      },
      "source": [
        "\n",
        "\n",
        "---\n",
        "\n"
      ]
    },
    {
      "cell_type": "markdown",
      "metadata": {
        "id": "uAYfSlNev1FM",
        "colab_type": "text"
      },
      "source": [
        "## **Data Cleanup Tasks**\n",
        "\n",
        "√ `seller`: Only one entry has 'gewerblich’, all the rest is 'private’. \n",
        "*Consider dropping this row.*\n",
        "\n",
        "√ `offer_type`: Only one entry has 'Gesuch' ('Searched'), all the rest is 'Angebot' ('Offered'). \n",
        "*Consider dropping this row.*\n",
        "\n",
        "√ `price`: This column is not an integer. For further analysis, remove currency sign, move this to column header and turn into `int`. *Change from string to integer.*\n",
        "\n",
        "☐ `vehicle_type`: 8 different types are mentioned in German, which could be translated to English. There are also 95 NaN values of the 50,000 entries, which is not much. *Consider translating.*\n",
        "\n",
        "☐ `power_ps`: 5500 entries have noted 0 horsepower. The maximum value of 17700 is significantly more than the value at 75%, which suggests inaccurate data in this column. *Requires more investigation.*\n",
        "\n",
        "√ `odometer`: Mileage, where the \"km\" can be removed, in order to make the cells integers. *Change from string to integer.*\n",
        "\n",
        "☐ `registration_month`: The minimum in this column is \"0\" (with 5075 entries), which also suggests inaccurate rows of data.\n",
        "\n",
        "☐ `fuel_type`: Also described in German, but the entries look accurate and fine. *Consider translating.*\n",
        "\n",
        "☐ `unrepaired_damage`: Almost 10,000 cases of NaN. The other entries are one of two values, written in German. *Consider translating.*\n",
        "\n",
        "☐ `ad_created`: Date stamp seems fine, but the time stamp can be removed as it is 00:00:00 everywhere. *Consider removing time stamp.*\n",
        "\n",
        "√ `nr_of_pictures`: Zero everywhere so not much meaning, *Consider dropping this row.*\n",
        "\n",
        "☐ `postal_code`: Has an entry of four digits, where usually 5 digits are used. The entry 99998 also seems unusual, as do numbers after the decimal. *Requires more investigation.*"
      ]
    },
    {
      "cell_type": "code",
      "metadata": {
        "id": "ORvbVGXk6oG4",
        "colab_type": "code",
        "colab": {}
      },
      "source": [
        ""
      ],
      "execution_count": null,
      "outputs": []
    }
  ]
}