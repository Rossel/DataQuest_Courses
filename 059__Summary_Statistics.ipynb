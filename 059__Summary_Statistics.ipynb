{
  "nbformat": 4,
  "nbformat_minor": 0,
  "metadata": {
    "colab": {
      "name": "059__Summary_Statistics",
      "provenance": [],
      "authorship_tag": "ABX9TyNeaHdFrNxTiHr1ArD3gkos",
      "include_colab_link": true
    },
    "kernelspec": {
      "name": "python3",
      "display_name": "Python 3"
    }
  },
  "cells": [
    {
      "cell_type": "markdown",
      "metadata": {
        "id": "view-in-github",
        "colab_type": "text"
      },
      "source": [
        "<a href=\"https://colab.research.google.com/github/Rossel/DataQuest_Courses/blob/master/059__Summary_Statistics.ipynb\" target=\"_parent\"><img src=\"https://colab.research.google.com/assets/colab-badge.svg\" alt=\"Open In Colab\"/></a>"
      ]
    },
    {
      "cell_type": "markdown",
      "metadata": {
        "id": "_btM0gtu3sDF",
        "colab_type": "text"
      },
      "source": [
        "# COURSE 1/5: SQL FUNDAMENTALS"
      ]
    },
    {
      "cell_type": "markdown",
      "metadata": {
        "id": "THaX315BT2wD",
        "colab_type": "text"
      },
      "source": [
        "# MISSION 2: Summary Statistics"
      ]
    },
    {
      "cell_type": "markdown",
      "metadata": {
        "id": "BdmCXVc2MbNY",
        "colab_type": "text"
      },
      "source": [
        "In this mission, we:\n",
        "\n",
        "- Explore how to calculate summary statistics in SQL.\n",
        "- Learn about different types of functions.\n",
        "- Learn about data types in SQL."
      ]
    },
    {
      "cell_type": "markdown",
      "metadata": {
        "id": "9VGVyTaW3sFY",
        "colab_type": "text"
      },
      "source": [
        "## 1. Introduction"
      ]
    },
    {
      "cell_type": "markdown",
      "metadata": {
        "id": "uJKVrtxA3sHy",
        "colab_type": "text"
      },
      "source": [
        "In the last mission, we wrote queries that filtered rows and columns in a database table. Each of the queries we ran returned multiple rows of values. What if instead we wanted to just calculate the sum, average, minimum, or maximum of these results?\n",
        "\n",
        "In this mission, we'll learn how to calculate [summary statistics](https://en.wikipedia.org/wiki/Summary_statistics) on subsets of a database table. We'll continue working with data on job outcomes, compiled by FiveThirtyEight."
      ]
    },
    {
      "cell_type": "code",
      "metadata": {
        "id": "_LBr2rk1T0xR",
        "colab_type": "code",
        "colab": {}
      },
      "source": [
        "# Import functions from Google modules into Colaboratory\n",
        "!pip install -U -q PyDrive\n",
        "from pydrive.auth import GoogleAuth\n",
        "from pydrive.drive import GoogleDrive\n",
        "from google.colab import auth\n",
        "from oauth2client.client import GoogleCredentials\n",
        "\n",
        "# Authenticate and create the PyDrive client\n",
        "auth.authenticate_user()\n",
        "gauth = GoogleAuth()\n",
        "gauth.credentials = GoogleCredentials.get_application_default()\n",
        "drive = GoogleDrive(gauth)"
      ],
      "execution_count": null,
      "outputs": []
    },
    {
      "cell_type": "code",
      "metadata": {
        "id": "pzy0-ZtPScNy",
        "colab_type": "code",
        "colab": {}
      },
      "source": [
        "# Insert file id from Google Drive shareable link:\n",
        "# https://drive.google.com/file/d/1dGtg_Gx7VZgH4ZVydd2sFly3tNLsvhds/view?usp=sharing\n",
        "id = '1dGtg_Gx7VZgH4ZVydd2sFly3tNLsvhds'"
      ],
      "execution_count": null,
      "outputs": []
    },
    {
      "cell_type": "code",
      "metadata": {
        "id": "mspPJ_6QT1mi",
        "colab_type": "code",
        "colab": {}
      },
      "source": [
        "# Download the dataset\n",
        "downloaded = drive.CreateFile({'id':id}) \n",
        "downloaded.GetContentFile('jobs.db')"
      ],
      "execution_count": null,
      "outputs": []
    },
    {
      "cell_type": "code",
      "metadata": {
        "id": "vBAHoQ3QO4cb",
        "colab_type": "code",
        "colab": {}
      },
      "source": [
        "# Import SQLite3 and pandas library\n",
        "import sqlite3\n",
        "import pandas as pd"
      ],
      "execution_count": null,
      "outputs": []
    },
    {
      "cell_type": "code",
      "metadata": {
        "id": "hJXj6T_naCHQ",
        "colab_type": "code",
        "colab": {}
      },
      "source": [
        "%%capture\n",
        "%load_ext sql\n",
        "%sql sqlite:///jobs.db"
      ],
      "execution_count": null,
      "outputs": []
    },
    {
      "cell_type": "code",
      "metadata": {
        "id": "mxcD3LE4fmKM",
        "colab_type": "code",
        "colab": {
          "base_uri": "https://localhost:8080/",
          "height": 335
        },
        "outputId": "9991b54d-aa82-4593-ee53-7e51cd4cae1a"
      },
      "source": [
        "%%sql\n",
        "\n",
        "  SELECT * \n",
        "  FROM recent_grads\n",
        "  LIMIT 5"
      ],
      "execution_count": null,
      "outputs": [
        {
          "output_type": "stream",
          "text": [
            " * sqlite:///jobs.db\n",
            "Done.\n"
          ],
          "name": "stdout"
        },
        {
          "output_type": "execute_result",
          "data": {
            "text/html": [
              "<table>\n",
              "    <tr>\n",
              "        <th>index</th>\n",
              "        <th>Rank</th>\n",
              "        <th>Major_code</th>\n",
              "        <th>Major</th>\n",
              "        <th>Major_category</th>\n",
              "        <th>Total</th>\n",
              "        <th>Sample_size</th>\n",
              "        <th>Men</th>\n",
              "        <th>Women</th>\n",
              "        <th>ShareWomen</th>\n",
              "        <th>Employed</th>\n",
              "        <th>Full_time</th>\n",
              "        <th>Part_time</th>\n",
              "        <th>Full_time_year_round</th>\n",
              "        <th>Unemployed</th>\n",
              "        <th>Unemployment_rate</th>\n",
              "        <th>Median</th>\n",
              "        <th>P25th</th>\n",
              "        <th>P75th</th>\n",
              "        <th>College_jobs</th>\n",
              "        <th>Non_college_jobs</th>\n",
              "        <th>Low_wage_jobs</th>\n",
              "    </tr>\n",
              "    <tr>\n",
              "        <td>0</td>\n",
              "        <td>1</td>\n",
              "        <td>2419</td>\n",
              "        <td>PETROLEUM ENGINEERING</td>\n",
              "        <td>Engineering</td>\n",
              "        <td>2339</td>\n",
              "        <td>36</td>\n",
              "        <td>2057</td>\n",
              "        <td>282</td>\n",
              "        <td>0.120564344</td>\n",
              "        <td>1976</td>\n",
              "        <td>1849</td>\n",
              "        <td>270</td>\n",
              "        <td>1207</td>\n",
              "        <td>37</td>\n",
              "        <td>0.018380527</td>\n",
              "        <td>110000</td>\n",
              "        <td>95000</td>\n",
              "        <td>125000</td>\n",
              "        <td>1534</td>\n",
              "        <td>364</td>\n",
              "        <td>193</td>\n",
              "    </tr>\n",
              "    <tr>\n",
              "        <td>1</td>\n",
              "        <td>2</td>\n",
              "        <td>2416</td>\n",
              "        <td>MINING AND MINERAL ENGINEERING</td>\n",
              "        <td>Engineering</td>\n",
              "        <td>756</td>\n",
              "        <td>7</td>\n",
              "        <td>679</td>\n",
              "        <td>77</td>\n",
              "        <td>0.10185185199999999</td>\n",
              "        <td>640</td>\n",
              "        <td>556</td>\n",
              "        <td>170</td>\n",
              "        <td>388</td>\n",
              "        <td>85</td>\n",
              "        <td>0.117241379</td>\n",
              "        <td>75000</td>\n",
              "        <td>55000</td>\n",
              "        <td>90000</td>\n",
              "        <td>350</td>\n",
              "        <td>257</td>\n",
              "        <td>50</td>\n",
              "    </tr>\n",
              "    <tr>\n",
              "        <td>2</td>\n",
              "        <td>3</td>\n",
              "        <td>2415</td>\n",
              "        <td>METALLURGICAL ENGINEERING</td>\n",
              "        <td>Engineering</td>\n",
              "        <td>856</td>\n",
              "        <td>3</td>\n",
              "        <td>725</td>\n",
              "        <td>131</td>\n",
              "        <td>0.153037383</td>\n",
              "        <td>648</td>\n",
              "        <td>558</td>\n",
              "        <td>133</td>\n",
              "        <td>340</td>\n",
              "        <td>16</td>\n",
              "        <td>0.024096386</td>\n",
              "        <td>73000</td>\n",
              "        <td>50000</td>\n",
              "        <td>105000</td>\n",
              "        <td>456</td>\n",
              "        <td>176</td>\n",
              "        <td>0</td>\n",
              "    </tr>\n",
              "    <tr>\n",
              "        <td>3</td>\n",
              "        <td>4</td>\n",
              "        <td>2417</td>\n",
              "        <td>NAVAL ARCHITECTURE AND MARINE ENGINEERING</td>\n",
              "        <td>Engineering</td>\n",
              "        <td>1258</td>\n",
              "        <td>16</td>\n",
              "        <td>1123</td>\n",
              "        <td>135</td>\n",
              "        <td>0.107313196</td>\n",
              "        <td>758</td>\n",
              "        <td>1069</td>\n",
              "        <td>150</td>\n",
              "        <td>692</td>\n",
              "        <td>40</td>\n",
              "        <td>0.050125313</td>\n",
              "        <td>70000</td>\n",
              "        <td>43000</td>\n",
              "        <td>80000</td>\n",
              "        <td>529</td>\n",
              "        <td>102</td>\n",
              "        <td>0</td>\n",
              "    </tr>\n",
              "    <tr>\n",
              "        <td>4</td>\n",
              "        <td>5</td>\n",
              "        <td>2405</td>\n",
              "        <td>CHEMICAL ENGINEERING</td>\n",
              "        <td>Engineering</td>\n",
              "        <td>32260</td>\n",
              "        <td>289</td>\n",
              "        <td>21239</td>\n",
              "        <td>11021</td>\n",
              "        <td>0.341630502</td>\n",
              "        <td>25694</td>\n",
              "        <td>23170</td>\n",
              "        <td>5180</td>\n",
              "        <td>16697</td>\n",
              "        <td>1672</td>\n",
              "        <td>0.061097712</td>\n",
              "        <td>65000</td>\n",
              "        <td>50000</td>\n",
              "        <td>75000</td>\n",
              "        <td>18314</td>\n",
              "        <td>4440</td>\n",
              "        <td>972</td>\n",
              "    </tr>\n",
              "</table>"
            ],
            "text/plain": [
              "[(0, 1, 2419, 'PETROLEUM ENGINEERING', 'Engineering', 2339, 36, 2057, 282, 0.120564344, 1976, 1849, 270, 1207, 37, 0.018380527, 110000, 95000, 125000, 1534, 364, 193),\n",
              " (1, 2, 2416, 'MINING AND MINERAL ENGINEERING', 'Engineering', 756, 7, 679, 77, 0.10185185199999999, 640, 556, 170, 388, 85, 0.117241379, 75000, 55000, 90000, 350, 257, 50),\n",
              " (2, 3, 2415, 'METALLURGICAL ENGINEERING', 'Engineering', 856, 3, 725, 131, 0.153037383, 648, 558, 133, 340, 16, 0.024096386, 73000, 50000, 105000, 456, 176, 0),\n",
              " (3, 4, 2417, 'NAVAL ARCHITECTURE AND MARINE ENGINEERING', 'Engineering', 1258, 16, 1123, 135, 0.107313196, 758, 1069, 150, 692, 40, 0.050125313, 70000, 43000, 80000, 529, 102, 0),\n",
              " (4, 5, 2405, 'CHEMICAL ENGINEERING', 'Engineering', 32260, 289, 21239, 11021, 0.341630502, 25694, 23170, 5180, 16697, 1672, 0.061097712, 65000, 50000, 75000, 18314, 4440, 972)]"
            ]
          },
          "metadata": {
            "tags": []
          },
          "execution_count": 8
        }
      ]
    },
    {
      "cell_type": "markdown",
      "metadata": {
        "id": "bh6AZB2B6Xbp",
        "colab_type": "text"
      },
      "source": [
        "Let's start with some motivating questions we want to answer:\n",
        "\n",
        "- How many majors had mostly female students? How many had mostly male students? What proportion of majors had mostly female students?\n",
        "- Which category of majors had the lowest unemployment rates? Which category of majors had the highest female representation?\n",
        "- Which majors had the largest spread (difference) between the 25th and 75th percentile starting salaries?\n",
        "\n",
        "By the end of this mission, we will have covered the techniques to answer them. Let's move on to the next screen to start learning!"
      ]
    },
    {
      "cell_type": "markdown",
      "metadata": {
        "id": "UERVzBhp3sKc",
        "colab_type": "text"
      },
      "source": [
        "## 2. A Simple Question"
      ]
    },
    {
      "cell_type": "markdown",
      "metadata": {
        "id": "6JTvGL8j3sM7",
        "colab_type": "text"
      },
      "source": [
        "Before we tackle questions like the ones we saw on the previous screen, let's start with this: What is the lowest proportion of women on the `recent_grads` table?\n",
        "\n",
        "One of way of thinking about this question is that we want to \"determine the minimum value of `ShareWomen`\" — recall that `ShareWomen` gives us the proportion of women graduates. To better help us grasp the content taught on this screen, we'll focus on the majors with the three lowest proportion of women, seen below. Scroll to the `ShareWomen` column."
      ]
    },
    {
      "cell_type": "code",
      "metadata": {
        "id": "tBT9C2Gj6jaU",
        "colab_type": "code",
        "colab": {}
      },
      "source": [
        ""
      ],
      "execution_count": null,
      "outputs": []
    },
    {
      "cell_type": "markdown",
      "metadata": {
        "id": "1dBP5L8l6kRw",
        "colab_type": "text"
      },
      "source": [
        "Looking at the sample above, we see that the three lowest `ShareWomen` values are roughly `0.09`, `0.07` and `0`, so the minimum is `0`. Here's how we can use SQL to answer this question:\n"
      ]
    },
    {
      "cell_type": "code",
      "metadata": {
        "id": "cBu6bz8t63Sh",
        "colab_type": "code",
        "colab": {
          "base_uri": "https://localhost:8080/",
          "height": 95
        },
        "outputId": "c6cb288d-048b-4f96-803c-7d74939e5440"
      },
      "source": [
        "%%sql\n",
        "\n",
        "SELECT MIN(ShareWomen) \n",
        "  FROM recent_grads;"
      ],
      "execution_count": null,
      "outputs": [
        {
          "output_type": "stream",
          "text": [
            " * sqlite:///jobs.db\n",
            "Done.\n"
          ],
          "name": "stdout"
        },
        {
          "output_type": "execute_result",
          "data": {
            "text/html": [
              "<table>\n",
              "    <tr>\n",
              "        <th>MIN(ShareWomen)</th>\n",
              "    </tr>\n",
              "    <tr>\n",
              "        <td>0.0</td>\n",
              "    </tr>\n",
              "</table>"
            ],
            "text/plain": [
              "[(0.0,)]"
            ]
          },
          "metadata": {
            "tags": []
          },
          "execution_count": 9
        }
      ]
    },
    {
      "cell_type": "markdown",
      "metadata": {
        "id": "rTog12D87GlS",
        "colab_type": "text"
      },
      "source": [
        "One takeaway from the result is that there is at least one major that had no women graduating from it.\n",
        "\n",
        "It doesn't actually tell us what those majors are — we only know them because we singled out the three majors with less women than men. In a typical table there are too many rows for us to tell just by looking.\n",
        "\n",
        "We'll learn how to determine what rows the lowest value correspond to later in the course.\n",
        "\n",
        "Note that instead of just returning a single value, SQLite returned a table with a column (`MIN(ShareWomen)`) and the lowest value of `ShareWomen` as a row in that column (`0`).\n",
        "\n",
        "A key idea in SQL is that every *result* is a table. One advantage of this simplification is that it is a common, visual representation that makes SQL approachable for a much wider audience. The disadvantage is that datasets and calculations that aren't well suited for this representation must be converted to be used in a SQL environment.\n",
        "\n",
        "Let's practice!\n",
        "\n"
      ]
    },
    {
      "cell_type": "markdown",
      "metadata": {
        "id": "LP8u9yDA7Rjs",
        "colab_type": "text"
      },
      "source": [
        "Instructions:\n",
        "\n",
        "- Write a query that returns the lowest unemployment rate.\n",
        "  - For answer checking purposes, make sure the aggregate function is all uppercase, and that the column name is spelled exactly like this: `Unemployment_rate`."
      ]
    },
    {
      "cell_type": "code",
      "metadata": {
        "id": "0k4I2TfS8Oix",
        "colab_type": "code",
        "colab": {}
      },
      "source": [
        ""
      ],
      "execution_count": null,
      "outputs": []
    },
    {
      "cell_type": "markdown",
      "metadata": {
        "id": "dcGttbKW3sPt",
        "colab_type": "text"
      },
      "source": [
        "## 3. Aggregate Functions"
      ]
    },
    {
      "cell_type": "markdown",
      "metadata": {
        "id": "2uu7rBAW3sSM",
        "colab_type": "text"
      },
      "source": [
        "On the last screen, we used `MIN(ShareWomen)` to compute the minimum value in the `ShareWomen` column. We introduced the syntax `MIN(column_name)`. This is an example of a broader syntax, that of [functions](https://en.wikipedia.org/wiki/Function_(mathematics)#In_computer_science). A **function** is an entity that takes in one or multiple inputs and produces something, often called the **output** of the function.\n",
        "\n",
        "In `MIN(ShareWomen)`, we:\n",
        "\n",
        "- Used:\n",
        "  - The input `ShareWomen`\n",
        "  - The function `MIN`\n",
        "- Got the output `0.0`.\n",
        "\n",
        "Here's an animation depicting this operation:\n",
        "![alt text](https://dq-content.s3.amazonaws.com/253/m253-3.gif)\n"
      ]
    },
    {
      "cell_type": "markdown",
      "metadata": {
        "id": "aVQZXwpf76JS",
        "colab_type": "text"
      },
      "source": [
        "This function is one of a particular type of functions [called aggregate](https://en.wikipedia.org/wiki/Aggregate_function) functions. Aggregate functions are functions that are applied over columns of values and return a single value. The `MIN` and `MAX` functions, for example, calculate and return the minimum and maximum values in a column.\n",
        "\n",
        "Some other commonly used aggregate functions are:\n",
        "\n",
        "- `AVG`, which returns the mean of its input.\n",
        "- `COUNT`, which counts the number of values in its input.\n",
        "- `SUM`, which sums the values in its input.\n",
        "\n",
        "Note the use of capital letters for the functions' names. This isn't necessary for the query to run, but it's a widely used convention that functions, just like other reserved words, should be typed in capital letters.\n",
        "\n",
        "For the answer checker to correctly validate your answer, you should use capital letters for aggregate functions. Also, coding style suggests we use capital letters, so make sure you do from now on!\n",
        "\n"
      ]
    },
    {
      "cell_type": "markdown",
      "metadata": {
        "id": "fgwpUY8l8HkJ",
        "colab_type": "text"
      },
      "source": [
        "Instructions:\n",
        "\n",
        "- Write a query that computes the sum of the `Total` column.\n",
        "  - For answer checking purposes, make sure the aggregate function is all uppercase, and that the column name is spelled exactly like this: `Total`."
      ]
    },
    {
      "cell_type": "code",
      "metadata": {
        "id": "dtxWDtIO8NRr",
        "colab_type": "code",
        "colab": {}
      },
      "source": [
        ""
      ],
      "execution_count": null,
      "outputs": []
    },
    {
      "cell_type": "markdown",
      "metadata": {
        "id": "aySViAhE3sU2",
        "colab_type": "text"
      },
      "source": [
        "## 4. Order of Execution"
      ]
    },
    {
      "cell_type": "markdown",
      "metadata": {
        "id": "IM22eYEx3sZF",
        "colab_type": "text"
      },
      "source": [
        "In the beginning of mission two of the questions we set forth were:\n",
        "\n",
        "- How many majors had mostly female students?\n",
        "- How many had mostly male students?\n",
        "\n",
        "On this screen, we'll answer them.\n",
        "\n",
        "In the last mission, we learned how to return all majors that contained majority female students:\n",
        "\n",
        "\n",
        "\n",
        "```\n",
        "SELECT Major\n",
        "  FROM recent_grads\n",
        " WHERE ShareWomen > 0.5;\n",
        "```\n",
        "\n",
        "\n",
        "\n",
        "To answer the first question above, we'd like to count them. On the last screen, we learned that there is an aggregate function that counts the number of values in the input: `COUNT`.\n",
        "\n",
        "A query comes to mind as a way to answer the question:\n",
        "\n",
        "\n",
        "```\n",
        "SELECT COUNT(Major)\n",
        "  FROM recent_grads\n",
        " WHERE ShareWomen > 0.5;\n",
        "```\n",
        "\n",
        "\n",
        "But does it really work? You may be wondering if `COUNT(Major)` counts the rows before or after the `WHERE` clause is executed.\n",
        "\n",
        "The answer is that it runs after! So this query will find the answer. Here's the result:\n"
      ]
    },
    {
      "cell_type": "code",
      "metadata": {
        "id": "uXcPFxXG9y4w",
        "colab_type": "code",
        "colab": {
          "base_uri": "https://localhost:8080/",
          "height": 95
        },
        "outputId": "aafaeaaa-c572-4b4d-8e78-b970f4abd62c"
      },
      "source": [
        "%%sql\n",
        "\n",
        "SELECT COUNT(Major)\n",
        "  FROM recent_grads\n",
        " WHERE ShareWomen > 0.5;"
      ],
      "execution_count": null,
      "outputs": [
        {
          "output_type": "stream",
          "text": [
            " * sqlite:///jobs.db\n",
            "Done.\n"
          ],
          "name": "stdout"
        },
        {
          "output_type": "execute_result",
          "data": {
            "text/html": [
              "<table>\n",
              "    <tr>\n",
              "        <th>COUNT(Major)</th>\n",
              "    </tr>\n",
              "    <tr>\n",
              "        <td>97</td>\n",
              "    </tr>\n",
              "</table>"
            ],
            "text/plain": [
              "[(97,)]"
            ]
          },
          "metadata": {
            "tags": []
          },
          "execution_count": 10
        }
      ]
    },
    {
      "cell_type": "markdown",
      "metadata": {
        "id": "xRB2zJcO98Et",
        "colab_type": "text"
      },
      "source": [
        "Let's quickly summarize what a query looks like using all the clauses we learned so far:\n",
        "\n",
        "\n",
        "\n",
        "```\n",
        "SELECT *\n",
        "  FROM some_table\n",
        " WHERE some_condition\n",
        " ORDER BY some_column\n",
        " LIMIT some_limit;\n",
        "```\n",
        "\n",
        "\n",
        "Here is the order in which the clauses run:\n",
        "\n",
        "1. `FROM`\n",
        "2. `WHERE`\n",
        "3. `SELECT`\n",
        "4. `ORDER BY`\n",
        "5. `LIMIT`\n",
        "\n",
        "Since aggregate functions are part of `SELECT`, the calculation happens after `WHERE` acts."
      ]
    },
    {
      "cell_type": "markdown",
      "metadata": {
        "id": "h-S9P3Qr-R6K",
        "colab_type": "text"
      },
      "source": [
        "Instructions:\n",
        "\n",
        "- Write a query that returns the number of majors with mostly male students.\n",
        "  - For answer checking purposes, make sure the aggregate function is all uppercase, and that the column name is spelled exactly like this: Major."
      ]
    },
    {
      "cell_type": "code",
      "metadata": {
        "id": "C5CP9pHu-SOs",
        "colab_type": "code",
        "colab": {}
      },
      "source": [
        ""
      ],
      "execution_count": null,
      "outputs": []
    },
    {
      "cell_type": "markdown",
      "metadata": {
        "id": "tbGgQtoS3sbo",
        "colab_type": "text"
      },
      "source": [
        "## 5. Missing Values"
      ]
    },
    {
      "cell_type": "markdown",
      "metadata": {
        "id": "aHXZvLQo3sef",
        "colab_type": "text"
      },
      "source": [
        "Sometimes, for various reasons, tables contain no values in certain cells (a **cell** is a location in a table given by specifying a row and a column).\n",
        "\n",
        "When this happens, we say any of the following sentences (or variations of them):\n",
        "\n",
        "- The value is missing\n",
        "- It's a missing value\n",
        "- The value is `NULL`\n",
        "  - `NULL` is a special entity in SQL that exists to capture the concept of missing value.\n",
        "\n",
        "Something that is important to keep in mind when using aggregate functions is that most of them ignore missing values.\n",
        "\n",
        "For example, if we were to select `COUNT(Primes)` in the table below, the result would be `3` due to the missing value in the third row.\n",
        "\n",
        "|Primes|\n",
        "---\n",
        "|2|\n",
        "|3|\n",
        "| |\n",
        "|7|\n",
        "\n",
        "Here's an animation depicting this operation:\n",
        "\n",
        "![alt text](https://dq-content.s3.amazonaws.com/253/m253-5.gif)\n",
        "\n",
        "A consequence of this is that we must know we do not have null values in a column before we can use it to count the numbers of rows.\n",
        "\n",
        "To circumvent this, we can resort to the `*` and pass it into `COUNT` as if it were a column name. So, in the table above, we'd use `COUNT(*)` instead of `COUNT(Primes)`.\n",
        "\n",
        "In this screen's exercise we will ask you to use `COUNT` to find a column with at least a missing value. You can do this by running the query below, replacing `<column_name>` with the name of the columns in `recent_grads` until you find a suspicious result. Here's the query:\n",
        "\n",
        "\n",
        "```\n",
        "SELECT COUNT(<column_name>)\n",
        "  FROM recent_grads;\n",
        "```\n",
        "\n",
        "For your convenience, here are the names of all the columns: `index`, `Rank`, `Major_code`, `Major`, `Major_category`, `Total`, `Sample_size`, `Men`, `Women`, `ShareWomen`, `Employed`, `Full_time_year_round`, `Unemployed`, `Unemployment_rate`, `Median`, `P25th`, `P75th`, `College_jobs`, `Non_college_jobs`, `Low_wage_jobs`.\n",
        "\n"
      ]
    },
    {
      "cell_type": "markdown",
      "metadata": {
        "id": "EPuQIIrMF1jk",
        "colab_type": "text"
      },
      "source": [
        "**Instructions:**\n",
        "\n",
        "1. Use the query above to find a column that has at least one missing value.\n",
        "- Here's a hint: it's one of the columns whose values lie between 0 and 1.\n",
        "- Make sure you don't submit an answer while experimenting.\n",
        "2. Write a query that counts the number of rows in `recent_grads`, followed by the number of rows in the column you determined in 1.\n",
        "- For answer checking purposes, make sure the aggregate functions are all uppercase, and that the column name is spelled exactly as it shows in the output of the query above."
      ]
    },
    {
      "cell_type": "code",
      "metadata": {
        "id": "QpjV5Ga_F19g",
        "colab_type": "code",
        "colab": {}
      },
      "source": [
        ""
      ],
      "execution_count": null,
      "outputs": []
    },
    {
      "cell_type": "markdown",
      "metadata": {
        "id": "W5HLuW7C3shf",
        "colab_type": "text"
      },
      "source": [
        "## 6. Combining Multiple Aggregation Functions"
      ]
    },
    {
      "cell_type": "markdown",
      "metadata": {
        "id": "7B529W6R3slW",
        "colab_type": "text"
      },
      "source": [
        "Instead of writing an individual query for each specific question we want to answer, we can actually write queries that answer multiple questions at once. Let's take the following questions:\n",
        "\n",
        "- What's the lowest median salary?\n",
        "- What's the highest median salary?\n",
        "- What's the total number of students?\n",
        "\n",
        "Recall that we can select multiple columns by including their names with commas, like so:\n",
        "\n",
        "\n",
        "\n",
        "```\n",
        "SELECT Major, Major_category\n",
        " FROM recent_grads;\n",
        "```\n",
        "\n",
        "\n",
        "We can apply the same principle to combine multiple aggregation functions into a single query:\n",
        "\n"
      ]
    },
    {
      "cell_type": "code",
      "metadata": {
        "id": "afGyt1ldGJxn",
        "colab_type": "code",
        "colab": {
          "base_uri": "https://localhost:8080/",
          "height": 95
        },
        "outputId": "f148dced-10b0-4d99-bb5a-1c0e540099f1"
      },
      "source": [
        "%%sql\n",
        "\n",
        "SELECT MIN(Median), MAX(Median), SUM(Total)\n",
        "  FROM recent_grads;"
      ],
      "execution_count": null,
      "outputs": [
        {
          "output_type": "stream",
          "text": [
            " * sqlite:///jobs.db\n",
            "Done.\n"
          ],
          "name": "stdout"
        },
        {
          "output_type": "execute_result",
          "data": {
            "text/html": [
              "<table>\n",
              "    <tr>\n",
              "        <th>MIN(Median)</th>\n",
              "        <th>MAX(Median)</th>\n",
              "        <th>SUM(Total)</th>\n",
              "    </tr>\n",
              "    <tr>\n",
              "        <td>22000</td>\n",
              "        <td>110000</td>\n",
              "        <td>6776015</td>\n",
              "    </tr>\n",
              "</table>"
            ],
            "text/plain": [
              "[(22000, 110000, 6776015)]"
            ]
          },
          "metadata": {
            "tags": []
          },
          "execution_count": 11
        }
      ]
    },
    {
      "cell_type": "markdown",
      "metadata": {
        "id": "QC-w5dxy3soT",
        "colab_type": "text"
      },
      "source": [
        "**Instructions:**\n",
        "\n",
        "1. Write a query that computes the average of the `Total` column, the minimum of the `Men` column, and the maximum of the `Women` column, in that specific order.\n",
        "- For answer checking purposes, make sure the aggregate functions are all uppercase, and that all column names are spelled exactly as above."
      ]
    },
    {
      "cell_type": "code",
      "metadata": {
        "id": "bqeFNYzAGYvd",
        "colab_type": "code",
        "colab": {}
      },
      "source": [
        ""
      ],
      "execution_count": null,
      "outputs": []
    },
    {
      "cell_type": "markdown",
      "metadata": {
        "id": "kc331DWt3sq1",
        "colab_type": "text"
      },
      "source": [
        "## 7. Customizing the Results"
      ]
    },
    {
      "cell_type": "markdown",
      "metadata": {
        "id": "p8Uf7w6L3stu",
        "colab_type": "text"
      },
      "source": [
        "All of the queries we wrote so far have had somewhat unpleasant column names in the results, like `AVG(SUM)` and `MIN(Men)`.\n",
        "\n",
        "Many companies use SQL environments and tools that can run your query, turn the results into a plot of your choosing, and then create a PDF report containing multiple plots (and some additional explanation from the user).\n",
        "\n",
        "Given that others may interpret and understand the results of your SQL queries, it's helpful to be able to specify custom names for the columns in our results.\n",
        "\n",
        "We can do just that using `AS`:\n",
        "\n",
        "\n",
        "```\n",
        "SELECT SUM(Total) AS num_students\n",
        "  FROM recent_grads;\n",
        "```\n",
        "\n",
        "This is known as an [alias](https://www.tutorialspoint.com/sqlite/sqlite_alias_syntax.htm) and the alias is restricted to just our results table (the table in the database won't be renamed)\n",
        "\n",
        "If we use certain characters, like spaces, we need to insert the alias inbetween quotes. More generally, we can specify an arbitrary phrase as a string using quotation marks:\n",
        "\n",
        "\n",
        "```\n",
        "SELECT SUM(Total) AS 'Total Students'\n",
        " FROM recent_grads;\n",
        "```\n",
        "\n",
        "we can drop `AS` entirely and just add the name next to the original column:\n",
        "\n",
        "\n",
        "```\n",
        "SElECT SUM(Total) 'Total Students'\n",
        "  FROM recent_grads;\n",
        "```\n",
        "We'll keep using it, though — it's a matter of [style](https://www.sqlstyle.guide/#aliasing-or-correlations). Lastly, we can reference renamed columns when writing longer queries to make our code more compact:\n",
        "\n",
        "\n",
        "\n",
        "```\n",
        "SELECT Major AS m, Major_category AS mc, Unemployment_rate AS ur\n",
        "  FROM recent_grads\n",
        " WHERE (mc = 'Engineering') AND (ur > 0.04 and ur < 0.08)\n",
        " ORDER BY ur DESC\n",
        "```\n",
        "Later you'll also learn how to use aliases for both database tables and results tables!\n",
        "\n"
      ]
    },
    {
      "cell_type": "markdown",
      "metadata": {
        "id": "TFbClafQGtqi",
        "colab_type": "text"
      },
      "source": [
        "**Instructions:**\n",
        "\n",
        "1. Write a query that returns, in the following order:\n",
        "- The number of rows as `Number of Majors`\n",
        "- The maximum value of `Unemployment_rate` as `Highest Unemployment Rate`"
      ]
    },
    {
      "cell_type": "code",
      "metadata": {
        "id": "CbG1egmvGuhH",
        "colab_type": "code",
        "colab": {}
      },
      "source": [
        ""
      ],
      "execution_count": null,
      "outputs": []
    },
    {
      "cell_type": "markdown",
      "metadata": {
        "id": "TiyCBzn73swY",
        "colab_type": "text"
      },
      "source": [
        "## 8. Counting Unique Values"
      ]
    },
    {
      "cell_type": "markdown",
      "metadata": {
        "id": "XyPdd2DZ3sy0",
        "colab_type": "text"
      },
      "source": [
        "Let's explore `Major_category`. It's a column with only a few unique values. What if we want to obtain a list with repetitions of the values in this column? Or how many distinct values there are in this column?\n",
        "\n",
        "We can return all of the unique values in a column using the `DISTINCT` statement."
      ]
    },
    {
      "cell_type": "code",
      "metadata": {
        "id": "zEIRP0PRH2bH",
        "colab_type": "code",
        "colab": {
          "base_uri": "https://localhost:8080/",
          "height": 410
        },
        "outputId": "58fab084-ac74-4481-8a53-aa4414da8e09"
      },
      "source": [
        "%%sql\n",
        "\n",
        "SELECT DISTINCT Major_category\n",
        "  FROM recent_grads;"
      ],
      "execution_count": null,
      "outputs": [
        {
          "output_type": "stream",
          "text": [
            " * sqlite:///jobs.db\n",
            "Done.\n"
          ],
          "name": "stdout"
        },
        {
          "output_type": "execute_result",
          "data": {
            "text/html": [
              "<table>\n",
              "    <tr>\n",
              "        <th>Major_category</th>\n",
              "    </tr>\n",
              "    <tr>\n",
              "        <td>Engineering</td>\n",
              "    </tr>\n",
              "    <tr>\n",
              "        <td>Business</td>\n",
              "    </tr>\n",
              "    <tr>\n",
              "        <td>Physical Sciences</td>\n",
              "    </tr>\n",
              "    <tr>\n",
              "        <td>Law &amp; Public Policy</td>\n",
              "    </tr>\n",
              "    <tr>\n",
              "        <td>Computers &amp; Mathematics</td>\n",
              "    </tr>\n",
              "    <tr>\n",
              "        <td>Agriculture &amp; Natural Resources</td>\n",
              "    </tr>\n",
              "    <tr>\n",
              "        <td>Industrial Arts &amp; Consumer Services</td>\n",
              "    </tr>\n",
              "    <tr>\n",
              "        <td>Arts</td>\n",
              "    </tr>\n",
              "    <tr>\n",
              "        <td>Health</td>\n",
              "    </tr>\n",
              "    <tr>\n",
              "        <td>Social Science</td>\n",
              "    </tr>\n",
              "    <tr>\n",
              "        <td>Biology &amp; Life Science</td>\n",
              "    </tr>\n",
              "    <tr>\n",
              "        <td>Education</td>\n",
              "    </tr>\n",
              "    <tr>\n",
              "        <td>Humanities &amp; Liberal Arts</td>\n",
              "    </tr>\n",
              "    <tr>\n",
              "        <td>Psychology &amp; Social Work</td>\n",
              "    </tr>\n",
              "    <tr>\n",
              "        <td>Communications &amp; Journalism</td>\n",
              "    </tr>\n",
              "    <tr>\n",
              "        <td>Interdisciplinary</td>\n",
              "    </tr>\n",
              "</table>"
            ],
            "text/plain": [
              "[('Engineering',),\n",
              " ('Business',),\n",
              " ('Physical Sciences',),\n",
              " ('Law & Public Policy',),\n",
              " ('Computers & Mathematics',),\n",
              " ('Agriculture & Natural Resources',),\n",
              " ('Industrial Arts & Consumer Services',),\n",
              " ('Arts',),\n",
              " ('Health',),\n",
              " ('Social Science',),\n",
              " ('Biology & Life Science',),\n",
              " ('Education',),\n",
              " ('Humanities & Liberal Arts',),\n",
              " ('Psychology & Social Work',),\n",
              " ('Communications & Journalism',),\n",
              " ('Interdisciplinary',)]"
            ]
          },
          "metadata": {
            "tags": []
          },
          "execution_count": 13
        }
      ]
    },
    {
      "cell_type": "markdown",
      "metadata": {
        "id": "LQrb55RwH-Dh",
        "colab_type": "text"
      },
      "source": [
        "As with the other SQL clauses we learned, we can use the `DISTINCT` statement with multiple columns to return unique pairings of those columns:"
      ]
    },
    {
      "cell_type": "code",
      "metadata": {
        "id": "h579qOrHIBDt",
        "colab_type": "code",
        "colab": {
          "base_uri": "https://localhost:8080/",
          "height": 179
        },
        "outputId": "b5c04008-3914-4821-b1af-40af8c4f6bd6"
      },
      "source": [
        "%%sql\n",
        "\n",
        "SELECT DISTINCT Major, Major_category\n",
        "  FROM recent_grads\n",
        " LIMIT 5;"
      ],
      "execution_count": null,
      "outputs": [
        {
          "output_type": "stream",
          "text": [
            " * sqlite:///jobs.db\n",
            "Done.\n"
          ],
          "name": "stdout"
        },
        {
          "output_type": "execute_result",
          "data": {
            "text/html": [
              "<table>\n",
              "    <tr>\n",
              "        <th>Major</th>\n",
              "        <th>Major_category</th>\n",
              "    </tr>\n",
              "    <tr>\n",
              "        <td>PETROLEUM ENGINEERING</td>\n",
              "        <td>Engineering</td>\n",
              "    </tr>\n",
              "    <tr>\n",
              "        <td>MINING AND MINERAL ENGINEERING</td>\n",
              "        <td>Engineering</td>\n",
              "    </tr>\n",
              "    <tr>\n",
              "        <td>METALLURGICAL ENGINEERING</td>\n",
              "        <td>Engineering</td>\n",
              "    </tr>\n",
              "    <tr>\n",
              "        <td>NAVAL ARCHITECTURE AND MARINE ENGINEERING</td>\n",
              "        <td>Engineering</td>\n",
              "    </tr>\n",
              "    <tr>\n",
              "        <td>CHEMICAL ENGINEERING</td>\n",
              "        <td>Engineering</td>\n",
              "    </tr>\n",
              "</table>"
            ],
            "text/plain": [
              "[('PETROLEUM ENGINEERING', 'Engineering'),\n",
              " ('MINING AND MINERAL ENGINEERING', 'Engineering'),\n",
              " ('METALLURGICAL ENGINEERING', 'Engineering'),\n",
              " ('NAVAL ARCHITECTURE AND MARINE ENGINEERING', 'Engineering'),\n",
              " ('CHEMICAL ENGINEERING', 'Engineering')]"
            ]
          },
          "metadata": {
            "tags": []
          },
          "execution_count": 14
        }
      ]
    },
    {
      "cell_type": "markdown",
      "metadata": {
        "id": "QZI4mY9mIGzr",
        "colab_type": "text"
      },
      "source": [
        "Lastly, we can count the number of unique values in a column by nesting the `COUNT()` function with the `DISTINCT` clause:"
      ]
    },
    {
      "cell_type": "code",
      "metadata": {
        "id": "opwq1bWDIKYq",
        "colab_type": "code",
        "colab": {
          "base_uri": "https://localhost:8080/",
          "height": 95
        },
        "outputId": "7a88ab8a-7fa5-4637-f547-3671833019d5"
      },
      "source": [
        "%%sql\n",
        "\n",
        "SELECT COUNT(DISTINCT Major_category) unique_major_categories\n",
        "  FROM recent_grads;"
      ],
      "execution_count": null,
      "outputs": [
        {
          "output_type": "stream",
          "text": [
            " * sqlite:///jobs.db\n",
            "Done.\n"
          ],
          "name": "stdout"
        },
        {
          "output_type": "execute_result",
          "data": {
            "text/html": [
              "<table>\n",
              "    <tr>\n",
              "        <th>unique_major_categories</th>\n",
              "    </tr>\n",
              "    <tr>\n",
              "        <td>16</td>\n",
              "    </tr>\n",
              "</table>"
            ],
            "text/plain": [
              "[(16,)]"
            ]
          },
          "metadata": {
            "tags": []
          },
          "execution_count": 15
        }
      ]
    },
    {
      "cell_type": "markdown",
      "metadata": {
        "id": "Ihn0Iz4BIN7m",
        "colab_type": "text"
      },
      "source": [
        "**Instructions:**\n",
        "\n",
        "1. Write a query that returns the number of unique values in the `Major`, `Major_category`, and `Major_code` columns. Use the following aliases in the following order:\n",
        "- For the unique value count of the `Major` column, use the alias `unique_majors`.\n",
        "- For the unique value count of the `Major_category` column, use the alias `unique_major_categories`.\n",
        "- For the unique value count of the `Major_code` column, use the alias `unique_major_codes`."
      ]
    },
    {
      "cell_type": "code",
      "metadata": {
        "id": "ECJa8FQCIkoS",
        "colab_type": "code",
        "colab": {}
      },
      "source": [
        "%%sql"
      ],
      "execution_count": null,
      "outputs": []
    },
    {
      "cell_type": "markdown",
      "metadata": {
        "id": "jUPrAX983s1V",
        "colab_type": "text"
      },
      "source": [
        "## 9. Data Types"
      ]
    },
    {
      "cell_type": "markdown",
      "metadata": {
        "id": "Nib-IZtI3s4P",
        "colab_type": "text"
      },
      "source": [
        "Let's run a query and look at the result:"
      ]
    },
    {
      "cell_type": "code",
      "metadata": {
        "id": "jJpHse6sJLEU",
        "colab_type": "code",
        "colab": {
          "base_uri": "https://localhost:8080/",
          "height": 137
        },
        "outputId": "d9c7c0b8-64eb-456b-d4f1-4da76b1577e4"
      },
      "source": [
        "%%sql\n",
        "\n",
        "SELECT Major, Total, Men, Women, Unemployment_rate\n",
        "  FROM recent_grads\n",
        " ORDER BY Unemployment_rate DESC\n",
        " LIMIT 3;"
      ],
      "execution_count": null,
      "outputs": [
        {
          "output_type": "stream",
          "text": [
            " * sqlite:///jobs.db\n",
            "Done.\n"
          ],
          "name": "stdout"
        },
        {
          "output_type": "execute_result",
          "data": {
            "text/html": [
              "<table>\n",
              "    <tr>\n",
              "        <th>Major</th>\n",
              "        <th>Total</th>\n",
              "        <th>Men</th>\n",
              "        <th>Women</th>\n",
              "        <th>Unemployment_rate</th>\n",
              "    </tr>\n",
              "    <tr>\n",
              "        <td>NUCLEAR ENGINEERING</td>\n",
              "        <td>2573</td>\n",
              "        <td>2200</td>\n",
              "        <td>373</td>\n",
              "        <td>0.177226407</td>\n",
              "    </tr>\n",
              "    <tr>\n",
              "        <td>PUBLIC ADMINISTRATION</td>\n",
              "        <td>5629</td>\n",
              "        <td>2947</td>\n",
              "        <td>2682</td>\n",
              "        <td>0.15949059999999998</td>\n",
              "    </tr>\n",
              "    <tr>\n",
              "        <td>COMPUTER NETWORKING AND TELECOMMUNICATIONS</td>\n",
              "        <td>7613</td>\n",
              "        <td>5291</td>\n",
              "        <td>2322</td>\n",
              "        <td>0.151849807</td>\n",
              "    </tr>\n",
              "</table>"
            ],
            "text/plain": [
              "[('NUCLEAR ENGINEERING', 2573, 2200, 373, 0.177226407),\n",
              " ('PUBLIC ADMINISTRATION', 5629, 2947, 2682, 0.15949059999999998),\n",
              " ('COMPUTER NETWORKING AND TELECOMMUNICATIONS', 7613, 5291, 2322, 0.151849807)]"
            ]
          },
          "metadata": {
            "tags": []
          },
          "execution_count": 17
        }
      ]
    },
    {
      "cell_type": "markdown",
      "metadata": {
        "id": "nPB4WWIZJOg5",
        "colab_type": "text"
      },
      "source": [
        "Let's focus on the different kinds of values we got:\n",
        "\n",
        "- In the `Major` column we see text.\n",
        "- In the `Total`, `Men` and `Women` columns we see integers.\n",
        "- In the `Unemployment_rate` column we see decimal numbers.\n",
        "\n",
        "Each of the above is self-descriptively called a [data type](https://en.wikipedia.org/wiki/Data_type). Each column has exactly one type of values, it can't be mixed.\n",
        "\n",
        "You can read more about the SQLite data types [here](https://www.sqlite.org/datatype3.html). We'll have a chance to explore them from the point of view of the database when we learn how to create tables.\n",
        "\n",
        "For now we'll focus on some of the things we can and may want to do with different data types.\n",
        "\n"
      ]
    },
    {
      "cell_type": "markdown",
      "metadata": {
        "id": "hwuJTW-53s7A",
        "colab_type": "text"
      },
      "source": [
        "## 10. String Functions and Operations"
      ]
    },
    {
      "cell_type": "markdown",
      "metadata": {
        "id": "rBUIeM2W3s9f",
        "colab_type": "text"
      },
      "source": [
        "We previously learned about aggregate functions. Aggregate functions take a column as input and return one value for the column. We'll now learn about functions that, when we pass them a column as input, return (a transformation of the input in) another column. The values of text columns are typically called strings, hence the present screen's title.\n",
        "\n",
        "We'll start with the `LENGTH` function. Given a text column, the `LENGTH` function returns the number of characters in the input strings\n",
        "\n",
        "![alt text](https://dq-content.s3.amazonaws.com/253/m253-10.gif)\n",
        "\n",
        "Let's build on the query we saw on the previous screen to see it action."
      ]
    },
    {
      "cell_type": "code",
      "metadata": {
        "id": "QS9xCCiIJrh0",
        "colab_type": "code",
        "colab": {
          "base_uri": "https://localhost:8080/",
          "height": 154
        },
        "outputId": "266f1881-1d3b-4c25-e64f-64a883b6920e"
      },
      "source": [
        "%%sql\n",
        "\n",
        "SELECT Major,\n",
        "       Total, Men, Women, Unemployment_rate,\n",
        "       LENGTH(Major) AS Length_of_name\n",
        "  FROM recent_grads\n",
        " ORDER BY Unemployment_rate DESC\n",
        " LIMIT 3;"
      ],
      "execution_count": null,
      "outputs": [
        {
          "output_type": "stream",
          "text": [
            " * sqlite:///jobs.db\n",
            "Done.\n"
          ],
          "name": "stdout"
        },
        {
          "output_type": "execute_result",
          "data": {
            "text/html": [
              "<table>\n",
              "    <tr>\n",
              "        <th>Major</th>\n",
              "        <th>Total</th>\n",
              "        <th>Men</th>\n",
              "        <th>Women</th>\n",
              "        <th>Unemployment_rate</th>\n",
              "        <th>Length_of_name</th>\n",
              "    </tr>\n",
              "    <tr>\n",
              "        <td>NUCLEAR ENGINEERING</td>\n",
              "        <td>2573</td>\n",
              "        <td>2200</td>\n",
              "        <td>373</td>\n",
              "        <td>0.177226407</td>\n",
              "        <td>19</td>\n",
              "    </tr>\n",
              "    <tr>\n",
              "        <td>PUBLIC ADMINISTRATION</td>\n",
              "        <td>5629</td>\n",
              "        <td>2947</td>\n",
              "        <td>2682</td>\n",
              "        <td>0.15949059999999998</td>\n",
              "        <td>21</td>\n",
              "    </tr>\n",
              "    <tr>\n",
              "        <td>COMPUTER NETWORKING AND TELECOMMUNICATIONS</td>\n",
              "        <td>7613</td>\n",
              "        <td>5291</td>\n",
              "        <td>2322</td>\n",
              "        <td>0.151849807</td>\n",
              "        <td>42</td>\n",
              "    </tr>\n",
              "</table>"
            ],
            "text/plain": [
              "[('NUCLEAR ENGINEERING', 2573, 2200, 373, 0.177226407, 19),\n",
              " ('PUBLIC ADMINISTRATION', 5629, 2947, 2682, 0.15949059999999998, 21),\n",
              " ('COMPUTER NETWORKING AND TELECOMMUNICATIONS', 7613, 5291, 2322, 0.151849807, 42)]"
            ]
          },
          "metadata": {
            "tags": []
          },
          "execution_count": 18
        }
      ]
    },
    {
      "cell_type": "markdown",
      "metadata": {
        "id": "fispbSxCJxr0",
        "colab_type": "text"
      },
      "source": [
        "Another thing we can do with strings is concatenate them by using the `||` operator. Here's a usage example:"
      ]
    },
    {
      "cell_type": "code",
      "metadata": {
        "id": "sI3WBTP6J6xl",
        "colab_type": "code",
        "colab": {
          "base_uri": "https://localhost:8080/",
          "height": 95
        },
        "outputId": "1ea5213e-8f94-4db5-c14f-9e599fac9c9b"
      },
      "source": [
        "%%sql\n",
        "\n",
        "SELECT 'Data' || 'quest' as 'e-learning';"
      ],
      "execution_count": null,
      "outputs": [
        {
          "output_type": "stream",
          "text": [
            " * sqlite:///jobs.db\n",
            "Done.\n"
          ],
          "name": "stdout"
        },
        {
          "output_type": "execute_result",
          "data": {
            "text/html": [
              "<table>\n",
              "    <tr>\n",
              "        <th>e-learning</th>\n",
              "    </tr>\n",
              "    <tr>\n",
              "        <td>Dataquest</td>\n",
              "    </tr>\n",
              "</table>"
            ],
            "text/plain": [
              "[('Dataquest',)]"
            ]
          },
          "metadata": {
            "tags": []
          },
          "execution_count": 19
        }
      ]
    },
    {
      "cell_type": "markdown",
      "metadata": {
        "id": "4ZgQaPkyJ9q8",
        "colab_type": "text"
      },
      "source": [
        "It's important to point out that, despite the fact we signaled the use of strings by using single quotes (`'`), double quotes (`\"`) are also accepted. However, single quotes are more universally accepted by other databases than double quotes.\n",
        "\n",
        "In the same way that we can compare columns with both constant numbers and other columns in `WHERE` clauses, we can also mix columns and constant strings when concatenating. For example:\n",
        "\n"
      ]
    },
    {
      "cell_type": "code",
      "metadata": {
        "id": "UAIohVpIKGWR",
        "colab_type": "code",
        "colab": {
          "base_uri": "https://localhost:8080/",
          "height": 116
        },
        "outputId": "a0bd480b-1fd0-4c08-e0c4-4d123818e10d"
      },
      "source": [
        "%%sql\n",
        "\n",
        "SELECT 'Cat: ' || Major_category\n",
        "  FROM recent_grads\n",
        " LIMIT 2;"
      ],
      "execution_count": null,
      "outputs": [
        {
          "output_type": "stream",
          "text": [
            " * sqlite:///jobs.db\n",
            "Done.\n"
          ],
          "name": "stdout"
        },
        {
          "output_type": "execute_result",
          "data": {
            "text/html": [
              "<table>\n",
              "    <tr>\n",
              "        <th>&#x27;Cat: &#x27; || Major_category</th>\n",
              "    </tr>\n",
              "    <tr>\n",
              "        <td>Cat: Engineering</td>\n",
              "    </tr>\n",
              "    <tr>\n",
              "        <td>Cat: Engineering</td>\n",
              "    </tr>\n",
              "</table>"
            ],
            "text/plain": [
              "[('Cat: Engineering',), ('Cat: Engineering',)]"
            ]
          },
          "metadata": {
            "tags": []
          },
          "execution_count": 20
        }
      ]
    },
    {
      "cell_type": "markdown",
      "metadata": {
        "id": "1GjmGUp6J6Hm",
        "colab_type": "text"
      },
      "source": [
        "In the following exercise, you'll use the `LOWER` function to replace the `Major` column with one where all values are written in lowercase. It is used just like the `LENGTH` function. Here's what the output of the exercise should look like:\n",
        "\n",
        "\n",
        "|Major\t| Total |\tMen |\tWomen |\tUnemployment_rate |\tLength_of_name |\n",
        "| --- | --- | --- | --- | --- | --- |\n",
        "|Major: nuclear engineering\t| 2573\t| 2200 |\t373 |\t0.177226 |\t19\n",
        "Major: public administration\t|5629\t|2947|\t2682\t|0.159491|\t21\n",
        "Major: computer networking and telecommunications\t|7613\t|5291\t|2322\t|0.151850\t|42\n",
        "\n"
      ]
    },
    {
      "cell_type": "markdown",
      "metadata": {
        "id": "eJIyk4sLKuFa",
        "colab_type": "text"
      },
      "source": [
        "It's a tough one, so don't feel discouraged if it takes you some tries."
      ]
    },
    {
      "cell_type": "markdown",
      "metadata": {
        "id": "p1Yp66RsK0RY",
        "colab_type": "text"
      },
      "source": [
        "**Instructions:**\n",
        "\n",
        "To save yourself some typing, feel free to copy and paste the query at the top of the screen and work from it.\n",
        "\n",
        "Write a query that:\n",
        "\n",
        "- Selects in order\n",
        " - The values in the `Major` column in lowercase, preceded by the string `Major`:.  Use the alias `Major`.\n",
        "  - `Total`.\n",
        "  - `Men`.\n",
        "  - `Women`.\n",
        "  - `Unemployment_rate`.\n",
        "  - `LENGTH(Major)` as `Length_of_name`.\n",
        "- Ordered in descending order by the unemployment rate."
      ]
    },
    {
      "cell_type": "code",
      "metadata": {
        "id": "yJrLcOdMKvpo",
        "colab_type": "code",
        "colab": {}
      },
      "source": [
        ""
      ],
      "execution_count": null,
      "outputs": []
    },
    {
      "cell_type": "markdown",
      "metadata": {
        "id": "nDsZD0Ol3tAE",
        "colab_type": "text"
      },
      "source": [
        "## 11. Performing Arithmetic in SQL"
      ]
    },
    {
      "cell_type": "markdown",
      "metadata": {
        "id": "jZbkjIYt3tCr",
        "colab_type": "text"
      },
      "source": [
        "Let's revisit one of the questions from the beginning of the mission:\n",
        "\n",
        "- Which majors had the largest spread (difference) between the 25th and 75th percentile starting salaries?\n",
        "\n",
        "In the same way that we can use string functions and operators, we can also perform arithmetic on the columns in a table. SQL supports the standard arithmetic operators: `*`, `+`, `-`, and `/`, and we can use them like any other operator:"
      ]
    },
    {
      "cell_type": "code",
      "metadata": {
        "id": "tTyhFREjLe0T",
        "colab_type": "code",
        "colab": {
          "base_uri": "https://localhost:8080/",
          "height": 284
        },
        "outputId": "702ef8a7-a096-48e4-ff9d-6cdf5811ca08"
      },
      "source": [
        "%%sql\n",
        "SELECT P75th - P25th quartile_spread\n",
        "  FROM recent_grads\n",
        " LIMIT 10;"
      ],
      "execution_count": null,
      "outputs": [
        {
          "output_type": "stream",
          "text": [
            " * sqlite:///jobs.db\n",
            "Done.\n"
          ],
          "name": "stdout"
        },
        {
          "output_type": "execute_result",
          "data": {
            "text/html": [
              "<table>\n",
              "    <tr>\n",
              "        <th>quartile_spread</th>\n",
              "    </tr>\n",
              "    <tr>\n",
              "        <td>30000</td>\n",
              "    </tr>\n",
              "    <tr>\n",
              "        <td>35000</td>\n",
              "    </tr>\n",
              "    <tr>\n",
              "        <td>55000</td>\n",
              "    </tr>\n",
              "    <tr>\n",
              "        <td>37000</td>\n",
              "    </tr>\n",
              "    <tr>\n",
              "        <td>25000</td>\n",
              "    </tr>\n",
              "    <tr>\n",
              "        <td>52000</td>\n",
              "    </tr>\n",
              "    <tr>\n",
              "        <td>19000</td>\n",
              "    </tr>\n",
              "    <tr>\n",
              "        <td>77500</td>\n",
              "    </tr>\n",
              "    <tr>\n",
              "        <td>22000</td>\n",
              "    </tr>\n",
              "    <tr>\n",
              "        <td>27000</td>\n",
              "    </tr>\n",
              "</table>"
            ],
            "text/plain": [
              "[(30000,),\n",
              " (35000,),\n",
              " (55000,),\n",
              " (37000,),\n",
              " (25000,),\n",
              " (52000,),\n",
              " (19000,),\n",
              " (77500,),\n",
              " (22000,),\n",
              " (27000,)]"
            ]
          },
          "metadata": {
            "tags": []
          },
          "execution_count": 22
        }
      ]
    },
    {
      "cell_type": "markdown",
      "metadata": {
        "id": "_Ym_hpiiLkzp",
        "colab_type": "text"
      },
      "source": [
        "You can also add, subtract, multiple, or divide columns by individual values:"
      ]
    },
    {
      "cell_type": "code",
      "metadata": {
        "id": "7sPdUSq7Llgb",
        "colab_type": "code",
        "colab": {
          "base_uri": "https://localhost:8080/",
          "height": 284
        },
        "outputId": "f1d702f1-f313-490f-ae63-3ba48d3858b1"
      },
      "source": [
        "%%sql\n",
        "SELECT ShareWomen * 100 percent_female FROM recent_grads LIMIT 10"
      ],
      "execution_count": null,
      "outputs": [
        {
          "output_type": "stream",
          "text": [
            " * sqlite:///jobs.db\n",
            "Done.\n"
          ],
          "name": "stdout"
        },
        {
          "output_type": "execute_result",
          "data": {
            "text/html": [
              "<table>\n",
              "    <tr>\n",
              "        <th>percent_female</th>\n",
              "    </tr>\n",
              "    <tr>\n",
              "        <td>12.0564344</td>\n",
              "    </tr>\n",
              "    <tr>\n",
              "        <td>10.1851852</td>\n",
              "    </tr>\n",
              "    <tr>\n",
              "        <td>15.3037383</td>\n",
              "    </tr>\n",
              "    <tr>\n",
              "        <td>10.731319599999999</td>\n",
              "    </tr>\n",
              "    <tr>\n",
              "        <td>34.1630502</td>\n",
              "    </tr>\n",
              "    <tr>\n",
              "        <td>14.4966965</td>\n",
              "    </tr>\n",
              "    <tr>\n",
              "        <td>53.571428600000004</td>\n",
              "    </tr>\n",
              "    <tr>\n",
              "        <td>44.135557299999995</td>\n",
              "    </tr>\n",
              "    <tr>\n",
              "        <td>13.979280099999999</td>\n",
              "    </tr>\n",
              "    <tr>\n",
              "        <td>43.7846874</td>\n",
              "    </tr>\n",
              "</table>"
            ],
            "text/plain": [
              "[(12.0564344,),\n",
              " (10.1851852,),\n",
              " (15.3037383,),\n",
              " (10.731319599999999,),\n",
              " (34.1630502,),\n",
              " (14.4966965,),\n",
              " (53.571428600000004,),\n",
              " (44.135557299999995,),\n",
              " (13.979280099999999,),\n",
              " (43.7846874,)]"
            ]
          },
          "metadata": {
            "tags": []
          },
          "execution_count": 24
        }
      ]
    },
    {
      "cell_type": "markdown",
      "metadata": {
        "id": "ift6GwsNLtl-",
        "colab_type": "text"
      },
      "source": [
        "One thing to note is that multiplying or dividing columns with a floating point value (or a column with floating point values) will result in floating point values:\n",
        "\n",
        "- Two floats - Returns a float.\n",
        "  - `SELECT 100.0 / 100.0` returns `1.0`.\n",
        "- A float and an integer - Returns a float\n",
        "  - `SELECT 100 / 1.0` returns `100.0`.\n",
        "- Two integers - Returns an integer\n",
        "  - `SELECT 100 / 10` returns `10`\n"
      ]
    },
    {
      "cell_type": "markdown",
      "metadata": {
        "id": "_57UQO_YL_6R",
        "colab_type": "text"
      },
      "source": [
        "**Instructions:**\n",
        "\n",
        "Write a query that computes the difference between the 25th and 75th percentile of salaries for all majors.\n",
        "- Return the `Major` column first, using the default column name.\n",
        "- Return the `Major_category` column second, using the default column name.\n",
        "- Return the compute difference between the 25th and 75th percentile third, using the alias `quartile_spread`.\n",
        "- Order the results from lowest to highest and only return the first 20 results."
      ]
    },
    {
      "cell_type": "code",
      "metadata": {
        "id": "REfhWg_vMKkl",
        "colab_type": "code",
        "colab": {}
      },
      "source": [
        ""
      ],
      "execution_count": null,
      "outputs": []
    },
    {
      "cell_type": "markdown",
      "metadata": {
        "id": "ayb8Ahl53tIs",
        "colab_type": "text"
      },
      "source": [
        "## 12. Next Steps"
      ]
    },
    {
      "cell_type": "markdown",
      "metadata": {
        "id": "DgXF4WWP3tFi",
        "colab_type": "text"
      },
      "source": [
        "In this mission, we:\n",
        "\n",
        "- Explored how to calculate summary statistics in SQL.\n",
        "- Learned about different types of functions.\n",
        "- Learned about data types in SQL.\n",
        "\n",
        "In the next mission, we'll learn how to calculate statistics within specific subgroups using the `GROUP BY` statement."
      ]
    }
  ]
}