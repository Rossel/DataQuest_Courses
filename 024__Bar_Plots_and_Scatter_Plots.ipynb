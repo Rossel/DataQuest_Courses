{
  "nbformat": 4,
  "nbformat_minor": 0,
  "metadata": {
    "colab": {
      "name": "024__Bar_Plots_and_Scatter_Plots.ipynb",
      "provenance": [],
      "authorship_tag": "ABX9TyPVvWpLHIZFaTe68e85MZ4o",
      "include_colab_link": true
    },
    "kernelspec": {
      "name": "python3",
      "display_name": "Python 3"
    }
  },
  "cells": [
    {
      "cell_type": "markdown",
      "metadata": {
        "id": "view-in-github",
        "colab_type": "text"
      },
      "source": [
        "<a href=\"https://colab.research.google.com/github/Rossel/DataQuest_Courses/blob/master/024__Bar_Plots_and_Scatter_Plots.ipynb\" target=\"_parent\"><img src=\"https://colab.research.google.com/assets/colab-badge.svg\" alt=\"Open In Colab\"/></a>"
      ]
    },
    {
      "cell_type": "markdown",
      "metadata": {
        "id": "1bgGGYtKFh1q",
        "colab_type": "text"
      },
      "source": [
        "# COURSE 2/6: EXPLORATORY DATA VISUALIZATION"
      ]
    },
    {
      "cell_type": "markdown",
      "metadata": {
        "id": "Xf28b3MsFj2_",
        "colab_type": "text"
      },
      "source": [
        "# MISSION 3: Bar Plots And Scatter Plots"
      ]
    },
    {
      "cell_type": "markdown",
      "metadata": {
        "id": "9P8Yt2adFmGb",
        "colab_type": "text"
      },
      "source": [
        "In this mission, we'll be working with a dataset that has no particular order, and learn how to visualize this unordered data using bar plots and scatter plots.\n"
      ]
    },
    {
      "cell_type": "markdown",
      "metadata": {
        "id": "JehsAddyFuV6",
        "colab_type": "text"
      },
      "source": [
        "## 1. Recap"
      ]
    },
    {
      "cell_type": "markdown",
      "metadata": {
        "id": "VDf0FXEwFvUX",
        "colab_type": "text"
      },
      "source": [
        "In the previous missions in this course, we explored trends in unemployment data using line charts. The unemployment data we worked with had 2 columns:\n",
        "\n",
        "- `DATE` - monthly time stamp\n",
        "- `VALUE` - unemployment rate (in percent)\n",
        "Line charts were an appropriate choice for visualizing this dataset because the rows had a natural ordering to it. Each row reflected information about an event that occurred after the previous row. Changing the order of the rows would make the line chart inaccurate. The lines from one marker to the next helped emphasize the logical connection between the data points.\n",
        "\n",
        "In this mission, we'll be working with a dataset that has no particular order. Before we explore other plots we can use, let's get familiar with the dataset we'll be working with."
      ]
    },
    {
      "cell_type": "markdown",
      "metadata": {
        "id": "_eu5o2iHIi5v",
        "colab_type": "text"
      },
      "source": [
        "## 2. Introduction to the data"
      ]
    },
    {
      "cell_type": "markdown",
      "metadata": {
        "id": "tyl4ipW0IjXe",
        "colab_type": "text"
      },
      "source": [
        "![alt text](https://upload.wikimedia.org/wikipedia/commons/thumb/2/23/Fandango_2014.svg/1200px-Fandango_2014.svg.png)\n",
        "\n",
        "To investigate the potential bias that movie reviews site have, [FiveThirtyEight](https://fivethirtyeight.com/) compiled data for 147 films from 2015 that have substantive reviews from both critics and consumers. Every time Hollywood releases a movie, critics from [Metacritic](https://www.metacritic.com/), [Fandango](https://www.fandango.com/), [Rotten Tomatoes](https://www.rottentomatoes.com/), and [IMDB](https://www.imdb.com/) review and rate the film. They also ask the users in their respective communities to review and rate the film. Then, they calculate the average rating from both critics and users and display them on their site."
      ]
    },
    {
      "cell_type": "markdown",
      "metadata": {
        "id": "WTlYLOMdK7QY",
        "colab_type": "text"
      },
      "source": [
        "FiveThirtyEight compiled this dataset to investigate if there was any bias to Fandango's ratings. In addition to aggregating ratings for films, Fandango is unique in that it also sells movie tickets, and so it has a direct commercial interest in showing higher ratings. After discovering that a few films that weren't good were still rated highly on Fandango, the team investigated and published [an article about bias in movie ratings](http://fivethirtyeight.com/features/fandango-movies-ratings/).\n",
        "\n",
        "We'll be working with the `fandango_scores.csv` file, which can be downloaded from the [FiveThirtEight Github](https://github.com/fivethirtyeight/data/tree/master/fandango) repo. Here are the columns we'll be working with in this mission:\n",
        "\n",
        "- `FILM` - film name\n",
        "- `RT_user_norm` - average user rating from Rotten Tomatoes, normalized to a 1 to 5 point scale\n",
        "- `Metacritic_user_nom` - average user rating from Metacritic, normalized to a 1 to 5 point scale\n",
        "- `IMDB_norm` - average user rating from IMDB, normalized to a 1 to 5 point scale\n",
        "- `Fandango_Ratingvalue` - average user rating from Fandango, normalized to a 1 to 5 point scale\n",
        "- `Fandango_Stars` - the rating displayed on the Fandango website (rounded to nearest star, 1 to 5 point scale)\n",
        "\n",
        "Instead of displaying the raw rating, the writer discovered that Fandango usually rounded the average rating to the next highest half star (next highest `0.5` value). The `Fandango_Ratingvalue` column reflects the true average rating while the `Fandango_Stars` column reflects the displayed, rounded rating.\n",
        "\n",
        "Let's read in this dataset, which allows us to compare how a movie fared across all 4 review sites.\n",
        "\n"
      ]
    },
    {
      "cell_type": "markdown",
      "metadata": {
        "id": "6vrmez2SSfA3",
        "colab_type": "text"
      },
      "source": [
        "Instructions:\n",
        "\n",
        "- Read `fandango_scores.csv` into a Dataframe named `reviews`.\n",
        "- Select the following columns and assign the resulting Dataframe to norm_reviews:\n",
        "  - `FILM`\n",
        "  - `RT_user_norm`\n",
        "  - `Metacritic_user_nom` (note the misspelling of norm)\n",
        "  - `IMDB_norm`\n",
        "  - `Fandango_Ratingvalue`\n",
        "  - `Fandango_Stars`\n",
        "- Display the first row in `norm_reviews`"
      ]
    },
    {
      "cell_type": "code",
      "metadata": {
        "id": "pzy0-ZtPScNy",
        "colab_type": "code",
        "colab": {}
      },
      "source": [
        ""
      ],
      "execution_count": null,
      "outputs": []
    },
    {
      "cell_type": "markdown",
      "metadata": {
        "id": "6-Q7F8GoIRKc",
        "colab_type": "text"
      },
      "source": [
        "## 3. Bar Plot"
      ]
    },
    {
      "cell_type": "markdown",
      "metadata": {
        "id": "lAXWRo4EIja0",
        "colab_type": "text"
      },
      "source": [
        ""
      ]
    },
    {
      "cell_type": "markdown",
      "metadata": {
        "id": "02ag6qieIjeJ",
        "colab_type": "text"
      },
      "source": [
        "## 4. Creating Bars"
      ]
    },
    {
      "cell_type": "markdown",
      "metadata": {
        "id": "ChjIKKhSIjhi",
        "colab_type": "text"
      },
      "source": [
        ""
      ]
    },
    {
      "cell_type": "markdown",
      "metadata": {
        "id": "XF2FoNNeIjkg",
        "colab_type": "text"
      },
      "source": [
        "## 5. Aligning Axis Ticks And Labels"
      ]
    },
    {
      "cell_type": "markdown",
      "metadata": {
        "id": "XNIx1he5IjnV",
        "colab_type": "text"
      },
      "source": [
        ""
      ]
    },
    {
      "cell_type": "markdown",
      "metadata": {
        "id": "5qhX9VEbIjqE",
        "colab_type": "text"
      },
      "source": [
        "## 6. Horizontal Bar Plot"
      ]
    },
    {
      "cell_type": "markdown",
      "metadata": {
        "id": "nkcS6TBzIjs7",
        "colab_type": "text"
      },
      "source": [
        ""
      ]
    },
    {
      "cell_type": "markdown",
      "metadata": {
        "id": "973m9TWDIjvj",
        "colab_type": "text"
      },
      "source": [
        "## 7. Scatter plot"
      ]
    },
    {
      "cell_type": "markdown",
      "metadata": {
        "id": "gcnQ6UisIjyl",
        "colab_type": "text"
      },
      "source": [
        ""
      ]
    },
    {
      "cell_type": "markdown",
      "metadata": {
        "id": "L6QtlaVyIj1b",
        "colab_type": "text"
      },
      "source": [
        "## 8. Switching axes"
      ]
    },
    {
      "cell_type": "markdown",
      "metadata": {
        "id": "SRSqNbjrIj4Y",
        "colab_type": "text"
      },
      "source": [
        ""
      ]
    },
    {
      "cell_type": "markdown",
      "metadata": {
        "id": "H9gRCeseIj6-",
        "colab_type": "text"
      },
      "source": [
        "## 9. Benchmarking correlation"
      ]
    },
    {
      "cell_type": "markdown",
      "metadata": {
        "id": "QYRIbHizIj92",
        "colab_type": "text"
      },
      "source": [
        ""
      ]
    },
    {
      "cell_type": "markdown",
      "metadata": {
        "id": "vbiKADv3IkGs",
        "colab_type": "text"
      },
      "source": [
        ""
      ]
    },
    {
      "cell_type": "markdown",
      "metadata": {
        "id": "N7KhLY34IgWQ",
        "colab_type": "text"
      },
      "source": [
        "\n",
        "---\n",
        "\n",
        "From the scatter plots, we can conclude that user ratings from Metacritic and Rotten Tomatoes span a larger range of values than those from IMDB or Fandango. User ratings from Metacritic and Rotten Tomatoes range from 1 to 5. User ratings from Fandango range approximately from 2.5 to 5 while those from IMDB range approximately from 2 to 4.5.\n",
        "\n",
        "The scatter plots unfortunately only give us a cursory understanding of the distributions of user ratings from each review site. For example, if a hundred movies had the same average user rating from IMDB and Fandango in the dataset, we would only see a single marker in the scatter plot. In the next mission, we'll learn about two types of plots that help us understand distributions of values.\n",
        "\n"
      ]
    }
  ]
}