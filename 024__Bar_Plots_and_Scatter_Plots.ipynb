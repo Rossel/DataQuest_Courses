{
  "nbformat": 4,
  "nbformat_minor": 0,
  "metadata": {
    "colab": {
      "name": "024__Bar_Plots_and_Scatter_Plots.ipynb",
      "provenance": [],
      "authorship_tag": "ABX9TyPr35jBVg5HPrLKlUgdHfTL",
      "include_colab_link": true
    },
    "kernelspec": {
      "name": "python3",
      "display_name": "Python 3"
    }
  },
  "cells": [
    {
      "cell_type": "markdown",
      "metadata": {
        "id": "view-in-github",
        "colab_type": "text"
      },
      "source": [
        "<a href=\"https://colab.research.google.com/github/Rossel/DataQuest_Courses/blob/master/024__Bar_Plots_and_Scatter_Plots.ipynb\" target=\"_parent\"><img src=\"https://colab.research.google.com/assets/colab-badge.svg\" alt=\"Open In Colab\"/></a>"
      ]
    },
    {
      "cell_type": "markdown",
      "metadata": {
        "id": "1bgGGYtKFh1q",
        "colab_type": "text"
      },
      "source": [
        "# COURSE 2/6: EXPLORATORY DATA VISUALIZATION"
      ]
    },
    {
      "cell_type": "markdown",
      "metadata": {
        "id": "Xf28b3MsFj2_",
        "colab_type": "text"
      },
      "source": [
        "# MISSION 3: Bar Plots And Scatter Plots"
      ]
    },
    {
      "cell_type": "markdown",
      "metadata": {
        "id": "9P8Yt2adFmGb",
        "colab_type": "text"
      },
      "source": [
        "In this mission, we'll be working with a dataset that has no particular order, and learn how to visualize this unordered data using bar plots and scatter plots.\n"
      ]
    },
    {
      "cell_type": "markdown",
      "metadata": {
        "id": "JehsAddyFuV6",
        "colab_type": "text"
      },
      "source": [
        "## 1. Recap"
      ]
    },
    {
      "cell_type": "markdown",
      "metadata": {
        "id": "VDf0FXEwFvUX",
        "colab_type": "text"
      },
      "source": [
        "In the previous missions in this course, we explored trends in unemployment data using line charts. The unemployment data we worked with had 2 columns:\n",
        "\n",
        "- `DATE` - monthly time stamp\n",
        "- `VALUE` - unemployment rate (in percent)\n",
        "\n",
        "Line charts were an appropriate choice for visualizing this dataset because the rows had a natural ordering to it. Each row reflected information about an event that occurred after the previous row. Changing the order of the rows would make the line chart inaccurate. The lines from one marker to the next helped emphasize the logical connection between the data points.\n",
        "\n",
        "In this mission, we'll be working with a dataset that has no particular order. Before we explore other plots we can use, let's get familiar with the dataset we'll be working with."
      ]
    },
    {
      "cell_type": "markdown",
      "metadata": {
        "id": "_eu5o2iHIi5v",
        "colab_type": "text"
      },
      "source": [
        "## 2. Introduction to the data"
      ]
    },
    {
      "cell_type": "markdown",
      "metadata": {
        "id": "tyl4ipW0IjXe",
        "colab_type": "text"
      },
      "source": [
        "![alt text](https://upload.wikimedia.org/wikipedia/commons/thumb/2/23/Fandango_2014.svg/1200px-Fandango_2014.svg.png)\n",
        "\n",
        "To investigate the potential bias that movie reviews site have, [FiveThirtyEight](https://fivethirtyeight.com/) compiled data for 147 films from 2015 that have substantive reviews from both critics and consumers. Every time Hollywood releases a movie, critics from [Metacritic](https://www.metacritic.com/), [Fandango](https://www.fandango.com/), [Rotten Tomatoes](https://www.rottentomatoes.com/), and [IMDB](https://www.imdb.com/) review and rate the film. They also ask the users in their respective communities to review and rate the film. Then, they calculate the average rating from both critics and users and display them on their site."
      ]
    },
    {
      "cell_type": "markdown",
      "metadata": {
        "id": "WTlYLOMdK7QY",
        "colab_type": "text"
      },
      "source": [
        "FiveThirtyEight compiled this dataset to investigate if there was any bias to Fandango's ratings. In addition to aggregating ratings for films, Fandango is unique in that it also sells movie tickets, and so it has a direct commercial interest in showing higher ratings. After discovering that a few films that weren't good were still rated highly on Fandango, the team investigated and published [an article about bias in movie ratings](http://fivethirtyeight.com/features/fandango-movies-ratings/).\n",
        "\n",
        "We'll be working with the `fandango_scores.csv` file, which can be downloaded from the [FiveThirtEight Github](https://github.com/fivethirtyeight/data/tree/master/fandango) repo or by clicking [this link](https://drive.google.com/file/d/1xILtCzObbTvL99E1ufL7VrPCtX7PC4ro/view?usp=sharing). Here are the columns we'll be working with in this mission:\n",
        "\n",
        "- `FILM` - film name\n",
        "- `RT_user_norm` - average user rating from Rotten Tomatoes, normalized to a 1 to 5 point scale\n",
        "- `Metacritic_user_nom` - average user rating from Metacritic, normalized to a 1 to 5 point scale\n",
        "- `IMDB_norm` - average user rating from IMDB, normalized to a 1 to 5 point scale\n",
        "- `Fandango_Ratingvalue` - average user rating from Fandango, normalized to a 1 to 5 point scale\n",
        "- `Fandango_Stars` - the rating displayed on the Fandango website (rounded to nearest star, 1 to 5 point scale)\n",
        "\n",
        "Instead of displaying the raw rating, the writer discovered that Fandango usually rounded the average rating to the next highest half star (next highest `0.5` value). The `Fandango_Ratingvalue` column reflects the true average rating while the `Fandango_Stars` column reflects the displayed, rounded rating.\n",
        "\n",
        "Let's read in this dataset, which allows us to compare how a movie fared across all 4 review sites.\n",
        "\n"
      ]
    },
    {
      "cell_type": "markdown",
      "metadata": {
        "id": "6vrmez2SSfA3",
        "colab_type": "text"
      },
      "source": [
        "Instructions:\n",
        "\n",
        "- Read `fandango_scores.csv` into a Dataframe named `reviews`.\n",
        "- Select the following columns and assign the resulting Dataframe to norm_reviews:\n",
        "  - `FILM`\n",
        "  - `RT_user_norm`\n",
        "  - `Metacritic_user_nom` (note the misspelling of norm)\n",
        "  - `IMDB_norm`\n",
        "  - `Fandango_Ratingvalue`\n",
        "  - `Fandango_Stars`\n",
        "- Display the first row in `norm_reviews`"
      ]
    },
    {
      "cell_type": "code",
      "metadata": {
        "id": "_LBr2rk1T0xR",
        "colab_type": "code",
        "colab": {}
      },
      "source": [
        "# Import functions from Google modules into Colaboratory\n",
        "!pip install -U -q PyDrive\n",
        "from pydrive.auth import GoogleAuth\n",
        "from pydrive.drive import GoogleDrive\n",
        "from google.colab import auth\n",
        "from oauth2client.client import GoogleCredentials\n",
        "\n",
        "# Authenticate and create the PyDrive client\n",
        "auth.authenticate_user()\n",
        "gauth = GoogleAuth()\n",
        "gauth.credentials = GoogleCredentials.get_application_default()\n",
        "drive = GoogleDrive(gauth)"
      ],
      "execution_count": 1,
      "outputs": []
    },
    {
      "cell_type": "code",
      "metadata": {
        "id": "pzy0-ZtPScNy",
        "colab_type": "code",
        "colab": {}
      },
      "source": [
        "# Insert file id from Google Drive shareable link:\n",
        "# https://drive.google.com/file/d/1xILtCzObbTvL99E1ufL7VrPCtX7PC4ro/view?usp=sharing\n",
        "id = '1xILtCzObbTvL99E1ufL7VrPCtX7PC4ro'"
      ],
      "execution_count": 2,
      "outputs": []
    },
    {
      "cell_type": "code",
      "metadata": {
        "id": "mspPJ_6QT1mi",
        "colab_type": "code",
        "colab": {}
      },
      "source": [
        "# Download the dataset\n",
        "downloaded = drive.CreateFile({'id':id}) \n",
        "downloaded.GetContentFile('fandango_scores.csv')"
      ],
      "execution_count": 3,
      "outputs": []
    },
    {
      "cell_type": "code",
      "metadata": {
        "id": "X7iE_viqT2ju",
        "colab_type": "code",
        "colab": {}
      },
      "source": [
        "# Import pandas library and read csv\n",
        "import pandas as pd\n",
        "reviews = pd.read_csv('fandango_scores.csv')"
      ],
      "execution_count": 4,
      "outputs": []
    },
    {
      "cell_type": "code",
      "metadata": {
        "id": "c1wvvr0kVTGF",
        "colab_type": "code",
        "colab": {
          "base_uri": "https://localhost:8080/",
          "height": 153
        },
        "outputId": "00d77a0d-353a-401c-a53c-fd81c84d628a"
      },
      "source": [
        "# List all columns\n",
        "reviews.columns"
      ],
      "execution_count": 5,
      "outputs": [
        {
          "output_type": "execute_result",
          "data": {
            "text/plain": [
              "Index(['FILM', 'RottenTomatoes', 'RottenTomatoes_User', 'Metacritic',\n",
              "       'Metacritic_User', 'IMDB', 'Fandango_Stars', 'Fandango_Ratingvalue',\n",
              "       'RT_norm', 'RT_user_norm', 'Metacritic_norm', 'Metacritic_user_nom',\n",
              "       'IMDB_norm', 'RT_norm_round', 'RT_user_norm_round',\n",
              "       'Metacritic_norm_round', 'Metacritic_user_norm_round',\n",
              "       'IMDB_norm_round', 'Metacritic_user_vote_count', 'IMDB_user_vote_count',\n",
              "       'Fandango_votes', 'Fandango_Difference'],\n",
              "      dtype='object')"
            ]
          },
          "metadata": {
            "tags": []
          },
          "execution_count": 5
        }
      ]
    },
    {
      "cell_type": "code",
      "metadata": {
        "id": "Fg9nAn7_Voa3",
        "colab_type": "code",
        "colab": {}
      },
      "source": [
        "# Assign the instructed columns to a list \n",
        "cols = ['FILM', 'RT_user_norm', 'Metacritic_user_nom',\n",
        "       'IMDB_norm', 'Fandango_Ratingvalue', 'Fandango_Stars']"
      ],
      "execution_count": 6,
      "outputs": []
    },
    {
      "cell_type": "code",
      "metadata": {
        "id": "8oaKL78MWI1z",
        "colab_type": "code",
        "colab": {}
      },
      "source": [
        "# Assign the resulting dataframe\n",
        "norm_reviews = reviews[cols]"
      ],
      "execution_count": 7,
      "outputs": []
    },
    {
      "cell_type": "code",
      "metadata": {
        "id": "5cW-X_otVCdd",
        "colab_type": "code",
        "colab": {
          "base_uri": "https://localhost:8080/",
          "height": 151
        },
        "outputId": "7e40ec5a-bf7c-4c62-8b09-d4cda943cb88"
      },
      "source": [
        "#Display the first row\n",
        "norm_reviews[:1]"
      ],
      "execution_count": 8,
      "outputs": [
        {
          "output_type": "execute_result",
          "data": {
            "text/html": [
              "<div>\n",
              "<style scoped>\n",
              "    .dataframe tbody tr th:only-of-type {\n",
              "        vertical-align: middle;\n",
              "    }\n",
              "\n",
              "    .dataframe tbody tr th {\n",
              "        vertical-align: top;\n",
              "    }\n",
              "\n",
              "    .dataframe thead th {\n",
              "        text-align: right;\n",
              "    }\n",
              "</style>\n",
              "<table border=\"1\" class=\"dataframe\">\n",
              "  <thead>\n",
              "    <tr style=\"text-align: right;\">\n",
              "      <th></th>\n",
              "      <th>FILM</th>\n",
              "      <th>RT_user_norm</th>\n",
              "      <th>Metacritic_user_nom</th>\n",
              "      <th>IMDB_norm</th>\n",
              "      <th>Fandango_Ratingvalue</th>\n",
              "      <th>Fandango_Stars</th>\n",
              "    </tr>\n",
              "  </thead>\n",
              "  <tbody>\n",
              "    <tr>\n",
              "      <th>0</th>\n",
              "      <td>Avengers: Age of Ultron (2015)</td>\n",
              "      <td>4.3</td>\n",
              "      <td>3.55</td>\n",
              "      <td>3.9</td>\n",
              "      <td>4.5</td>\n",
              "      <td>5.0</td>\n",
              "    </tr>\n",
              "  </tbody>\n",
              "</table>\n",
              "</div>"
            ],
            "text/plain": [
              "                             FILM  ...  Fandango_Stars\n",
              "0  Avengers: Age of Ultron (2015)  ...             5.0\n",
              "\n",
              "[1 rows x 6 columns]"
            ]
          },
          "metadata": {
            "tags": []
          },
          "execution_count": 8
        }
      ]
    },
    {
      "cell_type": "code",
      "metadata": {
        "id": "4ewmJUQLT0_s",
        "colab_type": "code",
        "colab": {
          "base_uri": "https://localhost:8080/",
          "height": 238
        },
        "outputId": "8de17710-c06c-47b3-b880-761e3952b659"
      },
      "source": [
        "# Retrieve info on the dataframe\n",
        "norm_reviews.info()"
      ],
      "execution_count": 9,
      "outputs": [
        {
          "output_type": "stream",
          "text": [
            "<class 'pandas.core.frame.DataFrame'>\n",
            "RangeIndex: 146 entries, 0 to 145\n",
            "Data columns (total 6 columns):\n",
            " #   Column                Non-Null Count  Dtype  \n",
            "---  ------                --------------  -----  \n",
            " 0   FILM                  146 non-null    object \n",
            " 1   RT_user_norm          146 non-null    float64\n",
            " 2   Metacritic_user_nom   146 non-null    float64\n",
            " 3   IMDB_norm             146 non-null    float64\n",
            " 4   Fandango_Ratingvalue  146 non-null    float64\n",
            " 5   Fandango_Stars        146 non-null    float64\n",
            "dtypes: float64(5), object(1)\n",
            "memory usage: 7.0+ KB\n"
          ],
          "name": "stdout"
        }
      ]
    },
    {
      "cell_type": "markdown",
      "metadata": {
        "id": "6-Q7F8GoIRKc",
        "colab_type": "text"
      },
      "source": [
        "## 3. Bar Plot"
      ]
    },
    {
      "cell_type": "markdown",
      "metadata": {
        "id": "lAXWRo4EIja0",
        "colab_type": "text"
      },
      "source": [
        "These sites use different scales for ratings. Some use a 5 star scale while others use a 100 point scale. In addition, Metacritic and Rotten Tomatoes aggregate scores from both users and film critics, while IMDB and Fandango aggregate only from their users. We'll focus on just the average scores from users, because not all of the sites have scores from critics.\n",
        "\n",
        "The `RT_user_norm`, `Metacritic_user_nom`, `IMDB_norm`, and `Fandango_Ratingvalue` columns contain the average user rating for each movie, normalized to a 0 to 5 point scale. This allows us to compare how the users on each site rated a movie. While using averages isn't perfect because films with a few reviews can skew the average rating, FiveThirtyEight only selected movies with a non-trivial number of ratings to ensure films with only a handful of reviews aren't included.\n",
        "\n",
        "![alt text](https://s3.amazonaws.com/dq-content/review_sites_screenshots.png)\n",
        "\n",
        "If you look at the first row, which lists the average user ratings for **Avengers: Age of Ultron (2015)**, you'll notice that the Fandango ratings, both the actual and the displayed rating, are higher than those from the other sites for a given movie. While calculating and comparing summary statistics give us hard numbers for quantifying the bias, visualizing the data using plots can help us gain a more intuitive understanding. We need a visualization that scales graphical objects to the quantitative values we're interested in comparing. One of these visualizations is a **bar plot**.\n",
        "\n",
        "![alt text](https://s3.amazonaws.com/dq-content/vertical_bar_plot.png)"
      ]
    },
    {
      "cell_type": "markdown",
      "metadata": {
        "id": "DgMgmJNVYv4j",
        "colab_type": "text"
      },
      "source": [
        "In the bar plot above, the x-axis represented the different ratings and the y-axis represented the actual ratings. An effective bar plot uses categorical values on one axis and numerical values on the other axis. Because bar plots can help us find the category corresponding to the smallest or largest values, it's important that we restrict the number of bars in a single plot. Using a bar plot to visualize hundreds of values makes it difficult to trace the category with the smallest or largest value.\n",
        "\n",
        "If the x-axis contains the categorical values and the rectangular bars are scaled vertically, this is known as a vertical bar plot. A horizontal bar plot flips the axes, which is useful for quickly spotting the largest value.\n",
        "\n",
        "![alt text](https://s3.amazonaws.com/dq-content/horizontal_bar_plot.png)\n",
        "\n",
        "An effective bar plot uses a consistent width for each bar. This helps keep the visual focus on the heights of the bars when comparing. Let's now learn how to create a vertical bar plot in matplotlib that represents the different user scores for **Avengers: Age of Ultron (2015)**."
      ]
    },
    {
      "cell_type": "markdown",
      "metadata": {
        "id": "02ag6qieIjeJ",
        "colab_type": "text"
      },
      "source": [
        "## 4. Creating Bars"
      ]
    },
    {
      "cell_type": "markdown",
      "metadata": {
        "id": "ChjIKKhSIjhi",
        "colab_type": "text"
      },
      "source": [
        "When we generated line charts, we passed in the data to `pyplot.plot()` and matplotlib took care of the rest. Because the markers and lines in a line chart correspond directly with x-axis and y-axis coordinates, all matplotlib needed was the data we wanted plotted. To create a useful bar plot, however, we need to specify the positions of the bars, the widths of the bars, and the positions of the axis labels. Here's a diagram that shows the various values we need to specify:\n",
        "![alt text](https://s3.amazonaws.com/dq-content/matplotlib_barplot_positioning.png)"
      ]
    },
    {
      "cell_type": "markdown",
      "metadata": {
        "id": "Tk_JTT0uKaew",
        "colab_type": "text"
      },
      "source": [
        "We'll focus on positioning the bars on the x-axis in this step and on positioning the x-axis labels in the next step. We can generate a vertical bar plot using either [pyplot.bar()](http://matplotlib.org/api/pyplot_api.html#matplotlib.pyplot.bar) or [Axes.bar()](http://matplotlib.org/api/axes_api.html#matplotlib.axes.Axes.bar). We'll use `Axes.bar()` so we can extensively customize the bar plot more easily. We can use [pyplot.subplots()](http://matplotlib.org/api/pyplot_api.html#matplotlib.pyplot.subplots) to first generate a single subplot and return both the Figure and Axes object. This is a shortcut from the technique we used in the previous mission:\n",
        "```\n",
        "fig, ax = plt.subplots()\n",
        "```\n",
        "The `Axes.bar()` method has 2 required parameters, `left` and `height`. We use the `left` parameter to specify the x coordinates of the left sides of the bar (marked in blue on the above image) (Note that recent versions of Matplotlib use a modified syntax, substituting the parameter `x` for the parameter `left`). We use the `height` parameter to specify the height of each bar. Both of these parameters accept a list-like object.\n",
        "\n",
        "The [np.arange()](http://docs.scipy.org/doc/numpy/reference/generated/numpy.arange.html) function returns evenly spaced values. We use `arange()` to generate the positions of the `left` side of our bars. This function requires a parameter that specifies the number of values we want to generate. We'll also want to add space between our bars for better readability:\n",
        "\n",
        "```\n",
        "# Positions of the left sides of the 5 bars. [0.75, 1.75, 2.75, 3.75, 4.75]\n",
        "from numpy import arange\n",
        "bar_positions = arange(5) + 0.75\n",
        "\n",
        "# Heights of the bars, in this case, the average rating for the first movie in the dataset.\n",
        "num_cols = ['RT_user_norm', 'Metacritic_user_nom', 'IMDB_norm', 'Fandango_Ratingvalue', 'Fandango_Stars']\n",
        "bar_heights = norm_reviews[num_cols].iloc[0].values\n",
        "\n",
        "ax.bar(bar_positions, bar_heights)\n",
        "```\n",
        "We can also use the `width` parameter to specify the width of each bar. This is an optional parameter and the width of each bar is set to `0.8` by default. The following code sets the `width` parameter to `1.5`:\n",
        "\n",
        "\n",
        "```\n",
        "ax.bar(bar_positions, bar_heights, 1.5)\n",
        "```\n",
        "\n",
        "\n",
        "\n"
      ]
    },
    {
      "cell_type": "markdown",
      "metadata": {
        "id": "gqU316YJoLZ6",
        "colab_type": "text"
      },
      "source": [
        "Instructions:\n",
        "\n",
        "- Create a single subplot and assign the returned Figure object to `fig` and the returned Axes object to `ax`.\n",
        "- Generate a bar plot with:\n",
        "  - `left` set to `bar_positions`\n",
        "  - `height` set to `bar_heights`\n",
        "  - `width` set to `0.5`\n",
        "- Use `plt.show()` to display the bar plot."
      ]
    },
    {
      "cell_type": "code",
      "metadata": {
        "id": "fhdttIr8pKrb",
        "colab_type": "code",
        "colab": {}
      },
      "source": [
        "# Import pyplot library and arrange function\n",
        "import matplotlib.pyplot as plt\n",
        "from numpy import arange"
      ],
      "execution_count": 10,
      "outputs": []
    },
    {
      "cell_type": "code",
      "metadata": {
        "id": "10pYLpJPpcLg",
        "colab_type": "code",
        "colab": {
          "base_uri": "https://localhost:8080/",
          "height": 265
        },
        "outputId": "59418cf9-2494-41eb-e728-05fa1d82308e"
      },
      "source": [
        "# Define the number of columns\n",
        "num_cols = ['RT_user_norm', 'Metacritic_user_nom', 'IMDB_norm', 'Fandango_Ratingvalue', 'Fandango_Stars']\n",
        "\n",
        "# Define bar heights and positions\n",
        "bar_heights = norm_reviews[num_cols].iloc[0].values\n",
        "bar_positions = arange(5) + 0.75\n",
        "\n",
        "# Create a single subplot\n",
        "fig, ax = plt.subplots()\n",
        "\n",
        "# Generate a bar plot\n",
        "ax.bar(bar_positions, bar_heights, 0.5)\n",
        "\n",
        "# Display the bar plot\n",
        "plt.show()"
      ],
      "execution_count": 11,
      "outputs": [
        {
          "output_type": "display_data",
          "data": {
            "image/png": "[encoded data removed]",
            "text/plain": [
              "<Figure size 432x288 with 1 Axes>"
            ]
          },
          "metadata": {
            "tags": [],
            "needs_background": "light"
          }
        }
      ]
    },
    {
      "cell_type": "markdown",
      "metadata": {
        "id": "XF2FoNNeIjkg",
        "colab_type": "text"
      },
      "source": [
        "## 5. Aligning Axis Ticks And Labels"
      ]
    },
    {
      "cell_type": "markdown",
      "metadata": {
        "id": "XNIx1he5IjnV",
        "colab_type": "text"
      },
      "source": [
        "By default, matplotlib sets the x-axis tick labels to the integer values the bars spanned on the x-axis (from `0` to `6`). We only need tick labels on the x-axis where the bars are positioned. We can use [Axes.set_xticks()](http://matplotlib.org/api/axes_api.html#matplotlib.axes.Axes.set_xticks) to change the positions of the ticks to `[1, 2, 3, 4, 5]`:\n",
        "\n",
        "```\n",
        "tick_positions = range(1,6)\n",
        "ax.set_xticks(tick_positions)\n",
        "```\n",
        "\n",
        "Then, we can use [Axes.set_xticklabels()](http://matplotlib.org/api/axes_api.html#matplotlib.axes.Axes.set_xticklabels) to specify the tick labels:\n",
        "```\n",
        "num_cols = ['RT_user_norm', 'Metacritic_user_nom', 'IMDB_norm', 'Fandango_Ratingvalue', 'Fandango_Stars']\n",
        "ax.set_xticklabels(num_cols)\n",
        "```\n",
        "If you look at the [documentation](http://matplotlib.org/api/axes_api.html#matplotlib.axes.Axes.set_xticklabels) for the method, you'll notice that we can specify the orientation for the labels using the `rotation` parameter:\n",
        "```\n",
        "ax.set_xticklabels(num_cols, rotation=90)\n",
        "```\n",
        "Rotating the labels by 90 degrees keeps them readable. In addition to modifying the x-axis tick positions and labels, let's also set the x-axis label, y-axis label, and the plot title."
      ]
    },
    {
      "cell_type": "code",
      "metadata": {
        "id": "HZL9z-1u3S25",
        "colab_type": "code",
        "colab": {
          "base_uri": "https://localhost:8080/",
          "height": 399
        },
        "outputId": "9ab15444-9ee8-48d7-c130-d180af9eff4a"
      },
      "source": [
        "num_cols = ['RT_user_norm', 'Metacritic_user_nom', 'IMDB_norm', 'Fandango_Ratingvalue', 'Fandango_Stars']\n",
        "bar_heights = norm_reviews[num_cols].iloc[0].values\n",
        "bar_positions = arange(5) + 0.75\n",
        "tick_positions = range(1,6)\n",
        "\n",
        "# Create a single subplot\n",
        "fig, ax = plt.subplots()\n",
        "\n",
        "# Generate a bar plot\n",
        "ax.bar(bar_positions, bar_heights, 0.5)\n",
        "\n",
        "# Set the x-axis tick positions to tick_positions\n",
        "ax.set_xticks(tick_positions)\n",
        "\n",
        "# Set the x-axis tick labels to num_cols and rotate by 90 degrees\n",
        "ax.set_xticklabels(num_cols, rotation=90)\n",
        "\n",
        "# Set the x-axis label to \"Rating Source\" \n",
        "plt.xlabel('Rating Source')\n",
        "# Set the y-axis label to \"Average Rating\" \n",
        "plt.ylabel('Average Rating')\n",
        "# Set the plot title to \"Average User Rating For Avengers: Age of Ultron (2015)\" \n",
        "plt.title('Average User Rating For Avengers: Age of Ultron (2015)')\n",
        "\n",
        "# Display the bar plot\n",
        "plt.show()"
      ],
      "execution_count": 12,
      "outputs": [
        {
          "output_type": "display_data",
          "data": {
            "image/png": "[encoded data removed]",
            "text/plain": [
              "<Figure size 432x288 with 1 Axes>"
            ]
          },
          "metadata": {
            "tags": [],
            "needs_background": "light"
          }
        }
      ]
    },
    {
      "cell_type": "markdown",
      "metadata": {
        "id": "5qhX9VEbIjqE",
        "colab_type": "text"
      },
      "source": [
        "## 6. Horizontal Bar Plot"
      ]
    },
    {
      "cell_type": "markdown",
      "metadata": {
        "id": "nkcS6TBzIjs7",
        "colab_type": "text"
      },
      "source": [
        "We can create a horizontal bar plot in matplotlib in a similar fashion. Instead of using `Axes.bar()`, we use [`Axes.barh()`](http://matplotlib.org/api/axes_api.html#matplotlib.axes.Axes.barh). This method has 2 required parameters, `bottom` and `width`. We use the `bottom parameter to specify the y-coordinate for the bottom sides for the bars and the `width` parameter to specify the lengths of the bars:\n",
        "```\n",
        "bar_widths = norm_reviews[num_cols].iloc[0].values\n",
        "bar_positions = arange(5) + 0.75\n",
        "ax.barh(bar_positions, bar_widths, 0.5)\n",
        "```\n",
        "To recreate the bar plot from the last step as horizontal bar plot, we essentially need to map the properties we set for the y-axis instead of the x-axis. We use `Axes.set_yticks()` to set the y-axis tick positions to `[1, 2, 3, 4, 5]` and `Axes.set_yticklabels()` to set the tick labels to the column names:\n",
        "\n",
        "```\n",
        "tick_positions = range(1,6)\n",
        "num_cols = ['RT_user_norm', 'Metacritic_user_nom', 'IMDB_norm', 'Fandango_Ratingvalue', 'Fandango_Stars']\n",
        "ax.set_yticks(tick_positions)\n",
        "ax.set_yticklabels(num_cols)\n",
        "```"
      ]
    },
    {
      "cell_type": "code",
      "metadata": {
        "id": "OZYPEc_6_CCh",
        "colab_type": "code",
        "colab": {
          "base_uri": "https://localhost:8080/",
          "height": 295
        },
        "outputId": "aacc4945-0a31-416c-fe30-f67e7b878fca"
      },
      "source": [
        "num_cols = ['RT_user_norm', 'Metacritic_user_nom', 'IMDB_norm', 'Fandango_Ratingvalue', 'Fandango_Stars']\n",
        "\n",
        "bar_widths = norm_reviews[num_cols].iloc[0].values\n",
        "bar_positions = arange(5) + 0.75\n",
        "tick_positions = range(1,6)\n",
        "\n",
        "# Create a single subplot\n",
        "fig, ax = plt.subplots()\n",
        "\n",
        "# Generate a bar plot\n",
        "ax.barh(bar_positions, bar_widths, 0.5)\n",
        "\n",
        "# Set the y-axis tick positions to tick_positions\n",
        "ax.set_yticks(tick_positions)\n",
        "\n",
        "# Set the y-axis tick labels to num_cols\n",
        "ax.set_yticklabels(num_cols)\n",
        "\n",
        "# Set the y-axis label to \"Rating Source\" \n",
        "plt.ylabel('Rating Source')\n",
        "# Set the x-axis label to \"Average Rating\" \n",
        "plt.xlabel('Average Rating')\n",
        "# Set the plot title to \"Average User Rating For Avengers: Age of Ultron (2015)\" \n",
        "plt.title('Average User Rating For Avengers: Age of Ultron (2015)')\n",
        "\n",
        "# Display the bar plot\n",
        "plt.show()"
      ],
      "execution_count": 13,
      "outputs": [
        {
          "output_type": "display_data",
          "data": {
            "image/png": "[encoded data removed]",
            "text/plain": [
              "<Figure size 432x288 with 1 Axes>"
            ]
          },
          "metadata": {
            "tags": [],
            "needs_background": "light"
          }
        }
      ]
    },
    {
      "cell_type": "markdown",
      "metadata": {
        "id": "973m9TWDIjvj",
        "colab_type": "text"
      },
      "source": [
        "## 7. Scatter plot"
      ]
    },
    {
      "cell_type": "markdown",
      "metadata": {
        "id": "gcnQ6UisIjyl",
        "colab_type": "text"
      },
      "source": [
        "From the horizontal bar plot, we can more easily determine that the 2 average scores from Fandango users are higher than those from the other sites. While bar plots help us visualize a few data points to quickly compare them, they aren't good at helping us visualize many data points. Let's look at a plot that can help us visualize many points.\n",
        "\n",
        "In the previous mission, the line charts we generated always connected points from left to right. This helped us show the trend, up or down, between each point as we scanned visually from left to right. Instead, we can avoid using lines to connect markers and just use the underlying markers. A plot containing just the markers is known as a scatter plot.\n",
        "\n",
        "![alt text](https://s3.amazonaws.com/dq-content/scatter_plot_intro.png)\n",
        "\n",
        "A scatter plot helps us determine if 2 columns are weakly or strongly correlated. While calculating the [correlation coefficient](https://en.wikipedia.org/wiki/Correlation_coefficient) will give us a precise number, a scatter plot helps us find outliers, gain a more intuitive sense of how spread out the data is, and compare more easily.\n",
        "\n",
        "To generate a scatter plot, we use [Axes.scatter()](https://matplotlib.org/api/_as_gen/matplotlib.axes.Axes.scatter.html#matplotlib.axes.Axes.scatter). The `scatter()` method has 2 required parameters, `x` and `y`, which matches the parameters of the `plot()` method. The values for these parameters need to be iterable objects of matching lengths (lists, NumPy arrays, or pandas series).\n",
        "\n",
        "Let's start by creating a scatter plot that visualizes the relationship between the `Fandango_Ratingvalue` and `RT_user_norm` columns. We're looking for at least a weak correlation between the columns.\n",
        "\n"
      ]
    },
    {
      "cell_type": "code",
      "metadata": {
        "id": "YnOCaXNyBSnT",
        "colab_type": "code",
        "colab": {
          "base_uri": "https://localhost:8080/",
          "height": 279
        },
        "outputId": "3d476f69-cf0a-4139-a150-c2b7e426aa95"
      },
      "source": [
        "# Create a single subplot\n",
        "fig, ax = plt.subplots()\n",
        "\n",
        "# Generate a scatter plot\n",
        "x = norm_reviews['Fandango_Ratingvalue']\n",
        "y = norm_reviews['RT_user_norm']\n",
        "ax.scatter(x, y)\n",
        "\n",
        "# Set the x-axis label\n",
        "ax.set_xlabel('Fandango')\n",
        "# Set the y-axis label\n",
        "ax.set_ylabel('Rotten Tomatoes')\n",
        "\n",
        "# Display the bar plot\n",
        "plt.show()"
      ],
      "execution_count": 14,
      "outputs": [
        {
          "output_type": "display_data",
          "data": {
            "image/png": "[encoded data removed]",
            "text/plain": [
              "<Figure size 432x288 with 1 Axes>"
            ]
          },
          "metadata": {
            "tags": [],
            "needs_background": "light"
          }
        }
      ]
    },
    {
      "cell_type": "markdown",
      "metadata": {
        "id": "L6QtlaVyIj1b",
        "colab_type": "text"
      },
      "source": [
        "## 8. Switching axes"
      ]
    },
    {
      "cell_type": "markdown",
      "metadata": {
        "id": "SRSqNbjrIj4Y",
        "colab_type": "text"
      },
      "source": [
        "The scatter plot suggests that there's a weak, positive correlation between the user ratings on Fandango and the user ratings on Rotten Tomatoes. The correlation is weak because for many x values, there are multiple corresponding y values. The correlation is positive because, in general, as x increases, y also increases.\n",
        "\n",
        "When using scatter plots to understand how 2 variables are correlated, it's usually not important which one is on the x-axis and which one is on the y-axis. This is because the relationship is still captured either way, even if the plots look a little different. If you want to instead understand how an independent variable affects a dependent variables, you want to put the independent one on the x-axis and the dependent one on the y-axis. Doing so helps emphasize the potential cause and effect relation.\n",
        "\n",
        "In our case, we're not exploring if the ratings from Fandango influence those on Rotten Tomatoes and we're instead looking to understand how much they agree. Let's see what happens when we flip the columns."
      ]
    },
    {
      "cell_type": "code",
      "metadata": {
        "id": "LtXx1dCQDyTz",
        "colab_type": "code",
        "colab": {
          "base_uri": "https://localhost:8080/",
          "height": 606
        },
        "outputId": "d2fefdf4-4427-41a6-8f26-17246d99c60e"
      },
      "source": [
        "fig = plt.figure(figsize=(5,10))\n",
        "ax1 = fig.add_subplot(2,1,1)\n",
        "ax2 = fig.add_subplot(2,1,2)\n",
        "reviews = pd.read_csv('fandango_scores.csv')\n",
        "cols = ['FILM', 'RT_user_norm', 'Metacritic_user_nom', 'IMDB_norm', 'Fandango_Ratingvalue', 'Fandango_Stars']\n",
        "norm_reviews = reviews[cols]\n",
        "\n",
        "# Generate ax1 scatter plot \n",
        "ax1.scatter(norm_reviews['Fandango_Ratingvalue'], norm_reviews['RT_user_norm'])\n",
        "\n",
        "# Set the x-axis label\n",
        "ax1.set_xlabel('Fandango')\n",
        "\n",
        "# Set the y-axis label\n",
        "ax1.set_ylabel('Rotten Tomatoes')\n",
        "\n",
        "# Generate ax2 scatter plot \n",
        "ax2.scatter(norm_reviews['RT_user_norm'], norm_reviews['Fandango_Ratingvalue'])\n",
        "\n",
        "# Set the x-axis label\n",
        "ax2.set_xlabel('Rotten Tomatoes')\n",
        "\n",
        "# Set the y-axis label\n",
        "ax2.set_ylabel('Fandango')\n",
        "\n",
        "# Display the bar plot\n",
        "plt.show()"
      ],
      "execution_count": 15,
      "outputs": [
        {
          "output_type": "display_data",
          "data": {
            "image/png": "[encoded data removed]",
            "text/plain": [
              "<Figure size 360x720 with 2 Axes>"
            ]
          },
          "metadata": {
            "tags": [],
            "needs_background": "light"
          }
        }
      ]
    },
    {
      "cell_type": "markdown",
      "metadata": {
        "id": "3AzBZfX5EOHg",
        "colab_type": "text"
      },
      "source": [
        "The second scatter plot is a mirror reflection of the first scatter plot. The nature of the correlation is still reflected, however, which is the important thing. Let's now generate scatter plots to see how Fandango ratings correlate with all 3 of the other review sites."
      ]
    },
    {
      "cell_type": "markdown",
      "metadata": {
        "id": "H9gRCeseIj6-",
        "colab_type": "text"
      },
      "source": [
        "## 9. Benchmarking correlation"
      ]
    },
    {
      "cell_type": "markdown",
      "metadata": {
        "id": "QYRIbHizIj92",
        "colab_type": "text"
      },
      "source": [
        "When generating multiple scatter plots for the purpose of comparison, it's important that all plots share the same ranges in the x-axis and y-axis. In the 2 plots we generated in the last step, the ranges for both axes didn't match. We can use [`Axes.set_xlim()`](http://matplotlib.org/api/axes_api.html#matplotlib.axes.Axes.set_xlim) and [`Axes.set_ylim()`](http://matplotlib.org/api/axes_api.html#matplotlib.axes.Axes.set_ylim) to set the data limits for both axes:\n",
        "```\n",
        "ax.set_xlim(0, 5)\n",
        "ax.set_ylim(0, 5)\n",
        "```\n",
        "By default, matplotlib uses the minimal ranges for the data limits necessary to display all of the data we specify. By manually setting the data limits ranges to specific ranges for all plots, we're ensuring that we can accurately compare. We can even use the methods we just mentioned to zoom in on a part of the plots. For example, the following code will limit the axes to the `4` to `5` range:\n",
        "```\n",
        "ax.set_xlim(4, 5)\n",
        "ax.set_ylim(4, 5)\n",
        "```\n",
        "This makes small changes in the actual values in the data appear larger in the plot. A difference of `0.1` in a plot that ranges from `0` to `5` is hard to visually observe. A difference of `0.1` in a plot that only ranges from `4` to `5` is easily visible since the difference is 1/10th of the range.\n",
        "\n"
      ]
    },
    {
      "cell_type": "code",
      "metadata": {
        "id": "zazzgwWWE8iw",
        "colab_type": "code",
        "colab": {
          "base_uri": "https://localhost:8080/",
          "height": 610
        },
        "outputId": "03660f8a-6725-4c06-c014-318986f34852"
      },
      "source": [
        "fig = plt.figure(figsize=(5,10))\n",
        "ax1 = fig.add_subplot(3,1,1)\n",
        "ax2 = fig.add_subplot(3,1,2)\n",
        "ax3 = fig.add_subplot(3,1,3)\n",
        "\n",
        "# Generate ax1 scatter plot \n",
        "ax1.scatter(norm_reviews['Fandango_Ratingvalue'], norm_reviews['RT_user_norm'])\n",
        "# Set the x-axis label\n",
        "ax1.set_xlabel('Fandango')\n",
        "# Set the y-axis label\n",
        "ax1.set_ylabel('Rotten Tomatoes')\n",
        "# Set the x-axis and y-axis data limits to range from 0 and 5\n",
        "ax1.set_xlim(0, 5)\n",
        "ax1.set_ylim(0, 5)\n",
        "\n",
        "# Generate ax2 scatter plot \n",
        "ax2.scatter(norm_reviews['Fandango_Ratingvalue'], norm_reviews['Metacritic_user_nom'])\n",
        "# Set the x-axis label\n",
        "ax2.set_xlabel('Fandango')\n",
        "# Set the y-axis label\n",
        "ax2.set_ylabel('Metacritic')\n",
        "# Set the x-axis and y-axis data limits to range from 0 and 5\n",
        "ax2.set_xlim(0, 5)\n",
        "ax2.set_ylim(0, 5)\n",
        "\n",
        "# Generate ax3 scatter plot \n",
        "ax3.scatter(norm_reviews['Fandango_Ratingvalue'], norm_reviews['IMDB_norm'])\n",
        "# Set the x-axis label\n",
        "ax3.set_xlabel('Fandango')\n",
        "# Set the y-axis label\n",
        "ax3.set_ylabel('IMDB')\n",
        "# Set the x-axis and y-axis data limits to range from 0 and 5\n",
        "ax3.set_xlim(0, 5)\n",
        "ax3.set_ylim(0, 5)\n",
        "\n",
        "# Display the bar plot\n",
        "plt.show()"
      ],
      "execution_count": 16,
      "outputs": [
        {
          "output_type": "display_data",
          "data": {
            "image/png": "[encoded data removed]",
            "text/plain": [
              "<Figure size 360x720 with 3 Axes>"
            ]
          },
          "metadata": {
            "tags": [],
            "needs_background": "light"
          }
        }
      ]
    },
    {
      "cell_type": "markdown",
      "metadata": {
        "id": "AqVhQyjmFvFa",
        "colab_type": "text"
      },
      "source": [
        "From the scatter plots, we can conclude that **user ratings from Metacritic and Rotten Tomatoes span a larger range of values** than those from IMDB or Fandango. User ratings from Metacritic and Rotten Tomatoes range from 1 to 5. User ratings from Fandango range approximately from 2.5 to 5 while those from IMDB range approximately from 2 to 4.5.\n",
        "\n",
        "The scatter plots unfortunately only give us a cursory understanding of the distributions of user ratings from each review site. For example, if a hundred movies had the same average user rating from IMDB and Fandango in the dataset, we would only see a single marker in the scatter plot."
      ]
    },
    {
      "cell_type": "markdown",
      "metadata": {
        "id": "N7KhLY34IgWQ",
        "colab_type": "text"
      },
      "source": [
        "\n",
        "---\n",
        "\n",
        "In the next mission, we'll learn about two types of plots that help us understand distributions of values.\n",
        "\n"
      ]
    }
  ]
}