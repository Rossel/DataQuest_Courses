{
  "nbformat": 4,
  "nbformat_minor": 0,
  "metadata": {
    "colab": {
      "name": "022__Line_Charts_with_Matplotlib.ipynb",
      "provenance": [],
      "authorship_tag": "ABX9TyNK9SNo7C0LBXuQg5kKO7Hz",
      "include_colab_link": true
    },
    "kernelspec": {
      "name": "python3",
      "display_name": "Python 3"
    }
  },
  "cells": [
    {
      "cell_type": "markdown",
      "metadata": {
        "id": "view-in-github",
        "colab_type": "text"
      },
      "source": [
        "<a href=\"https://colab.research.google.com/github/Rossel/DataQuest_Courses/blob/master/022__Line_Charts_with_Matplotlib.ipynb\" target=\"_parent\"><img src=\"https://colab.research.google.com/assets/colab-badge.svg\" alt=\"Open In Colab\"/></a>"
      ]
    },
    {
      "cell_type": "markdown",
      "metadata": {
        "id": "JSaHha7kyqN-",
        "colab_type": "text"
      },
      "source": [
        "# COURSE 2/6: EXPLORATORY DATA VISUALIZATION"
      ]
    },
    {
      "cell_type": "markdown",
      "metadata": {
        "id": "tJoIp5R4xRo-",
        "colab_type": "text"
      },
      "source": [
        "# MISSION 1: Line Charts"
      ]
    },
    {
      "cell_type": "markdown",
      "metadata": {
        "id": "5fRgVM2FxWRI",
        "colab_type": "text"
      },
      "source": [
        "*Learn the basics of data visualization.*"
      ]
    },
    {
      "cell_type": "markdown",
      "metadata": {
        "id": "viHvWAn8xWlW",
        "colab_type": "text"
      },
      "source": [
        "## 1. Representation Of Data\n"
      ]
    },
    {
      "cell_type": "markdown",
      "metadata": {
        "id": "F2M9wm1txYLS",
        "colab_type": "text"
      },
      "source": [
        "Data that are represented as tables (CSV, Excel, pandas) makes it difficult to explore a dataset to uncover patterns. Data visualization is a discipline that focuses on the visual representation of data to transform data from table representations visual ones, and enable us to find patterns quicker.\n",
        "\n",
        "In this course, named Exploratory Data Visualization, we will learn data visualization techniques to explore datasets and help us uncover patterns. In this mission, we'll use a specific type of data visualization to understand U.S. unemployment data."
      ]
    },
    {
      "cell_type": "markdown",
      "metadata": {
        "id": "KqkzOUx1xZVJ",
        "colab_type": "text"
      },
      "source": [
        "## 2. Introduction To The Data"
      ]
    },
    {
      "cell_type": "markdown",
      "metadata": {
        "id": "08DqsmIuzUZ9",
        "colab_type": "text"
      },
      "source": [
        "![BLS logo](https://www.nccaom.org/wp-content/uploads/2016/12/BLS-Timeline-Main.jpg)\n",
        "\n",
        "The United States [Bureau of Labor Statistics (BLS)](https://www.bls.gov/) surveys and calculates the monthly unemployment rate. The unemployment rate is the percentage of individuals in the labor force without a job. You can read more about how the BLS calculates the unemployment rate [here](http://www.bls.gov/cps/cps_htgm.htm).\n",
        "\n",
        "The BLS releases monthly unemployment data available for download as an Excel file, with the `.xlsx` file extension. While the pandas library can read in XLSX files, it relies on an external library for actually parsing the format. Let's instead download the same dataset as a CSV file [here](https://drive.google.com/file/d/1ccblpyB_BGKKtkAL8XbwOpJWtEBqdn8p/view?usp=sharing) or [here](https://github.com/Rossel/DataQuest_Courses/blob/master/datasets/unrate.csv). \n",
        "\n",
        "The dataset contains the monthly unemployment rate as a CSV from January 1948 to August 2016 and is saved as `unrate.csv`. Before we get into visual representations of data, let's first read this CSV file into pandas to explore the table representation of this data. The dataset we'll be working with is a [time series](https://en.wikipedia.org/wiki/Time_series) dataset, which means the data points (monthly unemployment rates) are ordered by time.\n",
        "\n",
        "\n",
        "\n",
        "\n",
        "\n"
      ]
    },
    {
      "cell_type": "markdown",
      "metadata": {
        "id": "mq7wJP1q_ZJA",
        "colab_type": "text"
      },
      "source": [
        "When we read the dataset into a DataFrame, pandas will set the data type of the `DATE` column as a text column. Because of how pandas reads in strings internally, this column is given a data type of `object`. We need to convert this column to the `datetime` type using the `pandas.to_datetime()` [function](http://pandas.pydata.org/pandas-docs/stable/generated/pandas.to_datetime.html), which returns a Series object with the `datetime` data type that we can assign back to the DataFrame:\n",
        "```\n",
        "import pandas as pd\n",
        "df['col'] = pd.to_datetime(df['col'])\n",
        "```\n",
        "\n"
      ]
    },
    {
      "cell_type": "markdown",
      "metadata": {
        "id": "rM12gv0XA-3j",
        "colab_type": "text"
      },
      "source": [
        "Let's start by importing the libraries we need and reading the dataset into pandas using Google Colab."
      ]
    },
    {
      "cell_type": "code",
      "metadata": {
        "id": "2_xuHv4a_4gr",
        "colab_type": "code",
        "colab": {}
      },
      "source": [
        "# Run code to read csv file into Colaboratory:\n",
        "!pip install -U -q PyDrive\n",
        "from pydrive.auth import GoogleAuth\n",
        "from pydrive.drive import GoogleDrive\n",
        "from google.colab import auth\n",
        "from oauth2client.client import GoogleCredentials\n",
        "\n",
        "# Authenticate and create the PyDrive client\n",
        "auth.authenticate_user()\n",
        "gauth = GoogleAuth()\n",
        "gauth.credentials = GoogleCredentials.get_application_default()\n",
        "drive = GoogleDrive(gauth)"
      ],
      "execution_count": 10,
      "outputs": []
    },
    {
      "cell_type": "code",
      "metadata": {
        "id": "ZFiGbjZlBdAZ",
        "colab_type": "code",
        "colab": {}
      },
      "source": [
        "# Insert file id from Google Drive shareable link:\n",
        "# https://drive.google.com/file/d/1ccblpyB_BGKKtkAL8XbwOpJWtEBqdn8p/view?usp=sharing\n",
        "id = \"1ccblpyB_BGKKtkAL8XbwOpJWtEBqdn8p\""
      ],
      "execution_count": 11,
      "outputs": []
    },
    {
      "cell_type": "code",
      "metadata": {
        "id": "ETPQEIkyC9Ya",
        "colab_type": "code",
        "colab": {}
      },
      "source": [
        "# Download the dataset\n",
        "downloaded = drive.CreateFile({'id':id}) \n",
        "downloaded.GetContentFile('unrate.csv')"
      ],
      "execution_count": 12,
      "outputs": []
    },
    {
      "cell_type": "code",
      "metadata": {
        "id": "bNaefbEHB2zw",
        "colab_type": "code",
        "colab": {}
      },
      "source": [
        "# Import pandas library and read csv\n",
        "import pandas as pd\n",
        "unrate = pd.read_csv('unrate.csv')"
      ],
      "execution_count": 13,
      "outputs": []
    },
    {
      "cell_type": "code",
      "metadata": {
        "id": "4-oTih_lCgu5",
        "colab_type": "code",
        "colab": {}
      },
      "source": [
        "# Convert the DATE column into a series of datetime values\n",
        "unrate['DATE'] = pd.to_datetime(unrate['DATE'])"
      ],
      "execution_count": 14,
      "outputs": []
    },
    {
      "cell_type": "code",
      "metadata": {
        "id": "7olWy0UcCAhH",
        "colab_type": "code",
        "colab": {
          "base_uri": "https://localhost:8080/",
          "height": 407
        },
        "outputId": "adb43c5c-ffa0-4f7e-dd78-ed2858935998"
      },
      "source": [
        "# Print dataframe dimensions\n",
        "unrate.head(12)"
      ],
      "execution_count": 15,
      "outputs": [
        {
          "output_type": "execute_result",
          "data": {
            "text/html": [
              "<div>\n",
              "<style scoped>\n",
              "    .dataframe tbody tr th:only-of-type {\n",
              "        vertical-align: middle;\n",
              "    }\n",
              "\n",
              "    .dataframe tbody tr th {\n",
              "        vertical-align: top;\n",
              "    }\n",
              "\n",
              "    .dataframe thead th {\n",
              "        text-align: right;\n",
              "    }\n",
              "</style>\n",
              "<table border=\"1\" class=\"dataframe\">\n",
              "  <thead>\n",
              "    <tr style=\"text-align: right;\">\n",
              "      <th></th>\n",
              "      <th>DATE</th>\n",
              "      <th>VALUE</th>\n",
              "    </tr>\n",
              "  </thead>\n",
              "  <tbody>\n",
              "    <tr>\n",
              "      <th>0</th>\n",
              "      <td>1948-01-01</td>\n",
              "      <td>3.4</td>\n",
              "    </tr>\n",
              "    <tr>\n",
              "      <th>1</th>\n",
              "      <td>1948-02-01</td>\n",
              "      <td>3.8</td>\n",
              "    </tr>\n",
              "    <tr>\n",
              "      <th>2</th>\n",
              "      <td>1948-03-01</td>\n",
              "      <td>4.0</td>\n",
              "    </tr>\n",
              "    <tr>\n",
              "      <th>3</th>\n",
              "      <td>1948-04-01</td>\n",
              "      <td>3.9</td>\n",
              "    </tr>\n",
              "    <tr>\n",
              "      <th>4</th>\n",
              "      <td>1948-05-01</td>\n",
              "      <td>3.5</td>\n",
              "    </tr>\n",
              "    <tr>\n",
              "      <th>5</th>\n",
              "      <td>1948-06-01</td>\n",
              "      <td>3.6</td>\n",
              "    </tr>\n",
              "    <tr>\n",
              "      <th>6</th>\n",
              "      <td>1948-07-01</td>\n",
              "      <td>3.6</td>\n",
              "    </tr>\n",
              "    <tr>\n",
              "      <th>7</th>\n",
              "      <td>1948-08-01</td>\n",
              "      <td>3.9</td>\n",
              "    </tr>\n",
              "    <tr>\n",
              "      <th>8</th>\n",
              "      <td>1948-09-01</td>\n",
              "      <td>3.8</td>\n",
              "    </tr>\n",
              "    <tr>\n",
              "      <th>9</th>\n",
              "      <td>1948-10-01</td>\n",
              "      <td>3.7</td>\n",
              "    </tr>\n",
              "    <tr>\n",
              "      <th>10</th>\n",
              "      <td>1948-11-01</td>\n",
              "      <td>3.8</td>\n",
              "    </tr>\n",
              "    <tr>\n",
              "      <th>11</th>\n",
              "      <td>1948-12-01</td>\n",
              "      <td>4.0</td>\n",
              "    </tr>\n",
              "  </tbody>\n",
              "</table>\n",
              "</div>"
            ],
            "text/plain": [
              "         DATE  VALUE\n",
              "0  1948-01-01    3.4\n",
              "1  1948-02-01    3.8\n",
              "2  1948-03-01    4.0\n",
              "3  1948-04-01    3.9\n",
              "4  1948-05-01    3.5\n",
              "5  1948-06-01    3.6\n",
              "6  1948-07-01    3.6\n",
              "7  1948-08-01    3.9\n",
              "8  1948-09-01    3.8\n",
              "9  1948-10-01    3.7\n",
              "10 1948-11-01    3.8\n",
              "11 1948-12-01    4.0"
            ]
          },
          "metadata": {
            "tags": []
          },
          "execution_count": 15
        }
      ]
    },
    {
      "cell_type": "code",
      "metadata": {
        "id": "oa4BDiNNDTXp",
        "colab_type": "code",
        "colab": {
          "base_uri": "https://localhost:8080/",
          "height": 34
        },
        "outputId": "2158cca5-91fe-402c-f333-406797666456"
      },
      "source": [
        "# Print dataframe dimensions\n",
        "print(unrate.shape)"
      ],
      "execution_count": 16,
      "outputs": [
        {
          "output_type": "stream",
          "text": [
            "(824, 2)\n"
          ],
          "name": "stdout"
        }
      ]
    },
    {
      "cell_type": "markdown",
      "metadata": {
        "id": "M2XG4oxezUcV",
        "colab_type": "text"
      },
      "source": [
        "## 3. Table Representation"
      ]
    },
    {
      "cell_type": "markdown",
      "metadata": {
        "id": "ErVAmKZ1zUe3",
        "colab_type": "text"
      },
      "source": [
        "The dataset contains 2 columns:\n",
        "\n",
        "- `DATE`: date, always the first of the month. Here are some examples:\n",
        "  - `1948-01-01`: January 1, 1948.\n",
        "  - `1948-02-01`: February 1, 1948.\n",
        "  - `1948-03-01`: March 1, 1948.\n",
        "  - `1948-12-01`: December 1, 1948.\n",
        "- `VALUE`: the corresponding unemployment rate, in percent."
      ]
    },
    {
      "cell_type": "markdown",
      "metadata": {
        "id": "tcu7CkHozUqI",
        "colab_type": "text"
      },
      "source": [
        "## 4. Observations From The Table Representation\n"
      ]
    },
    {
      "cell_type": "markdown",
      "metadata": {
        "id": "ZYs9_piEzUs-",
        "colab_type": "text"
      },
      "source": [
        "We can make the following observations from the table:\n",
        "\n",
        "- In 1948:\n",
        "  - monthly unemployment rate ranged between `3.4` and `4.0`.\n",
        "  - highest unemployment rate was reached in both March and December.\n",
        "  - lowest unemployment rate was reached in January.\n",
        "- From January to March, unemployment rate trended up.\n",
        "- From March to May, unemployment rate trended down.\n",
        "- From May to August, unemployment rate trended up.\n",
        "- From August to October, unemployment rate trended down.\n",
        "- From October to December, unemployment rate trended up.\n",
        "\n",
        "Because the table only contained the data from 1948, it didn't take too much time to identify these observations. If we scale up the table to include all 824 rows, it would be very time-consuming and painful to understand. Tables shine at presenting information precisely at the intersection of rows and columns and allow us to perform quick lookups when we know the row and column we're interested in. In addition, problems that involve comparing values between adjacent rows or columns are well suited for tables. Unfortunately, many problems you'll encounter in data science require comparisons that aren't possible with just tables.\n",
        "\n",
        "For example, one thing we learned from looking at the monthly unemployment rates for 1948 is that every few months, the unemployment rate switches between trending up and trending down. It's not switching direction every month, however, and this could mean that there's a seasonal effect. Seasonality is when a pattern is observed on a regular, predictable basis for a specific reason. A simple example of seasonality would be a large increase textbook purchases every August every year. Many schools start their terms in August and this spike in textbook sales is directly linked.\n",
        "\n",
        "We need to first understand if there's any seasonality by comparing the unemployment trends across many years so we can decide if we should investigate it further. The faster we're able to assess our data, the faster we can perform high-level analysis quickly. If we're reliant on just the table to help us figure this out, then we won't be able to perform a high level test quickly. Let's see how a visual representation of the same information can be more helpful than the table representation."
      ]
    },
    {
      "cell_type": "markdown",
      "metadata": {
        "id": "XmZcFhcQzUv6",
        "colab_type": "text"
      },
      "source": [
        "## 5. Visual Representation"
      ]
    },
    {
      "cell_type": "markdown",
      "metadata": {
        "id": "b73ztXAvzUyZ",
        "colab_type": "text"
      },
      "source": [
        ""
      ]
    },
    {
      "cell_type": "markdown",
      "metadata": {
        "id": "362L-D6VzU1k",
        "colab_type": "text"
      },
      "source": [
        "## 6. Introduction to Matplotlib"
      ]
    },
    {
      "cell_type": "markdown",
      "metadata": {
        "id": "fT_d1103zU3q",
        "colab_type": "text"
      },
      "source": [
        "## 7. Adding Data"
      ]
    },
    {
      "cell_type": "markdown",
      "metadata": {
        "id": "hi0Up8akzU6Q",
        "colab_type": "text"
      },
      "source": [
        ""
      ]
    },
    {
      "cell_type": "markdown",
      "metadata": {
        "id": "AT6XGOmizU9j",
        "colab_type": "text"
      },
      "source": [
        "## 8. Fixing Axis Ticks"
      ]
    },
    {
      "cell_type": "markdown",
      "metadata": {
        "id": "kxcZcfaEzU_5",
        "colab_type": "text"
      },
      "source": [
        ""
      ]
    },
    {
      "cell_type": "markdown",
      "metadata": {
        "id": "-T2CPEevzVCE",
        "colab_type": "text"
      },
      "source": [
        "## 9. Adding Axis Labels And A Title"
      ]
    },
    {
      "cell_type": "markdown",
      "metadata": {
        "id": "njb-Dn6RzVEu",
        "colab_type": "text"
      },
      "source": [
        ""
      ]
    },
    {
      "cell_type": "markdown",
      "metadata": {
        "id": "eu4AKa9mzVHd",
        "colab_type": "text"
      },
      "source": [
        ""
      ]
    }
  ]
}