{
  "nbformat": 4,
  "nbformat_minor": 0,
  "metadata": {
    "colab": {
      "name": "022__Line_Charts_with_Matplotlib.ipynb",
      "provenance": [],
      "authorship_tag": "ABX9TyOAY6gtp6s2XLSvRtz9PYcM",
      "include_colab_link": true
    },
    "kernelspec": {
      "name": "python3",
      "display_name": "Python 3"
    }
  },
  "cells": [
    {
      "cell_type": "markdown",
      "metadata": {
        "id": "view-in-github",
        "colab_type": "text"
      },
      "source": [
        "<a href=\"https://colab.research.google.com/github/Rossel/DataQuest_Courses/blob/master/022__Line_Charts_with_Matplotlib.ipynb\" target=\"_parent\"><img src=\"https://colab.research.google.com/assets/colab-badge.svg\" alt=\"Open In Colab\"/></a>"
      ]
    },
    {
      "cell_type": "markdown",
      "metadata": {
        "id": "JSaHha7kyqN-",
        "colab_type": "text"
      },
      "source": [
        "# COURSE 2/6: EXPLORATORY DATA VISUALIZATION"
      ]
    },
    {
      "cell_type": "markdown",
      "metadata": {
        "id": "1u3xEakiqmxs",
        "colab_type": "text"
      },
      "source": [
        ""
      ]
    },
    {
      "cell_type": "markdown",
      "metadata": {
        "id": "tJoIp5R4xRo-",
        "colab_type": "text"
      },
      "source": [
        "# MISSION 1: Line Charts"
      ]
    },
    {
      "cell_type": "markdown",
      "metadata": {
        "id": "5fRgVM2FxWRI",
        "colab_type": "text"
      },
      "source": [
        "*Learn the basics of data visualization.*\n",
        "\n",
        "In this mission, we will look at a sample of a dataset on unemployment as a table and noted some observations. We will introduce line charts and witness how a visual representation of the same data sample allows us to surface the same observations quickly. Finally, we will explore the basics of the pyplot module and learn how to create and customize a line chart that visualized the sample."
      ]
    },
    {
      "cell_type": "markdown",
      "metadata": {
        "id": "viHvWAn8xWlW",
        "colab_type": "text"
      },
      "source": [
        "## 1. Representation Of Data\n"
      ]
    },
    {
      "cell_type": "markdown",
      "metadata": {
        "id": "F2M9wm1txYLS",
        "colab_type": "text"
      },
      "source": [
        "Data that are represented as tables (CSV, Excel, pandas) makes it difficult to explore a dataset to uncover patterns. Data visualization is a discipline that focuses on the visual representation of data to transform data from table representations visual ones, and enable us to find patterns quicker.\n",
        "\n",
        "In this course, named Exploratory Data Visualization, we will learn data visualization techniques to explore datasets and help us uncover patterns. In this mission, we'll use a specific type of data visualization to understand U.S. unemployment data."
      ]
    },
    {
      "cell_type": "markdown",
      "metadata": {
        "id": "KqkzOUx1xZVJ",
        "colab_type": "text"
      },
      "source": [
        "## 2. Introduction To The Data"
      ]
    },
    {
      "cell_type": "markdown",
      "metadata": {
        "id": "08DqsmIuzUZ9",
        "colab_type": "text"
      },
      "source": [
        "![BLS logo](https://www.nccaom.org/wp-content/uploads/2016/12/BLS-Timeline-Main.jpg)\n",
        "\n",
        "The United States [Bureau of Labor Statistics (BLS)](https://www.bls.gov/) surveys and calculates the monthly unemployment rate. The unemployment rate is the percentage of individuals in the labor force without a job. To find more information about how the BLS calculates the unemployment rate click [here](http://www.bls.gov/cps/cps_htgm.htm).\n",
        "\n",
        "The BLS releases monthly unemployment data available for download as an Excel file, with the `.xlsx` file extension. While the pandas library can read in XLSX files, it relies on an external library for actually parsing the format. Let's instead download the same dataset as a CSV file [here](https://drive.google.com/file/d/1ccblpyB_BGKKtkAL8XbwOpJWtEBqdn8p/view?usp=sharing) or [here](https://github.com/Rossel/DataQuest_Courses/blob/master/datasets/unrate.csv). \n",
        "\n",
        "The dataset contains the monthly unemployment rate as a CSV from January 1948 to August 2016 and is saved as `unrate.csv`. Before we get into visual representations of data, let's first read this CSV file into pandas to explore the table representation of this data. The dataset we'll be working with is a [time series](https://en.wikipedia.org/wiki/Time_series) dataset, which means the data points (monthly unemployment rates) are ordered by time.\n",
        "\n",
        "\n",
        "\n",
        "\n",
        "\n"
      ]
    },
    {
      "cell_type": "markdown",
      "metadata": {
        "id": "rM12gv0XA-3j",
        "colab_type": "text"
      },
      "source": [
        "Let's start by importing the libraries we need and reading the dataset into pandas using Google Colab."
      ]
    },
    {
      "cell_type": "code",
      "metadata": {
        "id": "2_xuHv4a_4gr",
        "colab_type": "code",
        "colab": {}
      },
      "source": [
        "# Import functions from Google modules into Colaboratory\n",
        "!pip install -U -q PyDrive\n",
        "from pydrive.auth import GoogleAuth\n",
        "from pydrive.drive import GoogleDrive\n",
        "from google.colab import auth\n",
        "from oauth2client.client import GoogleCredentials\n",
        "\n",
        "# Authenticate and create the PyDrive client\n",
        "auth.authenticate_user()\n",
        "gauth = GoogleAuth()\n",
        "gauth.credentials = GoogleCredentials.get_application_default()\n",
        "drive = GoogleDrive(gauth)"
      ],
      "execution_count": 14,
      "outputs": []
    },
    {
      "cell_type": "code",
      "metadata": {
        "id": "ZFiGbjZlBdAZ",
        "colab_type": "code",
        "colab": {}
      },
      "source": [
        "# Insert file id from Google Drive shareable link:\n",
        "# https://drive.google.com/file/d/1ccblpyB_BGKKtkAL8XbwOpJWtEBqdn8p/view?usp=sharing\n",
        "id = \"1ccblpyB_BGKKtkAL8XbwOpJWtEBqdn8p\""
      ],
      "execution_count": 15,
      "outputs": []
    },
    {
      "cell_type": "code",
      "metadata": {
        "id": "ETPQEIkyC9Ya",
        "colab_type": "code",
        "colab": {}
      },
      "source": [
        "# Download the dataset\n",
        "downloaded = drive.CreateFile({'id':id}) \n",
        "downloaded.GetContentFile('unrate.csv')"
      ],
      "execution_count": 16,
      "outputs": []
    },
    {
      "cell_type": "code",
      "metadata": {
        "id": "bNaefbEHB2zw",
        "colab_type": "code",
        "colab": {}
      },
      "source": [
        "# Import pandas library and read csv\n",
        "import pandas as pd\n",
        "unrate = pd.read_csv('unrate.csv')"
      ],
      "execution_count": 17,
      "outputs": []
    },
    {
      "cell_type": "markdown",
      "metadata": {
        "id": "mq7wJP1q_ZJA",
        "colab_type": "text"
      },
      "source": [
        "When we read the dataset into a DataFrame, pandas will set the data type of the `DATE` column as a text column. Because of how pandas reads in strings internally, this column is given a data type of `object`. We need to convert this column to the `datetime` type using the `pandas.to_datetime()` [function](http://pandas.pydata.org/pandas-docs/stable/generated/pandas.to_datetime.html), which returns a Series object with the `datetime` data type that we can assign back to the DataFrame:\n",
        "```\n",
        "df['col'] = pd.to_datetime(df['col'])\n",
        "```\n",
        "\n"
      ]
    },
    {
      "cell_type": "code",
      "metadata": {
        "id": "4-oTih_lCgu5",
        "colab_type": "code",
        "colab": {}
      },
      "source": [
        "# Convert the DATE column into a series of datetime values\n",
        "unrate['DATE'] = pd.to_datetime(unrate['DATE'])"
      ],
      "execution_count": 18,
      "outputs": []
    },
    {
      "cell_type": "code",
      "metadata": {
        "id": "5XM3YiFqDuv1",
        "colab_type": "code",
        "colab": {
          "base_uri": "https://localhost:8080/",
          "height": 173
        },
        "outputId": "8694e445-1224-42b4-91f7-b25bec5262d5"
      },
      "source": [
        "# Retrieve info on the unrate dataframe\n",
        "unrate.info()"
      ],
      "execution_count": 19,
      "outputs": [
        {
          "output_type": "stream",
          "text": [
            "<class 'pandas.core.frame.DataFrame'>\n",
            "RangeIndex: 824 entries, 0 to 823\n",
            "Data columns (total 2 columns):\n",
            " #   Column  Non-Null Count  Dtype         \n",
            "---  ------  --------------  -----         \n",
            " 0   DATE    824 non-null    datetime64[ns]\n",
            " 1   VALUE   824 non-null    float64       \n",
            "dtypes: datetime64[ns](1), float64(1)\n",
            "memory usage: 13.0 KB\n"
          ],
          "name": "stdout"
        }
      ]
    },
    {
      "cell_type": "markdown",
      "metadata": {
        "id": "OZ5kWis3EFy2",
        "colab_type": "text"
      },
      "source": [
        "We can see here that the `DATE` column is of the `datetime64` Dtype."
      ]
    },
    {
      "cell_type": "code",
      "metadata": {
        "id": "7olWy0UcCAhH",
        "colab_type": "code",
        "colab": {
          "base_uri": "https://localhost:8080/",
          "height": 408
        },
        "outputId": "54075c64-f941-4543-88c8-1dc0423e8fef"
      },
      "source": [
        "# Print the first 12 rows\n",
        "unrate.head(12)"
      ],
      "execution_count": 20,
      "outputs": [
        {
          "output_type": "execute_result",
          "data": {
            "text/html": [
              "<div>\n",
              "<style scoped>\n",
              "    .dataframe tbody tr th:only-of-type {\n",
              "        vertical-align: middle;\n",
              "    }\n",
              "\n",
              "    .dataframe tbody tr th {\n",
              "        vertical-align: top;\n",
              "    }\n",
              "\n",
              "    .dataframe thead th {\n",
              "        text-align: right;\n",
              "    }\n",
              "</style>\n",
              "<table border=\"1\" class=\"dataframe\">\n",
              "  <thead>\n",
              "    <tr style=\"text-align: right;\">\n",
              "      <th></th>\n",
              "      <th>DATE</th>\n",
              "      <th>VALUE</th>\n",
              "    </tr>\n",
              "  </thead>\n",
              "  <tbody>\n",
              "    <tr>\n",
              "      <th>0</th>\n",
              "      <td>1948-01-01</td>\n",
              "      <td>3.4</td>\n",
              "    </tr>\n",
              "    <tr>\n",
              "      <th>1</th>\n",
              "      <td>1948-02-01</td>\n",
              "      <td>3.8</td>\n",
              "    </tr>\n",
              "    <tr>\n",
              "      <th>2</th>\n",
              "      <td>1948-03-01</td>\n",
              "      <td>4.0</td>\n",
              "    </tr>\n",
              "    <tr>\n",
              "      <th>3</th>\n",
              "      <td>1948-04-01</td>\n",
              "      <td>3.9</td>\n",
              "    </tr>\n",
              "    <tr>\n",
              "      <th>4</th>\n",
              "      <td>1948-05-01</td>\n",
              "      <td>3.5</td>\n",
              "    </tr>\n",
              "    <tr>\n",
              "      <th>5</th>\n",
              "      <td>1948-06-01</td>\n",
              "      <td>3.6</td>\n",
              "    </tr>\n",
              "    <tr>\n",
              "      <th>6</th>\n",
              "      <td>1948-07-01</td>\n",
              "      <td>3.6</td>\n",
              "    </tr>\n",
              "    <tr>\n",
              "      <th>7</th>\n",
              "      <td>1948-08-01</td>\n",
              "      <td>3.9</td>\n",
              "    </tr>\n",
              "    <tr>\n",
              "      <th>8</th>\n",
              "      <td>1948-09-01</td>\n",
              "      <td>3.8</td>\n",
              "    </tr>\n",
              "    <tr>\n",
              "      <th>9</th>\n",
              "      <td>1948-10-01</td>\n",
              "      <td>3.7</td>\n",
              "    </tr>\n",
              "    <tr>\n",
              "      <th>10</th>\n",
              "      <td>1948-11-01</td>\n",
              "      <td>3.8</td>\n",
              "    </tr>\n",
              "    <tr>\n",
              "      <th>11</th>\n",
              "      <td>1948-12-01</td>\n",
              "      <td>4.0</td>\n",
              "    </tr>\n",
              "  </tbody>\n",
              "</table>\n",
              "</div>"
            ],
            "text/plain": [
              "         DATE  VALUE\n",
              "0  1948-01-01    3.4\n",
              "1  1948-02-01    3.8\n",
              "2  1948-03-01    4.0\n",
              "3  1948-04-01    3.9\n",
              "4  1948-05-01    3.5\n",
              "5  1948-06-01    3.6\n",
              "6  1948-07-01    3.6\n",
              "7  1948-08-01    3.9\n",
              "8  1948-09-01    3.8\n",
              "9  1948-10-01    3.7\n",
              "10 1948-11-01    3.8\n",
              "11 1948-12-01    4.0"
            ]
          },
          "metadata": {
            "tags": []
          },
          "execution_count": 20
        }
      ]
    },
    {
      "cell_type": "code",
      "metadata": {
        "id": "oa4BDiNNDTXp",
        "colab_type": "code",
        "colab": {
          "base_uri": "https://localhost:8080/",
          "height": 35
        },
        "outputId": "e48dd939-d2fd-43d5-c0a1-94ad9a5f8d7f"
      },
      "source": [
        "# Print dataframe dimensions\n",
        "print(unrate.shape)"
      ],
      "execution_count": 21,
      "outputs": [
        {
          "output_type": "stream",
          "text": [
            "(824, 2)\n"
          ],
          "name": "stdout"
        }
      ]
    },
    {
      "cell_type": "markdown",
      "metadata": {
        "id": "M2XG4oxezUcV",
        "colab_type": "text"
      },
      "source": [
        "## 3. Table Representation"
      ]
    },
    {
      "cell_type": "markdown",
      "metadata": {
        "id": "ErVAmKZ1zUe3",
        "colab_type": "text"
      },
      "source": [
        "The dataset contains 2 columns:\n",
        "\n",
        "- `DATE`: date, always the first of the month. Here are some examples:\n",
        "  - `1948-01-01`: January 1, 1948.\n",
        "  - `1948-02-01`: February 1, 1948.\n",
        "  - `1948-03-01`: March 1, 1948.\n",
        "  - `1948-12-01`: December 1, 1948.\n",
        "- `VALUE`: the corresponding unemployment rate, in percent."
      ]
    },
    {
      "cell_type": "markdown",
      "metadata": {
        "id": "tcu7CkHozUqI",
        "colab_type": "text"
      },
      "source": [
        "## 4. Observations From The Table Representation\n"
      ]
    },
    {
      "cell_type": "markdown",
      "metadata": {
        "id": "ZYs9_piEzUs-",
        "colab_type": "text"
      },
      "source": [
        "We can make the following observations from the table:\n",
        "\n",
        "- In 1948:\n",
        "  - monthly unemployment rate ranged between `3.4` and `4.0`.\n",
        "  - highest unemployment rate was reached in both March and December.\n",
        "  - lowest unemployment rate was reached in January.\n",
        "- From January to March, unemployment rate trended up.\n",
        "- From March to May, unemployment rate trended down.\n",
        "- From May to August, unemployment rate trended up.\n",
        "- From August to October, unemployment rate trended down.\n",
        "- From October to December, unemployment rate trended up.\n",
        "\n",
        "Because the table only contained the data from 1948, it didn't take too much time to identify these observations. If we scale up the table to include all 824 rows, it would be very time-consuming and painful to understand. **Tables shine at presenting information precisely at the intersection of rows and columns** and **allow us to perform quick lookups when we know the row and column we're interested in**. In addition, problems that involve **comparing values between adjacent rows or columns** are well suited for tables. Unfortunately, many problems you'll encounter in data science require comparisons that aren't possible with just tables.\n",
        "\n",
        "For example, one thing we learned from looking at the monthly unemployment rates for 1948 is that every few months, the unemployment rate switches between trending up and trending down. It's not switching direction every month, however, and this could mean that there's a seasonal effect. Seasonality is when a pattern is observed on a regular, predictable basis for a specific reason. A simple example of seasonality would be a large increase textbook purchases every August every year. Many schools start their terms in August and this spike in textbook sales is directly linked.\n",
        "\n",
        "We need to first understand if there's any seasonality by comparing the unemployment trends across many years so we can decide if we should investigate it further. The faster we're able to assess our data, the faster we can perform high-level analysis quickly. If we're reliant on just the table to help us figure this out, then we won't be able to perform a high level test quickly. Let's see how a visual representation of the same information can be more helpful than the table representation."
      ]
    },
    {
      "cell_type": "markdown",
      "metadata": {
        "id": "XmZcFhcQzUv6",
        "colab_type": "text"
      },
      "source": [
        "## 5. Visual Representation"
      ]
    },
    {
      "cell_type": "markdown",
      "metadata": {
        "id": "b73ztXAvzUyZ",
        "colab_type": "text"
      },
      "source": [
        "Instead of representing data using text like tables do, visual representations use visual objects like dots, shapes, and lines on a grid. Plots are a category of visual representations that allow us to easily understand the relationships between variables. There are many types of plots and selecting the right one is an important skill that you'll hone as you create data visualizations. Because we want to compare the unemployment trends across time, we should use line charts. Here's an overview of line charts using 4 sample data points:\n",
        "\n",
        "![alt text](https://s3.amazonaws.com/dq-content/line_plot_basics.png)\n",
        "\n",
        "Line charts work best when there is a logical connection between adjacent points. In our case, that connection is the flow of time. Between 2 reported monthly unemployment values, the unemployment rate is fluctuating and time is passing. To emphasize how the visual representation of the line chart helps us observe trends easily, let's look at the same 12 data points from 1948 as a line chart.\n",
        "\n",
        "![alt text](https://s3.amazonaws.com/dq-content/unemp_line_plot.png)\n",
        "\n",
        "We can reach the same observations about the data from the line chart as we did from the table representation:\n",
        "\n",
        "![alt text](https://s3.amazonaws.com/dq-content/unemp_plot_observations.png)\n",
        "\n",
        "In the rest of this mission, we'll explore how to recreate this line chart in Python. In the next mission, we'll explore how to create multiple line charts to help us compare unemployment trends."
      ]
    },
    {
      "cell_type": "markdown",
      "metadata": {
        "id": "362L-D6VzU1k",
        "colab_type": "text"
      },
      "source": [
        "## 6. Introduction to Matplotlib"
      ]
    },
    {
      "cell_type": "markdown",
      "metadata": {
        "id": "zjlFnAw3IXkY",
        "colab_type": "text"
      },
      "source": [
        "To create the line chart, we'll use the [matplotlib](http://matplotlib.org/) library, which allows us to:\n",
        "\n",
        "- quickly create common plots using high-level functions\n",
        "- extensively tweak plots\n",
        "- create new kinds of plots from the ground up\n",
        "\n",
        "To help you become familiar with matplotlib, we'll focus on the first 2 use cases. When working with commonly used plots in matplotlib, the general workflow is:\n",
        "\n",
        "- create a plot using data\n",
        "- customize the appearance of the plot\n",
        "- display the plot\n",
        "- edit and repeat until satisfied\n",
        "\n",
        "This interactive style aligns well with the exploratory workflow of data visualization because we're asking questions and creating data visualizations to help us get answers. The pyplot module provides a high-level interface for matplotlib that allows us to quickly create common data plots and perform common tweaks to them.\n",
        "\n",
        "The pyplot module is commonly imported as `plt` from `matplotlib`:\n",
        "\n",
        "\n",
        "```\n",
        "import matplotlib.pyplot as plt\n",
        "```\n",
        "\n",
        "Using the different pyplot functions, we can create, customize, and display a plot. For example, we can use 2 functions to :\n",
        "\n",
        "\n",
        "\n",
        "```\n",
        "plt.plot()\n",
        "plt.show()\n",
        "```\n",
        "Because we didn't pass in any arguments, the `plot()` function would generate an empty plot with just the axes and ticks and the `show()` function would display that plot. You'll notice that we didn't assign the plot to a variable and then call a method on the variable to display it. We instead called 2 functions on the pyplot module directly.\n",
        "\n",
        "This is because every time we call a pyplot function, the module maintains and updates the plot internally (also known as state). When we call `show()`, the plot is displayed and the internal state is destroyed. While this workflow isn't ideal when we're writing functions that create plots on a repeated basis as part of a larger application, it's useful when exploring data.\n",
        "\n",
        "Let's run this code to see the default properties matplotlib uses. If you'd like to follow along on your own computer, we recommend installing matplotlib using Anaconda: `conda install matplotlib`. We recommend working with matplotlib using Jupyter Notebook because it can render the plots in the notebook itself. To enable Jupyter and matplotlib working together effectively, you'll need to run the `%matplotlib inline` magic in a code cell each time you open the notebook (you can read more here). After running `%matplotlib inline`, the plots will be displayed in the output cell whenever you call `show()`.\n",
        "\n",
        "\n",
        "\n",
        "\n"
      ]
    },
    {
      "cell_type": "code",
      "metadata": {
        "id": "lslvFLfNP4I1",
        "colab_type": "code",
        "colab": {}
      },
      "source": [
        "# Import the matplotlib library\n",
        "import matplotlib as mpl\n",
        "import matplotlib.pyplot as plt"
      ],
      "execution_count": 22,
      "outputs": []
    },
    {
      "cell_type": "code",
      "metadata": {
        "id": "sL_3zzc5RLRN",
        "colab_type": "code",
        "colab": {
          "base_uri": "https://localhost:8080/",
          "height": 265
        },
        "outputId": "71fc6833-35cf-4455-9492-4b0a1ad2bb89"
      },
      "source": [
        "# Generate an empty plot with just the axes and ticks \n",
        "plt.plot()\n",
        "\n",
        "# Display the plot\n",
        "plt.show()"
      ],
      "execution_count": 23,
      "outputs": [
        {
          "output_type": "display_data",
          "data": {
            "image/png": "[encoded data removed]",
            "text/plain": [
              "<Figure size 432x288 with 1 Axes>"
            ]
          },
          "metadata": {
            "tags": [],
            "needs_background": "light"
          }
        }
      ]
    },
    {
      "cell_type": "markdown",
      "metadata": {
        "id": "WviLlBZXP57h",
        "colab_type": "text"
      },
      "source": [
        ""
      ]
    },
    {
      "cell_type": "markdown",
      "metadata": {
        "id": "fT_d1103zU3q",
        "colab_type": "text"
      },
      "source": [
        "## 7. Adding Data"
      ]
    },
    {
      "cell_type": "markdown",
      "metadata": {
        "id": "hi0Up8akzU6Q",
        "colab_type": "text"
      },
      "source": [
        "By default, Matplotlib displayed a coordinate grid with:\n",
        "\n",
        "- the x-axis and y-axis values ranging from `-0.06` to `0.06`\n",
        "- no grid lines\n",
        "- no data\n",
        "\n",
        "Even though no data was plotted, the x-axis and y-axis ticks correspond to the `-0.06` to `0.06` value range. The axis ticks consist of tick marks and tick labels. Here's a focused view of the x-axis tick marks and x-axis tick labels:\n",
        "\n",
        "![alt text](https://s3.amazonaws.com/dq-content/axis+ticks.png)\n",
        "\n",
        "To create a line chart of the unemployment data from 1948, we need:\n",
        "\n",
        "- the x-axis to range from 01-01-1948 to 12-01-1948 (which corresponds to the first and last months in 1948)\n",
        "- the y-axis to range from 3.4 to 4.0 (which correspond to the minimum and maximum unemployment values)\n",
        "\n",
        "Instead of manually updating the ticks, drawing each marker, and connecting the markers with lines, we can just specify the data we want plotted and let matplotlib handle the rest. To generate the line chart we're interested in, we pass in the list of x-values as the first parameter and the list of y-values as the second parameter to plot():\n",
        "\n",
        "```\n",
        "plt.plot(x_values, y_values)\n",
        "```\n",
        "Matplotlib will accept any iterable object, like NumPy arrays and pandas.Series instances.\n",
        "\n"
      ]
    },
    {
      "cell_type": "markdown",
      "metadata": {
        "id": "X6sy5CGgjxHu",
        "colab_type": "text"
      },
      "source": [
        "Instructions:\n",
        "\n",
        "- Generate a line chart that visualizes the unemployment rates from 1948:\n",
        "\n",
        "  - x-values should be the first 12 values in the DATE column\n",
        "  - y-values should be the first 12 values in the VALUE column\n",
        "- Display the plot."
      ]
    },
    {
      "cell_type": "code",
      "metadata": {
        "id": "OqB7OEqAjDu6",
        "colab_type": "code",
        "colab": {
          "base_uri": "https://localhost:8080/",
          "height": 265
        },
        "outputId": "3ba0285f-9ea6-44e1-b4c0-79002eb85e28"
      },
      "source": [
        "# Assign the first 12 rows to a variable \n",
        "first_twelve = unrate[0:12]\n",
        "\n",
        "# Generate a line chart that visualizes the unemployment rates from 1948\n",
        "plt.plot(first_twelve['DATE'], first_twelve['VALUE'])\n",
        "\n",
        "# Display the plot\n",
        "plt.show()"
      ],
      "execution_count": 26,
      "outputs": [
        {
          "output_type": "display_data",
          "data": {
            "image/png": "[encoded data removed]",
            "text/plain": [
              "<Figure size 432x288 with 1 Axes>"
            ]
          },
          "metadata": {
            "tags": [],
            "needs_background": "light"
          }
        }
      ]
    },
    {
      "cell_type": "markdown",
      "metadata": {
        "id": "AT6XGOmizU9j",
        "colab_type": "text"
      },
      "source": [
        "## 8. Fixing Axis Ticks"
      ]
    },
    {
      "cell_type": "markdown",
      "metadata": {
        "id": "kxcZcfaEzU_5",
        "colab_type": "text"
      },
      "source": [
        "While the y-axis looks fine, the x-axis **tick labels** are too close together and are unreadable. The line charts from earlier in the mission suggest a better way to display the x-axis tick labels:\n",
        "![alt text](https://s3.amazonaws.com/dq-content/unemp_line_plot.png)\n",
        "\n",
        "We can rotate the x-axis tick labels by 90 degrees so they don't overlap. The `xticks()` function within pyplot lets you customize the behavior of the x-axis ticks. If you head over to the [documentation for that function](http://matplotlib.org/api/pyplot_api.html#matplotlib.pyplot.xticks), it's not immediately obvious the arguments it takes:\n",
        "\n",
        "```\n",
        "matplotlib.pyplot.xticks(*args, **kwargs)\n",
        "```\n",
        "\n",
        "In the documentation for the function, you'll see a link to the matplotlib [Text class](http://matplotlib.org/api/text_api.html#matplotlib.text.Text), which is what pyplot uses to represent the x-axis tick labels. You'll notice that there's a `rotation` parameter that accepts degrees of rotation as a parameter. We can specify degrees of rotation using a float or integer value.\n",
        "\n",
        "As a side note, if you read the [documentation for pyplot](http://matplotlib.org/api/pyplot_api.html), you'll notice that many functions for tweaking the x-axis have matching functions for the y-axis. For example, the y-axis counterpart to the `xticks()` [function](http://matplotlib.org/api/pyplot_api.html#matplotlib.pyplot.xticks) is the `yticks()` function.\n",
        "\n",
        "Use what we've discussed so far to rotate the x-axis tick labels by 90 degrees."
      ]
    },
    {
      "cell_type": "code",
      "metadata": {
        "id": "90I4vnhYl88Q",
        "colab_type": "code",
        "colab": {
          "base_uri": "https://localhost:8080/",
          "height": 297
        },
        "outputId": "36ffbecc-26f7-48e7-f5c6-5c7db3cb14eb"
      },
      "source": [
        "first_twelve = unrate[0:12]\n",
        "plt.plot(first_twelve['DATE'], first_twelve['VALUE'])\n",
        "\n",
        "# Rotate the x-axis tick labels by 90 degrees\n",
        "plt.xticks(rotation = 90)\n",
        "plt.show()"
      ],
      "execution_count": 27,
      "outputs": [
        {
          "output_type": "display_data",
          "data": {
            "image/png": "[encoded data removed]",
            "text/plain": [
              "<Figure size 432x288 with 1 Axes>"
            ]
          },
          "metadata": {
            "tags": [],
            "needs_background": "light"
          }
        }
      ]
    },
    {
      "cell_type": "markdown",
      "metadata": {
        "id": "-T2CPEevzVCE",
        "colab_type": "text"
      },
      "source": [
        "## 9. Adding Axis Labels And A Title"
      ]
    },
    {
      "cell_type": "markdown",
      "metadata": {
        "id": "njb-Dn6RzVEu",
        "colab_type": "text"
      },
      "source": [
        "Let's now finish tweaking this plot by adding axis labels and a title. Always adding axis labels and a title to your plot is a good habit to have, and is especially useful when we're trying to keep track of multiple plots down the road.\n",
        "\n",
        "Here's an overview of the pyplot functions we need to tweak the axis labels and the plot title:\n",
        "\n",
        "- [xlabel()](http://matplotlib.org/api/pyplot_api.html#matplotlib.pyplot.xlabel): accepts a string value, which gets set as the x-axis label.\n",
        "- [ylabel()](http://matplotlib.org/api/pyplot_api.html#matplotlib.pyplot.ylabel): accepts a string value, which is set as the y-axis label.\n",
        "- [title()](http://matplotlib.org/api/pyplot_api.html#matplotlib.pyplot.title): accepts a string value, which is set as the plot title.\n"
      ]
    },
    {
      "cell_type": "markdown",
      "metadata": {
        "id": "2SeTay4QoWEJ",
        "colab_type": "text"
      },
      "source": [
        "Instructions:\n",
        "\n",
        "- Generate the same line chart from the last screen that visualizes the unemployment rates from 1948:\n",
        "  - x-values should be the first 12 values in the `DATE` column\n",
        "  - y-values should be the first 12 values in the `VALUE` column\n",
        "  - Rotate the x-axis tick labels by `90` degrees.\n",
        "- Set the x-axis label to `Month`.\n",
        "- Set the y-axis label to `Unemployment Rate`.\n",
        "- Set the plot title to `Monthly Unemployment Trends, 1948`.\n",
        "- Display the plot."
      ]
    },
    {
      "cell_type": "code",
      "metadata": {
        "id": "5bgPFV2LoVbq",
        "colab_type": "code",
        "colab": {
          "base_uri": "https://localhost:8080/",
          "height": 327
        },
        "outputId": "4844e2a7-150a-46d6-9749-7c7636919746"
      },
      "source": [
        "first_twelve = unrate[:12]\n",
        "plt.plot(first_twelve['DATE'], first_twelve['VALUE'])\n",
        "plt.xticks(rotation = 90)\n",
        "\n",
        "# Set the x-axis label to \"Month\"\n",
        "plt.xlabel('Month')\n",
        "\n",
        "# Set the y-axis label to \"Unemployment Rate\"\n",
        "plt.ylabel('Unemployment Rate')\n",
        "\n",
        "# Set the plot title to \"Monthly Unemployment Trends, 1948\"\n",
        "plt.title('Monthly Unemployment Trends, 1948')\n",
        "\n",
        "plt.show()"
      ],
      "execution_count": 35,
      "outputs": [
        {
          "output_type": "display_data",
          "data": {
            "image/png": "[encoded data removed]",
            "text/plain": [
              "<Figure size 432x288 with 1 Axes>"
            ]
          },
          "metadata": {
            "tags": [],
            "needs_background": "light"
          }
        }
      ]
    },
    {
      "cell_type": "markdown",
      "metadata": {
        "id": "eu4AKa9mzVHd",
        "colab_type": "text"
      },
      "source": [
        "In the next mission, we'll dive deeper into matplotlib and learn how to create multiple plots to compare unemployment trends across multiple years."
      ]
    }
  ]
}