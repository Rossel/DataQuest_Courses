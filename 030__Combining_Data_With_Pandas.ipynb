{
  "nbformat": 4,
  "nbformat_minor": 0,
  "metadata": {
    "colab": {
      "name": "030__Combining_Data_With_Pandas.ipynb",
      "provenance": [],
      "authorship_tag": "ABX9TyN7UcpLN97IXOoq8+VGKTux",
      "include_colab_link": true
    },
    "kernelspec": {
      "name": "python3",
      "display_name": "Python 3"
    }
  },
  "cells": [
    {
      "cell_type": "markdown",
      "metadata": {
        "id": "view-in-github",
        "colab_type": "text"
      },
      "source": [
        "<a href=\"https://colab.research.google.com/github/Rossel/DataQuest_Courses/blob/master/030__Combining_Data_With_Pandas.ipynb\" target=\"_parent\"><img src=\"https://colab.research.google.com/assets/colab-badge.svg\" alt=\"Open In Colab\"/></a>"
      ]
    },
    {
      "cell_type": "markdown",
      "metadata": {
        "id": "6PWQ-EVGT2s_"
      },
      "source": [
        "# COURSE 4/6: DATA CLEANING AND ANALYSIS"
      ]
    },
    {
      "cell_type": "markdown",
      "metadata": {
        "id": "THaX315BT2wD"
      },
      "source": [
        "# MISSION 2: Combining Data With Pandas"
      ]
    },
    {
      "cell_type": "markdown",
      "metadata": {
        "id": "FPnfugb0IfJ5"
      },
      "source": [
        "Learn how to combine data with pandas.\n",
        "\n"
      ]
    },
    {
      "cell_type": "markdown",
      "metadata": {
        "id": "tQBrAPM9JEko"
      },
      "source": [
        "## 1. Introduction"
      ]
    },
    {
      "cell_type": "markdown",
      "metadata": {
        "id": "oURth--sIqHq"
      },
      "source": [
        "In the last mission, we worked with just one data set, the 2015 World Happiness Report, to explore data aggregation. However, it's very common in practice to work with more than one data set at a time.\n",
        "\n",
        "Often, you'll find that you need additional data to perform analysis or you'll find that you have the data, but need to pull it from mulitiple sources. In this mission, we'll learn a couple of different techniques for combining data using pandas to easily handle situations like these.\n",
        "\n",
        "We'll use what we learned in the last mission to analyze the 2015, 2016, and 2017 World Happiness Reports. Specifically, we'll look to answer the following question:\n",
        "\n",
        "*Did world happiness increase, decrease, or stay about the same from 2015 to 2017?*\n",
        "\n",
        "As a reminder, these reports assign each country a happiness score based on a poll question that asks respondents to rank their life on a scale of 0 - 10, so \"world happiness\" refers to this definition specifically.\n",
        "\n",
        "\n",
        "- `Country` - Name of the country\n",
        "- `Region` - Name of the region the country belongs to\n",
        "- `Happiness Rank` - The rank of the country, as determined by its happiness score\n",
        "- `Happiness Score` - A score assigned to each country based on the answers to a poll question that asks respondents to rate their happiness on a scale of 0-10\n",
        "\n",
        "Let's start by reading the 2015, 2016, and 2017 reports into a pandas dataframe and adding a `Year` column to each to make it easier to distinguish between them.\n",
        "\n"
      ]
    },
    {
      "cell_type": "code",
      "metadata": {
        "id": "I5rPveR_TFl5"
      },
      "source": [
        "# Import functions from Google modules into Colaboratory\n",
        "!pip install -U -q PyDrive\n",
        "from pydrive.auth import GoogleAuth\n",
        "from pydrive.drive import GoogleDrive\n",
        "from google.colab import auth\n",
        "from oauth2client.client import GoogleCredentials\n",
        "\n",
        "# Authenticate and create the PyDrive client\n",
        "auth.authenticate_user()\n",
        "gauth = GoogleAuth()\n",
        "gauth.credentials = GoogleCredentials.get_application_default()\n",
        "drive = GoogleDrive(gauth)"
      ],
      "execution_count": 11,
      "outputs": []
    },
    {
      "cell_type": "code",
      "metadata": {
        "id": "q1ziSWGBiq-x"
      },
      "source": [
        "# Insert file id from Google Drive shareable link:\n",
        "# https://drive.google.com/file/d/1iZ8_lHkMx7pI22s4ECfpNHKnOohyPfvU/view?usp=sharing\n",
        "id = \"1iZ8_lHkMx7pI22s4ECfpNHKnOohyPfvU\""
      ],
      "execution_count": 12,
      "outputs": []
    },
    {
      "cell_type": "code",
      "metadata": {
        "id": "k2TsUUiUi1tE"
      },
      "source": [
        "# Download the dataset\n",
        "downloaded = drive.CreateFile({'id':id}) \n",
        "downloaded.GetContentFile('World_Happiness_2015.csv')"
      ],
      "execution_count": 13,
      "outputs": []
    },
    {
      "cell_type": "code",
      "metadata": {
        "id": "rm-ICxbfB8qO"
      },
      "source": [
        "# Insert file id from Google Drive shareable link:\n",
        "# https://drive.google.com/file/d/1yi1YYJEJwzYMXZ1YsjdSVANNj_pCm3jI/view?usp=sharing\n",
        "id = \"1yi1YYJEJwzYMXZ1YsjdSVANNj_pCm3jI\""
      ],
      "execution_count": 14,
      "outputs": []
    },
    {
      "cell_type": "code",
      "metadata": {
        "id": "qR4ILXcLB935"
      },
      "source": [
        "# Download the dataset\n",
        "downloaded = drive.CreateFile({'id':id}) \n",
        "downloaded.GetContentFile('World_Happiness_2016.csv')"
      ],
      "execution_count": 15,
      "outputs": []
    },
    {
      "cell_type": "code",
      "metadata": {
        "id": "t1Qz0E07B_cw"
      },
      "source": [
        "# Insert file id from Google Drive shareable link:\n",
        "# https://drive.google.com/file/d/1UjcEvCr5hj67-ZoBHwLmdOrxHKxMGGqR/view?usp=sharing\n",
        "id = \"1UjcEvCr5hj67-ZoBHwLmdOrxHKxMGGqR\""
      ],
      "execution_count": 16,
      "outputs": []
    },
    {
      "cell_type": "code",
      "metadata": {
        "id": "dB3ToaIpB-Yj"
      },
      "source": [
        "# Download the dataset\n",
        "downloaded = drive.CreateFile({'id':id}) \n",
        "downloaded.GetContentFile('World_Happiness_2017.csv')"
      ],
      "execution_count": 17,
      "outputs": []
    },
    {
      "cell_type": "code",
      "metadata": {
        "id": "RblOqgYLi5Uu"
      },
      "source": [
        "# Import pandas library\n",
        "import pandas as pd\n",
        "import numpy as np"
      ],
      "execution_count": 18,
      "outputs": []
    },
    {
      "cell_type": "code",
      "metadata": {
        "id": "oOmAWg2Ilcv4"
      },
      "source": [
        " # Read the csv file\n",
        " happiness2015 = pd.read_csv(\"World_Happiness_2015.csv\")\n",
        " happiness2016 = pd.read_csv(\"World_Happiness_2016.csv\")\n",
        " happiness2017 = pd.read_csv(\"World_Happiness_2017.csv\")"
      ],
      "execution_count": 19,
      "outputs": []
    },
    {
      "cell_type": "markdown",
      "metadata": {
        "id": "Kg2uaRM-DgAn"
      },
      "source": [
        "**Instructions:**\n",
        "\n",
        "Add a column called `Year` to each dataframe with the corresponding year. For example, the `Year` column in `happiness2015` should contain the value `2015` for each row."
      ]
    },
    {
      "cell_type": "code",
      "metadata": {
        "id": "cnrsB1X4DoaI"
      },
      "source": [
        "happiness2015['Year'] = 2015\n",
        "happiness2016['Year'] = 2016\n",
        "happiness2017['Year'] = 2017"
      ],
      "execution_count": 27,
      "outputs": []
    },
    {
      "cell_type": "markdown",
      "metadata": {
        "id": "Tcv927HzSTMP"
      },
      "source": [
        "## 2. Combining Dataframes with the Concat Function"
      ]
    },
    {
      "cell_type": "markdown",
      "metadata": {
        "id": "ni1vxgQI5lZU"
      },
      "source": [
        "Let's start by exploring the `pd.concat()` [function](https://pandas.pydata.org/pandas-docs/stable/generated/pandas.concat.html). The `concat()` function combines dataframes one of two ways:\n",
        "\n",
        "1. Stacked: Axis = 0 (This is the default option.)\n",
        "![img](https://s3.amazonaws.com/dq-content/344/Concat_Updated.svg)\n",
        "\n",
        "2. Side by Side: Axis = 1\n",
        "![img](https://s3.amazonaws.com/dq-content/344/Concat_Axis1.svg)\n",
        "Since `concat` is a function, not a method, we use the syntax below:\n",
        "![img](https://s3.amazonaws.com/dq-content/344/Concat_syntax.svg)\n",
        "\n",
        "In the next exercise, we'll use the `concat()` function to combine subsets of `happiness2015` and `happiness2016` and then debrief the results on the following screen.\n",
        "\n",
        "Below are the subsets we'll be working with:\n",
        "\n",
        "\n"
      ]
    },
    {
      "cell_type": "code",
      "metadata": {
        "id": "Mfl-5ceNKdjN",
        "outputId": "0e4bc9b2-febe-4feb-de0b-2283afe758bd",
        "colab": {
          "base_uri": "https://localhost:8080/",
          "height": 137
        }
      },
      "source": [
        "head_2015 = happiness2015[['Country','Happiness Score', 'Year']].head(3)\n",
        "head_2015"
      ],
      "execution_count": 29,
      "outputs": [
        {
          "output_type": "execute_result",
          "data": {
            "text/html": [
              "<div>\n",
              "<style scoped>\n",
              "    .dataframe tbody tr th:only-of-type {\n",
              "        vertical-align: middle;\n",
              "    }\n",
              "\n",
              "    .dataframe tbody tr th {\n",
              "        vertical-align: top;\n",
              "    }\n",
              "\n",
              "    .dataframe thead th {\n",
              "        text-align: right;\n",
              "    }\n",
              "</style>\n",
              "<table border=\"1\" class=\"dataframe\">\n",
              "  <thead>\n",
              "    <tr style=\"text-align: right;\">\n",
              "      <th></th>\n",
              "      <th>Country</th>\n",
              "      <th>Happiness Score</th>\n",
              "      <th>Year</th>\n",
              "    </tr>\n",
              "  </thead>\n",
              "  <tbody>\n",
              "    <tr>\n",
              "      <th>0</th>\n",
              "      <td>Switzerland</td>\n",
              "      <td>7.587</td>\n",
              "      <td>2015</td>\n",
              "    </tr>\n",
              "    <tr>\n",
              "      <th>1</th>\n",
              "      <td>Iceland</td>\n",
              "      <td>7.561</td>\n",
              "      <td>2015</td>\n",
              "    </tr>\n",
              "    <tr>\n",
              "      <th>2</th>\n",
              "      <td>Denmark</td>\n",
              "      <td>7.527</td>\n",
              "      <td>2015</td>\n",
              "    </tr>\n",
              "  </tbody>\n",
              "</table>\n",
              "</div>"
            ],
            "text/plain": [
              "       Country  Happiness Score  Year\n",
              "0  Switzerland            7.587  2015\n",
              "1      Iceland            7.561  2015\n",
              "2      Denmark            7.527  2015"
            ]
          },
          "metadata": {
            "tags": []
          },
          "execution_count": 29
        }
      ]
    },
    {
      "cell_type": "code",
      "metadata": {
        "id": "SrZ_pECaKvVn",
        "outputId": "c742590f-4a38-4792-c48f-685baecdf08f",
        "colab": {
          "base_uri": "https://localhost:8080/",
          "height": 137
        }
      },
      "source": [
        "head_2016 = happiness2016[['Country','Happiness Score', 'Year']].head(3)\n",
        "head_2016"
      ],
      "execution_count": 31,
      "outputs": [
        {
          "output_type": "execute_result",
          "data": {
            "text/html": [
              "<div>\n",
              "<style scoped>\n",
              "    .dataframe tbody tr th:only-of-type {\n",
              "        vertical-align: middle;\n",
              "    }\n",
              "\n",
              "    .dataframe tbody tr th {\n",
              "        vertical-align: top;\n",
              "    }\n",
              "\n",
              "    .dataframe thead th {\n",
              "        text-align: right;\n",
              "    }\n",
              "</style>\n",
              "<table border=\"1\" class=\"dataframe\">\n",
              "  <thead>\n",
              "    <tr style=\"text-align: right;\">\n",
              "      <th></th>\n",
              "      <th>Country</th>\n",
              "      <th>Happiness Score</th>\n",
              "      <th>Year</th>\n",
              "    </tr>\n",
              "  </thead>\n",
              "  <tbody>\n",
              "    <tr>\n",
              "      <th>0</th>\n",
              "      <td>Denmark</td>\n",
              "      <td>7.526</td>\n",
              "      <td>2016</td>\n",
              "    </tr>\n",
              "    <tr>\n",
              "      <th>1</th>\n",
              "      <td>Switzerland</td>\n",
              "      <td>7.509</td>\n",
              "      <td>2016</td>\n",
              "    </tr>\n",
              "    <tr>\n",
              "      <th>2</th>\n",
              "      <td>Iceland</td>\n",
              "      <td>7.501</td>\n",
              "      <td>2016</td>\n",
              "    </tr>\n",
              "  </tbody>\n",
              "</table>\n",
              "</div>"
            ],
            "text/plain": [
              "       Country  Happiness Score  Year\n",
              "0      Denmark            7.526  2016\n",
              "1  Switzerland            7.509  2016\n",
              "2      Iceland            7.501  2016"
            ]
          },
          "metadata": {
            "tags": []
          },
          "execution_count": 31
        }
      ]
    },
    {
      "cell_type": "markdown",
      "metadata": {
        "id": "342bMd0AKzwP"
      },
      "source": [
        "Let's use the `concat()` function to combine `head_2015` and `head_2016` next.\n",
        "\n",
        "\n",
        "\n",
        "**Instructions:**\n",
        "\n",
        "We've already saved the subsets from `happiness2015` and `happiness2016` to the variables `head_2015` and `head_2016`.\n",
        "\n",
        "- Use the `pd.concat()` function to combine `head_2015` and `head_2016` along axis = 0. Remember to pass the `head_2015` and `head_2016` into the function as a list. Assign the result to `concat_axis0`.\n",
        "- Use the `pd.concat()` function to combine `head_2015` and `head_2016` along axis = 1. Remember to pass `head_2015` and `head_2016` into the function as a list and set the `axis` parameter equal to `1`. Assign the result to `concat_axis1`.\n",
        "- Use the variable inspector to view `concat_axis0` and `concat_axis1`.\n",
        " - Assign the number of rows in `concat_axis0` to a variable called `question1`.\n",
        " - Assign the number of rows in `concat_axis1` to a variable called `question2`."
      ]
    },
    {
      "cell_type": "code",
      "metadata": {
        "id": "UIIpvaYxLvnD"
      },
      "source": [
        ""
      ],
      "execution_count": null,
      "outputs": []
    },
    {
      "cell_type": "markdown",
      "metadata": {
        "id": "nI-urknE5leP"
      },
      "source": [
        "## 3. Combining Dataframes with the Concat Function Continued"
      ]
    },
    {
      "cell_type": "markdown",
      "metadata": {
        "id": "wo8VRHLX5ljw"
      },
      "source": [
        ""
      ]
    },
    {
      "cell_type": "markdown",
      "metadata": {
        "id": "f_5x_kzJ5lpa"
      },
      "source": [
        "## 4. Combining Dataframes with Different Shapes Using the Concat Function"
      ]
    },
    {
      "cell_type": "markdown",
      "metadata": {
        "id": "bY0VaAlV5lvv"
      },
      "source": [
        ""
      ]
    },
    {
      "cell_type": "markdown",
      "metadata": {
        "id": "UDlo3B3u5mAN"
      },
      "source": [
        "## 5. Joining Dataframes with the Merge Function"
      ]
    },
    {
      "cell_type": "markdown",
      "metadata": {
        "id": "IswLMHyN5mIZ"
      },
      "source": [
        ""
      ]
    },
    {
      "cell_type": "markdown",
      "metadata": {
        "id": "fGyCo2cn5mVJ"
      },
      "source": [
        "## 6. Joining on Columns with the Merge Function"
      ]
    },
    {
      "cell_type": "markdown",
      "metadata": {
        "id": "Uxe4FHeC5mh0"
      },
      "source": [
        ""
      ]
    },
    {
      "cell_type": "markdown",
      "metadata": {
        "id": "ohTyxHrh5mGx"
      },
      "source": [
        "## 7. Left Joins with the Merge Function"
      ]
    },
    {
      "cell_type": "markdown",
      "metadata": {
        "id": "gnqfaulL5l9R"
      },
      "source": [
        ""
      ]
    },
    {
      "cell_type": "markdown",
      "metadata": {
        "id": "DOOC3pf25l6a"
      },
      "source": [
        "## 8. Join on Index with the Merge Function"
      ]
    },
    {
      "cell_type": "markdown",
      "metadata": {
        "id": "BVRaN7ZS5l4d"
      },
      "source": [
        ""
      ]
    },
    {
      "cell_type": "markdown",
      "metadata": {
        "id": "3Nefu_sT5l2d"
      },
      "source": [
        "## 9. Challenge: Combine Data and Create a Visualization"
      ]
    },
    {
      "cell_type": "markdown",
      "metadata": {
        "id": "3BLSlwSO5luD"
      },
      "source": [
        ""
      ]
    },
    {
      "cell_type": "markdown",
      "metadata": {
        "id": "UtTiYlu95ln_"
      },
      "source": [
        ""
      ]
    },
    {
      "cell_type": "markdown",
      "metadata": {
        "id": "qT-T8VOv5liQ"
      },
      "source": [
        ""
      ]
    },
    {
      "cell_type": "markdown",
      "metadata": {
        "id": "mvNOyVTA5lb4"
      },
      "source": [
        ""
      ]
    }
  ]
}