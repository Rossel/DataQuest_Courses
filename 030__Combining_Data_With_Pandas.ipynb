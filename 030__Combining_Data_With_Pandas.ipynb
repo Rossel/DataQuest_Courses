{
  "nbformat": 4,
  "nbformat_minor": 0,
  "metadata": {
    "colab": {
      "name": "030__Combining_Data_With_Pandas.ipynb",
      "provenance": [],
      "authorship_tag": "ABX9TyOSicw7w2MW3evNrjYPomK8",
      "include_colab_link": true
    },
    "kernelspec": {
      "name": "python3",
      "display_name": "Python 3"
    }
  },
  "cells": [
    {
      "cell_type": "markdown",
      "metadata": {
        "id": "view-in-github",
        "colab_type": "text"
      },
      "source": [
        "<a href=\"https://colab.research.google.com/github/Rossel/DataQuest_Courses/blob/master/030__Combining_Data_With_Pandas.ipynb\" target=\"_parent\"><img src=\"https://colab.research.google.com/assets/colab-badge.svg\" alt=\"Open In Colab\"/></a>"
      ]
    },
    {
      "cell_type": "markdown",
      "metadata": {
        "id": "6PWQ-EVGT2s_"
      },
      "source": [
        "# COURSE 4/6: DATA CLEANING AND ANALYSIS"
      ]
    },
    {
      "cell_type": "markdown",
      "metadata": {
        "id": "THaX315BT2wD"
      },
      "source": [
        "# MISSION 2: Combining Data With Pandas"
      ]
    },
    {
      "cell_type": "markdown",
      "metadata": {
        "id": "FPnfugb0IfJ5"
      },
      "source": [
        "Learn how to combine data with pandas.\n",
        "\n"
      ]
    },
    {
      "cell_type": "markdown",
      "metadata": {
        "id": "tQBrAPM9JEko"
      },
      "source": [
        "## 1. Introduction"
      ]
    },
    {
      "cell_type": "markdown",
      "metadata": {
        "id": "oURth--sIqHq"
      },
      "source": [
        "In the last mission, we worked with just one data set, the 2015 World Happiness Report, to explore data aggregation. However, it's very common in practice to work with more than one data set at a time.\n",
        "\n",
        "Often, you'll find that you need additional data to perform analysis or you'll find that you have the data, but need to pull it from mulitiple sources. In this mission, we'll learn a couple of different techniques for combining data using pandas to easily handle situations like these.\n",
        "\n",
        "We'll use what we learned in the last mission to analyze the 2015, 2016, and 2017 World Happiness Reports. Specifically, we'll look to answer the following question:\n",
        "\n",
        "*Did world happiness increase, decrease, or stay about the same from 2015 to 2017?*\n",
        "\n",
        "As a reminder, these reports assign each country a happiness score based on a poll question that asks respondents to rank their life on a scale of 0 - 10, so \"world happiness\" refers to this definition specifically.\n",
        "\n",
        "\n",
        "- `Country` - Name of the country\n",
        "- `Region` - Name of the region the country belongs to\n",
        "- `Happiness Rank` - The rank of the country, as determined by its happiness score\n",
        "- `Happiness Score` - A score assigned to each country based on the answers to a poll question that asks respondents to rate their happiness on a scale of 0-10\n",
        "\n",
        "Let's start by reading the 2015, 2016, and 2017 reports into a pandas dataframe and adding a `Year` column to each to make it easier to distinguish between them.\n",
        "\n"
      ]
    },
    {
      "cell_type": "code",
      "metadata": {
        "id": "Jx4vKeuxNWig",
        "outputId": "a8934bd5-0ffe-4137-d2a3-780bb3036326",
        "colab": {
          "resources": {
            "http://localhost:8080/nbextensions/google.colab/files.js": {
              "data": "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",
              "ok": true,
              "headers": [
                [
                  "content-type",
                  "application/javascript"
                ]
              ],
              "status": 200,
              "status_text": ""
            }
          },
          "base_uri": "https://localhost:8080/",
          "height": 142
        }
      },
      "source": [
        "# Import files directly using Google Colab\n",
        "# Download the files from the links below:\n",
        "# World_Happiness_2015.csv: https://drive.google.com/file/d/1iZ8_lHkMx7pI22s4ECfpNHKnOohyPfvU/view?usp=sharing\n",
        "# World_Happiness_2016.csv: https://drive.google.com/file/d/1yi1YYJEJwzYMXZ1YsjdSVANNj_pCm3jI/view?usp=sharing\n",
        "# World_Happiness_2017.csv: https://drive.google.com/file/d/1UjcEvCr5hj67-ZoBHwLmdOrxHKxMGGqR/view?usp=sharing\n",
        "\n",
        "from google.colab import files\n",
        "upload = files.upload()"
      ],
      "execution_count": null,
      "outputs": [
        {
          "output_type": "display_data",
          "data": {
            "text/html": [
              "\n",
              "     <input type=\"file\" id=\"files-29b22a1a-d084-42aa-9639-b3a5fe0cebda\" name=\"files[]\" multiple disabled\n",
              "        style=\"border:none\" />\n",
              "     <output id=\"result-29b22a1a-d084-42aa-9639-b3a5fe0cebda\">\n",
              "      Upload widget is only available when the cell has been executed in the\n",
              "      current browser session. Please rerun this cell to enable.\n",
              "      </output>\n",
              "      <script src=\"/nbextensions/google.colab/files.js\"></script> "
            ],
            "text/plain": [
              "<IPython.core.display.HTML object>"
            ]
          },
          "metadata": {
            "tags": []
          }
        },
        {
          "output_type": "stream",
          "text": [
            "Saving World_Happiness_2017.csv to World_Happiness_2017 (1).csv\n",
            "Saving World_Happiness_2016.csv to World_Happiness_2016 (1).csv\n",
            "Saving World_Happiness_2015.csv to World_Happiness_2015 (1).csv\n"
          ],
          "name": "stdout"
        }
      ]
    },
    {
      "cell_type": "code",
      "metadata": {
        "id": "RblOqgYLi5Uu"
      },
      "source": [
        "# Import pandas and numpy libraries\n",
        "import pandas as pd\n",
        "import numpy as np"
      ],
      "execution_count": null,
      "outputs": []
    },
    {
      "cell_type": "code",
      "metadata": {
        "id": "-13RwLZHNwum"
      },
      "source": [
        " # Read the csv files\n",
        " happiness2015 = pd.read_csv(\"World_Happiness_2015.csv\")\n",
        " happiness2016 = pd.read_csv(\"World_Happiness_2016.csv\")\n",
        " happiness2017 = pd.read_csv(\"World_Happiness_2017.csv\")"
      ],
      "execution_count": null,
      "outputs": []
    },
    {
      "cell_type": "markdown",
      "metadata": {
        "id": "Kg2uaRM-DgAn"
      },
      "source": [
        "**Instructions:**\n",
        "\n",
        "Add a column called `Year` to each dataframe with the corresponding year. For example, the `Year` column in `happiness2015` should contain the value `2015` for each row."
      ]
    },
    {
      "cell_type": "code",
      "metadata": {
        "id": "cnrsB1X4DoaI"
      },
      "source": [
        "happiness2015['Year'] = 2015\n",
        "happiness2016['Year'] = 2016\n",
        "happiness2017['Year'] = 2017"
      ],
      "execution_count": null,
      "outputs": []
    },
    {
      "cell_type": "markdown",
      "metadata": {
        "id": "Tcv927HzSTMP"
      },
      "source": [
        "## 2. Combining Dataframes with the Concat Function"
      ]
    },
    {
      "cell_type": "markdown",
      "metadata": {
        "id": "ni1vxgQI5lZU"
      },
      "source": [
        "Let's start by exploring the `pd.concat()` [function](https://pandas.pydata.org/pandas-docs/stable/generated/pandas.concat.html). The `concat()` function combines dataframes one of two ways:\n",
        "\n",
        "1. Stacked: Axis = 0 (This is the default option.)\n",
        "![img](https://s3.amazonaws.com/dq-content/344/Concat_Updated.svg)\n",
        "\n",
        "2. Side by Side: Axis = 1\n",
        "![img](https://s3.amazonaws.com/dq-content/344/Concat_Axis1.svg)\n",
        "Since `concat` is a function, not a method, we use the syntax below:\n",
        "![img](https://s3.amazonaws.com/dq-content/344/Concat_syntax.svg)\n",
        "\n",
        "In the next exercise, we'll use the `concat()` function to combine subsets of `happiness2015` and `happiness2016` and then debrief the results on the following screen.\n",
        "\n",
        "Below are the subsets we'll be working with:\n",
        "\n",
        "\n"
      ]
    },
    {
      "cell_type": "code",
      "metadata": {
        "id": "Mfl-5ceNKdjN",
        "outputId": "73be3db8-f769-4c72-f25a-46e91706b229",
        "colab": {
          "base_uri": "https://localhost:8080/",
          "height": 137
        }
      },
      "source": [
        "head_2015 = happiness2015[['Country','Happiness Score', 'Year']].head(3)\n",
        "head_2015"
      ],
      "execution_count": null,
      "outputs": [
        {
          "output_type": "execute_result",
          "data": {
            "text/html": [
              "<div>\n",
              "<style scoped>\n",
              "    .dataframe tbody tr th:only-of-type {\n",
              "        vertical-align: middle;\n",
              "    }\n",
              "\n",
              "    .dataframe tbody tr th {\n",
              "        vertical-align: top;\n",
              "    }\n",
              "\n",
              "    .dataframe thead th {\n",
              "        text-align: right;\n",
              "    }\n",
              "</style>\n",
              "<table border=\"1\" class=\"dataframe\">\n",
              "  <thead>\n",
              "    <tr style=\"text-align: right;\">\n",
              "      <th></th>\n",
              "      <th>Country</th>\n",
              "      <th>Happiness Score</th>\n",
              "      <th>Year</th>\n",
              "    </tr>\n",
              "  </thead>\n",
              "  <tbody>\n",
              "    <tr>\n",
              "      <th>0</th>\n",
              "      <td>Switzerland</td>\n",
              "      <td>7.587</td>\n",
              "      <td>2015</td>\n",
              "    </tr>\n",
              "    <tr>\n",
              "      <th>1</th>\n",
              "      <td>Iceland</td>\n",
              "      <td>7.561</td>\n",
              "      <td>2015</td>\n",
              "    </tr>\n",
              "    <tr>\n",
              "      <th>2</th>\n",
              "      <td>Denmark</td>\n",
              "      <td>7.527</td>\n",
              "      <td>2015</td>\n",
              "    </tr>\n",
              "  </tbody>\n",
              "</table>\n",
              "</div>"
            ],
            "text/plain": [
              "       Country  Happiness Score  Year\n",
              "0  Switzerland            7.587  2015\n",
              "1      Iceland            7.561  2015\n",
              "2      Denmark            7.527  2015"
            ]
          },
          "metadata": {
            "tags": []
          },
          "execution_count": 13
        }
      ]
    },
    {
      "cell_type": "code",
      "metadata": {
        "id": "SrZ_pECaKvVn",
        "outputId": "874f1a73-4ee1-475c-b564-9381414f9a75",
        "colab": {
          "base_uri": "https://localhost:8080/",
          "height": 137
        }
      },
      "source": [
        "head_2016 = happiness2016[['Country','Happiness Score', 'Year']].head(3)\n",
        "head_2016"
      ],
      "execution_count": null,
      "outputs": [
        {
          "output_type": "execute_result",
          "data": {
            "text/html": [
              "<div>\n",
              "<style scoped>\n",
              "    .dataframe tbody tr th:only-of-type {\n",
              "        vertical-align: middle;\n",
              "    }\n",
              "\n",
              "    .dataframe tbody tr th {\n",
              "        vertical-align: top;\n",
              "    }\n",
              "\n",
              "    .dataframe thead th {\n",
              "        text-align: right;\n",
              "    }\n",
              "</style>\n",
              "<table border=\"1\" class=\"dataframe\">\n",
              "  <thead>\n",
              "    <tr style=\"text-align: right;\">\n",
              "      <th></th>\n",
              "      <th>Country</th>\n",
              "      <th>Happiness Score</th>\n",
              "      <th>Year</th>\n",
              "    </tr>\n",
              "  </thead>\n",
              "  <tbody>\n",
              "    <tr>\n",
              "      <th>0</th>\n",
              "      <td>Denmark</td>\n",
              "      <td>7.526</td>\n",
              "      <td>2016</td>\n",
              "    </tr>\n",
              "    <tr>\n",
              "      <th>1</th>\n",
              "      <td>Switzerland</td>\n",
              "      <td>7.509</td>\n",
              "      <td>2016</td>\n",
              "    </tr>\n",
              "    <tr>\n",
              "      <th>2</th>\n",
              "      <td>Iceland</td>\n",
              "      <td>7.501</td>\n",
              "      <td>2016</td>\n",
              "    </tr>\n",
              "  </tbody>\n",
              "</table>\n",
              "</div>"
            ],
            "text/plain": [
              "       Country  Happiness Score  Year\n",
              "0      Denmark            7.526  2016\n",
              "1  Switzerland            7.509  2016\n",
              "2      Iceland            7.501  2016"
            ]
          },
          "metadata": {
            "tags": []
          },
          "execution_count": 8
        }
      ]
    },
    {
      "cell_type": "markdown",
      "metadata": {
        "id": "342bMd0AKzwP"
      },
      "source": [
        "Let's use the `concat()` function to combine `head_2015` and `head_2016` next.\n",
        "\n",
        "\n",
        "\n",
        "**Instructions:**\n",
        "\n",
        "We've already saved the subsets from `happiness2015` and `happiness2016` to the variables `head_2015` and `head_2016`.\n",
        "\n",
        "- Use the `pd.concat()` function to combine `head_2015` and `head_2016` along axis = 0. Remember to pass the `head_2015` and `head_2016` into the function as a list. Assign the result to `concat_axis0`.\n",
        "- Use the `pd.concat()` function to combine `head_2015` and `head_2016` along axis = 1. Remember to pass `head_2015` and `head_2016` into the function as a list and set the `axis` parameter equal to `1`. Assign the result to `concat_axis1`.\n",
        "- Use the variable inspector to view `concat_axis0` and `concat_axis1`.\n",
        " - Assign the number of rows in `concat_axis0` to a variable called `question1`.\n",
        " - Assign the number of rows in `concat_axis1` to a variable called `question2`."
      ]
    },
    {
      "cell_type": "code",
      "metadata": {
        "id": "UIIpvaYxLvnD"
      },
      "source": [
        ""
      ],
      "execution_count": null,
      "outputs": []
    },
    {
      "cell_type": "markdown",
      "metadata": {
        "id": "nI-urknE5leP"
      },
      "source": [
        "## 3. Combining Dataframes with the Concat Function Continued"
      ]
    },
    {
      "cell_type": "markdown",
      "metadata": {
        "id": "wo8VRHLX5ljw"
      },
      "source": [
        "When you reviewed the results from the last exercise, you probably noticed that we merely pushed the dataframes together vertically or horizontally - none of the values, column names, or indexes changed. For this reason, when you use the `concat()` function to combine dataframes with the same shape and index, you can think of the function as \"gluing\" dataframes together.\n",
        "\n",
        "![img](https://s3.amazonaws.com/dq-content/344/Glue.svg)\n",
        "\n",
        "However, what happens if the dataframes have different shapes or columns? Let's confirm the `concat()` function's behavior when we combine dataframes that don't have the same shape in the next exercise.\n",
        "\n",
        "We'll work with the following subsets:\n",
        "\n"
      ]
    },
    {
      "cell_type": "code",
      "metadata": {
        "id": "41w1OtYcPiT8",
        "outputId": "745a1a22-2d00-44f0-afa2-a24c7b445a53",
        "colab": {
          "base_uri": "https://localhost:8080/",
          "height": 167
        }
      },
      "source": [
        "head_2015 = happiness2015[['Year','Country','Happiness Score', 'Standard Error']].head(4)\n",
        "head_2015"
      ],
      "execution_count": null,
      "outputs": [
        {
          "output_type": "execute_result",
          "data": {
            "text/html": [
              "<div>\n",
              "<style scoped>\n",
              "    .dataframe tbody tr th:only-of-type {\n",
              "        vertical-align: middle;\n",
              "    }\n",
              "\n",
              "    .dataframe tbody tr th {\n",
              "        vertical-align: top;\n",
              "    }\n",
              "\n",
              "    .dataframe thead th {\n",
              "        text-align: right;\n",
              "    }\n",
              "</style>\n",
              "<table border=\"1\" class=\"dataframe\">\n",
              "  <thead>\n",
              "    <tr style=\"text-align: right;\">\n",
              "      <th></th>\n",
              "      <th>Year</th>\n",
              "      <th>Country</th>\n",
              "      <th>Happiness Score</th>\n",
              "      <th>Standard Error</th>\n",
              "    </tr>\n",
              "  </thead>\n",
              "  <tbody>\n",
              "    <tr>\n",
              "      <th>0</th>\n",
              "      <td>2015</td>\n",
              "      <td>Switzerland</td>\n",
              "      <td>7.587</td>\n",
              "      <td>0.03411</td>\n",
              "    </tr>\n",
              "    <tr>\n",
              "      <th>1</th>\n",
              "      <td>2015</td>\n",
              "      <td>Iceland</td>\n",
              "      <td>7.561</td>\n",
              "      <td>0.04884</td>\n",
              "    </tr>\n",
              "    <tr>\n",
              "      <th>2</th>\n",
              "      <td>2015</td>\n",
              "      <td>Denmark</td>\n",
              "      <td>7.527</td>\n",
              "      <td>0.03328</td>\n",
              "    </tr>\n",
              "    <tr>\n",
              "      <th>3</th>\n",
              "      <td>2015</td>\n",
              "      <td>Norway</td>\n",
              "      <td>7.522</td>\n",
              "      <td>0.03880</td>\n",
              "    </tr>\n",
              "  </tbody>\n",
              "</table>\n",
              "</div>"
            ],
            "text/plain": [
              "   Year      Country  Happiness Score  Standard Error\n",
              "0  2015  Switzerland            7.587         0.03411\n",
              "1  2015      Iceland            7.561         0.04884\n",
              "2  2015      Denmark            7.527         0.03328\n",
              "3  2015       Norway            7.522         0.03880"
            ]
          },
          "metadata": {
            "tags": []
          },
          "execution_count": 15
        }
      ]
    },
    {
      "cell_type": "code",
      "metadata": {
        "id": "k7Feb6GhPqMY",
        "outputId": "38d9a174-588e-4e4f-d97f-1393295c45d1",
        "colab": {
          "base_uri": "https://localhost:8080/",
          "height": 137
        }
      },
      "source": [
        "head_2016 = happiness2016[['Country','Happiness Score', 'Year']].head(3)\n",
        "head_2016"
      ],
      "execution_count": null,
      "outputs": [
        {
          "output_type": "execute_result",
          "data": {
            "text/html": [
              "<div>\n",
              "<style scoped>\n",
              "    .dataframe tbody tr th:only-of-type {\n",
              "        vertical-align: middle;\n",
              "    }\n",
              "\n",
              "    .dataframe tbody tr th {\n",
              "        vertical-align: top;\n",
              "    }\n",
              "\n",
              "    .dataframe thead th {\n",
              "        text-align: right;\n",
              "    }\n",
              "</style>\n",
              "<table border=\"1\" class=\"dataframe\">\n",
              "  <thead>\n",
              "    <tr style=\"text-align: right;\">\n",
              "      <th></th>\n",
              "      <th>Country</th>\n",
              "      <th>Happiness Score</th>\n",
              "      <th>Year</th>\n",
              "    </tr>\n",
              "  </thead>\n",
              "  <tbody>\n",
              "    <tr>\n",
              "      <th>0</th>\n",
              "      <td>Denmark</td>\n",
              "      <td>7.526</td>\n",
              "      <td>2016</td>\n",
              "    </tr>\n",
              "    <tr>\n",
              "      <th>1</th>\n",
              "      <td>Switzerland</td>\n",
              "      <td>7.509</td>\n",
              "      <td>2016</td>\n",
              "    </tr>\n",
              "    <tr>\n",
              "      <th>2</th>\n",
              "      <td>Iceland</td>\n",
              "      <td>7.501</td>\n",
              "      <td>2016</td>\n",
              "    </tr>\n",
              "  </tbody>\n",
              "</table>\n",
              "</div>"
            ],
            "text/plain": [
              "       Country  Happiness Score  Year\n",
              "0      Denmark            7.526  2016\n",
              "1  Switzerland            7.509  2016\n",
              "2      Iceland            7.501  2016"
            ]
          },
          "metadata": {
            "tags": []
          },
          "execution_count": 16
        }
      ]
    },
    {
      "cell_type": "markdown",
      "metadata": {
        "id": "Odh0bMq3PtB-"
      },
      "source": [
        "Notice in the subsets above that `head_2015` contains one column that `head_2016` does not - the `Standard Error` column. Let's confirm what happens when we concatenate them next.\n",
        "\n",
        "**Instructions:**\n",
        "\n",
        "We've already created the `head_2015` and `head_2016` variables.\n",
        "\n",
        "- Use the `pd.concat()` function to combine `head_2015` and `head_2016` along axis = 0. Remember to pass the `head_2015` and `head_2016` into the function as a list. Assign the result to `concat_axis0`.\n",
        "- Use the variable inspector to view `concat_axis0`.\n",
        " - Assign the number of rows in `concat_axis0` to a variable called `rows`.\n",
        " - Assign the number of columns in `concat_axis0` to a variable called `columns`."
      ]
    },
    {
      "cell_type": "code",
      "metadata": {
        "id": "SwEGTChXQUlG"
      },
      "source": [
        ""
      ],
      "execution_count": null,
      "outputs": []
    },
    {
      "cell_type": "markdown",
      "metadata": {
        "id": "f_5x_kzJ5lpa"
      },
      "source": [
        "## 4. Combining Dataframes with Different Shapes Using the Concat Function"
      ]
    },
    {
      "cell_type": "markdown",
      "metadata": {
        "id": "bY0VaAlV5lvv"
      },
      "source": [
        "In the last exercise, we saw that the analogy of \"gluing\" dataframes together doesn't fully describe what happens when concatenating dataframes of different shapes. Instead, the function combined the data according to the corresponding column names:\n",
        "\n",
        "![img](https://s3.amazonaws.com/dq-content/344/Concat_DifShapes.svg)\n",
        "\n",
        "Note that because the `Standard Error` column didn't exist in `head_2016`, `NaN` values were created to signify those values are missing. By default, the `concat` function will keep ALL of the data, no matter if missing values are created.\n",
        "\n",
        "Also, notice again the indexes of the original dataframes didn't change. If the indexes aren't meaningful, it can be better to reset them. This is especially true when we create duplicate indexes, because they could cause errors as we perform other data cleaning tasks.\n",
        "\n",
        "Luckily, the `concat` function has a parameter, `ignore_index`, that can be used to clear the existing index and reset it in the result. Let's practice using it next.\n",
        "\n",
        "\n",
        "**Instructions:**\n",
        "\n",
        "- Use the `pd.concat()` function to combine `head_2015` and `head_2016` along axis = 0 again. This time, however, set the `ignore_index` parameter to `True` to reset the index in the result. Assign the result to `concat_update_index`.\n",
        "\n"
      ]
    },
    {
      "cell_type": "code",
      "metadata": {
        "id": "Q2Q40t83RmPt"
      },
      "source": [
        ""
      ],
      "execution_count": null,
      "outputs": []
    },
    {
      "cell_type": "markdown",
      "metadata": {
        "id": "UDlo3B3u5mAN"
      },
      "source": [
        "## 5. Joining Dataframes with the Merge Function"
      ]
    },
    {
      "cell_type": "markdown",
      "metadata": {
        "id": "HunpzZffSeS0"
      },
      "source": [
        "Next, we'll explore the `pd.merge()` [function](https://pandas.pydata.org/pandas-docs/stable/reference/api/pandas.merge.html) - a function that can execute high performance database-style joins. Note that unlike the `concat` function, the `merge` function only combines dataframes horizontally (axis=1) and can only combine two dataframes at a time. However, it can be valuable when we need to combine very large dataframes quickly and provides more flexibility in terms of how data can be combined, as we'll see in the next couple screens.\n",
        "\n",
        "With the `merge()` function, we'll combine dataframes on a **key**, a shared index or column. When choosing a key, it's good practice to use keys with unique values to avoid duplicating data.\n",
        "\n",
        "You can think of keys as creating a link from one dataframe to another using the common values or indexes. For example, in the diagram below, we linked the dataframes using common values in the `Country` columns.\n",
        "\n",
        "![img](https://s3.amazonaws.com/dq-content/344/Merge_link.svg)\n",
        "\n",
        "In the diagram below, we use those common country values to join or merge the dataframes.\n",
        "\n",
        "![img](https://s3.amazonaws.com/dq-content/344/Merge.svg)\n",
        "\n",
        "We'll explore the `merge` function in the next exercise using just three rows from `happiness2015` and `happiness2016`:"
      ]
    },
    {
      "cell_type": "code",
      "metadata": {
        "id": "DgzBJH5VU-du",
        "outputId": "ea6374d4-d59d-487f-e314-d044f8c347d4",
        "colab": {
          "base_uri": "https://localhost:8080/",
          "height": 137
        }
      },
      "source": [
        "happiness2015[['Country','Happiness Rank','Year']].iloc[2:5]"
      ],
      "execution_count": null,
      "outputs": [
        {
          "output_type": "execute_result",
          "data": {
            "text/html": [
              "<div>\n",
              "<style scoped>\n",
              "    .dataframe tbody tr th:only-of-type {\n",
              "        vertical-align: middle;\n",
              "    }\n",
              "\n",
              "    .dataframe tbody tr th {\n",
              "        vertical-align: top;\n",
              "    }\n",
              "\n",
              "    .dataframe thead th {\n",
              "        text-align: right;\n",
              "    }\n",
              "</style>\n",
              "<table border=\"1\" class=\"dataframe\">\n",
              "  <thead>\n",
              "    <tr style=\"text-align: right;\">\n",
              "      <th></th>\n",
              "      <th>Country</th>\n",
              "      <th>Happiness Rank</th>\n",
              "      <th>Year</th>\n",
              "    </tr>\n",
              "  </thead>\n",
              "  <tbody>\n",
              "    <tr>\n",
              "      <th>2</th>\n",
              "      <td>Denmark</td>\n",
              "      <td>3</td>\n",
              "      <td>2015</td>\n",
              "    </tr>\n",
              "    <tr>\n",
              "      <th>3</th>\n",
              "      <td>Norway</td>\n",
              "      <td>4</td>\n",
              "      <td>2015</td>\n",
              "    </tr>\n",
              "    <tr>\n",
              "      <th>4</th>\n",
              "      <td>Canada</td>\n",
              "      <td>5</td>\n",
              "      <td>2015</td>\n",
              "    </tr>\n",
              "  </tbody>\n",
              "</table>\n",
              "</div>"
            ],
            "text/plain": [
              "   Country  Happiness Rank  Year\n",
              "2  Denmark               3  2015\n",
              "3   Norway               4  2015\n",
              "4   Canada               5  2015"
            ]
          },
          "metadata": {
            "tags": []
          },
          "execution_count": 7
        }
      ]
    },
    {
      "cell_type": "code",
      "metadata": {
        "id": "zbVKdUD3V6Uu",
        "outputId": "120a5ea4-fd71-425b-96e1-ea919889de21",
        "colab": {
          "base_uri": "https://localhost:8080/",
          "height": 137
        }
      },
      "source": [
        "happiness2016[['Country','Happiness Rank','Year']].iloc[2:5]"
      ],
      "execution_count": null,
      "outputs": [
        {
          "output_type": "execute_result",
          "data": {
            "text/html": [
              "<div>\n",
              "<style scoped>\n",
              "    .dataframe tbody tr th:only-of-type {\n",
              "        vertical-align: middle;\n",
              "    }\n",
              "\n",
              "    .dataframe tbody tr th {\n",
              "        vertical-align: top;\n",
              "    }\n",
              "\n",
              "    .dataframe thead th {\n",
              "        text-align: right;\n",
              "    }\n",
              "</style>\n",
              "<table border=\"1\" class=\"dataframe\">\n",
              "  <thead>\n",
              "    <tr style=\"text-align: right;\">\n",
              "      <th></th>\n",
              "      <th>Country</th>\n",
              "      <th>Happiness Rank</th>\n",
              "      <th>Year</th>\n",
              "    </tr>\n",
              "  </thead>\n",
              "  <tbody>\n",
              "    <tr>\n",
              "      <th>2</th>\n",
              "      <td>Iceland</td>\n",
              "      <td>3</td>\n",
              "      <td>2016</td>\n",
              "    </tr>\n",
              "    <tr>\n",
              "      <th>3</th>\n",
              "      <td>Norway</td>\n",
              "      <td>4</td>\n",
              "      <td>2016</td>\n",
              "    </tr>\n",
              "    <tr>\n",
              "      <th>4</th>\n",
              "      <td>Finland</td>\n",
              "      <td>5</td>\n",
              "      <td>2016</td>\n",
              "    </tr>\n",
              "  </tbody>\n",
              "</table>\n",
              "</div>"
            ],
            "text/plain": [
              "   Country  Happiness Rank  Year\n",
              "2  Iceland               3  2016\n",
              "3   Norway               4  2016\n",
              "4  Finland               5  2016"
            ]
          },
          "metadata": {
            "tags": []
          },
          "execution_count": 8
        }
      ]
    },
    {
      "cell_type": "markdown",
      "metadata": {
        "id": "Pr6WBIJ8V9xe"
      },
      "source": [
        "We'll use the following syntax:\n",
        "\n",
        "![img](https://s3.amazonaws.com/dq-content/344/Merge_syntax.svg)\n",
        "\n",
        "\n",
        "Let's practice using the `merge()` function next.\n",
        "\n",
        "\n",
        "**Instructions:**\n",
        "\n",
        "We've already saved three rows from `happiness2015` and `happiness2016` to variables named `three_2015` and `three_2016`.\n",
        "\n",
        "- Use the `pd.merge()` function to join `three_2015` and `three_2016` on the `Country` column. Assign the result to `merged`."
      ]
    },
    {
      "cell_type": "code",
      "metadata": {
        "id": "f4jak68YWg4L"
      },
      "source": [
        "three_2015 = happiness2015[['Country','Happiness Rank','Year']].iloc[2:5]\n",
        "three_2016 = happiness2016[['Country','Happiness Rank','Year']].iloc[2:5]\n",
        "merged = pd.merge(left=three_2015, right=three_2016, on='Country')"
      ],
      "execution_count": null,
      "outputs": []
    },
    {
      "cell_type": "markdown",
      "metadata": {
        "id": "fGyCo2cn5mVJ"
      },
      "source": [
        "## 6. Joining on Columns with the Merge Function"
      ]
    },
    {
      "cell_type": "markdown",
      "metadata": {
        "id": "rNjM2ECkSeYD"
      },
      "source": [
        "Joining `three_2015` and `three_2016` in the last exercise resulted in a dataframe with just one row:"
      ]
    },
    {
      "cell_type": "code",
      "metadata": {
        "id": "hMjAp76XWnGK",
        "outputId": "5aaf74e7-7322-4882-b391-04a82983f4f7",
        "colab": {
          "base_uri": "https://localhost:8080/",
          "height": 77
        }
      },
      "source": [
        "pd.merge(left=three_2015, right=three_2016, on='Country')"
      ],
      "execution_count": null,
      "outputs": [
        {
          "output_type": "execute_result",
          "data": {
            "text/html": [
              "<div>\n",
              "<style scoped>\n",
              "    .dataframe tbody tr th:only-of-type {\n",
              "        vertical-align: middle;\n",
              "    }\n",
              "\n",
              "    .dataframe tbody tr th {\n",
              "        vertical-align: top;\n",
              "    }\n",
              "\n",
              "    .dataframe thead th {\n",
              "        text-align: right;\n",
              "    }\n",
              "</style>\n",
              "<table border=\"1\" class=\"dataframe\">\n",
              "  <thead>\n",
              "    <tr style=\"text-align: right;\">\n",
              "      <th></th>\n",
              "      <th>Country</th>\n",
              "      <th>Happiness Rank_x</th>\n",
              "      <th>Year_x</th>\n",
              "      <th>Happiness Rank_y</th>\n",
              "      <th>Year_y</th>\n",
              "    </tr>\n",
              "  </thead>\n",
              "  <tbody>\n",
              "    <tr>\n",
              "      <th>0</th>\n",
              "      <td>Norway</td>\n",
              "      <td>4</td>\n",
              "      <td>2015</td>\n",
              "      <td>4</td>\n",
              "      <td>2016</td>\n",
              "    </tr>\n",
              "  </tbody>\n",
              "</table>\n",
              "</div>"
            ],
            "text/plain": [
              "  Country  Happiness Rank_x  Year_x  Happiness Rank_y  Year_y\n",
              "0  Norway                 4    2015                 4    2016"
            ]
          },
          "metadata": {
            "tags": []
          },
          "execution_count": 11
        }
      ]
    },
    {
      "cell_type": "markdown",
      "metadata": {
        "id": "JCDjstbaW9hf"
      },
      "source": [
        "Let's look back to `three_2015` and `three_2016` to understand why. Since we joined the dataframes on the `Country` column, or used it as the key, the `merge()` function looked to match elements in the `Country` column in BOTH dataframes.\n",
        "\n",
        "![img](https://s3.amazonaws.com/dq-content/344/Join_columns.svg)\n",
        "\n",
        "The one country returned in `merged` was \"Norway\", the only element that appeared in the `Country` column in BOTH `three_2015` and `three_2016`.\n",
        "\n",
        "This way of combining, or *joining*, data is called an *inner* join. An inner join returns only the intersection of the keys, or the elements that appear in both dataframes with a common key.\n",
        "\n",
        "The term \"join\" originates from SQL (or structured query language), a language used to work with databases. If you're a SQL user, you'll recognize the following concepts. If you've never used SQL, don't worry! No prior knowledge is neccessary for this mission, but we will learn SQL later in this path.\n",
        "\n",
        "There are actually four different types of joins:\n",
        "\n",
        "1. Inner: only includes elements that appear in both dataframes with a common key\n",
        "2. Outer: includes all data from both dataframes\n",
        "3. Left: includes all of the rows from the \"left\" dataframe along with any rows from the \"right\" dataframe with a common key; the result retains all columns from both of the original dataframes\n",
        "4. Right: includes all of the rows from the \"right\" dataframe along with any rows from the \"left\" dataframe with a common key; the result retains all columns from both of the original dataframes\n",
        "\n",
        "If the definition for *outer* joins sounds familiar, it's because we've already seen examples of outer joins! Recall that when we combined data using the `concat` function, it kept all of the data from all dataframes, no matter if missing values were created.\n",
        "\n",
        "Since it's much more common to use inner and left joins for database-style joins, we'll focus on these join types for the remainder of the mission, but encourage you to explore the other options on your own.\n",
        "\n",
        "Let's experiment with changing the join type next."
      ]
    },
    {
      "cell_type": "markdown",
      "metadata": {
        "id": "gpOQ7UGTXsOF"
      },
      "source": [
        "**Instructions:**\n",
        "\n",
        "- Update `merged` to use a left join instead of an inner join. Set the `how` parameter to `'left'` in `merge()`. Assign the result to `merged_left`.\n",
        "- Update `merged_left` so that the `left` parameter equals `three_2016` and the `right` parameter equals `three_2015`. Assign the result to `merged_left_updated`.\n",
        "-  Based on the results of this exercise, when using a left join, does changing the dataframe assigned to the `left` and `right` parameters change the result? Try to answer this question before moving onto the next screen."
      ]
    },
    {
      "cell_type": "code",
      "metadata": {
        "id": "PXR6TL0kf2bV"
      },
      "source": [
        ""
      ],
      "execution_count": null,
      "outputs": []
    },
    {
      "cell_type": "markdown",
      "metadata": {
        "id": "ohTyxHrh5mGx"
      },
      "source": [
        "## 7. Left Joins with the Merge Function"
      ]
    },
    {
      "cell_type": "markdown",
      "metadata": {
        "id": "_s_azEWdSebd"
      },
      "source": [
        "Let's summarize what we learned in the last exercise:\n",
        "\n",
        "1. Changing the join type from an inner join to a left join resulted in a dataframe with more rows and created `NaN`s.\n",
        "2. When using a left join, interchanging the dataframes assigned to the `left` and `right` parameters changes the results.\n",
        "Let's look into the results in more detail. First, let's look at the case in which the \"left\" dataframe is `three_2015` and the \"right\" dataframe is `three_2016`:"
      ]
    },
    {
      "cell_type": "code",
      "metadata": {
        "id": "aEv0zA0EYajL",
        "outputId": "f7f6fb68-3c42-4b42-d267-c1d6d05337b2",
        "colab": {
          "base_uri": "https://localhost:8080/",
          "height": 137
        }
      },
      "source": [
        "pd.merge(left=three_2015, right=three_2016, how='left', on='Country')"
      ],
      "execution_count": null,
      "outputs": [
        {
          "output_type": "execute_result",
          "data": {
            "text/html": [
              "<div>\n",
              "<style scoped>\n",
              "    .dataframe tbody tr th:only-of-type {\n",
              "        vertical-align: middle;\n",
              "    }\n",
              "\n",
              "    .dataframe tbody tr th {\n",
              "        vertical-align: top;\n",
              "    }\n",
              "\n",
              "    .dataframe thead th {\n",
              "        text-align: right;\n",
              "    }\n",
              "</style>\n",
              "<table border=\"1\" class=\"dataframe\">\n",
              "  <thead>\n",
              "    <tr style=\"text-align: right;\">\n",
              "      <th></th>\n",
              "      <th>Country</th>\n",
              "      <th>Happiness Rank_x</th>\n",
              "      <th>Year_x</th>\n",
              "      <th>Happiness Rank_y</th>\n",
              "      <th>Year_y</th>\n",
              "    </tr>\n",
              "  </thead>\n",
              "  <tbody>\n",
              "    <tr>\n",
              "      <th>0</th>\n",
              "      <td>Denmark</td>\n",
              "      <td>3</td>\n",
              "      <td>2015</td>\n",
              "      <td>NaN</td>\n",
              "      <td>NaN</td>\n",
              "    </tr>\n",
              "    <tr>\n",
              "      <th>1</th>\n",
              "      <td>Norway</td>\n",
              "      <td>4</td>\n",
              "      <td>2015</td>\n",
              "      <td>4.0</td>\n",
              "      <td>2016.0</td>\n",
              "    </tr>\n",
              "    <tr>\n",
              "      <th>2</th>\n",
              "      <td>Canada</td>\n",
              "      <td>5</td>\n",
              "      <td>2015</td>\n",
              "      <td>NaN</td>\n",
              "      <td>NaN</td>\n",
              "    </tr>\n",
              "  </tbody>\n",
              "</table>\n",
              "</div>"
            ],
            "text/plain": [
              "   Country  Happiness Rank_x  Year_x  Happiness Rank_y  Year_y\n",
              "0  Denmark                 3    2015               NaN     NaN\n",
              "1   Norway                 4    2015               4.0  2016.0\n",
              "2   Canada                 5    2015               NaN     NaN"
            ]
          },
          "metadata": {
            "tags": []
          },
          "execution_count": 12
        }
      ]
    },
    {
      "cell_type": "markdown",
      "metadata": {
        "id": "e505TEP6Yota"
      },
      "source": [
        "Recall that a left join includes all of the rows from the \"left\" dataframe along with any rows from the \"right\" dataframe with a common key.\n",
        "![img](https://s3.amazonaws.com/dq-content/344/Left_join.svg)\n",
        "\n",
        "Since the `Country` column was used as the key, only countries that appear in BOTH dataframes have a value in every column. \"Norway\" was the only value in the `Country` column in BOTH dataframes, so it's the only row with a value in every column.\n",
        "\n",
        "When we interchanged the \"left\" and the \"right\" dataframes, the values changed:\n",
        "\n"
      ]
    },
    {
      "cell_type": "code",
      "metadata": {
        "id": "zaWv5G1LZKQl",
        "outputId": "63696a76-16c2-4228-93da-a20e88b6ff0d",
        "colab": {
          "base_uri": "https://localhost:8080/",
          "height": 137
        }
      },
      "source": [
        "pd.merge(left=three_2016, right=three_2015, how='left', on='Country')"
      ],
      "execution_count": null,
      "outputs": [
        {
          "output_type": "execute_result",
          "data": {
            "text/html": [
              "<div>\n",
              "<style scoped>\n",
              "    .dataframe tbody tr th:only-of-type {\n",
              "        vertical-align: middle;\n",
              "    }\n",
              "\n",
              "    .dataframe tbody tr th {\n",
              "        vertical-align: top;\n",
              "    }\n",
              "\n",
              "    .dataframe thead th {\n",
              "        text-align: right;\n",
              "    }\n",
              "</style>\n",
              "<table border=\"1\" class=\"dataframe\">\n",
              "  <thead>\n",
              "    <tr style=\"text-align: right;\">\n",
              "      <th></th>\n",
              "      <th>Country</th>\n",
              "      <th>Happiness Rank_x</th>\n",
              "      <th>Year_x</th>\n",
              "      <th>Happiness Rank_y</th>\n",
              "      <th>Year_y</th>\n",
              "    </tr>\n",
              "  </thead>\n",
              "  <tbody>\n",
              "    <tr>\n",
              "      <th>0</th>\n",
              "      <td>Iceland</td>\n",
              "      <td>3</td>\n",
              "      <td>2016</td>\n",
              "      <td>NaN</td>\n",
              "      <td>NaN</td>\n",
              "    </tr>\n",
              "    <tr>\n",
              "      <th>1</th>\n",
              "      <td>Norway</td>\n",
              "      <td>4</td>\n",
              "      <td>2016</td>\n",
              "      <td>4.0</td>\n",
              "      <td>2015.0</td>\n",
              "    </tr>\n",
              "    <tr>\n",
              "      <th>2</th>\n",
              "      <td>Finland</td>\n",
              "      <td>5</td>\n",
              "      <td>2016</td>\n",
              "      <td>NaN</td>\n",
              "      <td>NaN</td>\n",
              "    </tr>\n",
              "  </tbody>\n",
              "</table>\n",
              "</div>"
            ],
            "text/plain": [
              "   Country  Happiness Rank_x  Year_x  Happiness Rank_y  Year_y\n",
              "0  Iceland                 3    2016               NaN     NaN\n",
              "1   Norway                 4    2016               4.0  2015.0\n",
              "2  Finland                 5    2016               NaN     NaN"
            ]
          },
          "metadata": {
            "tags": []
          },
          "execution_count": 13
        }
      ]
    },
    {
      "cell_type": "markdown",
      "metadata": {
        "id": "emZ09lLaZOTP"
      },
      "source": [
        "This time, we kept all of the rows from `three_2016`. \"Norway\" was still the only value in the `Country` column in BOTH dataframes, so it's the only row with a value in every column.\n",
        "\n",
        "![img](https://s3.amazonaws.com/dq-content/344/Left_join_update.svg)\n",
        "\n",
        "In summary, we'd use a left join when we don't want to drop any data from the left dataframe.\n",
        "\n",
        "Note that a right join works the same as a left join, except it includes all of the rows from the \"right\" dataframe. Since it's far more common in practice to use a left join, we won't cover right joins in detail.\n",
        "\n",
        "You may have also noticed above that the `merge` function added a suffix of either `_x` or `_y` to columns of the same name to distinguish between them.\n",
        "\n",
        "\n",
        "||Country |\tHappiness | Rank_x\t| Year_x |\tHappiness | Rank_y|\tYear_y|\n",
        "|---|---|---|---|---|---|---|---|\n",
        "\n",
        "Let's update those suffixes next to make our results easier to read."
      ]
    },
    {
      "cell_type": "markdown",
      "metadata": {
        "id": "EQHBNQZecfR2"
      },
      "source": [
        "\n",
        "**Instructions:**\n",
        "\n",
        "- Update `merged` to use the suffixes `_2015` and `_2016`. Set the suffixes parameter to `('_2015', '_2016')` in `merge()`. Assign the result to `merged_suffixes`.\n",
        "- Update `merged_updated` to use the suffixes `_2015` and `_2016`. Notice that the \"left\" dataframe is `three_2016` and the \"right\" dataframe is `three_2015`. Assign the result to `merged_updated_suffixes`."
      ]
    },
    {
      "cell_type": "markdown",
      "metadata": {
        "id": "DOOC3pf25l6a"
      },
      "source": [
        "## 8. Join on Index with the Merge Function"
      ]
    },
    {
      "cell_type": "markdown",
      "metadata": {
        "id": "BVRaN7ZS5l4d"
      },
      "source": [
        ""
      ]
    },
    {
      "cell_type": "markdown",
      "metadata": {
        "id": "3Nefu_sT5l2d"
      },
      "source": [
        "## 9. Challenge: Combine Data and Create a Visualization"
      ]
    },
    {
      "cell_type": "markdown",
      "metadata": {
        "id": "3BLSlwSO5luD"
      },
      "source": [
        ""
      ]
    },
    {
      "cell_type": "markdown",
      "metadata": {
        "id": "UtTiYlu95ln_"
      },
      "source": [
        ""
      ]
    }
  ]
}