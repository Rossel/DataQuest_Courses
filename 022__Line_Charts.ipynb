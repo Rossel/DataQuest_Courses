{
  "nbformat": 4,
  "nbformat_minor": 0,
  "metadata": {
    "colab": {
      "name": "022__Line_Charts.ipynb",
      "provenance": [],
      "authorship_tag": "ABX9TyPGxnu8gbmZC8rsktwjBaOZ",
      "include_colab_link": true
    },
    "kernelspec": {
      "name": "python3",
      "display_name": "Python 3"
    }
  },
  "cells": [
    {
      "cell_type": "markdown",
      "metadata": {
        "id": "view-in-github",
        "colab_type": "text"
      },
      "source": [
        "<a href=\"https://colab.research.google.com/github/Rossel/DataQuest_Courses/blob/master/022__Line_Charts.ipynb\" target=\"_parent\"><img src=\"https://colab.research.google.com/assets/colab-badge.svg\" alt=\"Open In Colab\"/></a>"
      ]
    },
    {
      "cell_type": "markdown",
      "metadata": {
        "id": "JSaHha7kyqN-",
        "colab_type": "text"
      },
      "source": [
        "### COURSE 2/6: EXPLORATORY DATA VISUALIZATION"
      ]
    },
    {
      "cell_type": "markdown",
      "metadata": {
        "id": "tJoIp5R4xRo-",
        "colab_type": "text"
      },
      "source": [
        "# MISSION 1: Line Charts"
      ]
    },
    {
      "cell_type": "markdown",
      "metadata": {
        "id": "5fRgVM2FxWRI",
        "colab_type": "text"
      },
      "source": [
        ""
      ]
    },
    {
      "cell_type": "markdown",
      "metadata": {
        "id": "viHvWAn8xWlW",
        "colab_type": "text"
      },
      "source": [
        "## 1. Reading CSV Files with Encodings\n"
      ]
    },
    {
      "cell_type": "markdown",
      "metadata": {
        "id": "F2M9wm1txYLS",
        "colab_type": "text"
      },
      "source": [
        ""
      ]
    },
    {
      "cell_type": "markdown",
      "metadata": {
        "id": "KqkzOUx1xZVJ",
        "colab_type": "text"
      },
      "source": [
        ""
      ]
    }
  ]
}