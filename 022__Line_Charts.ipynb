{
  "nbformat": 4,
  "nbformat_minor": 0,
  "metadata": {
    "colab": {
      "name": "022__Line_Charts.ipynb",
      "provenance": [],
      "authorship_tag": "ABX9TyNJZyAAGKRDy2l6XQWj5AV+",
      "include_colab_link": true
    },
    "kernelspec": {
      "name": "python3",
      "display_name": "Python 3"
    }
  },
  "cells": [
    {
      "cell_type": "markdown",
      "metadata": {
        "id": "view-in-github",
        "colab_type": "text"
      },
      "source": [
        "<a href=\"https://colab.research.google.com/github/Rossel/DataQuest_Courses/blob/master/022__Line_Charts.ipynb\" target=\"_parent\"><img src=\"https://colab.research.google.com/assets/colab-badge.svg\" alt=\"Open In Colab\"/></a>"
      ]
    },
    {
      "cell_type": "markdown",
      "metadata": {
        "id": "JSaHha7kyqN-",
        "colab_type": "text"
      },
      "source": [
        "# COURSE 2/6: EXPLORATORY DATA VISUALIZATION"
      ]
    },
    {
      "cell_type": "markdown",
      "metadata": {
        "id": "tJoIp5R4xRo-",
        "colab_type": "text"
      },
      "source": [
        "# MISSION 1: Line Charts"
      ]
    },
    {
      "cell_type": "markdown",
      "metadata": {
        "id": "5fRgVM2FxWRI",
        "colab_type": "text"
      },
      "source": [
        "*Learn the basics of data visualization.*"
      ]
    },
    {
      "cell_type": "markdown",
      "metadata": {
        "id": "viHvWAn8xWlW",
        "colab_type": "text"
      },
      "source": [
        "## 1. Representation Of Data\n"
      ]
    },
    {
      "cell_type": "markdown",
      "metadata": {
        "id": "F2M9wm1txYLS",
        "colab_type": "text"
      },
      "source": [
        "Data that are represented as tables (CSV, Excel, pandas) makes it difficult to explore a dataset to uncover patterns. Data visualization is a discipline that focuses on the visual representation of data to transform data from table representations visual ones, and enable us to find patterns quicker.\n",
        "\n",
        "In this course, named Exploratory Data Visualization, we will learn data visualization techniques to explore datasets and help us uncover patterns. In this mission, we'll use a specific type of data visualization to understand U.S. unemployment data."
      ]
    },
    {
      "cell_type": "markdown",
      "metadata": {
        "id": "KqkzOUx1xZVJ",
        "colab_type": "text"
      },
      "source": [
        "## 2. Introduction To The Data"
      ]
    },
    {
      "cell_type": "markdown",
      "metadata": {
        "id": "08DqsmIuzUZ9",
        "colab_type": "text"
      },
      "source": [
        "![BLS logo](https://www.nccaom.org/wp-content/uploads/2016/12/BLS-Timeline-Main.jpg)\n",
        "\n",
        "The United States [Bureau of Labor Statistics (BLS)](https://www.bls.gov/) surveys and calculates the monthly unemployment rate. The unemployment rate is the percentage of individuals in the labor force without a job. You can read more about how the BLS calculates the unemployment rate [here](http://www.bls.gov/cps/cps_htgm.htm).\n",
        "\n",
        "The BLS releases monthly unemployment data available for download as an Excel file, with the `.xlsx` file extension. While the pandas library can read in XLSX files, it relies on an external library for actually parsing the format. Let's instead download the same dataset as a CSV file [here](https://drive.google.com/file/d/1ccblpyB_BGKKtkAL8XbwOpJWtEBqdn8p/view?usp=sharing) or [here](https://github.com/Rossel/DataQuest_Courses/blob/master/datasets/unrate.csv). \n",
        "\n",
        "The dataset contains the monthly unemployment rate as a CSV from January 1948 to August 2016 and is saved as `unrate.csv`. Before we get into visual representations of data, let's first read this CSV file into pandas to explore the table representation of this data. The dataset we'll be working with is a [time series](https://en.wikipedia.org/wiki/Time_series) dataset, which means the data points (monthly unemployment rates) are ordered by time.\n",
        "\n",
        "\n",
        "\n",
        "\n",
        "\n"
      ]
    },
    {
      "cell_type": "markdown",
      "metadata": {
        "id": "M2XG4oxezUcV",
        "colab_type": "text"
      },
      "source": [
        "## 3. Table Representation"
      ]
    },
    {
      "cell_type": "markdown",
      "metadata": {
        "id": "ErVAmKZ1zUe3",
        "colab_type": "text"
      },
      "source": [
        ""
      ]
    },
    {
      "cell_type": "markdown",
      "metadata": {
        "id": "tcu7CkHozUqI",
        "colab_type": "text"
      },
      "source": [
        "## 4. Observations From The Table Representation\n"
      ]
    },
    {
      "cell_type": "markdown",
      "metadata": {
        "id": "ZYs9_piEzUs-",
        "colab_type": "text"
      },
      "source": [
        ""
      ]
    },
    {
      "cell_type": "markdown",
      "metadata": {
        "id": "XmZcFhcQzUv6",
        "colab_type": "text"
      },
      "source": [
        "## 5. Visual Representation"
      ]
    },
    {
      "cell_type": "markdown",
      "metadata": {
        "id": "b73ztXAvzUyZ",
        "colab_type": "text"
      },
      "source": [
        ""
      ]
    },
    {
      "cell_type": "markdown",
      "metadata": {
        "id": "362L-D6VzU1k",
        "colab_type": "text"
      },
      "source": [
        "## 6. Introduction to Matplotlib"
      ]
    },
    {
      "cell_type": "markdown",
      "metadata": {
        "id": "fT_d1103zU3q",
        "colab_type": "text"
      },
      "source": [
        "## 7. Adding Data"
      ]
    },
    {
      "cell_type": "markdown",
      "metadata": {
        "id": "hi0Up8akzU6Q",
        "colab_type": "text"
      },
      "source": [
        ""
      ]
    },
    {
      "cell_type": "markdown",
      "metadata": {
        "id": "AT6XGOmizU9j",
        "colab_type": "text"
      },
      "source": [
        "## 8. Fixing Axis Ticks"
      ]
    },
    {
      "cell_type": "markdown",
      "metadata": {
        "id": "kxcZcfaEzU_5",
        "colab_type": "text"
      },
      "source": [
        ""
      ]
    },
    {
      "cell_type": "markdown",
      "metadata": {
        "id": "-T2CPEevzVCE",
        "colab_type": "text"
      },
      "source": [
        "## 9. Adding Axis Labels And A Title"
      ]
    },
    {
      "cell_type": "markdown",
      "metadata": {
        "id": "njb-Dn6RzVEu",
        "colab_type": "text"
      },
      "source": [
        ""
      ]
    },
    {
      "cell_type": "markdown",
      "metadata": {
        "id": "eu4AKa9mzVHd",
        "colab_type": "text"
      },
      "source": [
        ""
      ]
    }
  ]
}