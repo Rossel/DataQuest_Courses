{
  "nbformat": 4,
  "nbformat_minor": 0,
  "metadata": {
    "colab": {
      "name": "018__Exploring_Data_with_pandas__Fundamentals",
      "provenance": [],
      "collapsed_sections": [],
      "authorship_tag": "ABX9TyPrxnLlYMCXXV1jssPbxY/+",
      "include_colab_link": true
    },
    "kernelspec": {
      "name": "python3",
      "display_name": "Python 3"
    }
  },
  "cells": [
    {
      "cell_type": "markdown",
      "metadata": {
        "id": "view-in-github",
        "colab_type": "text"
      },
      "source": [
        "<a href=\"https://colab.research.google.com/github/dbro-dev/DataQuest_Courses/blob/master/018__Exploring_Data_with_pandas__Fundamentals.ipynb\" target=\"_parent\"><img src=\"https://colab.research.google.com/assets/colab-badge.svg\" alt=\"Open In Colab\"/></a>"
      ]
    },
    {
      "cell_type": "markdown",
      "metadata": {
        "id": "rrTUJen4dr68",
        "colab_type": "text"
      },
      "source": [
        "## **MISSION 4: Exploring Data with pandas: Fundamentals**"
      ]
    },
    {
      "cell_type": "markdown",
      "metadata": {
        "id": "HmOv8M-WeL1R",
        "colab_type": "text"
      },
      "source": [
        "In this mission, we'll continue to learn about exploring data in pandas, including:\n",
        "\n",
        "* How to select data from pandas objects using boolean arrays.\n",
        "* How to assign data using labels and boolean arrays.\n",
        "* How to create new rows and columns in pandas.\n",
        "* New methods to make data analysis easier in pandas."
      ]
    },
    {
      "cell_type": "markdown",
      "metadata": {
        "id": "wydg0AwCdxIq",
        "colab_type": "text"
      },
      "source": [
        "**1. Introduction to the Data**"
      ]
    },
    {
      "cell_type": "markdown",
      "metadata": {
        "id": "FDngFHmqdywP",
        "colab_type": "text"
      },
      "source": [
        "We'll continue working with a data set from [Fortune](https://fortune.com/) magazine's 2017 [Global 500 list](https://en.wikipedia.org/wiki/Fortune_Global_500), which ranks the top 500 corporations worldwide by revenue. The data set was originally compiled [here](https://data.world/chasewillden/fortune-500-companies-2017); however, we modified the original data set to make it more accessible. [Click here](https://github.com/dbro-dev/DataQuest_Courses/blob/master/datasets/f500.csv) or [here](https://drive.google.com/file/d/1sp668oBm1G7vQbgCpw8zH-fnD1IJd9Ut/view?usp=sharing) for the current version used in this notebook (*as my Github username may change in the future*).\n",
        "\n",
        "![Fortune_500_logo](https://s3.amazonaws.com/dq-content/291/fortune-500.jpg)"
      ]
    },
    {
      "cell_type": "markdown",
      "metadata": {
        "id": "W8HAq4KAjypS",
        "colab_type": "text"
      },
      "source": [
        "Below is the code to import pandas and use the pandas.read_csv() function to read the CSV into a dataframe and assign it to the variable name f500. \n",
        "\n",
        "```\n",
        "import pandas as pd\n",
        "f500 = pd.read_csv('f500.csv',index_col=0)\n",
        "f500.index.name = None\n",
        "\n",
        "\n",
        "```"
      ]
    },
    {
      "cell_type": "markdown",
      "metadata": {
        "id": "PGdcoZ8dj24C",
        "colab_type": "text"
      },
      "source": [
        "In Google Colab however, it is a bit more complicated to load a .csv to work with. The fields below show how it is done:"
      ]
    },
    {
      "cell_type": "code",
      "metadata": {
        "id": "KDjC53vSjqPk",
        "colab_type": "code",
        "colab": {}
      },
      "source": [
        "# Code to read csv file into Colaboratory:\n",
        "!pip install -U -q PyDrive\n",
        "from pydrive.auth import GoogleAuth\n",
        "from pydrive.drive import GoogleDrive\n",
        "from google.colab import auth\n",
        "from oauth2client.client import GoogleCredentials\n",
        "# Authenticate and create the PyDrive client.\n",
        "auth.authenticate_user()\n",
        "gauth = GoogleAuth()\n",
        "gauth.credentials = GoogleCredentials.get_application_default()\n",
        "drive = GoogleDrive(gauth)"
      ],
      "execution_count": null,
      "outputs": []
    },
    {
      "cell_type": "code",
      "metadata": {
        "id": "3GcD8WPbj6pY",
        "colab_type": "code",
        "colab": {}
      },
      "source": [
        "# Once you have completed verification, go to the CSV file in Google Drive, right-click on it and select “Get shareable link”, and cut out the unique id in the link.\n",
        "id = \"1sp668oBm1G7vQbgCpw8zH-fnD1IJd9Ut\""
      ],
      "execution_count": null,
      "outputs": []
    },
    {
      "cell_type": "code",
      "metadata": {
        "id": "V-QrFI-V2PKb",
        "colab_type": "code",
        "colab": {}
      },
      "source": [
        "# Download the dataset\n",
        "downloaded = drive.CreateFile({'id':id}) \n",
        "downloaded.GetContentFile('f500.csv')"
      ],
      "execution_count": null,
      "outputs": []
    },
    {
      "cell_type": "code",
      "metadata": {
        "id": "NniyWKaxj_AW",
        "colab_type": "code",
        "colab": {}
      },
      "source": [
        "# Import code which resembles the original code above\n",
        "import pandas as pd\n",
        "\n",
        "f500 = pd.read_csv('f500.csv',index_col=0)\n",
        "f500.index.name = None"
      ],
      "execution_count": null,
      "outputs": []
    },
    {
      "cell_type": "markdown",
      "metadata": {
        "id": "aixSvFEZp9H3",
        "colab_type": "text"
      },
      "source": [
        "Inspect the data set type and its dimensions:"
      ]
    },
    {
      "cell_type": "code",
      "metadata": {
        "id": "tHqlnEkep2FL",
        "colab_type": "code",
        "colab": {
          "base_uri": "https://localhost:8080/",
          "height": 34
        },
        "outputId": "d0cb34a7-0028-4dad-bb76-3c2adeba63f3"
      },
      "source": [
        "f500_type = type(f500)\n",
        "print(f500_type)"
      ],
      "execution_count": null,
      "outputs": [
        {
          "output_type": "stream",
          "text": [
            "<class 'pandas.core.frame.DataFrame'>\n"
          ],
          "name": "stdout"
        }
      ]
    },
    {
      "cell_type": "code",
      "metadata": {
        "id": "rRxWBE9zp57E",
        "colab_type": "code",
        "colab": {
          "base_uri": "https://localhost:8080/",
          "height": 34
        },
        "outputId": "24b4969d-d480-46e5-95b8-d11cd8387932"
      },
      "source": [
        "f500_shape = f500.shape\n",
        "print(f500_shape)"
      ],
      "execution_count": null,
      "outputs": [
        {
          "output_type": "stream",
          "text": [
            "(500, 16)\n"
          ],
          "name": "stdout"
        }
      ]
    },
    {
      "cell_type": "markdown",
      "metadata": {
        "id": "othedoTfjMh0",
        "colab_type": "text"
      },
      "source": [
        "Next, let's use the `DataFrame.head`() and `DataFrame.info()` methods to refamiliarize ourselves with the data."
      ]
    },
    {
      "cell_type": "code",
      "metadata": {
        "id": "8wM9XmrrjWar",
        "colab_type": "code",
        "colab": {
          "base_uri": "https://localhost:8080/",
          "height": 238
        },
        "outputId": "1606e6ff-31b0-4c84-f214-0a6517c30260"
      },
      "source": [
        "# Explore the data set by printing the first 10 lines\n",
        "f500_head = f500.head(10)\n",
        "print(f500_head)"
      ],
      "execution_count": null,
      "outputs": [
        {
          "output_type": "stream",
          "text": [
            "                          rank  revenues  ...  employees  total_stockholder_equity\n",
            "Walmart                      1    485873  ...    2300000                     77798\n",
            "State Grid                   2    315199  ...     926067                    209456\n",
            "Sinopec Group                3    267518  ...     713288                    106523\n",
            "China National Petroleum     4    262573  ...    1512048                    301893\n",
            "Toyota Motor                 5    254694  ...     364445                    157210\n",
            "Volkswagen                   6    240264  ...     626715                     97753\n",
            "Royal Dutch Shell            7    240033  ...      89000                    186646\n",
            "Berkshire Hathaway           8    223604  ...     367700                    283001\n",
            "Apple                        9    215639  ...     116000                    128249\n",
            "Exxon Mobil                 10    205004  ...      72700                    167325\n",
            "\n",
            "[10 rows x 16 columns]\n"
          ],
          "name": "stdout"
        }
      ]
    },
    {
      "cell_type": "code",
      "metadata": {
        "id": "M84OmkHcpPFz",
        "colab_type": "code",
        "colab": {
          "base_uri": "https://localhost:8080/",
          "height": 408
        },
        "outputId": "53f29be5-9fef-4733-d2fa-347ee6fded54"
      },
      "source": [
        "# Display more info about the dataframe\n",
        "f500.info()"
      ],
      "execution_count": null,
      "outputs": [
        {
          "output_type": "stream",
          "text": [
            "<class 'pandas.core.frame.DataFrame'>\n",
            "Index: 500 entries, Walmart to AutoNation\n",
            "Data columns (total 16 columns):\n",
            " #   Column                    Non-Null Count  Dtype  \n",
            "---  ------                    --------------  -----  \n",
            " 0   rank                      500 non-null    int64  \n",
            " 1   revenues                  500 non-null    int64  \n",
            " 2   revenue_change            498 non-null    float64\n",
            " 3   profits                   499 non-null    float64\n",
            " 4   assets                    500 non-null    int64  \n",
            " 5   profit_change             436 non-null    float64\n",
            " 6   ceo                       500 non-null    object \n",
            " 7   industry                  500 non-null    object \n",
            " 8   sector                    500 non-null    object \n",
            " 9   previous_rank             500 non-null    int64  \n",
            " 10  country                   500 non-null    object \n",
            " 11  hq_location               500 non-null    object \n",
            " 12  website                   500 non-null    object \n",
            " 13  years_on_global_500_list  500 non-null    int64  \n",
            " 14  employees                 500 non-null    int64  \n",
            " 15  total_stockholder_equity  500 non-null    int64  \n",
            "dtypes: float64(3), int64(7), object(6)\n",
            "memory usage: 66.4+ KB\n"
          ],
          "name": "stdout"
        }
      ]
    },
    {
      "cell_type": "markdown",
      "metadata": {
        "id": "fs66peCfhu68",
        "colab_type": "text"
      },
      "source": [
        "**2. Vectorized Operations**"
      ]
    },
    {
      "cell_type": "markdown",
      "metadata": {
        "id": "ixKYRd3khvd6",
        "colab_type": "text"
      },
      "source": [
        "Because pandas is designed to operate like NumPy, a lot of concepts and methods from Numpy are supported. Recall that one of the ways NumPy makes working with data easier is with **vectorized operations**, or operations applied to multiple data points at once:\n",
        "![alt text](https://s3.amazonaws.com/dq-content/289/vectorized.gif)\n",
        "Vectorization not only improves our code's performance, but also enables us to write code more quickly."
      ]
    },
    {
      "cell_type": "markdown",
      "metadata": {
        "id": "SkQHTcHmrB1I",
        "colab_type": "text"
      },
      "source": [
        "Recall that our `f500` dataframe includes each company's current and previous year's rank on the Fortune 500 list. Let's use vectorized operations to calculate the changes in rank for each company."
      ]
    },
    {
      "cell_type": "code",
      "metadata": {
        "id": "0R7y2UkQrDfU",
        "colab_type": "code",
        "colab": {
          "base_uri": "https://localhost:8080/",
          "height": 136
        },
        "outputId": "fa3778a6-a810-4898-da56-8830a1210e53"
      },
      "source": [
        "rank_change =  f500[\"previous_rank\"] - f500[\"rank\"]\n",
        "print(rank_change[:6])"
      ],
      "execution_count": null,
      "outputs": [
        {
          "output_type": "stream",
          "text": [
            "Walmart                     0.0\n",
            "State Grid                  0.0\n",
            "Sinopec Group               1.0\n",
            "China National Petroleum   -1.0\n",
            "Toyota Motor                3.0\n",
            "Volkswagen                  1.0\n",
            "dtype: float64\n"
          ],
          "name": "stdout"
        }
      ]
    },
    {
      "cell_type": "markdown",
      "metadata": {
        "id": "eIULe63Hhvup",
        "colab_type": "text"
      },
      "source": [
        "**3. Series Data Exploration Methods**"
      ]
    },
    {
      "cell_type": "markdown",
      "metadata": {
        "id": "8g86yuQyhxMT",
        "colab_type": "text"
      },
      "source": [
        "Like NumPy, pandas supports many descriptive stats methods that can help us answer these questions. Here are a few of the most useful ones (with links to documentation):\n",
        "\n",
        "* [`Series.max()`](http://pandas.pydata.org/pandas-docs/stable/generated/pandas.Series.max.html)\n",
        "* [`Series.min()`](http://pandas.pydata.org/pandas-docs/stable/generated/pandas.Series.min.html)\n",
        "* [`Series.mean()`](http://pandas.pydata.org/pandas-docs/stable/generated/pandas.Series.mean.html)\n",
        "* [`Series.median()`](http://pandas.pydata.org/pandas-docs/stable/generated/pandas.Series.median.html)\n",
        "* [`Series.mode()`](http://pandas.pydata.org/pandas-docs/stable/generated/pandas.Series.mode.html)\n",
        "* [`Series.sum()`](http://pandas.pydata.org/pandas-docs/stable/generated/pandas.Series.sum.html)"
      ]
    },
    {
      "cell_type": "code",
      "metadata": {
        "id": "XHRHJSbhuEI-",
        "colab_type": "code",
        "colab": {
          "base_uri": "https://localhost:8080/",
          "height": 34
        },
        "outputId": "2e300978-d947-403e-daaf-0b330a59c66d"
      },
      "source": [
        "rank_change_max = rank_change.max()\n",
        "print(rank_change_max)"
      ],
      "execution_count": null,
      "outputs": [
        {
          "output_type": "stream",
          "text": [
            "226.0\n"
          ],
          "name": "stdout"
        }
      ]
    },
    {
      "cell_type": "markdown",
      "metadata": {
        "id": "QY9pWk3FHU_n",
        "colab_type": "text"
      },
      "source": [
        "Biggest increase in rank: 226"
      ]
    },
    {
      "cell_type": "code",
      "metadata": {
        "id": "PoxPwEEPH0nr",
        "colab_type": "code",
        "colab": {}
      },
      "source": [
        "rank_change_min = rank_change.min()\n",
        "print(rank_change_min)\n",
        "# Outcome was -500 before alterations were made further down this document"
      ],
      "execution_count": null,
      "outputs": []
    },
    {
      "cell_type": "markdown",
      "metadata": {
        "id": "jyiiSRlsvbmn",
        "colab_type": "text"
      },
      "source": [
        "Biggest decrease in rank: -500\n",
        "\n",
        "According to the data dictionary, this list should only rank companies on a scale of 1 to 500. Even if the company ranked 1st in the previous year moved to 500th this year, the rank change calculated would be -499. This indicates that there is incorrect data in either the rank column or previous_rank column."
      ]
    },
    {
      "cell_type": "markdown",
      "metadata": {
        "id": "n00czPQLhyGW",
        "colab_type": "text"
      },
      "source": [
        "**4. Series Describe Method**"
      ]
    },
    {
      "cell_type": "markdown",
      "metadata": {
        "id": "6An2hP8ihyce",
        "colab_type": "text"
      },
      "source": [
        "Another method that can help us more quickly investigate this issue - the `Series.describe()` [method](http://pandas.pydata.org/pandas-docs/stable/generated/pandas.Series.describe.html#pandas.Series.describe). This method tells us how many non-null values are contained in the series, along with the mean, minimum, maximum, and other statistics we'll learn about later in this path."
      ]
    },
    {
      "cell_type": "markdown",
      "metadata": {
        "id": "8uAiOjulwYU6",
        "colab_type": "text"
      },
      "source": [
        "If we use `describe()` on a column that contains non-numeric values, we get some different statistics. Let's look at an example:"
      ]
    },
    {
      "cell_type": "code",
      "metadata": {
        "id": "xZxFTXEAwc_4",
        "colab_type": "code",
        "colab": {
          "base_uri": "https://localhost:8080/",
          "height": 102
        },
        "outputId": "9ac53a23-31cc-40d9-fcc6-b9b9e6dce407"
      },
      "source": [
        "country = f500[\"country\"]\n",
        "print(country.describe())"
      ],
      "execution_count": null,
      "outputs": [
        {
          "output_type": "stream",
          "text": [
            "count     500\n",
            "unique     34\n",
            "top       USA\n",
            "freq      132\n",
            "Name: country, dtype: object\n"
          ],
          "name": "stdout"
        }
      ]
    },
    {
      "cell_type": "markdown",
      "metadata": {
        "id": "NfvgwrbOwgUM",
        "colab_type": "text"
      },
      "source": [
        "The first statistic, `count`, is the same as for numeric columns, showing us the number of non-null values. The other three statistics are new:\n",
        "\n",
        "* `unique`: Number of unique values in the series. In this case, it tells us that there are 34 different countries represented in the Fortune 500.\n",
        "* `top`: Most common value in the series. The USA is the country that headquarters the most Fortune 500 companies.\n",
        "* `freq`: Frequency of the most common value. Exactly 132 companies from the Fortune 500 are headquartered in the USA.\n",
        "\n",
        "Let's use this method to gather more information about the `rank` and `previous_rank` series."
      ]
    },
    {
      "cell_type": "code",
      "metadata": {
        "id": "vV1S_7HAwxJ1",
        "colab_type": "code",
        "colab": {
          "base_uri": "https://localhost:8080/",
          "height": 170
        },
        "outputId": "82d2c9ba-d3a5-4862-9b4e-c248e139cffa"
      },
      "source": [
        "rank = f500[\"rank\"]\n",
        "rank_desc = rank.describe()\n",
        "print(rank_desc)"
      ],
      "execution_count": null,
      "outputs": [
        {
          "output_type": "stream",
          "text": [
            "count    500.000000\n",
            "mean     250.500000\n",
            "std      144.481833\n",
            "min        1.000000\n",
            "25%      125.750000\n",
            "50%      250.500000\n",
            "75%      375.250000\n",
            "max      500.000000\n",
            "Name: rank, dtype: float64\n"
          ],
          "name": "stdout"
        }
      ]
    },
    {
      "cell_type": "code",
      "metadata": {
        "id": "2al9LsqKykey",
        "colab_type": "code",
        "colab": {
          "base_uri": "https://localhost:8080/",
          "height": 170
        },
        "outputId": "dd633cb0-3993-4660-9794-0b0d13ca7a19"
      },
      "source": [
        "prev_rank = f500[\"previous_rank\"]\n",
        "prev_rank_desc = prev_rank.describe()\n",
        "print(prev_rank_desc)"
      ],
      "execution_count": null,
      "outputs": [
        {
          "output_type": "stream",
          "text": [
            "count    500.000000\n",
            "mean     222.134000\n",
            "std      146.941961\n",
            "min        0.000000\n",
            "25%       92.750000\n",
            "50%      219.500000\n",
            "75%      347.250000\n",
            "max      500.000000\n",
            "Name: previous_rank, dtype: float64\n"
          ],
          "name": "stdout"
        }
      ]
    },
    {
      "cell_type": "markdown",
      "metadata": {
        "id": "s8i1rg0YynGS",
        "colab_type": "text"
      },
      "source": [
        "Something is odd - the minimum value for the previous_rank column is 0. However, this column should only have values between 1 and 500 (inclusive), so a value of 0 doesn't make sense. To investigate the possible cause of this issue, let's confirm the number of 0 values that appear in the previous_rank column."
      ]
    },
    {
      "cell_type": "markdown",
      "metadata": {
        "id": "eaXMilH8hzSx",
        "colab_type": "text"
      },
      "source": [
        "**5. Method Chaining**"
      ]
    },
    {
      "cell_type": "markdown",
      "metadata": {
        "id": "MMiYMXlDzXI5",
        "colab_type": "text"
      },
      "source": [
        "Let's use the `Series.value_counts()` method and `Series.loc` next to confirm the number of 0 values in the `previous_rank` column."
      ]
    },
    {
      "cell_type": "code",
      "metadata": {
        "id": "yo2cCW1LzWWT",
        "colab_type": "code",
        "colab": {
          "base_uri": "https://localhost:8080/",
          "height": 34
        },
        "outputId": "6ca0b100-038c-45d1-da75-d3faf499fb35"
      },
      "source": [
        "zero_previous_rank = f500[\"previous_rank\"].value_counts().loc[0]\n",
        "print(zero_previous_rank)"
      ],
      "execution_count": null,
      "outputs": [
        {
          "output_type": "stream",
          "text": [
            "33\n"
          ],
          "name": "stdout"
        }
      ]
    },
    {
      "cell_type": "markdown",
      "metadata": {
        "id": "zGZffvjd0Bp5",
        "colab_type": "text"
      },
      "source": [
        "> This formula might seem complex, but it is actually very logic. Rather than assigning the previous_rank series to it's own variable, we skip that step and use the method directly on the result of the column selection.\n",
        "\n",
        "> This is called **method chaining** — a way to combine multiple methods together in a single line. When writing code, always assess whether method chaining will make your code harder to read. If it does, it's always preferable to break the code into more than one line."
      ]
    },
    {
      "cell_type": "markdown",
      "metadata": {
        "id": "OztFkVu71mzL",
        "colab_type": "text"
      },
      "source": [
        "From the result we can confirm that **33 companies in the dataframe have a value of 0** in the previous_rank column. Given that multiple companies have a 0 rank, we might conclude that **these companies didn't have a rank at all for the previous year**. It would make more sense for us to replace these values with a null value instead."
      ]
    },
    {
      "cell_type": "markdown",
      "metadata": {
        "id": "oA-bwypIh0Lk",
        "colab_type": "text"
      },
      "source": [
        "**6. Dataframe Exploration Methods**"
      ]
    },
    {
      "cell_type": "markdown",
      "metadata": {
        "id": "XqXxMstrh0iE",
        "colab_type": "text"
      },
      "source": [
        "Before we correct these values, let's explore the rest of our dataframe to make sure there are no other data issues. Just like we used descriptive stats methods **to explore individual series**, we can **also use descriptive stats methods** to explore our `f500` **dataframe**.\n",
        "\n",
        "Because series and dataframes are two distinct objects, **they have their own unique methods**. However, oftentimes both series and dataframe objects have a method of the **same name that behaves in similar ways**. \n",
        "\n",
        "Below are some examples:\n",
        "\n",
        "* `Series.max()` and `DataFrame.max()`\n",
        "* `Series.min()` and `DataFrame.min()`\n",
        "* `Series.mean()` and `DataFrame.mean()`\n",
        "* `Series.median()` and `DataFrame.median()`\n",
        "* `Series.mode()` and `DataFrame.mode()`\n",
        "* `Series.sum()` and `DataFrame.sum()`\n"
      ]
    },
    {
      "cell_type": "markdown",
      "metadata": {
        "id": "CpA0wiCH9Wiw",
        "colab_type": "text"
      },
      "source": [
        "Unlike their series counterparts, **dataframe methods require an axis parameter** so we know which axis to calculate across (default value is `axis=0`). \n",
        "\n",
        "While you can use integers to refer to the first and second axis, pandas dataframe methods also accept the strings `\"index\"` and `\"columns\"` for the axis parameter:\n",
        "\n",
        "![alt text](https://s3.amazonaws.com/dq-content/291/axis_param.svg)"
      ]
    },
    {
      "cell_type": "markdown",
      "metadata": {
        "id": "ee3_auge9gSJ",
        "colab_type": "text"
      },
      "source": [
        "If we wanted to find the median (middle) value for the revenues and profits columns, we could use the following code:"
      ]
    },
    {
      "cell_type": "code",
      "metadata": {
        "id": "vwuf2Obn-xre",
        "colab_type": "code",
        "colab": {
          "base_uri": "https://localhost:8080/",
          "height": 68
        },
        "outputId": "b3827fef-4d96-4237-88af-c80344a49d94"
      },
      "source": [
        "medians = f500[[\"revenues\", \"profits\"]].median(axis=0)\n",
        "# we could also use .median(axis=\"index\"), or leave it out as the default value is 0\n",
        "print(medians)"
      ],
      "execution_count": null,
      "outputs": [
        {
          "output_type": "stream",
          "text": [
            "revenues    40236.0\n",
            "profits      1761.6\n",
            "dtype: float64\n"
          ],
          "name": "stdout"
        }
      ]
    },
    {
      "cell_type": "markdown",
      "metadata": {
        "id": "005OZ1p3BSqA",
        "colab_type": "text"
      },
      "source": [
        "Instructions: \n",
        "\n",
        "Use the `DataFrame.max()` method to find the maximum value for only the *numeric* columns from `f500` (you may need to check the [documentation](https://pandas.pydata.org/pandas-docs/stable/reference/api/pandas.DataFrame.max.html)). "
      ]
    },
    {
      "cell_type": "code",
      "metadata": {
        "id": "foyOEC3ABUFg",
        "colab_type": "code",
        "colab": {
          "base_uri": "https://localhost:8080/",
          "height": 204
        },
        "outputId": "9b49750d-a715-44f1-d401-a01797631f30"
      },
      "source": [
        "max_f500 = f500.max(axis=0, numeric_only=True)\n",
        "\n",
        "print(max_f500)"
      ],
      "execution_count": null,
      "outputs": [
        {
          "output_type": "stream",
          "text": [
            "rank                            500.0\n",
            "revenues                     485873.0\n",
            "revenue_change                  442.3\n",
            "profits                       45687.0\n",
            "assets                      3473238.0\n",
            "profit_change                  8909.5\n",
            "previous_rank                   500.0\n",
            "years_on_global_500_list         23.0\n",
            "employees                   2300000.0\n",
            "total_stockholder_equity     301893.0\n",
            "dtype: float64\n"
          ],
          "name": "stdout"
        }
      ]
    },
    {
      "cell_type": "markdown",
      "metadata": {
        "id": "ip_BJiJkCuLC",
        "colab_type": "text"
      },
      "source": [
        "Based on the column descriptions, the maximum for each of these columns seems reasonable."
      ]
    },
    {
      "cell_type": "markdown",
      "metadata": {
        "id": "OsigNocGh09j",
        "colab_type": "text"
      },
      "source": [
        "**7. Dataframe Describe Method**"
      ]
    },
    {
      "cell_type": "markdown",
      "metadata": {
        "id": "mlNYVHdXh1T2",
        "colab_type": "text"
      },
      "source": [
        "Like series objects, dataframe objects also have a `DataFrame.describe()` [method](https://pandas.pydata.org/pandas-docs/stable/reference/api/pandas.DataFrame.describe.html) that we can use to explore the dataframe more quickly (See link for documentation).\n",
        "\n",
        "One difference is that we need to manually specify if you want to see the statistics for the non-numeric columns. By default, `DataFrame.describe()` will return statistics for only numeric columns. If we wanted to get just the object columns, we need to use the `include=['O']` parameter (`'O'` for Object, not zero):"
      ]
    },
    {
      "cell_type": "code",
      "metadata": {
        "id": "c_CepBoSDPIU",
        "colab_type": "code",
        "colab": {
          "base_uri": "https://localhost:8080/",
          "height": 136
        },
        "outputId": "81cd031a-3d87-4a93-c966-f29ba0112a5f"
      },
      "source": [
        "print(f500.describe(include=['O']))"
      ],
      "execution_count": null,
      "outputs": [
        {
          "output_type": "stream",
          "text": [
            "                   ceo  ...                website\n",
            "count              500  ...                    500\n",
            "unique             500  ...                    500\n",
            "top     Larry J. Merlo  ...  http://www.ckh.com.hk\n",
            "freq                 1  ...                      1\n",
            "\n",
            "[4 rows x 6 columns]\n"
          ],
          "name": "stdout"
        }
      ]
    },
    {
      "cell_type": "markdown",
      "metadata": {
        "id": "dITIdc_hJU_1",
        "colab_type": "text"
      },
      "source": [
        "Whereas the `Series.describe()` method returns a series object, the `DataFrame.describe()` method returns a dataframe object."
      ]
    },
    {
      "cell_type": "code",
      "metadata": {
        "id": "M-F4UVPiJVi5",
        "colab_type": "code",
        "colab": {
          "base_uri": "https://localhost:8080/",
          "height": 204
        },
        "outputId": "284d444e-9bcd-46b0-8756-35d3ade136d6"
      },
      "source": [
        "print(f500.describe())\n"
      ],
      "execution_count": null,
      "outputs": [
        {
          "output_type": "stream",
          "text": [
            "             rank       revenues  ...     employees  total_stockholder_equity\n",
            "count  500.000000     500.000000  ...  5.000000e+02                500.000000\n",
            "mean   250.500000   55416.358000  ...  1.339983e+05              30628.076000\n",
            "std    144.481833   45725.478963  ...  1.700878e+05              43642.576833\n",
            "min      1.000000   21609.000000  ...  3.280000e+02             -59909.000000\n",
            "25%    125.750000   29003.000000  ...  4.293250e+04               7553.750000\n",
            "50%    250.500000   40236.000000  ...  9.291050e+04              15809.500000\n",
            "75%    375.250000   63926.750000  ...  1.689172e+05              37828.500000\n",
            "max    500.000000  485873.000000  ...  2.300000e+06             301893.000000\n",
            "\n",
            "[8 rows x 10 columns]\n"
          ],
          "name": "stdout"
        }
      ]
    },
    {
      "cell_type": "markdown",
      "metadata": {
        "id": "oq_I-LA0KCin",
        "colab_type": "text"
      },
      "source": [
        "By default this method returns descriptive statistics only for all the numeric columns. If you want them for objects as well then insert `include=all`. See also the [documentation](https://pandas.pydata.org/pandas-docs/stable/reference/api/pandas.DataFrame.describe.html)"
      ]
    },
    {
      "cell_type": "markdown",
      "metadata": {
        "id": "95xn_sE3KgjZ",
        "colab_type": "text"
      },
      "source": [
        "After reviewing the descriptive statistics for the numeric columns in `f500`, we can conclude that no values look unusual besides the `0` values in the `previous_rank` column. Previously, we concluded that companies with a rank of zero didn't have a rank at all. \n",
        "\n",
        "Next, we'll replace these values with a null value to clearly indicate that the value is missing."
      ]
    },
    {
      "cell_type": "markdown",
      "metadata": {
        "id": "nBGHRmvhh2i5",
        "colab_type": "text"
      },
      "source": [
        "**8. Assignment with pandas**"
      ]
    },
    {
      "cell_type": "markdown",
      "metadata": {
        "id": "HSukt2l9h21v",
        "colab_type": "text"
      },
      "source": [
        "We'll learn how to do two things so we can correct these values:\n",
        "\n",
        "* Perform assignment in pandas.\n",
        "* Use boolean indexing in pandas.\n",
        "\n",
        "Let's start by learning assignment, starting with the following example:"
      ]
    },
    {
      "cell_type": "code",
      "metadata": {
        "id": "3Hy21-iVK5Cl",
        "colab_type": "code",
        "colab": {
          "base_uri": "https://localhost:8080/",
          "height": 119
        },
        "outputId": "3abb7d46-ab8d-42fb-df6d-ae43f21910d5"
      },
      "source": [
        "top5_rank_revenue = f500[[\"rank\", \"revenues\"]].head()\n",
        "print(top5_rank_revenue)"
      ],
      "execution_count": null,
      "outputs": [
        {
          "output_type": "stream",
          "text": [
            "                          rank  revenues\n",
            "Walmart                      1    485873\n",
            "State Grid                   2    315199\n",
            "Sinopec Group                3    267518\n",
            "China National Petroleum     4    262573\n",
            "Toyota Motor                 5    254694\n"
          ],
          "name": "stdout"
        }
      ]
    },
    {
      "cell_type": "markdown",
      "metadata": {
        "id": "teCss0UrLeEG",
        "colab_type": "text"
      },
      "source": [
        "Just like in NumPy, the same techniques that we use to select data could be used for assignment. When we selected a whole column by label and used assignment, we assigned the value to every item in that column.\n",
        "\n",
        "\n",
        "\n",
        "```\n",
        "# All revenues of the 5 first companies would be overwritten to 0 when executing this formula.\n",
        "\n",
        "top5_rank_revenue[\"revenues\"] = 0\n",
        "```\n"
      ]
    },
    {
      "cell_type": "markdown",
      "metadata": {
        "id": "ckhvppxILwTW",
        "colab_type": "text"
      },
      "source": [
        "By providing labels for both axes, we can assign them to a single value within our dataframe.\n",
        "\n",
        "```\n",
        "top5_rank_revenue.loc[\"Sinopec Group\", \"revenues\"] = 999\n",
        "```\n",
        "\n"
      ]
    },
    {
      "cell_type": "markdown",
      "metadata": {
        "id": "fX584zS9MgCO",
        "colab_type": "text"
      },
      "source": [
        "Let's assign another value in the Fortune 500 dataframe. The company \"Dow Chemical\" has named a new CEO: Jim Fitterling:"
      ]
    },
    {
      "cell_type": "code",
      "metadata": {
        "id": "N5m9ZAWnMm4Q",
        "colab_type": "code",
        "colab": {
          "base_uri": "https://localhost:8080/",
          "height": 34
        },
        "outputId": "077b70df-f762-45ac-8089-b772ea4ad912"
      },
      "source": [
        "print(f500.loc[\"Dow Chemical\", \"ceo\"])"
      ],
      "execution_count": null,
      "outputs": [
        {
          "output_type": "stream",
          "text": [
            "Andrew N. Liveris\n"
          ],
          "name": "stdout"
        }
      ]
    },
    {
      "cell_type": "code",
      "metadata": {
        "id": "UkUd62zKMpjg",
        "colab_type": "code",
        "colab": {
          "base_uri": "https://localhost:8080/",
          "height": 34
        },
        "outputId": "459474ec-771b-47b5-9dc5-7e048ddf80bd"
      },
      "source": [
        "f500.loc[\"Dow Chemical\", \"ceo\"] = \"Jim Fitterling\"\n",
        "print(f500.loc[\"Dow Chemical\", \"ceo\"])"
      ],
      "execution_count": null,
      "outputs": [
        {
          "output_type": "stream",
          "text": [
            "Jim Fitterling\n"
          ],
          "name": "stdout"
        }
      ]
    },
    {
      "cell_type": "markdown",
      "metadata": {
        "id": "05W8vIAeh3Jl",
        "colab_type": "text"
      },
      "source": [
        "**9. Using Boolean Indexing with pandas Objects**"
      ]
    },
    {
      "cell_type": "markdown",
      "metadata": {
        "id": "qhKKnSzgjunf",
        "colab_type": "text"
      },
      "source": [
        "We can use **boolean indexing** to change all rows that meet the same criteria, just like we did with NumPy.\n",
        "\n",
        "Let's look at two examples of how boolean indexing works in pandas. For our example, we'll work with this dataframe of people and their favorite numbers:\n",
        "![alt text](https://s3.amazonaws.com/dq-content/291/eg_df.svg)\n",
        "\n",
        "Let's check which people have a favorite number of 8. First, we perform a vectorized boolean operation that produces a boolean series:\n",
        "![alt text](https://s3.amazonaws.com/dq-content/291/bool_series.svg)\n",
        "\n",
        "We can use that series to index the whole dataframe, leaving us with the rows that correspond only to people whose favorite number is **8**:\n",
        "![alt text](https://s3.amazonaws.com/dq-content/291/boolean_indexing_df.svg)\n",
        "\n",
        "Note that we didn't use `loc[]`. This is because boolean arrays use the same shortcut as slices to select along the index axis. We can also use the boolean series to index just one column of the dataframe:\n",
        "![alt text](https://s3.amazonaws.com/dq-content/291/boolean_indexing_s.svg)\n",
        "In this case, we used `df.loc[]` to specify both axes.\n",
        "\n"
      ]
    },
    {
      "cell_type": "markdown",
      "metadata": {
        "id": "-cV9fVZsh3b4",
        "colab_type": "text"
      },
      "source": [
        "Next, let's use boolean indexing to identify companies belonging to the \"Motor Vehicles and Parts\" industry, and the countries in which they are located."
      ]
    },
    {
      "cell_type": "code",
      "metadata": {
        "id": "m3PRcDpAjgWx",
        "colab_type": "code",
        "colab": {
          "base_uri": "https://localhost:8080/",
          "height": 612
        },
        "outputId": "4865b9f2-b512-4643-b15b-72a585ed2b0e"
      },
      "source": [
        "motor_bool = f500[\"industry\"] == \"Motor Vehicles and Parts\"\n",
        "\n",
        "motor_countries = f500.loc[motor_bool, \"country\"]\n",
        "\n",
        "print(motor_countries)"
      ],
      "execution_count": null,
      "outputs": [
        {
          "output_type": "stream",
          "text": [
            "Toyota Motor                                 Japan\n",
            "Volkswagen                                 Germany\n",
            "Daimler                                    Germany\n",
            "General Motors                                 USA\n",
            "Ford Motor                                     USA\n",
            "Honda Motor                                  Japan\n",
            "SAIC Motor                                   China\n",
            "Nissan Motor                                 Japan\n",
            "BMW Group                                  Germany\n",
            "Dongfeng Motor                               China\n",
            "Robert Bosch                               Germany\n",
            "Hyundai Motor                          South Korea\n",
            "China FAW Group                              China\n",
            "Beijing Automotive Group                     China\n",
            "Peugeot                                     France\n",
            "Renault                                     France\n",
            "Kia Motors                             South Korea\n",
            "Continental                                Germany\n",
            "Denso                                        Japan\n",
            "Guangzhou Automobile Industry Group          China\n",
            "Tata Motors                                  India\n",
            "ZF Friedrichshafen                         Germany\n",
            "Jardine Matheson                             China\n",
            "Magna International                         Canada\n",
            "Volvo                                       Sweden\n",
            "Hyundai Mobis                          South Korea\n",
            "Aisin Seiki                                  Japan\n",
            "Zhejiang Geely Holding Group                 China\n",
            "Subaru                                       Japan\n",
            "Bridgestone                                  Japan\n",
            "Mazda Motor                                  Japan\n",
            "Suzuki Motor                                 Japan\n",
            "Sumitomo Electric Industries                 Japan\n",
            "Michelin                                    France\n",
            "Name: country, dtype: object\n"
          ],
          "name": "stdout"
        }
      ]
    },
    {
      "cell_type": "markdown",
      "metadata": {
        "id": "gYvLYUIZh3yi",
        "colab_type": "text"
      },
      "source": [
        "**10. Using Boolean Arrays to Assign Values**"
      ]
    },
    {
      "cell_type": "markdown",
      "metadata": {
        "id": "vYpHhdkyh4I3",
        "colab_type": "text"
      },
      "source": [
        "With will now combine the operations together:\n",
        "* Perform assignment in pandas.\n",
        "* Use boolean indexing in pandas.\n",
        "\n",
        "We will change the `'Motor Vehicles & Parts'` values in the `sector` column to `'Motor Vehicles and Parts'`– i.e. we will change the ampersand (`&`) to `and`.\n",
        "\n",
        "First, we create a boolean series by comparing the values in the sector column to `'Motor Vehicles & Parts'`\n",
        "\n",
        "```\n",
        "ampersand_bool = f500[\"sector\"] == \"Motor Vehicles & Parts\"\n",
        "```\n",
        "Next, we use that boolean series and the string `\"sector\"` to perform the assignment.\n",
        "\n",
        "```\n",
        "f500.loc[ampersand_bool,\"sector\"] = \"Motor Vehicles and Parts\"\n",
        "```\n",
        "Just like we saw in the NumPy mission earlier in this course, we can remove the intermediate step of creating a boolean series, and combine everything into one line. This is the most common way to write pandas code to perform assignment using boolean arrays:\n",
        "\n",
        "\n",
        "```\n",
        "f500.loc[f500[\"sector\"] == \"Motor Vehicles & Parts\",\"sector\"] = \"Motor Vehicles and Parts\"\n",
        "```\n",
        "\n",
        "\n",
        "\n",
        "\n",
        "\n",
        "\n",
        "\n"
      ]
    },
    {
      "cell_type": "markdown",
      "metadata": {
        "id": "V7ffJ3kT0ZCo",
        "colab_type": "text"
      },
      "source": [
        "Now we can follow this pattern to replace the values in the `previous_rank` column. We'll replace these values with `np.nan`. Just like in NumPy, `np.nan` is used in pandas to represent values that can't be represented numerically, most commonly missing values.\n",
        "\n",
        "To make comparing the values in this column before and after our operation easier, we will make a `previous_rank_before` and `previous_rank_after`:\n",
        "\n",
        "```\n",
        "prev_rank_before = f500[\"previous_rank\"].value_counts(dropna=False).head()\n",
        "```\n",
        "\n",
        "This uses `Series.value_counts()` and `Series.head()` to display the 5 most common values in the `previous_rank` column, but adds an additional `dropna=False` parameter, which stops the `Series.value_counts()` method from excluding null values when it makes its calculation, as shown in the `Series.value_counts()` documentation."
      ]
    },
    {
      "cell_type": "code",
      "metadata": {
        "id": "lEufajWz1gMe",
        "colab_type": "code",
        "colab": {
          "base_uri": "https://localhost:8080/",
          "height": 119
        },
        "outputId": "663749e0-e7d6-4ca6-9f2a-f5ad63f29f2d"
      },
      "source": [
        "import numpy as np\n",
        "prev_rank_before = f500[\"previous_rank\"].value_counts(dropna=False).head()\n",
        "\n",
        "prev_rank_bool = f500[\"previous_rank\"] == 0\n",
        "\n",
        "print(prev_rank_before)"
      ],
      "execution_count": null,
      "outputs": [
        {
          "output_type": "stream",
          "text": [
            "0      33\n",
            "159     1\n",
            "147     1\n",
            "148     1\n",
            "149     1\n",
            "Name: previous_rank, dtype: int64\n"
          ],
          "name": "stdout"
        }
      ]
    },
    {
      "cell_type": "code",
      "metadata": {
        "id": "ODTpKMod1uZ8",
        "colab_type": "code",
        "colab": {
          "base_uri": "https://localhost:8080/",
          "height": 119
        },
        "outputId": "2b4a005d-4efe-4b52-a863-85b4502e4f0b"
      },
      "source": [
        "f500.loc[prev_rank_bool, \"previous_rank\"] = np.nan\n",
        "\n",
        "prev_rank_after = f500[\"previous_rank\"].value_counts(dropna=False).head()\n",
        "\n",
        "print(prev_rank_after)"
      ],
      "execution_count": null,
      "outputs": [
        {
          "output_type": "stream",
          "text": [
            "NaN      33\n",
            "471.0     1\n",
            "234.0     1\n",
            "125.0     1\n",
            "166.0     1\n",
            "Name: previous_rank, dtype: int64\n"
          ],
          "name": "stdout"
        }
      ]
    },
    {
      "cell_type": "markdown",
      "metadata": {
        "id": "SDVZ9dFw106y",
        "colab_type": "text"
      },
      "source": [
        "Instead of 33 instances of `0`, we now have 33 instances of `NaN`.\n",
        "\n",
        "Also note that the index of the series that `Series.value_counts()` produces now shows us floats like 471.0 instead of integers. "
      ]
    },
    {
      "cell_type": "markdown",
      "metadata": {
        "id": "ySDV4NKIh4mD",
        "colab_type": "text"
      },
      "source": [
        "**11. Creating New Columns**"
      ]
    },
    {
      "cell_type": "markdown",
      "metadata": {
        "id": "4wmXYgdyh44T",
        "colab_type": "text"
      },
      "source": [
        "Now that we've corrected the data, let's create the `rank_change` series again. This time, we'll add it to our `f500` dataframe as a new column.\n",
        "\n",
        "When we assign a value or values to a new column label, pandas will automatically create a new column in our dataframe. For example, below we add a new column named `year_founded` to a dataframe `top5_rank_revenue`:\n",
        "\n",
        "`top5_rank_revenue[\"year_founded\"] = 0`"
      ]
    },
    {
      "cell_type": "markdown",
      "metadata": {
        "id": "p98j2M494Wn-",
        "colab_type": "text"
      },
      "source": [
        "Next, we create a `rank_change` column in our `f500` dataframe and return a series of descriptive statistics for the `rank_change` column to study the results:"
      ]
    },
    {
      "cell_type": "code",
      "metadata": {
        "id": "eu7Mt5Nt4Ln-",
        "colab_type": "code",
        "colab": {
          "base_uri": "https://localhost:8080/",
          "height": 170
        },
        "outputId": "6ea6e2d1-0f9e-4871-98a5-661023658fb2"
      },
      "source": [
        "f500[\"rank_change\"] = f500[\"previous_rank\"] - f500[\"rank\"]\n",
        "\n",
        "rank_change_desc = f500[\"rank_change\"].describe()\n",
        "     \n",
        "print(rank_change_desc)"
      ],
      "execution_count": null,
      "outputs": [
        {
          "output_type": "stream",
          "text": [
            "count    467.000000\n",
            "mean      -3.533191\n",
            "std       44.293603\n",
            "min     -199.000000\n",
            "25%      -21.000000\n",
            "50%       -2.000000\n",
            "75%       10.000000\n",
            "max      226.000000\n",
            "Name: rank_change, dtype: float64\n"
          ],
          "name": "stdout"
        }
      ]
    },
    {
      "cell_type": "markdown",
      "metadata": {
        "id": "0fQK7j5h5gB8",
        "colab_type": "text"
      },
      "source": [
        "Note that the minimum value of the rank_change column is now greater than -500."
      ]
    },
    {
      "cell_type": "markdown",
      "metadata": {
        "id": "23G1sj2Sh5WB",
        "colab_type": "text"
      },
      "source": [
        "**12. Challenge: Top Performers by Country**"
      ]
    },
    {
      "cell_type": "markdown",
      "metadata": {
        "id": "jSaWumozh5qR",
        "colab_type": "text"
      },
      "source": [
        "In this challenge, we'll calculate a specific statistic or attribute of each of the two most common countries from our f500 dataframe. \n",
        "\n",
        "Like the `DataFrame.head()` method, the `Series.head()` method returns the first five items from a series by default, or a different number if you provide an argument.\n",
        "\n",
        "\n",
        "\n",
        "1.   Create a series, `industry_usa`,  containing counts of the two most common values in the `industry` column for companies headquartered in the USA."
      ]
    },
    {
      "cell_type": "code",
      "metadata": {
        "id": "8K-RlK-vW_YB",
        "colab_type": "code",
        "colab": {
          "base_uri": "https://localhost:8080/",
          "height": 68
        },
        "outputId": "b2c5bf3c-a688-4d37-cc8c-57dfcfc928c3"
      },
      "source": [
        "# I first wrote the boolean to create the code \n",
        "# companies_USA_bool = f500[\"country\"] == \"USA\"\n",
        "\n",
        "industry_usa = f500.loc[f500[\"country\"] == \"USA\", \"industry\"].value_counts().head(2)\n",
        "\n",
        "print(industry_usa)"
      ],
      "execution_count": null,
      "outputs": [
        {
          "output_type": "stream",
          "text": [
            "Banks: Commercial and Savings               8\n",
            "Insurance: Property and Casualty (Stock)    7\n",
            "Name: industry, dtype: int64\n"
          ],
          "name": "stdout"
        }
      ]
    },
    {
      "cell_type": "markdown",
      "metadata": {
        "id": "Qb1FEK1fbyhB",
        "colab_type": "text"
      },
      "source": [
        "The shorthand way of writing the code above is:\n",
        "\n",
        "\n",
        "```\n",
        "industry_usa = f500[\"industry\"][f500[\"country\"] == \"USA\"].value_counts().head(2)\n",
        "```\n",
        "\n"
      ]
    },
    {
      "cell_type": "markdown",
      "metadata": {
        "id": "CXFY4VczaVvH",
        "colab_type": "text"
      },
      "source": [
        "2.   Create a series, `sector_china`, containing counts of the three most common values in the `sector` column for companies headquartered in the China."
      ]
    },
    {
      "cell_type": "code",
      "metadata": {
        "id": "TdYnBv2yaTOi",
        "colab_type": "code",
        "colab": {
          "base_uri": "https://localhost:8080/",
          "height": 68
        },
        "outputId": "10dbdf9a-c15c-4bbc-f4cb-af3abe4a8272"
      },
      "source": [
        "sector_china = f500.loc[f500[\"country\"] == \"China\", \"sector\"].value_counts().head(3)\n",
        "\n",
        "print(sector_china)"
      ],
      "execution_count": null,
      "outputs": [
        {
          "output_type": "stream",
          "text": [
            "Financials    25\n",
            "Energy        22\n",
            "Name: sector, dtype: int64\n"
          ],
          "name": "stdout"
        }
      ]
    },
    {
      "cell_type": "markdown",
      "metadata": {
        "id": "yOu14RV2aghU",
        "colab_type": "text"
      },
      "source": [
        "The shorthand way of writing the code above is:\n",
        "\n",
        "\n",
        "```\n",
        "sector_china = f500[\"sector\"][f500[\"country\"] == \"China\"].value_counts().head(3)\n",
        "```"
      ]
    },
    {
      "cell_type": "markdown",
      "metadata": {
        "id": "8OmzXfb9dYsv",
        "colab_type": "text"
      },
      "source": [
        "\n",
        "\n",
        "---\n"
      ]
    },
    {
      "cell_type": "markdown",
      "metadata": {
        "id": "2tOXGxKAdmaR",
        "colab_type": "text"
      },
      "source": [
        "In the next mission, we'll continue to learn about exploring data in pandas, including:\n",
        "\n",
        "* New ways of creating dataframe and series objects.\n",
        "* Advanced selection techniques.\n",
        "* Performing more complex analysis.\n"
      ]
    }
  ]
}